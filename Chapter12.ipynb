{
 "cells": [
  {
   "cell_type": "markdown",
   "metadata": {},
   "source": [
    "# 12.1 강화 학습이란"
   ]
  },
  {
   "cell_type": "markdown",
   "metadata": {},
   "source": [
    "# 12.2 Markov Decision Process"
   ]
  },
  {
   "cell_type": "markdown",
   "metadata": {},
   "source": [
    "## 12.2.1 Markov Process"
   ]
  },
  {
   "cell_type": "markdown",
   "metadata": {},
   "source": [
    "## 12.2.2 Markov Reward Process"
   ]
  },
  {
   "cell_type": "markdown",
   "metadata": {},
   "source": [
    "## 12.2.3 Markov Decision Process"
   ]
  },
  {
   "cell_type": "code",
   "execution_count": null,
   "metadata": {},
   "outputs": [],
   "source": [
    "# 1. Dynamic Programming\n",
    "# 2. Monte Carlo Method\n",
    "# 3. Temporal difference learning\n",
    "# 4. Function approximation learning"
   ]
  },
  {
   "cell_type": "markdown",
   "metadata": {},
   "source": [
    "# 12.3 Bellman Equation for MDP"
   ]
  },
  {
   "cell_type": "markdown",
   "metadata": {},
   "source": [
    "## 12.3.1 Bellman Expectation equation"
   ]
  },
  {
   "cell_type": "markdown",
   "metadata": {},
   "source": [
    "## 12.3.2 Bellman Optimality equation"
   ]
  },
  {
   "cell_type": "markdown",
   "metadata": {},
   "source": [
    "## 12.3.3 Dynamic Programming"
   ]
  },
  {
   "cell_type": "markdown",
   "metadata": {},
   "source": [
    "# 12.4 Q-Learning"
   ]
  },
  {
   "cell_type": "markdown",
   "metadata": {},
   "source": [
    "## 12.4.1 Q-Learning"
   ]
  },
  {
   "cell_type": "markdown",
   "metadata": {},
   "source": [
    "## 12.4.2 Deep Q-Learning"
   ]
  },
  {
   "cell_type": "code",
   "execution_count": null,
   "metadata": {},
   "outputs": [],
   "source": [
    "!pip install progressbar2\n",
    "!pip install gym"
   ]
  },
  {
   "cell_type": "code",
   "execution_count": 7,
   "metadata": {},
   "outputs": [],
   "source": [
    "# 라이브러리 호출\n",
    "\n",
    "import numpy as np\n",
    "import random\n",
    "from IPython.display import clear_output\n",
    "from collections import deque\n",
    "import gym\n",
    "from tensorflow.keras import Model, Sequential\n",
    "from tensorflow.keras.layers import Dense, Embedding, Reshape\n",
    "from tensorflow.keras.optimizers import Adam"
   ]
  },
  {
   "cell_type": "code",
   "execution_count": 18,
   "metadata": {},
   "outputs": [
    {
     "ename": "AttributeError",
     "evalue": "'TaxiEnv' object has no attribute 's'",
     "output_type": "error",
     "traceback": [
      "\u001b[0;31m---------------------------------------------------------------------------\u001b[0m",
      "\u001b[0;31mAttributeError\u001b[0m                            Traceback (most recent call last)",
      "\u001b[1;32m/Users/mini/TensorFlow/Chapter12.ipynb Cell 16'\u001b[0m in \u001b[0;36m<cell line: 4>\u001b[0;34m()\u001b[0m\n\u001b[1;32m      <a href='vscode-notebook-cell:/Users/mini/TensorFlow/Chapter12.ipynb#ch0000018?line=0'>1</a>\u001b[0m \u001b[39m# 'Taxi-v3'에 대한 환경\u001b[39;00m\n\u001b[1;32m      <a href='vscode-notebook-cell:/Users/mini/TensorFlow/Chapter12.ipynb#ch0000018?line=2'>3</a>\u001b[0m env \u001b[39m=\u001b[39m gym\u001b[39m.\u001b[39mmake(\u001b[39m\"\u001b[39m\u001b[39mTaxi-v3\u001b[39m\u001b[39m\"\u001b[39m)\n\u001b[0;32m----> <a href='vscode-notebook-cell:/Users/mini/TensorFlow/Chapter12.ipynb#ch0000018?line=3'>4</a>\u001b[0m env\u001b[39m.\u001b[39;49mrender()\n\u001b[1;32m      <a href='vscode-notebook-cell:/Users/mini/TensorFlow/Chapter12.ipynb#ch0000018?line=5'>6</a>\u001b[0m \u001b[39mprint\u001b[39m(\u001b[39m'\u001b[39m\u001b[39m취할 수 있는 상태 수: \u001b[39m\u001b[39m{}\u001b[39;00m\u001b[39m'\u001b[39m\u001b[39m.\u001b[39mformat(env\u001b[39m.\u001b[39mobservation_space\u001b[39m.\u001b[39mn))\n\u001b[1;32m      <a href='vscode-notebook-cell:/Users/mini/TensorFlow/Chapter12.ipynb#ch0000018?line=6'>7</a>\u001b[0m \u001b[39mprint\u001b[39m(\u001b[39m'\u001b[39m\u001b[39m취할 수 있는 행동 수: \u001b[39m\u001b[39m{}\u001b[39;00m\u001b[39m'\u001b[39m\u001b[39m.\u001b[39mformat(env\u001b[39m.\u001b[39maction_space\u001b[39m.\u001b[39mn))\n",
      "File \u001b[0;32m/opt/homebrew/Caskroom/miniforge/base/envs/tf3.8/lib/python3.8/site-packages/gym/core.py:286\u001b[0m, in \u001b[0;36mWrapper.render\u001b[0;34m(self, mode, **kwargs)\u001b[0m\n\u001b[1;32m    <a href='file:///opt/homebrew/Caskroom/miniforge/base/envs/tf3.8/lib/python3.8/site-packages/gym/core.py?line=284'>285</a>\u001b[0m \u001b[39mdef\u001b[39;00m \u001b[39mrender\u001b[39m(\u001b[39mself\u001b[39m, mode\u001b[39m=\u001b[39m\u001b[39m\"\u001b[39m\u001b[39mhuman\u001b[39m\u001b[39m\"\u001b[39m, \u001b[39m*\u001b[39m\u001b[39m*\u001b[39mkwargs):\n\u001b[0;32m--> <a href='file:///opt/homebrew/Caskroom/miniforge/base/envs/tf3.8/lib/python3.8/site-packages/gym/core.py?line=285'>286</a>\u001b[0m     \u001b[39mreturn\u001b[39;00m \u001b[39mself\u001b[39;49m\u001b[39m.\u001b[39;49menv\u001b[39m.\u001b[39;49mrender(mode, \u001b[39m*\u001b[39;49m\u001b[39m*\u001b[39;49mkwargs)\n",
      "File \u001b[0;32m/opt/homebrew/Caskroom/miniforge/base/envs/tf3.8/lib/python3.8/site-packages/gym/core.py:286\u001b[0m, in \u001b[0;36mWrapper.render\u001b[0;34m(self, mode, **kwargs)\u001b[0m\n\u001b[1;32m    <a href='file:///opt/homebrew/Caskroom/miniforge/base/envs/tf3.8/lib/python3.8/site-packages/gym/core.py?line=284'>285</a>\u001b[0m \u001b[39mdef\u001b[39;00m \u001b[39mrender\u001b[39m(\u001b[39mself\u001b[39m, mode\u001b[39m=\u001b[39m\u001b[39m\"\u001b[39m\u001b[39mhuman\u001b[39m\u001b[39m\"\u001b[39m, \u001b[39m*\u001b[39m\u001b[39m*\u001b[39mkwargs):\n\u001b[0;32m--> <a href='file:///opt/homebrew/Caskroom/miniforge/base/envs/tf3.8/lib/python3.8/site-packages/gym/core.py?line=285'>286</a>\u001b[0m     \u001b[39mreturn\u001b[39;00m \u001b[39mself\u001b[39;49m\u001b[39m.\u001b[39;49menv\u001b[39m.\u001b[39;49mrender(mode, \u001b[39m*\u001b[39;49m\u001b[39m*\u001b[39;49mkwargs)\n",
      "File \u001b[0;32m/opt/homebrew/Caskroom/miniforge/base/envs/tf3.8/lib/python3.8/site-packages/gym/envs/toy_text/taxi.py:222\u001b[0m, in \u001b[0;36mTaxiEnv.render\u001b[0;34m(self, mode)\u001b[0m\n\u001b[1;32m    <a href='file:///opt/homebrew/Caskroom/miniforge/base/envs/tf3.8/lib/python3.8/site-packages/gym/envs/toy_text/taxi.py?line=219'>220</a>\u001b[0m out \u001b[39m=\u001b[39m \u001b[39mself\u001b[39m\u001b[39m.\u001b[39mdesc\u001b[39m.\u001b[39mcopy()\u001b[39m.\u001b[39mtolist()\n\u001b[1;32m    <a href='file:///opt/homebrew/Caskroom/miniforge/base/envs/tf3.8/lib/python3.8/site-packages/gym/envs/toy_text/taxi.py?line=220'>221</a>\u001b[0m out \u001b[39m=\u001b[39m [[c\u001b[39m.\u001b[39mdecode(\u001b[39m\"\u001b[39m\u001b[39mutf-8\u001b[39m\u001b[39m\"\u001b[39m) \u001b[39mfor\u001b[39;00m c \u001b[39min\u001b[39;00m line] \u001b[39mfor\u001b[39;00m line \u001b[39min\u001b[39;00m out]\n\u001b[0;32m--> <a href='file:///opt/homebrew/Caskroom/miniforge/base/envs/tf3.8/lib/python3.8/site-packages/gym/envs/toy_text/taxi.py?line=221'>222</a>\u001b[0m taxi_row, taxi_col, pass_idx, dest_idx \u001b[39m=\u001b[39m \u001b[39mself\u001b[39m\u001b[39m.\u001b[39mdecode(\u001b[39mself\u001b[39;49m\u001b[39m.\u001b[39;49ms)\n\u001b[1;32m    <a href='file:///opt/homebrew/Caskroom/miniforge/base/envs/tf3.8/lib/python3.8/site-packages/gym/envs/toy_text/taxi.py?line=223'>224</a>\u001b[0m \u001b[39mdef\u001b[39;00m \u001b[39mul\u001b[39m(x):\n\u001b[1;32m    <a href='file:///opt/homebrew/Caskroom/miniforge/base/envs/tf3.8/lib/python3.8/site-packages/gym/envs/toy_text/taxi.py?line=224'>225</a>\u001b[0m     \u001b[39mreturn\u001b[39;00m \u001b[39m\"\u001b[39m\u001b[39m_\u001b[39m\u001b[39m\"\u001b[39m \u001b[39mif\u001b[39;00m x \u001b[39m==\u001b[39m \u001b[39m\"\u001b[39m\u001b[39m \u001b[39m\u001b[39m\"\u001b[39m \u001b[39melse\u001b[39;00m x\n",
      "\u001b[0;31mAttributeError\u001b[0m: 'TaxiEnv' object has no attribute 's'"
     ]
    }
   ],
   "source": [
    "# 'Taxi-v3'에 대한 환경\n",
    "\n",
    "env = gym.make(\"Taxi-v3\").env\n",
    "env.render()\n",
    "\n",
    "print('취할 수 있는 상태 수: {}'.format(env.observation_space.n))\n",
    "print('취할 수 있는 행동 수: {}'.format(env.action_space.n))"
   ]
  },
  {
   "cell_type": "code",
   "execution_count": null,
   "metadata": {},
   "outputs": [],
   "source": []
  },
  {
   "cell_type": "markdown",
   "metadata": {},
   "source": [
    "# 12.5 몬테카를로 트리 탐색"
   ]
  },
  {
   "cell_type": "markdown",
   "metadata": {},
   "source": [
    "## 12.5.1 몬테카를로 트리 탐색 원리"
   ]
  },
  {
   "cell_type": "markdown",
   "metadata": {},
   "source": [
    "## 12.5.2 몬테카를로 트리 검색을 적용한 틱택토 게임 구현"
   ]
  },
  {
   "cell_type": "code",
   "execution_count": 13,
   "metadata": {},
   "outputs": [],
   "source": [
    "# 보드 생성\n",
    "\n",
    "boarder = {'1': ' ', '2': ' ', '3': ' ', '4': ' ', '5': ' ', '6': ' ', '7': ' ', '8': ' ', '9': ' '}\n",
    "board_keys = []\n",
    "\n",
    "for key in boarder:\n",
    "    board_keys.append(key)"
   ]
  },
  {
   "cell_type": "code",
   "execution_count": 14,
   "metadata": {},
   "outputs": [],
   "source": [
    "# 화면 출력 함수 정의\n",
    "\n",
    "def visual_Board(board_num):\n",
    "    print(board_num['1'] + '|' + board_num['2'] + '|' + board_num['3'])\n",
    "    print('-+-+-')\n",
    "    print(board_num['4'] + '|' + board_num['5'] + '|' + board_num['6'])\n",
    "    print('-+-+-')\n",
    "    print(board_num['7'] + '|' + board_num['8'] + '|' + board_num['9'])"
   ]
  },
  {
   "cell_type": "code",
   "execution_count": 15,
   "metadata": {},
   "outputs": [
    {
     "name": "stdout",
     "output_type": "stream",
     "text": [
      " | | \n",
      "-+-+-\n",
      " | | \n",
      "-+-+-\n",
      " | | \n",
      "당신 차례입니다,X. 어디로 이동할까요?\n",
      " | |X\n",
      "-+-+-\n",
      " | | \n",
      "-+-+-\n",
      " | | \n",
      "당신 차례입니다,Y. 어디로 이동할까요?\n",
      "Y| |X\n",
      "-+-+-\n",
      " | | \n",
      "-+-+-\n",
      " | | \n",
      "당신 차례입니다,X. 어디로 이동할까요?\n",
      "Y| |X\n",
      "-+-+-\n",
      " |X| \n",
      "-+-+-\n",
      " | | \n",
      "당신 차례입니다,Y. 어디로 이동할까요?\n",
      "Y|Y|X\n",
      "-+-+-\n",
      " |X| \n",
      "-+-+-\n",
      " | | \n",
      "당신 차례입니다,X. 어디로 이동할까요?\n",
      "Y|Y|X\n",
      "-+-+-\n",
      " |X| \n",
      "-+-+-\n",
      "X| | \n",
      "게임 종료.\n",
      "\n",
      " ---------- X가 승리했습니다. ----------\n"
     ]
    }
   ],
   "source": [
    "# 보드 이동 함수 정의\n",
    "\n",
    "def game():\n",
    "    turn = 'X'\n",
    "    count = 0\n",
    "    for i in range(8):\n",
    "        visual_Board(boarder)\n",
    "        print('당신 차례입니다,' + turn + '. 어디로 이동할까요?')\n",
    "        move = input()\n",
    "        if boarder[move] == ' ':\n",
    "            boarder[move] = turn\n",
    "            count += 1\n",
    "        else:\n",
    "            print(\"이미 채워져 있습니다.\\n어디로이동할까요?\")\n",
    "            continue\n",
    "\n",
    "        if count >= 5:\n",
    "            if boarder['1'] == boarder['2'] == boarder['3'] != ' ':\n",
    "                visual_Board(boarder)\n",
    "                print('게임 종료.\\n')\n",
    "                print(' ---------- ' + turn + '가 승리했습니다. ----------')\n",
    "                break\n",
    "\n",
    "            elif boarder['4'] == boarder['5'] == boarder['6'] != ' ':\n",
    "                visual_Board(boarder)\n",
    "                print('게임 종료.\\n')\n",
    "                print(' ---------- ' + turn + '가 승리했습니다. ----------')\n",
    "                break\n",
    "\n",
    "            elif boarder['7'] == boarder['8'] == boarder['9'] != ' ':\n",
    "                visual_Board(boarder)\n",
    "                print('게임 종료.\\n')\n",
    "                print(' ---------- ' + turn + '가 승리했습니다. ----------')\n",
    "                break\n",
    "\n",
    "            elif boarder['1'] == boarder['4'] == boarder['7'] != ' ':\n",
    "                visual_Board(boarder)\n",
    "                print('게임 종료.\\n')\n",
    "                print(' ---------- ' + turn + '가 승리했습니다. ----------')\n",
    "                break\n",
    "\n",
    "            elif boarder['2'] == boarder['5'] == boarder['8'] != ' ':\n",
    "                visual_Board(boarder)\n",
    "                print('게임 종료.\\n')\n",
    "                print(' ---------- ' + turn + '가 승리했습니다. ----------')\n",
    "                break\n",
    "\n",
    "            elif boarder['3'] == boarder['6'] == boarder['9'] != ' ':\n",
    "                visual_Board(boarder)\n",
    "                print('게임 종료.\\n')\n",
    "                print(' ---------- ' + turn + '가 승리했습니다. ----------')\n",
    "                break\n",
    "\n",
    "            elif boarder['1'] == boarder['5'] == boarder['9'] != ' ':\n",
    "                visual_Board(boarder)\n",
    "                print('게임 종료.\\n')\n",
    "                print(' ---------- ' + turn + '가 승리했습니다. ----------')\n",
    "                break\n",
    "\n",
    "            elif boarder['3'] == boarder['5'] == boarder['7'] != ' ':\n",
    "                visual_Board(boarder)\n",
    "                print('게임 종료.\\n')\n",
    "                print(' ---------- ' + turn + '가 승리했습니다. ----------')\n",
    "                break\n",
    "\n",
    "        if count == 9:\n",
    "            print('게임 종료.\\n')\n",
    "            print(\"동점입니다.\")\n",
    "\n",
    "        if turn == 'X':\n",
    "            turn = 'Y'\n",
    "        else:\n",
    "            turn = 'X'\n",
    "\n",
    "if __name__ == \"__main__\":\n",
    "    game()"
   ]
  },
  {
   "cell_type": "code",
   "execution_count": null,
   "metadata": {},
   "outputs": [],
   "source": []
  }
 ],
 "metadata": {
  "interpreter": {
   "hash": "16ff67ac5b59543b0cabf8c01bdd6301311b1b38ea29649e2dcd267ea06ee271"
  },
  "kernelspec": {
   "display_name": "Python 3.8.13 ('tf3.8')",
   "language": "python",
   "name": "python3"
  },
  "language_info": {
   "codemirror_mode": {
    "name": "ipython",
    "version": 3
   },
   "file_extension": ".py",
   "mimetype": "text/x-python",
   "name": "python",
   "nbconvert_exporter": "python",
   "pygments_lexer": "ipython3",
   "version": "3.8.13"
  },
  "orig_nbformat": 4
 },
 "nbformat": 4,
 "nbformat_minor": 2
}
