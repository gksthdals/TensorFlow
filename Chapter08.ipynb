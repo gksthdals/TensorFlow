{
  "cells": [
    {
      "cell_type": "markdown",
      "id": "7a00ef3d",
      "metadata": {
        "id": "7a00ef3d"
      },
      "source": [
        "# 8.1 성능 최적화"
      ]
    },
    {
      "cell_type": "markdown",
      "id": "22c66903",
      "metadata": {
        "id": "22c66903"
      },
      "source": [
        "## 8.1.1 데이터를 사용한 성능 최적화"
      ]
    },
    {
      "cell_type": "code",
      "execution_count": 1,
      "id": "1b4943e0",
      "metadata": {
        "id": "1b4943e0"
      },
      "outputs": [],
      "source": [
        "# 최대한 많은 데이터 수집하기\n",
        "# 데이터 생성하기\n",
        "# 데이터 범위 조정하기"
      ]
    },
    {
      "cell_type": "markdown",
      "id": "b9842330",
      "metadata": {
        "id": "b9842330"
      },
      "source": [
        "## 8.1.2 알고리즘을 이용한 성능 최적화"
      ]
    },
    {
      "cell_type": "markdown",
      "id": "603b9fdc",
      "metadata": {
        "id": "603b9fdc"
      },
      "source": [
        "## 8.1.3 알고리즘 튜닝을 위한 성능 최적화"
      ]
    },
    {
      "cell_type": "code",
      "execution_count": 2,
      "id": "150f42f1",
      "metadata": {
        "id": "150f42f1"
      },
      "outputs": [],
      "source": [
        "# Diagnosis : 모델을 훈련시킬 때 성능 향상이 어느 순간 멈추었다면 원인을 분석해야 함\n",
        "# weights : 가중치에 대한 초깃값을 어떻게 정할 것인가?\n",
        "# learning rate\n",
        "# activation function\n",
        "# Batch & Epochs\n",
        "# Optimizer & loss function\n",
        "# Network Topology"
      ]
    },
    {
      "cell_type": "markdown",
      "id": "bf125ec4",
      "metadata": {
        "id": "bf125ec4"
      },
      "source": [
        "## 8.1.4 앙상블을 이용한 성능 최적화"
      ]
    },
    {
      "cell_type": "markdown",
      "id": "116f16db",
      "metadata": {
        "id": "116f16db"
      },
      "source": [
        "# 8.2 하드웨어를 이용한 성능 최적화"
      ]
    },
    {
      "cell_type": "markdown",
      "id": "2048df51",
      "metadata": {
        "id": "2048df51"
      },
      "source": [
        "## 8.2.1 CPU와 GPU 사용의 차이"
      ]
    },
    {
      "cell_type": "markdown",
      "id": "3e268a72",
      "metadata": {
        "id": "3e268a72"
      },
      "source": [
        "## 8.2.2 GPU를 이용한 성능 최적화"
      ]
    },
    {
      "cell_type": "markdown",
      "id": "0e5473ea",
      "metadata": {
        "id": "0e5473ea"
      },
      "source": [
        "# 8.3 Hyperparameter를 이용한 성능 최적화"
      ]
    },
    {
      "cell_type": "markdown",
      "id": "0d2a8ac0",
      "metadata": {
        "id": "0d2a8ac0"
      },
      "source": [
        "## 8.3.1 Batch Normalization을 이용한 성능 최적화"
      ]
    },
    {
      "cell_type": "code",
      "execution_count": 3,
      "id": "f514d33f",
      "metadata": {
        "id": "f514d33f"
      },
      "outputs": [],
      "source": [
        "# 정규화 : feature scaling -> MinMaxScaler() -> feature 값들을 0과 1 사이의 값으로 조정한다.\n",
        "# 규제화 : Dropout & Early Stopping\n",
        "# 표준화 : 기존 데이터의 평균을 0, 표준편차를 1로 만든다.\n",
        "# 배치 정규화 : "
      ]
    },
    {
      "cell_type": "code",
      "execution_count": 4,
      "id": "07037f9d",
      "metadata": {
        "id": "07037f9d"
      },
      "outputs": [],
      "source": [
        "# 라이브러리 호출 및 데이터셋 내려받기\n",
        "\n",
        "import tensorflow as tf\n",
        "import pandas as pd\n",
        "import numpy as np\n",
        "import matplotlib.pyplot as plt\n",
        "from sklearn.datasets import load_iris\n",
        "from sklearn.model_selection import train_test_split\n",
        "iris = load_iris()"
      ]
    },
    {
      "cell_type": "code",
      "execution_count": 5,
      "id": "e46949fd",
      "metadata": {
        "id": "e46949fd"
      },
      "outputs": [],
      "source": [
        "# 데이터프레임에 데이터셋 저장\n",
        "\n",
        "df = pd.DataFrame(iris.data, columns=iris.feature_names)\n",
        "df = df.astype(float)\n",
        "df['label'] = iris.target\n",
        "df['label'] = df.label.replace(dict(enumerate(iris.target_names)))"
      ]
    },
    {
      "cell_type": "code",
      "execution_count": 6,
      "id": "dc6b8564",
      "metadata": {
        "id": "dc6b8564"
      },
      "outputs": [],
      "source": [
        "# 원-핫 인코딩 적용\n",
        "\n",
        "label = pd.get_dummies(df['label'], prefix='label')\n",
        "df = pd.concat([df, label], axis=1)\n",
        "df.drop(['label'], axis=1, inplace=True)"
      ]
    },
    {
      "cell_type": "code",
      "execution_count": 7,
      "id": "2c39e4ae",
      "metadata": {
        "id": "2c39e4ae"
      },
      "outputs": [],
      "source": [
        "# 데이터셋 분류\n",
        "\n",
        "X = df[['sepal length (cm)', 'sepal width (cm)', 'petal length (cm)', 'petal width (cm)']]\n",
        "X = np.asarray(X)\n",
        "y = df[['label_setosa', 'label_versicolor', 'label_virginica']]\n",
        "y = np.asarray(y)"
      ]
    },
    {
      "cell_type": "code",
      "execution_count": 8,
      "id": "9e4f89ed",
      "metadata": {
        "id": "9e4f89ed"
      },
      "outputs": [],
      "source": [
        "# 데이터셋 분리\n",
        "\n",
        "X_train, X_test, y_train, y_test = train_test_split(\n",
        "    X,\n",
        "    y,\n",
        "    test_size=0.20\n",
        ")"
      ]
    },
    {
      "cell_type": "code",
      "execution_count": 9,
      "id": "ac88853f",
      "metadata": {
        "colab": {
          "base_uri": "https://localhost:8080/"
        },
        "id": "ac88853f",
        "outputId": "3301c344-f5f6-4a86-898d-ad84fa5d5bb1"
      },
      "outputs": [
        {
          "name": "stdout",
          "output_type": "stream",
          "text": [
            "Model: \"sequential\"\n",
            "_________________________________________________________________\n",
            " Layer (type)                Output Shape              Param #   \n",
            "=================================================================\n",
            " dense (Dense)               (None, 64)                320       \n",
            "                                                                 \n",
            " dense_1 (Dense)             (None, 128)               8320      \n",
            "                                                                 \n",
            " dense_2 (Dense)             (None, 128)               16512     \n",
            "                                                                 \n",
            " dense_3 (Dense)             (None, 64)                8256      \n",
            "                                                                 \n",
            " dense_4 (Dense)             (None, 64)                4160      \n",
            "                                                                 \n",
            " dense_5 (Dense)             (None, 3)                 195       \n",
            "                                                                 \n",
            "=================================================================\n",
            "Total params: 37,763\n",
            "Trainable params: 37,763\n",
            "Non-trainable params: 0\n",
            "_________________________________________________________________\n"
          ]
        }
      ],
      "source": [
        "# 배치 정규화가 적용되지 않은 모델 생성\n",
        "\n",
        "from tensorflow.keras.models import Sequential\n",
        "from tensorflow.keras.layers import Dense, BatchNormalization\n",
        "\n",
        "model1 = Sequential([\n",
        "    Dense(64, input_shape=(4,), activation='relu'),\n",
        "    Dense(128, activation='relu'),\n",
        "    Dense(128, activation='relu'),\n",
        "    Dense(64, activation='relu'),\n",
        "    Dense(64, activation='relu'),\n",
        "    Dense(3, activation='softmax')\n",
        "]);\n",
        "model1.summary()"
      ]
    },
    {
      "cell_type": "code",
      "execution_count": 10,
      "id": "440d5e10",
      "metadata": {
        "colab": {
          "base_uri": "https://localhost:8080/"
        },
        "id": "440d5e10",
        "outputId": "54ce1f47-46d9-4d0d-c8ba-cdbb9500cb0a"
      },
      "outputs": [
        {
          "name": "stdout",
          "output_type": "stream",
          "text": [
            "Epoch 1/1000\n",
            "3/3 - 6s - loss: 1.1212 - accuracy: 0.5444 - val_loss: 0.9461 - val_accuracy: 0.9667 - 6s/epoch - 2s/step\n",
            "Epoch 2/1000\n",
            "3/3 - 0s - loss: 0.9214 - accuracy: 0.8111 - val_loss: 0.8447 - val_accuracy: 0.6667 - 102ms/epoch - 34ms/step\n",
            "Epoch 3/1000\n",
            "3/3 - 0s - loss: 0.8090 - accuracy: 0.6889 - val_loss: 0.7405 - val_accuracy: 0.6667 - 141ms/epoch - 47ms/step\n",
            "Epoch 4/1000\n",
            "3/3 - 0s - loss: 0.7056 - accuracy: 0.6889 - val_loss: 0.6520 - val_accuracy: 0.6667 - 124ms/epoch - 41ms/step\n",
            "Epoch 5/1000\n",
            "3/3 - 0s - loss: 0.6059 - accuracy: 0.6889 - val_loss: 0.5664 - val_accuracy: 0.6667 - 87ms/epoch - 29ms/step\n",
            "Epoch 6/1000\n",
            "3/3 - 0s - loss: 0.5170 - accuracy: 0.6889 - val_loss: 0.4758 - val_accuracy: 0.7333 - 84ms/epoch - 28ms/step\n",
            "Epoch 7/1000\n",
            "3/3 - 0s - loss: 0.4399 - accuracy: 0.8667 - val_loss: 0.4145 - val_accuracy: 0.9667 - 138ms/epoch - 46ms/step\n",
            "Epoch 8/1000\n",
            "3/3 - 0s - loss: 0.3801 - accuracy: 0.9778 - val_loss: 0.3588 - val_accuracy: 0.9333 - 98ms/epoch - 33ms/step\n",
            "Epoch 9/1000\n",
            "3/3 - 0s - loss: 0.3272 - accuracy: 0.9444 - val_loss: 0.3080 - val_accuracy: 0.9333 - 79ms/epoch - 26ms/step\n",
            "Epoch 10/1000\n",
            "3/3 - 0s - loss: 0.2861 - accuracy: 0.9667 - val_loss: 0.2628 - val_accuracy: 0.9333 - 44ms/epoch - 15ms/step\n",
            "Epoch 11/1000\n",
            "3/3 - 0s - loss: 0.2483 - accuracy: 0.9667 - val_loss: 0.2244 - val_accuracy: 0.9667 - 56ms/epoch - 19ms/step\n",
            "Epoch 12/1000\n",
            "3/3 - 0s - loss: 0.2139 - accuracy: 0.9889 - val_loss: 0.1901 - val_accuracy: 0.9667 - 48ms/epoch - 16ms/step\n",
            "Epoch 13/1000\n",
            "3/3 - 0s - loss: 0.1900 - accuracy: 0.9778 - val_loss: 0.1656 - val_accuracy: 0.9667 - 69ms/epoch - 23ms/step\n",
            "Epoch 14/1000\n",
            "3/3 - 0s - loss: 0.1783 - accuracy: 0.9444 - val_loss: 0.1401 - val_accuracy: 0.9333 - 56ms/epoch - 19ms/step\n",
            "Epoch 15/1000\n",
            "3/3 - 0s - loss: 0.1639 - accuracy: 0.9556 - val_loss: 0.1210 - val_accuracy: 0.9667 - 57ms/epoch - 19ms/step\n",
            "Epoch 16/1000\n",
            "3/3 - 0s - loss: 0.1480 - accuracy: 0.9556 - val_loss: 0.1074 - val_accuracy: 0.9667 - 105ms/epoch - 35ms/step\n",
            "Epoch 17/1000\n",
            "3/3 - 0s - loss: 0.1182 - accuracy: 0.9778 - val_loss: 0.1253 - val_accuracy: 0.9333 - 118ms/epoch - 39ms/step\n",
            "Epoch 18/1000\n",
            "3/3 - 0s - loss: 0.1074 - accuracy: 0.9667 - val_loss: 0.1353 - val_accuracy: 0.9667 - 51ms/epoch - 17ms/step\n",
            "Epoch 19/1000\n",
            "3/3 - 0s - loss: 0.2556 - accuracy: 0.8667 - val_loss: 0.0903 - val_accuracy: 0.9667 - 50ms/epoch - 17ms/step\n",
            "Epoch 20/1000\n",
            "3/3 - 0s - loss: 0.1396 - accuracy: 0.9333 - val_loss: 0.2208 - val_accuracy: 0.9333 - 107ms/epoch - 36ms/step\n",
            "Epoch 21/1000\n",
            "3/3 - 0s - loss: 0.1590 - accuracy: 0.9333 - val_loss: 0.1214 - val_accuracy: 0.9667 - 61ms/epoch - 20ms/step\n",
            "Epoch 22/1000\n",
            "3/3 - 0s - loss: 0.1575 - accuracy: 0.9222 - val_loss: 0.1036 - val_accuracy: 0.9667 - 63ms/epoch - 21ms/step\n",
            "Epoch 23/1000\n",
            "3/3 - 0s - loss: 0.1160 - accuracy: 0.9667 - val_loss: 0.0919 - val_accuracy: 0.9667 - 66ms/epoch - 22ms/step\n",
            "Epoch 24/1000\n",
            "3/3 - 0s - loss: 0.0936 - accuracy: 0.9778 - val_loss: 0.1254 - val_accuracy: 0.9333 - 70ms/epoch - 23ms/step\n",
            "Epoch 25/1000\n",
            "3/3 - 0s - loss: 0.1125 - accuracy: 0.9556 - val_loss: 0.0977 - val_accuracy: 0.9333 - 80ms/epoch - 27ms/step\n",
            "Epoch 26/1000\n",
            "3/3 - 0s - loss: 0.0948 - accuracy: 0.9667 - val_loss: 0.0762 - val_accuracy: 0.9667 - 52ms/epoch - 17ms/step\n",
            "Epoch 27/1000\n",
            "3/3 - 0s - loss: 0.0875 - accuracy: 0.9667 - val_loss: 0.0793 - val_accuracy: 0.9667 - 101ms/epoch - 34ms/step\n",
            "Epoch 28/1000\n",
            "3/3 - 0s - loss: 0.0835 - accuracy: 0.9889 - val_loss: 0.0910 - val_accuracy: 0.9333 - 109ms/epoch - 36ms/step\n",
            "Epoch 29/1000\n",
            "3/3 - 0s - loss: 0.0907 - accuracy: 0.9778 - val_loss: 0.0895 - val_accuracy: 0.9667 - 55ms/epoch - 18ms/step\n",
            "Epoch 30/1000\n",
            "3/3 - 0s - loss: 0.0820 - accuracy: 0.9889 - val_loss: 0.0727 - val_accuracy: 0.9667 - 81ms/epoch - 27ms/step\n",
            "Epoch 31/1000\n",
            "3/3 - 0s - loss: 0.0869 - accuracy: 0.9556 - val_loss: 0.0747 - val_accuracy: 0.9667 - 81ms/epoch - 27ms/step\n",
            "Epoch 32/1000\n",
            "3/3 - 0s - loss: 0.1029 - accuracy: 0.9667 - val_loss: 0.1135 - val_accuracy: 0.9333 - 79ms/epoch - 26ms/step\n",
            "Epoch 33/1000\n",
            "3/3 - 0s - loss: 0.0900 - accuracy: 0.9778 - val_loss: 0.0802 - val_accuracy: 0.9667 - 73ms/epoch - 24ms/step\n",
            "Epoch 34/1000\n",
            "3/3 - 0s - loss: 0.1014 - accuracy: 0.9444 - val_loss: 0.0745 - val_accuracy: 0.9667 - 68ms/epoch - 23ms/step\n",
            "Epoch 35/1000\n",
            "3/3 - 0s - loss: 0.0937 - accuracy: 0.9667 - val_loss: 0.1359 - val_accuracy: 0.9333 - 85ms/epoch - 28ms/step\n",
            "Epoch 36/1000\n",
            "3/3 - 0s - loss: 0.0966 - accuracy: 0.9667 - val_loss: 0.0754 - val_accuracy: 0.9667 - 54ms/epoch - 18ms/step\n",
            "Epoch 37/1000\n",
            "3/3 - 0s - loss: 0.0772 - accuracy: 0.9667 - val_loss: 0.0733 - val_accuracy: 0.9667 - 111ms/epoch - 37ms/step\n",
            "Epoch 38/1000\n",
            "3/3 - 0s - loss: 0.0767 - accuracy: 0.9778 - val_loss: 0.0759 - val_accuracy: 0.9667 - 117ms/epoch - 39ms/step\n",
            "Epoch 39/1000\n",
            "3/3 - 0s - loss: 0.0715 - accuracy: 0.9889 - val_loss: 0.0737 - val_accuracy: 0.9333 - 120ms/epoch - 40ms/step\n",
            "Epoch 40/1000\n",
            "3/3 - 0s - loss: 0.0815 - accuracy: 0.9667 - val_loss: 0.0765 - val_accuracy: 0.9667 - 110ms/epoch - 37ms/step\n",
            "Epoch 41/1000\n",
            "3/3 - 0s - loss: 0.0839 - accuracy: 0.9556 - val_loss: 0.0759 - val_accuracy: 0.9667 - 83ms/epoch - 28ms/step\n",
            "Epoch 42/1000\n",
            "3/3 - 0s - loss: 0.0739 - accuracy: 0.9778 - val_loss: 0.0917 - val_accuracy: 0.9333 - 37ms/epoch - 12ms/step\n",
            "Epoch 43/1000\n",
            "3/3 - 0s - loss: 0.0731 - accuracy: 0.9778 - val_loss: 0.0775 - val_accuracy: 0.9667 - 32ms/epoch - 11ms/step\n",
            "Epoch 44/1000\n",
            "3/3 - 0s - loss: 0.0826 - accuracy: 0.9778 - val_loss: 0.0754 - val_accuracy: 0.9333 - 30ms/epoch - 10ms/step\n",
            "Epoch 45/1000\n",
            "3/3 - 0s - loss: 0.0761 - accuracy: 0.9667 - val_loss: 0.1136 - val_accuracy: 0.9333 - 36ms/epoch - 12ms/step\n",
            "Epoch 46/1000\n",
            "3/3 - 0s - loss: 0.0817 - accuracy: 0.9667 - val_loss: 0.1116 - val_accuracy: 0.9333 - 33ms/epoch - 11ms/step\n",
            "Epoch 47/1000\n",
            "3/3 - 0s - loss: 0.0768 - accuracy: 0.9889 - val_loss: 0.0772 - val_accuracy: 0.9667 - 30ms/epoch - 10ms/step\n",
            "Epoch 48/1000\n",
            "3/3 - 0s - loss: 0.0707 - accuracy: 0.9889 - val_loss: 0.0885 - val_accuracy: 0.9667 - 29ms/epoch - 10ms/step\n",
            "Epoch 49/1000\n",
            "3/3 - 0s - loss: 0.0704 - accuracy: 0.9889 - val_loss: 0.1098 - val_accuracy: 0.9333 - 48ms/epoch - 16ms/step\n",
            "Epoch 50/1000\n",
            "3/3 - 0s - loss: 0.0752 - accuracy: 0.9778 - val_loss: 0.0893 - val_accuracy: 0.9667 - 31ms/epoch - 10ms/step\n",
            "Epoch 51/1000\n",
            "3/3 - 0s - loss: 0.0697 - accuracy: 0.9889 - val_loss: 0.0879 - val_accuracy: 0.9667 - 31ms/epoch - 10ms/step\n",
            "Epoch 52/1000\n",
            "3/3 - 0s - loss: 0.0677 - accuracy: 0.9889 - val_loss: 0.1155 - val_accuracy: 0.9333 - 38ms/epoch - 13ms/step\n",
            "Epoch 53/1000\n",
            "3/3 - 0s - loss: 0.0965 - accuracy: 0.9667 - val_loss: 0.1315 - val_accuracy: 0.9333 - 36ms/epoch - 12ms/step\n",
            "Epoch 54/1000\n",
            "3/3 - 0s - loss: 0.0811 - accuracy: 0.9667 - val_loss: 0.0740 - val_accuracy: 0.9333 - 34ms/epoch - 11ms/step\n",
            "Epoch 55/1000\n",
            "3/3 - 0s - loss: 0.0870 - accuracy: 0.9556 - val_loss: 0.0814 - val_accuracy: 0.9667 - 39ms/epoch - 13ms/step\n",
            "Epoch 56/1000\n",
            "3/3 - 0s - loss: 0.0680 - accuracy: 0.9778 - val_loss: 0.1355 - val_accuracy: 0.9333 - 31ms/epoch - 10ms/step\n",
            "Epoch 57/1000\n",
            "3/3 - 0s - loss: 0.1163 - accuracy: 0.9556 - val_loss: 0.1199 - val_accuracy: 0.9333 - 35ms/epoch - 12ms/step\n",
            "Epoch 58/1000\n",
            "3/3 - 0s - loss: 0.0778 - accuracy: 0.9889 - val_loss: 0.1066 - val_accuracy: 0.9667 - 30ms/epoch - 10ms/step\n",
            "Epoch 59/1000\n",
            "3/3 - 0s - loss: 0.1119 - accuracy: 0.9556 - val_loss: 0.0686 - val_accuracy: 0.9333 - 51ms/epoch - 17ms/step\n",
            "Epoch 60/1000\n",
            "3/3 - 0s - loss: 0.0587 - accuracy: 0.9889 - val_loss: 0.1172 - val_accuracy: 0.9333 - 36ms/epoch - 12ms/step\n",
            "Epoch 61/1000\n",
            "3/3 - 0s - loss: 0.0931 - accuracy: 0.9667 - val_loss: 0.1155 - val_accuracy: 0.9333 - 53ms/epoch - 18ms/step\n",
            "Epoch 62/1000\n",
            "3/3 - 0s - loss: 0.0731 - accuracy: 0.9778 - val_loss: 0.0754 - val_accuracy: 0.9667 - 34ms/epoch - 11ms/step\n",
            "Epoch 63/1000\n",
            "3/3 - 0s - loss: 0.0846 - accuracy: 0.9556 - val_loss: 0.0722 - val_accuracy: 0.9667 - 31ms/epoch - 10ms/step\n",
            "Epoch 64/1000\n",
            "3/3 - 0s - loss: 0.0678 - accuracy: 0.9667 - val_loss: 0.1026 - val_accuracy: 0.9333 - 36ms/epoch - 12ms/step\n",
            "Epoch 65/1000\n",
            "3/3 - 0s - loss: 0.1010 - accuracy: 0.9667 - val_loss: 0.0913 - val_accuracy: 0.9333 - 32ms/epoch - 11ms/step\n",
            "Epoch 66/1000\n",
            "3/3 - 0s - loss: 0.0749 - accuracy: 0.9778 - val_loss: 0.1644 - val_accuracy: 0.9667 - 37ms/epoch - 12ms/step\n",
            "Epoch 67/1000\n",
            "3/3 - 0s - loss: 0.1561 - accuracy: 0.9333 - val_loss: 0.0820 - val_accuracy: 0.9667 - 38ms/epoch - 13ms/step\n",
            "Epoch 68/1000\n",
            "3/3 - 0s - loss: 0.0869 - accuracy: 0.9667 - val_loss: 0.2165 - val_accuracy: 0.9333 - 46ms/epoch - 15ms/step\n",
            "Epoch 69/1000\n",
            "3/3 - 0s - loss: 0.1741 - accuracy: 0.9333 - val_loss: 0.1273 - val_accuracy: 0.9333 - 40ms/epoch - 13ms/step\n",
            "Epoch 70/1000\n",
            "3/3 - 0s - loss: 0.0734 - accuracy: 0.9667 - val_loss: 0.1111 - val_accuracy: 0.9667 - 39ms/epoch - 13ms/step\n",
            "Epoch 71/1000\n",
            "3/3 - 0s - loss: 0.1250 - accuracy: 0.9556 - val_loss: 0.0886 - val_accuracy: 0.9667 - 38ms/epoch - 13ms/step\n",
            "Epoch 72/1000\n",
            "3/3 - 0s - loss: 0.0728 - accuracy: 0.9667 - val_loss: 0.1008 - val_accuracy: 0.9333 - 37ms/epoch - 12ms/step\n",
            "Epoch 73/1000\n",
            "3/3 - 0s - loss: 0.0829 - accuracy: 0.9778 - val_loss: 0.1552 - val_accuracy: 0.9333 - 39ms/epoch - 13ms/step\n",
            "Epoch 74/1000\n",
            "3/3 - 0s - loss: 0.1071 - accuracy: 0.9556 - val_loss: 0.0997 - val_accuracy: 0.9333 - 39ms/epoch - 13ms/step\n",
            "Epoch 75/1000\n",
            "3/3 - 0s - loss: 0.0769 - accuracy: 0.9667 - val_loss: 0.0679 - val_accuracy: 0.9667 - 45ms/epoch - 15ms/step\n",
            "Epoch 76/1000\n",
            "3/3 - 0s - loss: 0.0715 - accuracy: 0.9556 - val_loss: 0.0706 - val_accuracy: 0.9667 - 33ms/epoch - 11ms/step\n",
            "Epoch 77/1000\n",
            "3/3 - 0s - loss: 0.0660 - accuracy: 0.9889 - val_loss: 0.1146 - val_accuracy: 0.9333 - 32ms/epoch - 11ms/step\n",
            "Epoch 78/1000\n",
            "3/3 - 0s - loss: 0.0840 - accuracy: 0.9667 - val_loss: 0.1083 - val_accuracy: 0.9333 - 35ms/epoch - 12ms/step\n",
            "Epoch 79/1000\n",
            "3/3 - 0s - loss: 0.0721 - accuracy: 0.9778 - val_loss: 0.0668 - val_accuracy: 0.9667 - 45ms/epoch - 15ms/step\n",
            "Epoch 80/1000\n",
            "3/3 - 0s - loss: 0.0678 - accuracy: 0.9778 - val_loss: 0.0708 - val_accuracy: 0.9667 - 33ms/epoch - 11ms/step\n",
            "Epoch 81/1000\n",
            "3/3 - 0s - loss: 0.0689 - accuracy: 0.9667 - val_loss: 0.0968 - val_accuracy: 0.9333 - 32ms/epoch - 11ms/step\n",
            "Epoch 82/1000\n",
            "3/3 - 0s - loss: 0.0820 - accuracy: 0.9667 - val_loss: 0.1060 - val_accuracy: 0.9333 - 34ms/epoch - 11ms/step\n",
            "Epoch 83/1000\n",
            "3/3 - 0s - loss: 0.0805 - accuracy: 0.9667 - val_loss: 0.0755 - val_accuracy: 0.9667 - 31ms/epoch - 10ms/step\n",
            "Epoch 84/1000\n",
            "3/3 - 0s - loss: 0.0641 - accuracy: 0.9889 - val_loss: 0.0749 - val_accuracy: 0.9667 - 33ms/epoch - 11ms/step\n",
            "Epoch 85/1000\n",
            "3/3 - 0s - loss: 0.0639 - accuracy: 0.9889 - val_loss: 0.0852 - val_accuracy: 0.9667 - 39ms/epoch - 13ms/step\n",
            "Epoch 86/1000\n",
            "3/3 - 0s - loss: 0.0701 - accuracy: 0.9778 - val_loss: 0.1236 - val_accuracy: 0.9333 - 36ms/epoch - 12ms/step\n",
            "Epoch 87/1000\n",
            "3/3 - 0s - loss: 0.0771 - accuracy: 0.9778 - val_loss: 0.0976 - val_accuracy: 0.9333 - 37ms/epoch - 12ms/step\n",
            "Epoch 88/1000\n",
            "3/3 - 0s - loss: 0.0626 - accuracy: 0.9778 - val_loss: 0.0711 - val_accuracy: 0.9667 - 37ms/epoch - 12ms/step\n",
            "Epoch 89/1000\n",
            "3/3 - 0s - loss: 0.0651 - accuracy: 0.9778 - val_loss: 0.0698 - val_accuracy: 0.9667 - 37ms/epoch - 12ms/step\n",
            "Epoch 90/1000\n",
            "3/3 - 0s - loss: 0.0624 - accuracy: 0.9889 - val_loss: 0.0902 - val_accuracy: 0.9667 - 42ms/epoch - 14ms/step\n",
            "Epoch 91/1000\n",
            "3/3 - 0s - loss: 0.0644 - accuracy: 0.9778 - val_loss: 0.0793 - val_accuracy: 0.9667 - 33ms/epoch - 11ms/step\n",
            "Epoch 92/1000\n",
            "3/3 - 0s - loss: 0.0664 - accuracy: 0.9778 - val_loss: 0.0871 - val_accuracy: 0.9667 - 34ms/epoch - 11ms/step\n",
            "Epoch 93/1000\n",
            "3/3 - 0s - loss: 0.0870 - accuracy: 0.9556 - val_loss: 0.0705 - val_accuracy: 0.9667 - 37ms/epoch - 12ms/step\n",
            "Epoch 94/1000\n",
            "3/3 - 0s - loss: 0.0672 - accuracy: 0.9778 - val_loss: 0.1211 - val_accuracy: 0.9333 - 43ms/epoch - 14ms/step\n",
            "Epoch 95/1000\n",
            "3/3 - 0s - loss: 0.0720 - accuracy: 0.9778 - val_loss: 0.1025 - val_accuracy: 0.9333 - 44ms/epoch - 15ms/step\n",
            "Epoch 96/1000\n",
            "3/3 - 0s - loss: 0.0626 - accuracy: 0.9778 - val_loss: 0.0799 - val_accuracy: 0.9667 - 36ms/epoch - 12ms/step\n",
            "Epoch 97/1000\n",
            "3/3 - 0s - loss: 0.0600 - accuracy: 0.9889 - val_loss: 0.0890 - val_accuracy: 0.9667 - 36ms/epoch - 12ms/step\n",
            "Epoch 98/1000\n",
            "3/3 - 0s - loss: 0.0611 - accuracy: 0.9778 - val_loss: 0.1168 - val_accuracy: 0.9333 - 39ms/epoch - 13ms/step\n",
            "Epoch 99/1000\n",
            "3/3 - 0s - loss: 0.0678 - accuracy: 0.9778 - val_loss: 0.0893 - val_accuracy: 0.9667 - 40ms/epoch - 13ms/step\n",
            "Epoch 100/1000\n",
            "3/3 - 0s - loss: 0.0627 - accuracy: 0.9778 - val_loss: 0.0764 - val_accuracy: 0.9667 - 38ms/epoch - 13ms/step\n",
            "Epoch 101/1000\n",
            "3/3 - 0s - loss: 0.0749 - accuracy: 0.9778 - val_loss: 0.0842 - val_accuracy: 0.9667 - 38ms/epoch - 13ms/step\n",
            "Epoch 102/1000\n",
            "3/3 - 0s - loss: 0.0500 - accuracy: 0.9889 - val_loss: 0.1091 - val_accuracy: 0.9667 - 37ms/epoch - 12ms/step\n",
            "Epoch 103/1000\n",
            "3/3 - 0s - loss: 0.1046 - accuracy: 0.9556 - val_loss: 0.0731 - val_accuracy: 0.9333 - 45ms/epoch - 15ms/step\n",
            "Epoch 104/1000\n",
            "3/3 - 0s - loss: 0.0677 - accuracy: 0.9778 - val_loss: 0.1083 - val_accuracy: 0.9333 - 36ms/epoch - 12ms/step\n",
            "Epoch 105/1000\n",
            "3/3 - 0s - loss: 0.0666 - accuracy: 0.9778 - val_loss: 0.0935 - val_accuracy: 0.9333 - 35ms/epoch - 12ms/step\n",
            "Epoch 106/1000\n",
            "3/3 - 0s - loss: 0.0607 - accuracy: 0.9889 - val_loss: 0.0761 - val_accuracy: 0.9667 - 36ms/epoch - 12ms/step\n",
            "Epoch 107/1000\n",
            "3/3 - 0s - loss: 0.0600 - accuracy: 0.9889 - val_loss: 0.0757 - val_accuracy: 0.9667 - 34ms/epoch - 11ms/step\n",
            "Epoch 108/1000\n",
            "3/3 - 0s - loss: 0.0578 - accuracy: 0.9889 - val_loss: 0.0901 - val_accuracy: 0.9333 - 34ms/epoch - 11ms/step\n",
            "Epoch 109/1000\n",
            "3/3 - 0s - loss: 0.0568 - accuracy: 0.9889 - val_loss: 0.0940 - val_accuracy: 0.9333 - 32ms/epoch - 11ms/step\n",
            "Epoch 110/1000\n",
            "3/3 - 0s - loss: 0.0573 - accuracy: 0.9889 - val_loss: 0.0804 - val_accuracy: 0.9667 - 32ms/epoch - 11ms/step\n",
            "Epoch 111/1000\n",
            "3/3 - 0s - loss: 0.0585 - accuracy: 0.9889 - val_loss: 0.0854 - val_accuracy: 0.9667 - 35ms/epoch - 12ms/step\n",
            "Epoch 112/1000\n",
            "3/3 - 0s - loss: 0.0589 - accuracy: 0.9889 - val_loss: 0.0877 - val_accuracy: 0.9667 - 31ms/epoch - 10ms/step\n",
            "Epoch 113/1000\n",
            "3/3 - 0s - loss: 0.0628 - accuracy: 0.9889 - val_loss: 0.0815 - val_accuracy: 0.9667 - 29ms/epoch - 10ms/step\n",
            "Epoch 114/1000\n",
            "3/3 - 0s - loss: 0.0560 - accuracy: 0.9889 - val_loss: 0.1184 - val_accuracy: 0.9333 - 34ms/epoch - 11ms/step\n",
            "Epoch 115/1000\n",
            "3/3 - 0s - loss: 0.0748 - accuracy: 0.9667 - val_loss: 0.0927 - val_accuracy: 0.9333 - 52ms/epoch - 17ms/step\n",
            "Epoch 116/1000\n",
            "3/3 - 0s - loss: 0.0791 - accuracy: 0.9667 - val_loss: 0.0888 - val_accuracy: 0.9667 - 35ms/epoch - 12ms/step\n",
            "Epoch 117/1000\n",
            "3/3 - 0s - loss: 0.0875 - accuracy: 0.9556 - val_loss: 0.0925 - val_accuracy: 0.9333 - 37ms/epoch - 12ms/step\n",
            "Epoch 118/1000\n",
            "3/3 - 0s - loss: 0.0712 - accuracy: 0.9778 - val_loss: 0.1190 - val_accuracy: 0.9333 - 35ms/epoch - 12ms/step\n",
            "Epoch 119/1000\n",
            "3/3 - 0s - loss: 0.0870 - accuracy: 0.9667 - val_loss: 0.1151 - val_accuracy: 0.9333 - 33ms/epoch - 11ms/step\n",
            "Epoch 120/1000\n",
            "3/3 - 0s - loss: 0.0659 - accuracy: 0.9778 - val_loss: 0.0815 - val_accuracy: 0.9333 - 36ms/epoch - 12ms/step\n",
            "Epoch 121/1000\n",
            "3/3 - 0s - loss: 0.0800 - accuracy: 0.9556 - val_loss: 0.0848 - val_accuracy: 0.9333 - 53ms/epoch - 18ms/step\n",
            "Epoch 122/1000\n",
            "3/3 - 0s - loss: 0.0674 - accuracy: 0.9667 - val_loss: 0.0932 - val_accuracy: 0.9333 - 31ms/epoch - 10ms/step\n",
            "Epoch 123/1000\n",
            "3/3 - 0s - loss: 0.0589 - accuracy: 0.9889 - val_loss: 0.1221 - val_accuracy: 0.9333 - 50ms/epoch - 17ms/step\n",
            "Epoch 124/1000\n",
            "3/3 - 0s - loss: 0.0692 - accuracy: 0.9778 - val_loss: 0.1227 - val_accuracy: 0.9333 - 31ms/epoch - 10ms/step\n",
            "Epoch 125/1000\n",
            "3/3 - 0s - loss: 0.0618 - accuracy: 0.9778 - val_loss: 0.0877 - val_accuracy: 0.9667 - 50ms/epoch - 17ms/step\n",
            "Epoch 126/1000\n",
            "3/3 - 0s - loss: 0.0571 - accuracy: 0.9889 - val_loss: 0.0786 - val_accuracy: 0.9333 - 52ms/epoch - 17ms/step\n",
            "Epoch 127/1000\n",
            "3/3 - 0s - loss: 0.0600 - accuracy: 0.9778 - val_loss: 0.0998 - val_accuracy: 0.9333 - 40ms/epoch - 13ms/step\n",
            "Epoch 128/1000\n",
            "3/3 - 0s - loss: 0.0598 - accuracy: 0.9778 - val_loss: 0.1386 - val_accuracy: 0.9333 - 33ms/epoch - 11ms/step\n",
            "Epoch 129/1000\n",
            "3/3 - 0s - loss: 0.0690 - accuracy: 0.9778 - val_loss: 0.1147 - val_accuracy: 0.9333 - 34ms/epoch - 11ms/step\n",
            "Epoch 130/1000\n",
            "3/3 - 0s - loss: 0.0571 - accuracy: 0.9889 - val_loss: 0.0822 - val_accuracy: 0.9667 - 35ms/epoch - 12ms/step\n",
            "Epoch 131/1000\n",
            "3/3 - 0s - loss: 0.0577 - accuracy: 0.9889 - val_loss: 0.0854 - val_accuracy: 0.9667 - 37ms/epoch - 12ms/step\n",
            "Epoch 132/1000\n",
            "3/3 - 0s - loss: 0.0545 - accuracy: 0.9889 - val_loss: 0.1088 - val_accuracy: 0.9333 - 34ms/epoch - 11ms/step\n",
            "Epoch 133/1000\n",
            "3/3 - 0s - loss: 0.0661 - accuracy: 0.9778 - val_loss: 0.0939 - val_accuracy: 0.9333 - 47ms/epoch - 16ms/step\n",
            "Epoch 134/1000\n",
            "3/3 - 0s - loss: 0.0537 - accuracy: 0.9889 - val_loss: 0.0941 - val_accuracy: 0.9667 - 34ms/epoch - 11ms/step\n",
            "Epoch 135/1000\n",
            "3/3 - 0s - loss: 0.0885 - accuracy: 0.9556 - val_loss: 0.0813 - val_accuracy: 0.9333 - 32ms/epoch - 11ms/step\n",
            "Epoch 136/1000\n",
            "3/3 - 0s - loss: 0.0714 - accuracy: 0.9889 - val_loss: 0.1044 - val_accuracy: 0.9333 - 33ms/epoch - 11ms/step\n",
            "Epoch 137/1000\n",
            "3/3 - 0s - loss: 0.0658 - accuracy: 0.9778 - val_loss: 0.0925 - val_accuracy: 0.9333 - 40ms/epoch - 13ms/step\n",
            "Epoch 138/1000\n",
            "3/3 - 0s - loss: 0.0610 - accuracy: 0.9889 - val_loss: 0.0813 - val_accuracy: 0.9333 - 32ms/epoch - 11ms/step\n",
            "Epoch 139/1000\n",
            "3/3 - 0s - loss: 0.0666 - accuracy: 0.9889 - val_loss: 0.0808 - val_accuracy: 0.9667 - 32ms/epoch - 11ms/step\n",
            "Epoch 140/1000\n",
            "3/3 - 0s - loss: 0.0655 - accuracy: 0.9667 - val_loss: 0.0804 - val_accuracy: 0.9667 - 34ms/epoch - 11ms/step\n",
            "Epoch 141/1000\n",
            "3/3 - 0s - loss: 0.0594 - accuracy: 0.9889 - val_loss: 0.1018 - val_accuracy: 0.9333 - 46ms/epoch - 15ms/step\n",
            "Epoch 142/1000\n",
            "3/3 - 0s - loss: 0.0558 - accuracy: 0.9889 - val_loss: 0.0876 - val_accuracy: 0.9667 - 35ms/epoch - 12ms/step\n",
            "Epoch 143/1000\n",
            "3/3 - 0s - loss: 0.0619 - accuracy: 0.9667 - val_loss: 0.0827 - val_accuracy: 0.9333 - 32ms/epoch - 11ms/step\n",
            "Epoch 144/1000\n",
            "3/3 - 0s - loss: 0.0692 - accuracy: 0.9556 - val_loss: 0.1111 - val_accuracy: 0.9333 - 37ms/epoch - 12ms/step\n",
            "Epoch 145/1000\n",
            "3/3 - 0s - loss: 0.0639 - accuracy: 0.9778 - val_loss: 0.1352 - val_accuracy: 0.9333 - 45ms/epoch - 15ms/step\n",
            "Epoch 146/1000\n",
            "3/3 - 0s - loss: 0.0579 - accuracy: 0.9889 - val_loss: 0.0912 - val_accuracy: 0.9667 - 32ms/epoch - 11ms/step\n",
            "Epoch 147/1000\n",
            "3/3 - 0s - loss: 0.0532 - accuracy: 0.9889 - val_loss: 0.0971 - val_accuracy: 0.9333 - 31ms/epoch - 10ms/step\n",
            "Epoch 148/1000\n",
            "3/3 - 0s - loss: 0.0518 - accuracy: 0.9889 - val_loss: 0.1011 - val_accuracy: 0.9333 - 36ms/epoch - 12ms/step\n",
            "Epoch 149/1000\n",
            "3/3 - 0s - loss: 0.0526 - accuracy: 0.9889 - val_loss: 0.0853 - val_accuracy: 0.9667 - 35ms/epoch - 12ms/step\n",
            "Epoch 150/1000\n",
            "3/3 - 0s - loss: 0.0680 - accuracy: 0.9667 - val_loss: 0.0937 - val_accuracy: 0.9333 - 33ms/epoch - 11ms/step\n",
            "Epoch 151/1000\n",
            "3/3 - 0s - loss: 0.0629 - accuracy: 0.9778 - val_loss: 0.1431 - val_accuracy: 0.9333 - 32ms/epoch - 11ms/step\n",
            "Epoch 152/1000\n",
            "3/3 - 0s - loss: 0.0800 - accuracy: 0.9667 - val_loss: 0.1055 - val_accuracy: 0.9333 - 44ms/epoch - 15ms/step\n",
            "Epoch 153/1000\n",
            "3/3 - 0s - loss: 0.0618 - accuracy: 0.9778 - val_loss: 0.0825 - val_accuracy: 0.9333 - 37ms/epoch - 12ms/step\n",
            "Epoch 154/1000\n",
            "3/3 - 0s - loss: 0.0611 - accuracy: 0.9778 - val_loss: 0.0984 - val_accuracy: 0.9333 - 40ms/epoch - 13ms/step\n",
            "Epoch 155/1000\n",
            "3/3 - 0s - loss: 0.0610 - accuracy: 0.9889 - val_loss: 0.1457 - val_accuracy: 0.9333 - 39ms/epoch - 13ms/step\n",
            "Epoch 156/1000\n",
            "3/3 - 0s - loss: 0.0653 - accuracy: 0.9778 - val_loss: 0.1116 - val_accuracy: 0.9333 - 37ms/epoch - 12ms/step\n",
            "Epoch 157/1000\n",
            "3/3 - 0s - loss: 0.0559 - accuracy: 0.9889 - val_loss: 0.0917 - val_accuracy: 0.9333 - 39ms/epoch - 13ms/step\n",
            "Epoch 158/1000\n",
            "3/3 - 0s - loss: 0.0648 - accuracy: 0.9667 - val_loss: 0.1079 - val_accuracy: 0.9333 - 51ms/epoch - 17ms/step\n",
            "Epoch 159/1000\n",
            "3/3 - 0s - loss: 0.0526 - accuracy: 0.9889 - val_loss: 0.1369 - val_accuracy: 0.9333 - 43ms/epoch - 14ms/step\n",
            "Epoch 160/1000\n",
            "3/3 - 0s - loss: 0.0618 - accuracy: 0.9778 - val_loss: 0.1294 - val_accuracy: 0.9333 - 53ms/epoch - 18ms/step\n",
            "Epoch 161/1000\n",
            "3/3 - 0s - loss: 0.0538 - accuracy: 0.9889 - val_loss: 0.1008 - val_accuracy: 0.9333 - 38ms/epoch - 13ms/step\n",
            "Epoch 162/1000\n",
            "3/3 - 0s - loss: 0.0529 - accuracy: 0.9889 - val_loss: 0.0952 - val_accuracy: 0.9333 - 40ms/epoch - 13ms/step\n",
            "Epoch 163/1000\n",
            "3/3 - 0s - loss: 0.0554 - accuracy: 0.9889 - val_loss: 0.1296 - val_accuracy: 0.9333 - 34ms/epoch - 11ms/step\n",
            "Epoch 164/1000\n",
            "3/3 - 0s - loss: 0.0643 - accuracy: 0.9778 - val_loss: 0.1737 - val_accuracy: 0.9333 - 35ms/epoch - 12ms/step\n",
            "Epoch 165/1000\n",
            "3/3 - 0s - loss: 0.0871 - accuracy: 0.9667 - val_loss: 0.1163 - val_accuracy: 0.9333 - 33ms/epoch - 11ms/step\n",
            "Epoch 166/1000\n",
            "3/3 - 0s - loss: 0.0668 - accuracy: 0.9778 - val_loss: 0.2174 - val_accuracy: 0.9667 - 31ms/epoch - 10ms/step\n",
            "Epoch 167/1000\n",
            "3/3 - 0s - loss: 0.1912 - accuracy: 0.9333 - val_loss: 0.0895 - val_accuracy: 0.9333 - 33ms/epoch - 11ms/step\n",
            "Epoch 168/1000\n",
            "3/3 - 0s - loss: 0.0517 - accuracy: 0.9889 - val_loss: 0.1368 - val_accuracy: 0.9333 - 33ms/epoch - 11ms/step\n",
            "Epoch 169/1000\n",
            "3/3 - 0s - loss: 0.0874 - accuracy: 0.9667 - val_loss: 0.1350 - val_accuracy: 0.9333 - 36ms/epoch - 12ms/step\n",
            "Epoch 170/1000\n",
            "3/3 - 0s - loss: 0.0702 - accuracy: 0.9778 - val_loss: 0.0847 - val_accuracy: 0.9667 - 32ms/epoch - 11ms/step\n",
            "Epoch 171/1000\n",
            "3/3 - 0s - loss: 0.0646 - accuracy: 0.9889 - val_loss: 0.1165 - val_accuracy: 0.9667 - 33ms/epoch - 11ms/step\n",
            "Epoch 172/1000\n",
            "3/3 - 0s - loss: 0.0976 - accuracy: 0.9556 - val_loss: 0.0861 - val_accuracy: 0.9333 - 36ms/epoch - 12ms/step\n",
            "Epoch 173/1000\n",
            "3/3 - 0s - loss: 0.0601 - accuracy: 0.9778 - val_loss: 0.1412 - val_accuracy: 0.9333 - 32ms/epoch - 11ms/step\n",
            "Epoch 174/1000\n",
            "3/3 - 0s - loss: 0.0867 - accuracy: 0.9667 - val_loss: 0.1425 - val_accuracy: 0.9333 - 38ms/epoch - 13ms/step\n",
            "Epoch 175/1000\n",
            "3/3 - 0s - loss: 0.0676 - accuracy: 0.9778 - val_loss: 0.0852 - val_accuracy: 0.9333 - 41ms/epoch - 14ms/step\n",
            "Epoch 176/1000\n",
            "3/3 - 0s - loss: 0.0593 - accuracy: 0.9889 - val_loss: 0.0922 - val_accuracy: 0.9667 - 31ms/epoch - 10ms/step\n",
            "Epoch 177/1000\n",
            "3/3 - 0s - loss: 0.0764 - accuracy: 0.9556 - val_loss: 0.0883 - val_accuracy: 0.9333 - 35ms/epoch - 12ms/step\n",
            "Epoch 178/1000\n",
            "3/3 - 0s - loss: 0.0521 - accuracy: 0.9889 - val_loss: 0.1271 - val_accuracy: 0.9333 - 35ms/epoch - 12ms/step\n",
            "Epoch 179/1000\n",
            "3/3 - 0s - loss: 0.0673 - accuracy: 0.9778 - val_loss: 0.1441 - val_accuracy: 0.9333 - 55ms/epoch - 18ms/step\n",
            "Epoch 180/1000\n",
            "3/3 - 0s - loss: 0.0693 - accuracy: 0.9778 - val_loss: 0.1222 - val_accuracy: 0.9333 - 35ms/epoch - 12ms/step\n",
            "Epoch 181/1000\n",
            "3/3 - 0s - loss: 0.0547 - accuracy: 0.9778 - val_loss: 0.0877 - val_accuracy: 0.9667 - 34ms/epoch - 11ms/step\n",
            "Epoch 182/1000\n",
            "3/3 - 0s - loss: 0.0608 - accuracy: 0.9778 - val_loss: 0.0862 - val_accuracy: 0.9333 - 38ms/epoch - 13ms/step\n",
            "Epoch 183/1000\n",
            "3/3 - 0s - loss: 0.0570 - accuracy: 0.9889 - val_loss: 0.1111 - val_accuracy: 0.9333 - 39ms/epoch - 13ms/step\n",
            "Epoch 184/1000\n",
            "3/3 - 0s - loss: 0.0571 - accuracy: 0.9778 - val_loss: 0.1235 - val_accuracy: 0.9333 - 36ms/epoch - 12ms/step\n",
            "Epoch 185/1000\n",
            "3/3 - 0s - loss: 0.0557 - accuracy: 0.9889 - val_loss: 0.1098 - val_accuracy: 0.9333 - 31ms/epoch - 10ms/step\n",
            "Epoch 186/1000\n",
            "3/3 - 0s - loss: 0.0516 - accuracy: 0.9889 - val_loss: 0.0957 - val_accuracy: 0.9333 - 31ms/epoch - 10ms/step\n",
            "Epoch 187/1000\n",
            "3/3 - 0s - loss: 0.0506 - accuracy: 0.9889 - val_loss: 0.0988 - val_accuracy: 0.9333 - 31ms/epoch - 10ms/step\n",
            "Epoch 188/1000\n",
            "3/3 - 0s - loss: 0.0536 - accuracy: 0.9889 - val_loss: 0.1036 - val_accuracy: 0.9333 - 31ms/epoch - 10ms/step\n",
            "Epoch 189/1000\n",
            "3/3 - 0s - loss: 0.0502 - accuracy: 0.9889 - val_loss: 0.0946 - val_accuracy: 0.9333 - 33ms/epoch - 11ms/step\n",
            "Epoch 190/1000\n",
            "3/3 - 0s - loss: 0.0556 - accuracy: 0.9889 - val_loss: 0.1218 - val_accuracy: 0.9333 - 30ms/epoch - 10ms/step\n",
            "Epoch 191/1000\n",
            "3/3 - 0s - loss: 0.0513 - accuracy: 0.9889 - val_loss: 0.1398 - val_accuracy: 0.9333 - 30ms/epoch - 10ms/step\n",
            "Epoch 192/1000\n",
            "3/3 - 0s - loss: 0.0564 - accuracy: 0.9778 - val_loss: 0.1329 - val_accuracy: 0.9333 - 49ms/epoch - 16ms/step\n",
            "Epoch 193/1000\n",
            "3/3 - 0s - loss: 0.0521 - accuracy: 0.9889 - val_loss: 0.1313 - val_accuracy: 0.9333 - 30ms/epoch - 10ms/step\n",
            "Epoch 194/1000\n",
            "3/3 - 0s - loss: 0.0504 - accuracy: 0.9889 - val_loss: 0.1155 - val_accuracy: 0.9333 - 32ms/epoch - 11ms/step\n",
            "Epoch 195/1000\n",
            "3/3 - 0s - loss: 0.0526 - accuracy: 0.9889 - val_loss: 0.1129 - val_accuracy: 0.9333 - 29ms/epoch - 10ms/step\n",
            "Epoch 196/1000\n",
            "3/3 - 0s - loss: 0.0591 - accuracy: 0.9778 - val_loss: 0.0952 - val_accuracy: 0.9333 - 31ms/epoch - 10ms/step\n",
            "Epoch 197/1000\n",
            "3/3 - 0s - loss: 0.0584 - accuracy: 0.9778 - val_loss: 0.1114 - val_accuracy: 0.9333 - 32ms/epoch - 11ms/step\n",
            "Epoch 198/1000\n",
            "3/3 - 0s - loss: 0.0509 - accuracy: 0.9889 - val_loss: 0.1042 - val_accuracy: 0.9333 - 30ms/epoch - 10ms/step\n",
            "Epoch 199/1000\n",
            "3/3 - 0s - loss: 0.0495 - accuracy: 0.9889 - val_loss: 0.0935 - val_accuracy: 0.9333 - 51ms/epoch - 17ms/step\n",
            "Epoch 200/1000\n",
            "3/3 - 0s - loss: 0.0521 - accuracy: 0.9889 - val_loss: 0.1124 - val_accuracy: 0.9333 - 56ms/epoch - 19ms/step\n",
            "Epoch 201/1000\n",
            "3/3 - 0s - loss: 0.0550 - accuracy: 0.9889 - val_loss: 0.1319 - val_accuracy: 0.9333 - 32ms/epoch - 11ms/step\n",
            "Epoch 202/1000\n",
            "3/3 - 0s - loss: 0.0577 - accuracy: 0.9778 - val_loss: 0.0996 - val_accuracy: 0.9333 - 38ms/epoch - 13ms/step\n",
            "Epoch 203/1000\n",
            "3/3 - 0s - loss: 0.0491 - accuracy: 0.9889 - val_loss: 0.0928 - val_accuracy: 0.9333 - 34ms/epoch - 11ms/step\n",
            "Epoch 204/1000\n",
            "3/3 - 0s - loss: 0.0549 - accuracy: 0.9778 - val_loss: 0.1013 - val_accuracy: 0.9333 - 30ms/epoch - 10ms/step\n",
            "Epoch 205/1000\n",
            "3/3 - 0s - loss: 0.0493 - accuracy: 0.9889 - val_loss: 0.1295 - val_accuracy: 0.9333 - 54ms/epoch - 18ms/step\n",
            "Epoch 206/1000\n",
            "3/3 - 0s - loss: 0.0561 - accuracy: 0.9778 - val_loss: 0.1332 - val_accuracy: 0.9333 - 34ms/epoch - 11ms/step\n",
            "Epoch 207/1000\n",
            "3/3 - 0s - loss: 0.0531 - accuracy: 0.9889 - val_loss: 0.1164 - val_accuracy: 0.9333 - 33ms/epoch - 11ms/step\n",
            "Epoch 208/1000\n",
            "3/3 - 0s - loss: 0.0491 - accuracy: 0.9889 - val_loss: 0.1253 - val_accuracy: 0.9333 - 39ms/epoch - 13ms/step\n",
            "Epoch 209/1000\n",
            "3/3 - 0s - loss: 0.0472 - accuracy: 0.9889 - val_loss: 0.1485 - val_accuracy: 0.9333 - 43ms/epoch - 14ms/step\n",
            "Epoch 210/1000\n",
            "3/3 - 0s - loss: 0.0526 - accuracy: 0.9889 - val_loss: 0.1455 - val_accuracy: 0.9333 - 36ms/epoch - 12ms/step\n",
            "Epoch 211/1000\n",
            "3/3 - 0s - loss: 0.0494 - accuracy: 0.9889 - val_loss: 0.1183 - val_accuracy: 0.9333 - 33ms/epoch - 11ms/step\n",
            "Epoch 212/1000\n",
            "3/3 - 0s - loss: 0.0500 - accuracy: 0.9889 - val_loss: 0.1165 - val_accuracy: 0.9333 - 30ms/epoch - 10ms/step\n",
            "Epoch 213/1000\n",
            "3/3 - 0s - loss: 0.0539 - accuracy: 0.9778 - val_loss: 0.1241 - val_accuracy: 0.9333 - 31ms/epoch - 10ms/step\n",
            "Epoch 214/1000\n",
            "3/3 - 0s - loss: 0.0478 - accuracy: 0.9889 - val_loss: 0.1407 - val_accuracy: 0.9333 - 30ms/epoch - 10ms/step\n",
            "Epoch 215/1000\n",
            "3/3 - 0s - loss: 0.0499 - accuracy: 0.9889 - val_loss: 0.1385 - val_accuracy: 0.9333 - 30ms/epoch - 10ms/step\n",
            "Epoch 216/1000\n",
            "3/3 - 0s - loss: 0.0494 - accuracy: 0.9889 - val_loss: 0.1213 - val_accuracy: 0.9333 - 32ms/epoch - 11ms/step\n",
            "Epoch 217/1000\n",
            "3/3 - 0s - loss: 0.0495 - accuracy: 0.9889 - val_loss: 0.1108 - val_accuracy: 0.9333 - 32ms/epoch - 11ms/step\n",
            "Epoch 218/1000\n",
            "3/3 - 0s - loss: 0.0466 - accuracy: 0.9889 - val_loss: 0.1313 - val_accuracy: 0.9333 - 32ms/epoch - 11ms/step\n",
            "Epoch 219/1000\n",
            "3/3 - 0s - loss: 0.0587 - accuracy: 0.9778 - val_loss: 0.1364 - val_accuracy: 0.9333 - 35ms/epoch - 12ms/step\n",
            "Epoch 220/1000\n",
            "3/3 - 0s - loss: 0.0648 - accuracy: 0.9778 - val_loss: 0.1298 - val_accuracy: 0.9333 - 34ms/epoch - 11ms/step\n",
            "Epoch 221/1000\n",
            "3/3 - 0s - loss: 0.0583 - accuracy: 0.9778 - val_loss: 0.1092 - val_accuracy: 0.9333 - 34ms/epoch - 11ms/step\n",
            "Epoch 222/1000\n",
            "3/3 - 0s - loss: 0.0536 - accuracy: 0.9889 - val_loss: 0.1006 - val_accuracy: 0.9333 - 35ms/epoch - 12ms/step\n",
            "Epoch 223/1000\n",
            "3/3 - 0s - loss: 0.0486 - accuracy: 0.9889 - val_loss: 0.1277 - val_accuracy: 0.9333 - 37ms/epoch - 12ms/step\n",
            "Epoch 224/1000\n",
            "3/3 - 0s - loss: 0.0562 - accuracy: 0.9778 - val_loss: 0.1436 - val_accuracy: 0.9333 - 33ms/epoch - 11ms/step\n",
            "Epoch 225/1000\n",
            "3/3 - 0s - loss: 0.0524 - accuracy: 0.9889 - val_loss: 0.1315 - val_accuracy: 0.9333 - 37ms/epoch - 12ms/step\n",
            "Epoch 226/1000\n",
            "3/3 - 0s - loss: 0.0495 - accuracy: 0.9889 - val_loss: 0.1162 - val_accuracy: 0.9333 - 47ms/epoch - 16ms/step\n",
            "Epoch 227/1000\n",
            "3/3 - 0s - loss: 0.0520 - accuracy: 0.9889 - val_loss: 0.1459 - val_accuracy: 0.9333 - 36ms/epoch - 12ms/step\n",
            "Epoch 228/1000\n",
            "3/3 - 0s - loss: 0.0492 - accuracy: 0.9889 - val_loss: 0.1634 - val_accuracy: 0.9333 - 34ms/epoch - 11ms/step\n",
            "Epoch 229/1000\n",
            "3/3 - 0s - loss: 0.0589 - accuracy: 0.9778 - val_loss: 0.1461 - val_accuracy: 0.9333 - 33ms/epoch - 11ms/step\n",
            "Epoch 230/1000\n",
            "3/3 - 0s - loss: 0.0407 - accuracy: 0.9889 - val_loss: 0.1371 - val_accuracy: 0.9667 - 35ms/epoch - 12ms/step\n",
            "Epoch 231/1000\n",
            "3/3 - 0s - loss: 0.1324 - accuracy: 0.9556 - val_loss: 0.1015 - val_accuracy: 0.9333 - 37ms/epoch - 12ms/step\n",
            "Epoch 232/1000\n",
            "3/3 - 0s - loss: 0.0506 - accuracy: 0.9889 - val_loss: 0.1285 - val_accuracy: 0.9333 - 32ms/epoch - 11ms/step\n",
            "Epoch 233/1000\n",
            "3/3 - 0s - loss: 0.0655 - accuracy: 0.9778 - val_loss: 0.1301 - val_accuracy: 0.9333 - 36ms/epoch - 12ms/step\n",
            "Epoch 234/1000\n",
            "3/3 - 0s - loss: 0.0621 - accuracy: 0.9778 - val_loss: 0.0948 - val_accuracy: 0.9333 - 54ms/epoch - 18ms/step\n",
            "Epoch 235/1000\n",
            "3/3 - 0s - loss: 0.0560 - accuracy: 0.9778 - val_loss: 0.0941 - val_accuracy: 0.9333 - 35ms/epoch - 12ms/step\n",
            "Epoch 236/1000\n",
            "3/3 - 0s - loss: 0.0547 - accuracy: 0.9889 - val_loss: 0.1191 - val_accuracy: 0.9333 - 34ms/epoch - 11ms/step\n",
            "Epoch 237/1000\n",
            "3/3 - 0s - loss: 0.0506 - accuracy: 0.9889 - val_loss: 0.1523 - val_accuracy: 0.9333 - 53ms/epoch - 18ms/step\n",
            "Epoch 238/1000\n",
            "3/3 - 0s - loss: 0.0658 - accuracy: 0.9778 - val_loss: 0.1547 - val_accuracy: 0.9333 - 39ms/epoch - 13ms/step\n",
            "Epoch 239/1000\n",
            "3/3 - 0s - loss: 0.0588 - accuracy: 0.9778 - val_loss: 0.1114 - val_accuracy: 0.9333 - 45ms/epoch - 15ms/step\n",
            "Epoch 240/1000\n",
            "3/3 - 0s - loss: 0.0558 - accuracy: 0.9778 - val_loss: 0.1182 - val_accuracy: 0.9333 - 37ms/epoch - 12ms/step\n",
            "Epoch 241/1000\n",
            "3/3 - 0s - loss: 0.0459 - accuracy: 0.9889 - val_loss: 0.1498 - val_accuracy: 0.9333 - 37ms/epoch - 12ms/step\n",
            "Epoch 242/1000\n",
            "3/3 - 0s - loss: 0.0583 - accuracy: 0.9778 - val_loss: 0.1639 - val_accuracy: 0.9333 - 32ms/epoch - 11ms/step\n",
            "Epoch 243/1000\n",
            "3/3 - 0s - loss: 0.0566 - accuracy: 0.9778 - val_loss: 0.1240 - val_accuracy: 0.9333 - 37ms/epoch - 12ms/step\n",
            "Epoch 244/1000\n",
            "3/3 - 0s - loss: 0.0834 - accuracy: 0.9667 - val_loss: 0.1279 - val_accuracy: 0.9667 - 39ms/epoch - 13ms/step\n",
            "Epoch 245/1000\n",
            "3/3 - 0s - loss: 0.0921 - accuracy: 0.9556 - val_loss: 0.1461 - val_accuracy: 0.9333 - 35ms/epoch - 12ms/step\n",
            "Epoch 246/1000\n",
            "3/3 - 0s - loss: 0.0531 - accuracy: 0.9778 - val_loss: 0.1490 - val_accuracy: 0.9333 - 32ms/epoch - 11ms/step\n",
            "Epoch 247/1000\n",
            "3/3 - 0s - loss: 0.0582 - accuracy: 0.9778 - val_loss: 0.1260 - val_accuracy: 0.9333 - 35ms/epoch - 12ms/step\n",
            "Epoch 248/1000\n",
            "3/3 - 0s - loss: 0.0490 - accuracy: 0.9889 - val_loss: 0.1083 - val_accuracy: 0.9333 - 31ms/epoch - 10ms/step\n",
            "Epoch 249/1000\n",
            "3/3 - 0s - loss: 0.0500 - accuracy: 0.9889 - val_loss: 0.1064 - val_accuracy: 0.9333 - 51ms/epoch - 17ms/step\n",
            "Epoch 250/1000\n",
            "3/3 - 0s - loss: 0.0504 - accuracy: 0.9889 - val_loss: 0.1071 - val_accuracy: 0.9333 - 37ms/epoch - 12ms/step\n",
            "Epoch 251/1000\n",
            "3/3 - 0s - loss: 0.0517 - accuracy: 0.9889 - val_loss: 0.1068 - val_accuracy: 0.9333 - 31ms/epoch - 10ms/step\n",
            "Epoch 252/1000\n",
            "3/3 - 0s - loss: 0.0503 - accuracy: 0.9889 - val_loss: 0.1163 - val_accuracy: 0.9333 - 33ms/epoch - 11ms/step\n",
            "Epoch 253/1000\n",
            "3/3 - 0s - loss: 0.0482 - accuracy: 0.9889 - val_loss: 0.1338 - val_accuracy: 0.9333 - 32ms/epoch - 11ms/step\n",
            "Epoch 254/1000\n",
            "3/3 - 0s - loss: 0.0535 - accuracy: 0.9778 - val_loss: 0.1477 - val_accuracy: 0.9333 - 35ms/epoch - 12ms/step\n",
            "Epoch 255/1000\n",
            "3/3 - 0s - loss: 0.0488 - accuracy: 0.9889 - val_loss: 0.1385 - val_accuracy: 0.9333 - 32ms/epoch - 11ms/step\n",
            "Epoch 256/1000\n",
            "3/3 - 0s - loss: 0.0505 - accuracy: 0.9889 - val_loss: 0.1450 - val_accuracy: 0.9333 - 35ms/epoch - 12ms/step\n",
            "Epoch 257/1000\n",
            "3/3 - 0s - loss: 0.0475 - accuracy: 0.9889 - val_loss: 0.1492 - val_accuracy: 0.9333 - 30ms/epoch - 10ms/step\n",
            "Epoch 258/1000\n",
            "3/3 - 0s - loss: 0.0475 - accuracy: 0.9889 - val_loss: 0.1400 - val_accuracy: 0.9333 - 30ms/epoch - 10ms/step\n",
            "Epoch 259/1000\n",
            "3/3 - 0s - loss: 0.0470 - accuracy: 0.9889 - val_loss: 0.1319 - val_accuracy: 0.9333 - 34ms/epoch - 11ms/step\n",
            "Epoch 260/1000\n",
            "3/3 - 0s - loss: 0.0459 - accuracy: 0.9889 - val_loss: 0.1297 - val_accuracy: 0.9333 - 34ms/epoch - 11ms/step\n",
            "Epoch 261/1000\n",
            "3/3 - 0s - loss: 0.0476 - accuracy: 0.9889 - val_loss: 0.1394 - val_accuracy: 0.9333 - 40ms/epoch - 13ms/step\n",
            "Epoch 262/1000\n",
            "3/3 - 0s - loss: 0.0484 - accuracy: 0.9889 - val_loss: 0.1847 - val_accuracy: 0.9333 - 42ms/epoch - 14ms/step\n",
            "Epoch 263/1000\n",
            "3/3 - 0s - loss: 0.0715 - accuracy: 0.9778 - val_loss: 0.1790 - val_accuracy: 0.9333 - 38ms/epoch - 13ms/step\n",
            "Epoch 264/1000\n",
            "3/3 - 0s - loss: 0.0628 - accuracy: 0.9778 - val_loss: 0.1359 - val_accuracy: 0.9333 - 37ms/epoch - 12ms/step\n",
            "Epoch 265/1000\n",
            "3/3 - 0s - loss: 0.0469 - accuracy: 0.9889 - val_loss: 0.1226 - val_accuracy: 0.9333 - 39ms/epoch - 13ms/step\n",
            "Epoch 266/1000\n",
            "3/3 - 0s - loss: 0.0544 - accuracy: 0.9778 - val_loss: 0.1365 - val_accuracy: 0.9333 - 33ms/epoch - 11ms/step\n",
            "Epoch 267/1000\n",
            "3/3 - 0s - loss: 0.0459 - accuracy: 0.9889 - val_loss: 0.1621 - val_accuracy: 0.9333 - 34ms/epoch - 11ms/step\n",
            "Epoch 268/1000\n",
            "3/3 - 0s - loss: 0.0529 - accuracy: 0.9778 - val_loss: 0.1657 - val_accuracy: 0.9333 - 34ms/epoch - 11ms/step\n",
            "Epoch 269/1000\n",
            "3/3 - 0s - loss: 0.0501 - accuracy: 0.9889 - val_loss: 0.1439 - val_accuracy: 0.9333 - 30ms/epoch - 10ms/step\n",
            "Epoch 270/1000\n",
            "3/3 - 0s - loss: 0.0456 - accuracy: 0.9889 - val_loss: 0.1318 - val_accuracy: 0.9333 - 42ms/epoch - 14ms/step\n",
            "Epoch 271/1000\n",
            "3/3 - 0s - loss: 0.0513 - accuracy: 0.9889 - val_loss: 0.1352 - val_accuracy: 0.9333 - 40ms/epoch - 13ms/step\n",
            "Epoch 272/1000\n",
            "3/3 - 0s - loss: 0.0461 - accuracy: 0.9889 - val_loss: 0.1224 - val_accuracy: 0.9333 - 43ms/epoch - 14ms/step\n",
            "Epoch 273/1000\n",
            "3/3 - 0s - loss: 0.0477 - accuracy: 0.9889 - val_loss: 0.1163 - val_accuracy: 0.9333 - 38ms/epoch - 13ms/step\n",
            "Epoch 274/1000\n",
            "3/3 - 0s - loss: 0.0458 - accuracy: 0.9889 - val_loss: 0.1221 - val_accuracy: 0.9333 - 50ms/epoch - 17ms/step\n",
            "Epoch 275/1000\n",
            "3/3 - 0s - loss: 0.0471 - accuracy: 0.9889 - val_loss: 0.1223 - val_accuracy: 0.9333 - 38ms/epoch - 13ms/step\n",
            "Epoch 276/1000\n",
            "3/3 - 0s - loss: 0.0471 - accuracy: 0.9889 - val_loss: 0.1221 - val_accuracy: 0.9333 - 44ms/epoch - 15ms/step\n",
            "Epoch 277/1000\n",
            "3/3 - 0s - loss: 0.0451 - accuracy: 0.9889 - val_loss: 0.1221 - val_accuracy: 0.9333 - 37ms/epoch - 12ms/step\n",
            "Epoch 278/1000\n",
            "3/3 - 0s - loss: 0.0466 - accuracy: 0.9889 - val_loss: 0.1288 - val_accuracy: 0.9333 - 37ms/epoch - 12ms/step\n",
            "Epoch 279/1000\n",
            "3/3 - 0s - loss: 0.0461 - accuracy: 0.9889 - val_loss: 0.1338 - val_accuracy: 0.9333 - 37ms/epoch - 12ms/step\n",
            "Epoch 280/1000\n",
            "3/3 - 0s - loss: 0.0424 - accuracy: 0.9889 - val_loss: 0.1183 - val_accuracy: 0.9333 - 39ms/epoch - 13ms/step\n",
            "Epoch 281/1000\n",
            "3/3 - 0s - loss: 0.0523 - accuracy: 0.9778 - val_loss: 0.1128 - val_accuracy: 0.9333 - 34ms/epoch - 11ms/step\n",
            "Epoch 282/1000\n",
            "3/3 - 0s - loss: 0.0438 - accuracy: 0.9889 - val_loss: 0.1436 - val_accuracy: 0.9333 - 38ms/epoch - 13ms/step\n",
            "Epoch 283/1000\n",
            "3/3 - 0s - loss: 0.0630 - accuracy: 0.9778 - val_loss: 0.1631 - val_accuracy: 0.9333 - 36ms/epoch - 12ms/step\n",
            "Epoch 284/1000\n",
            "3/3 - 0s - loss: 0.0715 - accuracy: 0.9778 - val_loss: 0.1250 - val_accuracy: 0.9333 - 33ms/epoch - 11ms/step\n",
            "Epoch 285/1000\n",
            "3/3 - 0s - loss: 0.0556 - accuracy: 0.9889 - val_loss: 0.1034 - val_accuracy: 0.9333 - 35ms/epoch - 12ms/step\n",
            "Epoch 286/1000\n",
            "3/3 - 0s - loss: 0.0482 - accuracy: 0.9889 - val_loss: 0.1315 - val_accuracy: 0.9333 - 35ms/epoch - 12ms/step\n",
            "Epoch 287/1000\n",
            "3/3 - 0s - loss: 0.0572 - accuracy: 0.9778 - val_loss: 0.1527 - val_accuracy: 0.9333 - 33ms/epoch - 11ms/step\n",
            "Epoch 288/1000\n",
            "3/3 - 0s - loss: 0.0627 - accuracy: 0.9778 - val_loss: 0.1447 - val_accuracy: 0.9333 - 37ms/epoch - 12ms/step\n",
            "Epoch 289/1000\n",
            "3/3 - 0s - loss: 0.0505 - accuracy: 0.9778 - val_loss: 0.1213 - val_accuracy: 0.9333 - 53ms/epoch - 18ms/step\n",
            "Epoch 290/1000\n",
            "3/3 - 0s - loss: 0.0573 - accuracy: 0.9667 - val_loss: 0.1218 - val_accuracy: 0.9000 - 36ms/epoch - 12ms/step\n",
            "Epoch 291/1000\n",
            "3/3 - 0s - loss: 0.0584 - accuracy: 0.9667 - val_loss: 0.1374 - val_accuracy: 0.9333 - 39ms/epoch - 13ms/step\n",
            "Epoch 292/1000\n",
            "3/3 - 0s - loss: 0.0616 - accuracy: 0.9778 - val_loss: 0.1662 - val_accuracy: 0.9333 - 37ms/epoch - 12ms/step\n",
            "Epoch 293/1000\n",
            "3/3 - 0s - loss: 0.0688 - accuracy: 0.9778 - val_loss: 0.1435 - val_accuracy: 0.9333 - 53ms/epoch - 18ms/step\n",
            "Epoch 294/1000\n",
            "3/3 - 0s - loss: 0.0559 - accuracy: 0.9778 - val_loss: 0.1120 - val_accuracy: 0.9333 - 34ms/epoch - 11ms/step\n",
            "Epoch 295/1000\n",
            "3/3 - 0s - loss: 0.0501 - accuracy: 0.9889 - val_loss: 0.1125 - val_accuracy: 0.9333 - 34ms/epoch - 11ms/step\n",
            "Epoch 296/1000\n",
            "3/3 - 0s - loss: 0.0465 - accuracy: 0.9889 - val_loss: 0.1109 - val_accuracy: 0.9333 - 59ms/epoch - 20ms/step\n",
            "Epoch 297/1000\n",
            "3/3 - 0s - loss: 0.0452 - accuracy: 0.9889 - val_loss: 0.1224 - val_accuracy: 0.9333 - 39ms/epoch - 13ms/step\n",
            "Epoch 298/1000\n",
            "3/3 - 0s - loss: 0.0459 - accuracy: 0.9889 - val_loss: 0.1294 - val_accuracy: 0.9333 - 41ms/epoch - 14ms/step\n",
            "Epoch 299/1000\n",
            "3/3 - 0s - loss: 0.0461 - accuracy: 0.9889 - val_loss: 0.1271 - val_accuracy: 0.9333 - 36ms/epoch - 12ms/step\n",
            "Epoch 300/1000\n",
            "3/3 - 0s - loss: 0.0437 - accuracy: 0.9889 - val_loss: 0.1294 - val_accuracy: 0.9333 - 34ms/epoch - 11ms/step\n",
            "Epoch 301/1000\n",
            "3/3 - 0s - loss: 0.0456 - accuracy: 0.9889 - val_loss: 0.1298 - val_accuracy: 0.9333 - 53ms/epoch - 18ms/step\n",
            "Epoch 302/1000\n",
            "3/3 - 0s - loss: 0.0471 - accuracy: 0.9889 - val_loss: 0.1212 - val_accuracy: 0.9333 - 41ms/epoch - 14ms/step\n",
            "Epoch 303/1000\n",
            "3/3 - 0s - loss: 0.0455 - accuracy: 0.9889 - val_loss: 0.1219 - val_accuracy: 0.9333 - 39ms/epoch - 13ms/step\n",
            "Epoch 304/1000\n",
            "3/3 - 0s - loss: 0.0457 - accuracy: 0.9889 - val_loss: 0.1109 - val_accuracy: 0.9333 - 36ms/epoch - 12ms/step\n",
            "Epoch 305/1000\n",
            "3/3 - 0s - loss: 0.0475 - accuracy: 0.9889 - val_loss: 0.1142 - val_accuracy: 0.9333 - 39ms/epoch - 13ms/step\n",
            "Epoch 306/1000\n",
            "3/3 - 0s - loss: 0.0466 - accuracy: 0.9889 - val_loss: 0.1222 - val_accuracy: 0.9333 - 34ms/epoch - 11ms/step\n",
            "Epoch 307/1000\n",
            "3/3 - 0s - loss: 0.0440 - accuracy: 0.9889 - val_loss: 0.1297 - val_accuracy: 0.9333 - 33ms/epoch - 11ms/step\n",
            "Epoch 308/1000\n",
            "3/3 - 0s - loss: 0.0426 - accuracy: 0.9889 - val_loss: 0.1384 - val_accuracy: 0.9333 - 30ms/epoch - 10ms/step\n",
            "Epoch 309/1000\n",
            "3/3 - 0s - loss: 0.0488 - accuracy: 0.9889 - val_loss: 0.1570 - val_accuracy: 0.9333 - 32ms/epoch - 11ms/step\n",
            "Epoch 310/1000\n",
            "3/3 - 0s - loss: 0.0419 - accuracy: 0.9889 - val_loss: 0.2023 - val_accuracy: 0.9333 - 32ms/epoch - 11ms/step\n",
            "Epoch 311/1000\n",
            "3/3 - 0s - loss: 0.0706 - accuracy: 0.9778 - val_loss: 0.1942 - val_accuracy: 0.9333 - 31ms/epoch - 10ms/step\n",
            "Epoch 312/1000\n",
            "3/3 - 0s - loss: 0.0600 - accuracy: 0.9778 - val_loss: 0.1493 - val_accuracy: 0.9333 - 39ms/epoch - 13ms/step\n",
            "Epoch 313/1000\n",
            "3/3 - 0s - loss: 0.0503 - accuracy: 0.9889 - val_loss: 0.1427 - val_accuracy: 0.9333 - 31ms/epoch - 10ms/step\n",
            "Epoch 314/1000\n",
            "3/3 - 0s - loss: 0.0607 - accuracy: 0.9778 - val_loss: 0.1384 - val_accuracy: 0.9333 - 51ms/epoch - 17ms/step\n",
            "Epoch 315/1000\n",
            "3/3 - 0s - loss: 0.0466 - accuracy: 0.9889 - val_loss: 0.1377 - val_accuracy: 0.9333 - 32ms/epoch - 11ms/step\n",
            "Epoch 316/1000\n",
            "3/3 - 0s - loss: 0.0516 - accuracy: 0.9778 - val_loss: 0.1222 - val_accuracy: 0.9333 - 53ms/epoch - 18ms/step\n",
            "Epoch 317/1000\n",
            "3/3 - 0s - loss: 0.0475 - accuracy: 0.9889 - val_loss: 0.1144 - val_accuracy: 0.9333 - 32ms/epoch - 11ms/step\n",
            "Epoch 318/1000\n",
            "3/3 - 0s - loss: 0.0450 - accuracy: 0.9889 - val_loss: 0.1219 - val_accuracy: 0.9333 - 34ms/epoch - 11ms/step\n",
            "Epoch 319/1000\n",
            "3/3 - 0s - loss: 0.0468 - accuracy: 0.9889 - val_loss: 0.1272 - val_accuracy: 0.9333 - 29ms/epoch - 10ms/step\n",
            "Epoch 320/1000\n",
            "3/3 - 0s - loss: 0.0451 - accuracy: 0.9889 - val_loss: 0.1323 - val_accuracy: 0.9000 - 31ms/epoch - 10ms/step\n",
            "Epoch 321/1000\n",
            "3/3 - 0s - loss: 0.0557 - accuracy: 0.9778 - val_loss: 0.1393 - val_accuracy: 0.9333 - 41ms/epoch - 14ms/step\n",
            "Epoch 322/1000\n",
            "3/3 - 0s - loss: 0.0532 - accuracy: 0.9778 - val_loss: 0.1331 - val_accuracy: 0.9333 - 30ms/epoch - 10ms/step\n",
            "Epoch 323/1000\n",
            "3/3 - 0s - loss: 0.0725 - accuracy: 0.9778 - val_loss: 0.1375 - val_accuracy: 0.9333 - 27ms/epoch - 9ms/step\n",
            "Epoch 324/1000\n",
            "3/3 - 0s - loss: 0.0676 - accuracy: 0.9667 - val_loss: 0.2192 - val_accuracy: 0.9333 - 35ms/epoch - 12ms/step\n",
            "Epoch 325/1000\n",
            "3/3 - 0s - loss: 0.1317 - accuracy: 0.9444 - val_loss: 0.1597 - val_accuracy: 0.9333 - 32ms/epoch - 11ms/step\n",
            "Epoch 326/1000\n",
            "3/3 - 0s - loss: 0.0459 - accuracy: 0.9889 - val_loss: 0.1018 - val_accuracy: 0.9333 - 35ms/epoch - 12ms/step\n",
            "Epoch 327/1000\n",
            "3/3 - 0s - loss: 0.0849 - accuracy: 0.9556 - val_loss: 0.1286 - val_accuracy: 0.9333 - 30ms/epoch - 10ms/step\n",
            "Epoch 328/1000\n",
            "3/3 - 0s - loss: 0.0707 - accuracy: 0.9778 - val_loss: 0.2284 - val_accuracy: 0.9333 - 49ms/epoch - 16ms/step\n",
            "Epoch 329/1000\n",
            "3/3 - 0s - loss: 0.1854 - accuracy: 0.9111 - val_loss: 0.1595 - val_accuracy: 0.9333 - 30ms/epoch - 10ms/step\n",
            "Epoch 330/1000\n",
            "3/3 - 0s - loss: 0.0808 - accuracy: 0.9556 - val_loss: 0.1041 - val_accuracy: 0.9333 - 30ms/epoch - 10ms/step\n",
            "Epoch 331/1000\n",
            "3/3 - 0s - loss: 0.0766 - accuracy: 0.9778 - val_loss: 0.1320 - val_accuracy: 0.9667 - 32ms/epoch - 11ms/step\n",
            "Epoch 332/1000\n",
            "3/3 - 0s - loss: 0.0961 - accuracy: 0.9556 - val_loss: 0.1033 - val_accuracy: 0.9333 - 33ms/epoch - 11ms/step\n",
            "Epoch 333/1000\n",
            "3/3 - 0s - loss: 0.0535 - accuracy: 0.9778 - val_loss: 0.1733 - val_accuracy: 0.9333 - 30ms/epoch - 10ms/step\n",
            "Epoch 334/1000\n",
            "3/3 - 0s - loss: 0.0934 - accuracy: 0.9667 - val_loss: 0.1769 - val_accuracy: 0.9333 - 30ms/epoch - 10ms/step\n",
            "Epoch 335/1000\n",
            "3/3 - 0s - loss: 0.0701 - accuracy: 0.9778 - val_loss: 0.1201 - val_accuracy: 0.9333 - 28ms/epoch - 9ms/step\n",
            "Epoch 336/1000\n",
            "3/3 - 0s - loss: 0.0667 - accuracy: 0.9667 - val_loss: 0.1278 - val_accuracy: 0.9333 - 32ms/epoch - 11ms/step\n",
            "Epoch 337/1000\n",
            "3/3 - 0s - loss: 0.0744 - accuracy: 0.9778 - val_loss: 0.2320 - val_accuracy: 0.9333 - 28ms/epoch - 9ms/step\n",
            "Epoch 338/1000\n",
            "3/3 - 0s - loss: 0.1585 - accuracy: 0.9222 - val_loss: 0.1751 - val_accuracy: 0.9333 - 32ms/epoch - 11ms/step\n",
            "Epoch 339/1000\n",
            "3/3 - 0s - loss: 0.0781 - accuracy: 0.9667 - val_loss: 0.0966 - val_accuracy: 0.9333 - 29ms/epoch - 10ms/step\n",
            "Epoch 340/1000\n",
            "3/3 - 0s - loss: 0.0555 - accuracy: 0.9889 - val_loss: 0.0846 - val_accuracy: 0.9667 - 35ms/epoch - 12ms/step\n",
            "Epoch 341/1000\n",
            "3/3 - 0s - loss: 0.0705 - accuracy: 0.9667 - val_loss: 0.0854 - val_accuracy: 0.9333 - 29ms/epoch - 10ms/step\n",
            "Epoch 342/1000\n",
            "3/3 - 0s - loss: 0.0585 - accuracy: 0.9889 - val_loss: 0.1045 - val_accuracy: 0.9333 - 32ms/epoch - 11ms/step\n",
            "Epoch 343/1000\n",
            "3/3 - 0s - loss: 0.0546 - accuracy: 0.9778 - val_loss: 0.1239 - val_accuracy: 0.9333 - 32ms/epoch - 11ms/step\n",
            "Epoch 344/1000\n",
            "3/3 - 0s - loss: 0.0645 - accuracy: 0.9778 - val_loss: 0.1411 - val_accuracy: 0.9333 - 33ms/epoch - 11ms/step\n",
            "Epoch 345/1000\n",
            "3/3 - 0s - loss: 0.0642 - accuracy: 0.9778 - val_loss: 0.1343 - val_accuracy: 0.9333 - 52ms/epoch - 17ms/step\n",
            "Epoch 346/1000\n",
            "3/3 - 0s - loss: 0.0610 - accuracy: 0.9778 - val_loss: 0.1159 - val_accuracy: 0.9333 - 31ms/epoch - 10ms/step\n",
            "Epoch 347/1000\n",
            "3/3 - 0s - loss: 0.0535 - accuracy: 0.9889 - val_loss: 0.0940 - val_accuracy: 0.9333 - 49ms/epoch - 16ms/step\n",
            "Epoch 348/1000\n",
            "3/3 - 0s - loss: 0.0519 - accuracy: 0.9889 - val_loss: 0.1029 - val_accuracy: 0.9333 - 31ms/epoch - 10ms/step\n",
            "Epoch 349/1000\n",
            "3/3 - 0s - loss: 0.0458 - accuracy: 0.9889 - val_loss: 0.1395 - val_accuracy: 0.9333 - 33ms/epoch - 11ms/step\n",
            "Epoch 350/1000\n",
            "3/3 - 0s - loss: 0.0541 - accuracy: 0.9778 - val_loss: 0.1582 - val_accuracy: 0.9333 - 37ms/epoch - 12ms/step\n",
            "Epoch 351/1000\n",
            "3/3 - 0s - loss: 0.0590 - accuracy: 0.9778 - val_loss: 0.1554 - val_accuracy: 0.9333 - 37ms/epoch - 12ms/step\n",
            "Epoch 352/1000\n",
            "3/3 - 0s - loss: 0.0518 - accuracy: 0.9889 - val_loss: 0.1302 - val_accuracy: 0.9333 - 34ms/epoch - 11ms/step\n",
            "Epoch 353/1000\n",
            "3/3 - 0s - loss: 0.0465 - accuracy: 0.9889 - val_loss: 0.1170 - val_accuracy: 0.9333 - 39ms/epoch - 13ms/step\n",
            "Epoch 354/1000\n",
            "3/3 - 0s - loss: 0.0519 - accuracy: 0.9778 - val_loss: 0.1390 - val_accuracy: 0.9333 - 50ms/epoch - 17ms/step\n",
            "Epoch 355/1000\n",
            "3/3 - 0s - loss: 0.0528 - accuracy: 0.9889 - val_loss: 0.1438 - val_accuracy: 0.9333 - 38ms/epoch - 13ms/step\n",
            "Epoch 356/1000\n",
            "3/3 - 0s - loss: 0.0480 - accuracy: 0.9889 - val_loss: 0.1234 - val_accuracy: 0.9333 - 44ms/epoch - 15ms/step\n",
            "Epoch 357/1000\n",
            "3/3 - 0s - loss: 0.0527 - accuracy: 0.9778 - val_loss: 0.1550 - val_accuracy: 0.9333 - 42ms/epoch - 14ms/step\n",
            "Epoch 358/1000\n",
            "3/3 - 0s - loss: 0.0580 - accuracy: 0.9778 - val_loss: 0.1627 - val_accuracy: 0.9333 - 55ms/epoch - 18ms/step\n",
            "Epoch 359/1000\n",
            "3/3 - 0s - loss: 0.0606 - accuracy: 0.9778 - val_loss: 0.1506 - val_accuracy: 0.9333 - 39ms/epoch - 13ms/step\n",
            "Epoch 360/1000\n",
            "3/3 - 0s - loss: 0.0551 - accuracy: 0.9778 - val_loss: 0.1239 - val_accuracy: 0.9333 - 33ms/epoch - 11ms/step\n",
            "Epoch 361/1000\n",
            "3/3 - 0s - loss: 0.0495 - accuracy: 0.9889 - val_loss: 0.1090 - val_accuracy: 0.9333 - 32ms/epoch - 11ms/step\n",
            "Epoch 362/1000\n",
            "3/3 - 0s - loss: 0.0536 - accuracy: 0.9778 - val_loss: 0.1145 - val_accuracy: 0.9333 - 34ms/epoch - 11ms/step\n",
            "Epoch 363/1000\n",
            "3/3 - 0s - loss: 0.0464 - accuracy: 0.9889 - val_loss: 0.1459 - val_accuracy: 0.9333 - 34ms/epoch - 11ms/step\n",
            "Epoch 364/1000\n",
            "3/3 - 0s - loss: 0.0512 - accuracy: 0.9778 - val_loss: 0.1676 - val_accuracy: 0.9333 - 36ms/epoch - 12ms/step\n",
            "Epoch 365/1000\n",
            "3/3 - 0s - loss: 0.0556 - accuracy: 0.9778 - val_loss: 0.1636 - val_accuracy: 0.9333 - 33ms/epoch - 11ms/step\n",
            "Epoch 366/1000\n",
            "3/3 - 0s - loss: 0.0459 - accuracy: 0.9889 - val_loss: 0.1583 - val_accuracy: 0.9333 - 34ms/epoch - 11ms/step\n",
            "Epoch 367/1000\n",
            "3/3 - 0s - loss: 0.0451 - accuracy: 0.9889 - val_loss: 0.1624 - val_accuracy: 0.9333 - 36ms/epoch - 12ms/step\n",
            "Epoch 368/1000\n",
            "3/3 - 0s - loss: 0.0456 - accuracy: 0.9889 - val_loss: 0.1634 - val_accuracy: 0.9333 - 40ms/epoch - 13ms/step\n",
            "Epoch 369/1000\n",
            "3/3 - 0s - loss: 0.0437 - accuracy: 0.9889 - val_loss: 0.1496 - val_accuracy: 0.9333 - 33ms/epoch - 11ms/step\n",
            "Epoch 370/1000\n",
            "3/3 - 0s - loss: 0.0483 - accuracy: 0.9889 - val_loss: 0.1471 - val_accuracy: 0.9333 - 32ms/epoch - 11ms/step\n",
            "Epoch 371/1000\n",
            "3/3 - 0s - loss: 0.0421 - accuracy: 0.9889 - val_loss: 0.1587 - val_accuracy: 0.9333 - 39ms/epoch - 13ms/step\n",
            "Epoch 372/1000\n",
            "3/3 - 0s - loss: 0.0444 - accuracy: 0.9889 - val_loss: 0.1642 - val_accuracy: 0.9333 - 32ms/epoch - 11ms/step\n",
            "Epoch 373/1000\n",
            "3/3 - 0s - loss: 0.0494 - accuracy: 0.9889 - val_loss: 0.1583 - val_accuracy: 0.9333 - 33ms/epoch - 11ms/step\n",
            "Epoch 374/1000\n",
            "3/3 - 0s - loss: 0.0434 - accuracy: 0.9889 - val_loss: 0.1448 - val_accuracy: 0.9333 - 40ms/epoch - 13ms/step\n",
            "Epoch 375/1000\n",
            "3/3 - 0s - loss: 0.0453 - accuracy: 0.9889 - val_loss: 0.1404 - val_accuracy: 0.9333 - 33ms/epoch - 11ms/step\n",
            "Epoch 376/1000\n",
            "3/3 - 0s - loss: 0.0465 - accuracy: 0.9889 - val_loss: 0.1584 - val_accuracy: 0.9333 - 36ms/epoch - 12ms/step\n",
            "Epoch 377/1000\n",
            "3/3 - 0s - loss: 0.0435 - accuracy: 0.9889 - val_loss: 0.1979 - val_accuracy: 0.9333 - 30ms/epoch - 10ms/step\n",
            "Epoch 378/1000\n",
            "3/3 - 0s - loss: 0.0885 - accuracy: 0.9778 - val_loss: 0.1829 - val_accuracy: 0.9333 - 34ms/epoch - 11ms/step\n",
            "Epoch 379/1000\n",
            "3/3 - 0s - loss: 0.0710 - accuracy: 0.9778 - val_loss: 0.1474 - val_accuracy: 0.9333 - 33ms/epoch - 11ms/step\n",
            "Epoch 380/1000\n",
            "3/3 - 0s - loss: 0.0465 - accuracy: 0.9889 - val_loss: 0.1120 - val_accuracy: 0.9333 - 31ms/epoch - 10ms/step\n",
            "Epoch 381/1000\n",
            "3/3 - 0s - loss: 0.0565 - accuracy: 0.9778 - val_loss: 0.1167 - val_accuracy: 0.9333 - 32ms/epoch - 11ms/step\n",
            "Epoch 382/1000\n",
            "3/3 - 0s - loss: 0.0460 - accuracy: 0.9889 - val_loss: 0.1420 - val_accuracy: 0.9333 - 38ms/epoch - 13ms/step\n",
            "Epoch 383/1000\n",
            "3/3 - 0s - loss: 0.0452 - accuracy: 0.9889 - val_loss: 0.1523 - val_accuracy: 0.9333 - 35ms/epoch - 12ms/step\n",
            "Epoch 384/1000\n",
            "3/3 - 0s - loss: 0.0531 - accuracy: 0.9778 - val_loss: 0.1481 - val_accuracy: 0.9333 - 34ms/epoch - 11ms/step\n",
            "Epoch 385/1000\n",
            "3/3 - 0s - loss: 0.0442 - accuracy: 0.9889 - val_loss: 0.1376 - val_accuracy: 0.9333 - 35ms/epoch - 12ms/step\n",
            "Epoch 386/1000\n",
            "3/3 - 0s - loss: 0.0423 - accuracy: 0.9889 - val_loss: 0.1252 - val_accuracy: 0.9333 - 32ms/epoch - 11ms/step\n",
            "Epoch 387/1000\n",
            "3/3 - 0s - loss: 0.0475 - accuracy: 0.9778 - val_loss: 0.1401 - val_accuracy: 0.9333 - 33ms/epoch - 11ms/step\n",
            "Epoch 388/1000\n",
            "3/3 - 0s - loss: 0.0426 - accuracy: 0.9889 - val_loss: 0.1543 - val_accuracy: 0.9333 - 32ms/epoch - 11ms/step\n",
            "Epoch 389/1000\n",
            "3/3 - 0s - loss: 0.0435 - accuracy: 0.9889 - val_loss: 0.1563 - val_accuracy: 0.9333 - 35ms/epoch - 12ms/step\n",
            "Epoch 390/1000\n",
            "3/3 - 0s - loss: 0.0435 - accuracy: 0.9889 - val_loss: 0.1553 - val_accuracy: 0.9333 - 37ms/epoch - 12ms/step\n",
            "Epoch 391/1000\n",
            "3/3 - 0s - loss: 0.0419 - accuracy: 0.9889 - val_loss: 0.1505 - val_accuracy: 0.9333 - 40ms/epoch - 13ms/step\n",
            "Epoch 392/1000\n",
            "3/3 - 0s - loss: 0.0439 - accuracy: 0.9889 - val_loss: 0.1603 - val_accuracy: 0.9333 - 32ms/epoch - 11ms/step\n",
            "Epoch 393/1000\n",
            "3/3 - 0s - loss: 0.0444 - accuracy: 0.9889 - val_loss: 0.1827 - val_accuracy: 0.9333 - 35ms/epoch - 12ms/step\n",
            "Epoch 394/1000\n",
            "3/3 - 0s - loss: 0.0649 - accuracy: 0.9778 - val_loss: 0.1714 - val_accuracy: 0.9333 - 38ms/epoch - 13ms/step\n",
            "Epoch 395/1000\n",
            "3/3 - 0s - loss: 0.0464 - accuracy: 0.9889 - val_loss: 0.1355 - val_accuracy: 0.9000 - 34ms/epoch - 11ms/step\n",
            "Epoch 396/1000\n",
            "3/3 - 0s - loss: 0.0613 - accuracy: 0.9778 - val_loss: 0.1336 - val_accuracy: 0.9333 - 32ms/epoch - 11ms/step\n",
            "Epoch 397/1000\n",
            "3/3 - 0s - loss: 0.0457 - accuracy: 0.9889 - val_loss: 0.1427 - val_accuracy: 0.9333 - 43ms/epoch - 14ms/step\n",
            "Epoch 398/1000\n",
            "3/3 - 0s - loss: 0.0463 - accuracy: 0.9889 - val_loss: 0.1337 - val_accuracy: 0.9333 - 34ms/epoch - 11ms/step\n",
            "Epoch 399/1000\n",
            "3/3 - 0s - loss: 0.0456 - accuracy: 0.9889 - val_loss: 0.1278 - val_accuracy: 0.9333 - 30ms/epoch - 10ms/step\n",
            "Epoch 400/1000\n",
            "3/3 - 0s - loss: 0.0454 - accuracy: 0.9889 - val_loss: 0.1248 - val_accuracy: 0.9333 - 32ms/epoch - 11ms/step\n",
            "Epoch 401/1000\n",
            "3/3 - 0s - loss: 0.0481 - accuracy: 0.9889 - val_loss: 0.1316 - val_accuracy: 0.9333 - 28ms/epoch - 9ms/step\n",
            "Epoch 402/1000\n",
            "3/3 - 0s - loss: 0.0426 - accuracy: 0.9889 - val_loss: 0.1454 - val_accuracy: 0.9333 - 31ms/epoch - 10ms/step\n",
            "Epoch 403/1000\n",
            "3/3 - 0s - loss: 0.0426 - accuracy: 0.9889 - val_loss: 0.1532 - val_accuracy: 0.9333 - 32ms/epoch - 11ms/step\n",
            "Epoch 404/1000\n",
            "3/3 - 0s - loss: 0.0416 - accuracy: 0.9889 - val_loss: 0.1508 - val_accuracy: 0.9333 - 34ms/epoch - 11ms/step\n",
            "Epoch 405/1000\n",
            "3/3 - 0s - loss: 0.0595 - accuracy: 0.9778 - val_loss: 0.1496 - val_accuracy: 0.9333 - 50ms/epoch - 17ms/step\n",
            "Epoch 406/1000\n",
            "3/3 - 0s - loss: 0.0421 - accuracy: 0.9889 - val_loss: 0.1797 - val_accuracy: 0.9333 - 36ms/epoch - 12ms/step\n",
            "Epoch 407/1000\n",
            "3/3 - 0s - loss: 0.0702 - accuracy: 0.9778 - val_loss: 0.1841 - val_accuracy: 0.9333 - 36ms/epoch - 12ms/step\n",
            "Epoch 408/1000\n",
            "3/3 - 0s - loss: 0.0665 - accuracy: 0.9778 - val_loss: 0.1449 - val_accuracy: 0.9333 - 33ms/epoch - 11ms/step\n",
            "Epoch 409/1000\n",
            "3/3 - 0s - loss: 0.0500 - accuracy: 0.9889 - val_loss: 0.1206 - val_accuracy: 0.9333 - 33ms/epoch - 11ms/step\n",
            "Epoch 410/1000\n",
            "3/3 - 0s - loss: 0.0525 - accuracy: 0.9778 - val_loss: 0.1194 - val_accuracy: 0.9333 - 35ms/epoch - 12ms/step\n",
            "Epoch 411/1000\n",
            "3/3 - 0s - loss: 0.0524 - accuracy: 0.9889 - val_loss: 0.1242 - val_accuracy: 0.9333 - 33ms/epoch - 11ms/step\n",
            "Epoch 412/1000\n",
            "3/3 - 0s - loss: 0.0448 - accuracy: 0.9889 - val_loss: 0.1275 - val_accuracy: 0.9333 - 33ms/epoch - 11ms/step\n",
            "Epoch 413/1000\n",
            "3/3 - 0s - loss: 0.0457 - accuracy: 0.9889 - val_loss: 0.1193 - val_accuracy: 0.9333 - 38ms/epoch - 13ms/step\n",
            "Epoch 414/1000\n",
            "3/3 - 0s - loss: 0.0499 - accuracy: 0.9889 - val_loss: 0.1172 - val_accuracy: 0.9333 - 31ms/epoch - 10ms/step\n",
            "Epoch 415/1000\n",
            "3/3 - 0s - loss: 0.0525 - accuracy: 0.9778 - val_loss: 0.1294 - val_accuracy: 0.9333 - 29ms/epoch - 10ms/step\n",
            "Epoch 416/1000\n",
            "3/3 - 0s - loss: 0.0465 - accuracy: 0.9889 - val_loss: 0.1410 - val_accuracy: 0.9333 - 31ms/epoch - 10ms/step\n",
            "Epoch 417/1000\n",
            "3/3 - 0s - loss: 0.0491 - accuracy: 0.9889 - val_loss: 0.1271 - val_accuracy: 0.9333 - 30ms/epoch - 10ms/step\n",
            "Epoch 418/1000\n",
            "3/3 - 0s - loss: 0.0416 - accuracy: 0.9889 - val_loss: 0.1288 - val_accuracy: 0.9333 - 32ms/epoch - 11ms/step\n",
            "Epoch 419/1000\n",
            "3/3 - 0s - loss: 0.0416 - accuracy: 0.9889 - val_loss: 0.1402 - val_accuracy: 0.9333 - 31ms/epoch - 10ms/step\n",
            "Epoch 420/1000\n",
            "3/3 - 0s - loss: 0.0419 - accuracy: 0.9889 - val_loss: 0.1528 - val_accuracy: 0.9333 - 32ms/epoch - 11ms/step\n",
            "Epoch 421/1000\n",
            "3/3 - 0s - loss: 0.0405 - accuracy: 0.9889 - val_loss: 0.1539 - val_accuracy: 0.9333 - 33ms/epoch - 11ms/step\n",
            "Epoch 422/1000\n",
            "3/3 - 0s - loss: 0.0427 - accuracy: 0.9889 - val_loss: 0.1737 - val_accuracy: 0.9333 - 38ms/epoch - 13ms/step\n",
            "Epoch 423/1000\n",
            "3/3 - 0s - loss: 0.0413 - accuracy: 0.9889 - val_loss: 0.2069 - val_accuracy: 0.9333 - 42ms/epoch - 14ms/step\n",
            "Epoch 424/1000\n",
            "3/3 - 0s - loss: 0.0817 - accuracy: 0.9778 - val_loss: 0.2020 - val_accuracy: 0.9333 - 33ms/epoch - 11ms/step\n",
            "Epoch 425/1000\n",
            "3/3 - 0s - loss: 0.0670 - accuracy: 0.9778 - val_loss: 0.1516 - val_accuracy: 0.9333 - 33ms/epoch - 11ms/step\n",
            "Epoch 426/1000\n",
            "3/3 - 0s - loss: 0.0428 - accuracy: 0.9889 - val_loss: 0.1306 - val_accuracy: 0.9333 - 34ms/epoch - 11ms/step\n",
            "Epoch 427/1000\n",
            "3/3 - 0s - loss: 0.0780 - accuracy: 0.9667 - val_loss: 0.1250 - val_accuracy: 0.9333 - 32ms/epoch - 11ms/step\n",
            "Epoch 428/1000\n",
            "3/3 - 0s - loss: 0.0451 - accuracy: 0.9889 - val_loss: 0.1357 - val_accuracy: 0.9333 - 35ms/epoch - 12ms/step\n",
            "Epoch 429/1000\n",
            "3/3 - 0s - loss: 0.0538 - accuracy: 0.9778 - val_loss: 0.1428 - val_accuracy: 0.9333 - 37ms/epoch - 12ms/step\n",
            "Epoch 430/1000\n",
            "3/3 - 0s - loss: 0.0576 - accuracy: 0.9778 - val_loss: 0.1400 - val_accuracy: 0.9333 - 34ms/epoch - 11ms/step\n",
            "Epoch 431/1000\n",
            "3/3 - 0s - loss: 0.0533 - accuracy: 0.9778 - val_loss: 0.1255 - val_accuracy: 0.9333 - 50ms/epoch - 17ms/step\n",
            "Epoch 432/1000\n",
            "3/3 - 0s - loss: 0.0496 - accuracy: 0.9889 - val_loss: 0.1255 - val_accuracy: 0.9333 - 54ms/epoch - 18ms/step\n",
            "Epoch 433/1000\n",
            "3/3 - 0s - loss: 0.0477 - accuracy: 0.9889 - val_loss: 0.1405 - val_accuracy: 0.9333 - 33ms/epoch - 11ms/step\n",
            "Epoch 434/1000\n",
            "3/3 - 0s - loss: 0.0422 - accuracy: 0.9889 - val_loss: 0.1538 - val_accuracy: 0.9333 - 35ms/epoch - 12ms/step\n",
            "Epoch 435/1000\n",
            "3/3 - 0s - loss: 0.0488 - accuracy: 0.9778 - val_loss: 0.1548 - val_accuracy: 0.9333 - 36ms/epoch - 12ms/step\n",
            "Epoch 436/1000\n",
            "3/3 - 0s - loss: 0.0442 - accuracy: 0.9889 - val_loss: 0.1419 - val_accuracy: 0.9000 - 33ms/epoch - 11ms/step\n",
            "Epoch 437/1000\n",
            "3/3 - 0s - loss: 0.1169 - accuracy: 0.9556 - val_loss: 0.1661 - val_accuracy: 0.9333 - 48ms/epoch - 16ms/step\n",
            "Epoch 438/1000\n",
            "3/3 - 0s - loss: 0.0495 - accuracy: 0.9778 - val_loss: 0.2106 - val_accuracy: 0.9333 - 35ms/epoch - 12ms/step\n",
            "Epoch 439/1000\n",
            "3/3 - 0s - loss: 0.0853 - accuracy: 0.9778 - val_loss: 0.1903 - val_accuracy: 0.9333 - 54ms/epoch - 18ms/step\n",
            "Epoch 440/1000\n",
            "3/3 - 0s - loss: 0.0539 - accuracy: 0.9778 - val_loss: 0.1346 - val_accuracy: 0.9333 - 36ms/epoch - 12ms/step\n",
            "Epoch 441/1000\n",
            "3/3 - 0s - loss: 0.0443 - accuracy: 0.9889 - val_loss: 0.1160 - val_accuracy: 0.9000 - 35ms/epoch - 12ms/step\n",
            "Epoch 442/1000\n",
            "3/3 - 0s - loss: 0.0653 - accuracy: 0.9778 - val_loss: 0.1353 - val_accuracy: 0.9333 - 32ms/epoch - 11ms/step\n",
            "Epoch 443/1000\n",
            "3/3 - 0s - loss: 0.0440 - accuracy: 0.9889 - val_loss: 0.1776 - val_accuracy: 0.9333 - 34ms/epoch - 11ms/step\n",
            "Epoch 444/1000\n",
            "3/3 - 0s - loss: 0.0717 - accuracy: 0.9778 - val_loss: 0.1837 - val_accuracy: 0.9333 - 31ms/epoch - 10ms/step\n",
            "Epoch 445/1000\n",
            "3/3 - 0s - loss: 0.0690 - accuracy: 0.9778 - val_loss: 0.1492 - val_accuracy: 0.9333 - 32ms/epoch - 11ms/step\n",
            "Epoch 446/1000\n",
            "3/3 - 0s - loss: 0.0437 - accuracy: 0.9889 - val_loss: 0.1232 - val_accuracy: 0.9000 - 31ms/epoch - 10ms/step\n",
            "Epoch 447/1000\n",
            "3/3 - 0s - loss: 0.0670 - accuracy: 0.9667 - val_loss: 0.1202 - val_accuracy: 0.9333 - 44ms/epoch - 15ms/step\n",
            "Epoch 448/1000\n",
            "3/3 - 0s - loss: 0.0501 - accuracy: 0.9889 - val_loss: 0.1334 - val_accuracy: 0.9333 - 40ms/epoch - 13ms/step\n",
            "Epoch 449/1000\n",
            "3/3 - 0s - loss: 0.0430 - accuracy: 0.9889 - val_loss: 0.1549 - val_accuracy: 0.9333 - 34ms/epoch - 11ms/step\n",
            "Epoch 450/1000\n",
            "3/3 - 0s - loss: 0.0588 - accuracy: 0.9778 - val_loss: 0.1576 - val_accuracy: 0.9333 - 34ms/epoch - 11ms/step\n",
            "Epoch 451/1000\n",
            "3/3 - 0s - loss: 0.0543 - accuracy: 0.9778 - val_loss: 0.1347 - val_accuracy: 0.9333 - 41ms/epoch - 14ms/step\n",
            "Epoch 452/1000\n",
            "3/3 - 0s - loss: 0.0435 - accuracy: 0.9889 - val_loss: 0.1241 - val_accuracy: 0.9333 - 29ms/epoch - 10ms/step\n",
            "Epoch 453/1000\n",
            "3/3 - 0s - loss: 0.0515 - accuracy: 0.9778 - val_loss: 0.1252 - val_accuracy: 0.9333 - 30ms/epoch - 10ms/step\n",
            "Epoch 454/1000\n",
            "3/3 - 0s - loss: 0.0479 - accuracy: 0.9889 - val_loss: 0.1402 - val_accuracy: 0.9333 - 32ms/epoch - 11ms/step\n",
            "Epoch 455/1000\n",
            "3/3 - 0s - loss: 0.0470 - accuracy: 0.9889 - val_loss: 0.1541 - val_accuracy: 0.9333 - 33ms/epoch - 11ms/step\n",
            "Epoch 456/1000\n",
            "3/3 - 0s - loss: 0.0475 - accuracy: 0.9889 - val_loss: 0.1466 - val_accuracy: 0.9333 - 37ms/epoch - 12ms/step\n",
            "Epoch 457/1000\n",
            "3/3 - 0s - loss: 0.0512 - accuracy: 0.9889 - val_loss: 0.1325 - val_accuracy: 0.9000 - 34ms/epoch - 11ms/step\n",
            "Epoch 458/1000\n",
            "3/3 - 0s - loss: 0.0818 - accuracy: 0.9556 - val_loss: 0.1727 - val_accuracy: 0.9333 - 39ms/epoch - 13ms/step\n",
            "Epoch 459/1000\n",
            "3/3 - 0s - loss: 0.1129 - accuracy: 0.9556 - val_loss: 0.3230 - val_accuracy: 0.9000 - 36ms/epoch - 12ms/step\n",
            "Epoch 460/1000\n",
            "3/3 - 0s - loss: 0.2539 - accuracy: 0.8889 - val_loss: 0.1546 - val_accuracy: 0.9333 - 34ms/epoch - 11ms/step\n",
            "Epoch 461/1000\n",
            "3/3 - 0s - loss: 0.0709 - accuracy: 0.9778 - val_loss: 0.0961 - val_accuracy: 0.9333 - 37ms/epoch - 12ms/step\n",
            "Epoch 462/1000\n",
            "3/3 - 0s - loss: 0.0755 - accuracy: 0.9889 - val_loss: 0.1179 - val_accuracy: 0.9667 - 56ms/epoch - 19ms/step\n",
            "Epoch 463/1000\n",
            "3/3 - 0s - loss: 0.1029 - accuracy: 0.9556 - val_loss: 0.0877 - val_accuracy: 0.9333 - 53ms/epoch - 18ms/step\n",
            "Epoch 464/1000\n",
            "3/3 - 0s - loss: 0.0557 - accuracy: 0.9889 - val_loss: 0.1513 - val_accuracy: 0.9333 - 33ms/epoch - 11ms/step\n",
            "Epoch 465/1000\n",
            "3/3 - 0s - loss: 0.0881 - accuracy: 0.9667 - val_loss: 0.2054 - val_accuracy: 0.9333 - 35ms/epoch - 12ms/step\n",
            "Epoch 466/1000\n",
            "3/3 - 0s - loss: 0.0952 - accuracy: 0.9667 - val_loss: 0.1616 - val_accuracy: 0.9333 - 43ms/epoch - 14ms/step\n",
            "Epoch 467/1000\n",
            "3/3 - 0s - loss: 0.0557 - accuracy: 0.9778 - val_loss: 0.0976 - val_accuracy: 0.9333 - 36ms/epoch - 12ms/step\n",
            "Epoch 468/1000\n",
            "3/3 - 0s - loss: 0.0645 - accuracy: 0.9667 - val_loss: 0.0883 - val_accuracy: 0.9333 - 30ms/epoch - 10ms/step\n",
            "Epoch 469/1000\n",
            "3/3 - 0s - loss: 0.0482 - accuracy: 0.9889 - val_loss: 0.1339 - val_accuracy: 0.9333 - 41ms/epoch - 14ms/step\n",
            "Epoch 470/1000\n",
            "3/3 - 0s - loss: 0.0640 - accuracy: 0.9778 - val_loss: 0.1638 - val_accuracy: 0.9333 - 32ms/epoch - 11ms/step\n",
            "Epoch 471/1000\n",
            "3/3 - 0s - loss: 0.0709 - accuracy: 0.9778 - val_loss: 0.1326 - val_accuracy: 0.9333 - 43ms/epoch - 14ms/step\n",
            "Epoch 472/1000\n",
            "3/3 - 0s - loss: 0.0576 - accuracy: 0.9778 - val_loss: 0.1112 - val_accuracy: 0.9333 - 37ms/epoch - 12ms/step\n",
            "Epoch 473/1000\n",
            "3/3 - 0s - loss: 0.0556 - accuracy: 0.9778 - val_loss: 0.0967 - val_accuracy: 0.9333 - 57ms/epoch - 19ms/step\n",
            "Epoch 474/1000\n",
            "3/3 - 0s - loss: 0.0625 - accuracy: 0.9889 - val_loss: 0.0961 - val_accuracy: 0.9333 - 51ms/epoch - 17ms/step\n",
            "Epoch 475/1000\n",
            "3/3 - 0s - loss: 0.0665 - accuracy: 0.9778 - val_loss: 0.0955 - val_accuracy: 0.9333 - 33ms/epoch - 11ms/step\n",
            "Epoch 476/1000\n",
            "3/3 - 0s - loss: 0.0592 - accuracy: 0.9889 - val_loss: 0.1063 - val_accuracy: 0.9333 - 35ms/epoch - 12ms/step\n",
            "Epoch 477/1000\n",
            "3/3 - 0s - loss: 0.0520 - accuracy: 0.9889 - val_loss: 0.1328 - val_accuracy: 0.9333 - 31ms/epoch - 10ms/step\n",
            "Epoch 478/1000\n",
            "3/3 - 0s - loss: 0.0538 - accuracy: 0.9778 - val_loss: 0.1522 - val_accuracy: 0.9333 - 37ms/epoch - 12ms/step\n",
            "Epoch 479/1000\n",
            "3/3 - 0s - loss: 0.0539 - accuracy: 0.9778 - val_loss: 0.1525 - val_accuracy: 0.9333 - 31ms/epoch - 10ms/step\n",
            "Epoch 480/1000\n",
            "3/3 - 0s - loss: 0.0476 - accuracy: 0.9889 - val_loss: 0.1365 - val_accuracy: 0.9333 - 31ms/epoch - 10ms/step\n",
            "Epoch 481/1000\n",
            "3/3 - 0s - loss: 0.0464 - accuracy: 0.9889 - val_loss: 0.1365 - val_accuracy: 0.9333 - 34ms/epoch - 11ms/step\n",
            "Epoch 482/1000\n",
            "3/3 - 0s - loss: 0.0472 - accuracy: 0.9889 - val_loss: 0.1552 - val_accuracy: 0.9333 - 40ms/epoch - 13ms/step\n",
            "Epoch 483/1000\n",
            "3/3 - 0s - loss: 0.0448 - accuracy: 0.9889 - val_loss: 0.1733 - val_accuracy: 0.9333 - 36ms/epoch - 12ms/step\n",
            "Epoch 484/1000\n",
            "3/3 - 0s - loss: 0.0463 - accuracy: 0.9889 - val_loss: 0.1807 - val_accuracy: 0.9333 - 32ms/epoch - 11ms/step\n",
            "Epoch 485/1000\n",
            "3/3 - 0s - loss: 0.0464 - accuracy: 0.9889 - val_loss: 0.1756 - val_accuracy: 0.9333 - 38ms/epoch - 13ms/step\n",
            "Epoch 486/1000\n",
            "3/3 - 0s - loss: 0.0451 - accuracy: 0.9889 - val_loss: 0.1606 - val_accuracy: 0.9333 - 38ms/epoch - 13ms/step\n",
            "Epoch 487/1000\n",
            "3/3 - 0s - loss: 0.0445 - accuracy: 0.9889 - val_loss: 0.1587 - val_accuracy: 0.9333 - 42ms/epoch - 14ms/step\n",
            "Epoch 488/1000\n",
            "3/3 - 0s - loss: 0.0432 - accuracy: 0.9889 - val_loss: 0.1669 - val_accuracy: 0.9333 - 34ms/epoch - 11ms/step\n",
            "Epoch 489/1000\n",
            "3/3 - 0s - loss: 0.0428 - accuracy: 0.9889 - val_loss: 0.1707 - val_accuracy: 0.9333 - 37ms/epoch - 12ms/step\n",
            "Epoch 490/1000\n",
            "3/3 - 0s - loss: 0.0428 - accuracy: 0.9889 - val_loss: 0.1735 - val_accuracy: 0.9333 - 34ms/epoch - 11ms/step\n",
            "Epoch 491/1000\n",
            "3/3 - 0s - loss: 0.0432 - accuracy: 0.9889 - val_loss: 0.1769 - val_accuracy: 0.9333 - 38ms/epoch - 13ms/step\n",
            "Epoch 492/1000\n",
            "3/3 - 0s - loss: 0.0429 - accuracy: 0.9889 - val_loss: 0.1755 - val_accuracy: 0.9333 - 29ms/epoch - 10ms/step\n",
            "Epoch 493/1000\n",
            "3/3 - 0s - loss: 0.0424 - accuracy: 0.9889 - val_loss: 0.1710 - val_accuracy: 0.9333 - 31ms/epoch - 10ms/step\n",
            "Epoch 494/1000\n",
            "3/3 - 0s - loss: 0.0420 - accuracy: 0.9889 - val_loss: 0.1710 - val_accuracy: 0.9333 - 31ms/epoch - 10ms/step\n",
            "Epoch 495/1000\n",
            "3/3 - 0s - loss: 0.0426 - accuracy: 0.9889 - val_loss: 0.1697 - val_accuracy: 0.9333 - 32ms/epoch - 11ms/step\n",
            "Epoch 496/1000\n",
            "3/3 - 0s - loss: 0.0420 - accuracy: 0.9889 - val_loss: 0.1752 - val_accuracy: 0.9333 - 46ms/epoch - 15ms/step\n",
            "Epoch 497/1000\n",
            "3/3 - 0s - loss: 0.0449 - accuracy: 0.9889 - val_loss: 0.1794 - val_accuracy: 0.9333 - 40ms/epoch - 13ms/step\n",
            "Epoch 498/1000\n",
            "3/3 - 0s - loss: 0.0438 - accuracy: 0.9889 - val_loss: 0.1643 - val_accuracy: 0.9333 - 34ms/epoch - 11ms/step\n",
            "Epoch 499/1000\n",
            "3/3 - 0s - loss: 0.0462 - accuracy: 0.9889 - val_loss: 0.1731 - val_accuracy: 0.9333 - 34ms/epoch - 11ms/step\n",
            "Epoch 500/1000\n",
            "3/3 - 0s - loss: 0.0414 - accuracy: 0.9889 - val_loss: 0.1909 - val_accuracy: 0.9333 - 54ms/epoch - 18ms/step\n",
            "Epoch 501/1000\n",
            "3/3 - 0s - loss: 0.0463 - accuracy: 0.9889 - val_loss: 0.1925 - val_accuracy: 0.9333 - 36ms/epoch - 12ms/step\n",
            "Epoch 502/1000\n",
            "3/3 - 0s - loss: 0.0453 - accuracy: 0.9889 - val_loss: 0.1821 - val_accuracy: 0.9333 - 35ms/epoch - 12ms/step\n",
            "Epoch 503/1000\n",
            "3/3 - 0s - loss: 0.0413 - accuracy: 0.9889 - val_loss: 0.1723 - val_accuracy: 0.9333 - 37ms/epoch - 12ms/step\n",
            "Epoch 504/1000\n",
            "3/3 - 0s - loss: 0.0455 - accuracy: 0.9889 - val_loss: 0.1817 - val_accuracy: 0.9333 - 43ms/epoch - 14ms/step\n",
            "Epoch 505/1000\n",
            "3/3 - 0s - loss: 0.0476 - accuracy: 0.9889 - val_loss: 0.2062 - val_accuracy: 0.9333 - 52ms/epoch - 17ms/step\n",
            "Epoch 506/1000\n",
            "3/3 - 0s - loss: 0.0724 - accuracy: 0.9778 - val_loss: 0.2109 - val_accuracy: 0.9333 - 30ms/epoch - 10ms/step\n",
            "Epoch 507/1000\n",
            "3/3 - 0s - loss: 0.0725 - accuracy: 0.9778 - val_loss: 0.1881 - val_accuracy: 0.9333 - 40ms/epoch - 13ms/step\n",
            "Epoch 508/1000\n",
            "3/3 - 0s - loss: 0.0607 - accuracy: 0.9778 - val_loss: 0.1429 - val_accuracy: 0.9333 - 33ms/epoch - 11ms/step\n",
            "Epoch 509/1000\n",
            "3/3 - 0s - loss: 0.0441 - accuracy: 0.9889 - val_loss: 0.1224 - val_accuracy: 0.9333 - 38ms/epoch - 13ms/step\n",
            "Epoch 510/1000\n",
            "3/3 - 0s - loss: 0.0797 - accuracy: 0.9667 - val_loss: 0.1329 - val_accuracy: 0.9333 - 46ms/epoch - 15ms/step\n",
            "Epoch 511/1000\n",
            "3/3 - 0s - loss: 0.0985 - accuracy: 0.9333 - val_loss: 0.2690 - val_accuracy: 0.8667 - 41ms/epoch - 14ms/step\n",
            "Epoch 512/1000\n",
            "3/3 - 0s - loss: 0.2298 - accuracy: 0.8667 - val_loss: 0.2468 - val_accuracy: 0.8667 - 33ms/epoch - 11ms/step\n",
            "Epoch 513/1000\n",
            "3/3 - 0s - loss: 0.1792 - accuracy: 0.8778 - val_loss: 0.1323 - val_accuracy: 0.9333 - 32ms/epoch - 11ms/step\n",
            "Epoch 514/1000\n",
            "3/3 - 0s - loss: 0.1147 - accuracy: 0.9778 - val_loss: 0.1310 - val_accuracy: 0.9667 - 32ms/epoch - 11ms/step\n",
            "Epoch 515/1000\n",
            "3/3 - 0s - loss: 0.1174 - accuracy: 0.9667 - val_loss: 0.1368 - val_accuracy: 0.9667 - 35ms/epoch - 12ms/step\n",
            "Epoch 516/1000\n",
            "3/3 - 0s - loss: 0.1249 - accuracy: 0.9556 - val_loss: 0.1135 - val_accuracy: 0.9667 - 52ms/epoch - 17ms/step\n",
            "Epoch 517/1000\n",
            "3/3 - 0s - loss: 0.0979 - accuracy: 0.9667 - val_loss: 0.0984 - val_accuracy: 0.9333 - 53ms/epoch - 18ms/step\n",
            "Epoch 518/1000\n",
            "3/3 - 0s - loss: 0.0655 - accuracy: 0.9778 - val_loss: 0.1085 - val_accuracy: 0.9333 - 40ms/epoch - 13ms/step\n",
            "Epoch 519/1000\n",
            "3/3 - 0s - loss: 0.0624 - accuracy: 0.9778 - val_loss: 0.1281 - val_accuracy: 0.9333 - 32ms/epoch - 11ms/step\n",
            "Epoch 520/1000\n",
            "3/3 - 0s - loss: 0.0715 - accuracy: 0.9667 - val_loss: 0.1359 - val_accuracy: 0.9333 - 29ms/epoch - 10ms/step\n",
            "Epoch 521/1000\n",
            "3/3 - 0s - loss: 0.0674 - accuracy: 0.9778 - val_loss: 0.1149 - val_accuracy: 0.9333 - 31ms/epoch - 10ms/step\n",
            "Epoch 522/1000\n",
            "3/3 - 0s - loss: 0.0586 - accuracy: 0.9778 - val_loss: 0.0808 - val_accuracy: 0.9333 - 28ms/epoch - 9ms/step\n",
            "Epoch 523/1000\n",
            "3/3 - 0s - loss: 0.0609 - accuracy: 0.9778 - val_loss: 0.0609 - val_accuracy: 0.9667 - 30ms/epoch - 10ms/step\n",
            "Epoch 524/1000\n",
            "3/3 - 0s - loss: 0.0755 - accuracy: 0.9667 - val_loss: 0.0752 - val_accuracy: 0.9667 - 30ms/epoch - 10ms/step\n",
            "Epoch 525/1000\n",
            "3/3 - 0s - loss: 0.0535 - accuracy: 0.9889 - val_loss: 0.0826 - val_accuracy: 0.9333 - 33ms/epoch - 11ms/step\n",
            "Epoch 526/1000\n",
            "3/3 - 0s - loss: 0.0511 - accuracy: 0.9889 - val_loss: 0.1043 - val_accuracy: 0.9333 - 38ms/epoch - 13ms/step\n",
            "Epoch 527/1000\n",
            "3/3 - 0s - loss: 0.0550 - accuracy: 0.9778 - val_loss: 0.1154 - val_accuracy: 0.9333 - 31ms/epoch - 10ms/step\n",
            "Epoch 528/1000\n",
            "3/3 - 0s - loss: 0.0562 - accuracy: 0.9778 - val_loss: 0.1120 - val_accuracy: 0.9333 - 31ms/epoch - 10ms/step\n",
            "Epoch 529/1000\n",
            "3/3 - 0s - loss: 0.0534 - accuracy: 0.9778 - val_loss: 0.1003 - val_accuracy: 0.9333 - 50ms/epoch - 17ms/step\n",
            "Epoch 530/1000\n",
            "3/3 - 0s - loss: 0.0506 - accuracy: 0.9889 - val_loss: 0.0806 - val_accuracy: 0.9667 - 36ms/epoch - 12ms/step\n",
            "Epoch 531/1000\n",
            "3/3 - 0s - loss: 0.0516 - accuracy: 0.9778 - val_loss: 0.0916 - val_accuracy: 0.9333 - 40ms/epoch - 13ms/step\n",
            "Epoch 532/1000\n",
            "3/3 - 0s - loss: 0.0484 - accuracy: 0.9889 - val_loss: 0.1105 - val_accuracy: 0.9333 - 30ms/epoch - 10ms/step\n",
            "Epoch 533/1000\n",
            "3/3 - 0s - loss: 0.0503 - accuracy: 0.9889 - val_loss: 0.1219 - val_accuracy: 0.9333 - 51ms/epoch - 17ms/step\n",
            "Epoch 534/1000\n",
            "3/3 - 0s - loss: 0.0512 - accuracy: 0.9778 - val_loss: 0.1014 - val_accuracy: 0.9333 - 35ms/epoch - 12ms/step\n",
            "Epoch 535/1000\n",
            "3/3 - 0s - loss: 0.0558 - accuracy: 0.9778 - val_loss: 0.0823 - val_accuracy: 0.9667 - 33ms/epoch - 11ms/step\n",
            "Epoch 536/1000\n",
            "3/3 - 0s - loss: 0.0739 - accuracy: 0.9667 - val_loss: 0.1241 - val_accuracy: 0.9333 - 61ms/epoch - 20ms/step\n",
            "Epoch 537/1000\n",
            "3/3 - 0s - loss: 0.0471 - accuracy: 0.9889 - val_loss: 0.1546 - val_accuracy: 0.9333 - 34ms/epoch - 11ms/step\n",
            "Epoch 538/1000\n",
            "3/3 - 0s - loss: 0.0637 - accuracy: 0.9778 - val_loss: 0.1668 - val_accuracy: 0.9333 - 33ms/epoch - 11ms/step\n",
            "Epoch 539/1000\n",
            "3/3 - 0s - loss: 0.0678 - accuracy: 0.9778 - val_loss: 0.1528 - val_accuracy: 0.9333 - 57ms/epoch - 19ms/step\n",
            "Epoch 540/1000\n",
            "3/3 - 0s - loss: 0.0554 - accuracy: 0.9778 - val_loss: 0.0993 - val_accuracy: 0.9333 - 32ms/epoch - 11ms/step\n",
            "Epoch 541/1000\n",
            "3/3 - 0s - loss: 0.0565 - accuracy: 0.9778 - val_loss: 0.0933 - val_accuracy: 0.9333 - 53ms/epoch - 18ms/step\n",
            "Epoch 542/1000\n",
            "3/3 - 0s - loss: 0.0568 - accuracy: 0.9778 - val_loss: 0.1270 - val_accuracy: 0.9333 - 46ms/epoch - 15ms/step\n",
            "Epoch 543/1000\n",
            "3/3 - 0s - loss: 0.0547 - accuracy: 0.9778 - val_loss: 0.1465 - val_accuracy: 0.9333 - 37ms/epoch - 12ms/step\n",
            "Epoch 544/1000\n",
            "3/3 - 0s - loss: 0.0593 - accuracy: 0.9778 - val_loss: 0.1508 - val_accuracy: 0.9333 - 34ms/epoch - 11ms/step\n",
            "Epoch 545/1000\n",
            "3/3 - 0s - loss: 0.0607 - accuracy: 0.9778 - val_loss: 0.1419 - val_accuracy: 0.9333 - 33ms/epoch - 11ms/step\n",
            "Epoch 546/1000\n",
            "3/3 - 0s - loss: 0.0500 - accuracy: 0.9889 - val_loss: 0.1138 - val_accuracy: 0.9333 - 40ms/epoch - 13ms/step\n",
            "Epoch 547/1000\n",
            "3/3 - 0s - loss: 0.0456 - accuracy: 0.9889 - val_loss: 0.1298 - val_accuracy: 0.9667 - 35ms/epoch - 12ms/step\n",
            "Epoch 548/1000\n",
            "3/3 - 0s - loss: 0.1155 - accuracy: 0.9556 - val_loss: 0.1219 - val_accuracy: 0.9333 - 40ms/epoch - 13ms/step\n",
            "Epoch 549/1000\n",
            "3/3 - 0s - loss: 0.0471 - accuracy: 0.9889 - val_loss: 0.1616 - val_accuracy: 0.9333 - 37ms/epoch - 12ms/step\n",
            "Epoch 550/1000\n",
            "3/3 - 0s - loss: 0.0697 - accuracy: 0.9778 - val_loss: 0.1780 - val_accuracy: 0.9333 - 33ms/epoch - 11ms/step\n",
            "Epoch 551/1000\n",
            "3/3 - 0s - loss: 0.0839 - accuracy: 0.9667 - val_loss: 0.1540 - val_accuracy: 0.9333 - 33ms/epoch - 11ms/step\n",
            "Epoch 552/1000\n",
            "3/3 - 0s - loss: 0.0642 - accuracy: 0.9778 - val_loss: 0.1279 - val_accuracy: 0.9333 - 37ms/epoch - 12ms/step\n",
            "Epoch 553/1000\n",
            "3/3 - 0s - loss: 0.0479 - accuracy: 0.9889 - val_loss: 0.1109 - val_accuracy: 0.9333 - 37ms/epoch - 12ms/step\n",
            "Epoch 554/1000\n",
            "3/3 - 0s - loss: 0.0542 - accuracy: 0.9778 - val_loss: 0.1092 - val_accuracy: 0.9333 - 35ms/epoch - 12ms/step\n",
            "Epoch 555/1000\n",
            "3/3 - 0s - loss: 0.0585 - accuracy: 0.9667 - val_loss: 0.1154 - val_accuracy: 0.9333 - 37ms/epoch - 12ms/step\n",
            "Epoch 556/1000\n",
            "3/3 - 0s - loss: 0.0453 - accuracy: 0.9889 - val_loss: 0.1316 - val_accuracy: 0.9333 - 37ms/epoch - 12ms/step\n",
            "Epoch 557/1000\n",
            "3/3 - 0s - loss: 0.0543 - accuracy: 0.9778 - val_loss: 0.1441 - val_accuracy: 0.9333 - 30ms/epoch - 10ms/step\n",
            "Epoch 558/1000\n",
            "3/3 - 0s - loss: 0.0574 - accuracy: 0.9778 - val_loss: 0.1521 - val_accuracy: 0.9333 - 50ms/epoch - 17ms/step\n",
            "Epoch 559/1000\n",
            "3/3 - 0s - loss: 0.0589 - accuracy: 0.9778 - val_loss: 0.1541 - val_accuracy: 0.9333 - 41ms/epoch - 14ms/step\n",
            "Epoch 560/1000\n",
            "3/3 - 0s - loss: 0.0573 - accuracy: 0.9778 - val_loss: 0.1448 - val_accuracy: 0.9333 - 37ms/epoch - 12ms/step\n",
            "Epoch 561/1000\n",
            "3/3 - 0s - loss: 0.0460 - accuracy: 0.9889 - val_loss: 0.1236 - val_accuracy: 0.9333 - 51ms/epoch - 17ms/step\n",
            "Epoch 562/1000\n",
            "3/3 - 0s - loss: 0.0666 - accuracy: 0.9778 - val_loss: 0.1218 - val_accuracy: 0.9333 - 35ms/epoch - 12ms/step\n",
            "Epoch 563/1000\n",
            "3/3 - 0s - loss: 0.0431 - accuracy: 0.9889 - val_loss: 0.1668 - val_accuracy: 0.9333 - 33ms/epoch - 11ms/step\n",
            "Epoch 564/1000\n",
            "3/3 - 0s - loss: 0.0722 - accuracy: 0.9778 - val_loss: 0.1851 - val_accuracy: 0.9333 - 34ms/epoch - 11ms/step\n",
            "Epoch 565/1000\n",
            "3/3 - 0s - loss: 0.0993 - accuracy: 0.9556 - val_loss: 0.1614 - val_accuracy: 0.9333 - 31ms/epoch - 10ms/step\n",
            "Epoch 566/1000\n",
            "3/3 - 0s - loss: 0.0663 - accuracy: 0.9778 - val_loss: 0.1265 - val_accuracy: 0.9333 - 44ms/epoch - 15ms/step\n",
            "Epoch 567/1000\n",
            "3/3 - 0s - loss: 0.0486 - accuracy: 0.9889 - val_loss: 0.1117 - val_accuracy: 0.9333 - 35ms/epoch - 12ms/step\n",
            "Epoch 568/1000\n",
            "3/3 - 0s - loss: 0.0710 - accuracy: 0.9667 - val_loss: 0.1129 - val_accuracy: 0.9000 - 30ms/epoch - 10ms/step\n",
            "Epoch 569/1000\n",
            "3/3 - 0s - loss: 0.0669 - accuracy: 0.9667 - val_loss: 0.1140 - val_accuracy: 0.9333 - 32ms/epoch - 11ms/step\n",
            "Epoch 570/1000\n",
            "3/3 - 0s - loss: 0.0496 - accuracy: 0.9889 - val_loss: 0.1260 - val_accuracy: 0.9333 - 51ms/epoch - 17ms/step\n",
            "Epoch 571/1000\n",
            "3/3 - 0s - loss: 0.0530 - accuracy: 0.9778 - val_loss: 0.1404 - val_accuracy: 0.9333 - 32ms/epoch - 11ms/step\n",
            "Epoch 572/1000\n",
            "3/3 - 0s - loss: 0.0567 - accuracy: 0.9778 - val_loss: 0.1502 - val_accuracy: 0.9333 - 33ms/epoch - 11ms/step\n",
            "Epoch 573/1000\n",
            "3/3 - 0s - loss: 0.0572 - accuracy: 0.9778 - val_loss: 0.1468 - val_accuracy: 0.9333 - 33ms/epoch - 11ms/step\n",
            "Epoch 574/1000\n",
            "3/3 - 0s - loss: 0.0488 - accuracy: 0.9778 - val_loss: 0.1255 - val_accuracy: 0.9333 - 39ms/epoch - 13ms/step\n",
            "Epoch 575/1000\n",
            "3/3 - 0s - loss: 0.0506 - accuracy: 0.9778 - val_loss: 0.1289 - val_accuracy: 0.9333 - 33ms/epoch - 11ms/step\n",
            "Epoch 576/1000\n",
            "3/3 - 0s - loss: 0.0986 - accuracy: 0.9556 - val_loss: 0.1367 - val_accuracy: 0.9333 - 33ms/epoch - 11ms/step\n",
            "Epoch 577/1000\n",
            "3/3 - 0s - loss: 0.0445 - accuracy: 0.9889 - val_loss: 0.1652 - val_accuracy: 0.9333 - 34ms/epoch - 11ms/step\n",
            "Epoch 578/1000\n",
            "3/3 - 0s - loss: 0.0616 - accuracy: 0.9778 - val_loss: 0.1790 - val_accuracy: 0.9333 - 34ms/epoch - 11ms/step\n",
            "Epoch 579/1000\n",
            "3/3 - 0s - loss: 0.0676 - accuracy: 0.9778 - val_loss: 0.1584 - val_accuracy: 0.9333 - 36ms/epoch - 12ms/step\n",
            "Epoch 580/1000\n",
            "3/3 - 0s - loss: 0.0577 - accuracy: 0.9778 - val_loss: 0.1165 - val_accuracy: 0.9333 - 41ms/epoch - 14ms/step\n",
            "Epoch 581/1000\n",
            "3/3 - 0s - loss: 0.0567 - accuracy: 0.9667 - val_loss: 0.1144 - val_accuracy: 0.9333 - 38ms/epoch - 13ms/step\n",
            "Epoch 582/1000\n",
            "3/3 - 0s - loss: 0.0604 - accuracy: 0.9667 - val_loss: 0.1227 - val_accuracy: 0.9333 - 32ms/epoch - 11ms/step\n",
            "Epoch 583/1000\n",
            "3/3 - 0s - loss: 0.0507 - accuracy: 0.9889 - val_loss: 0.1308 - val_accuracy: 0.9333 - 34ms/epoch - 11ms/step\n",
            "Epoch 584/1000\n",
            "3/3 - 0s - loss: 0.0494 - accuracy: 0.9889 - val_loss: 0.1222 - val_accuracy: 0.9333 - 34ms/epoch - 11ms/step\n",
            "Epoch 585/1000\n",
            "3/3 - 0s - loss: 0.0462 - accuracy: 0.9889 - val_loss: 0.1217 - val_accuracy: 0.9333 - 33ms/epoch - 11ms/step\n",
            "Epoch 586/1000\n",
            "3/3 - 0s - loss: 0.0459 - accuracy: 0.9889 - val_loss: 0.1296 - val_accuracy: 0.9333 - 36ms/epoch - 12ms/step\n",
            "Epoch 587/1000\n",
            "3/3 - 0s - loss: 0.0434 - accuracy: 0.9889 - val_loss: 0.1402 - val_accuracy: 0.9333 - 32ms/epoch - 11ms/step\n",
            "Epoch 588/1000\n",
            "3/3 - 0s - loss: 0.0430 - accuracy: 0.9889 - val_loss: 0.1491 - val_accuracy: 0.9333 - 33ms/epoch - 11ms/step\n",
            "Epoch 589/1000\n",
            "3/3 - 0s - loss: 0.0439 - accuracy: 0.9889 - val_loss: 0.1561 - val_accuracy: 0.9333 - 32ms/epoch - 11ms/step\n",
            "Epoch 590/1000\n",
            "3/3 - 0s - loss: 0.0443 - accuracy: 0.9889 - val_loss: 0.1554 - val_accuracy: 0.9333 - 35ms/epoch - 12ms/step\n",
            "Epoch 591/1000\n",
            "3/3 - 0s - loss: 0.0429 - accuracy: 0.9889 - val_loss: 0.1530 - val_accuracy: 0.9333 - 32ms/epoch - 11ms/step\n",
            "Epoch 592/1000\n",
            "3/3 - 0s - loss: 0.0429 - accuracy: 0.9889 - val_loss: 0.1522 - val_accuracy: 0.9333 - 32ms/epoch - 11ms/step\n",
            "Epoch 593/1000\n",
            "3/3 - 0s - loss: 0.0430 - accuracy: 0.9889 - val_loss: 0.1603 - val_accuracy: 0.9333 - 32ms/epoch - 11ms/step\n",
            "Epoch 594/1000\n",
            "3/3 - 0s - loss: 0.0438 - accuracy: 0.9889 - val_loss: 0.1611 - val_accuracy: 0.9333 - 34ms/epoch - 11ms/step\n",
            "Epoch 595/1000\n",
            "3/3 - 0s - loss: 0.0424 - accuracy: 0.9889 - val_loss: 0.1452 - val_accuracy: 0.9333 - 33ms/epoch - 11ms/step\n",
            "Epoch 596/1000\n",
            "3/3 - 0s - loss: 0.0447 - accuracy: 0.9889 - val_loss: 0.1450 - val_accuracy: 0.9333 - 36ms/epoch - 12ms/step\n",
            "Epoch 597/1000\n",
            "3/3 - 0s - loss: 0.0420 - accuracy: 0.9889 - val_loss: 0.1442 - val_accuracy: 0.9333 - 44ms/epoch - 15ms/step\n",
            "Epoch 598/1000\n",
            "3/3 - 0s - loss: 0.0422 - accuracy: 0.9889 - val_loss: 0.1352 - val_accuracy: 0.9333 - 39ms/epoch - 13ms/step\n",
            "Epoch 599/1000\n",
            "3/3 - 0s - loss: 0.0424 - accuracy: 0.9889 - val_loss: 0.1314 - val_accuracy: 0.9333 - 34ms/epoch - 11ms/step\n",
            "Epoch 600/1000\n",
            "3/3 - 0s - loss: 0.0446 - accuracy: 0.9889 - val_loss: 0.1387 - val_accuracy: 0.9333 - 38ms/epoch - 13ms/step\n",
            "Epoch 601/1000\n",
            "3/3 - 0s - loss: 0.0427 - accuracy: 0.9889 - val_loss: 0.1678 - val_accuracy: 0.9333 - 36ms/epoch - 12ms/step\n",
            "Epoch 602/1000\n",
            "3/3 - 0s - loss: 0.0603 - accuracy: 0.9778 - val_loss: 0.1805 - val_accuracy: 0.9333 - 34ms/epoch - 11ms/step\n",
            "Epoch 603/1000\n",
            "3/3 - 0s - loss: 0.0673 - accuracy: 0.9778 - val_loss: 0.1708 - val_accuracy: 0.9333 - 35ms/epoch - 12ms/step\n",
            "Epoch 604/1000\n",
            "3/3 - 0s - loss: 0.0611 - accuracy: 0.9778 - val_loss: 0.1557 - val_accuracy: 0.9333 - 32ms/epoch - 11ms/step\n",
            "Epoch 605/1000\n",
            "3/3 - 0s - loss: 0.0534 - accuracy: 0.9778 - val_loss: 0.1378 - val_accuracy: 0.9333 - 39ms/epoch - 13ms/step\n",
            "Epoch 606/1000\n",
            "3/3 - 0s - loss: 0.0436 - accuracy: 0.9889 - val_loss: 0.1277 - val_accuracy: 0.9333 - 34ms/epoch - 11ms/step\n",
            "Epoch 607/1000\n",
            "3/3 - 0s - loss: 0.0487 - accuracy: 0.9778 - val_loss: 0.1342 - val_accuracy: 0.9333 - 35ms/epoch - 12ms/step\n",
            "Epoch 608/1000\n",
            "3/3 - 0s - loss: 0.0415 - accuracy: 0.9889 - val_loss: 0.1439 - val_accuracy: 0.9333 - 37ms/epoch - 12ms/step\n",
            "Epoch 609/1000\n",
            "3/3 - 0s - loss: 0.0417 - accuracy: 0.9889 - val_loss: 0.1511 - val_accuracy: 0.9333 - 36ms/epoch - 12ms/step\n",
            "Epoch 610/1000\n",
            "3/3 - 0s - loss: 0.0431 - accuracy: 0.9889 - val_loss: 0.1525 - val_accuracy: 0.9333 - 38ms/epoch - 13ms/step\n",
            "Epoch 611/1000\n",
            "3/3 - 0s - loss: 0.0415 - accuracy: 0.9889 - val_loss: 0.1532 - val_accuracy: 0.9333 - 34ms/epoch - 11ms/step\n",
            "Epoch 612/1000\n",
            "3/3 - 0s - loss: 0.0403 - accuracy: 0.9889 - val_loss: 0.1523 - val_accuracy: 0.9333 - 39ms/epoch - 13ms/step\n",
            "Epoch 613/1000\n",
            "3/3 - 0s - loss: 0.0398 - accuracy: 0.9889 - val_loss: 0.1563 - val_accuracy: 0.9333 - 40ms/epoch - 13ms/step\n",
            "Epoch 614/1000\n",
            "3/3 - 0s - loss: 0.0397 - accuracy: 0.9889 - val_loss: 0.1623 - val_accuracy: 0.9333 - 56ms/epoch - 19ms/step\n",
            "Epoch 615/1000\n",
            "3/3 - 0s - loss: 0.0406 - accuracy: 0.9889 - val_loss: 0.1709 - val_accuracy: 0.9333 - 40ms/epoch - 13ms/step\n",
            "Epoch 616/1000\n",
            "3/3 - 0s - loss: 0.0407 - accuracy: 0.9889 - val_loss: 0.1753 - val_accuracy: 0.9333 - 36ms/epoch - 12ms/step\n",
            "Epoch 617/1000\n",
            "3/3 - 0s - loss: 0.0411 - accuracy: 0.9889 - val_loss: 0.1742 - val_accuracy: 0.9333 - 34ms/epoch - 11ms/step\n",
            "Epoch 618/1000\n",
            "3/3 - 0s - loss: 0.0404 - accuracy: 0.9889 - val_loss: 0.1769 - val_accuracy: 0.9333 - 38ms/epoch - 13ms/step\n",
            "Epoch 619/1000\n",
            "3/3 - 0s - loss: 0.0436 - accuracy: 0.9889 - val_loss: 0.1726 - val_accuracy: 0.9333 - 38ms/epoch - 13ms/step\n",
            "Epoch 620/1000\n",
            "3/3 - 0s - loss: 0.0427 - accuracy: 0.9889 - val_loss: 0.1597 - val_accuracy: 0.9333 - 35ms/epoch - 12ms/step\n",
            "Epoch 621/1000\n",
            "3/3 - 0s - loss: 0.0497 - accuracy: 0.9778 - val_loss: 0.1611 - val_accuracy: 0.9333 - 33ms/epoch - 11ms/step\n",
            "Epoch 622/1000\n",
            "3/3 - 0s - loss: 0.0402 - accuracy: 0.9889 - val_loss: 0.1706 - val_accuracy: 0.9333 - 43ms/epoch - 14ms/step\n",
            "Epoch 623/1000\n",
            "3/3 - 0s - loss: 0.0549 - accuracy: 0.9778 - val_loss: 0.1653 - val_accuracy: 0.9333 - 34ms/epoch - 11ms/step\n",
            "Epoch 624/1000\n",
            "3/3 - 0s - loss: 0.0504 - accuracy: 0.9778 - val_loss: 0.1485 - val_accuracy: 0.9333 - 39ms/epoch - 13ms/step\n",
            "Epoch 625/1000\n",
            "3/3 - 0s - loss: 0.0412 - accuracy: 0.9889 - val_loss: 0.1449 - val_accuracy: 0.9333 - 33ms/epoch - 11ms/step\n",
            "Epoch 626/1000\n",
            "3/3 - 0s - loss: 0.0415 - accuracy: 0.9889 - val_loss: 0.1562 - val_accuracy: 0.9333 - 37ms/epoch - 12ms/step\n",
            "Epoch 627/1000\n",
            "3/3 - 0s - loss: 0.0432 - accuracy: 0.9889 - val_loss: 0.1571 - val_accuracy: 0.9333 - 36ms/epoch - 12ms/step\n",
            "Epoch 628/1000\n",
            "3/3 - 0s - loss: 0.0389 - accuracy: 0.9889 - val_loss: 0.1830 - val_accuracy: 0.9000 - 32ms/epoch - 11ms/step\n",
            "Epoch 629/1000\n",
            "3/3 - 0s - loss: 0.0611 - accuracy: 0.9778 - val_loss: 0.1730 - val_accuracy: 0.9333 - 41ms/epoch - 14ms/step\n",
            "Epoch 630/1000\n",
            "3/3 - 0s - loss: 0.0453 - accuracy: 0.9889 - val_loss: 0.2120 - val_accuracy: 0.9333 - 33ms/epoch - 11ms/step\n",
            "Epoch 631/1000\n",
            "3/3 - 0s - loss: 0.0868 - accuracy: 0.9667 - val_loss: 0.1877 - val_accuracy: 0.9333 - 33ms/epoch - 11ms/step\n",
            "Epoch 632/1000\n",
            "3/3 - 0s - loss: 0.0606 - accuracy: 0.9778 - val_loss: 0.1571 - val_accuracy: 0.9333 - 33ms/epoch - 11ms/step\n",
            "Epoch 633/1000\n",
            "3/3 - 0s - loss: 0.0426 - accuracy: 0.9889 - val_loss: 0.1483 - val_accuracy: 0.9333 - 36ms/epoch - 12ms/step\n",
            "Epoch 634/1000\n",
            "3/3 - 0s - loss: 0.0394 - accuracy: 0.9889 - val_loss: 0.1612 - val_accuracy: 0.9333 - 32ms/epoch - 11ms/step\n",
            "Epoch 635/1000\n",
            "3/3 - 0s - loss: 0.0559 - accuracy: 0.9778 - val_loss: 0.1519 - val_accuracy: 0.9333 - 30ms/epoch - 10ms/step\n",
            "Epoch 636/1000\n",
            "3/3 - 0s - loss: 0.0447 - accuracy: 0.9889 - val_loss: 0.2333 - val_accuracy: 0.9333 - 33ms/epoch - 11ms/step\n",
            "Epoch 637/1000\n",
            "3/3 - 0s - loss: 0.1545 - accuracy: 0.9556 - val_loss: 0.1582 - val_accuracy: 0.9333 - 31ms/epoch - 10ms/step\n",
            "Epoch 638/1000\n",
            "3/3 - 0s - loss: 0.0452 - accuracy: 0.9889 - val_loss: 0.1966 - val_accuracy: 0.9333 - 33ms/epoch - 11ms/step\n",
            "Epoch 639/1000\n",
            "3/3 - 0s - loss: 0.0928 - accuracy: 0.9667 - val_loss: 0.1897 - val_accuracy: 0.9333 - 42ms/epoch - 14ms/step\n",
            "Epoch 640/1000\n",
            "3/3 - 0s - loss: 0.0707 - accuracy: 0.9667 - val_loss: 0.1439 - val_accuracy: 0.9333 - 34ms/epoch - 11ms/step\n",
            "Epoch 641/1000\n",
            "3/3 - 0s - loss: 0.0374 - accuracy: 0.9889 - val_loss: 0.1238 - val_accuracy: 0.9333 - 42ms/epoch - 14ms/step\n",
            "Epoch 642/1000\n",
            "3/3 - 0s - loss: 0.0828 - accuracy: 0.9667 - val_loss: 0.1179 - val_accuracy: 0.9333 - 32ms/epoch - 11ms/step\n",
            "Epoch 643/1000\n",
            "3/3 - 0s - loss: 0.0550 - accuracy: 0.9778 - val_loss: 0.1234 - val_accuracy: 0.9333 - 32ms/epoch - 11ms/step\n",
            "Epoch 644/1000\n",
            "3/3 - 0s - loss: 0.0585 - accuracy: 0.9778 - val_loss: 0.1409 - val_accuracy: 0.9333 - 37ms/epoch - 12ms/step\n",
            "Epoch 645/1000\n",
            "3/3 - 0s - loss: 0.0674 - accuracy: 0.9667 - val_loss: 0.1412 - val_accuracy: 0.9333 - 31ms/epoch - 10ms/step\n",
            "Epoch 646/1000\n",
            "3/3 - 0s - loss: 0.0629 - accuracy: 0.9778 - val_loss: 0.1267 - val_accuracy: 0.9333 - 35ms/epoch - 12ms/step\n",
            "Epoch 647/1000\n",
            "3/3 - 0s - loss: 0.0508 - accuracy: 0.9889 - val_loss: 0.1140 - val_accuracy: 0.9333 - 37ms/epoch - 12ms/step\n",
            "Epoch 648/1000\n",
            "3/3 - 0s - loss: 0.0573 - accuracy: 0.9889 - val_loss: 0.1755 - val_accuracy: 0.9000 - 36ms/epoch - 12ms/step\n",
            "Epoch 649/1000\n",
            "3/3 - 0s - loss: 0.1008 - accuracy: 0.9556 - val_loss: 0.1292 - val_accuracy: 0.9333 - 32ms/epoch - 11ms/step\n",
            "Epoch 650/1000\n",
            "3/3 - 0s - loss: 0.0631 - accuracy: 0.9889 - val_loss: 0.2393 - val_accuracy: 0.9333 - 32ms/epoch - 11ms/step\n",
            "Epoch 651/1000\n",
            "3/3 - 0s - loss: 0.1713 - accuracy: 0.9111 - val_loss: 0.2364 - val_accuracy: 0.9333 - 36ms/epoch - 12ms/step\n",
            "Epoch 652/1000\n",
            "3/3 - 0s - loss: 0.1619 - accuracy: 0.9111 - val_loss: 0.1552 - val_accuracy: 0.9333 - 50ms/epoch - 17ms/step\n",
            "Epoch 653/1000\n",
            "3/3 - 0s - loss: 0.0788 - accuracy: 0.9444 - val_loss: 0.1129 - val_accuracy: 0.9333 - 38ms/epoch - 13ms/step\n",
            "Epoch 654/1000\n",
            "3/3 - 0s - loss: 0.0660 - accuracy: 0.9889 - val_loss: 0.1135 - val_accuracy: 0.9333 - 31ms/epoch - 10ms/step\n",
            "Epoch 655/1000\n",
            "3/3 - 0s - loss: 0.0823 - accuracy: 0.9667 - val_loss: 0.1199 - val_accuracy: 0.9000 - 35ms/epoch - 12ms/step\n",
            "Epoch 656/1000\n",
            "3/3 - 0s - loss: 0.0868 - accuracy: 0.9667 - val_loss: 0.1050 - val_accuracy: 0.9333 - 31ms/epoch - 10ms/step\n",
            "Epoch 657/1000\n",
            "3/3 - 0s - loss: 0.0655 - accuracy: 0.9667 - val_loss: 0.1015 - val_accuracy: 0.9333 - 31ms/epoch - 10ms/step\n",
            "Epoch 658/1000\n",
            "3/3 - 0s - loss: 0.0550 - accuracy: 0.9889 - val_loss: 0.1196 - val_accuracy: 0.9333 - 40ms/epoch - 13ms/step\n",
            "Epoch 659/1000\n",
            "3/3 - 0s - loss: 0.0597 - accuracy: 0.9778 - val_loss: 0.1391 - val_accuracy: 0.9333 - 33ms/epoch - 11ms/step\n",
            "Epoch 660/1000\n",
            "3/3 - 0s - loss: 0.0565 - accuracy: 0.9778 - val_loss: 0.1261 - val_accuracy: 0.9333 - 36ms/epoch - 12ms/step\n",
            "Epoch 661/1000\n",
            "3/3 - 0s - loss: 0.0543 - accuracy: 0.9778 - val_loss: 0.1130 - val_accuracy: 0.9333 - 40ms/epoch - 13ms/step\n",
            "Epoch 662/1000\n",
            "3/3 - 0s - loss: 0.0498 - accuracy: 0.9889 - val_loss: 0.1019 - val_accuracy: 0.9333 - 38ms/epoch - 13ms/step\n",
            "Epoch 663/1000\n",
            "3/3 - 0s - loss: 0.0491 - accuracy: 0.9889 - val_loss: 0.1018 - val_accuracy: 0.9000 - 32ms/epoch - 11ms/step\n",
            "Epoch 664/1000\n",
            "3/3 - 0s - loss: 0.0632 - accuracy: 0.9667 - val_loss: 0.1025 - val_accuracy: 0.9333 - 53ms/epoch - 18ms/step\n",
            "Epoch 665/1000\n",
            "3/3 - 0s - loss: 0.0456 - accuracy: 0.9889 - val_loss: 0.1210 - val_accuracy: 0.9333 - 31ms/epoch - 10ms/step\n",
            "Epoch 666/1000\n",
            "3/3 - 0s - loss: 0.0463 - accuracy: 0.9889 - val_loss: 0.1493 - val_accuracy: 0.9333 - 36ms/epoch - 12ms/step\n",
            "Epoch 667/1000\n",
            "3/3 - 0s - loss: 0.0563 - accuracy: 0.9778 - val_loss: 0.1663 - val_accuracy: 0.9333 - 31ms/epoch - 10ms/step\n",
            "Epoch 668/1000\n",
            "3/3 - 0s - loss: 0.0581 - accuracy: 0.9778 - val_loss: 0.1653 - val_accuracy: 0.9333 - 34ms/epoch - 11ms/step\n",
            "Epoch 669/1000\n",
            "3/3 - 0s - loss: 0.0540 - accuracy: 0.9778 - val_loss: 0.1469 - val_accuracy: 0.9333 - 37ms/epoch - 12ms/step\n",
            "Epoch 670/1000\n",
            "3/3 - 0s - loss: 0.0448 - accuracy: 0.9889 - val_loss: 0.1265 - val_accuracy: 0.9333 - 30ms/epoch - 10ms/step\n",
            "Epoch 671/1000\n",
            "3/3 - 0s - loss: 0.0482 - accuracy: 0.9889 - val_loss: 0.1370 - val_accuracy: 0.9333 - 31ms/epoch - 10ms/step\n",
            "Epoch 672/1000\n",
            "3/3 - 0s - loss: 0.0431 - accuracy: 0.9889 - val_loss: 0.1769 - val_accuracy: 0.9333 - 56ms/epoch - 19ms/step\n",
            "Epoch 673/1000\n",
            "3/3 - 0s - loss: 0.0601 - accuracy: 0.9778 - val_loss: 0.1946 - val_accuracy: 0.9333 - 44ms/epoch - 15ms/step\n",
            "Epoch 674/1000\n",
            "3/3 - 0s - loss: 0.0661 - accuracy: 0.9778 - val_loss: 0.1844 - val_accuracy: 0.9333 - 42ms/epoch - 14ms/step\n",
            "Epoch 675/1000\n",
            "3/3 - 0s - loss: 0.0644 - accuracy: 0.9778 - val_loss: 0.1420 - val_accuracy: 0.9333 - 32ms/epoch - 11ms/step\n",
            "Epoch 676/1000\n",
            "3/3 - 0s - loss: 0.0509 - accuracy: 0.9778 - val_loss: 0.1180 - val_accuracy: 0.9333 - 33ms/epoch - 11ms/step\n",
            "Epoch 677/1000\n",
            "3/3 - 0s - loss: 0.0447 - accuracy: 0.9889 - val_loss: 0.1103 - val_accuracy: 0.9333 - 50ms/epoch - 17ms/step\n",
            "Epoch 678/1000\n",
            "3/3 - 0s - loss: 0.0547 - accuracy: 0.9778 - val_loss: 0.1101 - val_accuracy: 0.9333 - 35ms/epoch - 12ms/step\n",
            "Epoch 679/1000\n",
            "3/3 - 0s - loss: 0.0521 - accuracy: 0.9889 - val_loss: 0.1132 - val_accuracy: 0.9333 - 31ms/epoch - 10ms/step\n",
            "Epoch 680/1000\n",
            "3/3 - 0s - loss: 0.0484 - accuracy: 0.9889 - val_loss: 0.1215 - val_accuracy: 0.9333 - 41ms/epoch - 14ms/step\n",
            "Epoch 681/1000\n",
            "3/3 - 0s - loss: 0.0507 - accuracy: 0.9778 - val_loss: 0.1236 - val_accuracy: 0.9333 - 34ms/epoch - 11ms/step\n",
            "Epoch 682/1000\n",
            "3/3 - 0s - loss: 0.0500 - accuracy: 0.9889 - val_loss: 0.1224 - val_accuracy: 0.9333 - 36ms/epoch - 12ms/step\n",
            "Epoch 683/1000\n",
            "3/3 - 0s - loss: 0.0433 - accuracy: 0.9889 - val_loss: 0.1280 - val_accuracy: 0.9333 - 41ms/epoch - 14ms/step\n",
            "Epoch 684/1000\n",
            "3/3 - 0s - loss: 0.0419 - accuracy: 0.9889 - val_loss: 0.1347 - val_accuracy: 0.9333 - 57ms/epoch - 19ms/step\n",
            "Epoch 685/1000\n",
            "3/3 - 0s - loss: 0.0401 - accuracy: 0.9889 - val_loss: 0.1404 - val_accuracy: 0.9333 - 43ms/epoch - 14ms/step\n",
            "Epoch 686/1000\n",
            "3/3 - 0s - loss: 0.0392 - accuracy: 0.9889 - val_loss: 0.1473 - val_accuracy: 0.9333 - 44ms/epoch - 15ms/step\n",
            "Epoch 687/1000\n",
            "3/3 - 0s - loss: 0.0399 - accuracy: 0.9889 - val_loss: 0.1579 - val_accuracy: 0.9333 - 52ms/epoch - 17ms/step\n",
            "Epoch 688/1000\n",
            "3/3 - 0s - loss: 0.0399 - accuracy: 0.9889 - val_loss: 0.1655 - val_accuracy: 0.9333 - 40ms/epoch - 13ms/step\n",
            "Epoch 689/1000\n",
            "3/3 - 0s - loss: 0.0403 - accuracy: 0.9889 - val_loss: 0.1646 - val_accuracy: 0.9333 - 51ms/epoch - 17ms/step\n",
            "Epoch 690/1000\n",
            "3/3 - 0s - loss: 0.0386 - accuracy: 0.9889 - val_loss: 0.1547 - val_accuracy: 0.9333 - 31ms/epoch - 10ms/step\n",
            "Epoch 691/1000\n",
            "3/3 - 0s - loss: 0.0425 - accuracy: 0.9889 - val_loss: 0.1565 - val_accuracy: 0.9333 - 34ms/epoch - 11ms/step\n",
            "Epoch 692/1000\n",
            "3/3 - 0s - loss: 0.0383 - accuracy: 0.9889 - val_loss: 0.1583 - val_accuracy: 0.9333 - 39ms/epoch - 13ms/step\n",
            "Epoch 693/1000\n",
            "3/3 - 0s - loss: 0.0387 - accuracy: 0.9889 - val_loss: 0.1610 - val_accuracy: 0.9333 - 37ms/epoch - 12ms/step\n",
            "Epoch 694/1000\n",
            "3/3 - 0s - loss: 0.0399 - accuracy: 0.9889 - val_loss: 0.1624 - val_accuracy: 0.9333 - 33ms/epoch - 11ms/step\n",
            "Epoch 695/1000\n",
            "3/3 - 0s - loss: 0.0392 - accuracy: 0.9889 - val_loss: 0.1623 - val_accuracy: 0.9333 - 33ms/epoch - 11ms/step\n",
            "Epoch 696/1000\n",
            "3/3 - 0s - loss: 0.0381 - accuracy: 0.9889 - val_loss: 0.1639 - val_accuracy: 0.9333 - 33ms/epoch - 11ms/step\n",
            "Epoch 697/1000\n",
            "3/3 - 0s - loss: 0.0379 - accuracy: 0.9889 - val_loss: 0.1635 - val_accuracy: 0.9333 - 30ms/epoch - 10ms/step\n",
            "Epoch 698/1000\n",
            "3/3 - 0s - loss: 0.0389 - accuracy: 0.9889 - val_loss: 0.1667 - val_accuracy: 0.9333 - 39ms/epoch - 13ms/step\n",
            "Epoch 699/1000\n",
            "3/3 - 0s - loss: 0.0380 - accuracy: 0.9889 - val_loss: 0.1698 - val_accuracy: 0.9333 - 39ms/epoch - 13ms/step\n",
            "Epoch 700/1000\n",
            "3/3 - 0s - loss: 0.0376 - accuracy: 0.9889 - val_loss: 0.1707 - val_accuracy: 0.9333 - 34ms/epoch - 11ms/step\n",
            "Epoch 701/1000\n",
            "3/3 - 0s - loss: 0.0377 - accuracy: 0.9889 - val_loss: 0.1711 - val_accuracy: 0.9333 - 38ms/epoch - 13ms/step\n",
            "Epoch 702/1000\n",
            "3/3 - 0s - loss: 0.0383 - accuracy: 0.9889 - val_loss: 0.1726 - val_accuracy: 0.9333 - 34ms/epoch - 11ms/step\n",
            "Epoch 703/1000\n",
            "3/3 - 0s - loss: 0.0380 - accuracy: 0.9889 - val_loss: 0.1725 - val_accuracy: 0.9333 - 35ms/epoch - 12ms/step\n",
            "Epoch 704/1000\n",
            "3/3 - 0s - loss: 0.0370 - accuracy: 0.9889 - val_loss: 0.1666 - val_accuracy: 0.9333 - 43ms/epoch - 14ms/step\n",
            "Epoch 705/1000\n",
            "3/3 - 0s - loss: 0.0395 - accuracy: 0.9889 - val_loss: 0.1572 - val_accuracy: 0.9333 - 35ms/epoch - 12ms/step\n",
            "Epoch 706/1000\n",
            "3/3 - 0s - loss: 0.0378 - accuracy: 0.9889 - val_loss: 0.1535 - val_accuracy: 0.9333 - 38ms/epoch - 13ms/step\n",
            "Epoch 707/1000\n",
            "3/3 - 0s - loss: 0.0373 - accuracy: 0.9889 - val_loss: 0.1543 - val_accuracy: 0.9333 - 33ms/epoch - 11ms/step\n",
            "Epoch 708/1000\n",
            "3/3 - 0s - loss: 0.0381 - accuracy: 0.9889 - val_loss: 0.1542 - val_accuracy: 0.9333 - 37ms/epoch - 12ms/step\n",
            "Epoch 709/1000\n",
            "3/3 - 0s - loss: 0.0386 - accuracy: 0.9889 - val_loss: 0.1563 - val_accuracy: 0.9333 - 35ms/epoch - 12ms/step\n",
            "Epoch 710/1000\n",
            "3/3 - 0s - loss: 0.0381 - accuracy: 0.9889 - val_loss: 0.1584 - val_accuracy: 0.9333 - 39ms/epoch - 13ms/step\n",
            "Epoch 711/1000\n",
            "3/3 - 0s - loss: 0.0373 - accuracy: 0.9889 - val_loss: 0.1605 - val_accuracy: 0.9333 - 43ms/epoch - 14ms/step\n",
            "Epoch 712/1000\n",
            "3/3 - 0s - loss: 0.0369 - accuracy: 0.9889 - val_loss: 0.1611 - val_accuracy: 0.9333 - 34ms/epoch - 11ms/step\n",
            "Epoch 713/1000\n",
            "3/3 - 0s - loss: 0.0398 - accuracy: 0.9889 - val_loss: 0.1538 - val_accuracy: 0.9333 - 31ms/epoch - 10ms/step\n",
            "Epoch 714/1000\n",
            "3/3 - 0s - loss: 0.0366 - accuracy: 0.9889 - val_loss: 0.1470 - val_accuracy: 0.9333 - 36ms/epoch - 12ms/step\n",
            "Epoch 715/1000\n",
            "3/3 - 0s - loss: 0.0375 - accuracy: 0.9889 - val_loss: 0.1437 - val_accuracy: 0.9333 - 40ms/epoch - 13ms/step\n",
            "Epoch 716/1000\n",
            "3/3 - 0s - loss: 0.0402 - accuracy: 0.9889 - val_loss: 0.1417 - val_accuracy: 0.9333 - 34ms/epoch - 11ms/step\n",
            "Epoch 717/1000\n",
            "3/3 - 0s - loss: 0.0390 - accuracy: 0.9889 - val_loss: 0.1407 - val_accuracy: 0.9333 - 38ms/epoch - 13ms/step\n",
            "Epoch 718/1000\n",
            "3/3 - 0s - loss: 0.0377 - accuracy: 0.9889 - val_loss: 0.1409 - val_accuracy: 0.9333 - 32ms/epoch - 11ms/step\n",
            "Epoch 719/1000\n",
            "3/3 - 0s - loss: 0.0367 - accuracy: 0.9889 - val_loss: 0.1465 - val_accuracy: 0.9333 - 36ms/epoch - 12ms/step\n",
            "Epoch 720/1000\n",
            "3/3 - 0s - loss: 0.0357 - accuracy: 0.9889 - val_loss: 0.1561 - val_accuracy: 0.9333 - 36ms/epoch - 12ms/step\n",
            "Epoch 721/1000\n",
            "3/3 - 0s - loss: 0.0365 - accuracy: 0.9889 - val_loss: 0.1654 - val_accuracy: 0.9333 - 36ms/epoch - 12ms/step\n",
            "Epoch 722/1000\n",
            "3/3 - 0s - loss: 0.0365 - accuracy: 0.9889 - val_loss: 0.1716 - val_accuracy: 0.9333 - 58ms/epoch - 19ms/step\n",
            "Epoch 723/1000\n",
            "3/3 - 0s - loss: 0.0363 - accuracy: 0.9889 - val_loss: 0.1748 - val_accuracy: 0.9333 - 38ms/epoch - 13ms/step\n",
            "Epoch 724/1000\n",
            "3/3 - 0s - loss: 0.0366 - accuracy: 0.9889 - val_loss: 0.1807 - val_accuracy: 0.9333 - 33ms/epoch - 11ms/step\n",
            "Epoch 725/1000\n",
            "3/3 - 0s - loss: 0.0366 - accuracy: 0.9889 - val_loss: 0.1798 - val_accuracy: 0.9333 - 33ms/epoch - 11ms/step\n",
            "Epoch 726/1000\n",
            "3/3 - 0s - loss: 0.0364 - accuracy: 0.9889 - val_loss: 0.1672 - val_accuracy: 0.9333 - 35ms/epoch - 12ms/step\n",
            "Epoch 727/1000\n",
            "3/3 - 0s - loss: 0.0378 - accuracy: 0.9889 - val_loss: 0.1607 - val_accuracy: 0.9333 - 34ms/epoch - 11ms/step\n",
            "Epoch 728/1000\n",
            "3/3 - 0s - loss: 0.0400 - accuracy: 0.9889 - val_loss: 0.1605 - val_accuracy: 0.9333 - 31ms/epoch - 10ms/step\n",
            "Epoch 729/1000\n",
            "3/3 - 0s - loss: 0.0516 - accuracy: 0.9778 - val_loss: 0.1549 - val_accuracy: 0.9333 - 35ms/epoch - 12ms/step\n",
            "Epoch 730/1000\n",
            "3/3 - 0s - loss: 0.0367 - accuracy: 0.9889 - val_loss: 0.1543 - val_accuracy: 0.9333 - 34ms/epoch - 11ms/step\n",
            "Epoch 731/1000\n",
            "3/3 - 0s - loss: 0.0363 - accuracy: 0.9889 - val_loss: 0.1576 - val_accuracy: 0.9333 - 35ms/epoch - 12ms/step\n",
            "Epoch 732/1000\n",
            "3/3 - 0s - loss: 0.0369 - accuracy: 0.9889 - val_loss: 0.1639 - val_accuracy: 0.9333 - 29ms/epoch - 10ms/step\n",
            "Epoch 733/1000\n",
            "3/3 - 0s - loss: 0.0367 - accuracy: 0.9889 - val_loss: 0.1699 - val_accuracy: 0.9333 - 35ms/epoch - 12ms/step\n",
            "Epoch 734/1000\n",
            "3/3 - 0s - loss: 0.0349 - accuracy: 0.9889 - val_loss: 0.1659 - val_accuracy: 0.9333 - 35ms/epoch - 12ms/step\n",
            "Epoch 735/1000\n",
            "3/3 - 0s - loss: 0.0349 - accuracy: 0.9889 - val_loss: 0.1644 - val_accuracy: 0.9333 - 44ms/epoch - 15ms/step\n",
            "Epoch 736/1000\n",
            "3/3 - 0s - loss: 0.0346 - accuracy: 0.9889 - val_loss: 0.1643 - val_accuracy: 0.9333 - 32ms/epoch - 11ms/step\n",
            "Epoch 737/1000\n",
            "3/3 - 0s - loss: 0.0343 - accuracy: 0.9889 - val_loss: 0.1642 - val_accuracy: 0.9333 - 36ms/epoch - 12ms/step\n",
            "Epoch 738/1000\n",
            "3/3 - 0s - loss: 0.0344 - accuracy: 0.9889 - val_loss: 0.1664 - val_accuracy: 0.9333 - 35ms/epoch - 12ms/step\n",
            "Epoch 739/1000\n",
            "3/3 - 0s - loss: 0.0342 - accuracy: 0.9889 - val_loss: 0.1692 - val_accuracy: 0.9333 - 32ms/epoch - 11ms/step\n",
            "Epoch 740/1000\n",
            "3/3 - 0s - loss: 0.0341 - accuracy: 0.9889 - val_loss: 0.1712 - val_accuracy: 0.9333 - 33ms/epoch - 11ms/step\n",
            "Epoch 741/1000\n",
            "3/3 - 0s - loss: 0.0343 - accuracy: 0.9889 - val_loss: 0.1734 - val_accuracy: 0.9333 - 37ms/epoch - 12ms/step\n",
            "Epoch 742/1000\n",
            "3/3 - 0s - loss: 0.0342 - accuracy: 0.9889 - val_loss: 0.1747 - val_accuracy: 0.9333 - 36ms/epoch - 12ms/step\n",
            "Epoch 743/1000\n",
            "3/3 - 0s - loss: 0.0340 - accuracy: 0.9889 - val_loss: 0.1752 - val_accuracy: 0.9333 - 32ms/epoch - 11ms/step\n",
            "Epoch 744/1000\n",
            "3/3 - 0s - loss: 0.0338 - accuracy: 0.9889 - val_loss: 0.1749 - val_accuracy: 0.9333 - 36ms/epoch - 12ms/step\n",
            "Epoch 745/1000\n",
            "3/3 - 0s - loss: 0.0336 - accuracy: 0.9889 - val_loss: 0.1752 - val_accuracy: 0.9333 - 41ms/epoch - 14ms/step\n",
            "Epoch 746/1000\n",
            "3/3 - 0s - loss: 0.0335 - accuracy: 0.9889 - val_loss: 0.1750 - val_accuracy: 0.9333 - 36ms/epoch - 12ms/step\n",
            "Epoch 747/1000\n",
            "3/3 - 0s - loss: 0.0333 - accuracy: 0.9889 - val_loss: 0.1756 - val_accuracy: 0.9333 - 49ms/epoch - 16ms/step\n",
            "Epoch 748/1000\n",
            "3/3 - 0s - loss: 0.0331 - accuracy: 0.9889 - val_loss: 0.1787 - val_accuracy: 0.9333 - 34ms/epoch - 11ms/step\n",
            "Epoch 749/1000\n",
            "3/3 - 0s - loss: 0.0332 - accuracy: 0.9889 - val_loss: 0.1820 - val_accuracy: 0.9333 - 36ms/epoch - 12ms/step\n",
            "Epoch 750/1000\n",
            "3/3 - 0s - loss: 0.0335 - accuracy: 0.9889 - val_loss: 0.1837 - val_accuracy: 0.9333 - 38ms/epoch - 13ms/step\n",
            "Epoch 751/1000\n",
            "3/3 - 0s - loss: 0.0338 - accuracy: 0.9889 - val_loss: 0.1784 - val_accuracy: 0.9333 - 32ms/epoch - 11ms/step\n",
            "Epoch 752/1000\n",
            "3/3 - 0s - loss: 0.0354 - accuracy: 0.9889 - val_loss: 0.1600 - val_accuracy: 0.9333 - 45ms/epoch - 15ms/step\n",
            "Epoch 753/1000\n",
            "3/3 - 0s - loss: 0.0350 - accuracy: 0.9889 - val_loss: 0.1532 - val_accuracy: 0.9333 - 41ms/epoch - 14ms/step\n",
            "Epoch 754/1000\n",
            "3/3 - 0s - loss: 0.0347 - accuracy: 0.9889 - val_loss: 0.1535 - val_accuracy: 0.9333 - 32ms/epoch - 11ms/step\n",
            "Epoch 755/1000\n",
            "3/3 - 0s - loss: 0.0357 - accuracy: 0.9889 - val_loss: 0.1556 - val_accuracy: 0.9333 - 35ms/epoch - 12ms/step\n",
            "Epoch 756/1000\n",
            "3/3 - 0s - loss: 0.0355 - accuracy: 0.9889 - val_loss: 0.1617 - val_accuracy: 0.9333 - 33ms/epoch - 11ms/step\n",
            "Epoch 757/1000\n",
            "3/3 - 0s - loss: 0.0341 - accuracy: 0.9889 - val_loss: 0.1750 - val_accuracy: 0.9333 - 33ms/epoch - 11ms/step\n",
            "Epoch 758/1000\n",
            "3/3 - 0s - loss: 0.0334 - accuracy: 0.9889 - val_loss: 0.1902 - val_accuracy: 0.9333 - 41ms/epoch - 14ms/step\n",
            "Epoch 759/1000\n",
            "3/3 - 0s - loss: 0.0333 - accuracy: 0.9889 - val_loss: 0.2013 - val_accuracy: 0.9333 - 33ms/epoch - 11ms/step\n",
            "Epoch 760/1000\n",
            "3/3 - 0s - loss: 0.0341 - accuracy: 0.9889 - val_loss: 0.2058 - val_accuracy: 0.9333 - 36ms/epoch - 12ms/step\n",
            "Epoch 761/1000\n",
            "3/3 - 0s - loss: 0.0338 - accuracy: 0.9889 - val_loss: 0.2071 - val_accuracy: 0.9333 - 36ms/epoch - 12ms/step\n",
            "Epoch 762/1000\n",
            "3/3 - 0s - loss: 0.0345 - accuracy: 0.9889 - val_loss: 0.2082 - val_accuracy: 0.9333 - 31ms/epoch - 10ms/step\n",
            "Epoch 763/1000\n",
            "3/3 - 0s - loss: 0.0342 - accuracy: 0.9889 - val_loss: 0.2100 - val_accuracy: 0.9333 - 32ms/epoch - 11ms/step\n",
            "Epoch 764/1000\n",
            "3/3 - 0s - loss: 0.0340 - accuracy: 0.9889 - val_loss: 0.2088 - val_accuracy: 0.9333 - 48ms/epoch - 16ms/step\n",
            "Epoch 765/1000\n",
            "3/3 - 0s - loss: 0.0335 - accuracy: 0.9889 - val_loss: 0.2036 - val_accuracy: 0.9333 - 42ms/epoch - 14ms/step\n",
            "Epoch 766/1000\n",
            "3/3 - 0s - loss: 0.0334 - accuracy: 0.9889 - val_loss: 0.2006 - val_accuracy: 0.9333 - 36ms/epoch - 12ms/step\n",
            "Epoch 767/1000\n",
            "3/3 - 0s - loss: 0.0325 - accuracy: 0.9889 - val_loss: 0.1920 - val_accuracy: 0.9333 - 33ms/epoch - 11ms/step\n",
            "Epoch 768/1000\n",
            "3/3 - 0s - loss: 0.0322 - accuracy: 0.9889 - val_loss: 0.1729 - val_accuracy: 0.9333 - 32ms/epoch - 11ms/step\n",
            "Epoch 769/1000\n",
            "3/3 - 0s - loss: 0.0326 - accuracy: 0.9889 - val_loss: 0.1619 - val_accuracy: 0.9333 - 33ms/epoch - 11ms/step\n",
            "Epoch 770/1000\n",
            "3/3 - 0s - loss: 0.0331 - accuracy: 0.9889 - val_loss: 0.1603 - val_accuracy: 0.9333 - 49ms/epoch - 16ms/step\n",
            "Epoch 771/1000\n",
            "3/3 - 0s - loss: 0.0329 - accuracy: 0.9889 - val_loss: 0.1640 - val_accuracy: 0.9333 - 49ms/epoch - 16ms/step\n",
            "Epoch 772/1000\n",
            "3/3 - 0s - loss: 0.0322 - accuracy: 0.9889 - val_loss: 0.1707 - val_accuracy: 0.9333 - 33ms/epoch - 11ms/step\n",
            "Epoch 773/1000\n",
            "3/3 - 0s - loss: 0.0321 - accuracy: 0.9889 - val_loss: 0.1787 - val_accuracy: 0.9333 - 35ms/epoch - 12ms/step\n",
            "Epoch 774/1000\n",
            "3/3 - 0s - loss: 0.0322 - accuracy: 0.9889 - val_loss: 0.1850 - val_accuracy: 0.9333 - 35ms/epoch - 12ms/step\n",
            "Epoch 775/1000\n",
            "3/3 - 0s - loss: 0.0322 - accuracy: 0.9889 - val_loss: 0.1891 - val_accuracy: 0.9333 - 32ms/epoch - 11ms/step\n",
            "Epoch 776/1000\n",
            "3/3 - 0s - loss: 0.0320 - accuracy: 0.9889 - val_loss: 0.1942 - val_accuracy: 0.9333 - 38ms/epoch - 13ms/step\n",
            "Epoch 777/1000\n",
            "3/3 - 0s - loss: 0.0321 - accuracy: 0.9889 - val_loss: 0.1968 - val_accuracy: 0.9333 - 33ms/epoch - 11ms/step\n",
            "Epoch 778/1000\n",
            "3/3 - 0s - loss: 0.0314 - accuracy: 0.9889 - val_loss: 0.1963 - val_accuracy: 0.9333 - 40ms/epoch - 13ms/step\n",
            "Epoch 779/1000\n",
            "3/3 - 0s - loss: 0.0373 - accuracy: 0.9889 - val_loss: 0.2061 - val_accuracy: 0.9333 - 34ms/epoch - 11ms/step\n",
            "Epoch 780/1000\n",
            "3/3 - 0s - loss: 0.1017 - accuracy: 0.9778 - val_loss: 0.1843 - val_accuracy: 0.9333 - 35ms/epoch - 12ms/step\n",
            "Epoch 781/1000\n",
            "3/3 - 0s - loss: 0.1074 - accuracy: 0.9667 - val_loss: 0.2183 - val_accuracy: 0.9333 - 50ms/epoch - 17ms/step\n",
            "Epoch 782/1000\n",
            "3/3 - 0s - loss: 0.2090 - accuracy: 0.9111 - val_loss: 0.1231 - val_accuracy: 0.9333 - 38ms/epoch - 13ms/step\n",
            "Epoch 783/1000\n",
            "3/3 - 0s - loss: 0.0603 - accuracy: 0.9778 - val_loss: 0.1145 - val_accuracy: 0.9333 - 48ms/epoch - 16ms/step\n",
            "Epoch 784/1000\n",
            "3/3 - 0s - loss: 0.0741 - accuracy: 0.9778 - val_loss: 0.1470 - val_accuracy: 0.9333 - 35ms/epoch - 12ms/step\n",
            "Epoch 785/1000\n",
            "3/3 - 0s - loss: 0.1088 - accuracy: 0.9667 - val_loss: 0.0938 - val_accuracy: 0.9333 - 54ms/epoch - 18ms/step\n",
            "Epoch 786/1000\n",
            "3/3 - 0s - loss: 0.0542 - accuracy: 0.9889 - val_loss: 0.1073 - val_accuracy: 0.9333 - 33ms/epoch - 11ms/step\n",
            "Epoch 787/1000\n",
            "3/3 - 0s - loss: 0.0635 - accuracy: 0.9778 - val_loss: 0.1453 - val_accuracy: 0.9333 - 38ms/epoch - 13ms/step\n",
            "Epoch 788/1000\n",
            "3/3 - 0s - loss: 0.0616 - accuracy: 0.9778 - val_loss: 0.1230 - val_accuracy: 0.9333 - 33ms/epoch - 11ms/step\n",
            "Epoch 789/1000\n",
            "3/3 - 0s - loss: 0.0577 - accuracy: 0.9778 - val_loss: 0.1079 - val_accuracy: 0.9333 - 35ms/epoch - 12ms/step\n",
            "Epoch 790/1000\n",
            "3/3 - 0s - loss: 0.0547 - accuracy: 0.9778 - val_loss: 0.1043 - val_accuracy: 0.9333 - 40ms/epoch - 13ms/step\n",
            "Epoch 791/1000\n",
            "3/3 - 0s - loss: 0.0546 - accuracy: 0.9778 - val_loss: 0.0979 - val_accuracy: 0.9333 - 36ms/epoch - 12ms/step\n",
            "Epoch 792/1000\n",
            "3/3 - 0s - loss: 0.0476 - accuracy: 0.9889 - val_loss: 0.0961 - val_accuracy: 0.9333 - 31ms/epoch - 10ms/step\n",
            "Epoch 793/1000\n",
            "3/3 - 0s - loss: 0.0682 - accuracy: 0.9667 - val_loss: 0.1043 - val_accuracy: 0.9000 - 31ms/epoch - 10ms/step\n",
            "Epoch 794/1000\n",
            "3/3 - 0s - loss: 0.0672 - accuracy: 0.9667 - val_loss: 0.0967 - val_accuracy: 0.9333 - 39ms/epoch - 13ms/step\n",
            "Epoch 795/1000\n",
            "3/3 - 0s - loss: 0.0523 - accuracy: 0.9889 - val_loss: 0.1201 - val_accuracy: 0.9333 - 36ms/epoch - 12ms/step\n",
            "Epoch 796/1000\n",
            "3/3 - 0s - loss: 0.0522 - accuracy: 0.9778 - val_loss: 0.1595 - val_accuracy: 0.9333 - 36ms/epoch - 12ms/step\n",
            "Epoch 797/1000\n",
            "3/3 - 0s - loss: 0.0649 - accuracy: 0.9778 - val_loss: 0.1849 - val_accuracy: 0.9333 - 37ms/epoch - 12ms/step\n",
            "Epoch 798/1000\n",
            "3/3 - 0s - loss: 0.0664 - accuracy: 0.9778 - val_loss: 0.1643 - val_accuracy: 0.9333 - 32ms/epoch - 11ms/step\n",
            "Epoch 799/1000\n",
            "3/3 - 0s - loss: 0.0586 - accuracy: 0.9778 - val_loss: 0.1262 - val_accuracy: 0.9333 - 30ms/epoch - 10ms/step\n",
            "Epoch 800/1000\n",
            "3/3 - 0s - loss: 0.0520 - accuracy: 0.9889 - val_loss: 0.1025 - val_accuracy: 0.9333 - 38ms/epoch - 13ms/step\n",
            "Epoch 801/1000\n",
            "3/3 - 0s - loss: 0.0469 - accuracy: 0.9889 - val_loss: 0.0977 - val_accuracy: 0.9333 - 35ms/epoch - 12ms/step\n",
            "Epoch 802/1000\n",
            "3/3 - 0s - loss: 0.0475 - accuracy: 0.9889 - val_loss: 0.1085 - val_accuracy: 0.9333 - 39ms/epoch - 13ms/step\n",
            "Epoch 803/1000\n",
            "3/3 - 0s - loss: 0.0455 - accuracy: 0.9889 - val_loss: 0.1259 - val_accuracy: 0.9333 - 33ms/epoch - 11ms/step\n",
            "Epoch 804/1000\n",
            "3/3 - 0s - loss: 0.0447 - accuracy: 0.9889 - val_loss: 0.1329 - val_accuracy: 0.9333 - 33ms/epoch - 11ms/step\n",
            "Epoch 805/1000\n",
            "3/3 - 0s - loss: 0.0442 - accuracy: 0.9889 - val_loss: 0.1310 - val_accuracy: 0.9333 - 38ms/epoch - 13ms/step\n",
            "Epoch 806/1000\n",
            "3/3 - 0s - loss: 0.0420 - accuracy: 0.9889 - val_loss: 0.1283 - val_accuracy: 0.9333 - 37ms/epoch - 12ms/step\n",
            "Epoch 807/1000\n",
            "3/3 - 0s - loss: 0.0419 - accuracy: 0.9889 - val_loss: 0.1279 - val_accuracy: 0.9333 - 33ms/epoch - 11ms/step\n",
            "Epoch 808/1000\n",
            "3/3 - 0s - loss: 0.0412 - accuracy: 0.9889 - val_loss: 0.1387 - val_accuracy: 0.9333 - 43ms/epoch - 14ms/step\n",
            "Epoch 809/1000\n",
            "3/3 - 0s - loss: 0.0417 - accuracy: 0.9889 - val_loss: 0.1529 - val_accuracy: 0.9333 - 33ms/epoch - 11ms/step\n",
            "Epoch 810/1000\n",
            "3/3 - 0s - loss: 0.0424 - accuracy: 0.9889 - val_loss: 0.1522 - val_accuracy: 0.9333 - 32ms/epoch - 11ms/step\n",
            "Epoch 811/1000\n",
            "3/3 - 0s - loss: 0.0406 - accuracy: 0.9889 - val_loss: 0.1451 - val_accuracy: 0.9333 - 40ms/epoch - 13ms/step\n",
            "Epoch 812/1000\n",
            "3/3 - 0s - loss: 0.0390 - accuracy: 0.9889 - val_loss: 0.1403 - val_accuracy: 0.9333 - 32ms/epoch - 11ms/step\n",
            "Epoch 813/1000\n",
            "3/3 - 0s - loss: 0.0393 - accuracy: 0.9889 - val_loss: 0.1392 - val_accuracy: 0.9333 - 34ms/epoch - 11ms/step\n",
            "Epoch 814/1000\n",
            "3/3 - 0s - loss: 0.0383 - accuracy: 0.9889 - val_loss: 0.1422 - val_accuracy: 0.9333 - 32ms/epoch - 11ms/step\n",
            "Epoch 815/1000\n",
            "3/3 - 0s - loss: 0.0384 - accuracy: 0.9889 - val_loss: 0.1436 - val_accuracy: 0.9333 - 30ms/epoch - 10ms/step\n",
            "Epoch 816/1000\n",
            "3/3 - 0s - loss: 0.0383 - accuracy: 0.9889 - val_loss: 0.1466 - val_accuracy: 0.9333 - 37ms/epoch - 12ms/step\n",
            "Epoch 817/1000\n",
            "3/3 - 0s - loss: 0.0379 - accuracy: 0.9889 - val_loss: 0.1483 - val_accuracy: 0.9333 - 38ms/epoch - 13ms/step\n",
            "Epoch 818/1000\n",
            "3/3 - 0s - loss: 0.0370 - accuracy: 0.9889 - val_loss: 0.1556 - val_accuracy: 0.9333 - 31ms/epoch - 10ms/step\n",
            "Epoch 819/1000\n",
            "3/3 - 0s - loss: 0.0386 - accuracy: 0.9889 - val_loss: 0.1602 - val_accuracy: 0.9333 - 31ms/epoch - 10ms/step\n",
            "Epoch 820/1000\n",
            "3/3 - 0s - loss: 0.0354 - accuracy: 0.9889 - val_loss: 0.1419 - val_accuracy: 0.9333 - 36ms/epoch - 12ms/step\n",
            "Epoch 821/1000\n",
            "3/3 - 0s - loss: 0.0371 - accuracy: 0.9889 - val_loss: 0.1239 - val_accuracy: 0.9333 - 39ms/epoch - 13ms/step\n",
            "Epoch 822/1000\n",
            "3/3 - 0s - loss: 0.0375 - accuracy: 0.9889 - val_loss: 0.1174 - val_accuracy: 0.9333 - 31ms/epoch - 10ms/step\n",
            "Epoch 823/1000\n",
            "3/3 - 0s - loss: 0.0390 - accuracy: 0.9889 - val_loss: 0.1158 - val_accuracy: 0.9333 - 34ms/epoch - 11ms/step\n",
            "Epoch 824/1000\n",
            "3/3 - 0s - loss: 0.0381 - accuracy: 0.9889 - val_loss: 0.1146 - val_accuracy: 0.9333 - 33ms/epoch - 11ms/step\n",
            "Epoch 825/1000\n",
            "3/3 - 0s - loss: 0.0382 - accuracy: 0.9889 - val_loss: 0.1219 - val_accuracy: 0.9333 - 35ms/epoch - 12ms/step\n",
            "Epoch 826/1000\n",
            "3/3 - 0s - loss: 0.0374 - accuracy: 0.9889 - val_loss: 0.1356 - val_accuracy: 0.9333 - 31ms/epoch - 10ms/step\n",
            "Epoch 827/1000\n",
            "3/3 - 0s - loss: 0.0347 - accuracy: 0.9889 - val_loss: 0.1505 - val_accuracy: 0.9333 - 41ms/epoch - 14ms/step\n",
            "Epoch 828/1000\n",
            "3/3 - 0s - loss: 0.0357 - accuracy: 0.9889 - val_loss: 0.1671 - val_accuracy: 0.9333 - 35ms/epoch - 12ms/step\n",
            "Epoch 829/1000\n",
            "3/3 - 0s - loss: 0.0365 - accuracy: 0.9889 - val_loss: 0.1838 - val_accuracy: 0.9333 - 37ms/epoch - 12ms/step\n",
            "Epoch 830/1000\n",
            "3/3 - 0s - loss: 0.0383 - accuracy: 0.9889 - val_loss: 0.1851 - val_accuracy: 0.9333 - 35ms/epoch - 12ms/step\n",
            "Epoch 831/1000\n",
            "3/3 - 0s - loss: 0.0365 - accuracy: 0.9889 - val_loss: 0.1603 - val_accuracy: 0.9333 - 32ms/epoch - 11ms/step\n",
            "Epoch 832/1000\n",
            "3/3 - 0s - loss: 0.0334 - accuracy: 0.9889 - val_loss: 0.1447 - val_accuracy: 0.9333 - 30ms/epoch - 10ms/step\n",
            "Epoch 833/1000\n",
            "3/3 - 0s - loss: 0.0352 - accuracy: 0.9889 - val_loss: 0.1352 - val_accuracy: 0.9333 - 37ms/epoch - 12ms/step\n",
            "Epoch 834/1000\n",
            "3/3 - 0s - loss: 0.0352 - accuracy: 0.9889 - val_loss: 0.1332 - val_accuracy: 0.9333 - 38ms/epoch - 13ms/step\n",
            "Epoch 835/1000\n",
            "3/3 - 0s - loss: 0.0383 - accuracy: 0.9889 - val_loss: 0.1343 - val_accuracy: 0.9333 - 30ms/epoch - 10ms/step\n",
            "Epoch 836/1000\n",
            "3/3 - 0s - loss: 0.0369 - accuracy: 0.9889 - val_loss: 0.1378 - val_accuracy: 0.9333 - 38ms/epoch - 13ms/step\n",
            "Epoch 837/1000\n",
            "3/3 - 0s - loss: 0.0368 - accuracy: 0.9889 - val_loss: 0.1446 - val_accuracy: 0.9333 - 34ms/epoch - 11ms/step\n",
            "Epoch 838/1000\n",
            "3/3 - 0s - loss: 0.0348 - accuracy: 0.9889 - val_loss: 0.1478 - val_accuracy: 0.9333 - 34ms/epoch - 11ms/step\n",
            "Epoch 839/1000\n",
            "3/3 - 0s - loss: 0.0341 - accuracy: 0.9889 - val_loss: 0.1545 - val_accuracy: 0.9333 - 50ms/epoch - 17ms/step\n",
            "Epoch 840/1000\n",
            "3/3 - 0s - loss: 0.0330 - accuracy: 0.9889 - val_loss: 0.1612 - val_accuracy: 0.9333 - 34ms/epoch - 11ms/step\n",
            "Epoch 841/1000\n",
            "3/3 - 0s - loss: 0.0325 - accuracy: 0.9889 - val_loss: 0.1666 - val_accuracy: 0.9333 - 40ms/epoch - 13ms/step\n",
            "Epoch 842/1000\n",
            "3/3 - 0s - loss: 0.0323 - accuracy: 0.9889 - val_loss: 0.1724 - val_accuracy: 0.9333 - 60ms/epoch - 20ms/step\n",
            "Epoch 843/1000\n",
            "3/3 - 0s - loss: 0.0322 - accuracy: 0.9889 - val_loss: 0.1777 - val_accuracy: 0.9333 - 43ms/epoch - 14ms/step\n",
            "Epoch 844/1000\n",
            "3/3 - 0s - loss: 0.0329 - accuracy: 0.9889 - val_loss: 0.1801 - val_accuracy: 0.9333 - 35ms/epoch - 12ms/step\n",
            "Epoch 845/1000\n",
            "3/3 - 0s - loss: 0.0329 - accuracy: 0.9889 - val_loss: 0.1738 - val_accuracy: 0.9333 - 35ms/epoch - 12ms/step\n",
            "Epoch 846/1000\n",
            "3/3 - 0s - loss: 0.0352 - accuracy: 0.9889 - val_loss: 0.1631 - val_accuracy: 0.9333 - 34ms/epoch - 11ms/step\n",
            "Epoch 847/1000\n",
            "3/3 - 0s - loss: 0.0335 - accuracy: 0.9889 - val_loss: 0.1625 - val_accuracy: 0.9333 - 35ms/epoch - 12ms/step\n",
            "Epoch 848/1000\n",
            "3/3 - 0s - loss: 0.0346 - accuracy: 0.9889 - val_loss: 0.1700 - val_accuracy: 0.9333 - 34ms/epoch - 11ms/step\n",
            "Epoch 849/1000\n",
            "3/3 - 0s - loss: 0.0330 - accuracy: 0.9889 - val_loss: 0.1786 - val_accuracy: 0.9333 - 40ms/epoch - 13ms/step\n",
            "Epoch 850/1000\n",
            "3/3 - 0s - loss: 0.0325 - accuracy: 0.9889 - val_loss: 0.1875 - val_accuracy: 0.9333 - 40ms/epoch - 13ms/step\n",
            "Epoch 851/1000\n",
            "3/3 - 0s - loss: 0.0322 - accuracy: 0.9889 - val_loss: 0.1911 - val_accuracy: 0.9333 - 32ms/epoch - 11ms/step\n",
            "Epoch 852/1000\n",
            "3/3 - 0s - loss: 0.0324 - accuracy: 0.9889 - val_loss: 0.1907 - val_accuracy: 0.9333 - 49ms/epoch - 16ms/step\n",
            "Epoch 853/1000\n",
            "3/3 - 0s - loss: 0.0313 - accuracy: 0.9889 - val_loss: 0.1811 - val_accuracy: 0.9333 - 35ms/epoch - 12ms/step\n",
            "Epoch 854/1000\n",
            "3/3 - 0s - loss: 0.0342 - accuracy: 0.9889 - val_loss: 0.1780 - val_accuracy: 0.9333 - 36ms/epoch - 12ms/step\n",
            "Epoch 855/1000\n",
            "3/3 - 0s - loss: 0.0327 - accuracy: 0.9889 - val_loss: 0.1802 - val_accuracy: 0.9333 - 37ms/epoch - 12ms/step\n",
            "Epoch 856/1000\n",
            "3/3 - 0s - loss: 0.0311 - accuracy: 0.9889 - val_loss: 0.1850 - val_accuracy: 0.9333 - 46ms/epoch - 15ms/step\n",
            "Epoch 857/1000\n",
            "3/3 - 0s - loss: 0.0321 - accuracy: 0.9889 - val_loss: 0.1844 - val_accuracy: 0.9333 - 33ms/epoch - 11ms/step\n",
            "Epoch 858/1000\n",
            "3/3 - 0s - loss: 0.0314 - accuracy: 0.9889 - val_loss: 0.1875 - val_accuracy: 0.9333 - 36ms/epoch - 12ms/step\n",
            "Epoch 859/1000\n",
            "3/3 - 0s - loss: 0.0360 - accuracy: 0.9889 - val_loss: 0.1693 - val_accuracy: 0.9333 - 37ms/epoch - 12ms/step\n",
            "Epoch 860/1000\n",
            "3/3 - 0s - loss: 0.0612 - accuracy: 0.9778 - val_loss: 0.1484 - val_accuracy: 0.9333 - 35ms/epoch - 12ms/step\n",
            "Epoch 861/1000\n",
            "3/3 - 0s - loss: 0.0766 - accuracy: 0.9667 - val_loss: 0.1373 - val_accuracy: 0.9333 - 38ms/epoch - 13ms/step\n",
            "Epoch 862/1000\n",
            "3/3 - 0s - loss: 0.0662 - accuracy: 0.9778 - val_loss: 0.1242 - val_accuracy: 0.9333 - 36ms/epoch - 12ms/step\n",
            "Epoch 863/1000\n",
            "3/3 - 0s - loss: 0.0536 - accuracy: 0.9778 - val_loss: 0.1330 - val_accuracy: 0.9333 - 40ms/epoch - 13ms/step\n",
            "Epoch 864/1000\n",
            "3/3 - 0s - loss: 0.0403 - accuracy: 0.9889 - val_loss: 0.1525 - val_accuracy: 0.9333 - 34ms/epoch - 11ms/step\n",
            "Epoch 865/1000\n",
            "3/3 - 0s - loss: 0.0540 - accuracy: 0.9667 - val_loss: 0.1347 - val_accuracy: 0.9333 - 39ms/epoch - 13ms/step\n",
            "Epoch 866/1000\n",
            "3/3 - 0s - loss: 0.0416 - accuracy: 0.9889 - val_loss: 0.1394 - val_accuracy: 0.9333 - 36ms/epoch - 12ms/step\n",
            "Epoch 867/1000\n",
            "3/3 - 0s - loss: 0.0413 - accuracy: 0.9778 - val_loss: 0.1532 - val_accuracy: 0.9333 - 37ms/epoch - 12ms/step\n",
            "Epoch 868/1000\n",
            "3/3 - 0s - loss: 0.0338 - accuracy: 0.9889 - val_loss: 0.1699 - val_accuracy: 0.9333 - 38ms/epoch - 13ms/step\n",
            "Epoch 869/1000\n",
            "3/3 - 0s - loss: 0.0328 - accuracy: 0.9889 - val_loss: 0.1832 - val_accuracy: 0.9333 - 33ms/epoch - 11ms/step\n",
            "Epoch 870/1000\n",
            "3/3 - 0s - loss: 0.0309 - accuracy: 0.9889 - val_loss: 0.1924 - val_accuracy: 0.9333 - 58ms/epoch - 19ms/step\n",
            "Epoch 871/1000\n",
            "3/3 - 0s - loss: 0.0336 - accuracy: 0.9889 - val_loss: 0.2023 - val_accuracy: 0.9333 - 34ms/epoch - 11ms/step\n",
            "Epoch 872/1000\n",
            "3/3 - 0s - loss: 0.0334 - accuracy: 0.9889 - val_loss: 0.2114 - val_accuracy: 0.9333 - 35ms/epoch - 12ms/step\n",
            "Epoch 873/1000\n",
            "3/3 - 0s - loss: 0.0321 - accuracy: 0.9889 - val_loss: 0.2120 - val_accuracy: 0.9333 - 39ms/epoch - 13ms/step\n",
            "Epoch 874/1000\n",
            "3/3 - 0s - loss: 0.0324 - accuracy: 0.9889 - val_loss: 0.2071 - val_accuracy: 0.9333 - 34ms/epoch - 11ms/step\n",
            "Epoch 875/1000\n",
            "3/3 - 0s - loss: 0.0314 - accuracy: 0.9889 - val_loss: 0.1996 - val_accuracy: 0.9333 - 35ms/epoch - 12ms/step\n",
            "Epoch 876/1000\n",
            "3/3 - 0s - loss: 0.0308 - accuracy: 0.9889 - val_loss: 0.1934 - val_accuracy: 0.9333 - 36ms/epoch - 12ms/step\n",
            "Epoch 877/1000\n",
            "3/3 - 0s - loss: 0.0311 - accuracy: 0.9889 - val_loss: 0.1940 - val_accuracy: 0.9333 - 34ms/epoch - 11ms/step\n",
            "Epoch 878/1000\n",
            "3/3 - 0s - loss: 0.0306 - accuracy: 0.9889 - val_loss: 0.2011 - val_accuracy: 0.9333 - 35ms/epoch - 12ms/step\n",
            "Epoch 879/1000\n",
            "3/3 - 0s - loss: 0.0310 - accuracy: 0.9889 - val_loss: 0.2071 - val_accuracy: 0.9333 - 31ms/epoch - 10ms/step\n",
            "Epoch 880/1000\n",
            "3/3 - 0s - loss: 0.0308 - accuracy: 0.9889 - val_loss: 0.2056 - val_accuracy: 0.9333 - 41ms/epoch - 14ms/step\n",
            "Epoch 881/1000\n",
            "3/3 - 0s - loss: 0.0307 - accuracy: 0.9889 - val_loss: 0.2022 - val_accuracy: 0.9333 - 36ms/epoch - 12ms/step\n",
            "Epoch 882/1000\n",
            "3/3 - 0s - loss: 0.0300 - accuracy: 0.9889 - val_loss: 0.2009 - val_accuracy: 0.9333 - 33ms/epoch - 11ms/step\n",
            "Epoch 883/1000\n",
            "3/3 - 0s - loss: 0.0304 - accuracy: 0.9889 - val_loss: 0.1951 - val_accuracy: 0.9333 - 33ms/epoch - 11ms/step\n",
            "Epoch 884/1000\n",
            "3/3 - 0s - loss: 0.0296 - accuracy: 0.9889 - val_loss: 0.1935 - val_accuracy: 0.9333 - 51ms/epoch - 17ms/step\n",
            "Epoch 885/1000\n",
            "3/3 - 0s - loss: 0.0295 - accuracy: 0.9889 - val_loss: 0.1960 - val_accuracy: 0.9333 - 34ms/epoch - 11ms/step\n",
            "Epoch 886/1000\n",
            "3/3 - 0s - loss: 0.0293 - accuracy: 0.9889 - val_loss: 0.1936 - val_accuracy: 0.9333 - 35ms/epoch - 12ms/step\n",
            "Epoch 887/1000\n",
            "3/3 - 0s - loss: 0.0292 - accuracy: 0.9889 - val_loss: 0.1893 - val_accuracy: 0.9333 - 32ms/epoch - 11ms/step\n",
            "Epoch 888/1000\n",
            "3/3 - 0s - loss: 0.0293 - accuracy: 0.9889 - val_loss: 0.1930 - val_accuracy: 0.9333 - 33ms/epoch - 11ms/step\n",
            "Epoch 889/1000\n",
            "3/3 - 0s - loss: 0.0290 - accuracy: 0.9889 - val_loss: 0.1997 - val_accuracy: 0.9333 - 34ms/epoch - 11ms/step\n",
            "Epoch 890/1000\n",
            "3/3 - 0s - loss: 0.0293 - accuracy: 0.9889 - val_loss: 0.2013 - val_accuracy: 0.9333 - 39ms/epoch - 13ms/step\n",
            "Epoch 891/1000\n",
            "3/3 - 0s - loss: 0.0292 - accuracy: 0.9889 - val_loss: 0.1870 - val_accuracy: 0.9333 - 32ms/epoch - 11ms/step\n",
            "Epoch 892/1000\n",
            "3/3 - 0s - loss: 0.0310 - accuracy: 0.9889 - val_loss: 0.1570 - val_accuracy: 0.9333 - 36ms/epoch - 12ms/step\n",
            "Epoch 893/1000\n",
            "3/3 - 0s - loss: 0.0310 - accuracy: 0.9889 - val_loss: 0.1490 - val_accuracy: 0.9333 - 38ms/epoch - 13ms/step\n",
            "Epoch 894/1000\n",
            "3/3 - 0s - loss: 0.0313 - accuracy: 0.9889 - val_loss: 0.1490 - val_accuracy: 0.9333 - 42ms/epoch - 14ms/step\n",
            "Epoch 895/1000\n",
            "3/3 - 0s - loss: 0.0311 - accuracy: 0.9889 - val_loss: 0.1542 - val_accuracy: 0.9333 - 33ms/epoch - 11ms/step\n",
            "Epoch 896/1000\n",
            "3/3 - 0s - loss: 0.0311 - accuracy: 0.9889 - val_loss: 0.1695 - val_accuracy: 0.9333 - 55ms/epoch - 18ms/step\n",
            "Epoch 897/1000\n",
            "3/3 - 0s - loss: 0.0330 - accuracy: 0.9889 - val_loss: 0.1811 - val_accuracy: 0.9333 - 52ms/epoch - 17ms/step\n",
            "Epoch 898/1000\n",
            "3/3 - 0s - loss: 0.0316 - accuracy: 0.9889 - val_loss: 0.1827 - val_accuracy: 0.9333 - 41ms/epoch - 14ms/step\n",
            "Epoch 899/1000\n",
            "3/3 - 0s - loss: 0.0296 - accuracy: 0.9889 - val_loss: 0.1927 - val_accuracy: 0.9333 - 33ms/epoch - 11ms/step\n",
            "Epoch 900/1000\n",
            "3/3 - 0s - loss: 0.0321 - accuracy: 0.9889 - val_loss: 0.2120 - val_accuracy: 0.9333 - 39ms/epoch - 13ms/step\n",
            "Epoch 901/1000\n",
            "3/3 - 0s - loss: 0.0310 - accuracy: 0.9889 - val_loss: 0.2348 - val_accuracy: 0.9333 - 35ms/epoch - 12ms/step\n",
            "Epoch 902/1000\n",
            "3/3 - 0s - loss: 0.0314 - accuracy: 0.9889 - val_loss: 0.2411 - val_accuracy: 0.9333 - 35ms/epoch - 12ms/step\n",
            "Epoch 903/1000\n",
            "3/3 - 0s - loss: 0.0314 - accuracy: 0.9889 - val_loss: 0.2231 - val_accuracy: 0.9333 - 39ms/epoch - 13ms/step\n",
            "Epoch 904/1000\n",
            "3/3 - 0s - loss: 0.0290 - accuracy: 0.9889 - val_loss: 0.2096 - val_accuracy: 0.9333 - 37ms/epoch - 12ms/step\n",
            "Epoch 905/1000\n",
            "3/3 - 0s - loss: 0.0289 - accuracy: 0.9889 - val_loss: 0.2020 - val_accuracy: 0.9333 - 39ms/epoch - 13ms/step\n",
            "Epoch 906/1000\n",
            "3/3 - 0s - loss: 0.0283 - accuracy: 0.9889 - val_loss: 0.2011 - val_accuracy: 0.9333 - 37ms/epoch - 12ms/step\n",
            "Epoch 907/1000\n",
            "3/3 - 0s - loss: 0.0277 - accuracy: 0.9889 - val_loss: 0.2046 - val_accuracy: 0.9333 - 38ms/epoch - 13ms/step\n",
            "Epoch 908/1000\n",
            "3/3 - 0s - loss: 0.0278 - accuracy: 0.9889 - val_loss: 0.2094 - val_accuracy: 0.9333 - 33ms/epoch - 11ms/step\n",
            "Epoch 909/1000\n",
            "3/3 - 0s - loss: 0.0278 - accuracy: 0.9889 - val_loss: 0.2046 - val_accuracy: 0.9333 - 34ms/epoch - 11ms/step\n",
            "Epoch 910/1000\n",
            "3/3 - 0s - loss: 0.0296 - accuracy: 0.9889 - val_loss: 0.2012 - val_accuracy: 0.9333 - 34ms/epoch - 11ms/step\n",
            "Epoch 911/1000\n",
            "3/3 - 0s - loss: 0.0273 - accuracy: 0.9889 - val_loss: 0.2105 - val_accuracy: 0.9333 - 38ms/epoch - 13ms/step\n",
            "Epoch 912/1000\n",
            "3/3 - 0s - loss: 0.0295 - accuracy: 0.9889 - val_loss: 0.2035 - val_accuracy: 0.9333 - 36ms/epoch - 12ms/step\n",
            "Epoch 913/1000\n",
            "3/3 - 0s - loss: 0.0282 - accuracy: 0.9889 - val_loss: 0.1888 - val_accuracy: 0.9333 - 41ms/epoch - 14ms/step\n",
            "Epoch 914/1000\n",
            "3/3 - 0s - loss: 0.0278 - accuracy: 0.9889 - val_loss: 0.1890 - val_accuracy: 0.9333 - 42ms/epoch - 14ms/step\n",
            "Epoch 915/1000\n",
            "3/3 - 0s - loss: 0.0310 - accuracy: 0.9889 - val_loss: 0.2017 - val_accuracy: 0.9333 - 33ms/epoch - 11ms/step\n",
            "Epoch 916/1000\n",
            "3/3 - 0s - loss: 0.0275 - accuracy: 0.9889 - val_loss: 0.2069 - val_accuracy: 0.9333 - 37ms/epoch - 12ms/step\n",
            "Epoch 917/1000\n",
            "3/3 - 0s - loss: 0.0270 - accuracy: 0.9889 - val_loss: 0.1866 - val_accuracy: 0.9333 - 34ms/epoch - 11ms/step\n",
            "Epoch 918/1000\n",
            "3/3 - 0s - loss: 0.0318 - accuracy: 0.9889 - val_loss: 0.1676 - val_accuracy: 0.9333 - 39ms/epoch - 13ms/step\n",
            "Epoch 919/1000\n",
            "3/3 - 0s - loss: 0.0307 - accuracy: 0.9889 - val_loss: 0.1593 - val_accuracy: 0.9333 - 53ms/epoch - 18ms/step\n",
            "Epoch 920/1000\n",
            "3/3 - 0s - loss: 0.0303 - accuracy: 0.9889 - val_loss: 0.1628 - val_accuracy: 0.9333 - 54ms/epoch - 18ms/step\n",
            "Epoch 921/1000\n",
            "3/3 - 0s - loss: 0.0309 - accuracy: 0.9889 - val_loss: 0.1773 - val_accuracy: 0.9333 - 37ms/epoch - 12ms/step\n",
            "Epoch 922/1000\n",
            "3/3 - 0s - loss: 0.0303 - accuracy: 0.9889 - val_loss: 0.1984 - val_accuracy: 0.9333 - 39ms/epoch - 13ms/step\n",
            "Epoch 923/1000\n",
            "3/3 - 0s - loss: 0.0282 - accuracy: 0.9889 - val_loss: 0.2199 - val_accuracy: 0.9333 - 34ms/epoch - 11ms/step\n",
            "Epoch 924/1000\n",
            "3/3 - 0s - loss: 0.0296 - accuracy: 0.9889 - val_loss: 0.2359 - val_accuracy: 0.9333 - 38ms/epoch - 13ms/step\n",
            "Epoch 925/1000\n",
            "3/3 - 0s - loss: 0.0317 - accuracy: 0.9889 - val_loss: 0.2231 - val_accuracy: 0.9333 - 35ms/epoch - 12ms/step\n",
            "Epoch 926/1000\n",
            "3/3 - 0s - loss: 0.0279 - accuracy: 0.9889 - val_loss: 0.1731 - val_accuracy: 0.9333 - 53ms/epoch - 18ms/step\n",
            "Epoch 927/1000\n",
            "3/3 - 0s - loss: 0.0302 - accuracy: 0.9889 - val_loss: 0.1522 - val_accuracy: 0.9333 - 39ms/epoch - 13ms/step\n",
            "Epoch 928/1000\n",
            "3/3 - 0s - loss: 0.0304 - accuracy: 0.9889 - val_loss: 0.1482 - val_accuracy: 0.9333 - 39ms/epoch - 13ms/step\n",
            "Epoch 929/1000\n",
            "3/3 - 0s - loss: 0.0288 - accuracy: 0.9889 - val_loss: 0.1540 - val_accuracy: 0.9333 - 46ms/epoch - 15ms/step\n",
            "Epoch 930/1000\n",
            "3/3 - 0s - loss: 0.0287 - accuracy: 0.9889 - val_loss: 0.1596 - val_accuracy: 0.9333 - 44ms/epoch - 15ms/step\n",
            "Epoch 931/1000\n",
            "3/3 - 0s - loss: 0.0281 - accuracy: 0.9889 - val_loss: 0.1645 - val_accuracy: 0.9333 - 35ms/epoch - 12ms/step\n",
            "Epoch 932/1000\n",
            "3/3 - 0s - loss: 0.0311 - accuracy: 0.9889 - val_loss: 0.1851 - val_accuracy: 0.9333 - 57ms/epoch - 19ms/step\n",
            "Epoch 933/1000\n",
            "3/3 - 0s - loss: 0.0474 - accuracy: 0.9778 - val_loss: 0.1475 - val_accuracy: 0.9333 - 39ms/epoch - 13ms/step\n",
            "Epoch 934/1000\n",
            "3/3 - 0s - loss: 0.0839 - accuracy: 0.9667 - val_loss: 0.1638 - val_accuracy: 0.9333 - 34ms/epoch - 11ms/step\n",
            "Epoch 935/1000\n",
            "3/3 - 0s - loss: 0.1509 - accuracy: 0.9556 - val_loss: 0.1719 - val_accuracy: 0.9333 - 39ms/epoch - 13ms/step\n",
            "Epoch 936/1000\n",
            "3/3 - 0s - loss: 0.2624 - accuracy: 0.9556 - val_loss: 0.4183 - val_accuracy: 0.9667 - 33ms/epoch - 11ms/step\n",
            "Epoch 937/1000\n",
            "3/3 - 0s - loss: 0.3187 - accuracy: 0.9556 - val_loss: 0.1594 - val_accuracy: 0.9333 - 33ms/epoch - 11ms/step\n",
            "Epoch 938/1000\n",
            "3/3 - 0s - loss: 0.0305 - accuracy: 0.9889 - val_loss: 0.1400 - val_accuracy: 0.9333 - 38ms/epoch - 13ms/step\n",
            "Epoch 939/1000\n",
            "3/3 - 0s - loss: 0.1298 - accuracy: 0.9333 - val_loss: 0.1527 - val_accuracy: 0.9333 - 34ms/epoch - 11ms/step\n",
            "Epoch 940/1000\n",
            "3/3 - 0s - loss: 0.1030 - accuracy: 0.9556 - val_loss: 0.1117 - val_accuracy: 0.9333 - 34ms/epoch - 11ms/step\n",
            "Epoch 941/1000\n",
            "3/3 - 0s - loss: 0.0426 - accuracy: 0.9778 - val_loss: 0.1230 - val_accuracy: 0.9333 - 31ms/epoch - 10ms/step\n",
            "Epoch 942/1000\n",
            "3/3 - 0s - loss: 0.0465 - accuracy: 0.9889 - val_loss: 0.1054 - val_accuracy: 0.9000 - 38ms/epoch - 13ms/step\n",
            "Epoch 943/1000\n",
            "3/3 - 0s - loss: 0.0674 - accuracy: 0.9667 - val_loss: 0.1282 - val_accuracy: 0.9333 - 35ms/epoch - 12ms/step\n",
            "Epoch 944/1000\n",
            "3/3 - 0s - loss: 0.0453 - accuracy: 0.9889 - val_loss: 0.1341 - val_accuracy: 0.9333 - 35ms/epoch - 12ms/step\n",
            "Epoch 945/1000\n",
            "3/3 - 0s - loss: 0.0392 - accuracy: 0.9889 - val_loss: 0.1437 - val_accuracy: 0.9333 - 36ms/epoch - 12ms/step\n",
            "Epoch 946/1000\n",
            "3/3 - 0s - loss: 0.0388 - accuracy: 0.9889 - val_loss: 0.1512 - val_accuracy: 0.9333 - 44ms/epoch - 15ms/step\n",
            "Epoch 947/1000\n",
            "3/3 - 0s - loss: 0.0387 - accuracy: 0.9889 - val_loss: 0.1553 - val_accuracy: 0.9333 - 41ms/epoch - 14ms/step\n",
            "Epoch 948/1000\n",
            "3/3 - 0s - loss: 0.0381 - accuracy: 0.9889 - val_loss: 0.1534 - val_accuracy: 0.9333 - 44ms/epoch - 15ms/step\n",
            "Epoch 949/1000\n",
            "3/3 - 0s - loss: 0.0371 - accuracy: 0.9889 - val_loss: 0.1517 - val_accuracy: 0.9333 - 46ms/epoch - 15ms/step\n",
            "Epoch 950/1000\n",
            "3/3 - 0s - loss: 0.0360 - accuracy: 0.9889 - val_loss: 0.1494 - val_accuracy: 0.9333 - 35ms/epoch - 12ms/step\n",
            "Epoch 951/1000\n",
            "3/3 - 0s - loss: 0.0373 - accuracy: 0.9889 - val_loss: 0.1452 - val_accuracy: 0.9333 - 35ms/epoch - 12ms/step\n",
            "Epoch 952/1000\n",
            "3/3 - 0s - loss: 0.0366 - accuracy: 0.9889 - val_loss: 0.1493 - val_accuracy: 0.9333 - 35ms/epoch - 12ms/step\n",
            "Epoch 953/1000\n",
            "3/3 - 0s - loss: 0.0365 - accuracy: 0.9889 - val_loss: 0.1396 - val_accuracy: 0.9333 - 43ms/epoch - 14ms/step\n",
            "Epoch 954/1000\n",
            "3/3 - 0s - loss: 0.0545 - accuracy: 0.9667 - val_loss: 0.1466 - val_accuracy: 0.9333 - 35ms/epoch - 12ms/step\n",
            "Epoch 955/1000\n",
            "3/3 - 0s - loss: 0.0328 - accuracy: 0.9889 - val_loss: 0.1253 - val_accuracy: 0.9333 - 33ms/epoch - 11ms/step\n",
            "Epoch 956/1000\n",
            "3/3 - 0s - loss: 0.0347 - accuracy: 0.9889 - val_loss: 0.1174 - val_accuracy: 0.9333 - 33ms/epoch - 11ms/step\n",
            "Epoch 957/1000\n",
            "3/3 - 0s - loss: 0.0422 - accuracy: 0.9778 - val_loss: 0.1203 - val_accuracy: 0.9333 - 35ms/epoch - 12ms/step\n",
            "Epoch 958/1000\n",
            "3/3 - 0s - loss: 0.0406 - accuracy: 0.9889 - val_loss: 0.1389 - val_accuracy: 0.9333 - 34ms/epoch - 11ms/step\n",
            "Epoch 959/1000\n",
            "3/3 - 0s - loss: 0.0717 - accuracy: 0.9778 - val_loss: 0.1338 - val_accuracy: 0.9000 - 43ms/epoch - 14ms/step\n",
            "Epoch 960/1000\n",
            "3/3 - 0s - loss: 0.0830 - accuracy: 0.9667 - val_loss: 0.1160 - val_accuracy: 0.9333 - 36ms/epoch - 12ms/step\n",
            "Epoch 961/1000\n",
            "3/3 - 0s - loss: 0.0738 - accuracy: 0.9667 - val_loss: 0.1275 - val_accuracy: 0.9333 - 37ms/epoch - 12ms/step\n",
            "Epoch 962/1000\n",
            "3/3 - 0s - loss: 0.1501 - accuracy: 0.9333 - val_loss: 0.0994 - val_accuracy: 0.9333 - 33ms/epoch - 11ms/step\n",
            "Epoch 963/1000\n",
            "3/3 - 0s - loss: 0.0809 - accuracy: 0.9667 - val_loss: 0.0849 - val_accuracy: 0.9333 - 32ms/epoch - 11ms/step\n",
            "Epoch 964/1000\n",
            "3/3 - 0s - loss: 0.0617 - accuracy: 0.9778 - val_loss: 0.0954 - val_accuracy: 0.9333 - 32ms/epoch - 11ms/step\n",
            "Epoch 965/1000\n",
            "3/3 - 0s - loss: 0.0774 - accuracy: 0.9667 - val_loss: 0.0910 - val_accuracy: 0.9333 - 33ms/epoch - 11ms/step\n",
            "Epoch 966/1000\n",
            "3/3 - 0s - loss: 0.0559 - accuracy: 0.9889 - val_loss: 0.0827 - val_accuracy: 0.9333 - 34ms/epoch - 11ms/step\n",
            "Epoch 967/1000\n",
            "3/3 - 0s - loss: 0.0600 - accuracy: 0.9778 - val_loss: 0.1248 - val_accuracy: 0.9333 - 34ms/epoch - 11ms/step\n",
            "Epoch 968/1000\n",
            "3/3 - 0s - loss: 0.0878 - accuracy: 0.9667 - val_loss: 0.1543 - val_accuracy: 0.9333 - 35ms/epoch - 12ms/step\n",
            "Epoch 969/1000\n",
            "3/3 - 0s - loss: 0.0737 - accuracy: 0.9667 - val_loss: 0.0981 - val_accuracy: 0.9333 - 34ms/epoch - 11ms/step\n",
            "Epoch 970/1000\n",
            "3/3 - 0s - loss: 0.0540 - accuracy: 0.9778 - val_loss: 0.0790 - val_accuracy: 0.9333 - 34ms/epoch - 11ms/step\n",
            "Epoch 971/1000\n",
            "3/3 - 0s - loss: 0.0575 - accuracy: 0.9889 - val_loss: 0.0910 - val_accuracy: 0.9000 - 41ms/epoch - 14ms/step\n",
            "Epoch 972/1000\n",
            "3/3 - 0s - loss: 0.0827 - accuracy: 0.9667 - val_loss: 0.0829 - val_accuracy: 0.9333 - 41ms/epoch - 14ms/step\n",
            "Epoch 973/1000\n",
            "3/3 - 0s - loss: 0.0583 - accuracy: 0.9667 - val_loss: 0.0809 - val_accuracy: 0.9333 - 41ms/epoch - 14ms/step\n",
            "Epoch 974/1000\n",
            "3/3 - 0s - loss: 0.0565 - accuracy: 0.9889 - val_loss: 0.1026 - val_accuracy: 0.9333 - 40ms/epoch - 13ms/step\n",
            "Epoch 975/1000\n",
            "3/3 - 0s - loss: 0.0531 - accuracy: 0.9778 - val_loss: 0.1339 - val_accuracy: 0.9333 - 43ms/epoch - 14ms/step\n",
            "Epoch 976/1000\n",
            "3/3 - 0s - loss: 0.0572 - accuracy: 0.9778 - val_loss: 0.1599 - val_accuracy: 0.9333 - 41ms/epoch - 14ms/step\n",
            "Epoch 977/1000\n",
            "3/3 - 0s - loss: 0.0603 - accuracy: 0.9778 - val_loss: 0.1646 - val_accuracy: 0.9333 - 39ms/epoch - 13ms/step\n",
            "Epoch 978/1000\n",
            "3/3 - 0s - loss: 0.0589 - accuracy: 0.9778 - val_loss: 0.1489 - val_accuracy: 0.9333 - 63ms/epoch - 21ms/step\n",
            "Epoch 979/1000\n",
            "3/3 - 0s - loss: 0.0556 - accuracy: 0.9778 - val_loss: 0.1347 - val_accuracy: 0.9333 - 33ms/epoch - 11ms/step\n",
            "Epoch 980/1000\n",
            "3/3 - 0s - loss: 0.0538 - accuracy: 0.9778 - val_loss: 0.1199 - val_accuracy: 0.9333 - 40ms/epoch - 13ms/step\n",
            "Epoch 981/1000\n",
            "3/3 - 0s - loss: 0.0525 - accuracy: 0.9778 - val_loss: 0.1170 - val_accuracy: 0.9333 - 37ms/epoch - 12ms/step\n",
            "Epoch 982/1000\n",
            "3/3 - 0s - loss: 0.0508 - accuracy: 0.9778 - val_loss: 0.1173 - val_accuracy: 0.9333 - 34ms/epoch - 11ms/step\n",
            "Epoch 983/1000\n",
            "3/3 - 0s - loss: 0.0498 - accuracy: 0.9778 - val_loss: 0.1151 - val_accuracy: 0.9333 - 37ms/epoch - 12ms/step\n",
            "Epoch 984/1000\n",
            "3/3 - 0s - loss: 0.0490 - accuracy: 0.9778 - val_loss: 0.1195 - val_accuracy: 0.9333 - 37ms/epoch - 12ms/step\n",
            "Epoch 985/1000\n",
            "3/3 - 0s - loss: 0.0488 - accuracy: 0.9778 - val_loss: 0.1233 - val_accuracy: 0.9333 - 37ms/epoch - 12ms/step\n",
            "Epoch 986/1000\n",
            "3/3 - 0s - loss: 0.0485 - accuracy: 0.9778 - val_loss: 0.1250 - val_accuracy: 0.9333 - 35ms/epoch - 12ms/step\n",
            "Epoch 987/1000\n",
            "3/3 - 0s - loss: 0.0486 - accuracy: 0.9778 - val_loss: 0.1251 - val_accuracy: 0.9333 - 61ms/epoch - 20ms/step\n",
            "Epoch 988/1000\n",
            "3/3 - 0s - loss: 0.0475 - accuracy: 0.9889 - val_loss: 0.1199 - val_accuracy: 0.9333 - 32ms/epoch - 11ms/step\n",
            "Epoch 989/1000\n",
            "3/3 - 0s - loss: 0.0471 - accuracy: 0.9889 - val_loss: 0.1056 - val_accuracy: 0.9333 - 32ms/epoch - 11ms/step\n",
            "Epoch 990/1000\n",
            "3/3 - 0s - loss: 0.0479 - accuracy: 0.9889 - val_loss: 0.0991 - val_accuracy: 0.9333 - 33ms/epoch - 11ms/step\n",
            "Epoch 991/1000\n",
            "3/3 - 0s - loss: 0.0509 - accuracy: 0.9667 - val_loss: 0.1069 - val_accuracy: 0.9333 - 38ms/epoch - 13ms/step\n",
            "Epoch 992/1000\n",
            "3/3 - 0s - loss: 0.0449 - accuracy: 0.9889 - val_loss: 0.1249 - val_accuracy: 0.9333 - 37ms/epoch - 12ms/step\n",
            "Epoch 993/1000\n",
            "3/3 - 0s - loss: 0.0479 - accuracy: 0.9889 - val_loss: 0.1380 - val_accuracy: 0.9333 - 34ms/epoch - 11ms/step\n",
            "Epoch 994/1000\n",
            "3/3 - 0s - loss: 0.0437 - accuracy: 0.9889 - val_loss: 0.1192 - val_accuracy: 0.9333 - 40ms/epoch - 13ms/step\n",
            "Epoch 995/1000\n",
            "3/3 - 0s - loss: 0.0471 - accuracy: 0.9889 - val_loss: 0.1041 - val_accuracy: 0.9333 - 38ms/epoch - 13ms/step\n",
            "Epoch 996/1000\n",
            "3/3 - 0s - loss: 0.0530 - accuracy: 0.9667 - val_loss: 0.1062 - val_accuracy: 0.9333 - 41ms/epoch - 14ms/step\n",
            "Epoch 997/1000\n",
            "3/3 - 0s - loss: 0.0476 - accuracy: 0.9778 - val_loss: 0.1171 - val_accuracy: 0.9333 - 43ms/epoch - 14ms/step\n",
            "Epoch 998/1000\n",
            "3/3 - 0s - loss: 0.0435 - accuracy: 0.9889 - val_loss: 0.1366 - val_accuracy: 0.9333 - 33ms/epoch - 11ms/step\n",
            "Epoch 999/1000\n",
            "3/3 - 0s - loss: 0.0468 - accuracy: 0.9778 - val_loss: 0.1507 - val_accuracy: 0.9333 - 55ms/epoch - 18ms/step\n",
            "Epoch 1000/1000\n",
            "3/3 - 0s - loss: 0.0465 - accuracy: 0.9778 - val_loss: 0.1539 - val_accuracy: 0.9333 - 39ms/epoch - 13ms/step\n"
          ]
        }
      ],
      "source": [
        "# 모델 훈련\n",
        "\n",
        "model1.compile(\n",
        "    optimizer='adam',\n",
        "    loss='categorical_crossentropy',\n",
        "    metrics=['accuracy']\n",
        ")\n",
        "\n",
        "history1 = model1.fit(\n",
        "    X_train,\n",
        "    y_train,\n",
        "    epochs=1000,\n",
        "    validation_split=0.25,\n",
        "    batch_size=40,\n",
        "    verbose=2\n",
        ")"
      ]
    },
    {
      "cell_type": "code",
      "execution_count": 11,
      "id": "a313dc9c",
      "metadata": {
        "colab": {
          "base_uri": "https://localhost:8080/",
          "height": 279
        },
        "id": "a313dc9c",
        "outputId": "634ee40f-212c-4b61-a7e5-b92bce41a1cf"
      },
      "outputs": [
        {
          "data": {
            "image/png": "[encoded data removed]",
            "text/plain": [
              "<Figure size 432x288 with 2 Axes>"
            ]
          },
          "metadata": {
            "needs_background": "light"
          },
          "output_type": "display_data"
        }
      ],
      "source": [
        "# 훈련 결과 시각화\n",
        "\n",
        "%matplotlib inline\n",
        "import matplotlib.pyplot as plt\n",
        "\n",
        "fig, loss_ax = plt.subplots()\n",
        "acc_ax = loss_ax.twinx()\n",
        "loss_ax.plot(history1.history['loss'], 'y', label='train loss')\n",
        "loss_ax.plot(history1.history['val_loss'], 'r', label='val loss')\n",
        "acc_ax.plot(history1.history['accuracy'], 'b', label='train acc')\n",
        "acc_ax.plot(history1.history['val_accuracy'], 'g', label='val acc')\n",
        "\n",
        "loss_ax.set_xlabel('epoch')\n",
        "loss_ax.set_ylabel('loss')\n",
        "acc_ax.set_ylabel('accuracy')\n",
        "\n",
        "loss_ax.legend(loc='lower right')\n",
        "acc_ax.legend(loc='upper right')\n",
        "plt.show()"
      ]
    },
    {
      "cell_type": "code",
      "execution_count": 12,
      "id": "fdb703da",
      "metadata": {
        "colab": {
          "base_uri": "https://localhost:8080/"
        },
        "id": "fdb703da",
        "outputId": "47c291ca-dd73-489f-a180-20aaef736ad3"
      },
      "outputs": [
        {
          "name": "stdout",
          "output_type": "stream",
          "text": [
            "1/1 [==============================] - 0s 23ms/step - loss: 0.0219 - accuracy: 1.0000\n",
            "## 손실과 정확도 평가 ##\n",
            "[0.021885398775339127, 1.0]\n"
          ]
        }
      ],
      "source": [
        "# 정확도와 손실 정보 표현\n",
        "\n",
        "loss_and_metrics = model1.evaluate(X_test, y_test)\n",
        "print('## 손실과 정확도 평가 ##')\n",
        "print(loss_and_metrics)"
      ]
    },
    {
      "cell_type": "code",
      "execution_count": 13,
      "id": "58ac0171",
      "metadata": {
        "colab": {
          "base_uri": "https://localhost:8080/"
        },
        "id": "58ac0171",
        "outputId": "3e44e294-57dc-4964-e551-4d388b5bfd34"
      },
      "outputs": [
        {
          "name": "stdout",
          "output_type": "stream",
          "text": [
            "Model: \"sequential_1\"\n",
            "_________________________________________________________________\n",
            " Layer (type)                Output Shape              Param #   \n",
            "=================================================================\n",
            " dense_6 (Dense)             (None, 64)                320       \n",
            "                                                                 \n",
            " batch_normalization (BatchN  (None, 64)               256       \n",
            " ormalization)                                                   \n",
            "                                                                 \n",
            " dense_7 (Dense)             (None, 128)               8320      \n",
            "                                                                 \n",
            " batch_normalization_1 (Batc  (None, 128)              512       \n",
            " hNormalization)                                                 \n",
            "                                                                 \n",
            " dense_8 (Dense)             (None, 128)               16512     \n",
            "                                                                 \n",
            " batch_normalization_2 (Batc  (None, 128)              512       \n",
            " hNormalization)                                                 \n",
            "                                                                 \n",
            " dense_9 (Dense)             (None, 64)                8256      \n",
            "                                                                 \n",
            " batch_normalization_3 (Batc  (None, 64)               256       \n",
            " hNormalization)                                                 \n",
            "                                                                 \n",
            " dense_10 (Dense)            (None, 64)                4160      \n",
            "                                                                 \n",
            " batch_normalization_4 (Batc  (None, 64)               256       \n",
            " hNormalization)                                                 \n",
            "                                                                 \n",
            " dense_11 (Dense)            (None, 3)                 195       \n",
            "                                                                 \n",
            "=================================================================\n",
            "Total params: 39,555\n",
            "Trainable params: 38,659\n",
            "Non-trainable params: 896\n",
            "_________________________________________________________________\n"
          ]
        }
      ],
      "source": [
        "# 배치 정규화가 적용된 모델\n",
        "\n",
        "from tensorflow.keras.initializers import RandomNormal, Constant\n",
        "\n",
        "model2 = Sequential([\n",
        "    Dense(64, input_shape=(4,), activation='relu'),\n",
        "    BatchNormalization(),\n",
        "    \n",
        "    Dense(128, activation='relu'),\n",
        "    BatchNormalization(),\n",
        "    Dense(128, activation='relu'),\n",
        "    BatchNormalization(),\n",
        "    Dense(64, activation='relu'),\n",
        "    BatchNormalization(),\n",
        "    Dense(64, activation='relu'),\n",
        "    BatchNormalization(\n",
        "        momentum=0.95,\n",
        "        epsilon=0.005,\n",
        "        beta_initializer=RandomNormal(mean=0.0, stddev=0.05),\n",
        "        gamma_initializer=Constant(value=0.9)\n",
        "    ),\n",
        "    Dense(3, activation='softmax')\n",
        "]);\n",
        "model2.summary()"
      ]
    },
    {
      "cell_type": "code",
      "execution_count": 14,
      "id": "b925e8af",
      "metadata": {
        "colab": {
          "base_uri": "https://localhost:8080/"
        },
        "id": "b925e8af",
        "outputId": "b1e95fbf-6327-4fcd-f847-eeae4a476d3c"
      },
      "outputs": [
        {
          "name": "stdout",
          "output_type": "stream",
          "text": [
            "Epoch 1/1000\n",
            "3/3 - 2s - loss: 2.0787 - accuracy: 0.3111 - val_loss: 1.0802 - val_accuracy: 0.4333 - 2s/epoch - 735ms/step\n",
            "Epoch 2/1000\n",
            "3/3 - 0s - loss: 0.4559 - accuracy: 0.8333 - val_loss: 1.0450 - val_accuracy: 0.5333 - 43ms/epoch - 14ms/step\n",
            "Epoch 3/1000\n",
            "3/3 - 0s - loss: 0.2405 - accuracy: 0.9556 - val_loss: 1.0220 - val_accuracy: 0.3667 - 42ms/epoch - 14ms/step\n",
            "Epoch 4/1000\n",
            "3/3 - 0s - loss: 0.1158 - accuracy: 0.9889 - val_loss: 1.0111 - val_accuracy: 0.3333 - 40ms/epoch - 13ms/step\n",
            "Epoch 5/1000\n",
            "3/3 - 0s - loss: 0.1214 - accuracy: 0.9556 - val_loss: 1.0123 - val_accuracy: 0.3333 - 39ms/epoch - 13ms/step\n",
            "Epoch 6/1000\n",
            "3/3 - 0s - loss: 0.0878 - accuracy: 0.9778 - val_loss: 1.0188 - val_accuracy: 0.3333 - 39ms/epoch - 13ms/step\n",
            "Epoch 7/1000\n",
            "3/3 - 0s - loss: 0.0787 - accuracy: 0.9778 - val_loss: 1.0325 - val_accuracy: 0.3333 - 45ms/epoch - 15ms/step\n",
            "Epoch 8/1000\n",
            "3/3 - 0s - loss: 0.0698 - accuracy: 0.9889 - val_loss: 1.0541 - val_accuracy: 0.3333 - 42ms/epoch - 14ms/step\n",
            "Epoch 9/1000\n",
            "3/3 - 0s - loss: 0.0581 - accuracy: 0.9889 - val_loss: 1.0832 - val_accuracy: 0.3333 - 44ms/epoch - 15ms/step\n",
            "Epoch 10/1000\n",
            "3/3 - 0s - loss: 0.0823 - accuracy: 0.9778 - val_loss: 1.1221 - val_accuracy: 0.3333 - 41ms/epoch - 14ms/step\n",
            "Epoch 11/1000\n",
            "3/3 - 0s - loss: 0.0857 - accuracy: 0.9667 - val_loss: 1.1645 - val_accuracy: 0.3333 - 58ms/epoch - 19ms/step\n",
            "Epoch 12/1000\n",
            "3/3 - 0s - loss: 0.0359 - accuracy: 0.9889 - val_loss: 1.1943 - val_accuracy: 0.3333 - 43ms/epoch - 14ms/step\n",
            "Epoch 13/1000\n",
            "3/3 - 0s - loss: 0.0443 - accuracy: 0.9778 - val_loss: 1.2186 - val_accuracy: 0.3333 - 43ms/epoch - 14ms/step\n",
            "Epoch 14/1000\n",
            "3/3 - 0s - loss: 0.0811 - accuracy: 0.9667 - val_loss: 1.2286 - val_accuracy: 0.3333 - 39ms/epoch - 13ms/step\n",
            "Epoch 15/1000\n",
            "3/3 - 0s - loss: 0.0769 - accuracy: 0.9778 - val_loss: 1.2459 - val_accuracy: 0.3333 - 39ms/epoch - 13ms/step\n",
            "Epoch 16/1000\n",
            "3/3 - 0s - loss: 0.0472 - accuracy: 0.9778 - val_loss: 1.2571 - val_accuracy: 0.3333 - 45ms/epoch - 15ms/step\n",
            "Epoch 17/1000\n",
            "3/3 - 0s - loss: 0.0755 - accuracy: 0.9444 - val_loss: 1.2693 - val_accuracy: 0.3333 - 49ms/epoch - 16ms/step\n",
            "Epoch 18/1000\n",
            "3/3 - 0s - loss: 0.0537 - accuracy: 0.9778 - val_loss: 1.2730 - val_accuracy: 0.3333 - 51ms/epoch - 17ms/step\n",
            "Epoch 19/1000\n",
            "3/3 - 0s - loss: 0.1964 - accuracy: 0.9444 - val_loss: 1.2919 - val_accuracy: 0.3333 - 50ms/epoch - 17ms/step\n",
            "Epoch 20/1000\n",
            "3/3 - 0s - loss: 0.0898 - accuracy: 0.9667 - val_loss: 1.3265 - val_accuracy: 0.3333 - 47ms/epoch - 16ms/step\n",
            "Epoch 21/1000\n",
            "3/3 - 0s - loss: 0.0299 - accuracy: 0.9889 - val_loss: 1.3547 - val_accuracy: 0.3333 - 45ms/epoch - 15ms/step\n",
            "Epoch 22/1000\n",
            "3/3 - 0s - loss: 0.0390 - accuracy: 0.9889 - val_loss: 1.3802 - val_accuracy: 0.3333 - 43ms/epoch - 14ms/step\n",
            "Epoch 23/1000\n",
            "3/3 - 0s - loss: 0.0344 - accuracy: 0.9889 - val_loss: 1.3914 - val_accuracy: 0.3333 - 40ms/epoch - 13ms/step\n",
            "Epoch 24/1000\n",
            "3/3 - 0s - loss: 0.0436 - accuracy: 0.9778 - val_loss: 1.3898 - val_accuracy: 0.3333 - 49ms/epoch - 16ms/step\n",
            "Epoch 25/1000\n",
            "3/3 - 0s - loss: 0.0517 - accuracy: 0.9778 - val_loss: 1.3834 - val_accuracy: 0.3333 - 57ms/epoch - 19ms/step\n",
            "Epoch 26/1000\n",
            "3/3 - 0s - loss: 0.0972 - accuracy: 0.9778 - val_loss: 1.3505 - val_accuracy: 0.3333 - 52ms/epoch - 17ms/step\n",
            "Epoch 27/1000\n",
            "3/3 - 0s - loss: 0.0364 - accuracy: 0.9889 - val_loss: 1.2970 - val_accuracy: 0.3333 - 49ms/epoch - 16ms/step\n",
            "Epoch 28/1000\n",
            "3/3 - 0s - loss: 0.0532 - accuracy: 0.9778 - val_loss: 1.2603 - val_accuracy: 0.3667 - 46ms/epoch - 15ms/step\n",
            "Epoch 29/1000\n",
            "3/3 - 0s - loss: 0.0660 - accuracy: 0.9667 - val_loss: 1.2470 - val_accuracy: 0.3667 - 43ms/epoch - 14ms/step\n",
            "Epoch 30/1000\n",
            "3/3 - 0s - loss: 0.0418 - accuracy: 0.9889 - val_loss: 1.2333 - val_accuracy: 0.3667 - 43ms/epoch - 14ms/step\n",
            "Epoch 31/1000\n",
            "3/3 - 0s - loss: 0.0663 - accuracy: 0.9778 - val_loss: 1.2364 - val_accuracy: 0.3667 - 47ms/epoch - 16ms/step\n",
            "Epoch 32/1000\n",
            "3/3 - 0s - loss: 0.0888 - accuracy: 0.9667 - val_loss: 1.2286 - val_accuracy: 0.3667 - 42ms/epoch - 14ms/step\n",
            "Epoch 33/1000\n",
            "3/3 - 0s - loss: 0.0352 - accuracy: 0.9889 - val_loss: 1.2428 - val_accuracy: 0.3667 - 41ms/epoch - 14ms/step\n",
            "Epoch 34/1000\n",
            "3/3 - 0s - loss: 0.0930 - accuracy: 0.9556 - val_loss: 1.2457 - val_accuracy: 0.3667 - 43ms/epoch - 14ms/step\n",
            "Epoch 35/1000\n",
            "3/3 - 0s - loss: 0.0594 - accuracy: 0.9889 - val_loss: 1.2185 - val_accuracy: 0.3667 - 62ms/epoch - 21ms/step\n",
            "Epoch 36/1000\n",
            "3/3 - 0s - loss: 0.0515 - accuracy: 0.9889 - val_loss: 1.2121 - val_accuracy: 0.3667 - 54ms/epoch - 18ms/step\n",
            "Epoch 37/1000\n",
            "3/3 - 0s - loss: 0.0877 - accuracy: 0.9889 - val_loss: 1.1817 - val_accuracy: 0.3667 - 54ms/epoch - 18ms/step\n",
            "Epoch 38/1000\n",
            "3/3 - 0s - loss: 0.0711 - accuracy: 0.9778 - val_loss: 1.1443 - val_accuracy: 0.3667 - 51ms/epoch - 17ms/step\n",
            "Epoch 39/1000\n",
            "3/3 - 0s - loss: 0.0827 - accuracy: 0.9556 - val_loss: 1.1159 - val_accuracy: 0.3667 - 42ms/epoch - 14ms/step\n",
            "Epoch 40/1000\n",
            "3/3 - 0s - loss: 0.0817 - accuracy: 0.9778 - val_loss: 1.0899 - val_accuracy: 0.3667 - 42ms/epoch - 14ms/step\n",
            "Epoch 41/1000\n",
            "3/3 - 0s - loss: 0.1426 - accuracy: 0.9556 - val_loss: 1.0434 - val_accuracy: 0.3667 - 66ms/epoch - 22ms/step\n",
            "Epoch 42/1000\n",
            "3/3 - 0s - loss: 0.0507 - accuracy: 0.9778 - val_loss: 1.0071 - val_accuracy: 0.3667 - 53ms/epoch - 18ms/step\n",
            "Epoch 43/1000\n",
            "3/3 - 0s - loss: 0.0628 - accuracy: 0.9667 - val_loss: 0.9810 - val_accuracy: 0.3667 - 43ms/epoch - 14ms/step\n",
            "Epoch 44/1000\n",
            "3/3 - 0s - loss: 0.0514 - accuracy: 0.9889 - val_loss: 0.9682 - val_accuracy: 0.3667 - 46ms/epoch - 15ms/step\n",
            "Epoch 45/1000\n",
            "3/3 - 0s - loss: 0.0591 - accuracy: 0.9889 - val_loss: 0.9385 - val_accuracy: 0.3667 - 46ms/epoch - 15ms/step\n",
            "Epoch 46/1000\n",
            "3/3 - 0s - loss: 0.0534 - accuracy: 0.9889 - val_loss: 0.9274 - val_accuracy: 0.3667 - 50ms/epoch - 17ms/step\n",
            "Epoch 47/1000\n",
            "3/3 - 0s - loss: 0.1475 - accuracy: 0.9667 - val_loss: 0.9073 - val_accuracy: 0.3667 - 52ms/epoch - 17ms/step\n",
            "Epoch 48/1000\n",
            "3/3 - 0s - loss: 0.1441 - accuracy: 0.9556 - val_loss: 0.8620 - val_accuracy: 0.4000 - 53ms/epoch - 18ms/step\n",
            "Epoch 49/1000\n",
            "3/3 - 0s - loss: 0.1570 - accuracy: 0.9333 - val_loss: 0.8459 - val_accuracy: 0.4000 - 47ms/epoch - 16ms/step\n",
            "Epoch 50/1000\n",
            "3/3 - 0s - loss: 0.0866 - accuracy: 0.9556 - val_loss: 0.8334 - val_accuracy: 0.4000 - 42ms/epoch - 14ms/step\n",
            "Epoch 51/1000\n",
            "3/3 - 0s - loss: 0.0803 - accuracy: 0.9556 - val_loss: 0.8568 - val_accuracy: 0.4000 - 45ms/epoch - 15ms/step\n",
            "Epoch 52/1000\n",
            "3/3 - 0s - loss: 0.0886 - accuracy: 0.9667 - val_loss: 0.8515 - val_accuracy: 0.4000 - 42ms/epoch - 14ms/step\n",
            "Epoch 53/1000\n",
            "3/3 - 0s - loss: 0.0613 - accuracy: 0.9778 - val_loss: 0.8247 - val_accuracy: 0.4000 - 57ms/epoch - 19ms/step\n",
            "Epoch 54/1000\n",
            "3/3 - 0s - loss: 0.0664 - accuracy: 0.9778 - val_loss: 0.8138 - val_accuracy: 0.4000 - 54ms/epoch - 18ms/step\n",
            "Epoch 55/1000\n",
            "3/3 - 0s - loss: 0.0499 - accuracy: 0.9778 - val_loss: 0.8007 - val_accuracy: 0.4000 - 44ms/epoch - 15ms/step\n",
            "Epoch 56/1000\n",
            "3/3 - 0s - loss: 0.0700 - accuracy: 0.9778 - val_loss: 0.8075 - val_accuracy: 0.4000 - 50ms/epoch - 17ms/step\n",
            "Epoch 57/1000\n",
            "3/3 - 0s - loss: 0.0688 - accuracy: 0.9778 - val_loss: 0.8031 - val_accuracy: 0.4000 - 45ms/epoch - 15ms/step\n",
            "Epoch 58/1000\n",
            "3/3 - 0s - loss: 0.0989 - accuracy: 0.9889 - val_loss: 0.7768 - val_accuracy: 0.5000 - 41ms/epoch - 14ms/step\n",
            "Epoch 59/1000\n",
            "3/3 - 0s - loss: 0.0729 - accuracy: 0.9667 - val_loss: 0.7877 - val_accuracy: 0.5333 - 55ms/epoch - 18ms/step\n",
            "Epoch 60/1000\n",
            "3/3 - 0s - loss: 0.1040 - accuracy: 0.9556 - val_loss: 0.7999 - val_accuracy: 0.6333 - 45ms/epoch - 15ms/step\n",
            "Epoch 61/1000\n",
            "3/3 - 0s - loss: 0.0397 - accuracy: 0.9889 - val_loss: 0.7384 - val_accuracy: 0.6333 - 42ms/epoch - 14ms/step\n",
            "Epoch 62/1000\n",
            "3/3 - 0s - loss: 0.0554 - accuracy: 0.9667 - val_loss: 0.6835 - val_accuracy: 0.7333 - 44ms/epoch - 15ms/step\n",
            "Epoch 63/1000\n",
            "3/3 - 0s - loss: 0.0540 - accuracy: 0.9667 - val_loss: 0.6507 - val_accuracy: 0.7333 - 42ms/epoch - 14ms/step\n",
            "Epoch 64/1000\n",
            "3/3 - 0s - loss: 0.0832 - accuracy: 0.9444 - val_loss: 0.6329 - val_accuracy: 0.7667 - 48ms/epoch - 16ms/step\n",
            "Epoch 65/1000\n",
            "3/3 - 0s - loss: 0.0498 - accuracy: 0.9889 - val_loss: 0.5975 - val_accuracy: 0.8000 - 49ms/epoch - 16ms/step\n",
            "Epoch 66/1000\n",
            "3/3 - 0s - loss: 0.0672 - accuracy: 0.9778 - val_loss: 0.5570 - val_accuracy: 0.8000 - 46ms/epoch - 15ms/step\n",
            "Epoch 67/1000\n",
            "3/3 - 0s - loss: 0.0725 - accuracy: 0.9778 - val_loss: 0.5541 - val_accuracy: 0.8000 - 46ms/epoch - 15ms/step\n",
            "Epoch 68/1000\n",
            "3/3 - 0s - loss: 0.0390 - accuracy: 0.9889 - val_loss: 0.5285 - val_accuracy: 0.8000 - 43ms/epoch - 14ms/step\n",
            "Epoch 69/1000\n",
            "3/3 - 0s - loss: 0.0335 - accuracy: 1.0000 - val_loss: 0.5195 - val_accuracy: 0.8000 - 43ms/epoch - 14ms/step\n",
            "Epoch 70/1000\n",
            "3/3 - 0s - loss: 0.1207 - accuracy: 0.9667 - val_loss: 0.4724 - val_accuracy: 0.8333 - 43ms/epoch - 14ms/step\n",
            "Epoch 71/1000\n",
            "3/3 - 0s - loss: 0.0821 - accuracy: 0.9778 - val_loss: 0.3907 - val_accuracy: 0.9000 - 42ms/epoch - 14ms/step\n",
            "Epoch 72/1000\n",
            "3/3 - 0s - loss: 0.0437 - accuracy: 0.9889 - val_loss: 0.3524 - val_accuracy: 0.9333 - 48ms/epoch - 16ms/step\n",
            "Epoch 73/1000\n",
            "3/3 - 0s - loss: 0.0742 - accuracy: 0.9556 - val_loss: 0.3457 - val_accuracy: 0.9333 - 39ms/epoch - 13ms/step\n",
            "Epoch 74/1000\n",
            "3/3 - 0s - loss: 0.0353 - accuracy: 0.9889 - val_loss: 0.3614 - val_accuracy: 0.9000 - 41ms/epoch - 14ms/step\n",
            "Epoch 75/1000\n",
            "3/3 - 0s - loss: 0.0495 - accuracy: 0.9889 - val_loss: 0.3756 - val_accuracy: 0.8667 - 39ms/epoch - 13ms/step\n",
            "Epoch 76/1000\n",
            "3/3 - 0s - loss: 0.0892 - accuracy: 0.9667 - val_loss: 0.3906 - val_accuracy: 0.8667 - 41ms/epoch - 14ms/step\n",
            "Epoch 77/1000\n",
            "3/3 - 0s - loss: 0.0413 - accuracy: 0.9889 - val_loss: 0.3821 - val_accuracy: 0.8667 - 42ms/epoch - 14ms/step\n",
            "Epoch 78/1000\n",
            "3/3 - 0s - loss: 0.0366 - accuracy: 0.9778 - val_loss: 0.3657 - val_accuracy: 0.8667 - 44ms/epoch - 15ms/step\n",
            "Epoch 79/1000\n",
            "3/3 - 0s - loss: 0.0382 - accuracy: 0.9778 - val_loss: 0.3474 - val_accuracy: 0.8667 - 40ms/epoch - 13ms/step\n",
            "Epoch 80/1000\n",
            "3/3 - 0s - loss: 0.0646 - accuracy: 0.9778 - val_loss: 0.3230 - val_accuracy: 0.8667 - 42ms/epoch - 14ms/step\n",
            "Epoch 81/1000\n",
            "3/3 - 0s - loss: 0.0470 - accuracy: 0.9889 - val_loss: 0.2660 - val_accuracy: 0.9333 - 49ms/epoch - 16ms/step\n",
            "Epoch 82/1000\n",
            "3/3 - 0s - loss: 0.0761 - accuracy: 0.9556 - val_loss: 0.2143 - val_accuracy: 0.9333 - 41ms/epoch - 14ms/step\n",
            "Epoch 83/1000\n",
            "3/3 - 0s - loss: 0.0320 - accuracy: 0.9889 - val_loss: 0.1649 - val_accuracy: 1.0000 - 43ms/epoch - 14ms/step\n",
            "Epoch 84/1000\n",
            "3/3 - 0s - loss: 0.2075 - accuracy: 0.9444 - val_loss: 0.1336 - val_accuracy: 1.0000 - 46ms/epoch - 15ms/step\n",
            "Epoch 85/1000\n",
            "3/3 - 0s - loss: 0.0261 - accuracy: 1.0000 - val_loss: 0.1228 - val_accuracy: 1.0000 - 40ms/epoch - 13ms/step\n",
            "Epoch 86/1000\n",
            "3/3 - 0s - loss: 0.0414 - accuracy: 1.0000 - val_loss: 0.1227 - val_accuracy: 1.0000 - 60ms/epoch - 20ms/step\n",
            "Epoch 87/1000\n",
            "3/3 - 0s - loss: 0.0482 - accuracy: 0.9778 - val_loss: 0.1288 - val_accuracy: 1.0000 - 57ms/epoch - 19ms/step\n",
            "Epoch 88/1000\n",
            "3/3 - 0s - loss: 0.0284 - accuracy: 1.0000 - val_loss: 0.1513 - val_accuracy: 0.9667 - 44ms/epoch - 15ms/step\n",
            "Epoch 89/1000\n",
            "3/3 - 0s - loss: 0.0335 - accuracy: 0.9889 - val_loss: 0.1793 - val_accuracy: 0.9333 - 49ms/epoch - 16ms/step\n",
            "Epoch 90/1000\n",
            "3/3 - 0s - loss: 0.0370 - accuracy: 1.0000 - val_loss: 0.1963 - val_accuracy: 0.9000 - 46ms/epoch - 15ms/step\n",
            "Epoch 91/1000\n",
            "3/3 - 0s - loss: 0.0279 - accuracy: 1.0000 - val_loss: 0.2068 - val_accuracy: 0.9000 - 47ms/epoch - 16ms/step\n",
            "Epoch 92/1000\n",
            "3/3 - 0s - loss: 0.0369 - accuracy: 0.9889 - val_loss: 0.2120 - val_accuracy: 0.9000 - 41ms/epoch - 14ms/step\n",
            "Epoch 93/1000\n",
            "3/3 - 0s - loss: 0.0357 - accuracy: 0.9889 - val_loss: 0.2097 - val_accuracy: 0.9333 - 40ms/epoch - 13ms/step\n",
            "Epoch 94/1000\n",
            "3/3 - 0s - loss: 0.0858 - accuracy: 0.9444 - val_loss: 0.1914 - val_accuracy: 0.9000 - 40ms/epoch - 13ms/step\n",
            "Epoch 95/1000\n",
            "3/3 - 0s - loss: 0.0717 - accuracy: 0.9667 - val_loss: 0.1592 - val_accuracy: 0.9333 - 43ms/epoch - 14ms/step\n",
            "Epoch 96/1000\n",
            "3/3 - 0s - loss: 0.0291 - accuracy: 1.0000 - val_loss: 0.1309 - val_accuracy: 0.9667 - 43ms/epoch - 14ms/step\n",
            "Epoch 97/1000\n",
            "3/3 - 0s - loss: 0.0327 - accuracy: 0.9889 - val_loss: 0.1199 - val_accuracy: 0.9667 - 63ms/epoch - 21ms/step\n",
            "Epoch 98/1000\n",
            "3/3 - 0s - loss: 0.0997 - accuracy: 0.9778 - val_loss: 0.1102 - val_accuracy: 0.9667 - 46ms/epoch - 15ms/step\n",
            "Epoch 99/1000\n",
            "3/3 - 0s - loss: 0.0634 - accuracy: 0.9556 - val_loss: 0.1104 - val_accuracy: 0.9667 - 41ms/epoch - 14ms/step\n",
            "Epoch 100/1000\n",
            "3/3 - 0s - loss: 0.0235 - accuracy: 1.0000 - val_loss: 0.1064 - val_accuracy: 0.9667 - 51ms/epoch - 17ms/step\n",
            "Epoch 101/1000\n",
            "3/3 - 0s - loss: 0.0668 - accuracy: 0.9667 - val_loss: 0.1041 - val_accuracy: 0.9667 - 42ms/epoch - 14ms/step\n",
            "Epoch 102/1000\n",
            "3/3 - 0s - loss: 0.0308 - accuracy: 0.9889 - val_loss: 0.0982 - val_accuracy: 0.9667 - 41ms/epoch - 14ms/step\n",
            "Epoch 103/1000\n",
            "3/3 - 0s - loss: 0.0437 - accuracy: 0.9889 - val_loss: 0.0967 - val_accuracy: 0.9667 - 39ms/epoch - 13ms/step\n",
            "Epoch 104/1000\n",
            "3/3 - 0s - loss: 0.0247 - accuracy: 1.0000 - val_loss: 0.0988 - val_accuracy: 0.9667 - 46ms/epoch - 15ms/step\n",
            "Epoch 105/1000\n",
            "3/3 - 0s - loss: 0.0276 - accuracy: 0.9889 - val_loss: 0.1020 - val_accuracy: 0.9667 - 52ms/epoch - 17ms/step\n",
            "Epoch 106/1000\n",
            "3/3 - 0s - loss: 0.3476 - accuracy: 0.9333 - val_loss: 0.1109 - val_accuracy: 0.9333 - 62ms/epoch - 21ms/step\n",
            "Epoch 107/1000\n",
            "3/3 - 0s - loss: 0.0574 - accuracy: 0.9778 - val_loss: 0.1653 - val_accuracy: 0.9333 - 49ms/epoch - 16ms/step\n",
            "Epoch 108/1000\n",
            "3/3 - 0s - loss: 0.0562 - accuracy: 0.9667 - val_loss: 0.2590 - val_accuracy: 0.9000 - 42ms/epoch - 14ms/step\n",
            "Epoch 109/1000\n",
            "3/3 - 0s - loss: 0.0246 - accuracy: 1.0000 - val_loss: 0.3646 - val_accuracy: 0.8667 - 40ms/epoch - 13ms/step\n",
            "Epoch 110/1000\n",
            "3/3 - 0s - loss: 0.1229 - accuracy: 0.9778 - val_loss: 0.4334 - val_accuracy: 0.8333 - 39ms/epoch - 13ms/step\n",
            "Epoch 111/1000\n",
            "3/3 - 0s - loss: 0.0544 - accuracy: 0.9778 - val_loss: 0.4233 - val_accuracy: 0.8333 - 38ms/epoch - 13ms/step\n",
            "Epoch 112/1000\n",
            "3/3 - 0s - loss: 0.0383 - accuracy: 1.0000 - val_loss: 0.3895 - val_accuracy: 0.8333 - 45ms/epoch - 15ms/step\n",
            "Epoch 113/1000\n",
            "3/3 - 0s - loss: 0.0587 - accuracy: 0.9778 - val_loss: 0.3264 - val_accuracy: 0.8667 - 40ms/epoch - 13ms/step\n",
            "Epoch 114/1000\n",
            "3/3 - 0s - loss: 0.0544 - accuracy: 0.9889 - val_loss: 0.2842 - val_accuracy: 0.8333 - 38ms/epoch - 13ms/step\n",
            "Epoch 115/1000\n",
            "3/3 - 0s - loss: 0.0998 - accuracy: 0.9889 - val_loss: 0.2843 - val_accuracy: 0.8333 - 41ms/epoch - 14ms/step\n",
            "Epoch 116/1000\n",
            "3/3 - 0s - loss: 0.0651 - accuracy: 0.9778 - val_loss: 0.3250 - val_accuracy: 0.8333 - 45ms/epoch - 15ms/step\n",
            "Epoch 117/1000\n",
            "3/3 - 0s - loss: 0.0525 - accuracy: 0.9778 - val_loss: 0.3591 - val_accuracy: 0.8667 - 42ms/epoch - 14ms/step\n",
            "Epoch 118/1000\n",
            "3/3 - 0s - loss: 0.0402 - accuracy: 0.9667 - val_loss: 0.3757 - val_accuracy: 0.8667 - 58ms/epoch - 19ms/step\n",
            "Epoch 119/1000\n",
            "3/3 - 0s - loss: 0.0441 - accuracy: 0.9778 - val_loss: 0.3702 - val_accuracy: 0.8667 - 41ms/epoch - 14ms/step\n",
            "Epoch 120/1000\n",
            "3/3 - 0s - loss: 0.1796 - accuracy: 0.9667 - val_loss: 0.3619 - val_accuracy: 0.8667 - 44ms/epoch - 15ms/step\n",
            "Epoch 121/1000\n",
            "3/3 - 0s - loss: 0.0428 - accuracy: 0.9889 - val_loss: 0.3649 - val_accuracy: 0.8667 - 66ms/epoch - 22ms/step\n",
            "Epoch 122/1000\n",
            "3/3 - 0s - loss: 0.1515 - accuracy: 0.9556 - val_loss: 0.3638 - val_accuracy: 0.9000 - 42ms/epoch - 14ms/step\n",
            "Epoch 123/1000\n",
            "3/3 - 0s - loss: 0.0531 - accuracy: 0.9778 - val_loss: 0.3430 - val_accuracy: 0.9000 - 41ms/epoch - 14ms/step\n",
            "Epoch 124/1000\n",
            "3/3 - 0s - loss: 0.0693 - accuracy: 0.9778 - val_loss: 0.3402 - val_accuracy: 0.8667 - 43ms/epoch - 14ms/step\n",
            "Epoch 125/1000\n",
            "3/3 - 0s - loss: 0.0499 - accuracy: 0.9889 - val_loss: 0.2926 - val_accuracy: 0.9000 - 49ms/epoch - 16ms/step\n",
            "Epoch 126/1000\n",
            "3/3 - 0s - loss: 0.0502 - accuracy: 0.9778 - val_loss: 0.2833 - val_accuracy: 0.9000 - 60ms/epoch - 20ms/step\n",
            "Epoch 127/1000\n",
            "3/3 - 0s - loss: 0.0805 - accuracy: 0.9556 - val_loss: 0.3079 - val_accuracy: 0.9000 - 42ms/epoch - 14ms/step\n",
            "Epoch 128/1000\n",
            "3/3 - 0s - loss: 0.0555 - accuracy: 0.9667 - val_loss: 0.3307 - val_accuracy: 0.9000 - 52ms/epoch - 17ms/step\n",
            "Epoch 129/1000\n",
            "3/3 - 0s - loss: 0.0355 - accuracy: 0.9889 - val_loss: 0.3423 - val_accuracy: 0.8667 - 40ms/epoch - 13ms/step\n",
            "Epoch 130/1000\n",
            "3/3 - 0s - loss: 0.0321 - accuracy: 0.9889 - val_loss: 0.3486 - val_accuracy: 0.8667 - 50ms/epoch - 17ms/step\n",
            "Epoch 131/1000\n",
            "3/3 - 0s - loss: 0.0672 - accuracy: 0.9778 - val_loss: 0.3416 - val_accuracy: 0.9000 - 40ms/epoch - 13ms/step\n",
            "Epoch 132/1000\n",
            "3/3 - 0s - loss: 0.0807 - accuracy: 0.9778 - val_loss: 0.3319 - val_accuracy: 0.9000 - 45ms/epoch - 15ms/step\n",
            "Epoch 133/1000\n",
            "3/3 - 0s - loss: 0.0247 - accuracy: 0.9889 - val_loss: 0.3268 - val_accuracy: 0.9000 - 39ms/epoch - 13ms/step\n",
            "Epoch 134/1000\n",
            "3/3 - 0s - loss: 0.1010 - accuracy: 0.9667 - val_loss: 0.3210 - val_accuracy: 0.9000 - 37ms/epoch - 12ms/step\n",
            "Epoch 135/1000\n",
            "3/3 - 0s - loss: 0.0398 - accuracy: 0.9889 - val_loss: 0.3402 - val_accuracy: 0.8667 - 57ms/epoch - 19ms/step\n",
            "Epoch 136/1000\n",
            "3/3 - 0s - loss: 0.2117 - accuracy: 0.9556 - val_loss: 0.3253 - val_accuracy: 0.9000 - 50ms/epoch - 17ms/step\n",
            "Epoch 137/1000\n",
            "3/3 - 0s - loss: 0.0602 - accuracy: 0.9778 - val_loss: 0.2603 - val_accuracy: 0.9000 - 48ms/epoch - 16ms/step\n",
            "Epoch 138/1000\n",
            "3/3 - 0s - loss: 0.0451 - accuracy: 0.9889 - val_loss: 0.2263 - val_accuracy: 0.9000 - 42ms/epoch - 14ms/step\n",
            "Epoch 139/1000\n",
            "3/3 - 0s - loss: 0.0611 - accuracy: 0.9889 - val_loss: 0.2253 - val_accuracy: 0.9000 - 38ms/epoch - 13ms/step\n",
            "Epoch 140/1000\n",
            "3/3 - 0s - loss: 0.0841 - accuracy: 0.9556 - val_loss: 0.2412 - val_accuracy: 0.9000 - 40ms/epoch - 13ms/step\n",
            "Epoch 141/1000\n",
            "3/3 - 0s - loss: 0.0421 - accuracy: 0.9778 - val_loss: 0.2697 - val_accuracy: 0.9000 - 53ms/epoch - 18ms/step\n",
            "Epoch 142/1000\n",
            "3/3 - 0s - loss: 0.0541 - accuracy: 0.9889 - val_loss: 0.3000 - val_accuracy: 0.8667 - 52ms/epoch - 17ms/step\n",
            "Epoch 143/1000\n",
            "3/3 - 0s - loss: 0.0612 - accuracy: 0.9778 - val_loss: 0.3013 - val_accuracy: 0.8333 - 45ms/epoch - 15ms/step\n",
            "Epoch 144/1000\n",
            "3/3 - 0s - loss: 0.0910 - accuracy: 0.9667 - val_loss: 0.2806 - val_accuracy: 0.8667 - 41ms/epoch - 14ms/step\n",
            "Epoch 145/1000\n",
            "3/3 - 0s - loss: 0.0224 - accuracy: 1.0000 - val_loss: 0.2710 - val_accuracy: 0.8667 - 62ms/epoch - 21ms/step\n",
            "Epoch 146/1000\n",
            "3/3 - 0s - loss: 0.0468 - accuracy: 0.9889 - val_loss: 0.3000 - val_accuracy: 0.8667 - 40ms/epoch - 13ms/step\n",
            "Epoch 147/1000\n",
            "3/3 - 0s - loss: 0.0589 - accuracy: 0.9889 - val_loss: 0.3627 - val_accuracy: 0.8667 - 43ms/epoch - 14ms/step\n",
            "Epoch 148/1000\n",
            "3/3 - 0s - loss: 0.0338 - accuracy: 1.0000 - val_loss: 0.3936 - val_accuracy: 0.8667 - 58ms/epoch - 19ms/step\n",
            "Epoch 149/1000\n",
            "3/3 - 0s - loss: 0.0667 - accuracy: 0.9778 - val_loss: 0.4020 - val_accuracy: 0.8667 - 43ms/epoch - 14ms/step\n",
            "Epoch 150/1000\n",
            "3/3 - 0s - loss: 0.0681 - accuracy: 0.9667 - val_loss: 0.3758 - val_accuracy: 0.8667 - 47ms/epoch - 16ms/step\n",
            "Epoch 151/1000\n",
            "3/3 - 0s - loss: 0.0417 - accuracy: 1.0000 - val_loss: 0.3423 - val_accuracy: 0.9000 - 44ms/epoch - 15ms/step\n",
            "Epoch 152/1000\n",
            "3/3 - 0s - loss: 0.0258 - accuracy: 1.0000 - val_loss: 0.3255 - val_accuracy: 0.9000 - 49ms/epoch - 16ms/step\n",
            "Epoch 153/1000\n",
            "3/3 - 0s - loss: 0.0967 - accuracy: 0.9778 - val_loss: 0.3051 - val_accuracy: 0.9000 - 47ms/epoch - 16ms/step\n",
            "Epoch 154/1000\n",
            "3/3 - 0s - loss: 0.0689 - accuracy: 0.9667 - val_loss: 0.3014 - val_accuracy: 0.8667 - 45ms/epoch - 15ms/step\n",
            "Epoch 155/1000\n",
            "3/3 - 0s - loss: 0.0655 - accuracy: 0.9667 - val_loss: 0.3232 - val_accuracy: 0.8333 - 42ms/epoch - 14ms/step\n",
            "Epoch 156/1000\n",
            "3/3 - 0s - loss: 0.0289 - accuracy: 0.9889 - val_loss: 0.3547 - val_accuracy: 0.8333 - 40ms/epoch - 13ms/step\n",
            "Epoch 157/1000\n",
            "3/3 - 0s - loss: 0.0724 - accuracy: 0.9667 - val_loss: 0.3359 - val_accuracy: 0.8667 - 42ms/epoch - 14ms/step\n",
            "Epoch 158/1000\n",
            "3/3 - 0s - loss: 0.0440 - accuracy: 0.9889 - val_loss: 0.2693 - val_accuracy: 0.9000 - 43ms/epoch - 14ms/step\n",
            "Epoch 159/1000\n",
            "3/3 - 0s - loss: 0.0412 - accuracy: 0.9889 - val_loss: 0.2284 - val_accuracy: 0.9000 - 54ms/epoch - 18ms/step\n",
            "Epoch 160/1000\n",
            "3/3 - 0s - loss: 0.0402 - accuracy: 0.9778 - val_loss: 0.1960 - val_accuracy: 0.9000 - 52ms/epoch - 17ms/step\n",
            "Epoch 161/1000\n",
            "3/3 - 0s - loss: 0.1185 - accuracy: 0.9667 - val_loss: 0.1410 - val_accuracy: 0.9333 - 41ms/epoch - 14ms/step\n",
            "Epoch 162/1000\n",
            "3/3 - 0s - loss: 0.0329 - accuracy: 1.0000 - val_loss: 0.0830 - val_accuracy: 0.9333 - 56ms/epoch - 19ms/step\n",
            "Epoch 163/1000\n",
            "3/3 - 0s - loss: 0.0379 - accuracy: 0.9889 - val_loss: 0.0593 - val_accuracy: 1.0000 - 47ms/epoch - 16ms/step\n",
            "Epoch 164/1000\n",
            "3/3 - 0s - loss: 0.1569 - accuracy: 0.9778 - val_loss: 0.0566 - val_accuracy: 1.0000 - 42ms/epoch - 14ms/step\n",
            "Epoch 165/1000\n",
            "3/3 - 0s - loss: 0.0665 - accuracy: 0.9889 - val_loss: 0.0892 - val_accuracy: 0.9333 - 39ms/epoch - 13ms/step\n",
            "Epoch 166/1000\n",
            "3/3 - 0s - loss: 0.1111 - accuracy: 0.9667 - val_loss: 0.1057 - val_accuracy: 0.9333 - 40ms/epoch - 13ms/step\n",
            "Epoch 167/1000\n",
            "3/3 - 0s - loss: 0.0664 - accuracy: 1.0000 - val_loss: 0.0788 - val_accuracy: 0.9667 - 42ms/epoch - 14ms/step\n",
            "Epoch 168/1000\n",
            "3/3 - 0s - loss: 0.1030 - accuracy: 0.9778 - val_loss: 0.0781 - val_accuracy: 0.9667 - 38ms/epoch - 13ms/step\n",
            "Epoch 169/1000\n",
            "3/3 - 0s - loss: 0.0623 - accuracy: 0.9889 - val_loss: 0.0857 - val_accuracy: 0.9667 - 42ms/epoch - 14ms/step\n",
            "Epoch 170/1000\n",
            "3/3 - 0s - loss: 0.0658 - accuracy: 0.9889 - val_loss: 0.0880 - val_accuracy: 0.9667 - 44ms/epoch - 15ms/step\n",
            "Epoch 171/1000\n",
            "3/3 - 0s - loss: 0.0968 - accuracy: 0.9778 - val_loss: 0.0980 - val_accuracy: 0.9667 - 39ms/epoch - 13ms/step\n",
            "Epoch 172/1000\n",
            "3/3 - 0s - loss: 0.0281 - accuracy: 1.0000 - val_loss: 0.1361 - val_accuracy: 0.9333 - 38ms/epoch - 13ms/step\n",
            "Epoch 173/1000\n",
            "3/3 - 0s - loss: 0.2154 - accuracy: 0.9444 - val_loss: 0.1849 - val_accuracy: 0.9333 - 39ms/epoch - 13ms/step\n",
            "Epoch 174/1000\n",
            "3/3 - 0s - loss: 0.0678 - accuracy: 0.9778 - val_loss: 0.2443 - val_accuracy: 0.8667 - 39ms/epoch - 13ms/step\n",
            "Epoch 175/1000\n",
            "3/3 - 0s - loss: 0.0704 - accuracy: 0.9778 - val_loss: 0.2784 - val_accuracy: 0.8333 - 43ms/epoch - 14ms/step\n",
            "Epoch 176/1000\n",
            "3/3 - 0s - loss: 0.0480 - accuracy: 1.0000 - val_loss: 0.2907 - val_accuracy: 0.8333 - 47ms/epoch - 16ms/step\n",
            "Epoch 177/1000\n",
            "3/3 - 0s - loss: 0.0656 - accuracy: 0.9778 - val_loss: 0.2634 - val_accuracy: 0.8333 - 41ms/epoch - 14ms/step\n",
            "Epoch 178/1000\n",
            "3/3 - 0s - loss: 0.0860 - accuracy: 0.9778 - val_loss: 0.1912 - val_accuracy: 0.8667 - 43ms/epoch - 14ms/step\n",
            "Epoch 179/1000\n",
            "3/3 - 0s - loss: 0.0375 - accuracy: 0.9889 - val_loss: 0.1372 - val_accuracy: 0.9333 - 41ms/epoch - 14ms/step\n",
            "Epoch 180/1000\n",
            "3/3 - 0s - loss: 0.0502 - accuracy: 0.9889 - val_loss: 0.1055 - val_accuracy: 0.9667 - 44ms/epoch - 15ms/step\n",
            "Epoch 181/1000\n",
            "3/3 - 0s - loss: 0.0379 - accuracy: 1.0000 - val_loss: 0.0938 - val_accuracy: 0.9667 - 46ms/epoch - 15ms/step\n",
            "Epoch 182/1000\n",
            "3/3 - 0s - loss: 0.1067 - accuracy: 0.9556 - val_loss: 0.0908 - val_accuracy: 0.9667 - 49ms/epoch - 16ms/step\n",
            "Epoch 183/1000\n",
            "3/3 - 0s - loss: 0.0305 - accuracy: 1.0000 - val_loss: 0.0924 - val_accuracy: 0.9333 - 54ms/epoch - 18ms/step\n",
            "Epoch 184/1000\n",
            "3/3 - 0s - loss: 0.0408 - accuracy: 0.9889 - val_loss: 0.0981 - val_accuracy: 0.9333 - 45ms/epoch - 15ms/step\n",
            "Epoch 185/1000\n",
            "3/3 - 0s - loss: 0.0674 - accuracy: 0.9889 - val_loss: 0.0922 - val_accuracy: 0.9333 - 40ms/epoch - 13ms/step\n",
            "Epoch 186/1000\n",
            "3/3 - 0s - loss: 0.0256 - accuracy: 1.0000 - val_loss: 0.0763 - val_accuracy: 0.9667 - 38ms/epoch - 13ms/step\n",
            "Epoch 187/1000\n",
            "3/3 - 0s - loss: 0.0365 - accuracy: 0.9889 - val_loss: 0.0741 - val_accuracy: 0.9667 - 43ms/epoch - 14ms/step\n",
            "Epoch 188/1000\n",
            "3/3 - 0s - loss: 0.1071 - accuracy: 0.9444 - val_loss: 0.0794 - val_accuracy: 0.9667 - 39ms/epoch - 13ms/step\n",
            "Epoch 189/1000\n",
            "3/3 - 0s - loss: 0.0361 - accuracy: 0.9889 - val_loss: 0.0983 - val_accuracy: 0.9667 - 41ms/epoch - 14ms/step\n",
            "Epoch 190/1000\n",
            "3/3 - 0s - loss: 0.0288 - accuracy: 0.9889 - val_loss: 0.1161 - val_accuracy: 0.9667 - 41ms/epoch - 14ms/step\n",
            "Epoch 191/1000\n",
            "3/3 - 0s - loss: 0.0315 - accuracy: 0.9889 - val_loss: 0.1325 - val_accuracy: 0.9667 - 38ms/epoch - 13ms/step\n",
            "Epoch 192/1000\n",
            "3/3 - 0s - loss: 0.0977 - accuracy: 0.9667 - val_loss: 0.1411 - val_accuracy: 0.9333 - 51ms/epoch - 17ms/step\n",
            "Epoch 193/1000\n",
            "3/3 - 0s - loss: 0.1083 - accuracy: 0.9778 - val_loss: 0.1589 - val_accuracy: 0.9000 - 43ms/epoch - 14ms/step\n",
            "Epoch 194/1000\n",
            "3/3 - 0s - loss: 0.0240 - accuracy: 1.0000 - val_loss: 0.1799 - val_accuracy: 0.9000 - 37ms/epoch - 12ms/step\n",
            "Epoch 195/1000\n",
            "3/3 - 0s - loss: 0.0245 - accuracy: 1.0000 - val_loss: 0.2114 - val_accuracy: 0.8667 - 38ms/epoch - 13ms/step\n",
            "Epoch 196/1000\n",
            "3/3 - 0s - loss: 0.0380 - accuracy: 0.9889 - val_loss: 0.2327 - val_accuracy: 0.9000 - 43ms/epoch - 14ms/step\n",
            "Epoch 197/1000\n",
            "3/3 - 0s - loss: 0.0341 - accuracy: 1.0000 - val_loss: 0.2634 - val_accuracy: 0.9000 - 43ms/epoch - 14ms/step\n",
            "Epoch 198/1000\n",
            "3/3 - 0s - loss: 0.0717 - accuracy: 0.9778 - val_loss: 0.2755 - val_accuracy: 0.9000 - 40ms/epoch - 13ms/step\n",
            "Epoch 199/1000\n",
            "3/3 - 0s - loss: 0.0327 - accuracy: 0.9889 - val_loss: 0.2217 - val_accuracy: 0.8667 - 45ms/epoch - 15ms/step\n",
            "Epoch 200/1000\n",
            "3/3 - 0s - loss: 0.0333 - accuracy: 1.0000 - val_loss: 0.2025 - val_accuracy: 0.9333 - 44ms/epoch - 15ms/step\n",
            "Epoch 201/1000\n",
            "3/3 - 0s - loss: 0.0384 - accuracy: 1.0000 - val_loss: 0.1697 - val_accuracy: 0.9333 - 49ms/epoch - 16ms/step\n",
            "Epoch 202/1000\n",
            "3/3 - 0s - loss: 0.0537 - accuracy: 0.9778 - val_loss: 0.1489 - val_accuracy: 0.9333 - 46ms/epoch - 15ms/step\n",
            "Epoch 203/1000\n",
            "3/3 - 0s - loss: 0.0991 - accuracy: 0.9778 - val_loss: 0.1898 - val_accuracy: 0.9667 - 53ms/epoch - 18ms/step\n",
            "Epoch 204/1000\n",
            "3/3 - 0s - loss: 0.0253 - accuracy: 1.0000 - val_loss: 0.3736 - val_accuracy: 0.9333 - 51ms/epoch - 17ms/step\n",
            "Epoch 205/1000\n",
            "3/3 - 0s - loss: 0.0202 - accuracy: 1.0000 - val_loss: 0.5475 - val_accuracy: 0.9000 - 41ms/epoch - 14ms/step\n",
            "Epoch 206/1000\n",
            "3/3 - 0s - loss: 0.1053 - accuracy: 0.9444 - val_loss: 0.6205 - val_accuracy: 0.8667 - 62ms/epoch - 21ms/step\n",
            "Epoch 207/1000\n",
            "3/3 - 0s - loss: 0.1293 - accuracy: 0.9444 - val_loss: 0.5267 - val_accuracy: 0.9000 - 42ms/epoch - 14ms/step\n",
            "Epoch 208/1000\n",
            "3/3 - 0s - loss: 0.1348 - accuracy: 0.9556 - val_loss: 0.3998 - val_accuracy: 0.9333 - 44ms/epoch - 15ms/step\n",
            "Epoch 209/1000\n",
            "3/3 - 0s - loss: 0.0486 - accuracy: 0.9778 - val_loss: 0.3483 - val_accuracy: 0.9333 - 48ms/epoch - 16ms/step\n",
            "Epoch 210/1000\n",
            "3/3 - 0s - loss: 0.0312 - accuracy: 1.0000 - val_loss: 0.3394 - val_accuracy: 0.9333 - 45ms/epoch - 15ms/step\n",
            "Epoch 211/1000\n",
            "3/3 - 0s - loss: 0.0510 - accuracy: 0.9889 - val_loss: 0.3107 - val_accuracy: 0.9333 - 63ms/epoch - 21ms/step\n",
            "Epoch 212/1000\n",
            "3/3 - 0s - loss: 0.0344 - accuracy: 0.9778 - val_loss: 0.2955 - val_accuracy: 0.9333 - 52ms/epoch - 17ms/step\n",
            "Epoch 213/1000\n",
            "3/3 - 0s - loss: 0.0336 - accuracy: 0.9889 - val_loss: 0.2866 - val_accuracy: 0.9333 - 45ms/epoch - 15ms/step\n",
            "Epoch 214/1000\n",
            "3/3 - 0s - loss: 0.0609 - accuracy: 0.9889 - val_loss: 0.2295 - val_accuracy: 0.9333 - 47ms/epoch - 16ms/step\n",
            "Epoch 215/1000\n",
            "3/3 - 0s - loss: 0.0689 - accuracy: 0.9889 - val_loss: 0.1525 - val_accuracy: 0.9333 - 40ms/epoch - 13ms/step\n",
            "Epoch 216/1000\n",
            "3/3 - 0s - loss: 0.0250 - accuracy: 1.0000 - val_loss: 0.1187 - val_accuracy: 0.9333 - 39ms/epoch - 13ms/step\n",
            "Epoch 217/1000\n",
            "3/3 - 0s - loss: 0.0739 - accuracy: 0.9556 - val_loss: 0.0909 - val_accuracy: 0.9333 - 44ms/epoch - 15ms/step\n",
            "Epoch 218/1000\n",
            "3/3 - 0s - loss: 0.0882 - accuracy: 0.9778 - val_loss: 0.0753 - val_accuracy: 0.9667 - 48ms/epoch - 16ms/step\n",
            "Epoch 219/1000\n",
            "3/3 - 0s - loss: 0.0586 - accuracy: 0.9778 - val_loss: 0.0659 - val_accuracy: 0.9667 - 38ms/epoch - 13ms/step\n",
            "Epoch 220/1000\n",
            "3/3 - 0s - loss: 0.0435 - accuracy: 0.9667 - val_loss: 0.0656 - val_accuracy: 0.9667 - 43ms/epoch - 14ms/step\n",
            "Epoch 221/1000\n",
            "3/3 - 0s - loss: 0.0418 - accuracy: 0.9778 - val_loss: 0.0766 - val_accuracy: 0.9667 - 48ms/epoch - 16ms/step\n",
            "Epoch 222/1000\n",
            "3/3 - 0s - loss: 0.0796 - accuracy: 0.9778 - val_loss: 0.1606 - val_accuracy: 0.9000 - 41ms/epoch - 14ms/step\n",
            "Epoch 223/1000\n",
            "3/3 - 0s - loss: 0.0332 - accuracy: 0.9889 - val_loss: 0.3782 - val_accuracy: 0.9000 - 49ms/epoch - 16ms/step\n",
            "Epoch 224/1000\n",
            "3/3 - 0s - loss: 0.0403 - accuracy: 0.9778 - val_loss: 0.5182 - val_accuracy: 0.8667 - 52ms/epoch - 17ms/step\n",
            "Epoch 225/1000\n",
            "3/3 - 0s - loss: 0.0552 - accuracy: 0.9778 - val_loss: 0.4994 - val_accuracy: 0.8667 - 49ms/epoch - 16ms/step\n",
            "Epoch 226/1000\n",
            "3/3 - 0s - loss: 0.0953 - accuracy: 0.9667 - val_loss: 0.3871 - val_accuracy: 0.8667 - 67ms/epoch - 22ms/step\n",
            "Epoch 227/1000\n",
            "3/3 - 0s - loss: 0.0477 - accuracy: 0.9667 - val_loss: 0.2377 - val_accuracy: 0.9000 - 58ms/epoch - 19ms/step\n",
            "Epoch 228/1000\n",
            "3/3 - 0s - loss: 0.0333 - accuracy: 0.9889 - val_loss: 0.1230 - val_accuracy: 0.9333 - 49ms/epoch - 16ms/step\n",
            "Epoch 229/1000\n",
            "3/3 - 0s - loss: 0.0290 - accuracy: 0.9889 - val_loss: 0.0930 - val_accuracy: 0.9667 - 46ms/epoch - 15ms/step\n",
            "Epoch 230/1000\n",
            "3/3 - 0s - loss: 0.0374 - accuracy: 0.9889 - val_loss: 0.0941 - val_accuracy: 0.9667 - 48ms/epoch - 16ms/step\n",
            "Epoch 231/1000\n",
            "3/3 - 0s - loss: 0.0237 - accuracy: 1.0000 - val_loss: 0.0960 - val_accuracy: 0.9667 - 58ms/epoch - 19ms/step\n",
            "Epoch 232/1000\n",
            "3/3 - 0s - loss: 0.0370 - accuracy: 0.9778 - val_loss: 0.0995 - val_accuracy: 0.9667 - 42ms/epoch - 14ms/step\n",
            "Epoch 233/1000\n",
            "3/3 - 0s - loss: 0.0458 - accuracy: 0.9778 - val_loss: 0.1112 - val_accuracy: 0.9667 - 43ms/epoch - 14ms/step\n",
            "Epoch 234/1000\n",
            "3/3 - 0s - loss: 0.0292 - accuracy: 1.0000 - val_loss: 0.1306 - val_accuracy: 0.9667 - 39ms/epoch - 13ms/step\n",
            "Epoch 235/1000\n",
            "3/3 - 0s - loss: 0.0406 - accuracy: 0.9778 - val_loss: 0.1496 - val_accuracy: 0.9667 - 38ms/epoch - 13ms/step\n",
            "Epoch 236/1000\n",
            "3/3 - 0s - loss: 0.0465 - accuracy: 0.9889 - val_loss: 0.1691 - val_accuracy: 0.9667 - 37ms/epoch - 12ms/step\n",
            "Epoch 237/1000\n",
            "3/3 - 0s - loss: 0.0387 - accuracy: 0.9778 - val_loss: 0.1739 - val_accuracy: 0.9333 - 39ms/epoch - 13ms/step\n",
            "Epoch 238/1000\n",
            "3/3 - 0s - loss: 0.0182 - accuracy: 1.0000 - val_loss: 0.1806 - val_accuracy: 0.9333 - 44ms/epoch - 15ms/step\n",
            "Epoch 239/1000\n",
            "3/3 - 0s - loss: 0.0264 - accuracy: 0.9889 - val_loss: 0.1715 - val_accuracy: 0.9333 - 45ms/epoch - 15ms/step\n",
            "Epoch 240/1000\n",
            "3/3 - 0s - loss: 0.0389 - accuracy: 0.9778 - val_loss: 0.1566 - val_accuracy: 0.9333 - 60ms/epoch - 20ms/step\n",
            "Epoch 241/1000\n",
            "3/3 - 0s - loss: 0.1146 - accuracy: 0.9778 - val_loss: 0.1302 - val_accuracy: 0.9667 - 42ms/epoch - 14ms/step\n",
            "Epoch 242/1000\n",
            "3/3 - 0s - loss: 0.0905 - accuracy: 0.9556 - val_loss: 0.0959 - val_accuracy: 0.9667 - 51ms/epoch - 17ms/step\n",
            "Epoch 243/1000\n",
            "3/3 - 0s - loss: 0.0267 - accuracy: 0.9889 - val_loss: 0.0592 - val_accuracy: 0.9667 - 39ms/epoch - 13ms/step\n",
            "Epoch 244/1000\n",
            "3/3 - 0s - loss: 0.0227 - accuracy: 1.0000 - val_loss: 0.0431 - val_accuracy: 1.0000 - 37ms/epoch - 12ms/step\n",
            "Epoch 245/1000\n",
            "3/3 - 0s - loss: 0.0563 - accuracy: 0.9778 - val_loss: 0.0509 - val_accuracy: 1.0000 - 39ms/epoch - 13ms/step\n",
            "Epoch 246/1000\n",
            "3/3 - 0s - loss: 0.0480 - accuracy: 1.0000 - val_loss: 0.1050 - val_accuracy: 0.9667 - 40ms/epoch - 13ms/step\n",
            "Epoch 247/1000\n",
            "3/3 - 0s - loss: 0.0412 - accuracy: 1.0000 - val_loss: 0.1618 - val_accuracy: 0.9333 - 37ms/epoch - 12ms/step\n",
            "Epoch 248/1000\n",
            "3/3 - 0s - loss: 0.1302 - accuracy: 0.9444 - val_loss: 0.2103 - val_accuracy: 0.9333 - 60ms/epoch - 20ms/step\n",
            "Epoch 249/1000\n",
            "3/3 - 0s - loss: 0.0345 - accuracy: 0.9889 - val_loss: 0.2717 - val_accuracy: 0.9000 - 42ms/epoch - 14ms/step\n",
            "Epoch 250/1000\n",
            "3/3 - 0s - loss: 0.0409 - accuracy: 0.9778 - val_loss: 0.3551 - val_accuracy: 0.9000 - 37ms/epoch - 12ms/step\n",
            "Epoch 251/1000\n",
            "3/3 - 0s - loss: 0.0460 - accuracy: 0.9778 - val_loss: 0.3887 - val_accuracy: 0.9000 - 40ms/epoch - 13ms/step\n",
            "Epoch 252/1000\n",
            "3/3 - 0s - loss: 0.0909 - accuracy: 0.9667 - val_loss: 0.3879 - val_accuracy: 0.8667 - 52ms/epoch - 17ms/step\n",
            "Epoch 253/1000\n",
            "3/3 - 0s - loss: 0.0946 - accuracy: 0.9778 - val_loss: 0.3164 - val_accuracy: 0.9000 - 50ms/epoch - 17ms/step\n",
            "Epoch 254/1000\n",
            "3/3 - 0s - loss: 0.0502 - accuracy: 0.9889 - val_loss: 0.2545 - val_accuracy: 0.9000 - 52ms/epoch - 17ms/step\n",
            "Epoch 255/1000\n",
            "3/3 - 0s - loss: 0.0282 - accuracy: 1.0000 - val_loss: 0.1990 - val_accuracy: 0.9333 - 52ms/epoch - 17ms/step\n",
            "Epoch 256/1000\n",
            "3/3 - 0s - loss: 0.0395 - accuracy: 0.9778 - val_loss: 0.1595 - val_accuracy: 0.9667 - 41ms/epoch - 14ms/step\n",
            "Epoch 257/1000\n",
            "3/3 - 0s - loss: 0.0770 - accuracy: 0.9778 - val_loss: 0.1297 - val_accuracy: 0.9667 - 43ms/epoch - 14ms/step\n",
            "Epoch 258/1000\n",
            "3/3 - 0s - loss: 0.0544 - accuracy: 0.9889 - val_loss: 0.1360 - val_accuracy: 0.9333 - 40ms/epoch - 13ms/step\n",
            "Epoch 259/1000\n",
            "3/3 - 0s - loss: 0.0346 - accuracy: 0.9778 - val_loss: 0.1721 - val_accuracy: 0.9333 - 43ms/epoch - 14ms/step\n",
            "Epoch 260/1000\n",
            "3/3 - 0s - loss: 0.0196 - accuracy: 1.0000 - val_loss: 0.1946 - val_accuracy: 0.9333 - 48ms/epoch - 16ms/step\n",
            "Epoch 261/1000\n",
            "3/3 - 0s - loss: 0.0321 - accuracy: 0.9889 - val_loss: 0.1980 - val_accuracy: 0.9000 - 59ms/epoch - 20ms/step\n",
            "Epoch 262/1000\n",
            "3/3 - 0s - loss: 0.0223 - accuracy: 1.0000 - val_loss: 0.1963 - val_accuracy: 0.9000 - 61ms/epoch - 20ms/step\n",
            "Epoch 263/1000\n",
            "3/3 - 0s - loss: 0.0275 - accuracy: 0.9889 - val_loss: 0.1955 - val_accuracy: 0.9000 - 57ms/epoch - 19ms/step\n",
            "Epoch 264/1000\n",
            "3/3 - 0s - loss: 0.0349 - accuracy: 1.0000 - val_loss: 0.1925 - val_accuracy: 0.9000 - 54ms/epoch - 18ms/step\n",
            "Epoch 265/1000\n",
            "3/3 - 0s - loss: 0.0286 - accuracy: 1.0000 - val_loss: 0.1807 - val_accuracy: 0.9000 - 53ms/epoch - 18ms/step\n",
            "Epoch 266/1000\n",
            "3/3 - 0s - loss: 0.0279 - accuracy: 1.0000 - val_loss: 0.1511 - val_accuracy: 0.9333 - 56ms/epoch - 19ms/step\n",
            "Epoch 267/1000\n",
            "3/3 - 0s - loss: 0.0214 - accuracy: 0.9889 - val_loss: 0.1274 - val_accuracy: 0.9667 - 50ms/epoch - 17ms/step\n",
            "Epoch 268/1000\n",
            "3/3 - 0s - loss: 0.0648 - accuracy: 0.9778 - val_loss: 0.0992 - val_accuracy: 0.9667 - 48ms/epoch - 16ms/step\n",
            "Epoch 269/1000\n",
            "3/3 - 0s - loss: 0.0138 - accuracy: 1.0000 - val_loss: 0.0824 - val_accuracy: 0.9667 - 51ms/epoch - 17ms/step\n",
            "Epoch 270/1000\n",
            "3/3 - 0s - loss: 0.0197 - accuracy: 0.9889 - val_loss: 0.0769 - val_accuracy: 0.9667 - 44ms/epoch - 15ms/step\n",
            "Epoch 271/1000\n",
            "3/3 - 0s - loss: 0.0331 - accuracy: 0.9889 - val_loss: 0.0818 - val_accuracy: 0.9667 - 52ms/epoch - 17ms/step\n",
            "Epoch 272/1000\n",
            "3/3 - 0s - loss: 0.0697 - accuracy: 0.9889 - val_loss: 0.0901 - val_accuracy: 0.9667 - 50ms/epoch - 17ms/step\n",
            "Epoch 273/1000\n",
            "3/3 - 0s - loss: 0.0432 - accuracy: 0.9778 - val_loss: 0.1012 - val_accuracy: 0.9667 - 49ms/epoch - 16ms/step\n",
            "Epoch 274/1000\n",
            "3/3 - 0s - loss: 0.0421 - accuracy: 0.9889 - val_loss: 0.0984 - val_accuracy: 0.9667 - 58ms/epoch - 19ms/step\n",
            "Epoch 275/1000\n",
            "3/3 - 0s - loss: 0.0252 - accuracy: 1.0000 - val_loss: 0.0844 - val_accuracy: 0.9667 - 40ms/epoch - 13ms/step\n",
            "Epoch 276/1000\n",
            "3/3 - 0s - loss: 0.0357 - accuracy: 0.9889 - val_loss: 0.0807 - val_accuracy: 0.9667 - 41ms/epoch - 14ms/step\n",
            "Epoch 277/1000\n",
            "3/3 - 0s - loss: 0.0320 - accuracy: 0.9889 - val_loss: 0.0872 - val_accuracy: 0.9667 - 47ms/epoch - 16ms/step\n",
            "Epoch 278/1000\n",
            "3/3 - 0s - loss: 0.0428 - accuracy: 0.9889 - val_loss: 0.1013 - val_accuracy: 0.9667 - 44ms/epoch - 15ms/step\n",
            "Epoch 279/1000\n",
            "3/3 - 0s - loss: 0.0555 - accuracy: 0.9667 - val_loss: 0.1175 - val_accuracy: 0.9667 - 52ms/epoch - 17ms/step\n",
            "Epoch 280/1000\n",
            "3/3 - 0s - loss: 0.0138 - accuracy: 1.0000 - val_loss: 0.1443 - val_accuracy: 0.9333 - 54ms/epoch - 18ms/step\n",
            "Epoch 281/1000\n",
            "3/3 - 0s - loss: 0.0168 - accuracy: 1.0000 - val_loss: 0.1810 - val_accuracy: 0.9000 - 44ms/epoch - 15ms/step\n",
            "Epoch 282/1000\n",
            "3/3 - 0s - loss: 0.0228 - accuracy: 0.9889 - val_loss: 0.2200 - val_accuracy: 0.9000 - 47ms/epoch - 16ms/step\n",
            "Epoch 283/1000\n",
            "3/3 - 0s - loss: 0.0196 - accuracy: 0.9889 - val_loss: 0.2623 - val_accuracy: 0.9000 - 40ms/epoch - 13ms/step\n",
            "Epoch 284/1000\n",
            "3/3 - 0s - loss: 0.0127 - accuracy: 1.0000 - val_loss: 0.2866 - val_accuracy: 0.9000 - 37ms/epoch - 12ms/step\n",
            "Epoch 285/1000\n",
            "3/3 - 0s - loss: 0.0320 - accuracy: 0.9889 - val_loss: 0.2836 - val_accuracy: 0.9000 - 43ms/epoch - 14ms/step\n",
            "Epoch 286/1000\n",
            "3/3 - 0s - loss: 0.0162 - accuracy: 1.0000 - val_loss: 0.2662 - val_accuracy: 0.9000 - 49ms/epoch - 16ms/step\n",
            "Epoch 287/1000\n",
            "3/3 - 0s - loss: 0.0612 - accuracy: 0.9778 - val_loss: 0.1799 - val_accuracy: 0.9000 - 42ms/epoch - 14ms/step\n",
            "Epoch 288/1000\n",
            "3/3 - 0s - loss: 0.0601 - accuracy: 0.9667 - val_loss: 0.1358 - val_accuracy: 0.9333 - 74ms/epoch - 25ms/step\n",
            "Epoch 289/1000\n",
            "3/3 - 0s - loss: 0.0083 - accuracy: 1.0000 - val_loss: 0.1151 - val_accuracy: 0.9667 - 45ms/epoch - 15ms/step\n",
            "Epoch 290/1000\n",
            "3/3 - 0s - loss: 0.0686 - accuracy: 0.9778 - val_loss: 0.1524 - val_accuracy: 0.9667 - 69ms/epoch - 23ms/step\n",
            "Epoch 291/1000\n",
            "3/3 - 0s - loss: 0.0641 - accuracy: 0.9778 - val_loss: 0.3634 - val_accuracy: 0.8667 - 45ms/epoch - 15ms/step\n",
            "Epoch 292/1000\n",
            "3/3 - 0s - loss: 0.0560 - accuracy: 0.9778 - val_loss: 0.6639 - val_accuracy: 0.7333 - 45ms/epoch - 15ms/step\n",
            "Epoch 293/1000\n",
            "3/3 - 0s - loss: 0.0210 - accuracy: 1.0000 - val_loss: 0.9208 - val_accuracy: 0.6333 - 46ms/epoch - 15ms/step\n",
            "Epoch 294/1000\n",
            "3/3 - 0s - loss: 0.0555 - accuracy: 0.9556 - val_loss: 1.0854 - val_accuracy: 0.7000 - 63ms/epoch - 21ms/step\n",
            "Epoch 295/1000\n",
            "3/3 - 0s - loss: 0.0882 - accuracy: 0.9778 - val_loss: 1.2783 - val_accuracy: 0.6000 - 48ms/epoch - 16ms/step\n",
            "Epoch 296/1000\n",
            "3/3 - 0s - loss: 0.0749 - accuracy: 0.9778 - val_loss: 1.3508 - val_accuracy: 0.6333 - 52ms/epoch - 17ms/step\n",
            "Epoch 297/1000\n",
            "3/3 - 0s - loss: 0.0692 - accuracy: 0.9778 - val_loss: 1.1807 - val_accuracy: 0.6333 - 54ms/epoch - 18ms/step\n",
            "Epoch 298/1000\n",
            "3/3 - 0s - loss: 0.0476 - accuracy: 0.9889 - val_loss: 0.9780 - val_accuracy: 0.7000 - 53ms/epoch - 18ms/step\n",
            "Epoch 299/1000\n",
            "3/3 - 0s - loss: 0.1472 - accuracy: 0.9333 - val_loss: 0.7353 - val_accuracy: 0.8000 - 48ms/epoch - 16ms/step\n",
            "Epoch 300/1000\n",
            "3/3 - 0s - loss: 0.0532 - accuracy: 0.9889 - val_loss: 0.5494 - val_accuracy: 0.8333 - 51ms/epoch - 17ms/step\n",
            "Epoch 301/1000\n",
            "3/3 - 0s - loss: 0.0377 - accuracy: 0.9889 - val_loss: 0.5000 - val_accuracy: 0.8667 - 64ms/epoch - 21ms/step\n",
            "Epoch 302/1000\n",
            "3/3 - 0s - loss: 0.0513 - accuracy: 0.9778 - val_loss: 0.4427 - val_accuracy: 0.8667 - 57ms/epoch - 19ms/step\n",
            "Epoch 303/1000\n",
            "3/3 - 0s - loss: 0.0474 - accuracy: 0.9889 - val_loss: 0.3794 - val_accuracy: 0.8667 - 44ms/epoch - 15ms/step\n",
            "Epoch 304/1000\n",
            "3/3 - 0s - loss: 0.0512 - accuracy: 0.9778 - val_loss: 0.3561 - val_accuracy: 0.8667 - 45ms/epoch - 15ms/step\n",
            "Epoch 305/1000\n",
            "3/3 - 0s - loss: 0.0751 - accuracy: 0.9667 - val_loss: 0.3830 - val_accuracy: 0.8667 - 48ms/epoch - 16ms/step\n",
            "Epoch 306/1000\n",
            "3/3 - 0s - loss: 0.0630 - accuracy: 0.9889 - val_loss: 0.3925 - val_accuracy: 0.8667 - 45ms/epoch - 15ms/step\n",
            "Epoch 307/1000\n",
            "3/3 - 0s - loss: 0.0357 - accuracy: 0.9889 - val_loss: 0.3585 - val_accuracy: 0.8667 - 45ms/epoch - 15ms/step\n",
            "Epoch 308/1000\n",
            "3/3 - 0s - loss: 0.0447 - accuracy: 0.9778 - val_loss: 0.3901 - val_accuracy: 0.8667 - 46ms/epoch - 15ms/step\n",
            "Epoch 309/1000\n",
            "3/3 - 0s - loss: 0.0197 - accuracy: 1.0000 - val_loss: 0.4272 - val_accuracy: 0.8667 - 49ms/epoch - 16ms/step\n",
            "Epoch 310/1000\n",
            "3/3 - 0s - loss: 0.0671 - accuracy: 0.9778 - val_loss: 0.4456 - val_accuracy: 0.8667 - 44ms/epoch - 15ms/step\n",
            "Epoch 311/1000\n",
            "3/3 - 0s - loss: 0.0177 - accuracy: 1.0000 - val_loss: 0.4786 - val_accuracy: 0.8333 - 53ms/epoch - 18ms/step\n",
            "Epoch 312/1000\n",
            "3/3 - 0s - loss: 0.0591 - accuracy: 0.9667 - val_loss: 0.4844 - val_accuracy: 0.8333 - 48ms/epoch - 16ms/step\n",
            "Epoch 313/1000\n",
            "3/3 - 0s - loss: 0.0692 - accuracy: 0.9778 - val_loss: 0.4368 - val_accuracy: 0.8333 - 44ms/epoch - 15ms/step\n",
            "Epoch 314/1000\n",
            "3/3 - 0s - loss: 0.0755 - accuracy: 0.9778 - val_loss: 0.3748 - val_accuracy: 0.8667 - 48ms/epoch - 16ms/step\n",
            "Epoch 315/1000\n",
            "3/3 - 0s - loss: 0.0353 - accuracy: 0.9778 - val_loss: 0.3628 - val_accuracy: 0.8667 - 43ms/epoch - 14ms/step\n",
            "Epoch 316/1000\n",
            "3/3 - 0s - loss: 0.0172 - accuracy: 1.0000 - val_loss: 0.3777 - val_accuracy: 0.8667 - 48ms/epoch - 16ms/step\n",
            "Epoch 317/1000\n",
            "3/3 - 0s - loss: 0.0596 - accuracy: 0.9778 - val_loss: 0.3770 - val_accuracy: 0.8667 - 60ms/epoch - 20ms/step\n",
            "Epoch 318/1000\n",
            "3/3 - 0s - loss: 0.0898 - accuracy: 0.9667 - val_loss: 0.3910 - val_accuracy: 0.8667 - 46ms/epoch - 15ms/step\n",
            "Epoch 319/1000\n",
            "3/3 - 0s - loss: 0.0293 - accuracy: 0.9889 - val_loss: 0.4242 - val_accuracy: 0.8333 - 44ms/epoch - 15ms/step\n",
            "Epoch 320/1000\n",
            "3/3 - 0s - loss: 0.1790 - accuracy: 0.9556 - val_loss: 0.4542 - val_accuracy: 0.8333 - 48ms/epoch - 16ms/step\n",
            "Epoch 321/1000\n",
            "3/3 - 0s - loss: 0.0532 - accuracy: 0.9889 - val_loss: 0.4814 - val_accuracy: 0.8667 - 48ms/epoch - 16ms/step\n",
            "Epoch 322/1000\n",
            "3/3 - 0s - loss: 0.0450 - accuracy: 0.9778 - val_loss: 0.3397 - val_accuracy: 0.8667 - 44ms/epoch - 15ms/step\n",
            "Epoch 323/1000\n",
            "3/3 - 0s - loss: 0.0406 - accuracy: 0.9889 - val_loss: 0.1821 - val_accuracy: 0.9333 - 44ms/epoch - 15ms/step\n",
            "Epoch 324/1000\n",
            "3/3 - 0s - loss: 0.0691 - accuracy: 0.9778 - val_loss: 0.1246 - val_accuracy: 0.9667 - 47ms/epoch - 16ms/step\n",
            "Epoch 325/1000\n",
            "3/3 - 0s - loss: 0.0620 - accuracy: 0.9889 - val_loss: 0.0981 - val_accuracy: 0.9667 - 41ms/epoch - 14ms/step\n",
            "Epoch 326/1000\n",
            "3/3 - 0s - loss: 0.0732 - accuracy: 0.9889 - val_loss: 0.1049 - val_accuracy: 0.9667 - 45ms/epoch - 15ms/step\n",
            "Epoch 327/1000\n",
            "3/3 - 0s - loss: 0.0584 - accuracy: 0.9778 - val_loss: 0.2124 - val_accuracy: 0.9333 - 43ms/epoch - 14ms/step\n",
            "Epoch 328/1000\n",
            "3/3 - 0s - loss: 0.0143 - accuracy: 1.0000 - val_loss: 0.3519 - val_accuracy: 0.9333 - 42ms/epoch - 14ms/step\n",
            "Epoch 329/1000\n",
            "3/3 - 0s - loss: 0.0205 - accuracy: 1.0000 - val_loss: 0.4820 - val_accuracy: 0.8667 - 41ms/epoch - 14ms/step\n",
            "Epoch 330/1000\n",
            "3/3 - 0s - loss: 0.0277 - accuracy: 0.9889 - val_loss: 0.5563 - val_accuracy: 0.8667 - 39ms/epoch - 13ms/step\n",
            "Epoch 331/1000\n",
            "3/3 - 0s - loss: 0.0278 - accuracy: 1.0000 - val_loss: 0.5400 - val_accuracy: 0.8667 - 39ms/epoch - 13ms/step\n",
            "Epoch 332/1000\n",
            "3/3 - 0s - loss: 0.0305 - accuracy: 0.9889 - val_loss: 0.4845 - val_accuracy: 0.8667 - 38ms/epoch - 13ms/step\n",
            "Epoch 333/1000\n",
            "3/3 - 0s - loss: 0.0207 - accuracy: 1.0000 - val_loss: 0.3589 - val_accuracy: 0.9333 - 38ms/epoch - 13ms/step\n",
            "Epoch 334/1000\n",
            "3/3 - 0s - loss: 0.0630 - accuracy: 0.9889 - val_loss: 0.2369 - val_accuracy: 0.9333 - 66ms/epoch - 22ms/step\n",
            "Epoch 335/1000\n",
            "3/3 - 0s - loss: 0.0170 - accuracy: 1.0000 - val_loss: 0.1185 - val_accuracy: 0.9333 - 41ms/epoch - 14ms/step\n",
            "Epoch 336/1000\n",
            "3/3 - 0s - loss: 0.0321 - accuracy: 0.9889 - val_loss: 0.1131 - val_accuracy: 0.9333 - 42ms/epoch - 14ms/step\n",
            "Epoch 337/1000\n",
            "3/3 - 0s - loss: 0.0270 - accuracy: 0.9889 - val_loss: 0.1727 - val_accuracy: 0.9000 - 41ms/epoch - 14ms/step\n",
            "Epoch 338/1000\n",
            "3/3 - 0s - loss: 0.2525 - accuracy: 0.9444 - val_loss: 0.2176 - val_accuracy: 0.8667 - 58ms/epoch - 19ms/step\n",
            "Epoch 339/1000\n",
            "3/3 - 0s - loss: 0.0317 - accuracy: 0.9889 - val_loss: 0.3599 - val_accuracy: 0.8667 - 50ms/epoch - 17ms/step\n",
            "Epoch 340/1000\n",
            "3/3 - 0s - loss: 0.0451 - accuracy: 0.9889 - val_loss: 0.6584 - val_accuracy: 0.8000 - 59ms/epoch - 20ms/step\n",
            "Epoch 341/1000\n",
            "3/3 - 0s - loss: 0.1477 - accuracy: 0.9222 - val_loss: 0.6506 - val_accuracy: 0.8000 - 55ms/epoch - 18ms/step\n",
            "Epoch 342/1000\n",
            "3/3 - 0s - loss: 0.0842 - accuracy: 0.9556 - val_loss: 0.4314 - val_accuracy: 0.8667 - 61ms/epoch - 20ms/step\n",
            "Epoch 343/1000\n",
            "3/3 - 0s - loss: 0.0501 - accuracy: 0.9889 - val_loss: 0.3141 - val_accuracy: 0.9000 - 45ms/epoch - 15ms/step\n",
            "Epoch 344/1000\n",
            "3/3 - 0s - loss: 0.0366 - accuracy: 0.9889 - val_loss: 0.2754 - val_accuracy: 0.9000 - 52ms/epoch - 17ms/step\n",
            "Epoch 345/1000\n",
            "3/3 - 0s - loss: 0.0562 - accuracy: 0.9889 - val_loss: 0.2592 - val_accuracy: 0.9000 - 50ms/epoch - 17ms/step\n",
            "Epoch 346/1000\n",
            "3/3 - 0s - loss: 0.0460 - accuracy: 0.9889 - val_loss: 0.2568 - val_accuracy: 0.9000 - 43ms/epoch - 14ms/step\n",
            "Epoch 347/1000\n",
            "3/3 - 0s - loss: 0.0518 - accuracy: 0.9778 - val_loss: 0.2357 - val_accuracy: 0.9333 - 45ms/epoch - 15ms/step\n",
            "Epoch 348/1000\n",
            "3/3 - 0s - loss: 0.0261 - accuracy: 1.0000 - val_loss: 0.1914 - val_accuracy: 0.9333 - 40ms/epoch - 13ms/step\n",
            "Epoch 349/1000\n",
            "3/3 - 0s - loss: 0.0330 - accuracy: 1.0000 - val_loss: 0.1449 - val_accuracy: 0.9667 - 46ms/epoch - 15ms/step\n",
            "Epoch 350/1000\n",
            "3/3 - 0s - loss: 0.0506 - accuracy: 0.9778 - val_loss: 0.1330 - val_accuracy: 0.9667 - 48ms/epoch - 16ms/step\n",
            "Epoch 351/1000\n",
            "3/3 - 0s - loss: 0.0480 - accuracy: 0.9889 - val_loss: 0.1159 - val_accuracy: 0.9667 - 40ms/epoch - 13ms/step\n",
            "Epoch 352/1000\n",
            "3/3 - 0s - loss: 0.1025 - accuracy: 0.9556 - val_loss: 0.1313 - val_accuracy: 0.9667 - 44ms/epoch - 15ms/step\n",
            "Epoch 353/1000\n",
            "3/3 - 0s - loss: 0.0552 - accuracy: 0.9778 - val_loss: 0.1919 - val_accuracy: 0.9667 - 47ms/epoch - 16ms/step\n",
            "Epoch 354/1000\n",
            "3/3 - 0s - loss: 0.0397 - accuracy: 0.9889 - val_loss: 0.2490 - val_accuracy: 0.9333 - 39ms/epoch - 13ms/step\n",
            "Epoch 355/1000\n",
            "3/3 - 0s - loss: 0.0366 - accuracy: 0.9889 - val_loss: 0.3052 - val_accuracy: 0.9000 - 41ms/epoch - 14ms/step\n",
            "Epoch 356/1000\n",
            "3/3 - 0s - loss: 0.0427 - accuracy: 0.9778 - val_loss: 0.3956 - val_accuracy: 0.9000 - 62ms/epoch - 21ms/step\n",
            "Epoch 357/1000\n",
            "3/3 - 0s - loss: 0.0362 - accuracy: 0.9778 - val_loss: 0.4420 - val_accuracy: 0.9000 - 41ms/epoch - 14ms/step\n",
            "Epoch 358/1000\n",
            "3/3 - 0s - loss: 0.0893 - accuracy: 0.9444 - val_loss: 0.4881 - val_accuracy: 0.8667 - 40ms/epoch - 13ms/step\n",
            "Epoch 359/1000\n",
            "3/3 - 0s - loss: 0.0250 - accuracy: 0.9889 - val_loss: 0.5478 - val_accuracy: 0.8667 - 44ms/epoch - 15ms/step\n",
            "Epoch 360/1000\n",
            "3/3 - 0s - loss: 0.0293 - accuracy: 0.9889 - val_loss: 0.5895 - val_accuracy: 0.8667 - 40ms/epoch - 13ms/step\n",
            "Epoch 361/1000\n",
            "3/3 - 0s - loss: 0.0152 - accuracy: 1.0000 - val_loss: 0.5905 - val_accuracy: 0.8667 - 38ms/epoch - 13ms/step\n",
            "Epoch 362/1000\n",
            "3/3 - 0s - loss: 0.0247 - accuracy: 1.0000 - val_loss: 0.5790 - val_accuracy: 0.8667 - 38ms/epoch - 13ms/step\n",
            "Epoch 363/1000\n",
            "3/3 - 0s - loss: 0.0086 - accuracy: 1.0000 - val_loss: 0.5616 - val_accuracy: 0.8667 - 57ms/epoch - 19ms/step\n",
            "Epoch 364/1000\n",
            "3/3 - 0s - loss: 0.0179 - accuracy: 1.0000 - val_loss: 0.5512 - val_accuracy: 0.8667 - 40ms/epoch - 13ms/step\n",
            "Epoch 365/1000\n",
            "3/3 - 0s - loss: 0.0116 - accuracy: 1.0000 - val_loss: 0.5146 - val_accuracy: 0.8667 - 39ms/epoch - 13ms/step\n",
            "Epoch 366/1000\n",
            "3/3 - 0s - loss: 0.0383 - accuracy: 0.9889 - val_loss: 0.4583 - val_accuracy: 0.8667 - 51ms/epoch - 17ms/step\n",
            "Epoch 367/1000\n",
            "3/3 - 0s - loss: 0.0395 - accuracy: 0.9778 - val_loss: 0.3728 - val_accuracy: 0.9000 - 42ms/epoch - 14ms/step\n",
            "Epoch 368/1000\n",
            "3/3 - 0s - loss: 0.0232 - accuracy: 0.9889 - val_loss: 0.3020 - val_accuracy: 0.9000 - 41ms/epoch - 14ms/step\n",
            "Epoch 369/1000\n",
            "3/3 - 0s - loss: 0.0123 - accuracy: 1.0000 - val_loss: 0.2293 - val_accuracy: 0.9333 - 42ms/epoch - 14ms/step\n",
            "Epoch 370/1000\n",
            "3/3 - 0s - loss: 0.0271 - accuracy: 0.9889 - val_loss: 0.2093 - val_accuracy: 0.9333 - 42ms/epoch - 14ms/step\n",
            "Epoch 371/1000\n",
            "3/3 - 0s - loss: 0.0118 - accuracy: 1.0000 - val_loss: 0.2343 - val_accuracy: 0.9333 - 42ms/epoch - 14ms/step\n",
            "Epoch 372/1000\n",
            "3/3 - 0s - loss: 0.0401 - accuracy: 0.9889 - val_loss: 0.2767 - val_accuracy: 0.9000 - 180ms/epoch - 60ms/step\n",
            "Epoch 373/1000\n",
            "3/3 - 0s - loss: 0.0205 - accuracy: 1.0000 - val_loss: 0.3538 - val_accuracy: 0.9000 - 134ms/epoch - 45ms/step\n",
            "Epoch 374/1000\n",
            "3/3 - 0s - loss: 0.0173 - accuracy: 1.0000 - val_loss: 0.4210 - val_accuracy: 0.9000 - 135ms/epoch - 45ms/step\n",
            "Epoch 375/1000\n",
            "3/3 - 0s - loss: 0.0078 - accuracy: 1.0000 - val_loss: 0.4732 - val_accuracy: 0.9000 - 45ms/epoch - 15ms/step\n",
            "Epoch 376/1000\n",
            "3/3 - 0s - loss: 0.0196 - accuracy: 1.0000 - val_loss: 0.4837 - val_accuracy: 0.9000 - 44ms/epoch - 15ms/step\n",
            "Epoch 377/1000\n",
            "3/3 - 0s - loss: 0.0098 - accuracy: 1.0000 - val_loss: 0.4667 - val_accuracy: 0.9000 - 45ms/epoch - 15ms/step\n",
            "Epoch 378/1000\n",
            "3/3 - 0s - loss: 0.0192 - accuracy: 0.9889 - val_loss: 0.4471 - val_accuracy: 0.9000 - 43ms/epoch - 14ms/step\n",
            "Epoch 379/1000\n",
            "3/3 - 0s - loss: 0.0085 - accuracy: 1.0000 - val_loss: 0.4171 - val_accuracy: 0.9000 - 38ms/epoch - 13ms/step\n",
            "Epoch 380/1000\n",
            "3/3 - 0s - loss: 0.0084 - accuracy: 1.0000 - val_loss: 0.3977 - val_accuracy: 0.9333 - 37ms/epoch - 12ms/step\n",
            "Epoch 381/1000\n",
            "3/3 - 0s - loss: 0.0154 - accuracy: 1.0000 - val_loss: 0.3938 - val_accuracy: 0.9333 - 50ms/epoch - 17ms/step\n",
            "Epoch 382/1000\n",
            "3/3 - 0s - loss: 0.0754 - accuracy: 0.9556 - val_loss: 0.3573 - val_accuracy: 0.9333 - 40ms/epoch - 13ms/step\n",
            "Epoch 383/1000\n",
            "3/3 - 0s - loss: 0.0175 - accuracy: 0.9889 - val_loss: 0.2710 - val_accuracy: 0.9333 - 46ms/epoch - 15ms/step\n",
            "Epoch 384/1000\n",
            "3/3 - 0s - loss: 0.0086 - accuracy: 1.0000 - val_loss: 0.1920 - val_accuracy: 0.9333 - 59ms/epoch - 20ms/step\n",
            "Epoch 385/1000\n",
            "3/3 - 0s - loss: 0.0136 - accuracy: 1.0000 - val_loss: 0.1229 - val_accuracy: 0.9333 - 141ms/epoch - 47ms/step\n",
            "Epoch 386/1000\n",
            "3/3 - 0s - loss: 0.0451 - accuracy: 0.9889 - val_loss: 0.0934 - val_accuracy: 0.9667 - 143ms/epoch - 48ms/step\n",
            "Epoch 387/1000\n",
            "3/3 - 0s - loss: 0.0105 - accuracy: 1.0000 - val_loss: 0.0816 - val_accuracy: 0.9667 - 87ms/epoch - 29ms/step\n",
            "Epoch 388/1000\n",
            "3/3 - 0s - loss: 0.0768 - accuracy: 0.9889 - val_loss: 0.0697 - val_accuracy: 0.9667 - 88ms/epoch - 29ms/step\n",
            "Epoch 389/1000\n",
            "3/3 - 0s - loss: 0.0483 - accuracy: 0.9667 - val_loss: 0.0477 - val_accuracy: 1.0000 - 45ms/epoch - 15ms/step\n",
            "Epoch 390/1000\n",
            "3/3 - 0s - loss: 0.0129 - accuracy: 1.0000 - val_loss: 0.0452 - val_accuracy: 0.9667 - 63ms/epoch - 21ms/step\n",
            "Epoch 391/1000\n",
            "3/3 - 0s - loss: 0.0088 - accuracy: 1.0000 - val_loss: 0.0326 - val_accuracy: 1.0000 - 59ms/epoch - 20ms/step\n",
            "Epoch 392/1000\n",
            "3/3 - 0s - loss: 0.0186 - accuracy: 1.0000 - val_loss: 0.0314 - val_accuracy: 1.0000 - 40ms/epoch - 13ms/step\n",
            "Epoch 393/1000\n",
            "3/3 - 0s - loss: 0.0428 - accuracy: 0.9778 - val_loss: 0.0272 - val_accuracy: 1.0000 - 42ms/epoch - 14ms/step\n",
            "Epoch 394/1000\n",
            "3/3 - 0s - loss: 0.0265 - accuracy: 0.9778 - val_loss: 0.0238 - val_accuracy: 1.0000 - 40ms/epoch - 13ms/step\n",
            "Epoch 395/1000\n",
            "3/3 - 0s - loss: 0.0214 - accuracy: 0.9889 - val_loss: 0.0365 - val_accuracy: 1.0000 - 39ms/epoch - 13ms/step\n",
            "Epoch 396/1000\n",
            "3/3 - 0s - loss: 0.0246 - accuracy: 1.0000 - val_loss: 0.0582 - val_accuracy: 1.0000 - 46ms/epoch - 15ms/step\n",
            "Epoch 397/1000\n",
            "3/3 - 0s - loss: 0.0548 - accuracy: 0.9778 - val_loss: 0.0774 - val_accuracy: 0.9667 - 48ms/epoch - 16ms/step\n",
            "Epoch 398/1000\n",
            "3/3 - 0s - loss: 0.0413 - accuracy: 0.9889 - val_loss: 0.1137 - val_accuracy: 0.9333 - 51ms/epoch - 17ms/step\n",
            "Epoch 399/1000\n",
            "3/3 - 0s - loss: 0.0107 - accuracy: 1.0000 - val_loss: 0.1383 - val_accuracy: 0.9000 - 40ms/epoch - 13ms/step\n",
            "Epoch 400/1000\n",
            "3/3 - 0s - loss: 0.0114 - accuracy: 1.0000 - val_loss: 0.1662 - val_accuracy: 0.9000 - 59ms/epoch - 20ms/step\n",
            "Epoch 401/1000\n",
            "3/3 - 0s - loss: 0.0655 - accuracy: 0.9778 - val_loss: 0.1446 - val_accuracy: 0.9333 - 40ms/epoch - 13ms/step\n",
            "Epoch 402/1000\n",
            "3/3 - 0s - loss: 0.0212 - accuracy: 1.0000 - val_loss: 0.1146 - val_accuracy: 0.9667 - 45ms/epoch - 15ms/step\n",
            "Epoch 403/1000\n",
            "3/3 - 0s - loss: 0.0351 - accuracy: 0.9889 - val_loss: 0.1235 - val_accuracy: 0.9667 - 40ms/epoch - 13ms/step\n",
            "Epoch 404/1000\n",
            "3/3 - 0s - loss: 0.0098 - accuracy: 1.0000 - val_loss: 0.1293 - val_accuracy: 0.9667 - 37ms/epoch - 12ms/step\n",
            "Epoch 405/1000\n",
            "3/3 - 0s - loss: 0.0167 - accuracy: 1.0000 - val_loss: 0.1321 - val_accuracy: 0.9667 - 41ms/epoch - 14ms/step\n",
            "Epoch 406/1000\n",
            "3/3 - 0s - loss: 0.0190 - accuracy: 0.9889 - val_loss: 0.1371 - val_accuracy: 0.9667 - 124ms/epoch - 41ms/step\n",
            "Epoch 407/1000\n",
            "3/3 - 0s - loss: 0.0319 - accuracy: 0.9889 - val_loss: 0.1426 - val_accuracy: 0.9667 - 139ms/epoch - 46ms/step\n",
            "Epoch 408/1000\n",
            "3/3 - 0s - loss: 0.0146 - accuracy: 1.0000 - val_loss: 0.1595 - val_accuracy: 0.9333 - 136ms/epoch - 45ms/step\n",
            "Epoch 409/1000\n",
            "3/3 - 0s - loss: 0.0802 - accuracy: 0.9889 - val_loss: 0.1668 - val_accuracy: 0.9333 - 142ms/epoch - 47ms/step\n",
            "Epoch 410/1000\n",
            "3/3 - 0s - loss: 0.0340 - accuracy: 0.9889 - val_loss: 0.1756 - val_accuracy: 0.9333 - 120ms/epoch - 40ms/step\n",
            "Epoch 411/1000\n",
            "3/3 - 0s - loss: 0.0104 - accuracy: 1.0000 - val_loss: 0.1882 - val_accuracy: 0.9333 - 45ms/epoch - 15ms/step\n",
            "Epoch 412/1000\n",
            "3/3 - 0s - loss: 0.0143 - accuracy: 1.0000 - val_loss: 0.1915 - val_accuracy: 0.9333 - 49ms/epoch - 16ms/step\n",
            "Epoch 413/1000\n",
            "3/3 - 0s - loss: 0.0113 - accuracy: 1.0000 - val_loss: 0.1843 - val_accuracy: 0.9333 - 48ms/epoch - 16ms/step\n",
            "Epoch 414/1000\n",
            "3/3 - 0s - loss: 0.0462 - accuracy: 0.9889 - val_loss: 0.1788 - val_accuracy: 0.9333 - 43ms/epoch - 14ms/step\n",
            "Epoch 415/1000\n",
            "3/3 - 0s - loss: 0.0303 - accuracy: 0.9889 - val_loss: 0.1948 - val_accuracy: 0.9333 - 41ms/epoch - 14ms/step\n",
            "Epoch 416/1000\n",
            "3/3 - 0s - loss: 0.0464 - accuracy: 0.9778 - val_loss: 0.2252 - val_accuracy: 0.9333 - 41ms/epoch - 14ms/step\n",
            "Epoch 417/1000\n",
            "3/3 - 0s - loss: 0.0109 - accuracy: 1.0000 - val_loss: 0.2376 - val_accuracy: 0.9000 - 58ms/epoch - 19ms/step\n",
            "Epoch 418/1000\n",
            "3/3 - 0s - loss: 0.0303 - accuracy: 0.9889 - val_loss: 0.2541 - val_accuracy: 0.9000 - 45ms/epoch - 15ms/step\n",
            "Epoch 419/1000\n",
            "3/3 - 0s - loss: 0.0167 - accuracy: 1.0000 - val_loss: 0.2598 - val_accuracy: 0.9000 - 45ms/epoch - 15ms/step\n",
            "Epoch 420/1000\n",
            "3/3 - 0s - loss: 0.0220 - accuracy: 0.9889 - val_loss: 0.2521 - val_accuracy: 0.9000 - 171ms/epoch - 57ms/step\n",
            "Epoch 421/1000\n",
            "3/3 - 0s - loss: 0.0440 - accuracy: 0.9778 - val_loss: 0.2325 - val_accuracy: 0.9000 - 158ms/epoch - 53ms/step\n",
            "Epoch 422/1000\n",
            "3/3 - 0s - loss: 0.0130 - accuracy: 1.0000 - val_loss: 0.2474 - val_accuracy: 0.9333 - 138ms/epoch - 46ms/step\n",
            "Epoch 423/1000\n",
            "3/3 - 0s - loss: 0.0084 - accuracy: 1.0000 - val_loss: 0.2798 - val_accuracy: 0.8667 - 137ms/epoch - 46ms/step\n",
            "Epoch 424/1000\n",
            "3/3 - 0s - loss: 0.0299 - accuracy: 0.9889 - val_loss: 0.2997 - val_accuracy: 0.8333 - 74ms/epoch - 25ms/step\n",
            "Epoch 425/1000\n",
            "3/3 - 0s - loss: 0.0431 - accuracy: 0.9778 - val_loss: 0.2664 - val_accuracy: 0.9000 - 40ms/epoch - 13ms/step\n",
            "Epoch 426/1000\n",
            "3/3 - 0s - loss: 0.0492 - accuracy: 0.9889 - val_loss: 0.2124 - val_accuracy: 0.9667 - 41ms/epoch - 14ms/step\n",
            "Epoch 427/1000\n",
            "3/3 - 0s - loss: 0.0088 - accuracy: 1.0000 - val_loss: 0.1765 - val_accuracy: 0.9667 - 43ms/epoch - 14ms/step\n",
            "Epoch 428/1000\n",
            "3/3 - 0s - loss: 0.0166 - accuracy: 1.0000 - val_loss: 0.1511 - val_accuracy: 0.9667 - 46ms/epoch - 15ms/step\n",
            "Epoch 429/1000\n",
            "3/3 - 0s - loss: 0.0347 - accuracy: 0.9889 - val_loss: 0.1329 - val_accuracy: 0.9667 - 39ms/epoch - 13ms/step\n",
            "Epoch 430/1000\n",
            "3/3 - 0s - loss: 0.0531 - accuracy: 0.9889 - val_loss: 0.2343 - val_accuracy: 0.9000 - 40ms/epoch - 13ms/step\n",
            "Epoch 431/1000\n",
            "3/3 - 0s - loss: 0.0208 - accuracy: 1.0000 - val_loss: 0.3823 - val_accuracy: 0.9000 - 49ms/epoch - 16ms/step\n",
            "Epoch 432/1000\n",
            "3/3 - 0s - loss: 0.0303 - accuracy: 0.9889 - val_loss: 0.4819 - val_accuracy: 0.9000 - 41ms/epoch - 14ms/step\n",
            "Epoch 433/1000\n",
            "3/3 - 0s - loss: 0.0342 - accuracy: 0.9889 - val_loss: 0.4917 - val_accuracy: 0.9000 - 48ms/epoch - 16ms/step\n",
            "Epoch 434/1000\n",
            "3/3 - 0s - loss: 0.0383 - accuracy: 0.9778 - val_loss: 0.4229 - val_accuracy: 0.9000 - 82ms/epoch - 27ms/step\n",
            "Epoch 435/1000\n",
            "3/3 - 0s - loss: 0.0822 - accuracy: 0.9667 - val_loss: 0.2223 - val_accuracy: 0.9333 - 118ms/epoch - 39ms/step\n",
            "Epoch 436/1000\n",
            "3/3 - 0s - loss: 0.0084 - accuracy: 1.0000 - val_loss: 0.1012 - val_accuracy: 0.9667 - 151ms/epoch - 50ms/step\n",
            "Epoch 437/1000\n",
            "3/3 - 0s - loss: 0.0326 - accuracy: 0.9889 - val_loss: 0.0905 - val_accuracy: 0.9667 - 116ms/epoch - 39ms/step\n",
            "Epoch 438/1000\n",
            "3/3 - 0s - loss: 0.0652 - accuracy: 0.9778 - val_loss: 0.0891 - val_accuracy: 0.9333 - 119ms/epoch - 40ms/step\n",
            "Epoch 439/1000\n",
            "3/3 - 0s - loss: 0.0625 - accuracy: 0.9778 - val_loss: 0.0613 - val_accuracy: 0.9667 - 102ms/epoch - 34ms/step\n",
            "Epoch 440/1000\n",
            "3/3 - 0s - loss: 0.0486 - accuracy: 0.9778 - val_loss: 0.0377 - val_accuracy: 1.0000 - 54ms/epoch - 18ms/step\n",
            "Epoch 441/1000\n",
            "3/3 - 0s - loss: 0.1685 - accuracy: 0.9444 - val_loss: 0.0192 - val_accuracy: 1.0000 - 41ms/epoch - 14ms/step\n",
            "Epoch 442/1000\n",
            "3/3 - 0s - loss: 0.0374 - accuracy: 0.9889 - val_loss: 0.0457 - val_accuracy: 1.0000 - 43ms/epoch - 14ms/step\n",
            "Epoch 443/1000\n",
            "3/3 - 0s - loss: 0.0375 - accuracy: 0.9889 - val_loss: 0.1660 - val_accuracy: 0.9333 - 42ms/epoch - 14ms/step\n",
            "Epoch 444/1000\n",
            "3/3 - 0s - loss: 0.1567 - accuracy: 0.9778 - val_loss: 0.3490 - val_accuracy: 0.8667 - 46ms/epoch - 15ms/step\n",
            "Epoch 445/1000\n",
            "3/3 - 0s - loss: 0.0359 - accuracy: 0.9889 - val_loss: 0.5441 - val_accuracy: 0.8333 - 42ms/epoch - 14ms/step\n",
            "Epoch 446/1000\n",
            "3/3 - 0s - loss: 0.0689 - accuracy: 0.9889 - val_loss: 0.5811 - val_accuracy: 0.8333 - 45ms/epoch - 15ms/step\n",
            "Epoch 447/1000\n",
            "3/3 - 0s - loss: 0.0244 - accuracy: 1.0000 - val_loss: 0.4390 - val_accuracy: 0.8333 - 43ms/epoch - 14ms/step\n",
            "Epoch 448/1000\n",
            "3/3 - 0s - loss: 0.0658 - accuracy: 0.9667 - val_loss: 0.3608 - val_accuracy: 0.8333 - 46ms/epoch - 15ms/step\n",
            "Epoch 449/1000\n",
            "3/3 - 0s - loss: 0.0201 - accuracy: 1.0000 - val_loss: 0.3305 - val_accuracy: 0.9000 - 59ms/epoch - 20ms/step\n",
            "Epoch 450/1000\n",
            "3/3 - 0s - loss: 0.0305 - accuracy: 1.0000 - val_loss: 0.2881 - val_accuracy: 0.9000 - 43ms/epoch - 14ms/step\n",
            "Epoch 451/1000\n",
            "3/3 - 0s - loss: 0.0190 - accuracy: 1.0000 - val_loss: 0.2070 - val_accuracy: 0.9000 - 42ms/epoch - 14ms/step\n",
            "Epoch 452/1000\n",
            "3/3 - 0s - loss: 0.0198 - accuracy: 1.0000 - val_loss: 0.1501 - val_accuracy: 0.9000 - 42ms/epoch - 14ms/step\n",
            "Epoch 453/1000\n",
            "3/3 - 0s - loss: 0.0329 - accuracy: 0.9778 - val_loss: 0.1238 - val_accuracy: 0.9667 - 57ms/epoch - 19ms/step\n",
            "Epoch 454/1000\n",
            "3/3 - 0s - loss: 0.0127 - accuracy: 1.0000 - val_loss: 0.1170 - val_accuracy: 0.9667 - 54ms/epoch - 18ms/step\n",
            "Epoch 455/1000\n",
            "3/3 - 0s - loss: 0.0154 - accuracy: 1.0000 - val_loss: 0.1255 - val_accuracy: 0.9667 - 48ms/epoch - 16ms/step\n",
            "Epoch 456/1000\n",
            "3/3 - 0s - loss: 0.0258 - accuracy: 0.9778 - val_loss: 0.1257 - val_accuracy: 0.9667 - 41ms/epoch - 14ms/step\n",
            "Epoch 457/1000\n",
            "3/3 - 0s - loss: 0.0181 - accuracy: 1.0000 - val_loss: 0.1318 - val_accuracy: 0.9333 - 44ms/epoch - 15ms/step\n",
            "Epoch 458/1000\n",
            "3/3 - 0s - loss: 0.0295 - accuracy: 0.9889 - val_loss: 0.1190 - val_accuracy: 0.9333 - 41ms/epoch - 14ms/step\n",
            "Epoch 459/1000\n",
            "3/3 - 0s - loss: 0.0348 - accuracy: 0.9778 - val_loss: 0.1040 - val_accuracy: 0.9667 - 53ms/epoch - 18ms/step\n",
            "Epoch 460/1000\n",
            "3/3 - 0s - loss: 0.0129 - accuracy: 1.0000 - val_loss: 0.0925 - val_accuracy: 0.9667 - 43ms/epoch - 14ms/step\n",
            "Epoch 461/1000\n",
            "3/3 - 0s - loss: 0.0154 - accuracy: 1.0000 - val_loss: 0.0862 - val_accuracy: 0.9667 - 39ms/epoch - 13ms/step\n",
            "Epoch 462/1000\n",
            "3/3 - 0s - loss: 0.0202 - accuracy: 0.9778 - val_loss: 0.0739 - val_accuracy: 0.9667 - 41ms/epoch - 14ms/step\n",
            "Epoch 463/1000\n",
            "3/3 - 0s - loss: 0.0170 - accuracy: 1.0000 - val_loss: 0.0792 - val_accuracy: 0.9667 - 39ms/epoch - 13ms/step\n",
            "Epoch 464/1000\n",
            "3/3 - 0s - loss: 0.0512 - accuracy: 0.9889 - val_loss: 0.0779 - val_accuracy: 0.9667 - 49ms/epoch - 16ms/step\n",
            "Epoch 465/1000\n",
            "3/3 - 0s - loss: 0.0236 - accuracy: 0.9889 - val_loss: 0.0625 - val_accuracy: 0.9667 - 41ms/epoch - 14ms/step\n",
            "Epoch 466/1000\n",
            "3/3 - 0s - loss: 0.0120 - accuracy: 1.0000 - val_loss: 0.0637 - val_accuracy: 0.9667 - 43ms/epoch - 14ms/step\n",
            "Epoch 467/1000\n",
            "3/3 - 0s - loss: 0.0199 - accuracy: 1.0000 - val_loss: 0.0719 - val_accuracy: 0.9333 - 47ms/epoch - 16ms/step\n",
            "Epoch 468/1000\n",
            "3/3 - 0s - loss: 0.0158 - accuracy: 1.0000 - val_loss: 0.0797 - val_accuracy: 0.9333 - 46ms/epoch - 15ms/step\n",
            "Epoch 469/1000\n",
            "3/3 - 0s - loss: 0.0418 - accuracy: 0.9889 - val_loss: 0.0813 - val_accuracy: 0.9667 - 55ms/epoch - 18ms/step\n",
            "Epoch 470/1000\n",
            "3/3 - 0s - loss: 0.0183 - accuracy: 1.0000 - val_loss: 0.0659 - val_accuracy: 0.9667 - 40ms/epoch - 13ms/step\n",
            "Epoch 471/1000\n",
            "3/3 - 0s - loss: 0.0369 - accuracy: 0.9889 - val_loss: 0.0522 - val_accuracy: 0.9667 - 39ms/epoch - 13ms/step\n",
            "Epoch 472/1000\n",
            "3/3 - 0s - loss: 0.0194 - accuracy: 0.9889 - val_loss: 0.0325 - val_accuracy: 1.0000 - 59ms/epoch - 20ms/step\n",
            "Epoch 473/1000\n",
            "3/3 - 0s - loss: 0.0444 - accuracy: 0.9778 - val_loss: 0.0218 - val_accuracy: 1.0000 - 45ms/epoch - 15ms/step\n",
            "Epoch 474/1000\n",
            "3/3 - 0s - loss: 0.0874 - accuracy: 0.9667 - val_loss: 0.0152 - val_accuracy: 1.0000 - 56ms/epoch - 19ms/step\n",
            "Epoch 475/1000\n",
            "3/3 - 0s - loss: 0.0077 - accuracy: 1.0000 - val_loss: 0.0176 - val_accuracy: 1.0000 - 45ms/epoch - 15ms/step\n",
            "Epoch 476/1000\n",
            "3/3 - 0s - loss: 0.0311 - accuracy: 1.0000 - val_loss: 0.0305 - val_accuracy: 1.0000 - 40ms/epoch - 13ms/step\n",
            "Epoch 477/1000\n",
            "3/3 - 0s - loss: 0.0380 - accuracy: 0.9889 - val_loss: 0.0478 - val_accuracy: 1.0000 - 43ms/epoch - 14ms/step\n",
            "Epoch 478/1000\n",
            "3/3 - 0s - loss: 0.0077 - accuracy: 1.0000 - val_loss: 0.0836 - val_accuracy: 0.9333 - 64ms/epoch - 21ms/step\n",
            "Epoch 479/1000\n",
            "3/3 - 0s - loss: 0.0116 - accuracy: 1.0000 - val_loss: 0.1130 - val_accuracy: 0.9333 - 58ms/epoch - 19ms/step\n",
            "Epoch 480/1000\n",
            "3/3 - 0s - loss: 0.0262 - accuracy: 0.9889 - val_loss: 0.1334 - val_accuracy: 0.9333 - 39ms/epoch - 13ms/step\n",
            "Epoch 481/1000\n",
            "3/3 - 0s - loss: 0.0160 - accuracy: 1.0000 - val_loss: 0.1473 - val_accuracy: 0.9333 - 41ms/epoch - 14ms/step\n",
            "Epoch 482/1000\n",
            "3/3 - 0s - loss: 0.0078 - accuracy: 1.0000 - val_loss: 0.1519 - val_accuracy: 0.9333 - 39ms/epoch - 13ms/step\n",
            "Epoch 483/1000\n",
            "3/3 - 0s - loss: 0.0057 - accuracy: 1.0000 - val_loss: 0.1424 - val_accuracy: 0.9333 - 38ms/epoch - 13ms/step\n",
            "Epoch 484/1000\n",
            "3/3 - 0s - loss: 0.0542 - accuracy: 0.9889 - val_loss: 0.1435 - val_accuracy: 0.9333 - 40ms/epoch - 13ms/step\n",
            "Epoch 485/1000\n",
            "3/3 - 0s - loss: 0.0225 - accuracy: 0.9889 - val_loss: 0.1537 - val_accuracy: 0.9333 - 66ms/epoch - 22ms/step\n",
            "Epoch 486/1000\n",
            "3/3 - 0s - loss: 0.0203 - accuracy: 0.9889 - val_loss: 0.1107 - val_accuracy: 0.9333 - 58ms/epoch - 19ms/step\n",
            "Epoch 487/1000\n",
            "3/3 - 0s - loss: 0.0181 - accuracy: 1.0000 - val_loss: 0.0766 - val_accuracy: 0.9667 - 63ms/epoch - 21ms/step\n",
            "Epoch 488/1000\n",
            "3/3 - 0s - loss: 0.0307 - accuracy: 0.9889 - val_loss: 0.0625 - val_accuracy: 0.9667 - 41ms/epoch - 14ms/step\n",
            "Epoch 489/1000\n",
            "3/3 - 0s - loss: 0.0112 - accuracy: 1.0000 - val_loss: 0.0734 - val_accuracy: 0.9667 - 58ms/epoch - 19ms/step\n",
            "Epoch 490/1000\n",
            "3/3 - 0s - loss: 0.0080 - accuracy: 1.0000 - val_loss: 0.0802 - val_accuracy: 0.9667 - 42ms/epoch - 14ms/step\n",
            "Epoch 491/1000\n",
            "3/3 - 0s - loss: 0.0174 - accuracy: 0.9889 - val_loss: 0.0443 - val_accuracy: 0.9667 - 41ms/epoch - 14ms/step\n",
            "Epoch 492/1000\n",
            "3/3 - 0s - loss: 0.0169 - accuracy: 1.0000 - val_loss: 0.0088 - val_accuracy: 1.0000 - 42ms/epoch - 14ms/step\n",
            "Epoch 493/1000\n",
            "3/3 - 0s - loss: 0.0533 - accuracy: 0.9778 - val_loss: 0.0066 - val_accuracy: 1.0000 - 63ms/epoch - 21ms/step\n",
            "Epoch 494/1000\n",
            "3/3 - 0s - loss: 0.0554 - accuracy: 0.9667 - val_loss: 0.0079 - val_accuracy: 1.0000 - 42ms/epoch - 14ms/step\n",
            "Epoch 495/1000\n",
            "3/3 - 0s - loss: 0.0483 - accuracy: 0.9778 - val_loss: 0.0124 - val_accuracy: 1.0000 - 44ms/epoch - 15ms/step\n",
            "Epoch 496/1000\n",
            "3/3 - 0s - loss: 0.0085 - accuracy: 1.0000 - val_loss: 0.1262 - val_accuracy: 0.9000 - 42ms/epoch - 14ms/step\n",
            "Epoch 497/1000\n",
            "3/3 - 0s - loss: 0.0541 - accuracy: 0.9667 - val_loss: 0.4394 - val_accuracy: 0.9000 - 39ms/epoch - 13ms/step\n",
            "Epoch 498/1000\n",
            "3/3 - 0s - loss: 0.0345 - accuracy: 0.9889 - val_loss: 0.8795 - val_accuracy: 0.8667 - 41ms/epoch - 14ms/step\n",
            "Epoch 499/1000\n",
            "3/3 - 0s - loss: 0.0229 - accuracy: 0.9889 - val_loss: 1.2556 - val_accuracy: 0.8000 - 46ms/epoch - 15ms/step\n",
            "Epoch 500/1000\n",
            "3/3 - 0s - loss: 0.0669 - accuracy: 0.9667 - val_loss: 1.3342 - val_accuracy: 0.7333 - 61ms/epoch - 20ms/step\n",
            "Epoch 501/1000\n",
            "3/3 - 0s - loss: 0.0451 - accuracy: 0.9889 - val_loss: 1.0664 - val_accuracy: 0.7333 - 55ms/epoch - 18ms/step\n",
            "Epoch 502/1000\n",
            "3/3 - 0s - loss: 0.0370 - accuracy: 0.9778 - val_loss: 0.6372 - val_accuracy: 0.8333 - 55ms/epoch - 18ms/step\n",
            "Epoch 503/1000\n",
            "3/3 - 0s - loss: 0.0225 - accuracy: 0.9889 - val_loss: 0.4943 - val_accuracy: 0.8667 - 43ms/epoch - 14ms/step\n",
            "Epoch 504/1000\n",
            "3/3 - 0s - loss: 0.0208 - accuracy: 0.9889 - val_loss: 0.4276 - val_accuracy: 0.8667 - 64ms/epoch - 21ms/step\n",
            "Epoch 505/1000\n",
            "3/3 - 0s - loss: 0.0240 - accuracy: 0.9778 - val_loss: 0.3862 - val_accuracy: 0.8667 - 55ms/epoch - 18ms/step\n",
            "Epoch 506/1000\n",
            "3/3 - 0s - loss: 0.0377 - accuracy: 0.9889 - val_loss: 0.3995 - val_accuracy: 0.8667 - 46ms/epoch - 15ms/step\n",
            "Epoch 507/1000\n",
            "3/3 - 0s - loss: 0.0136 - accuracy: 1.0000 - val_loss: 0.4051 - val_accuracy: 0.8667 - 51ms/epoch - 17ms/step\n",
            "Epoch 508/1000\n",
            "3/3 - 0s - loss: 0.0098 - accuracy: 1.0000 - val_loss: 0.4215 - val_accuracy: 0.8667 - 46ms/epoch - 15ms/step\n",
            "Epoch 509/1000\n",
            "3/3 - 0s - loss: 0.0500 - accuracy: 0.9889 - val_loss: 0.5238 - val_accuracy: 0.8333 - 43ms/epoch - 14ms/step\n",
            "Epoch 510/1000\n",
            "3/3 - 0s - loss: 0.0180 - accuracy: 0.9889 - val_loss: 0.8513 - val_accuracy: 0.8333 - 43ms/epoch - 14ms/step\n",
            "Epoch 511/1000\n",
            "3/3 - 0s - loss: 0.0324 - accuracy: 0.9889 - val_loss: 1.0744 - val_accuracy: 0.8000 - 48ms/epoch - 16ms/step\n",
            "Epoch 512/1000\n",
            "3/3 - 0s - loss: 0.0284 - accuracy: 0.9889 - val_loss: 1.2281 - val_accuracy: 0.8000 - 43ms/epoch - 14ms/step\n",
            "Epoch 513/1000\n",
            "3/3 - 0s - loss: 0.0884 - accuracy: 0.9556 - val_loss: 1.0070 - val_accuracy: 0.8000 - 47ms/epoch - 16ms/step\n",
            "Epoch 514/1000\n",
            "3/3 - 0s - loss: 0.0204 - accuracy: 1.0000 - val_loss: 0.9059 - val_accuracy: 0.8000 - 45ms/epoch - 15ms/step\n",
            "Epoch 515/1000\n",
            "3/3 - 0s - loss: 0.0233 - accuracy: 0.9889 - val_loss: 0.7390 - val_accuracy: 0.8333 - 45ms/epoch - 15ms/step\n",
            "Epoch 516/1000\n",
            "3/3 - 0s - loss: 0.0112 - accuracy: 1.0000 - val_loss: 0.5939 - val_accuracy: 0.9000 - 45ms/epoch - 15ms/step\n",
            "Epoch 517/1000\n",
            "3/3 - 0s - loss: 0.0112 - accuracy: 1.0000 - val_loss: 0.4781 - val_accuracy: 0.9000 - 48ms/epoch - 16ms/step\n",
            "Epoch 518/1000\n",
            "3/3 - 0s - loss: 0.0670 - accuracy: 0.9889 - val_loss: 0.3079 - val_accuracy: 0.9000 - 44ms/epoch - 15ms/step\n",
            "Epoch 519/1000\n",
            "3/3 - 0s - loss: 0.0389 - accuracy: 0.9778 - val_loss: 0.0837 - val_accuracy: 0.9333 - 44ms/epoch - 15ms/step\n",
            "Epoch 520/1000\n",
            "3/3 - 0s - loss: 0.0177 - accuracy: 0.9889 - val_loss: 0.0434 - val_accuracy: 1.0000 - 43ms/epoch - 14ms/step\n",
            "Epoch 521/1000\n",
            "3/3 - 0s - loss: 0.0147 - accuracy: 1.0000 - val_loss: 0.1159 - val_accuracy: 0.9667 - 42ms/epoch - 14ms/step\n",
            "Epoch 522/1000\n",
            "3/3 - 0s - loss: 0.0359 - accuracy: 0.9889 - val_loss: 0.2235 - val_accuracy: 0.9000 - 64ms/epoch - 21ms/step\n",
            "Epoch 523/1000\n",
            "3/3 - 0s - loss: 0.0101 - accuracy: 1.0000 - val_loss: 0.3264 - val_accuracy: 0.9000 - 43ms/epoch - 14ms/step\n",
            "Epoch 524/1000\n",
            "3/3 - 0s - loss: 0.0229 - accuracy: 1.0000 - val_loss: 0.4040 - val_accuracy: 0.8667 - 46ms/epoch - 15ms/step\n",
            "Epoch 525/1000\n",
            "3/3 - 0s - loss: 0.0308 - accuracy: 0.9889 - val_loss: 0.4580 - val_accuracy: 0.8667 - 45ms/epoch - 15ms/step\n",
            "Epoch 526/1000\n",
            "3/3 - 0s - loss: 0.0628 - accuracy: 0.9889 - val_loss: 0.5467 - val_accuracy: 0.8667 - 43ms/epoch - 14ms/step\n",
            "Epoch 527/1000\n",
            "3/3 - 0s - loss: 0.0105 - accuracy: 1.0000 - val_loss: 0.6332 - val_accuracy: 0.9000 - 42ms/epoch - 14ms/step\n",
            "Epoch 528/1000\n",
            "3/3 - 0s - loss: 0.0331 - accuracy: 0.9889 - val_loss: 0.6998 - val_accuracy: 0.8333 - 43ms/epoch - 14ms/step\n",
            "Epoch 529/1000\n",
            "3/3 - 0s - loss: 0.0085 - accuracy: 1.0000 - val_loss: 0.7951 - val_accuracy: 0.7667 - 53ms/epoch - 18ms/step\n",
            "Epoch 530/1000\n",
            "3/3 - 0s - loss: 0.0142 - accuracy: 1.0000 - val_loss: 0.7778 - val_accuracy: 0.7667 - 41ms/epoch - 14ms/step\n",
            "Epoch 531/1000\n",
            "3/3 - 0s - loss: 0.0315 - accuracy: 0.9889 - val_loss: 0.6926 - val_accuracy: 0.8000 - 59ms/epoch - 20ms/step\n",
            "Epoch 532/1000\n",
            "3/3 - 0s - loss: 0.0300 - accuracy: 0.9889 - val_loss: 0.5113 - val_accuracy: 0.8000 - 46ms/epoch - 15ms/step\n",
            "Epoch 533/1000\n",
            "3/3 - 0s - loss: 0.0288 - accuracy: 0.9889 - val_loss: 0.3964 - val_accuracy: 0.8333 - 40ms/epoch - 13ms/step\n",
            "Epoch 534/1000\n",
            "3/3 - 0s - loss: 0.0123 - accuracy: 1.0000 - val_loss: 0.3241 - val_accuracy: 0.9000 - 60ms/epoch - 20ms/step\n",
            "Epoch 535/1000\n",
            "3/3 - 0s - loss: 0.0173 - accuracy: 1.0000 - val_loss: 0.2833 - val_accuracy: 0.9000 - 45ms/epoch - 15ms/step\n",
            "Epoch 536/1000\n",
            "3/3 - 0s - loss: 0.0768 - accuracy: 0.9667 - val_loss: 0.2166 - val_accuracy: 0.9000 - 44ms/epoch - 15ms/step\n",
            "Epoch 537/1000\n",
            "3/3 - 0s - loss: 0.0424 - accuracy: 0.9778 - val_loss: 0.1831 - val_accuracy: 0.9000 - 41ms/epoch - 14ms/step\n",
            "Epoch 538/1000\n",
            "3/3 - 0s - loss: 0.0181 - accuracy: 1.0000 - val_loss: 0.2264 - val_accuracy: 0.9000 - 57ms/epoch - 19ms/step\n",
            "Epoch 539/1000\n",
            "3/3 - 0s - loss: 0.0142 - accuracy: 1.0000 - val_loss: 0.2566 - val_accuracy: 0.9000 - 49ms/epoch - 16ms/step\n",
            "Epoch 540/1000\n",
            "3/3 - 0s - loss: 0.0375 - accuracy: 0.9889 - val_loss: 0.2736 - val_accuracy: 0.9000 - 50ms/epoch - 17ms/step\n",
            "Epoch 541/1000\n",
            "3/3 - 0s - loss: 0.0344 - accuracy: 0.9889 - val_loss: 0.2797 - val_accuracy: 0.9000 - 65ms/epoch - 22ms/step\n",
            "Epoch 542/1000\n",
            "3/3 - 0s - loss: 0.1116 - accuracy: 0.9778 - val_loss: 0.2378 - val_accuracy: 0.9000 - 46ms/epoch - 15ms/step\n",
            "Epoch 543/1000\n",
            "3/3 - 0s - loss: 0.0156 - accuracy: 1.0000 - val_loss: 0.1931 - val_accuracy: 0.8667 - 42ms/epoch - 14ms/step\n",
            "Epoch 544/1000\n",
            "3/3 - 0s - loss: 0.0297 - accuracy: 0.9889 - val_loss: 0.2326 - val_accuracy: 0.8667 - 41ms/epoch - 14ms/step\n",
            "Epoch 545/1000\n",
            "3/3 - 0s - loss: 0.0137 - accuracy: 1.0000 - val_loss: 0.2665 - val_accuracy: 0.8667 - 39ms/epoch - 13ms/step\n",
            "Epoch 546/1000\n",
            "3/3 - 0s - loss: 0.0077 - accuracy: 1.0000 - val_loss: 0.2859 - val_accuracy: 0.8667 - 44ms/epoch - 15ms/step\n",
            "Epoch 547/1000\n",
            "3/3 - 0s - loss: 0.0895 - accuracy: 0.9889 - val_loss: 0.2944 - val_accuracy: 0.8000 - 43ms/epoch - 14ms/step\n",
            "Epoch 548/1000\n",
            "3/3 - 0s - loss: 0.0093 - accuracy: 1.0000 - val_loss: 0.3484 - val_accuracy: 0.8000 - 39ms/epoch - 13ms/step\n",
            "Epoch 549/1000\n",
            "3/3 - 0s - loss: 0.0166 - accuracy: 0.9889 - val_loss: 0.3861 - val_accuracy: 0.8000 - 43ms/epoch - 14ms/step\n",
            "Epoch 550/1000\n",
            "3/3 - 0s - loss: 0.0610 - accuracy: 0.9889 - val_loss: 0.3828 - val_accuracy: 0.8000 - 50ms/epoch - 17ms/step\n",
            "Epoch 551/1000\n",
            "3/3 - 0s - loss: 0.0107 - accuracy: 1.0000 - val_loss: 0.3655 - val_accuracy: 0.7667 - 42ms/epoch - 14ms/step\n",
            "Epoch 552/1000\n",
            "3/3 - 0s - loss: 0.0089 - accuracy: 1.0000 - val_loss: 0.3573 - val_accuracy: 0.8000 - 39ms/epoch - 13ms/step\n",
            "Epoch 553/1000\n",
            "3/3 - 0s - loss: 0.0878 - accuracy: 0.9778 - val_loss: 0.3625 - val_accuracy: 0.8333 - 46ms/epoch - 15ms/step\n",
            "Epoch 554/1000\n",
            "3/3 - 0s - loss: 0.0323 - accuracy: 0.9778 - val_loss: 0.4218 - val_accuracy: 0.8000 - 48ms/epoch - 16ms/step\n",
            "Epoch 555/1000\n",
            "3/3 - 0s - loss: 0.0263 - accuracy: 1.0000 - val_loss: 0.4532 - val_accuracy: 0.8000 - 43ms/epoch - 14ms/step\n",
            "Epoch 556/1000\n",
            "3/3 - 0s - loss: 0.0323 - accuracy: 0.9889 - val_loss: 0.4885 - val_accuracy: 0.7667 - 54ms/epoch - 18ms/step\n",
            "Epoch 557/1000\n",
            "3/3 - 0s - loss: 0.0620 - accuracy: 0.9556 - val_loss: 0.4827 - val_accuracy: 0.8000 - 43ms/epoch - 14ms/step\n",
            "Epoch 558/1000\n",
            "3/3 - 0s - loss: 0.1054 - accuracy: 0.9333 - val_loss: 0.3768 - val_accuracy: 0.8333 - 61ms/epoch - 20ms/step\n",
            "Epoch 559/1000\n",
            "3/3 - 0s - loss: 0.0274 - accuracy: 0.9889 - val_loss: 0.3090 - val_accuracy: 0.8667 - 51ms/epoch - 17ms/step\n",
            "Epoch 560/1000\n",
            "3/3 - 0s - loss: 0.0376 - accuracy: 0.9889 - val_loss: 0.2823 - val_accuracy: 0.8333 - 45ms/epoch - 15ms/step\n",
            "Epoch 561/1000\n",
            "3/3 - 0s - loss: 0.0143 - accuracy: 1.0000 - val_loss: 0.2569 - val_accuracy: 0.8667 - 46ms/epoch - 15ms/step\n",
            "Epoch 562/1000\n",
            "3/3 - 0s - loss: 0.0185 - accuracy: 1.0000 - val_loss: 0.2436 - val_accuracy: 0.8667 - 45ms/epoch - 15ms/step\n",
            "Epoch 563/1000\n",
            "3/3 - 0s - loss: 0.0704 - accuracy: 0.9778 - val_loss: 0.2546 - val_accuracy: 0.8333 - 47ms/epoch - 16ms/step\n",
            "Epoch 564/1000\n",
            "3/3 - 0s - loss: 0.0731 - accuracy: 0.9889 - val_loss: 0.3129 - val_accuracy: 0.8333 - 44ms/epoch - 15ms/step\n",
            "Epoch 565/1000\n",
            "3/3 - 0s - loss: 0.0358 - accuracy: 0.9889 - val_loss: 0.3727 - val_accuracy: 0.8333 - 45ms/epoch - 15ms/step\n",
            "Epoch 566/1000\n",
            "3/3 - 0s - loss: 0.0228 - accuracy: 0.9889 - val_loss: 0.4150 - val_accuracy: 0.8667 - 44ms/epoch - 15ms/step\n",
            "Epoch 567/1000\n",
            "3/3 - 0s - loss: 0.0166 - accuracy: 1.0000 - val_loss: 0.3812 - val_accuracy: 0.8333 - 40ms/epoch - 13ms/step\n",
            "Epoch 568/1000\n",
            "3/3 - 0s - loss: 0.0342 - accuracy: 0.9889 - val_loss: 0.3605 - val_accuracy: 0.8333 - 64ms/epoch - 21ms/step\n",
            "Epoch 569/1000\n",
            "3/3 - 0s - loss: 0.0541 - accuracy: 0.9889 - val_loss: 0.3116 - val_accuracy: 0.8333 - 47ms/epoch - 16ms/step\n",
            "Epoch 570/1000\n",
            "3/3 - 0s - loss: 0.0211 - accuracy: 1.0000 - val_loss: 0.2460 - val_accuracy: 0.8667 - 41ms/epoch - 14ms/step\n",
            "Epoch 571/1000\n",
            "3/3 - 0s - loss: 0.0219 - accuracy: 1.0000 - val_loss: 0.2174 - val_accuracy: 0.9000 - 46ms/epoch - 15ms/step\n",
            "Epoch 572/1000\n",
            "3/3 - 0s - loss: 0.0180 - accuracy: 1.0000 - val_loss: 0.2236 - val_accuracy: 0.9333 - 40ms/epoch - 13ms/step\n",
            "Epoch 573/1000\n",
            "3/3 - 0s - loss: 0.0115 - accuracy: 1.0000 - val_loss: 0.2252 - val_accuracy: 0.9333 - 46ms/epoch - 15ms/step\n",
            "Epoch 574/1000\n",
            "3/3 - 0s - loss: 0.0330 - accuracy: 0.9889 - val_loss: 0.2165 - val_accuracy: 0.9333 - 61ms/epoch - 20ms/step\n",
            "Epoch 575/1000\n",
            "3/3 - 0s - loss: 0.0256 - accuracy: 0.9889 - val_loss: 0.1855 - val_accuracy: 0.9333 - 51ms/epoch - 17ms/step\n",
            "Epoch 576/1000\n",
            "3/3 - 0s - loss: 0.0135 - accuracy: 1.0000 - val_loss: 0.1574 - val_accuracy: 0.9333 - 49ms/epoch - 16ms/step\n",
            "Epoch 577/1000\n",
            "3/3 - 0s - loss: 0.0122 - accuracy: 1.0000 - val_loss: 0.1336 - val_accuracy: 0.9333 - 41ms/epoch - 14ms/step\n",
            "Epoch 578/1000\n",
            "3/3 - 0s - loss: 0.0245 - accuracy: 0.9889 - val_loss: 0.1234 - val_accuracy: 0.9333 - 50ms/epoch - 17ms/step\n",
            "Epoch 579/1000\n",
            "3/3 - 0s - loss: 0.0144 - accuracy: 1.0000 - val_loss: 0.1413 - val_accuracy: 0.9000 - 54ms/epoch - 18ms/step\n",
            "Epoch 580/1000\n",
            "3/3 - 0s - loss: 0.1318 - accuracy: 0.9778 - val_loss: 0.1890 - val_accuracy: 0.9000 - 43ms/epoch - 14ms/step\n",
            "Epoch 581/1000\n",
            "3/3 - 0s - loss: 0.0286 - accuracy: 0.9778 - val_loss: 0.3239 - val_accuracy: 0.9000 - 41ms/epoch - 14ms/step\n",
            "Epoch 582/1000\n",
            "3/3 - 0s - loss: 0.1002 - accuracy: 0.9333 - val_loss: 0.3989 - val_accuracy: 0.9000 - 47ms/epoch - 16ms/step\n",
            "Epoch 583/1000\n",
            "3/3 - 0s - loss: 0.0251 - accuracy: 0.9889 - val_loss: 0.4827 - val_accuracy: 0.8667 - 40ms/epoch - 13ms/step\n",
            "Epoch 584/1000\n",
            "3/3 - 0s - loss: 0.0338 - accuracy: 1.0000 - val_loss: 0.4750 - val_accuracy: 0.8667 - 38ms/epoch - 13ms/step\n",
            "Epoch 585/1000\n",
            "3/3 - 0s - loss: 0.0217 - accuracy: 1.0000 - val_loss: 0.4325 - val_accuracy: 0.8667 - 44ms/epoch - 15ms/step\n",
            "Epoch 586/1000\n",
            "3/3 - 0s - loss: 0.0191 - accuracy: 0.9889 - val_loss: 0.3864 - val_accuracy: 0.8667 - 41ms/epoch - 14ms/step\n",
            "Epoch 587/1000\n",
            "3/3 - 0s - loss: 0.0128 - accuracy: 1.0000 - val_loss: 0.3381 - val_accuracy: 0.9333 - 40ms/epoch - 13ms/step\n",
            "Epoch 588/1000\n",
            "3/3 - 0s - loss: 0.0228 - accuracy: 0.9889 - val_loss: 0.2751 - val_accuracy: 0.9333 - 47ms/epoch - 16ms/step\n",
            "Epoch 589/1000\n",
            "3/3 - 0s - loss: 0.0069 - accuracy: 1.0000 - val_loss: 0.2070 - val_accuracy: 0.9667 - 42ms/epoch - 14ms/step\n",
            "Epoch 590/1000\n",
            "3/3 - 0s - loss: 0.0206 - accuracy: 0.9889 - val_loss: 0.1781 - val_accuracy: 0.9667 - 43ms/epoch - 14ms/step\n",
            "Epoch 591/1000\n",
            "3/3 - 0s - loss: 0.0141 - accuracy: 1.0000 - val_loss: 0.1805 - val_accuracy: 0.9333 - 40ms/epoch - 13ms/step\n",
            "Epoch 592/1000\n",
            "3/3 - 0s - loss: 0.0214 - accuracy: 0.9889 - val_loss: 0.2073 - val_accuracy: 0.9333 - 44ms/epoch - 15ms/step\n",
            "Epoch 593/1000\n",
            "3/3 - 0s - loss: 0.0113 - accuracy: 1.0000 - val_loss: 0.2679 - val_accuracy: 0.9000 - 40ms/epoch - 13ms/step\n",
            "Epoch 594/1000\n",
            "3/3 - 0s - loss: 0.0312 - accuracy: 0.9778 - val_loss: 0.2912 - val_accuracy: 0.9000 - 44ms/epoch - 15ms/step\n",
            "Epoch 595/1000\n",
            "3/3 - 0s - loss: 0.0142 - accuracy: 1.0000 - val_loss: 0.2857 - val_accuracy: 0.9000 - 57ms/epoch - 19ms/step\n",
            "Epoch 596/1000\n",
            "3/3 - 0s - loss: 0.0269 - accuracy: 0.9889 - val_loss: 0.2090 - val_accuracy: 0.9333 - 43ms/epoch - 14ms/step\n",
            "Epoch 597/1000\n",
            "3/3 - 0s - loss: 0.0185 - accuracy: 0.9889 - val_loss: 0.1227 - val_accuracy: 0.9667 - 40ms/epoch - 13ms/step\n",
            "Epoch 598/1000\n",
            "3/3 - 0s - loss: 0.0830 - accuracy: 0.9778 - val_loss: 0.1422 - val_accuracy: 0.9667 - 44ms/epoch - 15ms/step\n",
            "Epoch 599/1000\n",
            "3/3 - 0s - loss: 0.0136 - accuracy: 0.9889 - val_loss: 0.1993 - val_accuracy: 0.9333 - 41ms/epoch - 14ms/step\n",
            "Epoch 600/1000\n",
            "3/3 - 0s - loss: 0.0239 - accuracy: 0.9889 - val_loss: 0.2188 - val_accuracy: 0.9333 - 47ms/epoch - 16ms/step\n",
            "Epoch 601/1000\n",
            "3/3 - 0s - loss: 0.0204 - accuracy: 0.9889 - val_loss: 0.2163 - val_accuracy: 0.9333 - 46ms/epoch - 15ms/step\n",
            "Epoch 602/1000\n",
            "3/3 - 0s - loss: 0.0144 - accuracy: 1.0000 - val_loss: 0.1891 - val_accuracy: 0.9000 - 49ms/epoch - 16ms/step\n",
            "Epoch 603/1000\n",
            "3/3 - 0s - loss: 0.0289 - accuracy: 0.9889 - val_loss: 0.1510 - val_accuracy: 0.9333 - 39ms/epoch - 13ms/step\n",
            "Epoch 604/1000\n",
            "3/3 - 0s - loss: 0.0473 - accuracy: 0.9778 - val_loss: 0.1077 - val_accuracy: 0.9333 - 41ms/epoch - 14ms/step\n",
            "Epoch 605/1000\n",
            "3/3 - 0s - loss: 0.0351 - accuracy: 0.9889 - val_loss: 0.0825 - val_accuracy: 0.9667 - 45ms/epoch - 15ms/step\n",
            "Epoch 606/1000\n",
            "3/3 - 0s - loss: 0.0168 - accuracy: 1.0000 - val_loss: 0.0633 - val_accuracy: 0.9667 - 46ms/epoch - 15ms/step\n",
            "Epoch 607/1000\n",
            "3/3 - 0s - loss: 0.0421 - accuracy: 0.9778 - val_loss: 0.0417 - val_accuracy: 1.0000 - 45ms/epoch - 15ms/step\n",
            "Epoch 608/1000\n",
            "3/3 - 0s - loss: 0.1091 - accuracy: 0.9667 - val_loss: 0.0284 - val_accuracy: 1.0000 - 45ms/epoch - 15ms/step\n",
            "Epoch 609/1000\n",
            "3/3 - 0s - loss: 0.0106 - accuracy: 1.0000 - val_loss: 0.0240 - val_accuracy: 1.0000 - 41ms/epoch - 14ms/step\n",
            "Epoch 610/1000\n",
            "3/3 - 0s - loss: 0.0415 - accuracy: 0.9889 - val_loss: 0.0287 - val_accuracy: 1.0000 - 48ms/epoch - 16ms/step\n",
            "Epoch 611/1000\n",
            "3/3 - 0s - loss: 0.0438 - accuracy: 0.9889 - val_loss: 0.0429 - val_accuracy: 1.0000 - 53ms/epoch - 18ms/step\n",
            "Epoch 612/1000\n",
            "3/3 - 0s - loss: 0.0150 - accuracy: 1.0000 - val_loss: 0.0499 - val_accuracy: 0.9667 - 43ms/epoch - 14ms/step\n",
            "Epoch 613/1000\n",
            "3/3 - 0s - loss: 0.0725 - accuracy: 0.9778 - val_loss: 0.0670 - val_accuracy: 0.9667 - 45ms/epoch - 15ms/step\n",
            "Epoch 614/1000\n",
            "3/3 - 0s - loss: 0.0143 - accuracy: 1.0000 - val_loss: 0.1377 - val_accuracy: 0.9333 - 47ms/epoch - 16ms/step\n",
            "Epoch 615/1000\n",
            "3/3 - 0s - loss: 0.0298 - accuracy: 1.0000 - val_loss: 0.1765 - val_accuracy: 0.9000 - 46ms/epoch - 15ms/step\n",
            "Epoch 616/1000\n",
            "3/3 - 0s - loss: 0.0258 - accuracy: 0.9889 - val_loss: 0.2155 - val_accuracy: 0.8667 - 41ms/epoch - 14ms/step\n",
            "Epoch 617/1000\n",
            "3/3 - 0s - loss: 0.0233 - accuracy: 0.9889 - val_loss: 0.2195 - val_accuracy: 0.8667 - 40ms/epoch - 13ms/step\n",
            "Epoch 618/1000\n",
            "3/3 - 0s - loss: 0.0196 - accuracy: 1.0000 - val_loss: 0.1899 - val_accuracy: 0.8667 - 42ms/epoch - 14ms/step\n",
            "Epoch 619/1000\n",
            "3/3 - 0s - loss: 0.0136 - accuracy: 1.0000 - val_loss: 0.1601 - val_accuracy: 0.8667 - 56ms/epoch - 19ms/step\n",
            "Epoch 620/1000\n",
            "3/3 - 0s - loss: 0.0218 - accuracy: 1.0000 - val_loss: 0.1261 - val_accuracy: 0.9000 - 41ms/epoch - 14ms/step\n",
            "Epoch 621/1000\n",
            "3/3 - 0s - loss: 0.0297 - accuracy: 0.9889 - val_loss: 0.1075 - val_accuracy: 0.9333 - 45ms/epoch - 15ms/step\n",
            "Epoch 622/1000\n",
            "3/3 - 0s - loss: 0.0114 - accuracy: 1.0000 - val_loss: 0.1038 - val_accuracy: 0.9333 - 42ms/epoch - 14ms/step\n",
            "Epoch 623/1000\n",
            "3/3 - 0s - loss: 0.0839 - accuracy: 0.9667 - val_loss: 0.0998 - val_accuracy: 0.9333 - 45ms/epoch - 15ms/step\n",
            "Epoch 624/1000\n",
            "3/3 - 0s - loss: 0.0278 - accuracy: 0.9778 - val_loss: 0.1057 - val_accuracy: 0.9333 - 46ms/epoch - 15ms/step\n",
            "Epoch 625/1000\n",
            "3/3 - 0s - loss: 0.0268 - accuracy: 0.9889 - val_loss: 0.1193 - val_accuracy: 0.9333 - 46ms/epoch - 15ms/step\n",
            "Epoch 626/1000\n",
            "3/3 - 0s - loss: 0.0161 - accuracy: 1.0000 - val_loss: 0.1485 - val_accuracy: 0.9333 - 42ms/epoch - 14ms/step\n",
            "Epoch 627/1000\n",
            "3/3 - 0s - loss: 0.0174 - accuracy: 1.0000 - val_loss: 0.1776 - val_accuracy: 0.9000 - 46ms/epoch - 15ms/step\n",
            "Epoch 628/1000\n",
            "3/3 - 0s - loss: 0.0305 - accuracy: 0.9889 - val_loss: 0.1914 - val_accuracy: 0.9000 - 41ms/epoch - 14ms/step\n",
            "Epoch 629/1000\n",
            "3/3 - 0s - loss: 0.0160 - accuracy: 1.0000 - val_loss: 0.2176 - val_accuracy: 0.9000 - 43ms/epoch - 14ms/step\n",
            "Epoch 630/1000\n",
            "3/3 - 0s - loss: 0.0121 - accuracy: 1.0000 - val_loss: 0.2417 - val_accuracy: 0.9333 - 38ms/epoch - 13ms/step\n",
            "Epoch 631/1000\n",
            "3/3 - 0s - loss: 0.0372 - accuracy: 0.9778 - val_loss: 0.2548 - val_accuracy: 0.9333 - 38ms/epoch - 13ms/step\n",
            "Epoch 632/1000\n",
            "3/3 - 0s - loss: 0.0240 - accuracy: 0.9889 - val_loss: 0.2124 - val_accuracy: 0.9333 - 42ms/epoch - 14ms/step\n",
            "Epoch 633/1000\n",
            "3/3 - 0s - loss: 0.0095 - accuracy: 1.0000 - val_loss: 0.1501 - val_accuracy: 0.9333 - 39ms/epoch - 13ms/step\n",
            "Epoch 634/1000\n",
            "3/3 - 0s - loss: 0.0152 - accuracy: 1.0000 - val_loss: 0.1501 - val_accuracy: 0.9333 - 36ms/epoch - 12ms/step\n",
            "Epoch 635/1000\n",
            "3/3 - 0s - loss: 0.0965 - accuracy: 0.9444 - val_loss: 0.1488 - val_accuracy: 0.9333 - 37ms/epoch - 12ms/step\n",
            "Epoch 636/1000\n",
            "3/3 - 0s - loss: 0.0119 - accuracy: 1.0000 - val_loss: 0.1418 - val_accuracy: 0.9333 - 48ms/epoch - 16ms/step\n",
            "Epoch 637/1000\n",
            "3/3 - 0s - loss: 0.0099 - accuracy: 1.0000 - val_loss: 0.1472 - val_accuracy: 0.9333 - 45ms/epoch - 15ms/step\n",
            "Epoch 638/1000\n",
            "3/3 - 0s - loss: 0.0110 - accuracy: 1.0000 - val_loss: 0.1567 - val_accuracy: 0.9000 - 59ms/epoch - 20ms/step\n",
            "Epoch 639/1000\n",
            "3/3 - 0s - loss: 0.0071 - accuracy: 1.0000 - val_loss: 0.1670 - val_accuracy: 0.9000 - 42ms/epoch - 14ms/step\n",
            "Epoch 640/1000\n",
            "3/3 - 0s - loss: 0.0130 - accuracy: 1.0000 - val_loss: 0.1776 - val_accuracy: 0.9000 - 49ms/epoch - 16ms/step\n",
            "Epoch 641/1000\n",
            "3/3 - 0s - loss: 0.0042 - accuracy: 1.0000 - val_loss: 0.1837 - val_accuracy: 0.9000 - 50ms/epoch - 17ms/step\n",
            "Epoch 642/1000\n",
            "3/3 - 0s - loss: 0.0094 - accuracy: 1.0000 - val_loss: 0.1854 - val_accuracy: 0.9000 - 69ms/epoch - 23ms/step\n",
            "Epoch 643/1000\n",
            "3/3 - 0s - loss: 0.0538 - accuracy: 0.9889 - val_loss: 0.1881 - val_accuracy: 0.9333 - 59ms/epoch - 20ms/step\n",
            "Epoch 644/1000\n",
            "3/3 - 0s - loss: 0.0234 - accuracy: 0.9889 - val_loss: 0.2415 - val_accuracy: 0.9333 - 41ms/epoch - 14ms/step\n",
            "Epoch 645/1000\n",
            "3/3 - 0s - loss: 0.0109 - accuracy: 1.0000 - val_loss: 0.3871 - val_accuracy: 0.9000 - 53ms/epoch - 18ms/step\n",
            "Epoch 646/1000\n",
            "3/3 - 0s - loss: 0.0456 - accuracy: 0.9889 - val_loss: 0.4176 - val_accuracy: 0.9000 - 47ms/epoch - 16ms/step\n",
            "Epoch 647/1000\n",
            "3/3 - 0s - loss: 0.1283 - accuracy: 0.9556 - val_loss: 0.2478 - val_accuracy: 0.9000 - 50ms/epoch - 17ms/step\n",
            "Epoch 648/1000\n",
            "3/3 - 0s - loss: 0.0271 - accuracy: 0.9889 - val_loss: 0.3318 - val_accuracy: 0.9000 - 66ms/epoch - 22ms/step\n",
            "Epoch 649/1000\n",
            "3/3 - 0s - loss: 0.0241 - accuracy: 1.0000 - val_loss: 0.4369 - val_accuracy: 0.9333 - 43ms/epoch - 14ms/step\n",
            "Epoch 650/1000\n",
            "3/3 - 0s - loss: 0.1353 - accuracy: 0.9556 - val_loss: 0.4725 - val_accuracy: 0.9000 - 38ms/epoch - 13ms/step\n",
            "Epoch 651/1000\n",
            "3/3 - 0s - loss: 0.0105 - accuracy: 1.0000 - val_loss: 0.4639 - val_accuracy: 0.8667 - 53ms/epoch - 18ms/step\n",
            "Epoch 652/1000\n",
            "3/3 - 0s - loss: 0.0159 - accuracy: 0.9889 - val_loss: 0.4822 - val_accuracy: 0.8667 - 57ms/epoch - 19ms/step\n",
            "Epoch 653/1000\n",
            "3/3 - 0s - loss: 0.0424 - accuracy: 0.9778 - val_loss: 0.5126 - val_accuracy: 0.8667 - 43ms/epoch - 14ms/step\n",
            "Epoch 654/1000\n",
            "3/3 - 0s - loss: 0.0277 - accuracy: 0.9889 - val_loss: 0.5227 - val_accuracy: 0.8667 - 66ms/epoch - 22ms/step\n",
            "Epoch 655/1000\n",
            "3/3 - 0s - loss: 0.0135 - accuracy: 1.0000 - val_loss: 0.5073 - val_accuracy: 0.8667 - 45ms/epoch - 15ms/step\n",
            "Epoch 656/1000\n",
            "3/3 - 0s - loss: 0.0258 - accuracy: 1.0000 - val_loss: 0.5146 - val_accuracy: 0.8667 - 42ms/epoch - 14ms/step\n",
            "Epoch 657/1000\n",
            "3/3 - 0s - loss: 0.1119 - accuracy: 0.9667 - val_loss: 0.4846 - val_accuracy: 0.8333 - 62ms/epoch - 21ms/step\n",
            "Epoch 658/1000\n",
            "3/3 - 0s - loss: 0.0218 - accuracy: 1.0000 - val_loss: 0.4042 - val_accuracy: 0.8333 - 45ms/epoch - 15ms/step\n",
            "Epoch 659/1000\n",
            "3/3 - 0s - loss: 0.0376 - accuracy: 0.9889 - val_loss: 0.3796 - val_accuracy: 0.8333 - 56ms/epoch - 19ms/step\n",
            "Epoch 660/1000\n",
            "3/3 - 0s - loss: 0.0279 - accuracy: 1.0000 - val_loss: 0.4216 - val_accuracy: 0.8333 - 53ms/epoch - 18ms/step\n",
            "Epoch 661/1000\n",
            "3/3 - 0s - loss: 0.0311 - accuracy: 0.9889 - val_loss: 0.4356 - val_accuracy: 0.8333 - 57ms/epoch - 19ms/step\n",
            "Epoch 662/1000\n",
            "3/3 - 0s - loss: 0.0200 - accuracy: 1.0000 - val_loss: 0.4271 - val_accuracy: 0.8667 - 57ms/epoch - 19ms/step\n",
            "Epoch 663/1000\n",
            "3/3 - 0s - loss: 0.0151 - accuracy: 1.0000 - val_loss: 0.3858 - val_accuracy: 0.8667 - 52ms/epoch - 17ms/step\n",
            "Epoch 664/1000\n",
            "3/3 - 0s - loss: 0.0445 - accuracy: 0.9889 - val_loss: 0.3998 - val_accuracy: 0.8667 - 50ms/epoch - 17ms/step\n",
            "Epoch 665/1000\n",
            "3/3 - 0s - loss: 0.0180 - accuracy: 1.0000 - val_loss: 0.4942 - val_accuracy: 0.8667 - 50ms/epoch - 17ms/step\n",
            "Epoch 666/1000\n",
            "3/3 - 0s - loss: 0.0536 - accuracy: 0.9667 - val_loss: 0.5157 - val_accuracy: 0.8333 - 53ms/epoch - 18ms/step\n",
            "Epoch 667/1000\n",
            "3/3 - 0s - loss: 0.0320 - accuracy: 0.9778 - val_loss: 0.4472 - val_accuracy: 0.8667 - 47ms/epoch - 16ms/step\n",
            "Epoch 668/1000\n",
            "3/3 - 0s - loss: 0.0260 - accuracy: 1.0000 - val_loss: 0.3116 - val_accuracy: 0.9000 - 47ms/epoch - 16ms/step\n",
            "Epoch 669/1000\n",
            "3/3 - 0s - loss: 0.0118 - accuracy: 1.0000 - val_loss: 0.2256 - val_accuracy: 0.8667 - 40ms/epoch - 13ms/step\n",
            "Epoch 670/1000\n",
            "3/3 - 0s - loss: 0.0151 - accuracy: 1.0000 - val_loss: 0.1773 - val_accuracy: 0.8667 - 50ms/epoch - 17ms/step\n",
            "Epoch 671/1000\n",
            "3/3 - 0s - loss: 0.0152 - accuracy: 0.9889 - val_loss: 0.1552 - val_accuracy: 0.9333 - 40ms/epoch - 13ms/step\n",
            "Epoch 672/1000\n",
            "3/3 - 0s - loss: 0.0154 - accuracy: 1.0000 - val_loss: 0.1384 - val_accuracy: 0.9333 - 40ms/epoch - 13ms/step\n",
            "Epoch 673/1000\n",
            "3/3 - 0s - loss: 0.0468 - accuracy: 0.9889 - val_loss: 0.1340 - val_accuracy: 0.9333 - 67ms/epoch - 22ms/step\n",
            "Epoch 674/1000\n",
            "3/3 - 0s - loss: 0.0384 - accuracy: 0.9889 - val_loss: 0.1196 - val_accuracy: 0.9333 - 42ms/epoch - 14ms/step\n",
            "Epoch 675/1000\n",
            "3/3 - 0s - loss: 0.0148 - accuracy: 1.0000 - val_loss: 0.1347 - val_accuracy: 0.9333 - 38ms/epoch - 13ms/step\n",
            "Epoch 676/1000\n",
            "3/3 - 0s - loss: 0.0289 - accuracy: 0.9889 - val_loss: 0.2683 - val_accuracy: 0.9000 - 42ms/epoch - 14ms/step\n",
            "Epoch 677/1000\n",
            "3/3 - 0s - loss: 0.0336 - accuracy: 0.9889 - val_loss: 0.4173 - val_accuracy: 0.9000 - 40ms/epoch - 13ms/step\n",
            "Epoch 678/1000\n",
            "3/3 - 0s - loss: 0.0316 - accuracy: 0.9889 - val_loss: 0.5083 - val_accuracy: 0.8667 - 46ms/epoch - 15ms/step\n",
            "Epoch 679/1000\n",
            "3/3 - 0s - loss: 0.0095 - accuracy: 1.0000 - val_loss: 0.4279 - val_accuracy: 0.9000 - 43ms/epoch - 14ms/step\n",
            "Epoch 680/1000\n",
            "3/3 - 0s - loss: 0.0093 - accuracy: 1.0000 - val_loss: 0.3469 - val_accuracy: 0.9000 - 45ms/epoch - 15ms/step\n",
            "Epoch 681/1000\n",
            "3/3 - 0s - loss: 0.0104 - accuracy: 1.0000 - val_loss: 0.2879 - val_accuracy: 0.9000 - 62ms/epoch - 21ms/step\n",
            "Epoch 682/1000\n",
            "3/3 - 0s - loss: 0.0135 - accuracy: 1.0000 - val_loss: 0.2327 - val_accuracy: 0.9000 - 43ms/epoch - 14ms/step\n",
            "Epoch 683/1000\n",
            "3/3 - 0s - loss: 0.0125 - accuracy: 1.0000 - val_loss: 0.2118 - val_accuracy: 0.9000 - 41ms/epoch - 14ms/step\n",
            "Epoch 684/1000\n",
            "3/3 - 0s - loss: 0.0074 - accuracy: 1.0000 - val_loss: 0.1931 - val_accuracy: 0.9333 - 50ms/epoch - 17ms/step\n",
            "Epoch 685/1000\n",
            "3/3 - 0s - loss: 0.0069 - accuracy: 1.0000 - val_loss: 0.1868 - val_accuracy: 0.9333 - 38ms/epoch - 13ms/step\n",
            "Epoch 686/1000\n",
            "3/3 - 0s - loss: 0.0150 - accuracy: 1.0000 - val_loss: 0.1898 - val_accuracy: 0.9000 - 41ms/epoch - 14ms/step\n",
            "Epoch 687/1000\n",
            "3/3 - 0s - loss: 0.0653 - accuracy: 0.9667 - val_loss: 0.1761 - val_accuracy: 0.9333 - 38ms/epoch - 13ms/step\n",
            "Epoch 688/1000\n",
            "3/3 - 0s - loss: 0.0247 - accuracy: 0.9889 - val_loss: 0.1684 - val_accuracy: 0.9333 - 49ms/epoch - 16ms/step\n",
            "Epoch 689/1000\n",
            "3/3 - 0s - loss: 0.0152 - accuracy: 1.0000 - val_loss: 0.1604 - val_accuracy: 0.9333 - 49ms/epoch - 16ms/step\n",
            "Epoch 690/1000\n",
            "3/3 - 0s - loss: 0.0630 - accuracy: 0.9778 - val_loss: 0.2238 - val_accuracy: 0.9000 - 41ms/epoch - 14ms/step\n",
            "Epoch 691/1000\n",
            "3/3 - 0s - loss: 0.0124 - accuracy: 1.0000 - val_loss: 0.4300 - val_accuracy: 0.8667 - 50ms/epoch - 17ms/step\n",
            "Epoch 692/1000\n",
            "3/3 - 0s - loss: 0.0056 - accuracy: 1.0000 - val_loss: 0.6439 - val_accuracy: 0.8667 - 41ms/epoch - 14ms/step\n",
            "Epoch 693/1000\n",
            "3/3 - 0s - loss: 0.0116 - accuracy: 1.0000 - val_loss: 0.8312 - val_accuracy: 0.8333 - 48ms/epoch - 16ms/step\n",
            "Epoch 694/1000\n",
            "3/3 - 0s - loss: 0.0393 - accuracy: 0.9778 - val_loss: 0.6693 - val_accuracy: 0.8667 - 48ms/epoch - 16ms/step\n",
            "Epoch 695/1000\n",
            "3/3 - 0s - loss: 0.0506 - accuracy: 0.9778 - val_loss: 0.3378 - val_accuracy: 0.9000 - 48ms/epoch - 16ms/step\n",
            "Epoch 696/1000\n",
            "3/3 - 0s - loss: 0.0190 - accuracy: 0.9889 - val_loss: 0.2004 - val_accuracy: 0.9333 - 40ms/epoch - 13ms/step\n",
            "Epoch 697/1000\n",
            "3/3 - 0s - loss: 0.0302 - accuracy: 0.9889 - val_loss: 0.1760 - val_accuracy: 0.9667 - 44ms/epoch - 15ms/step\n",
            "Epoch 698/1000\n",
            "3/3 - 0s - loss: 0.0065 - accuracy: 1.0000 - val_loss: 0.2047 - val_accuracy: 0.9333 - 41ms/epoch - 14ms/step\n",
            "Epoch 699/1000\n",
            "3/3 - 0s - loss: 0.0058 - accuracy: 1.0000 - val_loss: 0.2291 - val_accuracy: 0.9000 - 40ms/epoch - 13ms/step\n",
            "Epoch 700/1000\n",
            "3/3 - 0s - loss: 0.1327 - accuracy: 0.9556 - val_loss: 0.1864 - val_accuracy: 0.9333 - 57ms/epoch - 19ms/step\n",
            "Epoch 701/1000\n",
            "3/3 - 0s - loss: 0.0148 - accuracy: 0.9889 - val_loss: 0.1345 - val_accuracy: 0.9667 - 45ms/epoch - 15ms/step\n",
            "Epoch 702/1000\n",
            "3/3 - 0s - loss: 0.0249 - accuracy: 0.9889 - val_loss: 0.2413 - val_accuracy: 0.8667 - 48ms/epoch - 16ms/step\n",
            "Epoch 703/1000\n",
            "3/3 - 0s - loss: 0.0197 - accuracy: 1.0000 - val_loss: 0.3705 - val_accuracy: 0.8667 - 45ms/epoch - 15ms/step\n",
            "Epoch 704/1000\n",
            "3/3 - 0s - loss: 0.0162 - accuracy: 1.0000 - val_loss: 0.4726 - val_accuracy: 0.9000 - 43ms/epoch - 14ms/step\n",
            "Epoch 705/1000\n",
            "3/3 - 0s - loss: 0.0520 - accuracy: 0.9889 - val_loss: 0.4084 - val_accuracy: 0.9000 - 44ms/epoch - 15ms/step\n",
            "Epoch 706/1000\n",
            "3/3 - 0s - loss: 0.0220 - accuracy: 1.0000 - val_loss: 0.1981 - val_accuracy: 0.9333 - 58ms/epoch - 19ms/step\n",
            "Epoch 707/1000\n",
            "3/3 - 0s - loss: 0.0279 - accuracy: 0.9889 - val_loss: 0.0884 - val_accuracy: 0.9667 - 63ms/epoch - 21ms/step\n",
            "Epoch 708/1000\n",
            "3/3 - 0s - loss: 0.0319 - accuracy: 0.9889 - val_loss: 0.0704 - val_accuracy: 0.9667 - 43ms/epoch - 14ms/step\n",
            "Epoch 709/1000\n",
            "3/3 - 0s - loss: 0.0046 - accuracy: 1.0000 - val_loss: 0.0699 - val_accuracy: 0.9667 - 40ms/epoch - 13ms/step\n",
            "Epoch 710/1000\n",
            "3/3 - 0s - loss: 0.0203 - accuracy: 0.9889 - val_loss: 0.0815 - val_accuracy: 0.9333 - 44ms/epoch - 15ms/step\n",
            "Epoch 711/1000\n",
            "3/3 - 0s - loss: 0.0194 - accuracy: 1.0000 - val_loss: 0.1085 - val_accuracy: 0.9000 - 60ms/epoch - 20ms/step\n",
            "Epoch 712/1000\n",
            "3/3 - 0s - loss: 0.0501 - accuracy: 0.9667 - val_loss: 0.1164 - val_accuracy: 0.9333 - 58ms/epoch - 19ms/step\n",
            "Epoch 713/1000\n",
            "3/3 - 0s - loss: 0.0749 - accuracy: 0.9778 - val_loss: 0.0654 - val_accuracy: 0.9667 - 62ms/epoch - 21ms/step\n",
            "Epoch 714/1000\n",
            "3/3 - 0s - loss: 0.0096 - accuracy: 1.0000 - val_loss: 0.0422 - val_accuracy: 1.0000 - 41ms/epoch - 14ms/step\n",
            "Epoch 715/1000\n",
            "3/3 - 0s - loss: 0.0353 - accuracy: 0.9889 - val_loss: 0.0339 - val_accuracy: 1.0000 - 45ms/epoch - 15ms/step\n",
            "Epoch 716/1000\n",
            "3/3 - 0s - loss: 0.0474 - accuracy: 0.9889 - val_loss: 0.0405 - val_accuracy: 1.0000 - 45ms/epoch - 15ms/step\n",
            "Epoch 717/1000\n",
            "3/3 - 0s - loss: 0.0788 - accuracy: 0.9778 - val_loss: 0.0713 - val_accuracy: 0.9667 - 41ms/epoch - 14ms/step\n",
            "Epoch 718/1000\n",
            "3/3 - 0s - loss: 0.0046 - accuracy: 1.0000 - val_loss: 0.5503 - val_accuracy: 0.8333 - 41ms/epoch - 14ms/step\n",
            "Epoch 719/1000\n",
            "3/3 - 0s - loss: 0.0172 - accuracy: 0.9889 - val_loss: 1.1880 - val_accuracy: 0.8000 - 39ms/epoch - 13ms/step\n",
            "Epoch 720/1000\n",
            "3/3 - 0s - loss: 0.0289 - accuracy: 0.9889 - val_loss: 1.3619 - val_accuracy: 0.8000 - 49ms/epoch - 16ms/step\n",
            "Epoch 721/1000\n",
            "3/3 - 0s - loss: 0.0193 - accuracy: 1.0000 - val_loss: 1.1069 - val_accuracy: 0.8333 - 40ms/epoch - 13ms/step\n",
            "Epoch 722/1000\n",
            "3/3 - 0s - loss: 0.0392 - accuracy: 0.9889 - val_loss: 0.6879 - val_accuracy: 0.8667 - 39ms/epoch - 13ms/step\n",
            "Epoch 723/1000\n",
            "3/3 - 0s - loss: 0.0247 - accuracy: 0.9889 - val_loss: 0.4074 - val_accuracy: 0.9333 - 46ms/epoch - 15ms/step\n",
            "Epoch 724/1000\n",
            "3/3 - 0s - loss: 0.1305 - accuracy: 0.9556 - val_loss: 0.2021 - val_accuracy: 0.9667 - 50ms/epoch - 17ms/step\n",
            "Epoch 725/1000\n",
            "3/3 - 0s - loss: 0.0749 - accuracy: 0.9667 - val_loss: 0.1324 - val_accuracy: 0.9333 - 42ms/epoch - 14ms/step\n",
            "Epoch 726/1000\n",
            "3/3 - 0s - loss: 0.0393 - accuracy: 0.9889 - val_loss: 0.1819 - val_accuracy: 0.9333 - 45ms/epoch - 15ms/step\n",
            "Epoch 727/1000\n",
            "3/3 - 0s - loss: 0.0132 - accuracy: 1.0000 - val_loss: 0.2143 - val_accuracy: 0.9000 - 50ms/epoch - 17ms/step\n",
            "Epoch 728/1000\n",
            "3/3 - 0s - loss: 0.0233 - accuracy: 0.9889 - val_loss: 0.2512 - val_accuracy: 0.9000 - 41ms/epoch - 14ms/step\n",
            "Epoch 729/1000\n",
            "3/3 - 0s - loss: 0.0334 - accuracy: 0.9889 - val_loss: 0.2734 - val_accuracy: 0.9000 - 64ms/epoch - 21ms/step\n",
            "Epoch 730/1000\n",
            "3/3 - 0s - loss: 0.0365 - accuracy: 0.9778 - val_loss: 0.2885 - val_accuracy: 0.9000 - 64ms/epoch - 21ms/step\n",
            "Epoch 731/1000\n",
            "3/3 - 0s - loss: 0.2559 - accuracy: 0.9556 - val_loss: 0.3037 - val_accuracy: 0.9000 - 57ms/epoch - 19ms/step\n",
            "Epoch 732/1000\n",
            "3/3 - 0s - loss: 0.1744 - accuracy: 0.9778 - val_loss: 0.3500 - val_accuracy: 0.8667 - 41ms/epoch - 14ms/step\n",
            "Epoch 733/1000\n",
            "3/3 - 0s - loss: 0.0749 - accuracy: 0.9556 - val_loss: 0.5966 - val_accuracy: 0.7667 - 42ms/epoch - 14ms/step\n",
            "Epoch 734/1000\n",
            "3/3 - 0s - loss: 0.0670 - accuracy: 0.9889 - val_loss: 0.7784 - val_accuracy: 0.6667 - 48ms/epoch - 16ms/step\n",
            "Epoch 735/1000\n",
            "3/3 - 0s - loss: 0.1396 - accuracy: 0.9556 - val_loss: 0.5232 - val_accuracy: 0.7667 - 40ms/epoch - 13ms/step\n",
            "Epoch 736/1000\n",
            "3/3 - 0s - loss: 0.1401 - accuracy: 0.9556 - val_loss: 0.2851 - val_accuracy: 0.9000 - 48ms/epoch - 16ms/step\n",
            "Epoch 737/1000\n",
            "3/3 - 0s - loss: 0.0262 - accuracy: 1.0000 - val_loss: 0.2741 - val_accuracy: 0.8667 - 60ms/epoch - 20ms/step\n",
            "Epoch 738/1000\n",
            "3/3 - 0s - loss: 0.0441 - accuracy: 1.0000 - val_loss: 0.3349 - val_accuracy: 0.9000 - 39ms/epoch - 13ms/step\n",
            "Epoch 739/1000\n",
            "3/3 - 0s - loss: 0.0333 - accuracy: 0.9889 - val_loss: 0.3290 - val_accuracy: 0.9000 - 43ms/epoch - 14ms/step\n",
            "Epoch 740/1000\n",
            "3/3 - 0s - loss: 0.0748 - accuracy: 0.9667 - val_loss: 0.2129 - val_accuracy: 0.9333 - 43ms/epoch - 14ms/step\n",
            "Epoch 741/1000\n",
            "3/3 - 0s - loss: 0.0089 - accuracy: 1.0000 - val_loss: 0.1082 - val_accuracy: 0.9333 - 43ms/epoch - 14ms/step\n",
            "Epoch 742/1000\n",
            "3/3 - 0s - loss: 0.0101 - accuracy: 1.0000 - val_loss: 0.0556 - val_accuracy: 0.9667 - 39ms/epoch - 13ms/step\n",
            "Epoch 743/1000\n",
            "3/3 - 0s - loss: 0.0268 - accuracy: 0.9889 - val_loss: 0.0343 - val_accuracy: 1.0000 - 42ms/epoch - 14ms/step\n",
            "Epoch 744/1000\n",
            "3/3 - 0s - loss: 0.0182 - accuracy: 1.0000 - val_loss: 0.0343 - val_accuracy: 1.0000 - 44ms/epoch - 15ms/step\n",
            "Epoch 745/1000\n",
            "3/3 - 0s - loss: 0.0062 - accuracy: 1.0000 - val_loss: 0.0406 - val_accuracy: 1.0000 - 44ms/epoch - 15ms/step\n",
            "Epoch 746/1000\n",
            "3/3 - 0s - loss: 0.0214 - accuracy: 0.9889 - val_loss: 0.0478 - val_accuracy: 1.0000 - 46ms/epoch - 15ms/step\n",
            "Epoch 747/1000\n",
            "3/3 - 0s - loss: 0.0074 - accuracy: 1.0000 - val_loss: 0.0602 - val_accuracy: 1.0000 - 44ms/epoch - 15ms/step\n",
            "Epoch 748/1000\n",
            "3/3 - 0s - loss: 0.0378 - accuracy: 0.9889 - val_loss: 0.0761 - val_accuracy: 1.0000 - 41ms/epoch - 14ms/step\n",
            "Epoch 749/1000\n",
            "3/3 - 0s - loss: 0.0471 - accuracy: 0.9889 - val_loss: 0.1191 - val_accuracy: 0.9333 - 48ms/epoch - 16ms/step\n",
            "Epoch 750/1000\n",
            "3/3 - 0s - loss: 0.0141 - accuracy: 1.0000 - val_loss: 0.1724 - val_accuracy: 0.9000 - 46ms/epoch - 15ms/step\n",
            "Epoch 751/1000\n",
            "3/3 - 0s - loss: 0.0322 - accuracy: 0.9889 - val_loss: 0.2105 - val_accuracy: 0.9000 - 49ms/epoch - 16ms/step\n",
            "Epoch 752/1000\n",
            "3/3 - 0s - loss: 0.0322 - accuracy: 0.9889 - val_loss: 0.2458 - val_accuracy: 0.9000 - 52ms/epoch - 17ms/step\n",
            "Epoch 753/1000\n",
            "3/3 - 0s - loss: 0.0094 - accuracy: 1.0000 - val_loss: 0.2796 - val_accuracy: 0.9000 - 43ms/epoch - 14ms/step\n",
            "Epoch 754/1000\n",
            "3/3 - 0s - loss: 0.0304 - accuracy: 0.9889 - val_loss: 0.2596 - val_accuracy: 0.8667 - 55ms/epoch - 18ms/step\n",
            "Epoch 755/1000\n",
            "3/3 - 0s - loss: 0.0074 - accuracy: 1.0000 - val_loss: 0.1775 - val_accuracy: 0.9333 - 42ms/epoch - 14ms/step\n",
            "Epoch 756/1000\n",
            "3/3 - 0s - loss: 0.0094 - accuracy: 1.0000 - val_loss: 0.1252 - val_accuracy: 0.9333 - 41ms/epoch - 14ms/step\n",
            "Epoch 757/1000\n",
            "3/3 - 0s - loss: 0.0292 - accuracy: 1.0000 - val_loss: 0.1113 - val_accuracy: 0.9667 - 45ms/epoch - 15ms/step\n",
            "Epoch 758/1000\n",
            "3/3 - 0s - loss: 0.0081 - accuracy: 1.0000 - val_loss: 0.1034 - val_accuracy: 0.9667 - 39ms/epoch - 13ms/step\n",
            "Epoch 759/1000\n",
            "3/3 - 0s - loss: 0.0206 - accuracy: 1.0000 - val_loss: 0.1100 - val_accuracy: 0.9667 - 42ms/epoch - 14ms/step\n",
            "Epoch 760/1000\n",
            "3/3 - 0s - loss: 0.0286 - accuracy: 0.9778 - val_loss: 0.1184 - val_accuracy: 0.9667 - 48ms/epoch - 16ms/step\n",
            "Epoch 761/1000\n",
            "3/3 - 0s - loss: 0.0448 - accuracy: 0.9889 - val_loss: 0.1839 - val_accuracy: 0.9667 - 42ms/epoch - 14ms/step\n",
            "Epoch 762/1000\n",
            "3/3 - 0s - loss: 0.0336 - accuracy: 0.9778 - val_loss: 0.3524 - val_accuracy: 0.9000 - 43ms/epoch - 14ms/step\n",
            "Epoch 763/1000\n",
            "3/3 - 0s - loss: 0.0073 - accuracy: 1.0000 - val_loss: 0.4647 - val_accuracy: 0.9000 - 43ms/epoch - 14ms/step\n",
            "Epoch 764/1000\n",
            "3/3 - 0s - loss: 0.0157 - accuracy: 1.0000 - val_loss: 0.5399 - val_accuracy: 0.9000 - 49ms/epoch - 16ms/step\n",
            "Epoch 765/1000\n",
            "3/3 - 0s - loss: 0.0077 - accuracy: 1.0000 - val_loss: 0.5548 - val_accuracy: 0.9000 - 55ms/epoch - 18ms/step\n",
            "Epoch 766/1000\n",
            "3/3 - 0s - loss: 0.0051 - accuracy: 1.0000 - val_loss: 0.4688 - val_accuracy: 0.9000 - 68ms/epoch - 23ms/step\n",
            "Epoch 767/1000\n",
            "3/3 - 0s - loss: 0.0066 - accuracy: 1.0000 - val_loss: 0.3530 - val_accuracy: 0.9333 - 66ms/epoch - 22ms/step\n",
            "Epoch 768/1000\n",
            "3/3 - 0s - loss: 0.0186 - accuracy: 1.0000 - val_loss: 0.2318 - val_accuracy: 0.9667 - 44ms/epoch - 15ms/step\n",
            "Epoch 769/1000\n",
            "3/3 - 0s - loss: 0.0071 - accuracy: 1.0000 - val_loss: 0.1597 - val_accuracy: 0.9667 - 50ms/epoch - 17ms/step\n",
            "Epoch 770/1000\n",
            "3/3 - 0s - loss: 0.0637 - accuracy: 0.9778 - val_loss: 0.0541 - val_accuracy: 0.9667 - 52ms/epoch - 17ms/step\n",
            "Epoch 771/1000\n",
            "3/3 - 0s - loss: 0.1060 - accuracy: 0.9778 - val_loss: 0.0080 - val_accuracy: 1.0000 - 56ms/epoch - 19ms/step\n",
            "Epoch 772/1000\n",
            "3/3 - 0s - loss: 0.0269 - accuracy: 0.9889 - val_loss: 0.0719 - val_accuracy: 0.9667 - 71ms/epoch - 24ms/step\n",
            "Epoch 773/1000\n",
            "3/3 - 0s - loss: 0.0249 - accuracy: 1.0000 - val_loss: 0.1645 - val_accuracy: 0.9667 - 49ms/epoch - 16ms/step\n",
            "Epoch 774/1000\n",
            "3/3 - 0s - loss: 0.0458 - accuracy: 0.9667 - val_loss: 0.2707 - val_accuracy: 0.9333 - 56ms/epoch - 19ms/step\n",
            "Epoch 775/1000\n",
            "3/3 - 0s - loss: 0.0255 - accuracy: 0.9889 - val_loss: 0.4649 - val_accuracy: 0.9000 - 47ms/epoch - 16ms/step\n",
            "Epoch 776/1000\n",
            "3/3 - 0s - loss: 0.0313 - accuracy: 0.9889 - val_loss: 0.6878 - val_accuracy: 0.9000 - 39ms/epoch - 13ms/step\n",
            "Epoch 777/1000\n",
            "3/3 - 0s - loss: 0.0103 - accuracy: 1.0000 - val_loss: 0.8827 - val_accuracy: 0.8667 - 39ms/epoch - 13ms/step\n",
            "Epoch 778/1000\n",
            "3/3 - 0s - loss: 0.0181 - accuracy: 1.0000 - val_loss: 0.9789 - val_accuracy: 0.8667 - 41ms/epoch - 14ms/step\n",
            "Epoch 779/1000\n",
            "3/3 - 0s - loss: 0.0251 - accuracy: 0.9889 - val_loss: 0.9758 - val_accuracy: 0.8667 - 41ms/epoch - 14ms/step\n",
            "Epoch 780/1000\n",
            "3/3 - 0s - loss: 0.0179 - accuracy: 0.9889 - val_loss: 0.8769 - val_accuracy: 0.8667 - 46ms/epoch - 15ms/step\n",
            "Epoch 781/1000\n",
            "3/3 - 0s - loss: 0.0150 - accuracy: 0.9889 - val_loss: 0.8133 - val_accuracy: 0.8667 - 71ms/epoch - 24ms/step\n",
            "Epoch 782/1000\n",
            "3/3 - 0s - loss: 0.0140 - accuracy: 1.0000 - val_loss: 0.7742 - val_accuracy: 0.8667 - 44ms/epoch - 15ms/step\n",
            "Epoch 783/1000\n",
            "3/3 - 0s - loss: 0.0131 - accuracy: 1.0000 - val_loss: 0.6123 - val_accuracy: 0.8667 - 47ms/epoch - 16ms/step\n",
            "Epoch 784/1000\n",
            "3/3 - 0s - loss: 0.0718 - accuracy: 0.9889 - val_loss: 0.4438 - val_accuracy: 0.9000 - 43ms/epoch - 14ms/step\n",
            "Epoch 785/1000\n",
            "3/3 - 0s - loss: 0.0776 - accuracy: 0.9778 - val_loss: 0.3704 - val_accuracy: 0.9000 - 44ms/epoch - 15ms/step\n",
            "Epoch 786/1000\n",
            "3/3 - 0s - loss: 0.0226 - accuracy: 1.0000 - val_loss: 0.4429 - val_accuracy: 0.9000 - 41ms/epoch - 14ms/step\n",
            "Epoch 787/1000\n",
            "3/3 - 0s - loss: 0.0362 - accuracy: 0.9778 - val_loss: 0.3605 - val_accuracy: 0.9000 - 42ms/epoch - 14ms/step\n",
            "Epoch 788/1000\n",
            "3/3 - 0s - loss: 0.0177 - accuracy: 1.0000 - val_loss: 0.2896 - val_accuracy: 0.9000 - 42ms/epoch - 14ms/step\n",
            "Epoch 789/1000\n",
            "3/3 - 0s - loss: 0.0569 - accuracy: 0.9778 - val_loss: 0.2112 - val_accuracy: 0.9667 - 42ms/epoch - 14ms/step\n",
            "Epoch 790/1000\n",
            "3/3 - 0s - loss: 0.0221 - accuracy: 1.0000 - val_loss: 0.1505 - val_accuracy: 0.9667 - 48ms/epoch - 16ms/step\n",
            "Epoch 791/1000\n",
            "3/3 - 0s - loss: 0.2256 - accuracy: 0.9333 - val_loss: 0.1861 - val_accuracy: 0.9667 - 43ms/epoch - 14ms/step\n",
            "Epoch 792/1000\n",
            "3/3 - 0s - loss: 0.0687 - accuracy: 0.9889 - val_loss: 0.3797 - val_accuracy: 0.9000 - 39ms/epoch - 13ms/step\n",
            "Epoch 793/1000\n",
            "3/3 - 0s - loss: 0.0155 - accuracy: 1.0000 - val_loss: 0.3470 - val_accuracy: 0.9000 - 49ms/epoch - 16ms/step\n",
            "Epoch 794/1000\n",
            "3/3 - 0s - loss: 0.0253 - accuracy: 1.0000 - val_loss: 0.3216 - val_accuracy: 0.9000 - 56ms/epoch - 19ms/step\n",
            "Epoch 795/1000\n",
            "3/3 - 0s - loss: 0.0261 - accuracy: 1.0000 - val_loss: 0.2968 - val_accuracy: 0.9000 - 42ms/epoch - 14ms/step\n",
            "Epoch 796/1000\n",
            "3/3 - 0s - loss: 0.0539 - accuracy: 0.9778 - val_loss: 0.2308 - val_accuracy: 0.9333 - 41ms/epoch - 14ms/step\n",
            "Epoch 797/1000\n",
            "3/3 - 0s - loss: 0.0874 - accuracy: 0.9556 - val_loss: 0.1551 - val_accuracy: 0.9333 - 46ms/epoch - 15ms/step\n",
            "Epoch 798/1000\n",
            "3/3 - 0s - loss: 0.0170 - accuracy: 1.0000 - val_loss: 0.1115 - val_accuracy: 0.9333 - 42ms/epoch - 14ms/step\n",
            "Epoch 799/1000\n",
            "3/3 - 0s - loss: 0.1098 - accuracy: 0.9667 - val_loss: 0.0946 - val_accuracy: 0.9667 - 73ms/epoch - 24ms/step\n",
            "Epoch 800/1000\n",
            "3/3 - 0s - loss: 0.0184 - accuracy: 0.9889 - val_loss: 0.0876 - val_accuracy: 0.9667 - 60ms/epoch - 20ms/step\n",
            "Epoch 801/1000\n",
            "3/3 - 0s - loss: 0.0698 - accuracy: 0.9556 - val_loss: 0.0772 - val_accuracy: 0.9667 - 50ms/epoch - 17ms/step\n",
            "Epoch 802/1000\n",
            "3/3 - 0s - loss: 0.0482 - accuracy: 0.9889 - val_loss: 0.0691 - val_accuracy: 0.9667 - 41ms/epoch - 14ms/step\n",
            "Epoch 803/1000\n",
            "3/3 - 0s - loss: 0.0199 - accuracy: 1.0000 - val_loss: 0.0658 - val_accuracy: 0.9667 - 45ms/epoch - 15ms/step\n",
            "Epoch 804/1000\n",
            "3/3 - 0s - loss: 0.0146 - accuracy: 1.0000 - val_loss: 0.0644 - val_accuracy: 0.9667 - 49ms/epoch - 16ms/step\n",
            "Epoch 805/1000\n",
            "3/3 - 0s - loss: 0.0214 - accuracy: 1.0000 - val_loss: 0.0604 - val_accuracy: 0.9667 - 56ms/epoch - 19ms/step\n",
            "Epoch 806/1000\n",
            "3/3 - 0s - loss: 0.0316 - accuracy: 1.0000 - val_loss: 0.0554 - val_accuracy: 0.9667 - 44ms/epoch - 15ms/step\n",
            "Epoch 807/1000\n",
            "3/3 - 0s - loss: 0.0139 - accuracy: 1.0000 - val_loss: 0.0522 - val_accuracy: 0.9667 - 46ms/epoch - 15ms/step\n",
            "Epoch 808/1000\n",
            "3/3 - 0s - loss: 0.0098 - accuracy: 1.0000 - val_loss: 0.0474 - val_accuracy: 0.9667 - 62ms/epoch - 21ms/step\n",
            "Epoch 809/1000\n",
            "3/3 - 0s - loss: 0.0164 - accuracy: 1.0000 - val_loss: 0.0432 - val_accuracy: 0.9667 - 46ms/epoch - 15ms/step\n",
            "Epoch 810/1000\n",
            "3/3 - 0s - loss: 0.0089 - accuracy: 1.0000 - val_loss: 0.0464 - val_accuracy: 0.9667 - 40ms/epoch - 13ms/step\n",
            "Epoch 811/1000\n",
            "3/3 - 0s - loss: 0.0095 - accuracy: 1.0000 - val_loss: 0.0482 - val_accuracy: 0.9667 - 60ms/epoch - 20ms/step\n",
            "Epoch 812/1000\n",
            "3/3 - 0s - loss: 0.0263 - accuracy: 0.9889 - val_loss: 0.0495 - val_accuracy: 1.0000 - 39ms/epoch - 13ms/step\n",
            "Epoch 813/1000\n",
            "3/3 - 0s - loss: 0.0106 - accuracy: 1.0000 - val_loss: 0.0617 - val_accuracy: 1.0000 - 42ms/epoch - 14ms/step\n",
            "Epoch 814/1000\n",
            "3/3 - 0s - loss: 0.0077 - accuracy: 1.0000 - val_loss: 0.0626 - val_accuracy: 0.9667 - 52ms/epoch - 17ms/step\n",
            "Epoch 815/1000\n",
            "3/3 - 0s - loss: 0.0635 - accuracy: 0.9778 - val_loss: 0.0640 - val_accuracy: 0.9667 - 47ms/epoch - 16ms/step\n",
            "Epoch 816/1000\n",
            "3/3 - 0s - loss: 0.1048 - accuracy: 0.9889 - val_loss: 0.0550 - val_accuracy: 0.9667 - 42ms/epoch - 14ms/step\n",
            "Epoch 817/1000\n",
            "3/3 - 0s - loss: 0.0195 - accuracy: 1.0000 - val_loss: 0.0535 - val_accuracy: 1.0000 - 44ms/epoch - 15ms/step\n",
            "Epoch 818/1000\n",
            "3/3 - 0s - loss: 0.0107 - accuracy: 1.0000 - val_loss: 0.0581 - val_accuracy: 1.0000 - 42ms/epoch - 14ms/step\n",
            "Epoch 819/1000\n",
            "3/3 - 0s - loss: 0.0884 - accuracy: 0.9667 - val_loss: 0.0786 - val_accuracy: 1.0000 - 44ms/epoch - 15ms/step\n",
            "Epoch 820/1000\n",
            "3/3 - 0s - loss: 0.0110 - accuracy: 1.0000 - val_loss: 0.1274 - val_accuracy: 0.9000 - 51ms/epoch - 17ms/step\n",
            "Epoch 821/1000\n",
            "3/3 - 0s - loss: 0.0248 - accuracy: 0.9889 - val_loss: 0.1256 - val_accuracy: 0.9000 - 51ms/epoch - 17ms/step\n",
            "Epoch 822/1000\n",
            "3/3 - 0s - loss: 0.0369 - accuracy: 0.9889 - val_loss: 0.1205 - val_accuracy: 0.9667 - 62ms/epoch - 21ms/step\n",
            "Epoch 823/1000\n",
            "3/3 - 0s - loss: 0.0417 - accuracy: 0.9778 - val_loss: 0.1525 - val_accuracy: 0.9333 - 46ms/epoch - 15ms/step\n",
            "Epoch 824/1000\n",
            "3/3 - 0s - loss: 0.0121 - accuracy: 1.0000 - val_loss: 0.1580 - val_accuracy: 0.9667 - 48ms/epoch - 16ms/step\n",
            "Epoch 825/1000\n",
            "3/3 - 0s - loss: 0.0390 - accuracy: 0.9778 - val_loss: 0.1573 - val_accuracy: 0.9667 - 47ms/epoch - 16ms/step\n",
            "Epoch 826/1000\n",
            "3/3 - 0s - loss: 0.0134 - accuracy: 1.0000 - val_loss: 0.1688 - val_accuracy: 0.9000 - 43ms/epoch - 14ms/step\n",
            "Epoch 827/1000\n",
            "3/3 - 0s - loss: 0.0205 - accuracy: 1.0000 - val_loss: 0.1760 - val_accuracy: 0.9000 - 45ms/epoch - 15ms/step\n",
            "Epoch 828/1000\n",
            "3/3 - 0s - loss: 0.1441 - accuracy: 0.9667 - val_loss: 0.2148 - val_accuracy: 0.8667 - 55ms/epoch - 18ms/step\n",
            "Epoch 829/1000\n",
            "3/3 - 0s - loss: 0.0312 - accuracy: 0.9889 - val_loss: 0.2147 - val_accuracy: 0.8667 - 54ms/epoch - 18ms/step\n",
            "Epoch 830/1000\n",
            "3/3 - 0s - loss: 0.0593 - accuracy: 0.9889 - val_loss: 0.1634 - val_accuracy: 0.9000 - 54ms/epoch - 18ms/step\n",
            "Epoch 831/1000\n",
            "3/3 - 0s - loss: 0.0111 - accuracy: 1.0000 - val_loss: 0.1250 - val_accuracy: 0.9333 - 59ms/epoch - 20ms/step\n",
            "Epoch 832/1000\n",
            "3/3 - 0s - loss: 0.0212 - accuracy: 1.0000 - val_loss: 0.1103 - val_accuracy: 0.9333 - 60ms/epoch - 20ms/step\n",
            "Epoch 833/1000\n",
            "3/3 - 0s - loss: 0.0102 - accuracy: 1.0000 - val_loss: 0.0976 - val_accuracy: 0.9667 - 56ms/epoch - 19ms/step\n",
            "Epoch 834/1000\n",
            "3/3 - 0s - loss: 0.0165 - accuracy: 1.0000 - val_loss: 0.0993 - val_accuracy: 0.9667 - 56ms/epoch - 19ms/step\n",
            "Epoch 835/1000\n",
            "3/3 - 0s - loss: 0.0113 - accuracy: 1.0000 - val_loss: 0.1013 - val_accuracy: 0.9667 - 72ms/epoch - 24ms/step\n",
            "Epoch 836/1000\n",
            "3/3 - 0s - loss: 0.0082 - accuracy: 1.0000 - val_loss: 0.1088 - val_accuracy: 0.9667 - 63ms/epoch - 21ms/step\n",
            "Epoch 837/1000\n",
            "3/3 - 0s - loss: 0.0133 - accuracy: 1.0000 - val_loss: 0.1154 - val_accuracy: 0.9333 - 53ms/epoch - 18ms/step\n",
            "Epoch 838/1000\n",
            "3/3 - 0s - loss: 0.0042 - accuracy: 1.0000 - val_loss: 0.1156 - val_accuracy: 0.9667 - 46ms/epoch - 15ms/step\n",
            "Epoch 839/1000\n",
            "3/3 - 0s - loss: 0.0112 - accuracy: 1.0000 - val_loss: 0.1169 - val_accuracy: 0.9667 - 43ms/epoch - 14ms/step\n",
            "Epoch 840/1000\n",
            "3/3 - 0s - loss: 0.0467 - accuracy: 0.9889 - val_loss: 0.1111 - val_accuracy: 0.9667 - 48ms/epoch - 16ms/step\n",
            "Epoch 841/1000\n",
            "3/3 - 0s - loss: 0.0117 - accuracy: 1.0000 - val_loss: 0.1134 - val_accuracy: 0.9667 - 41ms/epoch - 14ms/step\n",
            "Epoch 842/1000\n",
            "3/3 - 0s - loss: 0.0340 - accuracy: 0.9778 - val_loss: 0.1020 - val_accuracy: 0.9667 - 46ms/epoch - 15ms/step\n",
            "Epoch 843/1000\n",
            "3/3 - 0s - loss: 0.0942 - accuracy: 0.9778 - val_loss: 0.0883 - val_accuracy: 0.9667 - 66ms/epoch - 22ms/step\n",
            "Epoch 844/1000\n",
            "3/3 - 0s - loss: 0.0115 - accuracy: 1.0000 - val_loss: 0.2318 - val_accuracy: 0.9000 - 47ms/epoch - 16ms/step\n",
            "Epoch 845/1000\n",
            "3/3 - 0s - loss: 0.0281 - accuracy: 0.9889 - val_loss: 0.4002 - val_accuracy: 0.9000 - 45ms/epoch - 15ms/step\n",
            "Epoch 846/1000\n",
            "3/3 - 0s - loss: 0.0536 - accuracy: 0.9778 - val_loss: 0.3474 - val_accuracy: 0.9333 - 52ms/epoch - 17ms/step\n",
            "Epoch 847/1000\n",
            "3/3 - 0s - loss: 0.0566 - accuracy: 0.9667 - val_loss: 0.1751 - val_accuracy: 0.9000 - 40ms/epoch - 13ms/step\n",
            "Epoch 848/1000\n",
            "3/3 - 0s - loss: 0.0115 - accuracy: 1.0000 - val_loss: 0.0858 - val_accuracy: 0.9333 - 72ms/epoch - 24ms/step\n",
            "Epoch 849/1000\n",
            "3/3 - 0s - loss: 0.0109 - accuracy: 1.0000 - val_loss: 0.0521 - val_accuracy: 0.9667 - 41ms/epoch - 14ms/step\n",
            "Epoch 850/1000\n",
            "3/3 - 0s - loss: 0.0272 - accuracy: 0.9889 - val_loss: 0.0474 - val_accuracy: 0.9667 - 63ms/epoch - 21ms/step\n",
            "Epoch 851/1000\n",
            "3/3 - 0s - loss: 0.0127 - accuracy: 1.0000 - val_loss: 0.0510 - val_accuracy: 0.9667 - 48ms/epoch - 16ms/step\n",
            "Epoch 852/1000\n",
            "3/3 - 0s - loss: 0.0247 - accuracy: 0.9889 - val_loss: 0.0533 - val_accuracy: 0.9667 - 45ms/epoch - 15ms/step\n",
            "Epoch 853/1000\n",
            "3/3 - 0s - loss: 0.0203 - accuracy: 0.9889 - val_loss: 0.0561 - val_accuracy: 0.9667 - 41ms/epoch - 14ms/step\n",
            "Epoch 854/1000\n",
            "3/3 - 0s - loss: 0.0353 - accuracy: 0.9889 - val_loss: 0.0798 - val_accuracy: 0.9667 - 55ms/epoch - 18ms/step\n",
            "Epoch 855/1000\n",
            "3/3 - 0s - loss: 0.0972 - accuracy: 0.9778 - val_loss: 0.1319 - val_accuracy: 0.9333 - 54ms/epoch - 18ms/step\n",
            "Epoch 856/1000\n",
            "3/3 - 0s - loss: 0.0066 - accuracy: 1.0000 - val_loss: 0.1654 - val_accuracy: 0.9000 - 47ms/epoch - 16ms/step\n",
            "Epoch 857/1000\n",
            "3/3 - 0s - loss: 0.0668 - accuracy: 0.9778 - val_loss: 0.1597 - val_accuracy: 0.9333 - 46ms/epoch - 15ms/step\n",
            "Epoch 858/1000\n",
            "3/3 - 0s - loss: 0.0140 - accuracy: 1.0000 - val_loss: 0.1134 - val_accuracy: 0.9667 - 47ms/epoch - 16ms/step\n",
            "Epoch 859/1000\n",
            "3/3 - 0s - loss: 0.0241 - accuracy: 1.0000 - val_loss: 0.0742 - val_accuracy: 0.9667 - 65ms/epoch - 22ms/step\n",
            "Epoch 860/1000\n",
            "3/3 - 0s - loss: 0.0895 - accuracy: 0.9667 - val_loss: 0.0568 - val_accuracy: 1.0000 - 39ms/epoch - 13ms/step\n",
            "Epoch 861/1000\n",
            "3/3 - 0s - loss: 0.0229 - accuracy: 0.9889 - val_loss: 0.0360 - val_accuracy: 1.0000 - 43ms/epoch - 14ms/step\n",
            "Epoch 862/1000\n",
            "3/3 - 0s - loss: 0.0186 - accuracy: 1.0000 - val_loss: 0.0286 - val_accuracy: 1.0000 - 43ms/epoch - 14ms/step\n",
            "Epoch 863/1000\n",
            "3/3 - 0s - loss: 0.0269 - accuracy: 1.0000 - val_loss: 0.0279 - val_accuracy: 1.0000 - 48ms/epoch - 16ms/step\n",
            "Epoch 864/1000\n",
            "3/3 - 0s - loss: 0.0228 - accuracy: 1.0000 - val_loss: 0.0287 - val_accuracy: 1.0000 - 39ms/epoch - 13ms/step\n",
            "Epoch 865/1000\n",
            "3/3 - 0s - loss: 0.0303 - accuracy: 0.9889 - val_loss: 0.0335 - val_accuracy: 1.0000 - 39ms/epoch - 13ms/step\n",
            "Epoch 866/1000\n",
            "3/3 - 0s - loss: 0.0229 - accuracy: 0.9889 - val_loss: 0.0440 - val_accuracy: 0.9667 - 41ms/epoch - 14ms/step\n",
            "Epoch 867/1000\n",
            "3/3 - 0s - loss: 0.0211 - accuracy: 1.0000 - val_loss: 0.0713 - val_accuracy: 0.9667 - 41ms/epoch - 14ms/step\n",
            "Epoch 868/1000\n",
            "3/3 - 0s - loss: 0.0796 - accuracy: 0.9889 - val_loss: 0.0976 - val_accuracy: 0.9667 - 61ms/epoch - 20ms/step\n",
            "Epoch 869/1000\n",
            "3/3 - 0s - loss: 0.0218 - accuracy: 1.0000 - val_loss: 0.1143 - val_accuracy: 0.9333 - 59ms/epoch - 20ms/step\n",
            "Epoch 870/1000\n",
            "3/3 - 0s - loss: 0.0143 - accuracy: 1.0000 - val_loss: 0.1182 - val_accuracy: 0.9333 - 43ms/epoch - 14ms/step\n",
            "Epoch 871/1000\n",
            "3/3 - 0s - loss: 0.0302 - accuracy: 0.9889 - val_loss: 0.1294 - val_accuracy: 0.9333 - 62ms/epoch - 21ms/step\n",
            "Epoch 872/1000\n",
            "3/3 - 0s - loss: 0.1052 - accuracy: 0.9778 - val_loss: 0.1667 - val_accuracy: 0.9333 - 37ms/epoch - 12ms/step\n",
            "Epoch 873/1000\n",
            "3/3 - 0s - loss: 0.0131 - accuracy: 1.0000 - val_loss: 0.2053 - val_accuracy: 0.9333 - 42ms/epoch - 14ms/step\n",
            "Epoch 874/1000\n",
            "3/3 - 0s - loss: 0.0160 - accuracy: 0.9889 - val_loss: 0.2351 - val_accuracy: 0.9333 - 39ms/epoch - 13ms/step\n",
            "Epoch 875/1000\n",
            "3/3 - 0s - loss: 0.0080 - accuracy: 1.0000 - val_loss: 0.2529 - val_accuracy: 0.9333 - 57ms/epoch - 19ms/step\n",
            "Epoch 876/1000\n",
            "3/3 - 0s - loss: 0.0242 - accuracy: 1.0000 - val_loss: 0.2539 - val_accuracy: 0.9333 - 45ms/epoch - 15ms/step\n",
            "Epoch 877/1000\n",
            "3/3 - 0s - loss: 0.0288 - accuracy: 0.9889 - val_loss: 0.2273 - val_accuracy: 0.9333 - 47ms/epoch - 16ms/step\n",
            "Epoch 878/1000\n",
            "3/3 - 0s - loss: 0.0652 - accuracy: 0.9889 - val_loss: 0.2273 - val_accuracy: 0.9333 - 47ms/epoch - 16ms/step\n",
            "Epoch 879/1000\n",
            "3/3 - 0s - loss: 0.0272 - accuracy: 0.9889 - val_loss: 0.2196 - val_accuracy: 0.9333 - 41ms/epoch - 14ms/step\n",
            "Epoch 880/1000\n",
            "3/3 - 0s - loss: 0.0642 - accuracy: 0.9889 - val_loss: 0.2118 - val_accuracy: 0.9333 - 51ms/epoch - 17ms/step\n",
            "Epoch 881/1000\n",
            "3/3 - 0s - loss: 0.0265 - accuracy: 0.9889 - val_loss: 0.2170 - val_accuracy: 0.9333 - 42ms/epoch - 14ms/step\n",
            "Epoch 882/1000\n",
            "3/3 - 0s - loss: 0.0096 - accuracy: 1.0000 - val_loss: 0.2311 - val_accuracy: 0.9333 - 50ms/epoch - 17ms/step\n",
            "Epoch 883/1000\n",
            "3/3 - 0s - loss: 0.0335 - accuracy: 0.9778 - val_loss: 0.2287 - val_accuracy: 0.9333 - 44ms/epoch - 15ms/step\n",
            "Epoch 884/1000\n",
            "3/3 - 0s - loss: 0.0173 - accuracy: 0.9889 - val_loss: 0.1971 - val_accuracy: 0.9667 - 46ms/epoch - 15ms/step\n",
            "Epoch 885/1000\n",
            "3/3 - 0s - loss: 0.1241 - accuracy: 0.9667 - val_loss: 0.2097 - val_accuracy: 0.9667 - 43ms/epoch - 14ms/step\n",
            "Epoch 886/1000\n",
            "3/3 - 0s - loss: 0.0108 - accuracy: 1.0000 - val_loss: 0.3190 - val_accuracy: 0.9000 - 45ms/epoch - 15ms/step\n",
            "Epoch 887/1000\n",
            "3/3 - 0s - loss: 0.0181 - accuracy: 0.9889 - val_loss: 0.4155 - val_accuracy: 0.9000 - 41ms/epoch - 14ms/step\n",
            "Epoch 888/1000\n",
            "3/3 - 0s - loss: 0.0191 - accuracy: 1.0000 - val_loss: 0.4860 - val_accuracy: 0.9000 - 40ms/epoch - 13ms/step\n",
            "Epoch 889/1000\n",
            "3/3 - 0s - loss: 0.0450 - accuracy: 0.9778 - val_loss: 0.4785 - val_accuracy: 0.9000 - 39ms/epoch - 13ms/step\n",
            "Epoch 890/1000\n",
            "3/3 - 0s - loss: 0.0159 - accuracy: 1.0000 - val_loss: 0.3769 - val_accuracy: 0.9000 - 40ms/epoch - 13ms/step\n",
            "Epoch 891/1000\n",
            "3/3 - 0s - loss: 0.0387 - accuracy: 0.9778 - val_loss: 0.2991 - val_accuracy: 0.9000 - 40ms/epoch - 13ms/step\n",
            "Epoch 892/1000\n",
            "3/3 - 0s - loss: 0.0189 - accuracy: 1.0000 - val_loss: 0.2287 - val_accuracy: 0.9333 - 44ms/epoch - 15ms/step\n",
            "Epoch 893/1000\n",
            "3/3 - 0s - loss: 0.0243 - accuracy: 1.0000 - val_loss: 0.2047 - val_accuracy: 0.9333 - 39ms/epoch - 13ms/step\n",
            "Epoch 894/1000\n",
            "3/3 - 0s - loss: 0.0542 - accuracy: 0.9889 - val_loss: 0.2033 - val_accuracy: 0.9333 - 60ms/epoch - 20ms/step\n",
            "Epoch 895/1000\n",
            "3/3 - 0s - loss: 0.0104 - accuracy: 1.0000 - val_loss: 0.2197 - val_accuracy: 0.9333 - 40ms/epoch - 13ms/step\n",
            "Epoch 896/1000\n",
            "3/3 - 0s - loss: 0.0091 - accuracy: 1.0000 - val_loss: 0.2422 - val_accuracy: 0.9333 - 39ms/epoch - 13ms/step\n",
            "Epoch 897/1000\n",
            "3/3 - 0s - loss: 0.0129 - accuracy: 1.0000 - val_loss: 0.2533 - val_accuracy: 0.9000 - 43ms/epoch - 14ms/step\n",
            "Epoch 898/1000\n",
            "3/3 - 0s - loss: 0.0254 - accuracy: 0.9889 - val_loss: 0.2504 - val_accuracy: 0.9000 - 41ms/epoch - 14ms/step\n",
            "Epoch 899/1000\n",
            "3/3 - 0s - loss: 0.0291 - accuracy: 0.9778 - val_loss: 0.2284 - val_accuracy: 0.9333 - 50ms/epoch - 17ms/step\n",
            "Epoch 900/1000\n",
            "3/3 - 0s - loss: 0.1123 - accuracy: 0.9556 - val_loss: 0.1732 - val_accuracy: 0.9333 - 46ms/epoch - 15ms/step\n",
            "Epoch 901/1000\n",
            "3/3 - 0s - loss: 0.0247 - accuracy: 1.0000 - val_loss: 0.1075 - val_accuracy: 0.9333 - 47ms/epoch - 16ms/step\n",
            "Epoch 902/1000\n",
            "3/3 - 0s - loss: 0.0125 - accuracy: 1.0000 - val_loss: 0.0903 - val_accuracy: 0.9333 - 45ms/epoch - 15ms/step\n",
            "Epoch 903/1000\n",
            "3/3 - 0s - loss: 0.0527 - accuracy: 0.9778 - val_loss: 0.0827 - val_accuracy: 0.9667 - 57ms/epoch - 19ms/step\n",
            "Epoch 904/1000\n",
            "3/3 - 0s - loss: 0.0513 - accuracy: 0.9889 - val_loss: 0.0925 - val_accuracy: 0.9333 - 47ms/epoch - 16ms/step\n",
            "Epoch 905/1000\n",
            "3/3 - 0s - loss: 0.0540 - accuracy: 0.9778 - val_loss: 0.1155 - val_accuracy: 0.9333 - 43ms/epoch - 14ms/step\n",
            "Epoch 906/1000\n",
            "3/3 - 0s - loss: 0.0416 - accuracy: 1.0000 - val_loss: 0.1638 - val_accuracy: 0.9333 - 45ms/epoch - 15ms/step\n",
            "Epoch 907/1000\n",
            "3/3 - 0s - loss: 0.0188 - accuracy: 1.0000 - val_loss: 0.2089 - val_accuracy: 0.9333 - 48ms/epoch - 16ms/step\n",
            "Epoch 908/1000\n",
            "3/3 - 0s - loss: 0.0171 - accuracy: 1.0000 - val_loss: 0.2722 - val_accuracy: 0.8667 - 43ms/epoch - 14ms/step\n",
            "Epoch 909/1000\n",
            "3/3 - 0s - loss: 0.0082 - accuracy: 1.0000 - val_loss: 0.3316 - val_accuracy: 0.8667 - 45ms/epoch - 15ms/step\n",
            "Epoch 910/1000\n",
            "3/3 - 0s - loss: 0.0545 - accuracy: 0.9889 - val_loss: 0.3044 - val_accuracy: 0.8667 - 50ms/epoch - 17ms/step\n",
            "Epoch 911/1000\n",
            "3/3 - 0s - loss: 0.0075 - accuracy: 1.0000 - val_loss: 0.2114 - val_accuracy: 0.9333 - 44ms/epoch - 15ms/step\n",
            "Epoch 912/1000\n",
            "3/3 - 0s - loss: 0.0112 - accuracy: 1.0000 - val_loss: 0.1747 - val_accuracy: 0.9000 - 45ms/epoch - 15ms/step\n",
            "Epoch 913/1000\n",
            "3/3 - 0s - loss: 0.0222 - accuracy: 0.9889 - val_loss: 0.1650 - val_accuracy: 0.9333 - 43ms/epoch - 14ms/step\n",
            "Epoch 914/1000\n",
            "3/3 - 0s - loss: 0.0086 - accuracy: 1.0000 - val_loss: 0.1671 - val_accuracy: 0.9667 - 59ms/epoch - 20ms/step\n",
            "Epoch 915/1000\n",
            "3/3 - 0s - loss: 0.0177 - accuracy: 1.0000 - val_loss: 0.1567 - val_accuracy: 0.9667 - 46ms/epoch - 15ms/step\n",
            "Epoch 916/1000\n",
            "3/3 - 0s - loss: 0.0078 - accuracy: 1.0000 - val_loss: 0.1316 - val_accuracy: 0.9667 - 46ms/epoch - 15ms/step\n",
            "Epoch 917/1000\n",
            "3/3 - 0s - loss: 0.0100 - accuracy: 1.0000 - val_loss: 0.1130 - val_accuracy: 0.9667 - 43ms/epoch - 14ms/step\n",
            "Epoch 918/1000\n",
            "3/3 - 0s - loss: 0.0071 - accuracy: 1.0000 - val_loss: 0.0995 - val_accuracy: 0.9667 - 43ms/epoch - 14ms/step\n",
            "Epoch 919/1000\n",
            "3/3 - 0s - loss: 0.0072 - accuracy: 1.0000 - val_loss: 0.0849 - val_accuracy: 0.9667 - 66ms/epoch - 22ms/step\n",
            "Epoch 920/1000\n",
            "3/3 - 0s - loss: 0.0064 - accuracy: 1.0000 - val_loss: 0.0743 - val_accuracy: 0.9667 - 46ms/epoch - 15ms/step\n",
            "Epoch 921/1000\n",
            "3/3 - 0s - loss: 0.0090 - accuracy: 1.0000 - val_loss: 0.0643 - val_accuracy: 0.9667 - 43ms/epoch - 14ms/step\n",
            "Epoch 922/1000\n",
            "3/3 - 0s - loss: 0.0104 - accuracy: 1.0000 - val_loss: 0.0617 - val_accuracy: 0.9667 - 59ms/epoch - 20ms/step\n",
            "Epoch 923/1000\n",
            "3/3 - 0s - loss: 0.0073 - accuracy: 1.0000 - val_loss: 0.0529 - val_accuracy: 0.9667 - 42ms/epoch - 14ms/step\n",
            "Epoch 924/1000\n",
            "3/3 - 0s - loss: 0.0190 - accuracy: 0.9889 - val_loss: 0.0527 - val_accuracy: 0.9667 - 60ms/epoch - 20ms/step\n",
            "Epoch 925/1000\n",
            "3/3 - 0s - loss: 0.0058 - accuracy: 1.0000 - val_loss: 0.0637 - val_accuracy: 0.9667 - 46ms/epoch - 15ms/step\n",
            "Epoch 926/1000\n",
            "3/3 - 0s - loss: 0.0317 - accuracy: 0.9889 - val_loss: 0.0799 - val_accuracy: 0.9667 - 44ms/epoch - 15ms/step\n",
            "Epoch 927/1000\n",
            "3/3 - 0s - loss: 0.0707 - accuracy: 0.9778 - val_loss: 0.0960 - val_accuracy: 0.9333 - 43ms/epoch - 14ms/step\n",
            "Epoch 928/1000\n",
            "3/3 - 0s - loss: 0.0240 - accuracy: 0.9889 - val_loss: 0.1023 - val_accuracy: 0.9333 - 42ms/epoch - 14ms/step\n",
            "Epoch 929/1000\n",
            "3/3 - 0s - loss: 0.0400 - accuracy: 0.9889 - val_loss: 0.0897 - val_accuracy: 0.9667 - 48ms/epoch - 16ms/step\n",
            "Epoch 930/1000\n",
            "3/3 - 0s - loss: 0.0123 - accuracy: 1.0000 - val_loss: 0.0412 - val_accuracy: 0.9667 - 46ms/epoch - 15ms/step\n",
            "Epoch 931/1000\n",
            "3/3 - 0s - loss: 0.0346 - accuracy: 0.9889 - val_loss: 0.0219 - val_accuracy: 1.0000 - 43ms/epoch - 14ms/step\n",
            "Epoch 932/1000\n",
            "3/3 - 0s - loss: 0.0490 - accuracy: 0.9889 - val_loss: 0.0160 - val_accuracy: 1.0000 - 43ms/epoch - 14ms/step\n",
            "Epoch 933/1000\n",
            "3/3 - 0s - loss: 0.0205 - accuracy: 0.9889 - val_loss: 0.0280 - val_accuracy: 1.0000 - 51ms/epoch - 17ms/step\n",
            "Epoch 934/1000\n",
            "3/3 - 0s - loss: 0.0172 - accuracy: 1.0000 - val_loss: 0.1485 - val_accuracy: 0.9000 - 54ms/epoch - 18ms/step\n",
            "Epoch 935/1000\n",
            "3/3 - 0s - loss: 0.0064 - accuracy: 1.0000 - val_loss: 0.3507 - val_accuracy: 0.8667 - 49ms/epoch - 16ms/step\n",
            "Epoch 936/1000\n",
            "3/3 - 0s - loss: 0.0760 - accuracy: 0.9778 - val_loss: 0.5008 - val_accuracy: 0.8667 - 49ms/epoch - 16ms/step\n",
            "Epoch 937/1000\n",
            "3/3 - 0s - loss: 0.0120 - accuracy: 1.0000 - val_loss: 0.5917 - val_accuracy: 0.8667 - 53ms/epoch - 18ms/step\n",
            "Epoch 938/1000\n",
            "3/3 - 0s - loss: 0.0718 - accuracy: 0.9889 - val_loss: 0.5684 - val_accuracy: 0.8000 - 50ms/epoch - 17ms/step\n",
            "Epoch 939/1000\n",
            "3/3 - 0s - loss: 0.0790 - accuracy: 0.9778 - val_loss: 0.4660 - val_accuracy: 0.9000 - 59ms/epoch - 20ms/step\n",
            "Epoch 940/1000\n",
            "3/3 - 0s - loss: 0.0211 - accuracy: 1.0000 - val_loss: 0.2969 - val_accuracy: 0.9000 - 60ms/epoch - 20ms/step\n",
            "Epoch 941/1000\n",
            "3/3 - 0s - loss: 0.0117 - accuracy: 1.0000 - val_loss: 0.2137 - val_accuracy: 0.9333 - 54ms/epoch - 18ms/step\n",
            "Epoch 942/1000\n",
            "3/3 - 0s - loss: 0.0099 - accuracy: 1.0000 - val_loss: 0.1725 - val_accuracy: 0.9333 - 51ms/epoch - 17ms/step\n",
            "Epoch 943/1000\n",
            "3/3 - 0s - loss: 0.0412 - accuracy: 0.9889 - val_loss: 0.1700 - val_accuracy: 0.9000 - 48ms/epoch - 16ms/step\n",
            "Epoch 944/1000\n",
            "3/3 - 0s - loss: 0.0187 - accuracy: 1.0000 - val_loss: 0.1536 - val_accuracy: 0.9000 - 45ms/epoch - 15ms/step\n",
            "Epoch 945/1000\n",
            "3/3 - 0s - loss: 0.0144 - accuracy: 1.0000 - val_loss: 0.1535 - val_accuracy: 0.9333 - 41ms/epoch - 14ms/step\n",
            "Epoch 946/1000\n",
            "3/3 - 0s - loss: 0.0169 - accuracy: 1.0000 - val_loss: 0.1704 - val_accuracy: 0.9333 - 44ms/epoch - 15ms/step\n",
            "Epoch 947/1000\n",
            "3/3 - 0s - loss: 0.0357 - accuracy: 0.9889 - val_loss: 0.1399 - val_accuracy: 0.9000 - 46ms/epoch - 15ms/step\n",
            "Epoch 948/1000\n",
            "3/3 - 0s - loss: 0.0246 - accuracy: 1.0000 - val_loss: 0.0661 - val_accuracy: 0.9667 - 43ms/epoch - 14ms/step\n",
            "Epoch 949/1000\n",
            "3/3 - 0s - loss: 0.0498 - accuracy: 0.9778 - val_loss: 0.0652 - val_accuracy: 0.9667 - 46ms/epoch - 15ms/step\n",
            "Epoch 950/1000\n",
            "3/3 - 0s - loss: 0.0347 - accuracy: 0.9778 - val_loss: 0.1661 - val_accuracy: 0.9333 - 49ms/epoch - 16ms/step\n",
            "Epoch 951/1000\n",
            "3/3 - 0s - loss: 0.0852 - accuracy: 0.9556 - val_loss: 0.2669 - val_accuracy: 0.8333 - 42ms/epoch - 14ms/step\n",
            "Epoch 952/1000\n",
            "3/3 - 0s - loss: 0.1064 - accuracy: 0.9889 - val_loss: 0.3843 - val_accuracy: 0.9000 - 49ms/epoch - 16ms/step\n",
            "Epoch 953/1000\n",
            "3/3 - 0s - loss: 0.0494 - accuracy: 0.9889 - val_loss: 0.4300 - val_accuracy: 0.9000 - 56ms/epoch - 19ms/step\n",
            "Epoch 954/1000\n",
            "3/3 - 0s - loss: 0.0127 - accuracy: 1.0000 - val_loss: 0.4512 - val_accuracy: 0.9000 - 56ms/epoch - 19ms/step\n",
            "Epoch 955/1000\n",
            "3/3 - 0s - loss: 0.0293 - accuracy: 0.9778 - val_loss: 0.3846 - val_accuracy: 0.8667 - 76ms/epoch - 25ms/step\n",
            "Epoch 956/1000\n",
            "3/3 - 0s - loss: 0.0769 - accuracy: 0.9667 - val_loss: 0.3839 - val_accuracy: 0.9000 - 44ms/epoch - 15ms/step\n",
            "Epoch 957/1000\n",
            "3/3 - 0s - loss: 0.0315 - accuracy: 0.9889 - val_loss: 0.5068 - val_accuracy: 0.9000 - 45ms/epoch - 15ms/step\n",
            "Epoch 958/1000\n",
            "3/3 - 0s - loss: 0.0198 - accuracy: 1.0000 - val_loss: 0.6031 - val_accuracy: 0.8667 - 46ms/epoch - 15ms/step\n",
            "Epoch 959/1000\n",
            "3/3 - 0s - loss: 0.0408 - accuracy: 0.9889 - val_loss: 0.6215 - val_accuracy: 0.8667 - 55ms/epoch - 18ms/step\n",
            "Epoch 960/1000\n",
            "3/3 - 0s - loss: 0.0595 - accuracy: 0.9889 - val_loss: 0.5640 - val_accuracy: 0.8667 - 64ms/epoch - 21ms/step\n",
            "Epoch 961/1000\n",
            "3/3 - 0s - loss: 0.0250 - accuracy: 1.0000 - val_loss: 0.5070 - val_accuracy: 0.9000 - 40ms/epoch - 13ms/step\n",
            "Epoch 962/1000\n",
            "3/3 - 0s - loss: 0.0748 - accuracy: 0.9889 - val_loss: 0.4776 - val_accuracy: 0.9000 - 59ms/epoch - 20ms/step\n",
            "Epoch 963/1000\n",
            "3/3 - 0s - loss: 0.0272 - accuracy: 1.0000 - val_loss: 0.4522 - val_accuracy: 0.9000 - 44ms/epoch - 15ms/step\n",
            "Epoch 964/1000\n",
            "3/3 - 0s - loss: 0.0289 - accuracy: 0.9889 - val_loss: 0.4343 - val_accuracy: 0.9000 - 51ms/epoch - 17ms/step\n",
            "Epoch 965/1000\n",
            "3/3 - 0s - loss: 0.0191 - accuracy: 0.9889 - val_loss: 0.4162 - val_accuracy: 0.9000 - 44ms/epoch - 15ms/step\n",
            "Epoch 966/1000\n",
            "3/3 - 0s - loss: 0.0147 - accuracy: 1.0000 - val_loss: 0.3960 - val_accuracy: 0.9000 - 47ms/epoch - 16ms/step\n",
            "Epoch 967/1000\n",
            "3/3 - 0s - loss: 0.0580 - accuracy: 0.9889 - val_loss: 0.3779 - val_accuracy: 0.9000 - 42ms/epoch - 14ms/step\n",
            "Epoch 968/1000\n",
            "3/3 - 0s - loss: 0.0304 - accuracy: 0.9778 - val_loss: 0.3486 - val_accuracy: 0.9000 - 44ms/epoch - 15ms/step\n",
            "Epoch 969/1000\n",
            "3/3 - 0s - loss: 0.0521 - accuracy: 0.9778 - val_loss: 0.3073 - val_accuracy: 0.9000 - 47ms/epoch - 16ms/step\n",
            "Epoch 970/1000\n",
            "3/3 - 0s - loss: 0.0275 - accuracy: 1.0000 - val_loss: 0.2664 - val_accuracy: 0.9000 - 44ms/epoch - 15ms/step\n",
            "Epoch 971/1000\n",
            "3/3 - 0s - loss: 0.0096 - accuracy: 1.0000 - val_loss: 0.2319 - val_accuracy: 0.9000 - 61ms/epoch - 20ms/step\n",
            "Epoch 972/1000\n",
            "3/3 - 0s - loss: 0.0150 - accuracy: 1.0000 - val_loss: 0.2065 - val_accuracy: 0.9333 - 43ms/epoch - 14ms/step\n",
            "Epoch 973/1000\n",
            "3/3 - 0s - loss: 0.0123 - accuracy: 1.0000 - val_loss: 0.1784 - val_accuracy: 0.9333 - 43ms/epoch - 14ms/step\n",
            "Epoch 974/1000\n",
            "3/3 - 0s - loss: 0.0184 - accuracy: 1.0000 - val_loss: 0.1728 - val_accuracy: 0.9333 - 46ms/epoch - 15ms/step\n",
            "Epoch 975/1000\n",
            "3/3 - 0s - loss: 0.0113 - accuracy: 1.0000 - val_loss: 0.1920 - val_accuracy: 0.9333 - 49ms/epoch - 16ms/step\n",
            "Epoch 976/1000\n",
            "3/3 - 0s - loss: 0.0097 - accuracy: 1.0000 - val_loss: 0.2100 - val_accuracy: 0.9333 - 41ms/epoch - 14ms/step\n",
            "Epoch 977/1000\n",
            "3/3 - 0s - loss: 0.0173 - accuracy: 1.0000 - val_loss: 0.1968 - val_accuracy: 0.9333 - 38ms/epoch - 13ms/step\n",
            "Epoch 978/1000\n",
            "3/3 - 0s - loss: 0.0158 - accuracy: 1.0000 - val_loss: 0.1336 - val_accuracy: 0.9333 - 56ms/epoch - 19ms/step\n",
            "Epoch 979/1000\n",
            "3/3 - 0s - loss: 0.0127 - accuracy: 1.0000 - val_loss: 0.0981 - val_accuracy: 0.9333 - 41ms/epoch - 14ms/step\n",
            "Epoch 980/1000\n",
            "3/3 - 0s - loss: 0.0097 - accuracy: 1.0000 - val_loss: 0.0809 - val_accuracy: 0.9333 - 49ms/epoch - 16ms/step\n",
            "Epoch 981/1000\n",
            "3/3 - 0s - loss: 0.0711 - accuracy: 0.9667 - val_loss: 0.0581 - val_accuracy: 0.9667 - 44ms/epoch - 15ms/step\n",
            "Epoch 982/1000\n",
            "3/3 - 0s - loss: 0.0072 - accuracy: 1.0000 - val_loss: 0.0278 - val_accuracy: 1.0000 - 45ms/epoch - 15ms/step\n",
            "Epoch 983/1000\n",
            "3/3 - 0s - loss: 0.0064 - accuracy: 1.0000 - val_loss: 0.0153 - val_accuracy: 1.0000 - 41ms/epoch - 14ms/step\n",
            "Epoch 984/1000\n",
            "3/3 - 0s - loss: 0.0151 - accuracy: 1.0000 - val_loss: 0.0119 - val_accuracy: 1.0000 - 48ms/epoch - 16ms/step\n",
            "Epoch 985/1000\n",
            "3/3 - 0s - loss: 0.0161 - accuracy: 1.0000 - val_loss: 0.0118 - val_accuracy: 1.0000 - 42ms/epoch - 14ms/step\n",
            "Epoch 986/1000\n",
            "3/3 - 0s - loss: 0.0137 - accuracy: 1.0000 - val_loss: 0.0112 - val_accuracy: 1.0000 - 42ms/epoch - 14ms/step\n",
            "Epoch 987/1000\n",
            "3/3 - 0s - loss: 0.0085 - accuracy: 1.0000 - val_loss: 0.0153 - val_accuracy: 1.0000 - 44ms/epoch - 15ms/step\n",
            "Epoch 988/1000\n",
            "3/3 - 0s - loss: 0.0145 - accuracy: 1.0000 - val_loss: 0.0287 - val_accuracy: 1.0000 - 43ms/epoch - 14ms/step\n",
            "Epoch 989/1000\n",
            "3/3 - 0s - loss: 0.0082 - accuracy: 1.0000 - val_loss: 0.0912 - val_accuracy: 0.9667 - 45ms/epoch - 15ms/step\n",
            "Epoch 990/1000\n",
            "3/3 - 0s - loss: 0.0072 - accuracy: 1.0000 - val_loss: 0.1553 - val_accuracy: 0.9000 - 49ms/epoch - 16ms/step\n",
            "Epoch 991/1000\n",
            "3/3 - 0s - loss: 0.0127 - accuracy: 0.9889 - val_loss: 0.2429 - val_accuracy: 0.9000 - 45ms/epoch - 15ms/step\n",
            "Epoch 992/1000\n",
            "3/3 - 0s - loss: 0.0144 - accuracy: 1.0000 - val_loss: 0.3167 - val_accuracy: 0.9000 - 54ms/epoch - 18ms/step\n",
            "Epoch 993/1000\n",
            "3/3 - 0s - loss: 0.0174 - accuracy: 1.0000 - val_loss: 0.3194 - val_accuracy: 0.9000 - 53ms/epoch - 18ms/step\n",
            "Epoch 994/1000\n",
            "3/3 - 0s - loss: 0.0227 - accuracy: 0.9889 - val_loss: 0.3328 - val_accuracy: 0.9333 - 50ms/epoch - 17ms/step\n",
            "Epoch 995/1000\n",
            "3/3 - 0s - loss: 0.0242 - accuracy: 0.9889 - val_loss: 0.3558 - val_accuracy: 0.9333 - 51ms/epoch - 17ms/step\n",
            "Epoch 996/1000\n",
            "3/3 - 0s - loss: 0.0407 - accuracy: 0.9889 - val_loss: 0.1990 - val_accuracy: 0.9333 - 51ms/epoch - 17ms/step\n",
            "Epoch 997/1000\n",
            "3/3 - 0s - loss: 0.0111 - accuracy: 1.0000 - val_loss: 0.0255 - val_accuracy: 0.9667 - 47ms/epoch - 16ms/step\n",
            "Epoch 998/1000\n",
            "3/3 - 0s - loss: 0.0084 - accuracy: 1.0000 - val_loss: 0.0659 - val_accuracy: 0.9667 - 50ms/epoch - 17ms/step\n",
            "Epoch 999/1000\n",
            "3/3 - 0s - loss: 0.0253 - accuracy: 0.9889 - val_loss: 0.1066 - val_accuracy: 0.9667 - 50ms/epoch - 17ms/step\n",
            "Epoch 1000/1000\n",
            "3/3 - 0s - loss: 0.0147 - accuracy: 0.9889 - val_loss: 0.1281 - val_accuracy: 0.9667 - 50ms/epoch - 17ms/step\n"
          ]
        }
      ],
      "source": [
        "# 모델 훈련\n",
        "\n",
        "model2.compile(\n",
        "    optimizer='adam',\n",
        "    loss='categorical_crossentropy',\n",
        "    metrics=['accuracy']\n",
        ")\n",
        "\n",
        "history2 = model2.fit(\n",
        "    X_train,\n",
        "    y_train,\n",
        "    epochs=1000,\n",
        "    validation_split=0.25,\n",
        "    batch_size=40,\n",
        "    verbose=2\n",
        ")"
      ]
    },
    {
      "cell_type": "code",
      "execution_count": 15,
      "id": "acbbedd6",
      "metadata": {
        "colab": {
          "base_uri": "https://localhost:8080/",
          "height": 279
        },
        "id": "acbbedd6",
        "outputId": "4db4d26b-8a98-409f-9a8e-835794a2e4b6"
      },
      "outputs": [
        {
          "data": {
            "image/png": "[encoded data removed]",
            "text/plain": [
              "<Figure size 432x288 with 2 Axes>"
            ]
          },
          "metadata": {
            "needs_background": "light"
          },
          "output_type": "display_data"
        }
      ],
      "source": [
        "# 훈련 결과 시각화\n",
        "\n",
        "%matplotlib inline\n",
        "import matplotlib.pyplot as plt\n",
        "\n",
        "fig, loss_ax = plt.subplots()\n",
        "acc_ax = loss_ax.twinx()\n",
        "loss_ax.plot(history2.history['loss'], 'y', label='train loss')\n",
        "loss_ax.plot(history2.history['val_loss'], 'r', label='val loss')\n",
        "acc_ax.plot(history2.history['accuracy'], 'b', label='train acc')\n",
        "acc_ax.plot(history2.history['val_accuracy'], 'g', label='val acc')\n",
        "\n",
        "loss_ax.set_xlabel('epoch')\n",
        "loss_ax.set_ylabel('loss')\n",
        "acc_ax.set_ylabel('accuracy')\n",
        "\n",
        "loss_ax.legend(loc='lower right')\n",
        "acc_ax.legend(loc='upper right')\n",
        "plt.show()"
      ]
    },
    {
      "cell_type": "code",
      "execution_count": 16,
      "id": "992b8637",
      "metadata": {
        "colab": {
          "base_uri": "https://localhost:8080/"
        },
        "id": "992b8637",
        "outputId": "950fa5db-8e60-4c70-a90c-b5dd72cae2ad"
      },
      "outputs": [
        {
          "name": "stdout",
          "output_type": "stream",
          "text": [
            "1/1 [==============================] - 0s 21ms/step - loss: 0.8238 - accuracy: 0.8667\n",
            "## 손실과 정확도 평가 ##\n",
            "[0.8238182067871094, 0.8666666746139526]\n"
          ]
        }
      ],
      "source": [
        "# 정확도와 손실 정보 표현\n",
        "\n",
        "loss_and_metrics = model2.evaluate(X_test, y_test)\n",
        "print('## 손실과 정확도 평가 ##')\n",
        "print(loss_and_metrics)"
      ]
    },
    {
      "cell_type": "markdown",
      "id": "c122f0e7",
      "metadata": {
        "id": "c122f0e7"
      },
      "source": [
        "## 8.3.2 Dropout을 이용한 성능 최적화"
      ]
    },
    {
      "cell_type": "code",
      "execution_count": 17,
      "id": "d432c1ab",
      "metadata": {
        "colab": {
          "base_uri": "https://localhost:8080/"
        },
        "id": "d432c1ab",
        "outputId": "1ff6b2f5-b8cf-4c5e-a66a-1608b7631e7b"
      },
      "outputs": [
        {
          "name": "stdout",
          "output_type": "stream",
          "text": [
            "Requirement already satisfied: tensorflow_datasets in /usr/local/lib/python3.7/dist-packages (4.0.1)\n",
            "Requirement already satisfied: dm-tree in /usr/local/lib/python3.7/dist-packages (from tensorflow_datasets) (0.1.7)\n",
            "Requirement already satisfied: future in /usr/local/lib/python3.7/dist-packages (from tensorflow_datasets) (0.16.0)\n",
            "Requirement already satisfied: requests>=2.19.0 in /usr/local/lib/python3.7/dist-packages (from tensorflow_datasets) (2.23.0)\n",
            "Requirement already satisfied: numpy in /usr/local/lib/python3.7/dist-packages (from tensorflow_datasets) (1.21.6)\n",
            "Requirement already satisfied: six in /usr/local/lib/python3.7/dist-packages (from tensorflow_datasets) (1.15.0)\n",
            "Requirement already satisfied: tensorflow-metadata in /usr/local/lib/python3.7/dist-packages (from tensorflow_datasets) (1.7.0)\n",
            "Requirement already satisfied: protobuf>=3.6.1 in /usr/local/lib/python3.7/dist-packages (from tensorflow_datasets) (3.17.3)\n",
            "Requirement already satisfied: importlib-resources in /usr/local/lib/python3.7/dist-packages (from tensorflow_datasets) (5.7.1)\n",
            "Requirement already satisfied: dill in /usr/local/lib/python3.7/dist-packages (from tensorflow_datasets) (0.3.4)\n",
            "Requirement already satisfied: termcolor in /usr/local/lib/python3.7/dist-packages (from tensorflow_datasets) (1.1.0)\n",
            "Requirement already satisfied: tqdm in /usr/local/lib/python3.7/dist-packages (from tensorflow_datasets) (4.64.0)\n",
            "Requirement already satisfied: absl-py in /usr/local/lib/python3.7/dist-packages (from tensorflow_datasets) (1.0.0)\n",
            "Requirement already satisfied: attrs>=18.1.0 in /usr/local/lib/python3.7/dist-packages (from tensorflow_datasets) (21.4.0)\n",
            "Requirement already satisfied: promise in /usr/local/lib/python3.7/dist-packages (from tensorflow_datasets) (2.3)\n",
            "Requirement already satisfied: urllib3!=1.25.0,!=1.25.1,<1.26,>=1.21.1 in /usr/local/lib/python3.7/dist-packages (from requests>=2.19.0->tensorflow_datasets) (1.24.3)\n",
            "Requirement already satisfied: chardet<4,>=3.0.2 in /usr/local/lib/python3.7/dist-packages (from requests>=2.19.0->tensorflow_datasets) (3.0.4)\n",
            "Requirement already satisfied: idna<3,>=2.5 in /usr/local/lib/python3.7/dist-packages (from requests>=2.19.0->tensorflow_datasets) (2.10)\n",
            "Requirement already satisfied: certifi>=2017.4.17 in /usr/local/lib/python3.7/dist-packages (from requests>=2.19.0->tensorflow_datasets) (2021.10.8)\n",
            "Requirement already satisfied: zipp>=3.1.0 in /usr/local/lib/python3.7/dist-packages (from importlib-resources->tensorflow_datasets) (3.8.0)\n",
            "Requirement already satisfied: googleapis-common-protos<2,>=1.52.0 in /usr/local/lib/python3.7/dist-packages (from tensorflow-metadata->tensorflow_datasets) (1.56.0)\n"
          ]
        }
      ],
      "source": [
        "!pip install tensorflow_datasets"
      ]
    },
    {
      "cell_type": "code",
      "execution_count": 18,
      "id": "0df3c107",
      "metadata": {
        "id": "0df3c107"
      },
      "outputs": [],
      "source": [
        "# 라이브러리 호출\n",
        "\n",
        "import tensorflow_datasets as tfds\n",
        "import tensorflow as tf"
      ]
    },
    {
      "cell_type": "code",
      "execution_count": 19,
      "id": "4423c339",
      "metadata": {
        "colab": {
          "base_uri": "https://localhost:8080/",
          "height": 350,
          "referenced_widgets": [
            "0483bb1219664c53a4b08951bdbad4f3",
            "2389178df14e4c38922b0bc15156803b",
            "bc7cc93135f74862a0faf1978957fbab",
            "3bbdc84048f74b7c9cceb90fdeaa7d53",
            "fa02ee287bdf482a9945fce823acf5e4",
            "0d5ef585fcd0463ebb18830a9cac3054",
            "73f3e233e5b7400aa85678b96021d0a4",
            "7a83c9130cb7486ab6f1f37f7e9028d7",
            "a2226574a16a48428a68a20d11d5b0b2",
            "40614e85a8e74f1388caac0b828d9989",
            "36b6aaab2b6d483a83dbc7937eb33ff5",
            "82c1fc47572346ba9ef8ec28863cb269",
            "05ccc416dad9450da5a644eaf0e1fb78",
            "080876001c444bec8ba7f15f229b6255",
            "005a78d7676642beb9c1573cae568dc6",
            "d9e07082a2bc4becb4b58b19f9d2f58c",
            "fc808c0aa01f4141a6a1275d449c7434",
            "cc30aea7404142388a76c31fcb17a947",
            "b2a8449484f5419785fae98e260ee10b",
            "9828c972b0374a51a56e587937dda6e5",
            "7d053abcf5bb4e88b49eec2c025e3877",
            "40068dbfe1df4ae79675db5467e19c19",
            "98c6dda4dd2947feb05461d875313eef",
            "fc18b3a21516441d8b9adcba1465a55f",
            "6879de7e32aa4e3b8c15448889b06d0f",
            "f9b82c4546c94ac7a00599d8ac0c98cf",
            "1c00d8e6777246d3bae9c32e166872ff",
            "ac662a8cd799492ca126a546a8862473",
            "d2936ba814ac4c77b99de425e0f185f9",
            "25eec44accb842bab4a022af0feafa1b",
            "a45e11e5496d443d8648f9ea2185b69e",
            "db35d6e01e4740babc6a5b701b85eb6c",
            "143cec69e4ed43e58c37b29a4cfbdc0b",
            "96d2c3bffa8343318602dee39a5c6dcb",
            "d39c2ae69a2349198def2fa9cb0fd5ad",
            "01efe180eb404d1b829c59de9c094f20",
            "2cf2f432bb504de88cf2cf10dc1e5bf1",
            "3dc3227268c1423780a9f840dc9201d2",
            "3dbb647fdcb246b49e3cae8506cca3a4",
            "a5f839bb9aca407b9065036a15c66511",
            "85cf79b16e3a41b5b4798f61baacfbdd",
            "322d4df10fd64754a8b5c60166a31ab3",
            "6d4f85bbbfdf447890ffd8560dc0fc03",
            "3529928a20964a00b6833f7cd67365e5",
            "77317340d05d4ca6bc6a3319b441530e",
            "ebb8a36ff67a4b4ca0e3658751ae40dd",
            "b2c54e2c66cb45fba2d692049d2f024e",
            "8f629475c2554569957a85c9e2082cd7",
            "e649180052294196ac67911cba325ef1",
            "02757c8e403c4043b7a79db2c8799c32",
            "6a648135a8ab455cbb0cd2cb76fc11ae",
            "6c85fd6a34f74e0ca59056661e38c21b",
            "0f0b52323e074a6d81bce13a4884569c",
            "b6227a287f924086a53dfa0c699117c5",
            "4993a4d7487a47e4ba5d78f01b821764",
            "58d139f113bd4258baa544b89abe7825",
            "9693f7f641284d0f8003f28421a877d3",
            "93a13003b5984bef9912572ad1636b14",
            "64c4d7c3510e4fceb3ff54adcd977374",
            "1e87f4e8c6304cc9ad44e3686b329cde",
            "e0e5fef743de4cb98f83f0ad71223436",
            "b48b7373b52a489ea0c6436dbb5c936d",
            "4084a09e03be4718beac5b1fdb64fc2f",
            "ed311d78e85f4ad29eb77779d36d3d84",
            "c4e6e106538b40809dbba6616f3ed6e6",
            "05c0b97dd4774fc09ec7b0d7be7eadef",
            "5813f8a7aed94c4b9313b02072b9a646",
            "100c02f1e85c41e784142ced56fb094b",
            "2be11c1125ec4a8fa1db33589e5a4548",
            "daa0465c94574f25835262ee89ba158c",
            "f1ac87e80735401db9afce26de371e21",
            "2505e02e7a954877a6fc160ed6c265dd",
            "2a09bdd479944f8d918ef923eb423ae2",
            "a06f9042d9db45beb9581c8ae74d1e9a",
            "d57effc5a4bf4fb2becfaf9ec26b86fa",
            "dcd5c62e87644224ba3835042c70cfbe",
            "8cf6aa8f4600418fb66f52ba577432ba",
            "16436c57a71846c6904bd409cecf2e1d",
            "82f02becdb674e8e9ac254eee9649ea5",
            "fd1bb4b1ede54ef88d4fda318a95cd2d",
            "3c995e0d86c64ede9093c8e8371da268",
            "3af900ba407e4ae9bb1941274c72cfd2",
            "bb707b2925044e1badc778f2cab675fc",
            "68b4a770738745aa91a2f95d5a5d1ed9",
            "60e6387f564a42729eaa2e1f5795a153",
            "fc08314a9dd841e6b64d83ed496ea25b",
            "9ad4588fa7dc41f4aa8f7c51ea2474b9",
            "94433b7ae57c4e0ebf9e4dde553d9660"
          ]
        },
        "id": "4423c339",
        "outputId": "cffcd1c3-fd37-40e2-ccf4-55b8bde6d0f7"
      },
      "outputs": [
        {
          "name": "stderr",
          "output_type": "stream",
          "text": [
            "WARNING:absl:TFDS datasets with text encoding are deprecated and will be removed in a future version. Instead, you should use the plain text version and tokenize the text using `tensorflow_text` (See: https://www.tensorflow.org/tutorials/tensorflow_text/intro#tfdata_example)\n"
          ]
        },
        {
          "name": "stdout",
          "output_type": "stream",
          "text": [
            "\u001b[1mDownloading and preparing dataset imdb_reviews/subwords8k/1.0.0 (download: 80.23 MiB, generated: Unknown size, total: 80.23 MiB) to /root/tensorflow_datasets/imdb_reviews/subwords8k/1.0.0...\u001b[0m\n"
          ]
        },
        {
          "data": {
            "application/vnd.jupyter.widget-view+json": {
              "model_id": "0483bb1219664c53a4b08951bdbad4f3",
              "version_major": 2,
              "version_minor": 0
            },
            "text/plain": [
              "Dl Completed...: 0 url [00:00, ? url/s]"
            ]
          },
          "metadata": {},
          "output_type": "display_data"
        },
        {
          "data": {
            "application/vnd.jupyter.widget-view+json": {
              "model_id": "82c1fc47572346ba9ef8ec28863cb269",
              "version_major": 2,
              "version_minor": 0
            },
            "text/plain": [
              "Dl Size...: 0 MiB [00:00, ? MiB/s]"
            ]
          },
          "metadata": {},
          "output_type": "display_data"
        },
        {
          "name": "stdout",
          "output_type": "stream",
          "text": [
            "\n",
            "\n"
          ]
        },
        {
          "data": {
            "application/vnd.jupyter.widget-view+json": {
              "model_id": "98c6dda4dd2947feb05461d875313eef",
              "version_major": 2,
              "version_minor": 0
            },
            "text/plain": [
              "0 examples [00:00, ? examples/s]"
            ]
          },
          "metadata": {},
          "output_type": "display_data"
        },
        {
          "name": "stdout",
          "output_type": "stream",
          "text": [
            "Shuffling and writing examples to /root/tensorflow_datasets/imdb_reviews/subwords8k/1.0.0.incomplete3XCHQ5/imdb_reviews-train.tfrecord\n"
          ]
        },
        {
          "data": {
            "application/vnd.jupyter.widget-view+json": {
              "model_id": "96d2c3bffa8343318602dee39a5c6dcb",
              "version_major": 2,
              "version_minor": 0
            },
            "text/plain": [
              "  0%|          | 0/25000 [00:00<?, ? examples/s]"
            ]
          },
          "metadata": {},
          "output_type": "display_data"
        },
        {
          "data": {
            "application/vnd.jupyter.widget-view+json": {
              "model_id": "77317340d05d4ca6bc6a3319b441530e",
              "version_major": 2,
              "version_minor": 0
            },
            "text/plain": [
              "0 examples [00:00, ? examples/s]"
            ]
          },
          "metadata": {},
          "output_type": "display_data"
        },
        {
          "name": "stdout",
          "output_type": "stream",
          "text": [
            "Shuffling and writing examples to /root/tensorflow_datasets/imdb_reviews/subwords8k/1.0.0.incomplete3XCHQ5/imdb_reviews-test.tfrecord\n"
          ]
        },
        {
          "data": {
            "application/vnd.jupyter.widget-view+json": {
              "model_id": "58d139f113bd4258baa544b89abe7825",
              "version_major": 2,
              "version_minor": 0
            },
            "text/plain": [
              "  0%|          | 0/25000 [00:00<?, ? examples/s]"
            ]
          },
          "metadata": {},
          "output_type": "display_data"
        },
        {
          "data": {
            "application/vnd.jupyter.widget-view+json": {
              "model_id": "5813f8a7aed94c4b9313b02072b9a646",
              "version_major": 2,
              "version_minor": 0
            },
            "text/plain": [
              "0 examples [00:00, ? examples/s]"
            ]
          },
          "metadata": {},
          "output_type": "display_data"
        },
        {
          "name": "stdout",
          "output_type": "stream",
          "text": [
            "Shuffling and writing examples to /root/tensorflow_datasets/imdb_reviews/subwords8k/1.0.0.incomplete3XCHQ5/imdb_reviews-unsupervised.tfrecord\n"
          ]
        },
        {
          "data": {
            "application/vnd.jupyter.widget-view+json": {
              "model_id": "16436c57a71846c6904bd409cecf2e1d",
              "version_major": 2,
              "version_minor": 0
            },
            "text/plain": [
              "  0%|          | 0/50000 [00:00<?, ? examples/s]"
            ]
          },
          "metadata": {},
          "output_type": "display_data"
        },
        {
          "name": "stderr",
          "output_type": "stream",
          "text": [
            "WARNING:absl:Dataset is using deprecated text encoder API which will be removed soon. Please use the plain_text version of the dataset and migrate to `tensorflow_text`.\n"
          ]
        },
        {
          "name": "stdout",
          "output_type": "stream",
          "text": [
            "\u001b[1mDataset imdb_reviews downloaded and prepared to /root/tensorflow_datasets/imdb_reviews/subwords8k/1.0.0. Subsequent calls will reuse this data.\u001b[0m\n"
          ]
        }
      ],
      "source": [
        "# 데이터셋 내려받기\n",
        "\n",
        "(train_data, test_data), info = tfds.load(\n",
        "    'imdb_reviews/subwords8k',\n",
        "    split = (tfds.Split.TRAIN, tfds.Split.TEST),\n",
        "    with_info=True, as_supervised=True)\n",
        "\n",
        "padded_shapes = ([None], ())\n",
        "train_batches = train_data.shuffle(1000).padded_batch(10, padded_shapes=padded_shapes)\n",
        "test_batches = test_data.shuffle(1000).padded_batch(10, padded_shapes=padded_shapes)"
      ]
    },
    {
      "cell_type": "code",
      "execution_count": 20,
      "id": "9dd6d0e5",
      "metadata": {
        "colab": {
          "base_uri": "https://localhost:8080/"
        },
        "id": "9dd6d0e5",
        "outputId": "49513f3b-75f9-4bad-90e6-cc50116c8691"
      },
      "outputs": [
        {
          "data": {
            "text/plain": [
              "array([[ 133,  461, 3807, ...,    0,    0,    0],\n",
              "       [3654,  350, 1875, ...,    0,    0,    0],\n",
              "       [3852, 5496, 8051, ...,    0,    0,    0],\n",
              "       ...,\n",
              "       [6989, 7961,  131, ...,    0,    0,    0],\n",
              "       [  19,  750, 4079, ...,    0,    0,    0],\n",
              "       [2518,  148,   63, ...,    0,    0,    0]])"
            ]
          },
          "execution_count": 20,
          "metadata": {},
          "output_type": "execute_result"
        }
      ],
      "source": [
        "# 데이터를 배열로 변환\n",
        "\n",
        "train_batch, train_labels = next(iter(train_batches))\n",
        "train_batch.numpy()"
      ]
    },
    {
      "cell_type": "code",
      "execution_count": 21,
      "id": "9e851085",
      "metadata": {
        "id": "9e851085"
      },
      "outputs": [],
      "source": [
        "# Dropout이 적용되지 않은 모델\n",
        "\n",
        "encoder = info.features['text'].encoder\n",
        "model = tf.keras.Sequential([\n",
        "    tf.keras.layers.Embedding(encoder.vocab_size, 64),\n",
        "    tf.keras.layers.LSTM(64),\n",
        "    tf.keras.layers.Dense(64, activation='relu'),\n",
        "    tf.keras.layers.Dense(1, activation='sigmoid')\n",
        "])"
      ]
    },
    {
      "cell_type": "code",
      "execution_count": 22,
      "id": "414ba457",
      "metadata": {
        "colab": {
          "base_uri": "https://localhost:8080/"
        },
        "id": "414ba457",
        "outputId": "d6e3367b-030f-46ed-a579-2ccc40aa9e71"
      },
      "outputs": [
        {
          "name": "stdout",
          "output_type": "stream",
          "text": [
            "Num GPUs Available:  1\n"
          ]
        }
      ],
      "source": [
        "import tensorflow as tf\n",
        "\n",
        "print(\"Num GPUs Available: \", len(tf.config.experimental.list_physical_devices('GPU')))"
      ]
    },
    {
      "cell_type": "code",
      "execution_count": 23,
      "id": "3a2e791b",
      "metadata": {
        "colab": {
          "base_uri": "https://localhost:8080/"
        },
        "id": "3a2e791b",
        "outputId": "09e98af5-6441-4aef-ef89-dd5259b42d17"
      },
      "outputs": [
        {
          "name": "stdout",
          "output_type": "stream",
          "text": [
            "Epoch 1/5\n",
            "2500/2500 [==============================] - 105s 39ms/step - loss: 0.6930 - accuracy: 0.5001 - val_loss: 0.6926 - val_accuracy: 0.5200\n",
            "Epoch 2/5\n",
            "2500/2500 [==============================] - 92s 37ms/step - loss: 0.6882 - accuracy: 0.5156 - val_loss: 0.7024 - val_accuracy: 0.4433\n",
            "Epoch 3/5\n",
            "2500/2500 [==============================] - 91s 36ms/step - loss: 0.6708 - accuracy: 0.5386 - val_loss: 0.6769 - val_accuracy: 0.5733\n",
            "Epoch 4/5\n",
            "2500/2500 [==============================] - 90s 36ms/step - loss: 0.6575 - accuracy: 0.5434 - val_loss: 0.6611 - val_accuracy: 0.5767\n",
            "Epoch 5/5\n",
            "2500/2500 [==============================] - 91s 36ms/step - loss: 0.5670 - accuracy: 0.6876 - val_loss: 0.5180 - val_accuracy: 0.8000\n"
          ]
        }
      ],
      "source": [
        "# 모델 훈련\n",
        "\n",
        "model.compile(loss='binary_crossentropy',\n",
        "             optimizer=tf.keras.optimizers.Adam(1e-4), metrics=['accuracy'])\n",
        "history = model.fit(train_batches, epochs=5, validation_data=test_batches,\n",
        "                    validation_steps=30)"
      ]
    },
    {
      "cell_type": "code",
      "execution_count": 24,
      "id": "4e93a23e",
      "metadata": {
        "colab": {
          "base_uri": "https://localhost:8080/",
          "height": 465
        },
        "id": "4e93a23e",
        "outputId": "70ed35e5-3c6d-40e6-e2cd-773381a17ae8"
      },
      "outputs": [
        {
          "data": {
            "image/png": "[encoded data removed]",
            "text/plain": [
              "<Figure size 288x216 with 1 Axes>"
            ]
          },
          "metadata": {
            "needs_background": "light"
          },
          "output_type": "display_data"
        },
        {
          "data": {
            "image/png": "[encoded data removed]",
            "text/plain": [
              "<Figure size 288x216 with 1 Axes>"
            ]
          },
          "metadata": {
            "needs_background": "light"
          },
          "output_type": "display_data"
        }
      ],
      "source": [
        "# 모델 훈련에 대한 시각화\n",
        "\n",
        "BUFFER_SIZE = 10000\n",
        "BATCH_SIZE = 64\n",
        "train_dataset = train_batches.shuffle(BUFFER_SIZE)\n",
        "import matplotlib.pyplot as plt\n",
        "history_dict = history.history\n",
        "acc = history_dict['accuracy']\n",
        "val_acc = history_dict['val_accuracy']\n",
        "loss = history_dict['loss']\n",
        "val_loss = history_dict['val_loss']\n",
        "epochs = range(1, len(acc)+1)\n",
        "plt.figure(figsize=(4,3))\n",
        "plt.plot(epochs, loss, 'bo', label='Training loss')\n",
        "plt.plot(epochs, val_loss, 'b', label='Validation loss')\n",
        "plt.title('Training and validation loss')\n",
        "plt.xlabel('Epochs')\n",
        "plt.ylabel('Loss')\n",
        "plt.legend()\n",
        "plt.show()\n",
        "\n",
        "plt.figure(figsize=(4,3))\n",
        "plt.plot(epochs, acc, 'bo', label='Training acc')\n",
        "plt.plot(epochs, val_acc, 'b', label='Validation acc')\n",
        "plt.title('Training and validation accuracy')\n",
        "plt.xlabel('Epochs')\n",
        "plt.ylabel('Accuracy')\n",
        "plt.legend(loc='lower right')\n",
        "plt.ylim((0.5, 1))\n",
        "plt.show()"
      ]
    },
    {
      "cell_type": "code",
      "execution_count": 25,
      "id": "e770be06",
      "metadata": {
        "colab": {
          "base_uri": "https://localhost:8080/"
        },
        "id": "e770be06",
        "outputId": "f6dde54e-98a0-403d-b8f2-ce0652a642b5"
      },
      "outputs": [
        {
          "name": "stdout",
          "output_type": "stream",
          "text": [
            "Model: \"sequential_3\"\n",
            "_________________________________________________________________\n",
            " Layer (type)                Output Shape              Param #   \n",
            "=================================================================\n",
            " embedding_1 (Embedding)     (None, None, 64)          523840    \n",
            "                                                                 \n",
            " bidirectional (Bidirectiona  (None, None, 128)        66048     \n",
            " l)                                                              \n",
            "                                                                 \n",
            " bidirectional_1 (Bidirectio  (None, 64)               41216     \n",
            " nal)                                                            \n",
            "                                                                 \n",
            " dense_14 (Dense)            (None, 64)                4160      \n",
            "                                                                 \n",
            " dropout (Dropout)           (None, 64)                0         \n",
            "                                                                 \n",
            " dense_15 (Dense)            (None, 1)                 65        \n",
            "                                                                 \n",
            "=================================================================\n",
            "Total params: 635,329\n",
            "Trainable params: 635,329\n",
            "Non-trainable params: 0\n",
            "_________________________________________________________________\n"
          ]
        }
      ],
      "source": [
        "# 드롭아웃이 적용된 모델\n",
        "\n",
        "model = tf.keras.Sequential([\n",
        "    tf.keras.layers.Embedding(encoder.vocab_size, 64),\n",
        "    tf.keras.layers.Bidirectional(tf.keras.layers.LSTM(64, return_sequences=True)),\n",
        "    tf.keras.layers.Bidirectional(tf.keras.layers.LSTM(32)),\n",
        "    tf.keras.layers.Dense(64, activation='relu'),\n",
        "    tf.keras.layers.Dropout(0.5),\n",
        "    tf.keras.layers.Dense(1, activation='sigmoid')\n",
        "])\n",
        "model.summary()"
      ]
    },
    {
      "cell_type": "code",
      "execution_count": 27,
      "id": "4b82cdd0",
      "metadata": {
        "colab": {
          "base_uri": "https://localhost:8080/"
        },
        "id": "4b82cdd0",
        "outputId": "d51406dc-697c-4a24-a00a-1298266bedd9"
      },
      "outputs": [
        {
          "name": "stdout",
          "output_type": "stream",
          "text": [
            "Epoch 1/5\n",
            "2500/2500 [==============================] - 290s 112ms/step - loss: 0.5854 - accuracy: 0.6772 - val_loss: 0.4359 - val_accuracy: 0.8200\n",
            "Epoch 2/5\n",
            "2500/2500 [==============================] - 275s 110ms/step - loss: 0.3502 - accuracy: 0.8641 - val_loss: 0.4279 - val_accuracy: 0.8400\n",
            "Epoch 3/5\n",
            "2500/2500 [==============================] - 274s 110ms/step - loss: 0.2615 - accuracy: 0.9078 - val_loss: 0.3741 - val_accuracy: 0.8400\n",
            "Epoch 4/5\n",
            "2500/2500 [==============================] - 276s 110ms/step - loss: 0.2243 - accuracy: 0.9238 - val_loss: 0.4777 - val_accuracy: 0.8167\n",
            "Epoch 5/5\n",
            "2500/2500 [==============================] - 277s 111ms/step - loss: 0.1806 - accuracy: 0.9415 - val_loss: 0.3951 - val_accuracy: 0.8733\n"
          ]
        }
      ],
      "source": [
        "# 모델 훈련\n",
        "\n",
        "model.compile(loss='binary_crossentropy',\n",
        "              optimizer=tf.keras.optimizers.Adam(1e-4), metrics=['accuracy'])\n",
        "history = model.fit(train_batches, epochs=5, validation_data=test_batches,\n",
        "                    validation_steps=30)"
      ]
    },
    {
      "cell_type": "code",
      "execution_count": 28,
      "id": "1d869613",
      "metadata": {
        "colab": {
          "base_uri": "https://localhost:8080/",
          "height": 465
        },
        "id": "1d869613",
        "outputId": "51a3ac55-4a3d-4cad-b8a1-2cad3c991f0c"
      },
      "outputs": [
        {
          "data": {
            "image/png": "[encoded data removed]",
            "text/plain": [
              "<Figure size 288x216 with 1 Axes>"
            ]
          },
          "metadata": {
            "needs_background": "light"
          },
          "output_type": "display_data"
        },
        {
          "data": {
            "image/png": "[encoded data removed]",
            "text/plain": [
              "<Figure size 288x216 with 1 Axes>"
            ]
          },
          "metadata": {
            "needs_background": "light"
          },
          "output_type": "display_data"
        }
      ],
      "source": [
        "# 모델 훈련에 대한 시각화\n",
        "\n",
        "BUFFER_SIZE = 10000\n",
        "BATCH_SIZE = 64\n",
        "train_dataset = train_batches.shuffle(BUFFER_SIZE)\n",
        "import matplotlib.pyplot as plt\n",
        "history_dict = history.history\n",
        "acc = history_dict['accuracy']\n",
        "val_acc = history_dict['val_accuracy']\n",
        "loss = history_dict['loss']\n",
        "val_loss = history_dict['val_loss']\n",
        "epochs = range(1, len(acc)+1)\n",
        "plt.figure(figsize=(4,3))\n",
        "plt.plot(epochs, loss, 'bo', label='Training loss')\n",
        "plt.plot(epochs, val_loss, 'b', label='Validation loss')\n",
        "plt.title('Training and validation loss')\n",
        "plt.xlabel('Epochs')\n",
        "plt.ylabel('Loss')\n",
        "plt.legend()\n",
        "plt.show()\n",
        "\n",
        "plt.figure(figsize=(4,3))\n",
        "plt.plot(epochs, acc, 'bo', label='Training acc')\n",
        "plt.plot(epochs, val_acc, 'b', label='Validation acc')\n",
        "plt.title('Training and validation accuracy')\n",
        "plt.xlabel('Epochs')\n",
        "plt.ylabel('Accuracy')\n",
        "plt.legend(loc='lower right')\n",
        "plt.ylim((0.5, 1))\n",
        "plt.show()"
      ]
    },
    {
      "cell_type": "code",
      "execution_count": 29,
      "id": "e48fc8b7",
      "metadata": {
        "colab": {
          "base_uri": "https://localhost:8080/"
        },
        "id": "e48fc8b7",
        "outputId": "48a04a78-94cc-4083-d57a-86fcca98d3be"
      },
      "outputs": [
        {
          "name": "stdout",
          "output_type": "stream",
          "text": [
            "Model: \"sequential_4\"\n",
            "_________________________________________________________________\n",
            " Layer (type)                Output Shape              Param #   \n",
            "=================================================================\n",
            " embedding_2 (Embedding)     (None, None, 64)          523840    \n",
            "                                                                 \n",
            " bidirectional_2 (Bidirectio  (None, 128)              66048     \n",
            " nal)                                                            \n",
            "                                                                 \n",
            " dense_16 (Dense)            (None, 64)                8256      \n",
            "                                                                 \n",
            " dense_17 (Dense)            (None, 1)                 65        \n",
            "                                                                 \n",
            "=================================================================\n",
            "Total params: 598,209\n",
            "Trainable params: 598,209\n",
            "Non-trainable params: 0\n",
            "_________________________________________________________________\n"
          ]
        }
      ],
      "source": [
        "# 양방향 RNN만 적용된 모델\n",
        "\n",
        "model = tf.keras.Sequential([\n",
        "    tf.keras.layers.Embedding(encoder.vocab_size, 64),\n",
        "    tf.keras.layers.Bidirectional(tf.keras.layers.LSTM(64)),\n",
        "    tf.keras.layers.Dense(64, activation='relu'),\n",
        "    tf.keras.layers.Dense(1, activation='sigmoid')\n",
        "])\n",
        "model.summary()"
      ]
    },
    {
      "cell_type": "code",
      "execution_count": 30,
      "id": "e5b22189",
      "metadata": {
        "colab": {
          "base_uri": "https://localhost:8080/"
        },
        "id": "e5b22189",
        "outputId": "e6a623c3-fa65-4296-c10a-8fd17e0a0873"
      },
      "outputs": [
        {
          "name": "stdout",
          "output_type": "stream",
          "text": [
            "Epoch 1/5\n",
            "2500/2500 [==============================] - 168s 66ms/step - loss: 0.5808 - accuracy: 0.6610 - val_loss: 0.3754 - val_accuracy: 0.8400\n",
            "Epoch 2/5\n",
            "2500/2500 [==============================] - 166s 66ms/step - loss: 0.2964 - accuracy: 0.8835 - val_loss: 0.3107 - val_accuracy: 0.8767\n",
            "Epoch 3/5\n",
            "2500/2500 [==============================] - 166s 66ms/step - loss: 0.2349 - accuracy: 0.9128 - val_loss: 0.3842 - val_accuracy: 0.8633\n",
            "Epoch 4/5\n",
            "2500/2500 [==============================] - 166s 66ms/step - loss: 0.1994 - accuracy: 0.9292 - val_loss: 0.3342 - val_accuracy: 0.8767\n",
            "Epoch 5/5\n",
            "2500/2500 [==============================] - 164s 66ms/step - loss: 0.1757 - accuracy: 0.9390 - val_loss: 0.3760 - val_accuracy: 0.8667\n"
          ]
        }
      ],
      "source": [
        "# 모델 훈련\n",
        "\n",
        "model.compile(loss='binary_crossentropy',\n",
        "              optimizer=tf.keras.optimizers.Adam(1e-4), metrics=['accuracy'])\n",
        "history = model.fit(train_batches, epochs=5, validation_data=test_batches,\n",
        "                    validation_steps=30)"
      ]
    },
    {
      "cell_type": "code",
      "execution_count": 31,
      "id": "718d0f9a",
      "metadata": {
        "colab": {
          "base_uri": "https://localhost:8080/",
          "height": 465
        },
        "id": "718d0f9a",
        "outputId": "0e6efe0d-e87f-4abb-ff4a-083d0c303f76"
      },
      "outputs": [
        {
          "data": {
            "image/png": "[encoded data removed]",
            "text/plain": [
              "<Figure size 288x216 with 1 Axes>"
            ]
          },
          "metadata": {
            "needs_background": "light"
          },
          "output_type": "display_data"
        },
        {
          "data": {
            "image/png": "[encoded data removed]",
            "text/plain": [
              "<Figure size 288x216 with 1 Axes>"
            ]
          },
          "metadata": {
            "needs_background": "light"
          },
          "output_type": "display_data"
        }
      ],
      "source": [
        "# 모델 훈련에 대한 시각화\n",
        "\n",
        "BUFFER_SIZE = 10000\n",
        "BATCH_SIZE = 64\n",
        "train_dataset = train_batches.shuffle(BUFFER_SIZE)\n",
        "import matplotlib.pyplot as plt\n",
        "history_dict = history.history\n",
        "acc = history_dict['accuracy']\n",
        "val_acc = history_dict['val_accuracy']\n",
        "loss = history_dict['loss']\n",
        "val_loss = history_dict['val_loss']\n",
        "epochs = range(1, len(acc)+1)\n",
        "plt.figure(figsize=(4,3))\n",
        "plt.plot(epochs, loss, 'bo', label='Training loss')\n",
        "plt.plot(epochs, val_loss, 'b', label='Validation loss')\n",
        "plt.title('Training and validation loss')\n",
        "plt.xlabel('Epochs')\n",
        "plt.ylabel('Loss')\n",
        "plt.legend()\n",
        "plt.show()\n",
        "\n",
        "plt.figure(figsize=(4,3))\n",
        "plt.plot(epochs, acc, 'bo', label='Training acc')\n",
        "plt.plot(epochs, val_acc, 'b', label='Validation acc')\n",
        "plt.title('Training and validation accuracy')\n",
        "plt.xlabel('Epochs')\n",
        "plt.ylabel('Accuracy')\n",
        "plt.legend(loc='lower right')\n",
        "plt.ylim((0.5, 1))\n",
        "plt.show()"
      ]
    },
    {
      "cell_type": "markdown",
      "id": "744db58f",
      "metadata": {
        "id": "744db58f"
      },
      "source": [
        "## 8.3.3 Early Stopping을 이용한 성능 최적화"
      ]
    },
    {
      "cell_type": "code",
      "execution_count": 32,
      "id": "2126b858",
      "metadata": {
        "id": "2126b858"
      },
      "outputs": [],
      "source": [
        "# 라이브러리 호출\n",
        "\n",
        "from tensorflow.keras.preprocessing import sequence\n",
        "from tensorflow.keras.models import Sequential\n",
        "from tensorflow.keras.layers import Dense, Dropout, Activation\n",
        "from tensorflow.keras.layers import Embedding\n",
        "from tensorflow.keras.layers import Conv1D, GlobalMaxPooling1D\n",
        "from tensorflow.keras.datasets import imdb\n",
        "import tensorflow as tf\n",
        "import numpy as np"
      ]
    },
    {
      "cell_type": "code",
      "execution_count": 33,
      "id": "9f6f6298",
      "metadata": {
        "id": "9f6f6298"
      },
      "outputs": [],
      "source": [
        "# 하이퍼파라미터 초기화\n",
        "\n",
        "max_features = 5000\n",
        "maxlen = 400\n",
        "batch_size = 32\n",
        "embedding_dims = 50\n",
        "filters = 250\n",
        "kernel_size = 3\n",
        "hidden_dims = 250\n",
        "epochs = 300\n",
        "np.random.seed(7)"
      ]
    },
    {
      "cell_type": "code",
      "execution_count": 34,
      "id": "ce391505",
      "metadata": {
        "id": "ce391505"
      },
      "outputs": [],
      "source": [
        "# 체크포인트 설정\n",
        "\n",
        "import os\n",
        "checkpoint_path = 'training_1/cp.ckpt'\n",
        "checkpoint_dir = os.path.dirname(checkpoint_path)\n",
        "\n",
        "cp_callback = tf.keras.callbacks.ModelCheckpoint(filepath=checkpoint_path, verbose=1)"
      ]
    },
    {
      "cell_type": "code",
      "execution_count": 35,
      "id": "7a1ffbfa",
      "metadata": {
        "colab": {
          "base_uri": "https://localhost:8080/"
        },
        "id": "7a1ffbfa",
        "outputId": "f1155273-fc69-4a2c-b783-9bd33f0e8ae8"
      },
      "outputs": [
        {
          "name": "stdout",
          "output_type": "stream",
          "text": [
            "Downloading data from https://storage.googleapis.com/tensorflow/tf-keras-datasets/imdb.npz\n",
            "17465344/17464789 [==============================] - 0s 0us/step\n",
            "17473536/17464789 [==============================] - 0s 0us/step\n"
          ]
        }
      ],
      "source": [
        "# 데이터셋 메모리로 로딩\n",
        "(x_train, y_train), (x_test, y_test) = imdb.load_data(num_words=max_features)\n",
        "x_train = sequence.pad_sequences(x_train, maxlen=maxlen)\n",
        "x_test = sequence.pad_sequences(x_test, maxlen=maxlen)"
      ]
    },
    {
      "cell_type": "code",
      "execution_count": 36,
      "id": "a93fc617",
      "metadata": {
        "colab": {
          "base_uri": "https://localhost:8080/"
        },
        "id": "a93fc617",
        "outputId": "dec03874-3e31-465d-f2ac-2276c4e3ed1c"
      },
      "outputs": [
        {
          "name": "stdout",
          "output_type": "stream",
          "text": [
            "Model: \"sequential_5\"\n",
            "_________________________________________________________________\n",
            " Layer (type)                Output Shape              Param #   \n",
            "=================================================================\n",
            " embedding_3 (Embedding)     (None, 400, 50)           250000    \n",
            "                                                                 \n",
            " dropout_1 (Dropout)         (None, 400, 50)           0         \n",
            "                                                                 \n",
            " conv1d (Conv1D)             (None, 398, 250)          37750     \n",
            "                                                                 \n",
            " global_max_pooling1d (Globa  (None, 250)              0         \n",
            " lMaxPooling1D)                                                  \n",
            "                                                                 \n",
            " dense_18 (Dense)            (None, 250)               62750     \n",
            "                                                                 \n",
            " dropout_2 (Dropout)         (None, 250)               0         \n",
            "                                                                 \n",
            " activation (Activation)     (None, 250)               0         \n",
            "                                                                 \n",
            " dense_19 (Dense)            (None, 1)                 251       \n",
            "                                                                 \n",
            " activation_1 (Activation)   (None, 1)                 0         \n",
            "                                                                 \n",
            "=================================================================\n",
            "Total params: 350,751\n",
            "Trainable params: 350,751\n",
            "Non-trainable params: 0\n",
            "_________________________________________________________________\n"
          ]
        }
      ],
      "source": [
        "# 모델 생성\n",
        "\n",
        "model = Sequential()\n",
        "model.add(Embedding(max_features,\n",
        "                    embedding_dims,\n",
        "                    input_length=maxlen))\n",
        "model.add(Dropout(0.2))\n",
        "model.add(Conv1D(filters,\n",
        "                 kernel_size,\n",
        "                 padding='valid',\n",
        "                 activation='relu',\n",
        "                 strides=1))\n",
        "model.add(GlobalMaxPooling1D())\n",
        "model.add(Dense(hidden_dims))\n",
        "model.add(Dropout(0.2))\n",
        "model.add(Activation('relu'))\n",
        "model.add(Dense(1))\n",
        "model.add(Activation('sigmoid'))\n",
        "model.summary()"
      ]
    },
    {
      "cell_type": "code",
      "execution_count": 37,
      "id": "dc369e83",
      "metadata": {
        "colab": {
          "base_uri": "https://localhost:8080/"
        },
        "id": "dc369e83",
        "outputId": "584b2c41-1df9-4fc5-adeb-efed08143ce0"
      },
      "outputs": [
        {
          "name": "stdout",
          "output_type": "stream",
          "text": [
            "Epoch 1/300\n",
            "618/625 [============================>.] - ETA: 0s - loss: 0.4401 - accuracy: 0.7755\n",
            "Epoch 1: saving model to training_1/cp.ckpt\n",
            "INFO:tensorflow:Assets written to: training_1/cp.ckpt/assets\n"
          ]
        },
        {
          "name": "stderr",
          "output_type": "stream",
          "text": [
            "INFO:tensorflow:Assets written to: training_1/cp.ckpt/assets\n"
          ]
        },
        {
          "name": "stdout",
          "output_type": "stream",
          "text": [
            "\b\b\b\b\b\b\b\b\b\b\b\b\b\b\b\b\b\b\b\b\b\b\b\b\b\b\b\b\b\b\b\b\b\b\b\b\b\b\b\b\b\b\b\b\b\b\b\b\b\b\b\b\b\b\b\b\b\b\b\b\b\b\b\b\b\b\b\b\b\b\b\b\b\b\b\b\b\b\b\b\b\b\b\b\r625/625 [==============================] - 14s 10ms/step - loss: 0.4379 - accuracy: 0.7770 - val_loss: 0.2846 - val_accuracy: 0.8834\n",
            "Epoch 2/300\n",
            "618/625 [============================>.] - ETA: 0s - loss: 0.2472 - accuracy: 0.8983\n",
            "Epoch 2: saving model to training_1/cp.ckpt\n",
            "INFO:tensorflow:Assets written to: training_1/cp.ckpt/assets\n"
          ]
        },
        {
          "name": "stderr",
          "output_type": "stream",
          "text": [
            "INFO:tensorflow:Assets written to: training_1/cp.ckpt/assets\n"
          ]
        },
        {
          "name": "stdout",
          "output_type": "stream",
          "text": [
            "\b\b\b\b\b\b\b\b\b\b\b\b\b\b\b\b\b\b\b\b\b\b\b\b\b\b\b\b\b\b\b\b\b\b\b\b\b\b\b\b\b\b\b\b\b\b\b\b\b\b\b\b\b\b\b\b\b\b\b\b\b\b\b\b\b\b\b\b\b\b\b\b\b\b\b\b\b\b\b\b\b\b\b\b\r625/625 [==============================] - 5s 9ms/step - loss: 0.2471 - accuracy: 0.8984 - val_loss: 0.2643 - val_accuracy: 0.8906\n",
            "Epoch 3/300\n",
            "624/625 [============================>.] - ETA: 0s - loss: 0.1642 - accuracy: 0.9382\n",
            "Epoch 3: saving model to training_1/cp.ckpt\n",
            "INFO:tensorflow:Assets written to: training_1/cp.ckpt/assets\n"
          ]
        },
        {
          "name": "stderr",
          "output_type": "stream",
          "text": [
            "INFO:tensorflow:Assets written to: training_1/cp.ckpt/assets\n"
          ]
        },
        {
          "name": "stdout",
          "output_type": "stream",
          "text": [
            "\b\b\b\b\b\b\b\b\b\b\b\b\b\b\b\b\b\b\b\b\b\b\b\b\b\b\b\b\b\b\b\b\b\b\b\b\b\b\b\b\b\b\b\b\b\b\b\b\b\b\b\b\b\b\b\b\b\b\b\b\b\b\b\b\b\b\b\b\b\b\b\b\b\b\b\b\b\b\b\b\b\b\b\b\r625/625 [==============================] - 5s 8ms/step - loss: 0.1643 - accuracy: 0.9381 - val_loss: 0.2668 - val_accuracy: 0.8992\n",
            "Epoch 4/300\n",
            "620/625 [============================>.] - ETA: 0s - loss: 0.1121 - accuracy: 0.9608\n",
            "Epoch 4: saving model to training_1/cp.ckpt\n",
            "INFO:tensorflow:Assets written to: training_1/cp.ckpt/assets\n"
          ]
        },
        {
          "name": "stderr",
          "output_type": "stream",
          "text": [
            "INFO:tensorflow:Assets written to: training_1/cp.ckpt/assets\n"
          ]
        },
        {
          "name": "stdout",
          "output_type": "stream",
          "text": [
            "\b\b\b\b\b\b\b\b\b\b\b\b\b\b\b\b\b\b\b\b\b\b\b\b\b\b\b\b\b\b\b\b\b\b\b\b\b\b\b\b\b\b\b\b\b\b\b\b\b\b\b\b\b\b\b\b\b\b\b\b\b\b\b\b\b\b\b\b\b\b\b\b\b\b\b\b\b\b\b\b\b\b\b\b\r625/625 [==============================] - 5s 8ms/step - loss: 0.1122 - accuracy: 0.9607 - val_loss: 0.3170 - val_accuracy: 0.8912\n",
            "Epoch 5/300\n",
            "625/625 [==============================] - ETA: 0s - loss: 0.0653 - accuracy: 0.9780\n",
            "Epoch 5: saving model to training_1/cp.ckpt\n",
            "INFO:tensorflow:Assets written to: training_1/cp.ckpt/assets\n"
          ]
        },
        {
          "name": "stderr",
          "output_type": "stream",
          "text": [
            "INFO:tensorflow:Assets written to: training_1/cp.ckpt/assets\n"
          ]
        },
        {
          "name": "stdout",
          "output_type": "stream",
          "text": [
            "\b\b\b\b\b\b\b\b\b\b\b\b\b\b\b\b\b\b\b\b\b\b\b\b\b\b\b\b\b\b\b\b\b\b\b\b\b\b\b\b\b\b\b\b\b\b\b\b\b\b\b\b\b\b\b\b\b\b\b\b\b\b\b\b\b\b\b\b\b\b\b\b\b\b\b\b\b\b\b\b\b\b\b\b\r625/625 [==============================] - 5s 8ms/step - loss: 0.0653 - accuracy: 0.9780 - val_loss: 0.3782 - val_accuracy: 0.8844\n",
            "Epoch 6/300\n",
            "618/625 [============================>.] - ETA: 0s - loss: 0.0529 - accuracy: 0.9812\n",
            "Epoch 6: saving model to training_1/cp.ckpt\n",
            "INFO:tensorflow:Assets written to: training_1/cp.ckpt/assets\n"
          ]
        },
        {
          "name": "stderr",
          "output_type": "stream",
          "text": [
            "INFO:tensorflow:Assets written to: training_1/cp.ckpt/assets\n"
          ]
        },
        {
          "name": "stdout",
          "output_type": "stream",
          "text": [
            "\b\b\b\b\b\b\b\b\b\b\b\b\b\b\b\b\b\b\b\b\b\b\b\b\b\b\b\b\b\b\b\b\b\b\b\b\b\b\b\b\b\b\b\b\b\b\b\b\b\b\b\b\b\b\b\b\b\b\b\b\b\b\b\b\b\b\b\b\b\b\b\b\b\b\b\b\b\b\b\b\b\b\b\b\r625/625 [==============================] - 5s 8ms/step - loss: 0.0527 - accuracy: 0.9811 - val_loss: 0.3988 - val_accuracy: 0.8884\n",
            "Epoch 7/300\n",
            "620/625 [============================>.] - ETA: 0s - loss: 0.0416 - accuracy: 0.9849\n",
            "Epoch 7: saving model to training_1/cp.ckpt\n",
            "INFO:tensorflow:Assets written to: training_1/cp.ckpt/assets\n"
          ]
        },
        {
          "name": "stderr",
          "output_type": "stream",
          "text": [
            "INFO:tensorflow:Assets written to: training_1/cp.ckpt/assets\n"
          ]
        },
        {
          "name": "stdout",
          "output_type": "stream",
          "text": [
            "\b\b\b\b\b\b\b\b\b\b\b\b\b\b\b\b\b\b\b\b\b\b\b\b\b\b\b\b\b\b\b\b\b\b\b\b\b\b\b\b\b\b\b\b\b\b\b\b\b\b\b\b\b\b\b\b\b\b\b\b\b\b\b\b\b\b\b\b\b\b\b\b\b\b\b\b\b\b\b\b\b\b\b\b\r625/625 [==============================] - 5s 8ms/step - loss: 0.0420 - accuracy: 0.9847 - val_loss: 0.4535 - val_accuracy: 0.8832\n",
            "Epoch 8/300\n",
            "620/625 [============================>.] - ETA: 0s - loss: 0.0348 - accuracy: 0.9870\n",
            "Epoch 8: saving model to training_1/cp.ckpt\n",
            "INFO:tensorflow:Assets written to: training_1/cp.ckpt/assets\n"
          ]
        },
        {
          "name": "stderr",
          "output_type": "stream",
          "text": [
            "INFO:tensorflow:Assets written to: training_1/cp.ckpt/assets\n"
          ]
        },
        {
          "name": "stdout",
          "output_type": "stream",
          "text": [
            "\b\b\b\b\b\b\b\b\b\b\b\b\b\b\b\b\b\b\b\b\b\b\b\b\b\b\b\b\b\b\b\b\b\b\b\b\b\b\b\b\b\b\b\b\b\b\b\b\b\b\b\b\b\b\b\b\b\b\b\b\b\b\b\b\b\b\b\b\b\b\b\b\b\b\b\b\b\b\b\b\b\b\b\b\r625/625 [==============================] - 5s 8ms/step - loss: 0.0349 - accuracy: 0.9869 - val_loss: 0.4959 - val_accuracy: 0.8820\n",
            "Epoch 9/300\n",
            "624/625 [============================>.] - ETA: 0s - loss: 0.0302 - accuracy: 0.9886\n",
            "Epoch 9: saving model to training_1/cp.ckpt\n",
            "INFO:tensorflow:Assets written to: training_1/cp.ckpt/assets\n"
          ]
        },
        {
          "name": "stderr",
          "output_type": "stream",
          "text": [
            "INFO:tensorflow:Assets written to: training_1/cp.ckpt/assets\n"
          ]
        },
        {
          "name": "stdout",
          "output_type": "stream",
          "text": [
            "\b\b\b\b\b\b\b\b\b\b\b\b\b\b\b\b\b\b\b\b\b\b\b\b\b\b\b\b\b\b\b\b\b\b\b\b\b\b\b\b\b\b\b\b\b\b\b\b\b\b\b\b\b\b\b\b\b\b\b\b\b\b\b\b\b\b\b\b\b\b\b\b\b\b\b\b\b\b\b\b\b\b\b\b\r625/625 [==============================] - 5s 8ms/step - loss: 0.0301 - accuracy: 0.9887 - val_loss: 0.5242 - val_accuracy: 0.8904\n",
            "Epoch 10/300\n",
            "619/625 [============================>.] - ETA: 0s - loss: 0.0252 - accuracy: 0.9910\n",
            "Epoch 10: saving model to training_1/cp.ckpt\n",
            "INFO:tensorflow:Assets written to: training_1/cp.ckpt/assets\n"
          ]
        },
        {
          "name": "stderr",
          "output_type": "stream",
          "text": [
            "INFO:tensorflow:Assets written to: training_1/cp.ckpt/assets\n"
          ]
        },
        {
          "name": "stdout",
          "output_type": "stream",
          "text": [
            "\b\b\b\b\b\b\b\b\b\b\b\b\b\b\b\b\b\b\b\b\b\b\b\b\b\b\b\b\b\b\b\b\b\b\b\b\b\b\b\b\b\b\b\b\b\b\b\b\b\b\b\b\b\b\b\b\b\b\b\b\b\b\b\b\b\b\b\b\b\b\b\b\b\b\b\b\b\b\b\b\b\b\b\b\r625/625 [==============================] - 5s 8ms/step - loss: 0.0253 - accuracy: 0.9908 - val_loss: 0.6369 - val_accuracy: 0.8668\n",
            "Epoch 11/300\n",
            "619/625 [============================>.] - ETA: 0s - loss: 0.0256 - accuracy: 0.9917\n",
            "Epoch 11: saving model to training_1/cp.ckpt\n",
            "INFO:tensorflow:Assets written to: training_1/cp.ckpt/assets\n"
          ]
        },
        {
          "name": "stderr",
          "output_type": "stream",
          "text": [
            "INFO:tensorflow:Assets written to: training_1/cp.ckpt/assets\n"
          ]
        },
        {
          "name": "stdout",
          "output_type": "stream",
          "text": [
            "\b\b\b\b\b\b\b\b\b\b\b\b\b\b\b\b\b\b\b\b\b\b\b\b\b\b\b\b\b\b\b\b\b\b\b\b\b\b\b\b\b\b\b\b\b\b\b\b\b\b\b\b\b\b\b\b\b\b\b\b\b\b\b\b\b\b\b\b\b\b\b\b\b\b\b\b\b\b\b\b\b\b\b\b\r625/625 [==============================] - 5s 8ms/step - loss: 0.0255 - accuracy: 0.9918 - val_loss: 0.5360 - val_accuracy: 0.8864\n",
            "Epoch 12/300\n",
            "619/625 [============================>.] - ETA: 0s - loss: 0.0220 - accuracy: 0.9920\n",
            "Epoch 12: saving model to training_1/cp.ckpt\n",
            "INFO:tensorflow:Assets written to: training_1/cp.ckpt/assets\n"
          ]
        },
        {
          "name": "stderr",
          "output_type": "stream",
          "text": [
            "INFO:tensorflow:Assets written to: training_1/cp.ckpt/assets\n"
          ]
        },
        {
          "name": "stdout",
          "output_type": "stream",
          "text": [
            "\b\b\b\b\b\b\b\b\b\b\b\b\b\b\b\b\b\b\b\b\b\b\b\b\b\b\b\b\b\b\b\b\b\b\b\b\b\b\b\b\b\b\b\b\b\b\b\b\b\b\b\b\b\b\b\b\b\b\b\b\b\b\b\b\b\b\b\b\b\b\b\b\b\b\b\b\b\b\b\b\b\b\b\b\r625/625 [==============================] - 5s 9ms/step - loss: 0.0219 - accuracy: 0.9920 - val_loss: 0.6041 - val_accuracy: 0.8876\n",
            "Epoch 13/300\n",
            "619/625 [============================>.] - ETA: 0s - loss: 0.0192 - accuracy: 0.9933\n",
            "Epoch 13: saving model to training_1/cp.ckpt\n",
            "INFO:tensorflow:Assets written to: training_1/cp.ckpt/assets\n"
          ]
        },
        {
          "name": "stderr",
          "output_type": "stream",
          "text": [
            "INFO:tensorflow:Assets written to: training_1/cp.ckpt/assets\n"
          ]
        },
        {
          "name": "stdout",
          "output_type": "stream",
          "text": [
            "\b\b\b\b\b\b\b\b\b\b\b\b\b\b\b\b\b\b\b\b\b\b\b\b\b\b\b\b\b\b\b\b\b\b\b\b\b\b\b\b\b\b\b\b\b\b\b\b\b\b\b\b\b\b\b\b\b\b\b\b\b\b\b\b\b\b\b\b\b\b\b\b\b\b\b\b\b\b\b\b\b\b\b\b\r625/625 [==============================] - 5s 8ms/step - loss: 0.0193 - accuracy: 0.9933 - val_loss: 0.6242 - val_accuracy: 0.8814\n",
            "Epoch 14/300\n",
            "618/625 [============================>.] - ETA: 0s - loss: 0.0216 - accuracy: 0.9919\n",
            "Epoch 14: saving model to training_1/cp.ckpt\n",
            "INFO:tensorflow:Assets written to: training_1/cp.ckpt/assets\n"
          ]
        },
        {
          "name": "stderr",
          "output_type": "stream",
          "text": [
            "INFO:tensorflow:Assets written to: training_1/cp.ckpt/assets\n"
          ]
        },
        {
          "name": "stdout",
          "output_type": "stream",
          "text": [
            "\b\b\b\b\b\b\b\b\b\b\b\b\b\b\b\b\b\b\b\b\b\b\b\b\b\b\b\b\b\b\b\b\b\b\b\b\b\b\b\b\b\b\b\b\b\b\b\b\b\b\b\b\b\b\b\b\b\b\b\b\b\b\b\b\b\b\b\b\b\b\b\b\b\b\b\b\b\b\b\b\b\b\b\b\r625/625 [==============================] - 6s 10ms/step - loss: 0.0221 - accuracy: 0.9918 - val_loss: 0.5782 - val_accuracy: 0.8824\n",
            "Epoch 15/300\n",
            "618/625 [============================>.] - ETA: 0s - loss: 0.0171 - accuracy: 0.9936\n",
            "Epoch 15: saving model to training_1/cp.ckpt\n",
            "INFO:tensorflow:Assets written to: training_1/cp.ckpt/assets\n"
          ]
        },
        {
          "name": "stderr",
          "output_type": "stream",
          "text": [
            "INFO:tensorflow:Assets written to: training_1/cp.ckpt/assets\n"
          ]
        },
        {
          "name": "stdout",
          "output_type": "stream",
          "text": [
            "\b\b\b\b\b\b\b\b\b\b\b\b\b\b\b\b\b\b\b\b\b\b\b\b\b\b\b\b\b\b\b\b\b\b\b\b\b\b\b\b\b\b\b\b\b\b\b\b\b\b\b\b\b\b\b\b\b\b\b\b\b\b\b\b\b\b\b\b\b\b\b\b\b\b\b\b\b\b\b\b\b\b\b\b\r625/625 [==============================] - 5s 8ms/step - loss: 0.0173 - accuracy: 0.9935 - val_loss: 0.6667 - val_accuracy: 0.8792\n",
            "Epoch 16/300\n",
            "617/625 [============================>.] - ETA: 0s - loss: 0.0207 - accuracy: 0.9933\n",
            "Epoch 16: saving model to training_1/cp.ckpt\n",
            "INFO:tensorflow:Assets written to: training_1/cp.ckpt/assets\n"
          ]
        },
        {
          "name": "stderr",
          "output_type": "stream",
          "text": [
            "INFO:tensorflow:Assets written to: training_1/cp.ckpt/assets\n"
          ]
        },
        {
          "name": "stdout",
          "output_type": "stream",
          "text": [
            "\b\b\b\b\b\b\b\b\b\b\b\b\b\b\b\b\b\b\b\b\b\b\b\b\b\b\b\b\b\b\b\b\b\b\b\b\b\b\b\b\b\b\b\b\b\b\b\b\b\b\b\b\b\b\b\b\b\b\b\b\b\b\b\b\b\b\b\b\b\b\b\b\b\b\b\b\b\b\b\b\b\b\b\b\r625/625 [==============================] - 5s 8ms/step - loss: 0.0205 - accuracy: 0.9934 - val_loss: 0.6045 - val_accuracy: 0.8882\n",
            "Epoch 17/300\n",
            "625/625 [==============================] - ETA: 0s - loss: 0.0202 - accuracy: 0.9925\n",
            "Epoch 17: saving model to training_1/cp.ckpt\n",
            "INFO:tensorflow:Assets written to: training_1/cp.ckpt/assets\n"
          ]
        },
        {
          "name": "stderr",
          "output_type": "stream",
          "text": [
            "INFO:tensorflow:Assets written to: training_1/cp.ckpt/assets\n"
          ]
        },
        {
          "name": "stdout",
          "output_type": "stream",
          "text": [
            "\b\b\b\b\b\b\b\b\b\b\b\b\b\b\b\b\b\b\b\b\b\b\b\b\b\b\b\b\b\b\b\b\b\b\b\b\b\b\b\b\b\b\b\b\b\b\b\b\b\b\b\b\b\b\b\b\b\b\b\b\b\b\b\b\b\b\b\b\b\b\b\b\b\b\b\b\b\b\b\b\b\b\b\b\r625/625 [==============================] - 5s 8ms/step - loss: 0.0202 - accuracy: 0.9925 - val_loss: 0.7776 - val_accuracy: 0.8698\n",
            "Epoch 18/300\n",
            "621/625 [============================>.] - ETA: 0s - loss: 0.0196 - accuracy: 0.9927\n",
            "Epoch 18: saving model to training_1/cp.ckpt\n",
            "INFO:tensorflow:Assets written to: training_1/cp.ckpt/assets\n"
          ]
        },
        {
          "name": "stderr",
          "output_type": "stream",
          "text": [
            "INFO:tensorflow:Assets written to: training_1/cp.ckpt/assets\n"
          ]
        },
        {
          "name": "stdout",
          "output_type": "stream",
          "text": [
            "\b\b\b\b\b\b\b\b\b\b\b\b\b\b\b\b\b\b\b\b\b\b\b\b\b\b\b\b\b\b\b\b\b\b\b\b\b\b\b\b\b\b\b\b\b\b\b\b\b\b\b\b\b\b\b\b\b\b\b\b\b\b\b\b\b\b\b\b\b\b\b\b\b\b\b\b\b\b\b\b\b\b\b\b\r625/625 [==============================] - 5s 8ms/step - loss: 0.0195 - accuracy: 0.9927 - val_loss: 0.6212 - val_accuracy: 0.8854\n",
            "Epoch 19/300\n",
            "620/625 [============================>.] - ETA: 0s - loss: 0.0197 - accuracy: 0.9927\n",
            "Epoch 19: saving model to training_1/cp.ckpt\n",
            "INFO:tensorflow:Assets written to: training_1/cp.ckpt/assets\n"
          ]
        },
        {
          "name": "stderr",
          "output_type": "stream",
          "text": [
            "INFO:tensorflow:Assets written to: training_1/cp.ckpt/assets\n"
          ]
        },
        {
          "name": "stdout",
          "output_type": "stream",
          "text": [
            "\b\b\b\b\b\b\b\b\b\b\b\b\b\b\b\b\b\b\b\b\b\b\b\b\b\b\b\b\b\b\b\b\b\b\b\b\b\b\b\b\b\b\b\b\b\b\b\b\b\b\b\b\b\b\b\b\b\b\b\b\b\b\b\b\b\b\b\b\b\b\b\b\b\b\b\b\b\b\b\b\b\b\b\b\r625/625 [==============================] - 5s 8ms/step - loss: 0.0196 - accuracy: 0.9927 - val_loss: 0.6330 - val_accuracy: 0.8880\n",
            "Epoch 20/300\n",
            "619/625 [============================>.] - ETA: 0s - loss: 0.0149 - accuracy: 0.9951\n",
            "Epoch 20: saving model to training_1/cp.ckpt\n",
            "INFO:tensorflow:Assets written to: training_1/cp.ckpt/assets\n"
          ]
        },
        {
          "name": "stderr",
          "output_type": "stream",
          "text": [
            "INFO:tensorflow:Assets written to: training_1/cp.ckpt/assets\n"
          ]
        },
        {
          "name": "stdout",
          "output_type": "stream",
          "text": [
            "\b\b\b\b\b\b\b\b\b\b\b\b\b\b\b\b\b\b\b\b\b\b\b\b\b\b\b\b\b\b\b\b\b\b\b\b\b\b\b\b\b\b\b\b\b\b\b\b\b\b\b\b\b\b\b\b\b\b\b\b\b\b\b\b\b\b\b\b\b\b\b\b\b\b\b\b\b\b\b\b\b\b\b\b\r625/625 [==============================] - 5s 8ms/step - loss: 0.0148 - accuracy: 0.9951 - val_loss: 0.6694 - val_accuracy: 0.8896\n",
            "Epoch 21/300\n",
            "624/625 [============================>.] - ETA: 0s - loss: 0.0126 - accuracy: 0.9953\n",
            "Epoch 21: saving model to training_1/cp.ckpt\n",
            "INFO:tensorflow:Assets written to: training_1/cp.ckpt/assets\n"
          ]
        },
        {
          "name": "stderr",
          "output_type": "stream",
          "text": [
            "INFO:tensorflow:Assets written to: training_1/cp.ckpt/assets\n"
          ]
        },
        {
          "name": "stdout",
          "output_type": "stream",
          "text": [
            "\b\b\b\b\b\b\b\b\b\b\b\b\b\b\b\b\b\b\b\b\b\b\b\b\b\b\b\b\b\b\b\b\b\b\b\b\b\b\b\b\b\b\b\b\b\b\b\b\b\b\b\b\b\b\b\b\b\b\b\b\b\b\b\b\b\b\b\b\b\b\b\b\b\b\b\b\b\b\b\b\b\b\b\b\r625/625 [==============================] - 5s 8ms/step - loss: 0.0127 - accuracy: 0.9953 - val_loss: 0.7139 - val_accuracy: 0.8850\n",
            "Epoch 22/300\n",
            "617/625 [============================>.] - ETA: 0s - loss: 0.0149 - accuracy: 0.9948\n",
            "Epoch 22: saving model to training_1/cp.ckpt\n",
            "INFO:tensorflow:Assets written to: training_1/cp.ckpt/assets\n"
          ]
        },
        {
          "name": "stderr",
          "output_type": "stream",
          "text": [
            "INFO:tensorflow:Assets written to: training_1/cp.ckpt/assets\n"
          ]
        },
        {
          "name": "stdout",
          "output_type": "stream",
          "text": [
            "\b\b\b\b\b\b\b\b\b\b\b\b\b\b\b\b\b\b\b\b\b\b\b\b\b\b\b\b\b\b\b\b\b\b\b\b\b\b\b\b\b\b\b\b\b\b\b\b\b\b\b\b\b\b\b\b\b\b\b\b\b\b\b\b\b\b\b\b\b\b\b\b\b\b\b\b\b\b\b\b\b\b\b\b\r625/625 [==============================] - 5s 8ms/step - loss: 0.0148 - accuracy: 0.9949 - val_loss: 0.6037 - val_accuracy: 0.8930\n",
            "Epoch 23/300\n",
            "622/625 [============================>.] - ETA: 0s - loss: 0.0099 - accuracy: 0.9963\n",
            "Epoch 23: saving model to training_1/cp.ckpt\n",
            "INFO:tensorflow:Assets written to: training_1/cp.ckpt/assets\n"
          ]
        },
        {
          "name": "stderr",
          "output_type": "stream",
          "text": [
            "INFO:tensorflow:Assets written to: training_1/cp.ckpt/assets\n"
          ]
        },
        {
          "name": "stdout",
          "output_type": "stream",
          "text": [
            "\b\b\b\b\b\b\b\b\b\b\b\b\b\b\b\b\b\b\b\b\b\b\b\b\b\b\b\b\b\b\b\b\b\b\b\b\b\b\b\b\b\b\b\b\b\b\b\b\b\b\b\b\b\b\b\b\b\b\b\b\b\b\b\b\b\b\b\b\b\b\b\b\b\b\b\b\b\b\b\b\b\b\b\b\r625/625 [==============================] - 5s 8ms/step - loss: 0.0098 - accuracy: 0.9963 - val_loss: 0.6883 - val_accuracy: 0.8862\n",
            "Epoch 24/300\n",
            "623/625 [============================>.] - ETA: 0s - loss: 0.0143 - accuracy: 0.9951\n",
            "Epoch 24: saving model to training_1/cp.ckpt\n",
            "INFO:tensorflow:Assets written to: training_1/cp.ckpt/assets\n"
          ]
        },
        {
          "name": "stderr",
          "output_type": "stream",
          "text": [
            "INFO:tensorflow:Assets written to: training_1/cp.ckpt/assets\n"
          ]
        },
        {
          "name": "stdout",
          "output_type": "stream",
          "text": [
            "\b\b\b\b\b\b\b\b\b\b\b\b\b\b\b\b\b\b\b\b\b\b\b\b\b\b\b\b\b\b\b\b\b\b\b\b\b\b\b\b\b\b\b\b\b\b\b\b\b\b\b\b\b\b\b\b\b\b\b\b\b\b\b\b\b\b\b\b\b\b\b\b\b\b\b\b\b\b\b\b\b\b\b\b\r625/625 [==============================] - 5s 9ms/step - loss: 0.0143 - accuracy: 0.9952 - val_loss: 0.6986 - val_accuracy: 0.8862\n",
            "Epoch 25/300\n",
            "624/625 [============================>.] - ETA: 0s - loss: 0.0159 - accuracy: 0.9941\n",
            "Epoch 25: saving model to training_1/cp.ckpt\n",
            "INFO:tensorflow:Assets written to: training_1/cp.ckpt/assets\n"
          ]
        },
        {
          "name": "stderr",
          "output_type": "stream",
          "text": [
            "INFO:tensorflow:Assets written to: training_1/cp.ckpt/assets\n"
          ]
        },
        {
          "name": "stdout",
          "output_type": "stream",
          "text": [
            "\b\b\b\b\b\b\b\b\b\b\b\b\b\b\b\b\b\b\b\b\b\b\b\b\b\b\b\b\b\b\b\b\b\b\b\b\b\b\b\b\b\b\b\b\b\b\b\b\b\b\b\b\b\b\b\b\b\b\b\b\b\b\b\b\b\b\b\b\b\b\b\b\b\b\b\b\b\b\b\b\b\b\b\b\r625/625 [==============================] - 5s 8ms/step - loss: 0.0159 - accuracy: 0.9941 - val_loss: 0.7555 - val_accuracy: 0.8688\n",
            "Epoch 26/300\n",
            "625/625 [==============================] - ETA: 0s - loss: 0.0134 - accuracy: 0.9954\n",
            "Epoch 26: saving model to training_1/cp.ckpt\n",
            "INFO:tensorflow:Assets written to: training_1/cp.ckpt/assets\n"
          ]
        },
        {
          "name": "stderr",
          "output_type": "stream",
          "text": [
            "INFO:tensorflow:Assets written to: training_1/cp.ckpt/assets\n"
          ]
        },
        {
          "name": "stdout",
          "output_type": "stream",
          "text": [
            "\b\b\b\b\b\b\b\b\b\b\b\b\b\b\b\b\b\b\b\b\b\b\b\b\b\b\b\b\b\b\b\b\b\b\b\b\b\b\b\b\b\b\b\b\b\b\b\b\b\b\b\b\b\b\b\b\b\b\b\b\b\b\b\b\b\b\b\b\b\b\b\b\b\b\b\b\b\b\b\b\b\b\b\b\r625/625 [==============================] - 6s 10ms/step - loss: 0.0134 - accuracy: 0.9954 - val_loss: 0.6992 - val_accuracy: 0.8872\n",
            "Epoch 27/300\n",
            "618/625 [============================>.] - ETA: 0s - loss: 0.0078 - accuracy: 0.9970\n",
            "Epoch 27: saving model to training_1/cp.ckpt\n",
            "INFO:tensorflow:Assets written to: training_1/cp.ckpt/assets\n"
          ]
        },
        {
          "name": "stderr",
          "output_type": "stream",
          "text": [
            "INFO:tensorflow:Assets written to: training_1/cp.ckpt/assets\n"
          ]
        },
        {
          "name": "stdout",
          "output_type": "stream",
          "text": [
            "\b\b\b\b\b\b\b\b\b\b\b\b\b\b\b\b\b\b\b\b\b\b\b\b\b\b\b\b\b\b\b\b\b\b\b\b\b\b\b\b\b\b\b\b\b\b\b\b\b\b\b\b\b\b\b\b\b\b\b\b\b\b\b\b\b\b\b\b\b\b\b\b\b\b\b\b\b\b\b\b\b\b\b\b\r625/625 [==============================] - 5s 9ms/step - loss: 0.0078 - accuracy: 0.9970 - val_loss: 0.7854 - val_accuracy: 0.8838\n",
            "Epoch 28/300\n",
            "618/625 [============================>.] - ETA: 0s - loss: 0.0104 - accuracy: 0.9967\n",
            "Epoch 28: saving model to training_1/cp.ckpt\n",
            "INFO:tensorflow:Assets written to: training_1/cp.ckpt/assets\n"
          ]
        },
        {
          "name": "stderr",
          "output_type": "stream",
          "text": [
            "INFO:tensorflow:Assets written to: training_1/cp.ckpt/assets\n"
          ]
        },
        {
          "name": "stdout",
          "output_type": "stream",
          "text": [
            "\b\b\b\b\b\b\b\b\b\b\b\b\b\b\b\b\b\b\b\b\b\b\b\b\b\b\b\b\b\b\b\b\b\b\b\b\b\b\b\b\b\b\b\b\b\b\b\b\b\b\b\b\b\b\b\b\b\b\b\b\b\b\b\b\b\b\b\b\b\b\b\b\b\b\b\b\b\b\b\b\b\b\b\b\r625/625 [==============================] - 5s 8ms/step - loss: 0.0104 - accuracy: 0.9967 - val_loss: 0.7593 - val_accuracy: 0.8818\n",
            "Epoch 29/300\n",
            "618/625 [============================>.] - ETA: 0s - loss: 0.0096 - accuracy: 0.9967\n",
            "Epoch 29: saving model to training_1/cp.ckpt\n",
            "INFO:tensorflow:Assets written to: training_1/cp.ckpt/assets\n"
          ]
        },
        {
          "name": "stderr",
          "output_type": "stream",
          "text": [
            "INFO:tensorflow:Assets written to: training_1/cp.ckpt/assets\n"
          ]
        },
        {
          "name": "stdout",
          "output_type": "stream",
          "text": [
            "\b\b\b\b\b\b\b\b\b\b\b\b\b\b\b\b\b\b\b\b\b\b\b\b\b\b\b\b\b\b\b\b\b\b\b\b\b\b\b\b\b\b\b\b\b\b\b\b\b\b\b\b\b\b\b\b\b\b\b\b\b\b\b\b\b\b\b\b\b\b\b\b\b\b\b\b\b\b\b\b\b\b\b\b\r625/625 [==============================] - 5s 8ms/step - loss: 0.0096 - accuracy: 0.9967 - val_loss: 0.7923 - val_accuracy: 0.8928\n",
            "Epoch 30/300\n",
            "617/625 [============================>.] - ETA: 0s - loss: 0.0153 - accuracy: 0.9948\n",
            "Epoch 30: saving model to training_1/cp.ckpt\n",
            "INFO:tensorflow:Assets written to: training_1/cp.ckpt/assets\n"
          ]
        },
        {
          "name": "stderr",
          "output_type": "stream",
          "text": [
            "INFO:tensorflow:Assets written to: training_1/cp.ckpt/assets\n"
          ]
        },
        {
          "name": "stdout",
          "output_type": "stream",
          "text": [
            "\b\b\b\b\b\b\b\b\b\b\b\b\b\b\b\b\b\b\b\b\b\b\b\b\b\b\b\b\b\b\b\b\b\b\b\b\b\b\b\b\b\b\b\b\b\b\b\b\b\b\b\b\b\b\b\b\b\b\b\b\b\b\b\b\b\b\b\b\b\b\b\b\b\b\b\b\b\b\b\b\b\b\b\b\r625/625 [==============================] - 5s 8ms/step - loss: 0.0155 - accuracy: 0.9947 - val_loss: 0.7756 - val_accuracy: 0.8776\n",
            "Epoch 31/300\n",
            "624/625 [============================>.] - ETA: 0s - loss: 0.0118 - accuracy: 0.9953\n",
            "Epoch 31: saving model to training_1/cp.ckpt\n",
            "INFO:tensorflow:Assets written to: training_1/cp.ckpt/assets\n"
          ]
        },
        {
          "name": "stderr",
          "output_type": "stream",
          "text": [
            "INFO:tensorflow:Assets written to: training_1/cp.ckpt/assets\n"
          ]
        },
        {
          "name": "stdout",
          "output_type": "stream",
          "text": [
            "\b\b\b\b\b\b\b\b\b\b\b\b\b\b\b\b\b\b\b\b\b\b\b\b\b\b\b\b\b\b\b\b\b\b\b\b\b\b\b\b\b\b\b\b\b\b\b\b\b\b\b\b\b\b\b\b\b\b\b\b\b\b\b\b\b\b\b\b\b\b\b\b\b\b\b\b\b\b\b\b\b\b\b\b\r625/625 [==============================] - 5s 9ms/step - loss: 0.0118 - accuracy: 0.9954 - val_loss: 0.7690 - val_accuracy: 0.8904\n",
            "Epoch 32/300\n",
            "622/625 [============================>.] - ETA: 0s - loss: 0.0097 - accuracy: 0.9966\n",
            "Epoch 32: saving model to training_1/cp.ckpt\n",
            "INFO:tensorflow:Assets written to: training_1/cp.ckpt/assets\n"
          ]
        },
        {
          "name": "stderr",
          "output_type": "stream",
          "text": [
            "INFO:tensorflow:Assets written to: training_1/cp.ckpt/assets\n"
          ]
        },
        {
          "name": "stdout",
          "output_type": "stream",
          "text": [
            "\b\b\b\b\b\b\b\b\b\b\b\b\b\b\b\b\b\b\b\b\b\b\b\b\b\b\b\b\b\b\b\b\b\b\b\b\b\b\b\b\b\b\b\b\b\b\b\b\b\b\b\b\b\b\b\b\b\b\b\b\b\b\b\b\b\b\b\b\b\b\b\b\b\b\b\b\b\b\b\b\b\b\b\b\r625/625 [==============================] - 5s 8ms/step - loss: 0.0097 - accuracy: 0.9966 - val_loss: 0.7934 - val_accuracy: 0.8906\n",
            "Epoch 33/300\n",
            "620/625 [============================>.] - ETA: 0s - loss: 0.0079 - accuracy: 0.9971\n",
            "Epoch 33: saving model to training_1/cp.ckpt\n",
            "INFO:tensorflow:Assets written to: training_1/cp.ckpt/assets\n"
          ]
        },
        {
          "name": "stderr",
          "output_type": "stream",
          "text": [
            "INFO:tensorflow:Assets written to: training_1/cp.ckpt/assets\n"
          ]
        },
        {
          "name": "stdout",
          "output_type": "stream",
          "text": [
            "\b\b\b\b\b\b\b\b\b\b\b\b\b\b\b\b\b\b\b\b\b\b\b\b\b\b\b\b\b\b\b\b\b\b\b\b\b\b\b\b\b\b\b\b\b\b\b\b\b\b\b\b\b\b\b\b\b\b\b\b\b\b\b\b\b\b\b\b\b\b\b\b\b\b\b\b\b\b\b\b\b\b\b\b\r625/625 [==============================] - 5s 8ms/step - loss: 0.0080 - accuracy: 0.9970 - val_loss: 0.7973 - val_accuracy: 0.8914\n",
            "Epoch 34/300\n",
            "619/625 [============================>.] - ETA: 0s - loss: 0.0085 - accuracy: 0.9972\n",
            "Epoch 34: saving model to training_1/cp.ckpt\n",
            "INFO:tensorflow:Assets written to: training_1/cp.ckpt/assets\n"
          ]
        },
        {
          "name": "stderr",
          "output_type": "stream",
          "text": [
            "INFO:tensorflow:Assets written to: training_1/cp.ckpt/assets\n"
          ]
        },
        {
          "name": "stdout",
          "output_type": "stream",
          "text": [
            "\b\b\b\b\b\b\b\b\b\b\b\b\b\b\b\b\b\b\b\b\b\b\b\b\b\b\b\b\b\b\b\b\b\b\b\b\b\b\b\b\b\b\b\b\b\b\b\b\b\b\b\b\b\b\b\b\b\b\b\b\b\b\b\b\b\b\b\b\b\b\b\b\b\b\b\b\b\b\b\b\b\b\b\b\r625/625 [==============================] - 5s 8ms/step - loss: 0.0085 - accuracy: 0.9972 - val_loss: 0.7040 - val_accuracy: 0.8918\n",
            "Epoch 35/300\n",
            "619/625 [============================>.] - ETA: 0s - loss: 0.0113 - accuracy: 0.9963\n",
            "Epoch 35: saving model to training_1/cp.ckpt\n",
            "INFO:tensorflow:Assets written to: training_1/cp.ckpt/assets\n"
          ]
        },
        {
          "name": "stderr",
          "output_type": "stream",
          "text": [
            "INFO:tensorflow:Assets written to: training_1/cp.ckpt/assets\n"
          ]
        },
        {
          "name": "stdout",
          "output_type": "stream",
          "text": [
            "\b\b\b\b\b\b\b\b\b\b\b\b\b\b\b\b\b\b\b\b\b\b\b\b\b\b\b\b\b\b\b\b\b\b\b\b\b\b\b\b\b\b\b\b\b\b\b\b\b\b\b\b\b\b\b\b\b\b\b\b\b\b\b\b\b\b\b\b\b\b\b\b\b\b\b\b\b\b\b\b\b\b\b\b\r625/625 [==============================] - 5s 9ms/step - loss: 0.0112 - accuracy: 0.9963 - val_loss: 0.6887 - val_accuracy: 0.8916\n",
            "Epoch 36/300\n",
            "620/625 [============================>.] - ETA: 0s - loss: 0.0072 - accuracy: 0.9973\n",
            "Epoch 36: saving model to training_1/cp.ckpt\n",
            "INFO:tensorflow:Assets written to: training_1/cp.ckpt/assets\n"
          ]
        },
        {
          "name": "stderr",
          "output_type": "stream",
          "text": [
            "INFO:tensorflow:Assets written to: training_1/cp.ckpt/assets\n"
          ]
        },
        {
          "name": "stdout",
          "output_type": "stream",
          "text": [
            "\b\b\b\b\b\b\b\b\b\b\b\b\b\b\b\b\b\b\b\b\b\b\b\b\b\b\b\b\b\b\b\b\b\b\b\b\b\b\b\b\b\b\b\b\b\b\b\b\b\b\b\b\b\b\b\b\b\b\b\b\b\b\b\b\b\b\b\b\b\b\b\b\b\b\b\b\b\b\b\b\b\b\b\b\r625/625 [==============================] - 5s 8ms/step - loss: 0.0073 - accuracy: 0.9973 - val_loss: 0.7440 - val_accuracy: 0.8922\n",
            "Epoch 37/300\n",
            "625/625 [==============================] - ETA: 0s - loss: 0.0067 - accuracy: 0.9977\n",
            "Epoch 37: saving model to training_1/cp.ckpt\n",
            "INFO:tensorflow:Assets written to: training_1/cp.ckpt/assets\n"
          ]
        },
        {
          "name": "stderr",
          "output_type": "stream",
          "text": [
            "INFO:tensorflow:Assets written to: training_1/cp.ckpt/assets\n"
          ]
        },
        {
          "name": "stdout",
          "output_type": "stream",
          "text": [
            "\b\b\b\b\b\b\b\b\b\b\b\b\b\b\b\b\b\b\b\b\b\b\b\b\b\b\b\b\b\b\b\b\b\b\b\b\b\b\b\b\b\b\b\b\b\b\b\b\b\b\b\b\b\b\b\b\b\b\b\b\b\b\b\b\b\b\b\b\b\b\b\b\b\b\b\b\b\b\b\b\b\b\b\b\r625/625 [==============================] - 5s 8ms/step - loss: 0.0067 - accuracy: 0.9977 - val_loss: 0.7710 - val_accuracy: 0.8946\n",
            "Epoch 38/300\n",
            "621/625 [============================>.] - ETA: 0s - loss: 0.0122 - accuracy: 0.9957\n",
            "Epoch 38: saving model to training_1/cp.ckpt\n",
            "INFO:tensorflow:Assets written to: training_1/cp.ckpt/assets\n"
          ]
        },
        {
          "name": "stderr",
          "output_type": "stream",
          "text": [
            "INFO:tensorflow:Assets written to: training_1/cp.ckpt/assets\n"
          ]
        },
        {
          "name": "stdout",
          "output_type": "stream",
          "text": [
            "\b\b\b\b\b\b\b\b\b\b\b\b\b\b\b\b\b\b\b\b\b\b\b\b\b\b\b\b\b\b\b\b\b\b\b\b\b\b\b\b\b\b\b\b\b\b\b\b\b\b\b\b\b\b\b\b\b\b\b\b\b\b\b\b\b\b\b\b\b\b\b\b\b\b\b\b\b\b\b\b\b\b\b\b\r625/625 [==============================] - 5s 8ms/step - loss: 0.0125 - accuracy: 0.9956 - val_loss: 0.7322 - val_accuracy: 0.8868\n",
            "Epoch 39/300\n",
            "621/625 [============================>.] - ETA: 0s - loss: 0.0091 - accuracy: 0.9969\n",
            "Epoch 39: saving model to training_1/cp.ckpt\n",
            "INFO:tensorflow:Assets written to: training_1/cp.ckpt/assets\n"
          ]
        },
        {
          "name": "stderr",
          "output_type": "stream",
          "text": [
            "INFO:tensorflow:Assets written to: training_1/cp.ckpt/assets\n"
          ]
        },
        {
          "name": "stdout",
          "output_type": "stream",
          "text": [
            "\b\b\b\b\b\b\b\b\b\b\b\b\b\b\b\b\b\b\b\b\b\b\b\b\b\b\b\b\b\b\b\b\b\b\b\b\b\b\b\b\b\b\b\b\b\b\b\b\b\b\b\b\b\b\b\b\b\b\b\b\b\b\b\b\b\b\b\b\b\b\b\b\b\b\b\b\b\b\b\b\b\b\b\b\r625/625 [==============================] - 6s 10ms/step - loss: 0.0091 - accuracy: 0.9969 - val_loss: 0.8548 - val_accuracy: 0.8890\n",
            "Epoch 40/300\n",
            "618/625 [============================>.] - ETA: 0s - loss: 0.0095 - accuracy: 0.9967\n",
            "Epoch 40: saving model to training_1/cp.ckpt\n",
            "INFO:tensorflow:Assets written to: training_1/cp.ckpt/assets\n"
          ]
        },
        {
          "name": "stderr",
          "output_type": "stream",
          "text": [
            "INFO:tensorflow:Assets written to: training_1/cp.ckpt/assets\n"
          ]
        },
        {
          "name": "stdout",
          "output_type": "stream",
          "text": [
            "\b\b\b\b\b\b\b\b\b\b\b\b\b\b\b\b\b\b\b\b\b\b\b\b\b\b\b\b\b\b\b\b\b\b\b\b\b\b\b\b\b\b\b\b\b\b\b\b\b\b\b\b\b\b\b\b\b\b\b\b\b\b\b\b\b\b\b\b\b\b\b\b\b\b\b\b\b\b\b\b\b\b\b\b\r625/625 [==============================] - 5s 8ms/step - loss: 0.0094 - accuracy: 0.9967 - val_loss: 0.7975 - val_accuracy: 0.8910\n",
            "Epoch 41/300\n",
            "619/625 [============================>.] - ETA: 0s - loss: 0.0083 - accuracy: 0.9972\n",
            "Epoch 41: saving model to training_1/cp.ckpt\n",
            "INFO:tensorflow:Assets written to: training_1/cp.ckpt/assets\n"
          ]
        },
        {
          "name": "stderr",
          "output_type": "stream",
          "text": [
            "INFO:tensorflow:Assets written to: training_1/cp.ckpt/assets\n"
          ]
        },
        {
          "name": "stdout",
          "output_type": "stream",
          "text": [
            "\b\b\b\b\b\b\b\b\b\b\b\b\b\b\b\b\b\b\b\b\b\b\b\b\b\b\b\b\b\b\b\b\b\b\b\b\b\b\b\b\b\b\b\b\b\b\b\b\b\b\b\b\b\b\b\b\b\b\b\b\b\b\b\b\b\b\b\b\b\b\b\b\b\b\b\b\b\b\b\b\b\b\b\b\r625/625 [==============================] - 5s 9ms/step - loss: 0.0083 - accuracy: 0.9972 - val_loss: 0.7971 - val_accuracy: 0.8906\n",
            "Epoch 42/300\n",
            "621/625 [============================>.] - ETA: 0s - loss: 0.0068 - accuracy: 0.9976\n",
            "Epoch 42: saving model to training_1/cp.ckpt\n",
            "INFO:tensorflow:Assets written to: training_1/cp.ckpt/assets\n"
          ]
        },
        {
          "name": "stderr",
          "output_type": "stream",
          "text": [
            "INFO:tensorflow:Assets written to: training_1/cp.ckpt/assets\n"
          ]
        },
        {
          "name": "stdout",
          "output_type": "stream",
          "text": [
            "\b\b\b\b\b\b\b\b\b\b\b\b\b\b\b\b\b\b\b\b\b\b\b\b\b\b\b\b\b\b\b\b\b\b\b\b\b\b\b\b\b\b\b\b\b\b\b\b\b\b\b\b\b\b\b\b\b\b\b\b\b\b\b\b\b\b\b\b\b\b\b\b\b\b\b\b\b\b\b\b\b\b\b\b\r625/625 [==============================] - 5s 9ms/step - loss: 0.0069 - accuracy: 0.9976 - val_loss: 0.8875 - val_accuracy: 0.8800\n",
            "Epoch 43/300\n",
            "623/625 [============================>.] - ETA: 0s - loss: 0.0080 - accuracy: 0.9972\n",
            "Epoch 43: saving model to training_1/cp.ckpt\n",
            "INFO:tensorflow:Assets written to: training_1/cp.ckpt/assets\n"
          ]
        },
        {
          "name": "stderr",
          "output_type": "stream",
          "text": [
            "INFO:tensorflow:Assets written to: training_1/cp.ckpt/assets\n"
          ]
        },
        {
          "name": "stdout",
          "output_type": "stream",
          "text": [
            "\b\b\b\b\b\b\b\b\b\b\b\b\b\b\b\b\b\b\b\b\b\b\b\b\b\b\b\b\b\b\b\b\b\b\b\b\b\b\b\b\b\b\b\b\b\b\b\b\b\b\b\b\b\b\b\b\b\b\b\b\b\b\b\b\b\b\b\b\b\b\b\b\b\b\b\b\b\b\b\b\b\b\b\b\r625/625 [==============================] - 5s 8ms/step - loss: 0.0080 - accuracy: 0.9973 - val_loss: 0.7997 - val_accuracy: 0.8914\n",
            "Epoch 44/300\n",
            "623/625 [============================>.] - ETA: 0s - loss: 0.0079 - accuracy: 0.9969\n",
            "Epoch 44: saving model to training_1/cp.ckpt\n",
            "INFO:tensorflow:Assets written to: training_1/cp.ckpt/assets\n"
          ]
        },
        {
          "name": "stderr",
          "output_type": "stream",
          "text": [
            "INFO:tensorflow:Assets written to: training_1/cp.ckpt/assets\n"
          ]
        },
        {
          "name": "stdout",
          "output_type": "stream",
          "text": [
            "\b\b\b\b\b\b\b\b\b\b\b\b\b\b\b\b\b\b\b\b\b\b\b\b\b\b\b\b\b\b\b\b\b\b\b\b\b\b\b\b\b\b\b\b\b\b\b\b\b\b\b\b\b\b\b\b\b\b\b\b\b\b\b\b\b\b\b\b\b\b\b\b\b\b\b\b\b\b\b\b\b\b\b\b\r625/625 [==============================] - 5s 8ms/step - loss: 0.0079 - accuracy: 0.9969 - val_loss: 0.7688 - val_accuracy: 0.8926\n",
            "Epoch 45/300\n",
            "621/625 [============================>.] - ETA: 0s - loss: 0.0093 - accuracy: 0.9971\n",
            "Epoch 45: saving model to training_1/cp.ckpt\n",
            "INFO:tensorflow:Assets written to: training_1/cp.ckpt/assets\n"
          ]
        },
        {
          "name": "stderr",
          "output_type": "stream",
          "text": [
            "INFO:tensorflow:Assets written to: training_1/cp.ckpt/assets\n"
          ]
        },
        {
          "name": "stdout",
          "output_type": "stream",
          "text": [
            "\b\b\b\b\b\b\b\b\b\b\b\b\b\b\b\b\b\b\b\b\b\b\b\b\b\b\b\b\b\b\b\b\b\b\b\b\b\b\b\b\b\b\b\b\b\b\b\b\b\b\b\b\b\b\b\b\b\b\b\b\b\b\b\b\b\b\b\b\b\b\b\b\b\b\b\b\b\b\b\b\b\b\b\b\r625/625 [==============================] - 5s 8ms/step - loss: 0.0093 - accuracy: 0.9971 - val_loss: 0.8055 - val_accuracy: 0.8936\n",
            "Epoch 46/300\n",
            "618/625 [============================>.] - ETA: 0s - loss: 0.0094 - accuracy: 0.9971\n",
            "Epoch 46: saving model to training_1/cp.ckpt\n",
            "INFO:tensorflow:Assets written to: training_1/cp.ckpt/assets\n"
          ]
        },
        {
          "name": "stderr",
          "output_type": "stream",
          "text": [
            "INFO:tensorflow:Assets written to: training_1/cp.ckpt/assets\n"
          ]
        },
        {
          "name": "stdout",
          "output_type": "stream",
          "text": [
            "\b\b\b\b\b\b\b\b\b\b\b\b\b\b\b\b\b\b\b\b\b\b\b\b\b\b\b\b\b\b\b\b\b\b\b\b\b\b\b\b\b\b\b\b\b\b\b\b\b\b\b\b\b\b\b\b\b\b\b\b\b\b\b\b\b\b\b\b\b\b\b\b\b\b\b\b\b\b\b\b\b\b\b\b\r625/625 [==============================] - 5s 9ms/step - loss: 0.0094 - accuracy: 0.9971 - val_loss: 0.7710 - val_accuracy: 0.8882\n",
            "Epoch 47/300\n",
            "618/625 [============================>.] - ETA: 0s - loss: 0.0062 - accuracy: 0.9978\n",
            "Epoch 47: saving model to training_1/cp.ckpt\n",
            "INFO:tensorflow:Assets written to: training_1/cp.ckpt/assets\n"
          ]
        },
        {
          "name": "stderr",
          "output_type": "stream",
          "text": [
            "INFO:tensorflow:Assets written to: training_1/cp.ckpt/assets\n"
          ]
        },
        {
          "name": "stdout",
          "output_type": "stream",
          "text": [
            "\b\b\b\b\b\b\b\b\b\b\b\b\b\b\b\b\b\b\b\b\b\b\b\b\b\b\b\b\b\b\b\b\b\b\b\b\b\b\b\b\b\b\b\b\b\b\b\b\b\b\b\b\b\b\b\b\b\b\b\b\b\b\b\b\b\b\b\b\b\b\b\b\b\b\b\b\b\b\b\b\b\b\b\b\r625/625 [==============================] - 5s 9ms/step - loss: 0.0062 - accuracy: 0.9978 - val_loss: 0.8185 - val_accuracy: 0.8820\n",
            "Epoch 48/300\n",
            "621/625 [============================>.] - ETA: 0s - loss: 0.0076 - accuracy: 0.9975\n",
            "Epoch 48: saving model to training_1/cp.ckpt\n",
            "INFO:tensorflow:Assets written to: training_1/cp.ckpt/assets\n"
          ]
        },
        {
          "name": "stderr",
          "output_type": "stream",
          "text": [
            "INFO:tensorflow:Assets written to: training_1/cp.ckpt/assets\n"
          ]
        },
        {
          "name": "stdout",
          "output_type": "stream",
          "text": [
            "\b\b\b\b\b\b\b\b\b\b\b\b\b\b\b\b\b\b\b\b\b\b\b\b\b\b\b\b\b\b\b\b\b\b\b\b\b\b\b\b\b\b\b\b\b\b\b\b\b\b\b\b\b\b\b\b\b\b\b\b\b\b\b\b\b\b\b\b\b\b\b\b\b\b\b\b\b\b\b\b\b\b\b\b\r625/625 [==============================] - 5s 9ms/step - loss: 0.0075 - accuracy: 0.9976 - val_loss: 0.8285 - val_accuracy: 0.8878\n",
            "Epoch 49/300\n",
            "622/625 [============================>.] - ETA: 0s - loss: 0.0064 - accuracy: 0.9978\n",
            "Epoch 49: saving model to training_1/cp.ckpt\n",
            "INFO:tensorflow:Assets written to: training_1/cp.ckpt/assets\n"
          ]
        },
        {
          "name": "stderr",
          "output_type": "stream",
          "text": [
            "INFO:tensorflow:Assets written to: training_1/cp.ckpt/assets\n"
          ]
        },
        {
          "name": "stdout",
          "output_type": "stream",
          "text": [
            "\b\b\b\b\b\b\b\b\b\b\b\b\b\b\b\b\b\b\b\b\b\b\b\b\b\b\b\b\b\b\b\b\b\b\b\b\b\b\b\b\b\b\b\b\b\b\b\b\b\b\b\b\b\b\b\b\b\b\b\b\b\b\b\b\b\b\b\b\b\b\b\b\b\b\b\b\b\b\b\b\b\b\b\b\r625/625 [==============================] - 5s 8ms/step - loss: 0.0064 - accuracy: 0.9979 - val_loss: 0.7229 - val_accuracy: 0.8880\n",
            "Epoch 50/300\n",
            "617/625 [============================>.] - ETA: 0s - loss: 0.0063 - accuracy: 0.9979\n",
            "Epoch 50: saving model to training_1/cp.ckpt\n",
            "INFO:tensorflow:Assets written to: training_1/cp.ckpt/assets\n"
          ]
        },
        {
          "name": "stderr",
          "output_type": "stream",
          "text": [
            "INFO:tensorflow:Assets written to: training_1/cp.ckpt/assets\n"
          ]
        },
        {
          "name": "stdout",
          "output_type": "stream",
          "text": [
            "\b\b\b\b\b\b\b\b\b\b\b\b\b\b\b\b\b\b\b\b\b\b\b\b\b\b\b\b\b\b\b\b\b\b\b\b\b\b\b\b\b\b\b\b\b\b\b\b\b\b\b\b\b\b\b\b\b\b\b\b\b\b\b\b\b\b\b\b\b\b\b\b\b\b\b\b\b\b\b\b\b\b\b\b\r625/625 [==============================] - 5s 8ms/step - loss: 0.0063 - accuracy: 0.9979 - val_loss: 0.8000 - val_accuracy: 0.8884\n",
            "Epoch 51/300\n",
            "618/625 [============================>.] - ETA: 0s - loss: 0.0071 - accuracy: 0.9976\n",
            "Epoch 51: saving model to training_1/cp.ckpt\n",
            "INFO:tensorflow:Assets written to: training_1/cp.ckpt/assets\n"
          ]
        },
        {
          "name": "stderr",
          "output_type": "stream",
          "text": [
            "INFO:tensorflow:Assets written to: training_1/cp.ckpt/assets\n"
          ]
        },
        {
          "name": "stdout",
          "output_type": "stream",
          "text": [
            "\b\b\b\b\b\b\b\b\b\b\b\b\b\b\b\b\b\b\b\b\b\b\b\b\b\b\b\b\b\b\b\b\b\b\b\b\b\b\b\b\b\b\b\b\b\b\b\b\b\b\b\b\b\b\b\b\b\b\b\b\b\b\b\b\b\b\b\b\b\b\b\b\b\b\b\b\b\b\b\b\b\b\b\b\r625/625 [==============================] - 5s 9ms/step - loss: 0.0070 - accuracy: 0.9976 - val_loss: 0.9048 - val_accuracy: 0.8902\n",
            "Epoch 52/300\n",
            "625/625 [==============================] - ETA: 0s - loss: 0.0086 - accuracy: 0.9973\n",
            "Epoch 52: saving model to training_1/cp.ckpt\n",
            "INFO:tensorflow:Assets written to: training_1/cp.ckpt/assets\n"
          ]
        },
        {
          "name": "stderr",
          "output_type": "stream",
          "text": [
            "INFO:tensorflow:Assets written to: training_1/cp.ckpt/assets\n"
          ]
        },
        {
          "name": "stdout",
          "output_type": "stream",
          "text": [
            "\b\b\b\b\b\b\b\b\b\b\b\b\b\b\b\b\b\b\b\b\b\b\b\b\b\b\b\b\b\b\b\b\b\b\b\b\b\b\b\b\b\b\b\b\b\b\b\b\b\b\b\b\b\b\b\b\b\b\b\b\b\b\b\b\b\b\b\b\b\b\b\b\b\b\b\b\b\b\b\b\b\b\b\b\r625/625 [==============================] - 6s 10ms/step - loss: 0.0086 - accuracy: 0.9973 - val_loss: 0.7394 - val_accuracy: 0.8872\n",
            "Epoch 53/300\n",
            "624/625 [============================>.] - ETA: 0s - loss: 0.0063 - accuracy: 0.9979\n",
            "Epoch 53: saving model to training_1/cp.ckpt\n",
            "INFO:tensorflow:Assets written to: training_1/cp.ckpt/assets\n"
          ]
        },
        {
          "name": "stderr",
          "output_type": "stream",
          "text": [
            "INFO:tensorflow:Assets written to: training_1/cp.ckpt/assets\n"
          ]
        },
        {
          "name": "stdout",
          "output_type": "stream",
          "text": [
            "\b\b\b\b\b\b\b\b\b\b\b\b\b\b\b\b\b\b\b\b\b\b\b\b\b\b\b\b\b\b\b\b\b\b\b\b\b\b\b\b\b\b\b\b\b\b\b\b\b\b\b\b\b\b\b\b\b\b\b\b\b\b\b\b\b\b\b\b\b\b\b\b\b\b\b\b\b\b\b\b\b\b\b\b\r625/625 [==============================] - 5s 8ms/step - loss: 0.0063 - accuracy: 0.9980 - val_loss: 0.8356 - val_accuracy: 0.8878\n",
            "Epoch 54/300\n",
            "622/625 [============================>.] - ETA: 0s - loss: 0.0075 - accuracy: 0.9974\n",
            "Epoch 54: saving model to training_1/cp.ckpt\n",
            "INFO:tensorflow:Assets written to: training_1/cp.ckpt/assets\n"
          ]
        },
        {
          "name": "stderr",
          "output_type": "stream",
          "text": [
            "INFO:tensorflow:Assets written to: training_1/cp.ckpt/assets\n"
          ]
        },
        {
          "name": "stdout",
          "output_type": "stream",
          "text": [
            "\b\b\b\b\b\b\b\b\b\b\b\b\b\b\b\b\b\b\b\b\b\b\b\b\b\b\b\b\b\b\b\b\b\b\b\b\b\b\b\b\b\b\b\b\b\b\b\b\b\b\b\b\b\b\b\b\b\b\b\b\b\b\b\b\b\b\b\b\b\b\b\b\b\b\b\b\b\b\b\b\b\b\b\b\r625/625 [==============================] - 5s 8ms/step - loss: 0.0074 - accuracy: 0.9974 - val_loss: 0.8433 - val_accuracy: 0.8804\n",
            "Epoch 55/300\n",
            "620/625 [============================>.] - ETA: 0s - loss: 0.0072 - accuracy: 0.9976\n",
            "Epoch 55: saving model to training_1/cp.ckpt\n",
            "INFO:tensorflow:Assets written to: training_1/cp.ckpt/assets\n"
          ]
        },
        {
          "name": "stderr",
          "output_type": "stream",
          "text": [
            "INFO:tensorflow:Assets written to: training_1/cp.ckpt/assets\n"
          ]
        },
        {
          "name": "stdout",
          "output_type": "stream",
          "text": [
            "\b\b\b\b\b\b\b\b\b\b\b\b\b\b\b\b\b\b\b\b\b\b\b\b\b\b\b\b\b\b\b\b\b\b\b\b\b\b\b\b\b\b\b\b\b\b\b\b\b\b\b\b\b\b\b\b\b\b\b\b\b\b\b\b\b\b\b\b\b\b\b\b\b\b\b\b\b\b\b\b\b\b\b\b\r625/625 [==============================] - 5s 8ms/step - loss: 0.0071 - accuracy: 0.9977 - val_loss: 0.7262 - val_accuracy: 0.8892\n",
            "Epoch 56/300\n",
            "620/625 [============================>.] - ETA: 0s - loss: 0.0063 - accuracy: 0.9975\n",
            "Epoch 56: saving model to training_1/cp.ckpt\n",
            "INFO:tensorflow:Assets written to: training_1/cp.ckpt/assets\n"
          ]
        },
        {
          "name": "stderr",
          "output_type": "stream",
          "text": [
            "INFO:tensorflow:Assets written to: training_1/cp.ckpt/assets\n"
          ]
        },
        {
          "name": "stdout",
          "output_type": "stream",
          "text": [
            "\b\b\b\b\b\b\b\b\b\b\b\b\b\b\b\b\b\b\b\b\b\b\b\b\b\b\b\b\b\b\b\b\b\b\b\b\b\b\b\b\b\b\b\b\b\b\b\b\b\b\b\b\b\b\b\b\b\b\b\b\b\b\b\b\b\b\b\b\b\b\b\b\b\b\b\b\b\b\b\b\b\b\b\b\r625/625 [==============================] - 5s 8ms/step - loss: 0.0063 - accuracy: 0.9976 - val_loss: 0.9233 - val_accuracy: 0.8844\n",
            "Epoch 57/300\n",
            "622/625 [============================>.] - ETA: 0s - loss: 0.0073 - accuracy: 0.9974\n",
            "Epoch 57: saving model to training_1/cp.ckpt\n",
            "INFO:tensorflow:Assets written to: training_1/cp.ckpt/assets\n"
          ]
        },
        {
          "name": "stderr",
          "output_type": "stream",
          "text": [
            "INFO:tensorflow:Assets written to: training_1/cp.ckpt/assets\n"
          ]
        },
        {
          "name": "stdout",
          "output_type": "stream",
          "text": [
            "\b\b\b\b\b\b\b\b\b\b\b\b\b\b\b\b\b\b\b\b\b\b\b\b\b\b\b\b\b\b\b\b\b\b\b\b\b\b\b\b\b\b\b\b\b\b\b\b\b\b\b\b\b\b\b\b\b\b\b\b\b\b\b\b\b\b\b\b\b\b\b\b\b\b\b\b\b\b\b\b\b\b\b\b\r625/625 [==============================] - 5s 8ms/step - loss: 0.0073 - accuracy: 0.9974 - val_loss: 0.8743 - val_accuracy: 0.8822\n",
            "Epoch 58/300\n",
            "618/625 [============================>.] - ETA: 0s - loss: 0.0039 - accuracy: 0.9985\n",
            "Epoch 58: saving model to training_1/cp.ckpt\n",
            "INFO:tensorflow:Assets written to: training_1/cp.ckpt/assets\n"
          ]
        },
        {
          "name": "stderr",
          "output_type": "stream",
          "text": [
            "INFO:tensorflow:Assets written to: training_1/cp.ckpt/assets\n"
          ]
        },
        {
          "name": "stdout",
          "output_type": "stream",
          "text": [
            "\b\b\b\b\b\b\b\b\b\b\b\b\b\b\b\b\b\b\b\b\b\b\b\b\b\b\b\b\b\b\b\b\b\b\b\b\b\b\b\b\b\b\b\b\b\b\b\b\b\b\b\b\b\b\b\b\b\b\b\b\b\b\b\b\b\b\b\b\b\b\b\b\b\b\b\b\b\b\b\b\b\b\b\b\r625/625 [==============================] - 5s 8ms/step - loss: 0.0039 - accuracy: 0.9985 - val_loss: 0.8675 - val_accuracy: 0.8864\n",
            "Epoch 59/300\n",
            "621/625 [============================>.] - ETA: 0s - loss: 0.0061 - accuracy: 0.9977\n",
            "Epoch 59: saving model to training_1/cp.ckpt\n",
            "INFO:tensorflow:Assets written to: training_1/cp.ckpt/assets\n"
          ]
        },
        {
          "name": "stderr",
          "output_type": "stream",
          "text": [
            "INFO:tensorflow:Assets written to: training_1/cp.ckpt/assets\n"
          ]
        },
        {
          "name": "stdout",
          "output_type": "stream",
          "text": [
            "\b\b\b\b\b\b\b\b\b\b\b\b\b\b\b\b\b\b\b\b\b\b\b\b\b\b\b\b\b\b\b\b\b\b\b\b\b\b\b\b\b\b\b\b\b\b\b\b\b\b\b\b\b\b\b\b\b\b\b\b\b\b\b\b\b\b\b\b\b\b\b\b\b\b\b\b\b\b\b\b\b\b\b\b\r625/625 [==============================] - 5s 8ms/step - loss: 0.0061 - accuracy: 0.9977 - val_loss: 0.7700 - val_accuracy: 0.8872\n",
            "Epoch 60/300\n",
            "620/625 [============================>.] - ETA: 0s - loss: 0.0048 - accuracy: 0.9983\n",
            "Epoch 60: saving model to training_1/cp.ckpt\n",
            "INFO:tensorflow:Assets written to: training_1/cp.ckpt/assets\n"
          ]
        },
        {
          "name": "stderr",
          "output_type": "stream",
          "text": [
            "INFO:tensorflow:Assets written to: training_1/cp.ckpt/assets\n"
          ]
        },
        {
          "name": "stdout",
          "output_type": "stream",
          "text": [
            "\b\b\b\b\b\b\b\b\b\b\b\b\b\b\b\b\b\b\b\b\b\b\b\b\b\b\b\b\b\b\b\b\b\b\b\b\b\b\b\b\b\b\b\b\b\b\b\b\b\b\b\b\b\b\b\b\b\b\b\b\b\b\b\b\b\b\b\b\b\b\b\b\b\b\b\b\b\b\b\b\b\b\b\b\r625/625 [==============================] - 5s 9ms/step - loss: 0.0049 - accuracy: 0.9983 - val_loss: 0.8109 - val_accuracy: 0.8864\n",
            "Epoch 61/300\n",
            "617/625 [============================>.] - ETA: 0s - loss: 0.0048 - accuracy: 0.9984\n",
            "Epoch 61: saving model to training_1/cp.ckpt\n",
            "INFO:tensorflow:Assets written to: training_1/cp.ckpt/assets\n"
          ]
        },
        {
          "name": "stderr",
          "output_type": "stream",
          "text": [
            "INFO:tensorflow:Assets written to: training_1/cp.ckpt/assets\n"
          ]
        },
        {
          "name": "stdout",
          "output_type": "stream",
          "text": [
            "\b\b\b\b\b\b\b\b\b\b\b\b\b\b\b\b\b\b\b\b\b\b\b\b\b\b\b\b\b\b\b\b\b\b\b\b\b\b\b\b\b\b\b\b\b\b\b\b\b\b\b\b\b\b\b\b\b\b\b\b\b\b\b\b\b\b\b\b\b\b\b\b\b\b\b\b\b\b\b\b\b\b\b\b\r625/625 [==============================] - 5s 8ms/step - loss: 0.0048 - accuracy: 0.9984 - val_loss: 0.7929 - val_accuracy: 0.8876\n",
            "Epoch 62/300\n",
            "618/625 [============================>.] - ETA: 0s - loss: 0.0043 - accuracy: 0.9985\n",
            "Epoch 62: saving model to training_1/cp.ckpt\n",
            "INFO:tensorflow:Assets written to: training_1/cp.ckpt/assets\n"
          ]
        },
        {
          "name": "stderr",
          "output_type": "stream",
          "text": [
            "INFO:tensorflow:Assets written to: training_1/cp.ckpt/assets\n"
          ]
        },
        {
          "name": "stdout",
          "output_type": "stream",
          "text": [
            "\b\b\b\b\b\b\b\b\b\b\b\b\b\b\b\b\b\b\b\b\b\b\b\b\b\b\b\b\b\b\b\b\b\b\b\b\b\b\b\b\b\b\b\b\b\b\b\b\b\b\b\b\b\b\b\b\b\b\b\b\b\b\b\b\b\b\b\b\b\b\b\b\b\b\b\b\b\b\b\b\b\b\b\b\r625/625 [==============================] - 5s 8ms/step - loss: 0.0043 - accuracy: 0.9984 - val_loss: 0.9932 - val_accuracy: 0.8756\n",
            "Epoch 63/300\n",
            "621/625 [============================>.] - ETA: 0s - loss: 0.0060 - accuracy: 0.9979\n",
            "Epoch 63: saving model to training_1/cp.ckpt\n",
            "INFO:tensorflow:Assets written to: training_1/cp.ckpt/assets\n"
          ]
        },
        {
          "name": "stderr",
          "output_type": "stream",
          "text": [
            "INFO:tensorflow:Assets written to: training_1/cp.ckpt/assets\n"
          ]
        },
        {
          "name": "stdout",
          "output_type": "stream",
          "text": [
            "\b\b\b\b\b\b\b\b\b\b\b\b\b\b\b\b\b\b\b\b\b\b\b\b\b\b\b\b\b\b\b\b\b\b\b\b\b\b\b\b\b\b\b\b\b\b\b\b\b\b\b\b\b\b\b\b\b\b\b\b\b\b\b\b\b\b\b\b\b\b\b\b\b\b\b\b\b\b\b\b\b\b\b\b\r625/625 [==============================] - 5s 9ms/step - loss: 0.0059 - accuracy: 0.9979 - val_loss: 0.9256 - val_accuracy: 0.8886\n",
            "Epoch 64/300\n",
            "621/625 [============================>.] - ETA: 0s - loss: 0.0068 - accuracy: 0.9979\n",
            "Epoch 64: saving model to training_1/cp.ckpt\n",
            "INFO:tensorflow:Assets written to: training_1/cp.ckpt/assets\n"
          ]
        },
        {
          "name": "stderr",
          "output_type": "stream",
          "text": [
            "INFO:tensorflow:Assets written to: training_1/cp.ckpt/assets\n"
          ]
        },
        {
          "name": "stdout",
          "output_type": "stream",
          "text": [
            "\b\b\b\b\b\b\b\b\b\b\b\b\b\b\b\b\b\b\b\b\b\b\b\b\b\b\b\b\b\b\b\b\b\b\b\b\b\b\b\b\b\b\b\b\b\b\b\b\b\b\b\b\b\b\b\b\b\b\b\b\b\b\b\b\b\b\b\b\b\b\b\b\b\b\b\b\b\b\b\b\b\b\b\b\r625/625 [==============================] - 5s 8ms/step - loss: 0.0067 - accuracy: 0.9980 - val_loss: 0.8127 - val_accuracy: 0.8880\n",
            "Epoch 65/300\n",
            "620/625 [============================>.] - ETA: 0s - loss: 0.0052 - accuracy: 0.9984\n",
            "Epoch 65: saving model to training_1/cp.ckpt\n",
            "INFO:tensorflow:Assets written to: training_1/cp.ckpt/assets\n"
          ]
        },
        {
          "name": "stderr",
          "output_type": "stream",
          "text": [
            "INFO:tensorflow:Assets written to: training_1/cp.ckpt/assets\n"
          ]
        },
        {
          "name": "stdout",
          "output_type": "stream",
          "text": [
            "\b\b\b\b\b\b\b\b\b\b\b\b\b\b\b\b\b\b\b\b\b\b\b\b\b\b\b\b\b\b\b\b\b\b\b\b\b\b\b\b\b\b\b\b\b\b\b\b\b\b\b\b\b\b\b\b\b\b\b\b\b\b\b\b\b\b\b\b\b\b\b\b\b\b\b\b\b\b\b\b\b\b\b\b\r625/625 [==============================] - 5s 8ms/step - loss: 0.0052 - accuracy: 0.9984 - val_loss: 0.8652 - val_accuracy: 0.8844\n",
            "Epoch 66/300\n",
            "617/625 [============================>.] - ETA: 0s - loss: 0.0050 - accuracy: 0.9981\n",
            "Epoch 66: saving model to training_1/cp.ckpt\n",
            "INFO:tensorflow:Assets written to: training_1/cp.ckpt/assets\n"
          ]
        },
        {
          "name": "stderr",
          "output_type": "stream",
          "text": [
            "INFO:tensorflow:Assets written to: training_1/cp.ckpt/assets\n"
          ]
        },
        {
          "name": "stdout",
          "output_type": "stream",
          "text": [
            "\b\b\b\b\b\b\b\b\b\b\b\b\b\b\b\b\b\b\b\b\b\b\b\b\b\b\b\b\b\b\b\b\b\b\b\b\b\b\b\b\b\b\b\b\b\b\b\b\b\b\b\b\b\b\b\b\b\b\b\b\b\b\b\b\b\b\b\b\b\b\b\b\b\b\b\b\b\b\b\b\b\b\b\b\r625/625 [==============================] - 6s 10ms/step - loss: 0.0051 - accuracy: 0.9980 - val_loss: 0.9801 - val_accuracy: 0.8838\n",
            "Epoch 67/300\n",
            "618/625 [============================>.] - ETA: 0s - loss: 0.0067 - accuracy: 0.9978\n",
            "Epoch 67: saving model to training_1/cp.ckpt\n",
            "INFO:tensorflow:Assets written to: training_1/cp.ckpt/assets\n"
          ]
        },
        {
          "name": "stderr",
          "output_type": "stream",
          "text": [
            "INFO:tensorflow:Assets written to: training_1/cp.ckpt/assets\n"
          ]
        },
        {
          "name": "stdout",
          "output_type": "stream",
          "text": [
            "\b\b\b\b\b\b\b\b\b\b\b\b\b\b\b\b\b\b\b\b\b\b\b\b\b\b\b\b\b\b\b\b\b\b\b\b\b\b\b\b\b\b\b\b\b\b\b\b\b\b\b\b\b\b\b\b\b\b\b\b\b\b\b\b\b\b\b\b\b\b\b\b\b\b\b\b\b\b\b\b\b\b\b\b\r625/625 [==============================] - 5s 9ms/step - loss: 0.0066 - accuracy: 0.9978 - val_loss: 0.7623 - val_accuracy: 0.8884\n",
            "Epoch 68/300\n",
            "617/625 [============================>.] - ETA: 0s - loss: 0.0052 - accuracy: 0.9981\n",
            "Epoch 68: saving model to training_1/cp.ckpt\n",
            "INFO:tensorflow:Assets written to: training_1/cp.ckpt/assets\n"
          ]
        },
        {
          "name": "stderr",
          "output_type": "stream",
          "text": [
            "INFO:tensorflow:Assets written to: training_1/cp.ckpt/assets\n"
          ]
        },
        {
          "name": "stdout",
          "output_type": "stream",
          "text": [
            "\b\b\b\b\b\b\b\b\b\b\b\b\b\b\b\b\b\b\b\b\b\b\b\b\b\b\b\b\b\b\b\b\b\b\b\b\b\b\b\b\b\b\b\b\b\b\b\b\b\b\b\b\b\b\b\b\b\b\b\b\b\b\b\b\b\b\b\b\b\b\b\b\b\b\b\b\b\b\b\b\b\b\b\b\r625/625 [==============================] - 5s 8ms/step - loss: 0.0052 - accuracy: 0.9981 - val_loss: 0.7492 - val_accuracy: 0.8900\n",
            "Epoch 69/300\n",
            "619/625 [============================>.] - ETA: 0s - loss: 0.0043 - accuracy: 0.9982\n",
            "Epoch 69: saving model to training_1/cp.ckpt\n",
            "INFO:tensorflow:Assets written to: training_1/cp.ckpt/assets\n"
          ]
        },
        {
          "name": "stderr",
          "output_type": "stream",
          "text": [
            "INFO:tensorflow:Assets written to: training_1/cp.ckpt/assets\n"
          ]
        },
        {
          "name": "stdout",
          "output_type": "stream",
          "text": [
            "\b\b\b\b\b\b\b\b\b\b\b\b\b\b\b\b\b\b\b\b\b\b\b\b\b\b\b\b\b\b\b\b\b\b\b\b\b\b\b\b\b\b\b\b\b\b\b\b\b\b\b\b\b\b\b\b\b\b\b\b\b\b\b\b\b\b\b\b\b\b\b\b\b\b\b\b\b\b\b\b\b\b\b\b\r625/625 [==============================] - 5s 8ms/step - loss: 0.0043 - accuracy: 0.9983 - val_loss: 0.8558 - val_accuracy: 0.8872\n",
            "Epoch 70/300\n",
            "620/625 [============================>.] - ETA: 0s - loss: 0.0041 - accuracy: 0.9985\n",
            "Epoch 70: saving model to training_1/cp.ckpt\n",
            "INFO:tensorflow:Assets written to: training_1/cp.ckpt/assets\n"
          ]
        },
        {
          "name": "stderr",
          "output_type": "stream",
          "text": [
            "INFO:tensorflow:Assets written to: training_1/cp.ckpt/assets\n"
          ]
        },
        {
          "name": "stdout",
          "output_type": "stream",
          "text": [
            "\b\b\b\b\b\b\b\b\b\b\b\b\b\b\b\b\b\b\b\b\b\b\b\b\b\b\b\b\b\b\b\b\b\b\b\b\b\b\b\b\b\b\b\b\b\b\b\b\b\b\b\b\b\b\b\b\b\b\b\b\b\b\b\b\b\b\b\b\b\b\b\b\b\b\b\b\b\b\b\b\b\b\b\b\r625/625 [==============================] - 5s 9ms/step - loss: 0.0041 - accuracy: 0.9985 - val_loss: 0.8653 - val_accuracy: 0.8896\n",
            "Epoch 71/300\n",
            "619/625 [============================>.] - ETA: 0s - loss: 0.0065 - accuracy: 0.9980\n",
            "Epoch 71: saving model to training_1/cp.ckpt\n",
            "INFO:tensorflow:Assets written to: training_1/cp.ckpt/assets\n"
          ]
        },
        {
          "name": "stderr",
          "output_type": "stream",
          "text": [
            "INFO:tensorflow:Assets written to: training_1/cp.ckpt/assets\n"
          ]
        },
        {
          "name": "stdout",
          "output_type": "stream",
          "text": [
            "\b\b\b\b\b\b\b\b\b\b\b\b\b\b\b\b\b\b\b\b\b\b\b\b\b\b\b\b\b\b\b\b\b\b\b\b\b\b\b\b\b\b\b\b\b\b\b\b\b\b\b\b\b\b\b\b\b\b\b\b\b\b\b\b\b\b\b\b\b\b\b\b\b\b\b\b\b\b\b\b\b\b\b\b\r625/625 [==============================] - 5s 8ms/step - loss: 0.0065 - accuracy: 0.9980 - val_loss: 0.8896 - val_accuracy: 0.8850\n",
            "Epoch 72/300\n",
            "625/625 [==============================] - ETA: 0s - loss: 0.0057 - accuracy: 0.9978\n",
            "Epoch 72: saving model to training_1/cp.ckpt\n",
            "INFO:tensorflow:Assets written to: training_1/cp.ckpt/assets\n"
          ]
        },
        {
          "name": "stderr",
          "output_type": "stream",
          "text": [
            "INFO:tensorflow:Assets written to: training_1/cp.ckpt/assets\n"
          ]
        },
        {
          "name": "stdout",
          "output_type": "stream",
          "text": [
            "\b\b\b\b\b\b\b\b\b\b\b\b\b\b\b\b\b\b\b\b\b\b\b\b\b\b\b\b\b\b\b\b\b\b\b\b\b\b\b\b\b\b\b\b\b\b\b\b\b\b\b\b\b\b\b\b\b\b\b\b\b\b\b\b\b\b\b\b\b\b\b\b\b\b\b\b\b\b\b\b\b\b\b\b\r625/625 [==============================] - 5s 8ms/step - loss: 0.0057 - accuracy: 0.9978 - val_loss: 0.8428 - val_accuracy: 0.8868\n",
            "Epoch 73/300\n",
            "620/625 [============================>.] - ETA: 0s - loss: 0.0059 - accuracy: 0.9979\n",
            "Epoch 73: saving model to training_1/cp.ckpt\n",
            "INFO:tensorflow:Assets written to: training_1/cp.ckpt/assets\n"
          ]
        },
        {
          "name": "stderr",
          "output_type": "stream",
          "text": [
            "INFO:tensorflow:Assets written to: training_1/cp.ckpt/assets\n"
          ]
        },
        {
          "name": "stdout",
          "output_type": "stream",
          "text": [
            "\b\b\b\b\b\b\b\b\b\b\b\b\b\b\b\b\b\b\b\b\b\b\b\b\b\b\b\b\b\b\b\b\b\b\b\b\b\b\b\b\b\b\b\b\b\b\b\b\b\b\b\b\b\b\b\b\b\b\b\b\b\b\b\b\b\b\b\b\b\b\b\b\b\b\b\b\b\b\b\b\b\b\b\b\r625/625 [==============================] - 5s 8ms/step - loss: 0.0059 - accuracy: 0.9979 - val_loss: 0.8184 - val_accuracy: 0.8902\n",
            "Epoch 74/300\n",
            "620/625 [============================>.] - ETA: 0s - loss: 0.0043 - accuracy: 0.9985\n",
            "Epoch 74: saving model to training_1/cp.ckpt\n",
            "INFO:tensorflow:Assets written to: training_1/cp.ckpt/assets\n"
          ]
        },
        {
          "name": "stderr",
          "output_type": "stream",
          "text": [
            "INFO:tensorflow:Assets written to: training_1/cp.ckpt/assets\n"
          ]
        },
        {
          "name": "stdout",
          "output_type": "stream",
          "text": [
            "\b\b\b\b\b\b\b\b\b\b\b\b\b\b\b\b\b\b\b\b\b\b\b\b\b\b\b\b\b\b\b\b\b\b\b\b\b\b\b\b\b\b\b\b\b\b\b\b\b\b\b\b\b\b\b\b\b\b\b\b\b\b\b\b\b\b\b\b\b\b\b\b\b\b\b\b\b\b\b\b\b\b\b\b\r625/625 [==============================] - 5s 8ms/step - loss: 0.0043 - accuracy: 0.9985 - val_loss: 0.9833 - val_accuracy: 0.8820\n",
            "Epoch 75/300\n",
            "621/625 [============================>.] - ETA: 0s - loss: 0.0055 - accuracy: 0.9981\n",
            "Epoch 75: saving model to training_1/cp.ckpt\n",
            "INFO:tensorflow:Assets written to: training_1/cp.ckpt/assets\n"
          ]
        },
        {
          "name": "stderr",
          "output_type": "stream",
          "text": [
            "INFO:tensorflow:Assets written to: training_1/cp.ckpt/assets\n"
          ]
        },
        {
          "name": "stdout",
          "output_type": "stream",
          "text": [
            "\b\b\b\b\b\b\b\b\b\b\b\b\b\b\b\b\b\b\b\b\b\b\b\b\b\b\b\b\b\b\b\b\b\b\b\b\b\b\b\b\b\b\b\b\b\b\b\b\b\b\b\b\b\b\b\b\b\b\b\b\b\b\b\b\b\b\b\b\b\b\b\b\b\b\b\b\b\b\b\b\b\b\b\b\r625/625 [==============================] - 5s 8ms/step - loss: 0.0054 - accuracy: 0.9981 - val_loss: 0.8696 - val_accuracy: 0.8898\n",
            "Epoch 76/300\n",
            "620/625 [============================>.] - ETA: 0s - loss: 0.0064 - accuracy: 0.9979\n",
            "Epoch 76: saving model to training_1/cp.ckpt\n",
            "INFO:tensorflow:Assets written to: training_1/cp.ckpt/assets\n"
          ]
        },
        {
          "name": "stderr",
          "output_type": "stream",
          "text": [
            "INFO:tensorflow:Assets written to: training_1/cp.ckpt/assets\n"
          ]
        },
        {
          "name": "stdout",
          "output_type": "stream",
          "text": [
            "\b\b\b\b\b\b\b\b\b\b\b\b\b\b\b\b\b\b\b\b\b\b\b\b\b\b\b\b\b\b\b\b\b\b\b\b\b\b\b\b\b\b\b\b\b\b\b\b\b\b\b\b\b\b\b\b\b\b\b\b\b\b\b\b\b\b\b\b\b\b\b\b\b\b\b\b\b\b\b\b\b\b\b\b\r625/625 [==============================] - 5s 8ms/step - loss: 0.0064 - accuracy: 0.9980 - val_loss: 0.8167 - val_accuracy: 0.8806\n",
            "Epoch 77/300\n",
            "624/625 [============================>.] - ETA: 0s - loss: 0.0048 - accuracy: 0.9981\n",
            "Epoch 77: saving model to training_1/cp.ckpt\n",
            "INFO:tensorflow:Assets written to: training_1/cp.ckpt/assets\n"
          ]
        },
        {
          "name": "stderr",
          "output_type": "stream",
          "text": [
            "INFO:tensorflow:Assets written to: training_1/cp.ckpt/assets\n"
          ]
        },
        {
          "name": "stdout",
          "output_type": "stream",
          "text": [
            "\b\b\b\b\b\b\b\b\b\b\b\b\b\b\b\b\b\b\b\b\b\b\b\b\b\b\b\b\b\b\b\b\b\b\b\b\b\b\b\b\b\b\b\b\b\b\b\b\b\b\b\b\b\b\b\b\b\b\b\b\b\b\b\b\b\b\b\b\b\b\b\b\b\b\b\b\b\b\b\b\b\b\b\b\r625/625 [==============================] - 5s 9ms/step - loss: 0.0048 - accuracy: 0.9981 - val_loss: 0.9868 - val_accuracy: 0.8828\n",
            "Epoch 78/300\n",
            "625/625 [==============================] - ETA: 0s - loss: 0.0039 - accuracy: 0.9986\n",
            "Epoch 78: saving model to training_1/cp.ckpt\n",
            "INFO:tensorflow:Assets written to: training_1/cp.ckpt/assets\n"
          ]
        },
        {
          "name": "stderr",
          "output_type": "stream",
          "text": [
            "INFO:tensorflow:Assets written to: training_1/cp.ckpt/assets\n"
          ]
        },
        {
          "name": "stdout",
          "output_type": "stream",
          "text": [
            "\b\b\b\b\b\b\b\b\b\b\b\b\b\b\b\b\b\b\b\b\b\b\b\b\b\b\b\b\b\b\b\b\b\b\b\b\b\b\b\b\b\b\b\b\b\b\b\b\b\b\b\b\b\b\b\b\b\b\b\b\b\b\b\b\b\b\b\b\b\b\b\b\b\b\b\b\b\b\b\b\b\b\b\b\r625/625 [==============================] - 5s 8ms/step - loss: 0.0039 - accuracy: 0.9986 - val_loss: 1.0561 - val_accuracy: 0.8876\n",
            "Epoch 79/300\n",
            "624/625 [============================>.] - ETA: 0s - loss: 0.0042 - accuracy: 0.9986\n",
            "Epoch 79: saving model to training_1/cp.ckpt\n",
            "INFO:tensorflow:Assets written to: training_1/cp.ckpt/assets\n"
          ]
        },
        {
          "name": "stderr",
          "output_type": "stream",
          "text": [
            "INFO:tensorflow:Assets written to: training_1/cp.ckpt/assets\n"
          ]
        },
        {
          "name": "stdout",
          "output_type": "stream",
          "text": [
            "\b\b\b\b\b\b\b\b\b\b\b\b\b\b\b\b\b\b\b\b\b\b\b\b\b\b\b\b\b\b\b\b\b\b\b\b\b\b\b\b\b\b\b\b\b\b\b\b\b\b\b\b\b\b\b\b\b\b\b\b\b\b\b\b\b\b\b\b\b\b\b\b\b\b\b\b\b\b\b\b\b\b\b\b\r625/625 [==============================] - 6s 10ms/step - loss: 0.0042 - accuracy: 0.9987 - val_loss: 1.0631 - val_accuracy: 0.8822\n",
            "Epoch 80/300\n",
            "622/625 [============================>.] - ETA: 0s - loss: 0.0054 - accuracy: 0.9983\n",
            "Epoch 80: saving model to training_1/cp.ckpt\n",
            "INFO:tensorflow:Assets written to: training_1/cp.ckpt/assets\n"
          ]
        },
        {
          "name": "stderr",
          "output_type": "stream",
          "text": [
            "INFO:tensorflow:Assets written to: training_1/cp.ckpt/assets\n"
          ]
        },
        {
          "name": "stdout",
          "output_type": "stream",
          "text": [
            "\b\b\b\b\b\b\b\b\b\b\b\b\b\b\b\b\b\b\b\b\b\b\b\b\b\b\b\b\b\b\b\b\b\b\b\b\b\b\b\b\b\b\b\b\b\b\b\b\b\b\b\b\b\b\b\b\b\b\b\b\b\b\b\b\b\b\b\b\b\b\b\b\b\b\b\b\b\b\b\b\b\b\b\b\r625/625 [==============================] - 5s 8ms/step - loss: 0.0055 - accuracy: 0.9983 - val_loss: 0.9778 - val_accuracy: 0.8850\n",
            "Epoch 81/300\n",
            "624/625 [============================>.] - ETA: 0s - loss: 0.0052 - accuracy: 0.9983\n",
            "Epoch 81: saving model to training_1/cp.ckpt\n",
            "INFO:tensorflow:Assets written to: training_1/cp.ckpt/assets\n"
          ]
        },
        {
          "name": "stderr",
          "output_type": "stream",
          "text": [
            "INFO:tensorflow:Assets written to: training_1/cp.ckpt/assets\n"
          ]
        },
        {
          "name": "stdout",
          "output_type": "stream",
          "text": [
            "\b\b\b\b\b\b\b\b\b\b\b\b\b\b\b\b\b\b\b\b\b\b\b\b\b\b\b\b\b\b\b\b\b\b\b\b\b\b\b\b\b\b\b\b\b\b\b\b\b\b\b\b\b\b\b\b\b\b\b\b\b\b\b\b\b\b\b\b\b\b\b\b\b\b\b\b\b\b\b\b\b\b\b\b\r625/625 [==============================] - 5s 8ms/step - loss: 0.0052 - accuracy: 0.9984 - val_loss: 0.8761 - val_accuracy: 0.8906\n",
            "Epoch 82/300\n",
            "624/625 [============================>.] - ETA: 0s - loss: 0.0043 - accuracy: 0.9984\n",
            "Epoch 82: saving model to training_1/cp.ckpt\n",
            "INFO:tensorflow:Assets written to: training_1/cp.ckpt/assets\n"
          ]
        },
        {
          "name": "stderr",
          "output_type": "stream",
          "text": [
            "INFO:tensorflow:Assets written to: training_1/cp.ckpt/assets\n"
          ]
        },
        {
          "name": "stdout",
          "output_type": "stream",
          "text": [
            "\b\b\b\b\b\b\b\b\b\b\b\b\b\b\b\b\b\b\b\b\b\b\b\b\b\b\b\b\b\b\b\b\b\b\b\b\b\b\b\b\b\b\b\b\b\b\b\b\b\b\b\b\b\b\b\b\b\b\b\b\b\b\b\b\b\b\b\b\b\b\b\b\b\b\b\b\b\b\b\b\b\b\b\b\r625/625 [==============================] - 5s 9ms/step - loss: 0.0043 - accuracy: 0.9984 - val_loss: 0.9533 - val_accuracy: 0.8886\n",
            "Epoch 83/300\n",
            "624/625 [============================>.] - ETA: 0s - loss: 0.0036 - accuracy: 0.9988\n",
            "Epoch 83: saving model to training_1/cp.ckpt\n",
            "INFO:tensorflow:Assets written to: training_1/cp.ckpt/assets\n"
          ]
        },
        {
          "name": "stderr",
          "output_type": "stream",
          "text": [
            "INFO:tensorflow:Assets written to: training_1/cp.ckpt/assets\n"
          ]
        },
        {
          "name": "stdout",
          "output_type": "stream",
          "text": [
            "\b\b\b\b\b\b\b\b\b\b\b\b\b\b\b\b\b\b\b\b\b\b\b\b\b\b\b\b\b\b\b\b\b\b\b\b\b\b\b\b\b\b\b\b\b\b\b\b\b\b\b\b\b\b\b\b\b\b\b\b\b\b\b\b\b\b\b\b\b\b\b\b\b\b\b\b\b\b\b\b\b\b\b\b\r625/625 [==============================] - 5s 8ms/step - loss: 0.0036 - accuracy: 0.9988 - val_loss: 0.9020 - val_accuracy: 0.8880\n",
            "Epoch 84/300\n",
            "624/625 [============================>.] - ETA: 0s - loss: 0.0043 - accuracy: 0.9987\n",
            "Epoch 84: saving model to training_1/cp.ckpt\n",
            "INFO:tensorflow:Assets written to: training_1/cp.ckpt/assets\n"
          ]
        },
        {
          "name": "stderr",
          "output_type": "stream",
          "text": [
            "INFO:tensorflow:Assets written to: training_1/cp.ckpt/assets\n"
          ]
        },
        {
          "name": "stdout",
          "output_type": "stream",
          "text": [
            "\b\b\b\b\b\b\b\b\b\b\b\b\b\b\b\b\b\b\b\b\b\b\b\b\b\b\b\b\b\b\b\b\b\b\b\b\b\b\b\b\b\b\b\b\b\b\b\b\b\b\b\b\b\b\b\b\b\b\b\b\b\b\b\b\b\b\b\b\b\b\b\b\b\b\b\b\b\b\b\b\b\b\b\b\r625/625 [==============================] - 5s 8ms/step - loss: 0.0043 - accuracy: 0.9987 - val_loss: 0.9211 - val_accuracy: 0.8892\n",
            "Epoch 85/300\n",
            "625/625 [==============================] - ETA: 0s - loss: 0.0027 - accuracy: 0.9990\n",
            "Epoch 85: saving model to training_1/cp.ckpt\n",
            "INFO:tensorflow:Assets written to: training_1/cp.ckpt/assets\n"
          ]
        },
        {
          "name": "stderr",
          "output_type": "stream",
          "text": [
            "INFO:tensorflow:Assets written to: training_1/cp.ckpt/assets\n"
          ]
        },
        {
          "name": "stdout",
          "output_type": "stream",
          "text": [
            "\b\b\b\b\b\b\b\b\b\b\b\b\b\b\b\b\b\b\b\b\b\b\b\b\b\b\b\b\b\b\b\b\b\b\b\b\b\b\b\b\b\b\b\b\b\b\b\b\b\b\b\b\b\b\b\b\b\b\b\b\b\b\b\b\b\b\b\b\b\b\b\b\b\b\b\b\b\b\b\b\b\b\b\b\r625/625 [==============================] - 5s 9ms/step - loss: 0.0027 - accuracy: 0.9990 - val_loss: 0.9204 - val_accuracy: 0.8894\n",
            "Epoch 86/300\n",
            "622/625 [============================>.] - ETA: 0s - loss: 0.0042 - accuracy: 0.9987\n",
            "Epoch 86: saving model to training_1/cp.ckpt\n",
            "INFO:tensorflow:Assets written to: training_1/cp.ckpt/assets\n"
          ]
        },
        {
          "name": "stderr",
          "output_type": "stream",
          "text": [
            "INFO:tensorflow:Assets written to: training_1/cp.ckpt/assets\n"
          ]
        },
        {
          "name": "stdout",
          "output_type": "stream",
          "text": [
            "\b\b\b\b\b\b\b\b\b\b\b\b\b\b\b\b\b\b\b\b\b\b\b\b\b\b\b\b\b\b\b\b\b\b\b\b\b\b\b\b\b\b\b\b\b\b\b\b\b\b\b\b\b\b\b\b\b\b\b\b\b\b\b\b\b\b\b\b\b\b\b\b\b\b\b\b\b\b\b\b\b\b\b\b\r625/625 [==============================] - 5s 9ms/step - loss: 0.0041 - accuracy: 0.9987 - val_loss: 1.0157 - val_accuracy: 0.8892\n",
            "Epoch 87/300\n",
            "624/625 [============================>.] - ETA: 0s - loss: 0.0046 - accuracy: 0.9983\n",
            "Epoch 87: saving model to training_1/cp.ckpt\n",
            "INFO:tensorflow:Assets written to: training_1/cp.ckpt/assets\n"
          ]
        },
        {
          "name": "stderr",
          "output_type": "stream",
          "text": [
            "INFO:tensorflow:Assets written to: training_1/cp.ckpt/assets\n"
          ]
        },
        {
          "name": "stdout",
          "output_type": "stream",
          "text": [
            "\b\b\b\b\b\b\b\b\b\b\b\b\b\b\b\b\b\b\b\b\b\b\b\b\b\b\b\b\b\b\b\b\b\b\b\b\b\b\b\b\b\b\b\b\b\b\b\b\b\b\b\b\b\b\b\b\b\b\b\b\b\b\b\b\b\b\b\b\b\b\b\b\b\b\b\b\b\b\b\b\b\b\b\b\r625/625 [==============================] - 5s 9ms/step - loss: 0.0046 - accuracy: 0.9983 - val_loss: 1.0321 - val_accuracy: 0.8896\n",
            "Epoch 88/300\n",
            "618/625 [============================>.] - ETA: 0s - loss: 0.0052 - accuracy: 0.9981\n",
            "Epoch 88: saving model to training_1/cp.ckpt\n",
            "INFO:tensorflow:Assets written to: training_1/cp.ckpt/assets\n"
          ]
        },
        {
          "name": "stderr",
          "output_type": "stream",
          "text": [
            "INFO:tensorflow:Assets written to: training_1/cp.ckpt/assets\n"
          ]
        },
        {
          "name": "stdout",
          "output_type": "stream",
          "text": [
            "\b\b\b\b\b\b\b\b\b\b\b\b\b\b\b\b\b\b\b\b\b\b\b\b\b\b\b\b\b\b\b\b\b\b\b\b\b\b\b\b\b\b\b\b\b\b\b\b\b\b\b\b\b\b\b\b\b\b\b\b\b\b\b\b\b\b\b\b\b\b\b\b\b\b\b\b\b\b\b\b\b\b\b\b\r625/625 [==============================] - 5s 9ms/step - loss: 0.0052 - accuracy: 0.9981 - val_loss: 0.9083 - val_accuracy: 0.8872\n",
            "Epoch 89/300\n",
            "621/625 [============================>.] - ETA: 0s - loss: 0.0054 - accuracy: 0.9979\n",
            "Epoch 89: saving model to training_1/cp.ckpt\n",
            "INFO:tensorflow:Assets written to: training_1/cp.ckpt/assets\n"
          ]
        },
        {
          "name": "stderr",
          "output_type": "stream",
          "text": [
            "INFO:tensorflow:Assets written to: training_1/cp.ckpt/assets\n"
          ]
        },
        {
          "name": "stdout",
          "output_type": "stream",
          "text": [
            "\b\b\b\b\b\b\b\b\b\b\b\b\b\b\b\b\b\b\b\b\b\b\b\b\b\b\b\b\b\b\b\b\b\b\b\b\b\b\b\b\b\b\b\b\b\b\b\b\b\b\b\b\b\b\b\b\b\b\b\b\b\b\b\b\b\b\b\b\b\b\b\b\b\b\b\b\b\b\b\b\b\b\b\b\r625/625 [==============================] - 5s 8ms/step - loss: 0.0053 - accuracy: 0.9979 - val_loss: 1.1034 - val_accuracy: 0.8708\n",
            "Epoch 90/300\n",
            "621/625 [============================>.] - ETA: 0s - loss: 0.0068 - accuracy: 0.9980\n",
            "Epoch 90: saving model to training_1/cp.ckpt\n",
            "INFO:tensorflow:Assets written to: training_1/cp.ckpt/assets\n"
          ]
        },
        {
          "name": "stderr",
          "output_type": "stream",
          "text": [
            "INFO:tensorflow:Assets written to: training_1/cp.ckpt/assets\n"
          ]
        },
        {
          "name": "stdout",
          "output_type": "stream",
          "text": [
            "\b\b\b\b\b\b\b\b\b\b\b\b\b\b\b\b\b\b\b\b\b\b\b\b\b\b\b\b\b\b\b\b\b\b\b\b\b\b\b\b\b\b\b\b\b\b\b\b\b\b\b\b\b\b\b\b\b\b\b\b\b\b\b\b\b\b\b\b\b\b\b\b\b\b\b\b\b\b\b\b\b\b\b\b\r625/625 [==============================] - 5s 8ms/step - loss: 0.0069 - accuracy: 0.9980 - val_loss: 0.9160 - val_accuracy: 0.8838\n",
            "Epoch 91/300\n",
            "620/625 [============================>.] - ETA: 0s - loss: 0.0030 - accuracy: 0.9992\n",
            "Epoch 91: saving model to training_1/cp.ckpt\n",
            "INFO:tensorflow:Assets written to: training_1/cp.ckpt/assets\n"
          ]
        },
        {
          "name": "stderr",
          "output_type": "stream",
          "text": [
            "INFO:tensorflow:Assets written to: training_1/cp.ckpt/assets\n"
          ]
        },
        {
          "name": "stdout",
          "output_type": "stream",
          "text": [
            "\b\b\b\b\b\b\b\b\b\b\b\b\b\b\b\b\b\b\b\b\b\b\b\b\b\b\b\b\b\b\b\b\b\b\b\b\b\b\b\b\b\b\b\b\b\b\b\b\b\b\b\b\b\b\b\b\b\b\b\b\b\b\b\b\b\b\b\b\b\b\b\b\b\b\b\b\b\b\b\b\b\b\b\b\r625/625 [==============================] - 5s 8ms/step - loss: 0.0030 - accuracy: 0.9992 - val_loss: 0.9212 - val_accuracy: 0.8842\n",
            "Epoch 92/300\n",
            "624/625 [============================>.] - ETA: 0s - loss: 0.0031 - accuracy: 0.9989\n",
            "Epoch 92: saving model to training_1/cp.ckpt\n",
            "INFO:tensorflow:Assets written to: training_1/cp.ckpt/assets\n"
          ]
        },
        {
          "name": "stderr",
          "output_type": "stream",
          "text": [
            "INFO:tensorflow:Assets written to: training_1/cp.ckpt/assets\n"
          ]
        },
        {
          "name": "stdout",
          "output_type": "stream",
          "text": [
            "\b\b\b\b\b\b\b\b\b\b\b\b\b\b\b\b\b\b\b\b\b\b\b\b\b\b\b\b\b\b\b\b\b\b\b\b\b\b\b\b\b\b\b\b\b\b\b\b\b\b\b\b\b\b\b\b\b\b\b\b\b\b\b\b\b\b\b\b\b\b\b\b\b\b\b\b\b\b\b\b\b\b\b\b\r625/625 [==============================] - 5s 8ms/step - loss: 0.0031 - accuracy: 0.9990 - val_loss: 1.0666 - val_accuracy: 0.8760\n",
            "Epoch 93/300\n",
            "620/625 [============================>.] - ETA: 0s - loss: 0.0029 - accuracy: 0.9988\n",
            "Epoch 93: saving model to training_1/cp.ckpt\n",
            "INFO:tensorflow:Assets written to: training_1/cp.ckpt/assets\n"
          ]
        },
        {
          "name": "stderr",
          "output_type": "stream",
          "text": [
            "INFO:tensorflow:Assets written to: training_1/cp.ckpt/assets\n"
          ]
        },
        {
          "name": "stdout",
          "output_type": "stream",
          "text": [
            "\b\b\b\b\b\b\b\b\b\b\b\b\b\b\b\b\b\b\b\b\b\b\b\b\b\b\b\b\b\b\b\b\b\b\b\b\b\b\b\b\b\b\b\b\b\b\b\b\b\b\b\b\b\b\b\b\b\b\b\b\b\b\b\b\b\b\b\b\b\b\b\b\b\b\b\b\b\b\b\b\b\b\b\b\r625/625 [==============================] - 6s 10ms/step - loss: 0.0029 - accuracy: 0.9988 - val_loss: 0.9535 - val_accuracy: 0.8930\n",
            "Epoch 94/300\n",
            "625/625 [==============================] - ETA: 0s - loss: 0.0039 - accuracy: 0.9987\n",
            "Epoch 94: saving model to training_1/cp.ckpt\n",
            "INFO:tensorflow:Assets written to: training_1/cp.ckpt/assets\n"
          ]
        },
        {
          "name": "stderr",
          "output_type": "stream",
          "text": [
            "INFO:tensorflow:Assets written to: training_1/cp.ckpt/assets\n"
          ]
        },
        {
          "name": "stdout",
          "output_type": "stream",
          "text": [
            "\b\b\b\b\b\b\b\b\b\b\b\b\b\b\b\b\b\b\b\b\b\b\b\b\b\b\b\b\b\b\b\b\b\b\b\b\b\b\b\b\b\b\b\b\b\b\b\b\b\b\b\b\b\b\b\b\b\b\b\b\b\b\b\b\b\b\b\b\b\b\b\b\b\b\b\b\b\b\b\b\b\b\b\b\r625/625 [==============================] - 5s 8ms/step - loss: 0.0039 - accuracy: 0.9987 - val_loss: 0.9051 - val_accuracy: 0.8914\n",
            "Epoch 95/300\n",
            "624/625 [============================>.] - ETA: 0s - loss: 0.0036 - accuracy: 0.9987\n",
            "Epoch 95: saving model to training_1/cp.ckpt\n",
            "INFO:tensorflow:Assets written to: training_1/cp.ckpt/assets\n"
          ]
        },
        {
          "name": "stderr",
          "output_type": "stream",
          "text": [
            "INFO:tensorflow:Assets written to: training_1/cp.ckpt/assets\n"
          ]
        },
        {
          "name": "stdout",
          "output_type": "stream",
          "text": [
            "\b\b\b\b\b\b\b\b\b\b\b\b\b\b\b\b\b\b\b\b\b\b\b\b\b\b\b\b\b\b\b\b\b\b\b\b\b\b\b\b\b\b\b\b\b\b\b\b\b\b\b\b\b\b\b\b\b\b\b\b\b\b\b\b\b\b\b\b\b\b\b\b\b\b\b\b\b\b\b\b\b\b\b\b\r625/625 [==============================] - 5s 8ms/step - loss: 0.0036 - accuracy: 0.9987 - val_loss: 0.9386 - val_accuracy: 0.8886\n",
            "Epoch 96/300\n",
            "624/625 [============================>.] - ETA: 0s - loss: 0.0040 - accuracy: 0.9987\n",
            "Epoch 96: saving model to training_1/cp.ckpt\n",
            "INFO:tensorflow:Assets written to: training_1/cp.ckpt/assets\n"
          ]
        },
        {
          "name": "stderr",
          "output_type": "stream",
          "text": [
            "INFO:tensorflow:Assets written to: training_1/cp.ckpt/assets\n"
          ]
        },
        {
          "name": "stdout",
          "output_type": "stream",
          "text": [
            "\b\b\b\b\b\b\b\b\b\b\b\b\b\b\b\b\b\b\b\b\b\b\b\b\b\b\b\b\b\b\b\b\b\b\b\b\b\b\b\b\b\b\b\b\b\b\b\b\b\b\b\b\b\b\b\b\b\b\b\b\b\b\b\b\b\b\b\b\b\b\b\b\b\b\b\b\b\b\b\b\b\b\b\b\r625/625 [==============================] - 5s 8ms/step - loss: 0.0040 - accuracy: 0.9987 - val_loss: 0.9261 - val_accuracy: 0.8904\n",
            "Epoch 97/300\n",
            "618/625 [============================>.] - ETA: 0s - loss: 0.0048 - accuracy: 0.9983\n",
            "Epoch 97: saving model to training_1/cp.ckpt\n",
            "INFO:tensorflow:Assets written to: training_1/cp.ckpt/assets\n"
          ]
        },
        {
          "name": "stderr",
          "output_type": "stream",
          "text": [
            "INFO:tensorflow:Assets written to: training_1/cp.ckpt/assets\n"
          ]
        },
        {
          "name": "stdout",
          "output_type": "stream",
          "text": [
            "\b\b\b\b\b\b\b\b\b\b\b\b\b\b\b\b\b\b\b\b\b\b\b\b\b\b\b\b\b\b\b\b\b\b\b\b\b\b\b\b\b\b\b\b\b\b\b\b\b\b\b\b\b\b\b\b\b\b\b\b\b\b\b\b\b\b\b\b\b\b\b\b\b\b\b\b\b\b\b\b\b\b\b\b\r625/625 [==============================] - 5s 9ms/step - loss: 0.0048 - accuracy: 0.9983 - val_loss: 0.7971 - val_accuracy: 0.8810\n",
            "Epoch 98/300\n",
            "620/625 [============================>.] - ETA: 0s - loss: 0.0023 - accuracy: 0.9993\n",
            "Epoch 98: saving model to training_1/cp.ckpt\n",
            "INFO:tensorflow:Assets written to: training_1/cp.ckpt/assets\n"
          ]
        },
        {
          "name": "stderr",
          "output_type": "stream",
          "text": [
            "INFO:tensorflow:Assets written to: training_1/cp.ckpt/assets\n"
          ]
        },
        {
          "name": "stdout",
          "output_type": "stream",
          "text": [
            "\b\b\b\b\b\b\b\b\b\b\b\b\b\b\b\b\b\b\b\b\b\b\b\b\b\b\b\b\b\b\b\b\b\b\b\b\b\b\b\b\b\b\b\b\b\b\b\b\b\b\b\b\b\b\b\b\b\b\b\b\b\b\b\b\b\b\b\b\b\b\b\b\b\b\b\b\b\b\b\b\b\b\b\b\r625/625 [==============================] - 5s 9ms/step - loss: 0.0024 - accuracy: 0.9993 - val_loss: 1.1020 - val_accuracy: 0.8744\n",
            "Epoch 99/300\n",
            "621/625 [============================>.] - ETA: 0s - loss: 0.0050 - accuracy: 0.9985\n",
            "Epoch 99: saving model to training_1/cp.ckpt\n",
            "INFO:tensorflow:Assets written to: training_1/cp.ckpt/assets\n"
          ]
        },
        {
          "name": "stderr",
          "output_type": "stream",
          "text": [
            "INFO:tensorflow:Assets written to: training_1/cp.ckpt/assets\n"
          ]
        },
        {
          "name": "stdout",
          "output_type": "stream",
          "text": [
            "\b\b\b\b\b\b\b\b\b\b\b\b\b\b\b\b\b\b\b\b\b\b\b\b\b\b\b\b\b\b\b\b\b\b\b\b\b\b\b\b\b\b\b\b\b\b\b\b\b\b\b\b\b\b\b\b\b\b\b\b\b\b\b\b\b\b\b\b\b\b\b\b\b\b\b\b\b\b\b\b\b\b\b\b\r625/625 [==============================] - 5s 8ms/step - loss: 0.0051 - accuracy: 0.9984 - val_loss: 0.7994 - val_accuracy: 0.8860\n",
            "Epoch 100/300\n",
            "620/625 [============================>.] - ETA: 0s - loss: 0.0043 - accuracy: 0.9987\n",
            "Epoch 100: saving model to training_1/cp.ckpt\n",
            "INFO:tensorflow:Assets written to: training_1/cp.ckpt/assets\n"
          ]
        },
        {
          "name": "stderr",
          "output_type": "stream",
          "text": [
            "INFO:tensorflow:Assets written to: training_1/cp.ckpt/assets\n"
          ]
        },
        {
          "name": "stdout",
          "output_type": "stream",
          "text": [
            "\b\b\b\b\b\b\b\b\b\b\b\b\b\b\b\b\b\b\b\b\b\b\b\b\b\b\b\b\b\b\b\b\b\b\b\b\b\b\b\b\b\b\b\b\b\b\b\b\b\b\b\b\b\b\b\b\b\b\b\b\b\b\b\b\b\b\b\b\b\b\b\b\b\b\b\b\b\b\b\b\b\b\b\b\r625/625 [==============================] - 5s 9ms/step - loss: 0.0042 - accuracy: 0.9987 - val_loss: 0.8535 - val_accuracy: 0.8868\n",
            "Epoch 101/300\n",
            "619/625 [============================>.] - ETA: 0s - loss: 0.0026 - accuracy: 0.9990\n",
            "Epoch 101: saving model to training_1/cp.ckpt\n",
            "INFO:tensorflow:Assets written to: training_1/cp.ckpt/assets\n"
          ]
        },
        {
          "name": "stderr",
          "output_type": "stream",
          "text": [
            "INFO:tensorflow:Assets written to: training_1/cp.ckpt/assets\n"
          ]
        },
        {
          "name": "stdout",
          "output_type": "stream",
          "text": [
            "\b\b\b\b\b\b\b\b\b\b\b\b\b\b\b\b\b\b\b\b\b\b\b\b\b\b\b\b\b\b\b\b\b\b\b\b\b\b\b\b\b\b\b\b\b\b\b\b\b\b\b\b\b\b\b\b\b\b\b\b\b\b\b\b\b\b\b\b\b\b\b\b\b\b\b\b\b\b\b\b\b\b\b\b\r625/625 [==============================] - 5s 8ms/step - loss: 0.0026 - accuracy: 0.9991 - val_loss: 0.9591 - val_accuracy: 0.8872\n",
            "Epoch 102/300\n",
            "622/625 [============================>.] - ETA: 0s - loss: 0.0022 - accuracy: 0.9993\n",
            "Epoch 102: saving model to training_1/cp.ckpt\n",
            "INFO:tensorflow:Assets written to: training_1/cp.ckpt/assets\n"
          ]
        },
        {
          "name": "stderr",
          "output_type": "stream",
          "text": [
            "INFO:tensorflow:Assets written to: training_1/cp.ckpt/assets\n"
          ]
        },
        {
          "name": "stdout",
          "output_type": "stream",
          "text": [
            "\b\b\b\b\b\b\b\b\b\b\b\b\b\b\b\b\b\b\b\b\b\b\b\b\b\b\b\b\b\b\b\b\b\b\b\b\b\b\b\b\b\b\b\b\b\b\b\b\b\b\b\b\b\b\b\b\b\b\b\b\b\b\b\b\b\b\b\b\b\b\b\b\b\b\b\b\b\b\b\b\b\b\b\b\r625/625 [==============================] - 5s 9ms/step - loss: 0.0022 - accuracy: 0.9994 - val_loss: 0.9955 - val_accuracy: 0.8814\n",
            "Epoch 103/300\n",
            "624/625 [============================>.] - ETA: 0s - loss: 0.0022 - accuracy: 0.9992\n",
            "Epoch 103: saving model to training_1/cp.ckpt\n",
            "INFO:tensorflow:Assets written to: training_1/cp.ckpt/assets\n"
          ]
        },
        {
          "name": "stderr",
          "output_type": "stream",
          "text": [
            "INFO:tensorflow:Assets written to: training_1/cp.ckpt/assets\n"
          ]
        },
        {
          "name": "stdout",
          "output_type": "stream",
          "text": [
            "\b\b\b\b\b\b\b\b\b\b\b\b\b\b\b\b\b\b\b\b\b\b\b\b\b\b\b\b\b\b\b\b\b\b\b\b\b\b\b\b\b\b\b\b\b\b\b\b\b\b\b\b\b\b\b\b\b\b\b\b\b\b\b\b\b\b\b\b\b\b\b\b\b\b\b\b\b\b\b\b\b\b\b\b\r625/625 [==============================] - 5s 8ms/step - loss: 0.0022 - accuracy: 0.9992 - val_loss: 0.9757 - val_accuracy: 0.8862\n",
            "Epoch 104/300\n",
            "619/625 [============================>.] - ETA: 0s - loss: 0.0030 - accuracy: 0.9988\n",
            "Epoch 104: saving model to training_1/cp.ckpt\n",
            "INFO:tensorflow:Assets written to: training_1/cp.ckpt/assets\n"
          ]
        },
        {
          "name": "stderr",
          "output_type": "stream",
          "text": [
            "INFO:tensorflow:Assets written to: training_1/cp.ckpt/assets\n"
          ]
        },
        {
          "name": "stdout",
          "output_type": "stream",
          "text": [
            "\b\b\b\b\b\b\b\b\b\b\b\b\b\b\b\b\b\b\b\b\b\b\b\b\b\b\b\b\b\b\b\b\b\b\b\b\b\b\b\b\b\b\b\b\b\b\b\b\b\b\b\b\b\b\b\b\b\b\b\b\b\b\b\b\b\b\b\b\b\b\b\b\b\b\b\b\b\b\b\b\b\b\b\b\r625/625 [==============================] - 5s 9ms/step - loss: 0.0031 - accuracy: 0.9987 - val_loss: 1.0514 - val_accuracy: 0.8840\n",
            "Epoch 105/300\n",
            "621/625 [============================>.] - ETA: 0s - loss: 0.0026 - accuracy: 0.9990\n",
            "Epoch 105: saving model to training_1/cp.ckpt\n",
            "INFO:tensorflow:Assets written to: training_1/cp.ckpt/assets\n"
          ]
        },
        {
          "name": "stderr",
          "output_type": "stream",
          "text": [
            "INFO:tensorflow:Assets written to: training_1/cp.ckpt/assets\n"
          ]
        },
        {
          "name": "stdout",
          "output_type": "stream",
          "text": [
            "\b\b\b\b\b\b\b\b\b\b\b\b\b\b\b\b\b\b\b\b\b\b\b\b\b\b\b\b\b\b\b\b\b\b\b\b\b\b\b\b\b\b\b\b\b\b\b\b\b\b\b\b\b\b\b\b\b\b\b\b\b\b\b\b\b\b\b\b\b\b\b\b\b\b\b\b\b\b\b\b\b\b\b\b\r625/625 [==============================] - 5s 8ms/step - loss: 0.0026 - accuracy: 0.9991 - val_loss: 1.2325 - val_accuracy: 0.8848\n",
            "Epoch 106/300\n",
            "625/625 [==============================] - ETA: 0s - loss: 0.0039 - accuracy: 0.9986\n",
            "Epoch 106: saving model to training_1/cp.ckpt\n",
            "INFO:tensorflow:Assets written to: training_1/cp.ckpt/assets\n"
          ]
        },
        {
          "name": "stderr",
          "output_type": "stream",
          "text": [
            "INFO:tensorflow:Assets written to: training_1/cp.ckpt/assets\n"
          ]
        },
        {
          "name": "stdout",
          "output_type": "stream",
          "text": [
            "\b\b\b\b\b\b\b\b\b\b\b\b\b\b\b\b\b\b\b\b\b\b\b\b\b\b\b\b\b\b\b\b\b\b\b\b\b\b\b\b\b\b\b\b\b\b\b\b\b\b\b\b\b\b\b\b\b\b\b\b\b\b\b\b\b\b\b\b\b\b\b\b\b\b\b\b\b\b\b\b\b\b\b\b\r625/625 [==============================] - 6s 10ms/step - loss: 0.0039 - accuracy: 0.9986 - val_loss: 1.1418 - val_accuracy: 0.8862\n",
            "Epoch 107/300\n",
            "622/625 [============================>.] - ETA: 0s - loss: 0.0041 - accuracy: 0.9989\n",
            "Epoch 107: saving model to training_1/cp.ckpt\n",
            "INFO:tensorflow:Assets written to: training_1/cp.ckpt/assets\n"
          ]
        },
        {
          "name": "stderr",
          "output_type": "stream",
          "text": [
            "INFO:tensorflow:Assets written to: training_1/cp.ckpt/assets\n"
          ]
        },
        {
          "name": "stdout",
          "output_type": "stream",
          "text": [
            "\b\b\b\b\b\b\b\b\b\b\b\b\b\b\b\b\b\b\b\b\b\b\b\b\b\b\b\b\b\b\b\b\b\b\b\b\b\b\b\b\b\b\b\b\b\b\b\b\b\b\b\b\b\b\b\b\b\b\b\b\b\b\b\b\b\b\b\b\b\b\b\b\b\b\b\b\b\b\b\b\b\b\b\b\r625/625 [==============================] - 5s 9ms/step - loss: 0.0040 - accuracy: 0.9989 - val_loss: 0.9751 - val_accuracy: 0.8854\n",
            "Epoch 108/300\n",
            "617/625 [============================>.] - ETA: 0s - loss: 0.0044 - accuracy: 0.9986\n",
            "Epoch 108: saving model to training_1/cp.ckpt\n",
            "INFO:tensorflow:Assets written to: training_1/cp.ckpt/assets\n"
          ]
        },
        {
          "name": "stderr",
          "output_type": "stream",
          "text": [
            "INFO:tensorflow:Assets written to: training_1/cp.ckpt/assets\n"
          ]
        },
        {
          "name": "stdout",
          "output_type": "stream",
          "text": [
            "\b\b\b\b\b\b\b\b\b\b\b\b\b\b\b\b\b\b\b\b\b\b\b\b\b\b\b\b\b\b\b\b\b\b\b\b\b\b\b\b\b\b\b\b\b\b\b\b\b\b\b\b\b\b\b\b\b\b\b\b\b\b\b\b\b\b\b\b\b\b\b\b\b\b\b\b\b\b\b\b\b\b\b\b\r625/625 [==============================] - 5s 9ms/step - loss: 0.0044 - accuracy: 0.9987 - val_loss: 1.0423 - val_accuracy: 0.8864\n",
            "Epoch 109/300\n",
            "618/625 [============================>.] - ETA: 0s - loss: 0.0041 - accuracy: 0.9986\n",
            "Epoch 109: saving model to training_1/cp.ckpt\n",
            "INFO:tensorflow:Assets written to: training_1/cp.ckpt/assets\n"
          ]
        },
        {
          "name": "stderr",
          "output_type": "stream",
          "text": [
            "INFO:tensorflow:Assets written to: training_1/cp.ckpt/assets\n"
          ]
        },
        {
          "name": "stdout",
          "output_type": "stream",
          "text": [
            "\b\b\b\b\b\b\b\b\b\b\b\b\b\b\b\b\b\b\b\b\b\b\b\b\b\b\b\b\b\b\b\b\b\b\b\b\b\b\b\b\b\b\b\b\b\b\b\b\b\b\b\b\b\b\b\b\b\b\b\b\b\b\b\b\b\b\b\b\b\b\b\b\b\b\b\b\b\b\b\b\b\b\b\b\r625/625 [==============================] - 5s 8ms/step - loss: 0.0042 - accuracy: 0.9986 - val_loss: 1.1892 - val_accuracy: 0.8840\n",
            "Epoch 110/300\n",
            "622/625 [============================>.] - ETA: 0s - loss: 0.0034 - accuracy: 0.9988\n",
            "Epoch 110: saving model to training_1/cp.ckpt\n",
            "INFO:tensorflow:Assets written to: training_1/cp.ckpt/assets\n"
          ]
        },
        {
          "name": "stderr",
          "output_type": "stream",
          "text": [
            "INFO:tensorflow:Assets written to: training_1/cp.ckpt/assets\n"
          ]
        },
        {
          "name": "stdout",
          "output_type": "stream",
          "text": [
            "\b\b\b\b\b\b\b\b\b\b\b\b\b\b\b\b\b\b\b\b\b\b\b\b\b\b\b\b\b\b\b\b\b\b\b\b\b\b\b\b\b\b\b\b\b\b\b\b\b\b\b\b\b\b\b\b\b\b\b\b\b\b\b\b\b\b\b\b\b\b\b\b\b\b\b\b\b\b\b\b\b\b\b\b\r625/625 [==============================] - 5s 9ms/step - loss: 0.0033 - accuracy: 0.9988 - val_loss: 1.2989 - val_accuracy: 0.8690\n",
            "Epoch 111/300\n",
            "622/625 [============================>.] - ETA: 0s - loss: 0.0030 - accuracy: 0.9992\n",
            "Epoch 111: saving model to training_1/cp.ckpt\n",
            "INFO:tensorflow:Assets written to: training_1/cp.ckpt/assets\n"
          ]
        },
        {
          "name": "stderr",
          "output_type": "stream",
          "text": [
            "INFO:tensorflow:Assets written to: training_1/cp.ckpt/assets\n"
          ]
        },
        {
          "name": "stdout",
          "output_type": "stream",
          "text": [
            "\b\b\b\b\b\b\b\b\b\b\b\b\b\b\b\b\b\b\b\b\b\b\b\b\b\b\b\b\b\b\b\b\b\b\b\b\b\b\b\b\b\b\b\b\b\b\b\b\b\b\b\b\b\b\b\b\b\b\b\b\b\b\b\b\b\b\b\b\b\b\b\b\b\b\b\b\b\b\b\b\b\b\b\b\r625/625 [==============================] - 5s 8ms/step - loss: 0.0030 - accuracy: 0.9992 - val_loss: 1.0228 - val_accuracy: 0.8892\n",
            "Epoch 112/300\n",
            "621/625 [============================>.] - ETA: 0s - loss: 0.0034 - accuracy: 0.9986\n",
            "Epoch 112: saving model to training_1/cp.ckpt\n",
            "INFO:tensorflow:Assets written to: training_1/cp.ckpt/assets\n"
          ]
        },
        {
          "name": "stderr",
          "output_type": "stream",
          "text": [
            "INFO:tensorflow:Assets written to: training_1/cp.ckpt/assets\n"
          ]
        },
        {
          "name": "stdout",
          "output_type": "stream",
          "text": [
            "\b\b\b\b\b\b\b\b\b\b\b\b\b\b\b\b\b\b\b\b\b\b\b\b\b\b\b\b\b\b\b\b\b\b\b\b\b\b\b\b\b\b\b\b\b\b\b\b\b\b\b\b\b\b\b\b\b\b\b\b\b\b\b\b\b\b\b\b\b\b\b\b\b\b\b\b\b\b\b\b\b\b\b\b\r625/625 [==============================] - 5s 8ms/step - loss: 0.0034 - accuracy: 0.9987 - val_loss: 0.9026 - val_accuracy: 0.8908\n",
            "Epoch 113/300\n",
            "621/625 [============================>.] - ETA: 0s - loss: 0.0050 - accuracy: 0.9984\n",
            "Epoch 113: saving model to training_1/cp.ckpt\n",
            "INFO:tensorflow:Assets written to: training_1/cp.ckpt/assets\n"
          ]
        },
        {
          "name": "stderr",
          "output_type": "stream",
          "text": [
            "INFO:tensorflow:Assets written to: training_1/cp.ckpt/assets\n"
          ]
        },
        {
          "name": "stdout",
          "output_type": "stream",
          "text": [
            "\b\b\b\b\b\b\b\b\b\b\b\b\b\b\b\b\b\b\b\b\b\b\b\b\b\b\b\b\b\b\b\b\b\b\b\b\b\b\b\b\b\b\b\b\b\b\b\b\b\b\b\b\b\b\b\b\b\b\b\b\b\b\b\b\b\b\b\b\b\b\b\b\b\b\b\b\b\b\b\b\b\b\b\b\r625/625 [==============================] - 5s 8ms/step - loss: 0.0050 - accuracy: 0.9984 - val_loss: 0.8123 - val_accuracy: 0.8872\n",
            "Epoch 114/300\n",
            "621/625 [============================>.] - ETA: 0s - loss: 0.0031 - accuracy: 0.9989\n",
            "Epoch 114: saving model to training_1/cp.ckpt\n",
            "INFO:tensorflow:Assets written to: training_1/cp.ckpt/assets\n"
          ]
        },
        {
          "name": "stderr",
          "output_type": "stream",
          "text": [
            "INFO:tensorflow:Assets written to: training_1/cp.ckpt/assets\n"
          ]
        },
        {
          "name": "stdout",
          "output_type": "stream",
          "text": [
            "\b\b\b\b\b\b\b\b\b\b\b\b\b\b\b\b\b\b\b\b\b\b\b\b\b\b\b\b\b\b\b\b\b\b\b\b\b\b\b\b\b\b\b\b\b\b\b\b\b\b\b\b\b\b\b\b\b\b\b\b\b\b\b\b\b\b\b\b\b\b\b\b\b\b\b\b\b\b\b\b\b\b\b\b\r625/625 [==============================] - 5s 9ms/step - loss: 0.0031 - accuracy: 0.9989 - val_loss: 0.9533 - val_accuracy: 0.8790\n",
            "Epoch 115/300\n",
            "624/625 [============================>.] - ETA: 0s - loss: 0.0023 - accuracy: 0.9992\n",
            "Epoch 115: saving model to training_1/cp.ckpt\n",
            "INFO:tensorflow:Assets written to: training_1/cp.ckpt/assets\n"
          ]
        },
        {
          "name": "stderr",
          "output_type": "stream",
          "text": [
            "INFO:tensorflow:Assets written to: training_1/cp.ckpt/assets\n"
          ]
        },
        {
          "name": "stdout",
          "output_type": "stream",
          "text": [
            "\b\b\b\b\b\b\b\b\b\b\b\b\b\b\b\b\b\b\b\b\b\b\b\b\b\b\b\b\b\b\b\b\b\b\b\b\b\b\b\b\b\b\b\b\b\b\b\b\b\b\b\b\b\b\b\b\b\b\b\b\b\b\b\b\b\b\b\b\b\b\b\b\b\b\b\b\b\b\b\b\b\b\b\b\r625/625 [==============================] - 5s 8ms/step - loss: 0.0023 - accuracy: 0.9992 - val_loss: 1.0604 - val_accuracy: 0.8862\n",
            "Epoch 116/300\n",
            "624/625 [============================>.] - ETA: 0s - loss: 0.0024 - accuracy: 0.9991\n",
            "Epoch 116: saving model to training_1/cp.ckpt\n",
            "INFO:tensorflow:Assets written to: training_1/cp.ckpt/assets\n"
          ]
        },
        {
          "name": "stderr",
          "output_type": "stream",
          "text": [
            "INFO:tensorflow:Assets written to: training_1/cp.ckpt/assets\n"
          ]
        },
        {
          "name": "stdout",
          "output_type": "stream",
          "text": [
            "\b\b\b\b\b\b\b\b\b\b\b\b\b\b\b\b\b\b\b\b\b\b\b\b\b\b\b\b\b\b\b\b\b\b\b\b\b\b\b\b\b\b\b\b\b\b\b\b\b\b\b\b\b\b\b\b\b\b\b\b\b\b\b\b\b\b\b\b\b\b\b\b\b\b\b\b\b\b\b\b\b\b\b\b\r625/625 [==============================] - 5s 9ms/step - loss: 0.0024 - accuracy: 0.9991 - val_loss: 1.0823 - val_accuracy: 0.8872\n",
            "Epoch 117/300\n",
            "622/625 [============================>.] - ETA: 0s - loss: 0.0037 - accuracy: 0.9988\n",
            "Epoch 117: saving model to training_1/cp.ckpt\n",
            "INFO:tensorflow:Assets written to: training_1/cp.ckpt/assets\n"
          ]
        },
        {
          "name": "stderr",
          "output_type": "stream",
          "text": [
            "INFO:tensorflow:Assets written to: training_1/cp.ckpt/assets\n"
          ]
        },
        {
          "name": "stdout",
          "output_type": "stream",
          "text": [
            "\b\b\b\b\b\b\b\b\b\b\b\b\b\b\b\b\b\b\b\b\b\b\b\b\b\b\b\b\b\b\b\b\b\b\b\b\b\b\b\b\b\b\b\b\b\b\b\b\b\b\b\b\b\b\b\b\b\b\b\b\b\b\b\b\b\b\b\b\b\b\b\b\b\b\b\b\b\b\b\b\b\b\b\b\r625/625 [==============================] - 5s 9ms/step - loss: 0.0037 - accuracy: 0.9988 - val_loss: 0.8693 - val_accuracy: 0.8884\n",
            "Epoch 118/300\n",
            "621/625 [============================>.] - ETA: 0s - loss: 0.0024 - accuracy: 0.9992\n",
            "Epoch 118: saving model to training_1/cp.ckpt\n",
            "INFO:tensorflow:Assets written to: training_1/cp.ckpt/assets\n"
          ]
        },
        {
          "name": "stderr",
          "output_type": "stream",
          "text": [
            "INFO:tensorflow:Assets written to: training_1/cp.ckpt/assets\n"
          ]
        },
        {
          "name": "stdout",
          "output_type": "stream",
          "text": [
            "\b\b\b\b\b\b\b\b\b\b\b\b\b\b\b\b\b\b\b\b\b\b\b\b\b\b\b\b\b\b\b\b\b\b\b\b\b\b\b\b\b\b\b\b\b\b\b\b\b\b\b\b\b\b\b\b\b\b\b\b\b\b\b\b\b\b\b\b\b\b\b\b\b\b\b\b\b\b\b\b\b\b\b\b\r625/625 [==============================] - 5s 9ms/step - loss: 0.0023 - accuracy: 0.9992 - val_loss: 0.9808 - val_accuracy: 0.8874\n",
            "Epoch 119/300\n",
            "625/625 [==============================] - ETA: 0s - loss: 0.0033 - accuracy: 0.9989\n",
            "Epoch 119: saving model to training_1/cp.ckpt\n",
            "INFO:tensorflow:Assets written to: training_1/cp.ckpt/assets\n"
          ]
        },
        {
          "name": "stderr",
          "output_type": "stream",
          "text": [
            "INFO:tensorflow:Assets written to: training_1/cp.ckpt/assets\n"
          ]
        },
        {
          "name": "stdout",
          "output_type": "stream",
          "text": [
            "\b\b\b\b\b\b\b\b\b\b\b\b\b\b\b\b\b\b\b\b\b\b\b\b\b\b\b\b\b\b\b\b\b\b\b\b\b\b\b\b\b\b\b\b\b\b\b\b\b\b\b\b\b\b\b\b\b\b\b\b\b\b\b\b\b\b\b\b\b\b\b\b\b\b\b\b\b\b\b\b\b\b\b\b\r625/625 [==============================] - 6s 9ms/step - loss: 0.0033 - accuracy: 0.9989 - val_loss: 0.9611 - val_accuracy: 0.8878\n",
            "Epoch 120/300\n",
            "618/625 [============================>.] - ETA: 0s - loss: 0.0042 - accuracy: 0.9984\n",
            "Epoch 120: saving model to training_1/cp.ckpt\n",
            "INFO:tensorflow:Assets written to: training_1/cp.ckpt/assets\n"
          ]
        },
        {
          "name": "stderr",
          "output_type": "stream",
          "text": [
            "INFO:tensorflow:Assets written to: training_1/cp.ckpt/assets\n"
          ]
        },
        {
          "name": "stdout",
          "output_type": "stream",
          "text": [
            "\b\b\b\b\b\b\b\b\b\b\b\b\b\b\b\b\b\b\b\b\b\b\b\b\b\b\b\b\b\b\b\b\b\b\b\b\b\b\b\b\b\b\b\b\b\b\b\b\b\b\b\b\b\b\b\b\b\b\b\b\b\b\b\b\b\b\b\b\b\b\b\b\b\b\b\b\b\b\b\b\b\b\b\b\r625/625 [==============================] - 5s 8ms/step - loss: 0.0042 - accuracy: 0.9984 - val_loss: 0.9537 - val_accuracy: 0.8866\n",
            "Epoch 121/300\n",
            "621/625 [============================>.] - ETA: 0s - loss: 0.0019 - accuracy: 0.9992\n",
            "Epoch 121: saving model to training_1/cp.ckpt\n",
            "INFO:tensorflow:Assets written to: training_1/cp.ckpt/assets\n"
          ]
        },
        {
          "name": "stderr",
          "output_type": "stream",
          "text": [
            "INFO:tensorflow:Assets written to: training_1/cp.ckpt/assets\n"
          ]
        },
        {
          "name": "stdout",
          "output_type": "stream",
          "text": [
            "\b\b\b\b\b\b\b\b\b\b\b\b\b\b\b\b\b\b\b\b\b\b\b\b\b\b\b\b\b\b\b\b\b\b\b\b\b\b\b\b\b\b\b\b\b\b\b\b\b\b\b\b\b\b\b\b\b\b\b\b\b\b\b\b\b\b\b\b\b\b\b\b\b\b\b\b\b\b\b\b\b\b\b\b\r625/625 [==============================] - 5s 8ms/step - loss: 0.0019 - accuracy: 0.9992 - val_loss: 0.9571 - val_accuracy: 0.8870\n",
            "Epoch 122/300\n",
            "621/625 [============================>.] - ETA: 0s - loss: 0.0036 - accuracy: 0.9986\n",
            "Epoch 122: saving model to training_1/cp.ckpt\n",
            "INFO:tensorflow:Assets written to: training_1/cp.ckpt/assets\n"
          ]
        },
        {
          "name": "stderr",
          "output_type": "stream",
          "text": [
            "INFO:tensorflow:Assets written to: training_1/cp.ckpt/assets\n"
          ]
        },
        {
          "name": "stdout",
          "output_type": "stream",
          "text": [
            "\b\b\b\b\b\b\b\b\b\b\b\b\b\b\b\b\b\b\b\b\b\b\b\b\b\b\b\b\b\b\b\b\b\b\b\b\b\b\b\b\b\b\b\b\b\b\b\b\b\b\b\b\b\b\b\b\b\b\b\b\b\b\b\b\b\b\b\b\b\b\b\b\b\b\b\b\b\b\b\b\b\b\b\b\r625/625 [==============================] - 5s 8ms/step - loss: 0.0036 - accuracy: 0.9986 - val_loss: 0.9268 - val_accuracy: 0.8876\n",
            "Epoch 123/300\n",
            "625/625 [==============================] - ETA: 0s - loss: 0.0026 - accuracy: 0.9990\n",
            "Epoch 123: saving model to training_1/cp.ckpt\n",
            "INFO:tensorflow:Assets written to: training_1/cp.ckpt/assets\n"
          ]
        },
        {
          "name": "stderr",
          "output_type": "stream",
          "text": [
            "INFO:tensorflow:Assets written to: training_1/cp.ckpt/assets\n"
          ]
        },
        {
          "name": "stdout",
          "output_type": "stream",
          "text": [
            "\b\b\b\b\b\b\b\b\b\b\b\b\b\b\b\b\b\b\b\b\b\b\b\b\b\b\b\b\b\b\b\b\b\b\b\b\b\b\b\b\b\b\b\b\b\b\b\b\b\b\b\b\b\b\b\b\b\b\b\b\b\b\b\b\b\b\b\b\b\b\b\b\b\b\b\b\b\b\b\b\b\b\b\b\r625/625 [==============================] - 5s 9ms/step - loss: 0.0026 - accuracy: 0.9990 - val_loss: 1.0488 - val_accuracy: 0.8868\n",
            "Epoch 124/300\n",
            "617/625 [============================>.] - ETA: 0s - loss: 0.0038 - accuracy: 0.9990\n",
            "Epoch 124: saving model to training_1/cp.ckpt\n",
            "INFO:tensorflow:Assets written to: training_1/cp.ckpt/assets\n"
          ]
        },
        {
          "name": "stderr",
          "output_type": "stream",
          "text": [
            "INFO:tensorflow:Assets written to: training_1/cp.ckpt/assets\n"
          ]
        },
        {
          "name": "stdout",
          "output_type": "stream",
          "text": [
            "\b\b\b\b\b\b\b\b\b\b\b\b\b\b\b\b\b\b\b\b\b\b\b\b\b\b\b\b\b\b\b\b\b\b\b\b\b\b\b\b\b\b\b\b\b\b\b\b\b\b\b\b\b\b\b\b\b\b\b\b\b\b\b\b\b\b\b\b\b\b\b\b\b\b\b\b\b\b\b\b\b\b\b\b\r625/625 [==============================] - 5s 9ms/step - loss: 0.0038 - accuracy: 0.9991 - val_loss: 1.0611 - val_accuracy: 0.8872\n",
            "Epoch 125/300\n",
            "624/625 [============================>.] - ETA: 0s - loss: 0.0034 - accuracy: 0.9992\n",
            "Epoch 125: saving model to training_1/cp.ckpt\n",
            "INFO:tensorflow:Assets written to: training_1/cp.ckpt/assets\n"
          ]
        },
        {
          "name": "stderr",
          "output_type": "stream",
          "text": [
            "INFO:tensorflow:Assets written to: training_1/cp.ckpt/assets\n"
          ]
        },
        {
          "name": "stdout",
          "output_type": "stream",
          "text": [
            "\b\b\b\b\b\b\b\b\b\b\b\b\b\b\b\b\b\b\b\b\b\b\b\b\b\b\b\b\b\b\b\b\b\b\b\b\b\b\b\b\b\b\b\b\b\b\b\b\b\b\b\b\b\b\b\b\b\b\b\b\b\b\b\b\b\b\b\b\b\b\b\b\b\b\b\b\b\b\b\b\b\b\b\b\r625/625 [==============================] - 5s 9ms/step - loss: 0.0034 - accuracy: 0.9992 - val_loss: 1.0808 - val_accuracy: 0.8864\n",
            "Epoch 126/300\n",
            "623/625 [============================>.] - ETA: 0s - loss: 0.0030 - accuracy: 0.9988\n",
            "Epoch 126: saving model to training_1/cp.ckpt\n",
            "INFO:tensorflow:Assets written to: training_1/cp.ckpt/assets\n"
          ]
        },
        {
          "name": "stderr",
          "output_type": "stream",
          "text": [
            "INFO:tensorflow:Assets written to: training_1/cp.ckpt/assets\n"
          ]
        },
        {
          "name": "stdout",
          "output_type": "stream",
          "text": [
            "\b\b\b\b\b\b\b\b\b\b\b\b\b\b\b\b\b\b\b\b\b\b\b\b\b\b\b\b\b\b\b\b\b\b\b\b\b\b\b\b\b\b\b\b\b\b\b\b\b\b\b\b\b\b\b\b\b\b\b\b\b\b\b\b\b\b\b\b\b\b\b\b\b\b\b\b\b\b\b\b\b\b\b\b\r625/625 [==============================] - 5s 9ms/step - loss: 0.0030 - accuracy: 0.9988 - val_loss: 1.0378 - val_accuracy: 0.8888\n",
            "Epoch 127/300\n",
            "622/625 [============================>.] - ETA: 0s - loss: 0.0020 - accuracy: 0.9993\n",
            "Epoch 127: saving model to training_1/cp.ckpt\n",
            "INFO:tensorflow:Assets written to: training_1/cp.ckpt/assets\n"
          ]
        },
        {
          "name": "stderr",
          "output_type": "stream",
          "text": [
            "INFO:tensorflow:Assets written to: training_1/cp.ckpt/assets\n"
          ]
        },
        {
          "name": "stdout",
          "output_type": "stream",
          "text": [
            "\b\b\b\b\b\b\b\b\b\b\b\b\b\b\b\b\b\b\b\b\b\b\b\b\b\b\b\b\b\b\b\b\b\b\b\b\b\b\b\b\b\b\b\b\b\b\b\b\b\b\b\b\b\b\b\b\b\b\b\b\b\b\b\b\b\b\b\b\b\b\b\b\b\b\b\b\b\b\b\b\b\b\b\b\r625/625 [==============================] - 5s 8ms/step - loss: 0.0020 - accuracy: 0.9993 - val_loss: 1.1322 - val_accuracy: 0.8894\n",
            "Epoch 128/300\n",
            "618/625 [============================>.] - ETA: 0s - loss: 0.0036 - accuracy: 0.9987\n",
            "Epoch 128: saving model to training_1/cp.ckpt\n",
            "INFO:tensorflow:Assets written to: training_1/cp.ckpt/assets\n"
          ]
        },
        {
          "name": "stderr",
          "output_type": "stream",
          "text": [
            "INFO:tensorflow:Assets written to: training_1/cp.ckpt/assets\n"
          ]
        },
        {
          "name": "stdout",
          "output_type": "stream",
          "text": [
            "\b\b\b\b\b\b\b\b\b\b\b\b\b\b\b\b\b\b\b\b\b\b\b\b\b\b\b\b\b\b\b\b\b\b\b\b\b\b\b\b\b\b\b\b\b\b\b\b\b\b\b\b\b\b\b\b\b\b\b\b\b\b\b\b\b\b\b\b\b\b\b\b\b\b\b\b\b\b\b\b\b\b\b\b\r625/625 [==============================] - 5s 8ms/step - loss: 0.0036 - accuracy: 0.9987 - val_loss: 1.1749 - val_accuracy: 0.8878\n",
            "Epoch 129/300\n",
            "617/625 [============================>.] - ETA: 0s - loss: 0.0035 - accuracy: 0.9989\n",
            "Epoch 129: saving model to training_1/cp.ckpt\n",
            "INFO:tensorflow:Assets written to: training_1/cp.ckpt/assets\n"
          ]
        },
        {
          "name": "stderr",
          "output_type": "stream",
          "text": [
            "INFO:tensorflow:Assets written to: training_1/cp.ckpt/assets\n"
          ]
        },
        {
          "name": "stdout",
          "output_type": "stream",
          "text": [
            "\b\b\b\b\b\b\b\b\b\b\b\b\b\b\b\b\b\b\b\b\b\b\b\b\b\b\b\b\b\b\b\b\b\b\b\b\b\b\b\b\b\b\b\b\b\b\b\b\b\b\b\b\b\b\b\b\b\b\b\b\b\b\b\b\b\b\b\b\b\b\b\b\b\b\b\b\b\b\b\b\b\b\b\b\r625/625 [==============================] - 5s 8ms/step - loss: 0.0035 - accuracy: 0.9989 - val_loss: 1.1611 - val_accuracy: 0.8850\n",
            "Epoch 130/300\n",
            "619/625 [============================>.] - ETA: 0s - loss: 0.0019 - accuracy: 0.9994\n",
            "Epoch 130: saving model to training_1/cp.ckpt\n",
            "INFO:tensorflow:Assets written to: training_1/cp.ckpt/assets\n"
          ]
        },
        {
          "name": "stderr",
          "output_type": "stream",
          "text": [
            "INFO:tensorflow:Assets written to: training_1/cp.ckpt/assets\n"
          ]
        },
        {
          "name": "stdout",
          "output_type": "stream",
          "text": [
            "\b\b\b\b\b\b\b\b\b\b\b\b\b\b\b\b\b\b\b\b\b\b\b\b\b\b\b\b\b\b\b\b\b\b\b\b\b\b\b\b\b\b\b\b\b\b\b\b\b\b\b\b\b\b\b\b\b\b\b\b\b\b\b\b\b\b\b\b\b\b\b\b\b\b\b\b\b\b\b\b\b\b\b\b\r625/625 [==============================] - 5s 8ms/step - loss: 0.0019 - accuracy: 0.9994 - val_loss: 1.1540 - val_accuracy: 0.8844\n",
            "Epoch 131/300\n",
            "624/625 [============================>.] - ETA: 0s - loss: 0.0036 - accuracy: 0.9987\n",
            "Epoch 131: saving model to training_1/cp.ckpt\n",
            "INFO:tensorflow:Assets written to: training_1/cp.ckpt/assets\n"
          ]
        },
        {
          "name": "stderr",
          "output_type": "stream",
          "text": [
            "INFO:tensorflow:Assets written to: training_1/cp.ckpt/assets\n"
          ]
        },
        {
          "name": "stdout",
          "output_type": "stream",
          "text": [
            "\b\b\b\b\b\b\b\b\b\b\b\b\b\b\b\b\b\b\b\b\b\b\b\b\b\b\b\b\b\b\b\b\b\b\b\b\b\b\b\b\b\b\b\b\b\b\b\b\b\b\b\b\b\b\b\b\b\b\b\b\b\b\b\b\b\b\b\b\b\b\b\b\b\b\b\b\b\b\b\b\b\b\b\b\r625/625 [==============================] - 5s 9ms/step - loss: 0.0036 - accuracy: 0.9987 - val_loss: 1.4121 - val_accuracy: 0.8728\n",
            "Epoch 132/300\n",
            "622/625 [============================>.] - ETA: 0s - loss: 0.0024 - accuracy: 0.9994\n",
            "Epoch 132: saving model to training_1/cp.ckpt\n",
            "INFO:tensorflow:Assets written to: training_1/cp.ckpt/assets\n"
          ]
        },
        {
          "name": "stderr",
          "output_type": "stream",
          "text": [
            "INFO:tensorflow:Assets written to: training_1/cp.ckpt/assets\n"
          ]
        },
        {
          "name": "stdout",
          "output_type": "stream",
          "text": [
            "\b\b\b\b\b\b\b\b\b\b\b\b\b\b\b\b\b\b\b\b\b\b\b\b\b\b\b\b\b\b\b\b\b\b\b\b\b\b\b\b\b\b\b\b\b\b\b\b\b\b\b\b\b\b\b\b\b\b\b\b\b\b\b\b\b\b\b\b\b\b\b\b\b\b\b\b\b\b\b\b\b\b\b\b\r625/625 [==============================] - 6s 10ms/step - loss: 0.0024 - accuracy: 0.9995 - val_loss: 1.1866 - val_accuracy: 0.8904\n",
            "Epoch 133/300\n",
            "625/625 [==============================] - ETA: 0s - loss: 0.0016 - accuracy: 0.9994\n",
            "Epoch 133: saving model to training_1/cp.ckpt\n",
            "INFO:tensorflow:Assets written to: training_1/cp.ckpt/assets\n"
          ]
        },
        {
          "name": "stderr",
          "output_type": "stream",
          "text": [
            "INFO:tensorflow:Assets written to: training_1/cp.ckpt/assets\n"
          ]
        },
        {
          "name": "stdout",
          "output_type": "stream",
          "text": [
            "\b\b\b\b\b\b\b\b\b\b\b\b\b\b\b\b\b\b\b\b\b\b\b\b\b\b\b\b\b\b\b\b\b\b\b\b\b\b\b\b\b\b\b\b\b\b\b\b\b\b\b\b\b\b\b\b\b\b\b\b\b\b\b\b\b\b\b\b\b\b\b\b\b\b\b\b\b\b\b\b\b\b\b\b\r625/625 [==============================] - 5s 9ms/step - loss: 0.0016 - accuracy: 0.9994 - val_loss: 1.1753 - val_accuracy: 0.8882\n",
            "Epoch 134/300\n",
            "623/625 [============================>.] - ETA: 0s - loss: 0.0034 - accuracy: 0.9988\n",
            "Epoch 134: saving model to training_1/cp.ckpt\n",
            "INFO:tensorflow:Assets written to: training_1/cp.ckpt/assets\n"
          ]
        },
        {
          "name": "stderr",
          "output_type": "stream",
          "text": [
            "INFO:tensorflow:Assets written to: training_1/cp.ckpt/assets\n"
          ]
        },
        {
          "name": "stdout",
          "output_type": "stream",
          "text": [
            "\b\b\b\b\b\b\b\b\b\b\b\b\b\b\b\b\b\b\b\b\b\b\b\b\b\b\b\b\b\b\b\b\b\b\b\b\b\b\b\b\b\b\b\b\b\b\b\b\b\b\b\b\b\b\b\b\b\b\b\b\b\b\b\b\b\b\b\b\b\b\b\b\b\b\b\b\b\b\b\b\b\b\b\b\r625/625 [==============================] - 5s 9ms/step - loss: 0.0034 - accuracy: 0.9988 - val_loss: 1.0478 - val_accuracy: 0.8922\n",
            "Epoch 135/300\n",
            "625/625 [==============================] - ETA: 0s - loss: 0.0038 - accuracy: 0.9987\n",
            "Epoch 135: saving model to training_1/cp.ckpt\n",
            "INFO:tensorflow:Assets written to: training_1/cp.ckpt/assets\n"
          ]
        },
        {
          "name": "stderr",
          "output_type": "stream",
          "text": [
            "INFO:tensorflow:Assets written to: training_1/cp.ckpt/assets\n"
          ]
        },
        {
          "name": "stdout",
          "output_type": "stream",
          "text": [
            "\b\b\b\b\b\b\b\b\b\b\b\b\b\b\b\b\b\b\b\b\b\b\b\b\b\b\b\b\b\b\b\b\b\b\b\b\b\b\b\b\b\b\b\b\b\b\b\b\b\b\b\b\b\b\b\b\b\b\b\b\b\b\b\b\b\b\b\b\b\b\b\b\b\b\b\b\b\b\b\b\b\b\b\b\r625/625 [==============================] - 6s 9ms/step - loss: 0.0038 - accuracy: 0.9987 - val_loss: 0.8980 - val_accuracy: 0.8900\n",
            "Epoch 136/300\n",
            "621/625 [============================>.] - ETA: 0s - loss: 0.0021 - accuracy: 0.9990\n",
            "Epoch 136: saving model to training_1/cp.ckpt\n",
            "INFO:tensorflow:Assets written to: training_1/cp.ckpt/assets\n"
          ]
        },
        {
          "name": "stderr",
          "output_type": "stream",
          "text": [
            "INFO:tensorflow:Assets written to: training_1/cp.ckpt/assets\n"
          ]
        },
        {
          "name": "stdout",
          "output_type": "stream",
          "text": [
            "\b\b\b\b\b\b\b\b\b\b\b\b\b\b\b\b\b\b\b\b\b\b\b\b\b\b\b\b\b\b\b\b\b\b\b\b\b\b\b\b\b\b\b\b\b\b\b\b\b\b\b\b\b\b\b\b\b\b\b\b\b\b\b\b\b\b\b\b\b\b\b\b\b\b\b\b\b\b\b\b\b\b\b\b\r625/625 [==============================] - 5s 9ms/step - loss: 0.0021 - accuracy: 0.9990 - val_loss: 1.1933 - val_accuracy: 0.8892\n",
            "Epoch 137/300\n",
            "624/625 [============================>.] - ETA: 0s - loss: 0.0026 - accuracy: 0.9989\n",
            "Epoch 137: saving model to training_1/cp.ckpt\n",
            "INFO:tensorflow:Assets written to: training_1/cp.ckpt/assets\n"
          ]
        },
        {
          "name": "stderr",
          "output_type": "stream",
          "text": [
            "INFO:tensorflow:Assets written to: training_1/cp.ckpt/assets\n"
          ]
        },
        {
          "name": "stdout",
          "output_type": "stream",
          "text": [
            "\b\b\b\b\b\b\b\b\b\b\b\b\b\b\b\b\b\b\b\b\b\b\b\b\b\b\b\b\b\b\b\b\b\b\b\b\b\b\b\b\b\b\b\b\b\b\b\b\b\b\b\b\b\b\b\b\b\b\b\b\b\b\b\b\b\b\b\b\b\b\b\b\b\b\b\b\b\b\b\b\b\b\b\b\r625/625 [==============================] - 5s 8ms/step - loss: 0.0026 - accuracy: 0.9990 - val_loss: 1.1022 - val_accuracy: 0.8874\n",
            "Epoch 138/300\n",
            "620/625 [============================>.] - ETA: 0s - loss: 0.0037 - accuracy: 0.9989\n",
            "Epoch 138: saving model to training_1/cp.ckpt\n",
            "INFO:tensorflow:Assets written to: training_1/cp.ckpt/assets\n"
          ]
        },
        {
          "name": "stderr",
          "output_type": "stream",
          "text": [
            "INFO:tensorflow:Assets written to: training_1/cp.ckpt/assets\n"
          ]
        },
        {
          "name": "stdout",
          "output_type": "stream",
          "text": [
            "\b\b\b\b\b\b\b\b\b\b\b\b\b\b\b\b\b\b\b\b\b\b\b\b\b\b\b\b\b\b\b\b\b\b\b\b\b\b\b\b\b\b\b\b\b\b\b\b\b\b\b\b\b\b\b\b\b\b\b\b\b\b\b\b\b\b\b\b\b\b\b\b\b\b\b\b\b\b\b\b\b\b\b\b\r625/625 [==============================] - 5s 8ms/step - loss: 0.0036 - accuracy: 0.9990 - val_loss: 1.0460 - val_accuracy: 0.8886\n",
            "Epoch 139/300\n",
            "617/625 [============================>.] - ETA: 0s - loss: 0.0031 - accuracy: 0.9991\n",
            "Epoch 139: saving model to training_1/cp.ckpt\n",
            "INFO:tensorflow:Assets written to: training_1/cp.ckpt/assets\n"
          ]
        },
        {
          "name": "stderr",
          "output_type": "stream",
          "text": [
            "INFO:tensorflow:Assets written to: training_1/cp.ckpt/assets\n"
          ]
        },
        {
          "name": "stdout",
          "output_type": "stream",
          "text": [
            "\b\b\b\b\b\b\b\b\b\b\b\b\b\b\b\b\b\b\b\b\b\b\b\b\b\b\b\b\b\b\b\b\b\b\b\b\b\b\b\b\b\b\b\b\b\b\b\b\b\b\b\b\b\b\b\b\b\b\b\b\b\b\b\b\b\b\b\b\b\b\b\b\b\b\b\b\b\b\b\b\b\b\b\b\r625/625 [==============================] - 5s 8ms/step - loss: 0.0031 - accuracy: 0.9991 - val_loss: 1.0485 - val_accuracy: 0.8888\n",
            "Epoch 140/300\n",
            "625/625 [==============================] - ETA: 0s - loss: 0.0020 - accuracy: 0.9995\n",
            "Epoch 140: saving model to training_1/cp.ckpt\n",
            "INFO:tensorflow:Assets written to: training_1/cp.ckpt/assets\n"
          ]
        },
        {
          "name": "stderr",
          "output_type": "stream",
          "text": [
            "INFO:tensorflow:Assets written to: training_1/cp.ckpt/assets\n"
          ]
        },
        {
          "name": "stdout",
          "output_type": "stream",
          "text": [
            "\b\b\b\b\b\b\b\b\b\b\b\b\b\b\b\b\b\b\b\b\b\b\b\b\b\b\b\b\b\b\b\b\b\b\b\b\b\b\b\b\b\b\b\b\b\b\b\b\b\b\b\b\b\b\b\b\b\b\b\b\b\b\b\b\b\b\b\b\b\b\b\b\b\b\b\b\b\b\b\b\b\b\b\b\r625/625 [==============================] - 5s 9ms/step - loss: 0.0020 - accuracy: 0.9995 - val_loss: 1.1480 - val_accuracy: 0.8884\n",
            "Epoch 141/300\n",
            "618/625 [============================>.] - ETA: 0s - loss: 0.0028 - accuracy: 0.9990\n",
            "Epoch 141: saving model to training_1/cp.ckpt\n",
            "INFO:tensorflow:Assets written to: training_1/cp.ckpt/assets\n"
          ]
        },
        {
          "name": "stderr",
          "output_type": "stream",
          "text": [
            "INFO:tensorflow:Assets written to: training_1/cp.ckpt/assets\n"
          ]
        },
        {
          "name": "stdout",
          "output_type": "stream",
          "text": [
            "\b\b\b\b\b\b\b\b\b\b\b\b\b\b\b\b\b\b\b\b\b\b\b\b\b\b\b\b\b\b\b\b\b\b\b\b\b\b\b\b\b\b\b\b\b\b\b\b\b\b\b\b\b\b\b\b\b\b\b\b\b\b\b\b\b\b\b\b\b\b\b\b\b\b\b\b\b\b\b\b\b\b\b\b\r625/625 [==============================] - 5s 8ms/step - loss: 0.0027 - accuracy: 0.9991 - val_loss: 1.2195 - val_accuracy: 0.8838\n",
            "Epoch 142/300\n",
            "620/625 [============================>.] - ETA: 0s - loss: 0.0024 - accuracy: 0.9991\n",
            "Epoch 142: saving model to training_1/cp.ckpt\n",
            "INFO:tensorflow:Assets written to: training_1/cp.ckpt/assets\n"
          ]
        },
        {
          "name": "stderr",
          "output_type": "stream",
          "text": [
            "INFO:tensorflow:Assets written to: training_1/cp.ckpt/assets\n"
          ]
        },
        {
          "name": "stdout",
          "output_type": "stream",
          "text": [
            "\b\b\b\b\b\b\b\b\b\b\b\b\b\b\b\b\b\b\b\b\b\b\b\b\b\b\b\b\b\b\b\b\b\b\b\b\b\b\b\b\b\b\b\b\b\b\b\b\b\b\b\b\b\b\b\b\b\b\b\b\b\b\b\b\b\b\b\b\b\b\b\b\b\b\b\b\b\b\b\b\b\b\b\b\r625/625 [==============================] - 5s 9ms/step - loss: 0.0024 - accuracy: 0.9991 - val_loss: 1.1284 - val_accuracy: 0.8898\n",
            "Epoch 143/300\n",
            "619/625 [============================>.] - ETA: 0s - loss: 0.0015 - accuracy: 0.9994\n",
            "Epoch 143: saving model to training_1/cp.ckpt\n",
            "INFO:tensorflow:Assets written to: training_1/cp.ckpt/assets\n"
          ]
        },
        {
          "name": "stderr",
          "output_type": "stream",
          "text": [
            "INFO:tensorflow:Assets written to: training_1/cp.ckpt/assets\n"
          ]
        },
        {
          "name": "stdout",
          "output_type": "stream",
          "text": [
            "\b\b\b\b\b\b\b\b\b\b\b\b\b\b\b\b\b\b\b\b\b\b\b\b\b\b\b\b\b\b\b\b\b\b\b\b\b\b\b\b\b\b\b\b\b\b\b\b\b\b\b\b\b\b\b\b\b\b\b\b\b\b\b\b\b\b\b\b\b\b\b\b\b\b\b\b\b\b\b\b\b\b\b\b\r625/625 [==============================] - 5s 8ms/step - loss: 0.0015 - accuracy: 0.9994 - val_loss: 1.2880 - val_accuracy: 0.8888\n",
            "Epoch 144/300\n",
            "620/625 [============================>.] - ETA: 0s - loss: 0.0015 - accuracy: 0.9995\n",
            "Epoch 144: saving model to training_1/cp.ckpt\n",
            "INFO:tensorflow:Assets written to: training_1/cp.ckpt/assets\n"
          ]
        },
        {
          "name": "stderr",
          "output_type": "stream",
          "text": [
            "INFO:tensorflow:Assets written to: training_1/cp.ckpt/assets\n"
          ]
        },
        {
          "name": "stdout",
          "output_type": "stream",
          "text": [
            "\b\b\b\b\b\b\b\b\b\b\b\b\b\b\b\b\b\b\b\b\b\b\b\b\b\b\b\b\b\b\b\b\b\b\b\b\b\b\b\b\b\b\b\b\b\b\b\b\b\b\b\b\b\b\b\b\b\b\b\b\b\b\b\b\b\b\b\b\b\b\b\b\b\b\b\b\b\b\b\b\b\b\b\b\r625/625 [==============================] - 5s 8ms/step - loss: 0.0015 - accuracy: 0.9995 - val_loss: 1.0970 - val_accuracy: 0.8920\n",
            "Epoch 145/300\n",
            "619/625 [============================>.] - ETA: 0s - loss: 0.0017 - accuracy: 0.9995\n",
            "Epoch 145: saving model to training_1/cp.ckpt\n",
            "INFO:tensorflow:Assets written to: training_1/cp.ckpt/assets\n"
          ]
        },
        {
          "name": "stderr",
          "output_type": "stream",
          "text": [
            "INFO:tensorflow:Assets written to: training_1/cp.ckpt/assets\n"
          ]
        },
        {
          "name": "stdout",
          "output_type": "stream",
          "text": [
            "\b\b\b\b\b\b\b\b\b\b\b\b\b\b\b\b\b\b\b\b\b\b\b\b\b\b\b\b\b\b\b\b\b\b\b\b\b\b\b\b\b\b\b\b\b\b\b\b\b\b\b\b\b\b\b\b\b\b\b\b\b\b\b\b\b\b\b\b\b\b\b\b\b\b\b\b\b\b\b\b\b\b\b\b\r625/625 [==============================] - 6s 10ms/step - loss: 0.0018 - accuracy: 0.9995 - val_loss: 1.2897 - val_accuracy: 0.8860\n",
            "Epoch 146/300\n",
            "620/625 [============================>.] - ETA: 0s - loss: 0.0043 - accuracy: 0.9985\n",
            "Epoch 146: saving model to training_1/cp.ckpt\n",
            "INFO:tensorflow:Assets written to: training_1/cp.ckpt/assets\n"
          ]
        },
        {
          "name": "stderr",
          "output_type": "stream",
          "text": [
            "INFO:tensorflow:Assets written to: training_1/cp.ckpt/assets\n"
          ]
        },
        {
          "name": "stdout",
          "output_type": "stream",
          "text": [
            "\b\b\b\b\b\b\b\b\b\b\b\b\b\b\b\b\b\b\b\b\b\b\b\b\b\b\b\b\b\b\b\b\b\b\b\b\b\b\b\b\b\b\b\b\b\b\b\b\b\b\b\b\b\b\b\b\b\b\b\b\b\b\b\b\b\b\b\b\b\b\b\b\b\b\b\b\b\b\b\b\b\b\b\b\r625/625 [==============================] - 5s 9ms/step - loss: 0.0043 - accuracy: 0.9984 - val_loss: 1.2340 - val_accuracy: 0.8846\n",
            "Epoch 147/300\n",
            "620/625 [============================>.] - ETA: 0s - loss: 0.0024 - accuracy: 0.9992\n",
            "Epoch 147: saving model to training_1/cp.ckpt\n",
            "INFO:tensorflow:Assets written to: training_1/cp.ckpt/assets\n"
          ]
        },
        {
          "name": "stderr",
          "output_type": "stream",
          "text": [
            "INFO:tensorflow:Assets written to: training_1/cp.ckpt/assets\n"
          ]
        },
        {
          "name": "stdout",
          "output_type": "stream",
          "text": [
            "\b\b\b\b\b\b\b\b\b\b\b\b\b\b\b\b\b\b\b\b\b\b\b\b\b\b\b\b\b\b\b\b\b\b\b\b\b\b\b\b\b\b\b\b\b\b\b\b\b\b\b\b\b\b\b\b\b\b\b\b\b\b\b\b\b\b\b\b\b\b\b\b\b\b\b\b\b\b\b\b\b\b\b\b\r625/625 [==============================] - 5s 8ms/step - loss: 0.0024 - accuracy: 0.9992 - val_loss: 1.1952 - val_accuracy: 0.8846\n",
            "Epoch 148/300\n",
            "618/625 [============================>.] - ETA: 0s - loss: 0.0024 - accuracy: 0.9990\n",
            "Epoch 148: saving model to training_1/cp.ckpt\n",
            "INFO:tensorflow:Assets written to: training_1/cp.ckpt/assets\n"
          ]
        },
        {
          "name": "stderr",
          "output_type": "stream",
          "text": [
            "INFO:tensorflow:Assets written to: training_1/cp.ckpt/assets\n"
          ]
        },
        {
          "name": "stdout",
          "output_type": "stream",
          "text": [
            "\b\b\b\b\b\b\b\b\b\b\b\b\b\b\b\b\b\b\b\b\b\b\b\b\b\b\b\b\b\b\b\b\b\b\b\b\b\b\b\b\b\b\b\b\b\b\b\b\b\b\b\b\b\b\b\b\b\b\b\b\b\b\b\b\b\b\b\b\b\b\b\b\b\b\b\b\b\b\b\b\b\b\b\b\r625/625 [==============================] - 5s 9ms/step - loss: 0.0024 - accuracy: 0.9991 - val_loss: 1.2512 - val_accuracy: 0.8856\n",
            "Epoch 149/300\n",
            "620/625 [============================>.] - ETA: 0s - loss: 0.0018 - accuracy: 0.9995\n",
            "Epoch 149: saving model to training_1/cp.ckpt\n",
            "INFO:tensorflow:Assets written to: training_1/cp.ckpt/assets\n"
          ]
        },
        {
          "name": "stderr",
          "output_type": "stream",
          "text": [
            "INFO:tensorflow:Assets written to: training_1/cp.ckpt/assets\n"
          ]
        },
        {
          "name": "stdout",
          "output_type": "stream",
          "text": [
            "\b\b\b\b\b\b\b\b\b\b\b\b\b\b\b\b\b\b\b\b\b\b\b\b\b\b\b\b\b\b\b\b\b\b\b\b\b\b\b\b\b\b\b\b\b\b\b\b\b\b\b\b\b\b\b\b\b\b\b\b\b\b\b\b\b\b\b\b\b\b\b\b\b\b\b\b\b\b\b\b\b\b\b\b\r625/625 [==============================] - 5s 8ms/step - loss: 0.0020 - accuracy: 0.9995 - val_loss: 1.0719 - val_accuracy: 0.8816\n",
            "Epoch 150/300\n",
            "618/625 [============================>.] - ETA: 0s - loss: 0.0038 - accuracy: 0.9990\n",
            "Epoch 150: saving model to training_1/cp.ckpt\n",
            "INFO:tensorflow:Assets written to: training_1/cp.ckpt/assets\n"
          ]
        },
        {
          "name": "stderr",
          "output_type": "stream",
          "text": [
            "INFO:tensorflow:Assets written to: training_1/cp.ckpt/assets\n"
          ]
        },
        {
          "name": "stdout",
          "output_type": "stream",
          "text": [
            "\b\b\b\b\b\b\b\b\b\b\b\b\b\b\b\b\b\b\b\b\b\b\b\b\b\b\b\b\b\b\b\b\b\b\b\b\b\b\b\b\b\b\b\b\b\b\b\b\b\b\b\b\b\b\b\b\b\b\b\b\b\b\b\b\b\b\b\b\b\b\b\b\b\b\b\b\b\b\b\b\b\b\b\b\r625/625 [==============================] - 5s 9ms/step - loss: 0.0038 - accuracy: 0.9991 - val_loss: 0.9004 - val_accuracy: 0.8890\n",
            "Epoch 151/300\n",
            "619/625 [============================>.] - ETA: 0s - loss: 0.0017 - accuracy: 0.9994\n",
            "Epoch 151: saving model to training_1/cp.ckpt\n",
            "INFO:tensorflow:Assets written to: training_1/cp.ckpt/assets\n"
          ]
        },
        {
          "name": "stderr",
          "output_type": "stream",
          "text": [
            "INFO:tensorflow:Assets written to: training_1/cp.ckpt/assets\n"
          ]
        },
        {
          "name": "stdout",
          "output_type": "stream",
          "text": [
            "\b\b\b\b\b\b\b\b\b\b\b\b\b\b\b\b\b\b\b\b\b\b\b\b\b\b\b\b\b\b\b\b\b\b\b\b\b\b\b\b\b\b\b\b\b\b\b\b\b\b\b\b\b\b\b\b\b\b\b\b\b\b\b\b\b\b\b\b\b\b\b\b\b\b\b\b\b\b\b\b\b\b\b\b\r625/625 [==============================] - 5s 8ms/step - loss: 0.0017 - accuracy: 0.9994 - val_loss: 1.1680 - val_accuracy: 0.8808\n",
            "Epoch 152/300\n",
            "623/625 [============================>.] - ETA: 0s - loss: 0.0020 - accuracy: 0.9993\n",
            "Epoch 152: saving model to training_1/cp.ckpt\n",
            "INFO:tensorflow:Assets written to: training_1/cp.ckpt/assets\n"
          ]
        },
        {
          "name": "stderr",
          "output_type": "stream",
          "text": [
            "INFO:tensorflow:Assets written to: training_1/cp.ckpt/assets\n"
          ]
        },
        {
          "name": "stdout",
          "output_type": "stream",
          "text": [
            "\b\b\b\b\b\b\b\b\b\b\b\b\b\b\b\b\b\b\b\b\b\b\b\b\b\b\b\b\b\b\b\b\b\b\b\b\b\b\b\b\b\b\b\b\b\b\b\b\b\b\b\b\b\b\b\b\b\b\b\b\b\b\b\b\b\b\b\b\b\b\b\b\b\b\b\b\b\b\b\b\b\b\b\b\r625/625 [==============================] - 5s 9ms/step - loss: 0.0020 - accuracy: 0.9993 - val_loss: 1.4203 - val_accuracy: 0.8786\n",
            "Epoch 153/300\n",
            "620/625 [============================>.] - ETA: 0s - loss: 0.0056 - accuracy: 0.9986\n",
            "Epoch 153: saving model to training_1/cp.ckpt\n",
            "INFO:tensorflow:Assets written to: training_1/cp.ckpt/assets\n"
          ]
        },
        {
          "name": "stderr",
          "output_type": "stream",
          "text": [
            "INFO:tensorflow:Assets written to: training_1/cp.ckpt/assets\n"
          ]
        },
        {
          "name": "stdout",
          "output_type": "stream",
          "text": [
            "\b\b\b\b\b\b\b\b\b\b\b\b\b\b\b\b\b\b\b\b\b\b\b\b\b\b\b\b\b\b\b\b\b\b\b\b\b\b\b\b\b\b\b\b\b\b\b\b\b\b\b\b\b\b\b\b\b\b\b\b\b\b\b\b\b\b\b\b\b\b\b\b\b\b\b\b\b\b\b\b\b\b\b\b\r625/625 [==============================] - 5s 8ms/step - loss: 0.0055 - accuracy: 0.9986 - val_loss: 0.9452 - val_accuracy: 0.8810\n",
            "Epoch 154/300\n",
            "623/625 [============================>.] - ETA: 0s - loss: 0.0020 - accuracy: 0.9993\n",
            "Epoch 154: saving model to training_1/cp.ckpt\n",
            "INFO:tensorflow:Assets written to: training_1/cp.ckpt/assets\n"
          ]
        },
        {
          "name": "stderr",
          "output_type": "stream",
          "text": [
            "INFO:tensorflow:Assets written to: training_1/cp.ckpt/assets\n"
          ]
        },
        {
          "name": "stdout",
          "output_type": "stream",
          "text": [
            "\b\b\b\b\b\b\b\b\b\b\b\b\b\b\b\b\b\b\b\b\b\b\b\b\b\b\b\b\b\b\b\b\b\b\b\b\b\b\b\b\b\b\b\b\b\b\b\b\b\b\b\b\b\b\b\b\b\b\b\b\b\b\b\b\b\b\b\b\b\b\b\b\b\b\b\b\b\b\b\b\b\b\b\b\r625/625 [==============================] - 5s 8ms/step - loss: 0.0020 - accuracy: 0.9994 - val_loss: 1.1281 - val_accuracy: 0.8866\n",
            "Epoch 155/300\n",
            "623/625 [============================>.] - ETA: 0s - loss: 0.0015 - accuracy: 0.9994\n",
            "Epoch 155: saving model to training_1/cp.ckpt\n",
            "INFO:tensorflow:Assets written to: training_1/cp.ckpt/assets\n"
          ]
        },
        {
          "name": "stderr",
          "output_type": "stream",
          "text": [
            "INFO:tensorflow:Assets written to: training_1/cp.ckpt/assets\n"
          ]
        },
        {
          "name": "stdout",
          "output_type": "stream",
          "text": [
            "\b\b\b\b\b\b\b\b\b\b\b\b\b\b\b\b\b\b\b\b\b\b\b\b\b\b\b\b\b\b\b\b\b\b\b\b\b\b\b\b\b\b\b\b\b\b\b\b\b\b\b\b\b\b\b\b\b\b\b\b\b\b\b\b\b\b\b\b\b\b\b\b\b\b\b\b\b\b\b\b\b\b\b\b\r625/625 [==============================] - 5s 8ms/step - loss: 0.0014 - accuracy: 0.9995 - val_loss: 1.3593 - val_accuracy: 0.8786\n",
            "Epoch 156/300\n",
            "618/625 [============================>.] - ETA: 0s - loss: 0.0021 - accuracy: 0.9992\n",
            "Epoch 156: saving model to training_1/cp.ckpt\n",
            "INFO:tensorflow:Assets written to: training_1/cp.ckpt/assets\n"
          ]
        },
        {
          "name": "stderr",
          "output_type": "stream",
          "text": [
            "INFO:tensorflow:Assets written to: training_1/cp.ckpt/assets\n"
          ]
        },
        {
          "name": "stdout",
          "output_type": "stream",
          "text": [
            "\b\b\b\b\b\b\b\b\b\b\b\b\b\b\b\b\b\b\b\b\b\b\b\b\b\b\b\b\b\b\b\b\b\b\b\b\b\b\b\b\b\b\b\b\b\b\b\b\b\b\b\b\b\b\b\b\b\b\b\b\b\b\b\b\b\b\b\b\b\b\b\b\b\b\b\b\b\b\b\b\b\b\b\b\r625/625 [==============================] - 5s 9ms/step - loss: 0.0020 - accuracy: 0.9992 - val_loss: 1.3507 - val_accuracy: 0.8774\n",
            "Epoch 157/300\n",
            "618/625 [============================>.] - ETA: 0s - loss: 0.0038 - accuracy: 0.9989\n",
            "Epoch 157: saving model to training_1/cp.ckpt\n",
            "INFO:tensorflow:Assets written to: training_1/cp.ckpt/assets\n"
          ]
        },
        {
          "name": "stderr",
          "output_type": "stream",
          "text": [
            "INFO:tensorflow:Assets written to: training_1/cp.ckpt/assets\n"
          ]
        },
        {
          "name": "stdout",
          "output_type": "stream",
          "text": [
            "\b\b\b\b\b\b\b\b\b\b\b\b\b\b\b\b\b\b\b\b\b\b\b\b\b\b\b\b\b\b\b\b\b\b\b\b\b\b\b\b\b\b\b\b\b\b\b\b\b\b\b\b\b\b\b\b\b\b\b\b\b\b\b\b\b\b\b\b\b\b\b\b\b\b\b\b\b\b\b\b\b\b\b\b\r625/625 [==============================] - 5s 9ms/step - loss: 0.0038 - accuracy: 0.9989 - val_loss: 1.0283 - val_accuracy: 0.8852\n",
            "Epoch 158/300\n",
            "623/625 [============================>.] - ETA: 0s - loss: 0.0029 - accuracy: 0.9991\n",
            "Epoch 158: saving model to training_1/cp.ckpt\n",
            "INFO:tensorflow:Assets written to: training_1/cp.ckpt/assets\n"
          ]
        },
        {
          "name": "stderr",
          "output_type": "stream",
          "text": [
            "INFO:tensorflow:Assets written to: training_1/cp.ckpt/assets\n"
          ]
        },
        {
          "name": "stdout",
          "output_type": "stream",
          "text": [
            "\b\b\b\b\b\b\b\b\b\b\b\b\b\b\b\b\b\b\b\b\b\b\b\b\b\b\b\b\b\b\b\b\b\b\b\b\b\b\b\b\b\b\b\b\b\b\b\b\b\b\b\b\b\b\b\b\b\b\b\b\b\b\b\b\b\b\b\b\b\b\b\b\b\b\b\b\b\b\b\b\b\b\b\b\r625/625 [==============================] - 6s 10ms/step - loss: 0.0029 - accuracy: 0.9991 - val_loss: 1.0113 - val_accuracy: 0.8846\n",
            "Epoch 159/300\n",
            "620/625 [============================>.] - ETA: 0s - loss: 0.0014 - accuracy: 0.9995\n",
            "Epoch 159: saving model to training_1/cp.ckpt\n",
            "INFO:tensorflow:Assets written to: training_1/cp.ckpt/assets\n"
          ]
        },
        {
          "name": "stderr",
          "output_type": "stream",
          "text": [
            "INFO:tensorflow:Assets written to: training_1/cp.ckpt/assets\n"
          ]
        },
        {
          "name": "stdout",
          "output_type": "stream",
          "text": [
            "\b\b\b\b\b\b\b\b\b\b\b\b\b\b\b\b\b\b\b\b\b\b\b\b\b\b\b\b\b\b\b\b\b\b\b\b\b\b\b\b\b\b\b\b\b\b\b\b\b\b\b\b\b\b\b\b\b\b\b\b\b\b\b\b\b\b\b\b\b\b\b\b\b\b\b\b\b\b\b\b\b\b\b\b\r625/625 [==============================] - 5s 8ms/step - loss: 0.0014 - accuracy: 0.9995 - val_loss: 1.0873 - val_accuracy: 0.8844\n",
            "Epoch 160/300\n",
            "620/625 [============================>.] - ETA: 0s - loss: 0.0026 - accuracy: 0.9991\n",
            "Epoch 160: saving model to training_1/cp.ckpt\n",
            "INFO:tensorflow:Assets written to: training_1/cp.ckpt/assets\n"
          ]
        },
        {
          "name": "stderr",
          "output_type": "stream",
          "text": [
            "INFO:tensorflow:Assets written to: training_1/cp.ckpt/assets\n"
          ]
        },
        {
          "name": "stdout",
          "output_type": "stream",
          "text": [
            "\b\b\b\b\b\b\b\b\b\b\b\b\b\b\b\b\b\b\b\b\b\b\b\b\b\b\b\b\b\b\b\b\b\b\b\b\b\b\b\b\b\b\b\b\b\b\b\b\b\b\b\b\b\b\b\b\b\b\b\b\b\b\b\b\b\b\b\b\b\b\b\b\b\b\b\b\b\b\b\b\b\b\b\b\r625/625 [==============================] - 5s 8ms/step - loss: 0.0026 - accuracy: 0.9991 - val_loss: 1.3561 - val_accuracy: 0.8742\n",
            "Epoch 161/300\n",
            "624/625 [============================>.] - ETA: 0s - loss: 0.0023 - accuracy: 0.9992\n",
            "Epoch 161: saving model to training_1/cp.ckpt\n",
            "INFO:tensorflow:Assets written to: training_1/cp.ckpt/assets\n"
          ]
        },
        {
          "name": "stderr",
          "output_type": "stream",
          "text": [
            "INFO:tensorflow:Assets written to: training_1/cp.ckpt/assets\n"
          ]
        },
        {
          "name": "stdout",
          "output_type": "stream",
          "text": [
            "\b\b\b\b\b\b\b\b\b\b\b\b\b\b\b\b\b\b\b\b\b\b\b\b\b\b\b\b\b\b\b\b\b\b\b\b\b\b\b\b\b\b\b\b\b\b\b\b\b\b\b\b\b\b\b\b\b\b\b\b\b\b\b\b\b\b\b\b\b\b\b\b\b\b\b\b\b\b\b\b\b\b\b\b\r625/625 [==============================] - 5s 9ms/step - loss: 0.0023 - accuracy: 0.9992 - val_loss: 1.1496 - val_accuracy: 0.8888\n",
            "Epoch 162/300\n",
            "623/625 [============================>.] - ETA: 0s - loss: 0.0017 - accuracy: 0.9993\n",
            "Epoch 162: saving model to training_1/cp.ckpt\n",
            "INFO:tensorflow:Assets written to: training_1/cp.ckpt/assets\n"
          ]
        },
        {
          "name": "stderr",
          "output_type": "stream",
          "text": [
            "INFO:tensorflow:Assets written to: training_1/cp.ckpt/assets\n"
          ]
        },
        {
          "name": "stdout",
          "output_type": "stream",
          "text": [
            "\b\b\b\b\b\b\b\b\b\b\b\b\b\b\b\b\b\b\b\b\b\b\b\b\b\b\b\b\b\b\b\b\b\b\b\b\b\b\b\b\b\b\b\b\b\b\b\b\b\b\b\b\b\b\b\b\b\b\b\b\b\b\b\b\b\b\b\b\b\b\b\b\b\b\b\b\b\b\b\b\b\b\b\b\r625/625 [==============================] - 5s 8ms/step - loss: 0.0017 - accuracy: 0.9994 - val_loss: 1.1277 - val_accuracy: 0.8868\n",
            "Epoch 163/300\n",
            "625/625 [==============================] - ETA: 0s - loss: 9.3239e-04 - accuracy: 0.9995\n",
            "Epoch 163: saving model to training_1/cp.ckpt\n",
            "INFO:tensorflow:Assets written to: training_1/cp.ckpt/assets\n"
          ]
        },
        {
          "name": "stderr",
          "output_type": "stream",
          "text": [
            "INFO:tensorflow:Assets written to: training_1/cp.ckpt/assets\n"
          ]
        },
        {
          "name": "stdout",
          "output_type": "stream",
          "text": [
            "\b\b\b\b\b\b\b\b\b\b\b\b\b\b\b\b\b\b\b\b\b\b\b\b\b\b\b\b\b\b\b\b\b\b\b\b\b\b\b\b\b\b\b\b\b\b\b\b\b\b\b\b\b\b\b\b\b\b\b\b\b\b\b\b\b\b\b\b\b\b\b\b\b\b\b\b\b\b\b\b\b\b\b\b\b\b\b\b\r625/625 [==============================] - 5s 9ms/step - loss: 9.3239e-04 - accuracy: 0.9995 - val_loss: 1.1908 - val_accuracy: 0.8870\n",
            "Epoch 164/300\n",
            "622/625 [============================>.] - ETA: 0s - loss: 0.0014 - accuracy: 0.9995\n",
            "Epoch 164: saving model to training_1/cp.ckpt\n",
            "INFO:tensorflow:Assets written to: training_1/cp.ckpt/assets\n"
          ]
        },
        {
          "name": "stderr",
          "output_type": "stream",
          "text": [
            "INFO:tensorflow:Assets written to: training_1/cp.ckpt/assets\n"
          ]
        },
        {
          "name": "stdout",
          "output_type": "stream",
          "text": [
            "\b\b\b\b\b\b\b\b\b\b\b\b\b\b\b\b\b\b\b\b\b\b\b\b\b\b\b\b\b\b\b\b\b\b\b\b\b\b\b\b\b\b\b\b\b\b\b\b\b\b\b\b\b\b\b\b\b\b\b\b\b\b\b\b\b\b\b\b\b\b\b\b\b\b\b\b\b\b\b\b\b\b\b\b\r625/625 [==============================] - 5s 8ms/step - loss: 0.0014 - accuracy: 0.9995 - val_loss: 1.2169 - val_accuracy: 0.8850\n",
            "Epoch 165/300\n",
            "620/625 [============================>.] - ETA: 0s - loss: 0.0021 - accuracy: 0.9995\n",
            "Epoch 165: saving model to training_1/cp.ckpt\n",
            "INFO:tensorflow:Assets written to: training_1/cp.ckpt/assets\n"
          ]
        },
        {
          "name": "stderr",
          "output_type": "stream",
          "text": [
            "INFO:tensorflow:Assets written to: training_1/cp.ckpt/assets\n"
          ]
        },
        {
          "name": "stdout",
          "output_type": "stream",
          "text": [
            "\b\b\b\b\b\b\b\b\b\b\b\b\b\b\b\b\b\b\b\b\b\b\b\b\b\b\b\b\b\b\b\b\b\b\b\b\b\b\b\b\b\b\b\b\b\b\b\b\b\b\b\b\b\b\b\b\b\b\b\b\b\b\b\b\b\b\b\b\b\b\b\b\b\b\b\b\b\b\b\b\b\b\b\b\r625/625 [==============================] - 5s 9ms/step - loss: 0.0021 - accuracy: 0.9995 - val_loss: 1.1478 - val_accuracy: 0.8848\n",
            "Epoch 166/300\n",
            "621/625 [============================>.] - ETA: 0s - loss: 0.0022 - accuracy: 0.9992\n",
            "Epoch 166: saving model to training_1/cp.ckpt\n",
            "INFO:tensorflow:Assets written to: training_1/cp.ckpt/assets\n"
          ]
        },
        {
          "name": "stderr",
          "output_type": "stream",
          "text": [
            "INFO:tensorflow:Assets written to: training_1/cp.ckpt/assets\n"
          ]
        },
        {
          "name": "stdout",
          "output_type": "stream",
          "text": [
            "\b\b\b\b\b\b\b\b\b\b\b\b\b\b\b\b\b\b\b\b\b\b\b\b\b\b\b\b\b\b\b\b\b\b\b\b\b\b\b\b\b\b\b\b\b\b\b\b\b\b\b\b\b\b\b\b\b\b\b\b\b\b\b\b\b\b\b\b\b\b\b\b\b\b\b\b\b\b\b\b\b\b\b\b\r625/625 [==============================] - 5s 9ms/step - loss: 0.0022 - accuracy: 0.9992 - val_loss: 1.3661 - val_accuracy: 0.8840\n",
            "Epoch 167/300\n",
            "625/625 [==============================] - ETA: 0s - loss: 0.0043 - accuracy: 0.9984\n",
            "Epoch 167: saving model to training_1/cp.ckpt\n",
            "INFO:tensorflow:Assets written to: training_1/cp.ckpt/assets\n"
          ]
        },
        {
          "name": "stderr",
          "output_type": "stream",
          "text": [
            "INFO:tensorflow:Assets written to: training_1/cp.ckpt/assets\n"
          ]
        },
        {
          "name": "stdout",
          "output_type": "stream",
          "text": [
            "\b\b\b\b\b\b\b\b\b\b\b\b\b\b\b\b\b\b\b\b\b\b\b\b\b\b\b\b\b\b\b\b\b\b\b\b\b\b\b\b\b\b\b\b\b\b\b\b\b\b\b\b\b\b\b\b\b\b\b\b\b\b\b\b\b\b\b\b\b\b\b\b\b\b\b\b\b\b\b\b\b\b\b\b\r625/625 [==============================] - 5s 9ms/step - loss: 0.0043 - accuracy: 0.9984 - val_loss: 1.1135 - val_accuracy: 0.8822\n",
            "Epoch 168/300\n",
            "620/625 [============================>.] - ETA: 0s - loss: 0.0020 - accuracy: 0.9995\n",
            "Epoch 168: saving model to training_1/cp.ckpt\n",
            "INFO:tensorflow:Assets written to: training_1/cp.ckpt/assets\n"
          ]
        },
        {
          "name": "stderr",
          "output_type": "stream",
          "text": [
            "INFO:tensorflow:Assets written to: training_1/cp.ckpt/assets\n"
          ]
        },
        {
          "name": "stdout",
          "output_type": "stream",
          "text": [
            "\b\b\b\b\b\b\b\b\b\b\b\b\b\b\b\b\b\b\b\b\b\b\b\b\b\b\b\b\b\b\b\b\b\b\b\b\b\b\b\b\b\b\b\b\b\b\b\b\b\b\b\b\b\b\b\b\b\b\b\b\b\b\b\b\b\b\b\b\b\b\b\b\b\b\b\b\b\b\b\b\b\b\b\b\r625/625 [==============================] - 5s 8ms/step - loss: 0.0019 - accuracy: 0.9995 - val_loss: 1.1719 - val_accuracy: 0.8828\n",
            "Epoch 169/300\n",
            "619/625 [============================>.] - ETA: 0s - loss: 5.6509e-04 - accuracy: 0.9997\n",
            "Epoch 169: saving model to training_1/cp.ckpt\n",
            "INFO:tensorflow:Assets written to: training_1/cp.ckpt/assets\n"
          ]
        },
        {
          "name": "stderr",
          "output_type": "stream",
          "text": [
            "INFO:tensorflow:Assets written to: training_1/cp.ckpt/assets\n"
          ]
        },
        {
          "name": "stdout",
          "output_type": "stream",
          "text": [
            "\b\b\b\b\b\b\b\b\b\b\b\b\b\b\b\b\b\b\b\b\b\b\b\b\b\b\b\b\b\b\b\b\b\b\b\b\b\b\b\b\b\b\b\b\b\b\b\b\b\b\b\b\b\b\b\b\b\b\b\b\b\b\b\b\b\b\b\b\b\b\b\b\b\b\b\b\b\b\b\b\b\b\b\b\b\b\b\b\r625/625 [==============================] - 5s 9ms/step - loss: 5.5975e-04 - accuracy: 0.9998 - val_loss: 1.3146 - val_accuracy: 0.8844\n",
            "Epoch 170/300\n",
            "622/625 [============================>.] - ETA: 0s - loss: 6.9697e-04 - accuracy: 0.9998\n",
            "Epoch 170: saving model to training_1/cp.ckpt\n",
            "INFO:tensorflow:Assets written to: training_1/cp.ckpt/assets\n"
          ]
        },
        {
          "name": "stderr",
          "output_type": "stream",
          "text": [
            "INFO:tensorflow:Assets written to: training_1/cp.ckpt/assets\n"
          ]
        },
        {
          "name": "stdout",
          "output_type": "stream",
          "text": [
            "\b\b\b\b\b\b\b\b\b\b\b\b\b\b\b\b\b\b\b\b\b\b\b\b\b\b\b\b\b\b\b\b\b\b\b\b\b\b\b\b\b\b\b\b\b\b\b\b\b\b\b\b\b\b\b\b\b\b\b\b\b\b\b\b\b\b\b\b\b\b\b\b\b\b\b\b\b\b\b\b\b\b\b\b\b\b\b\b\r625/625 [==============================] - 5s 9ms/step - loss: 0.0014 - accuracy: 0.9998 - val_loss: 1.3161 - val_accuracy: 0.8822\n",
            "Epoch 171/300\n",
            "623/625 [============================>.] - ETA: 0s - loss: 0.0038 - accuracy: 0.9988\n",
            "Epoch 171: saving model to training_1/cp.ckpt\n",
            "INFO:tensorflow:Assets written to: training_1/cp.ckpt/assets\n"
          ]
        },
        {
          "name": "stderr",
          "output_type": "stream",
          "text": [
            "INFO:tensorflow:Assets written to: training_1/cp.ckpt/assets\n"
          ]
        },
        {
          "name": "stdout",
          "output_type": "stream",
          "text": [
            "\b\b\b\b\b\b\b\b\b\b\b\b\b\b\b\b\b\b\b\b\b\b\b\b\b\b\b\b\b\b\b\b\b\b\b\b\b\b\b\b\b\b\b\b\b\b\b\b\b\b\b\b\b\b\b\b\b\b\b\b\b\b\b\b\b\b\b\b\b\b\b\b\b\b\b\b\b\b\b\b\b\b\b\b\r625/625 [==============================] - 5s 8ms/step - loss: 0.0038 - accuracy: 0.9988 - val_loss: 1.0289 - val_accuracy: 0.8860\n",
            "Epoch 172/300\n",
            "618/625 [============================>.] - ETA: 0s - loss: 0.0026 - accuracy: 0.9991\n",
            "Epoch 172: saving model to training_1/cp.ckpt\n",
            "INFO:tensorflow:Assets written to: training_1/cp.ckpt/assets\n"
          ]
        },
        {
          "name": "stderr",
          "output_type": "stream",
          "text": [
            "INFO:tensorflow:Assets written to: training_1/cp.ckpt/assets\n"
          ]
        },
        {
          "name": "stdout",
          "output_type": "stream",
          "text": [
            "\b\b\b\b\b\b\b\b\b\b\b\b\b\b\b\b\b\b\b\b\b\b\b\b\b\b\b\b\b\b\b\b\b\b\b\b\b\b\b\b\b\b\b\b\b\b\b\b\b\b\b\b\b\b\b\b\b\b\b\b\b\b\b\b\b\b\b\b\b\b\b\b\b\b\b\b\b\b\b\b\b\b\b\b\r625/625 [==============================] - 6s 10ms/step - loss: 0.0025 - accuracy: 0.9991 - val_loss: 1.5876 - val_accuracy: 0.8792\n",
            "Epoch 173/300\n",
            "619/625 [============================>.] - ETA: 0s - loss: 0.0028 - accuracy: 0.9990\n",
            "Epoch 173: saving model to training_1/cp.ckpt\n",
            "INFO:tensorflow:Assets written to: training_1/cp.ckpt/assets\n"
          ]
        },
        {
          "name": "stderr",
          "output_type": "stream",
          "text": [
            "INFO:tensorflow:Assets written to: training_1/cp.ckpt/assets\n"
          ]
        },
        {
          "name": "stdout",
          "output_type": "stream",
          "text": [
            "\b\b\b\b\b\b\b\b\b\b\b\b\b\b\b\b\b\b\b\b\b\b\b\b\b\b\b\b\b\b\b\b\b\b\b\b\b\b\b\b\b\b\b\b\b\b\b\b\b\b\b\b\b\b\b\b\b\b\b\b\b\b\b\b\b\b\b\b\b\b\b\b\b\b\b\b\b\b\b\b\b\b\b\b\r625/625 [==============================] - 6s 9ms/step - loss: 0.0027 - accuracy: 0.9991 - val_loss: 1.3371 - val_accuracy: 0.8898\n",
            "Epoch 174/300\n",
            "620/625 [============================>.] - ETA: 0s - loss: 5.8362e-04 - accuracy: 0.9998\n",
            "Epoch 174: saving model to training_1/cp.ckpt\n",
            "INFO:tensorflow:Assets written to: training_1/cp.ckpt/assets\n"
          ]
        },
        {
          "name": "stderr",
          "output_type": "stream",
          "text": [
            "INFO:tensorflow:Assets written to: training_1/cp.ckpt/assets\n"
          ]
        },
        {
          "name": "stdout",
          "output_type": "stream",
          "text": [
            "\b\b\b\b\b\b\b\b\b\b\b\b\b\b\b\b\b\b\b\b\b\b\b\b\b\b\b\b\b\b\b\b\b\b\b\b\b\b\b\b\b\b\b\b\b\b\b\b\b\b\b\b\b\b\b\b\b\b\b\b\b\b\b\b\b\b\b\b\b\b\b\b\b\b\b\b\b\b\b\b\b\b\b\b\b\b\b\b\r625/625 [==============================] - 5s 8ms/step - loss: 5.7895e-04 - accuracy: 0.9998 - val_loss: 1.5157 - val_accuracy: 0.8870\n",
            "Epoch 175/300\n",
            "620/625 [============================>.] - ETA: 0s - loss: 0.0011 - accuracy: 0.9996\n",
            "Epoch 175: saving model to training_1/cp.ckpt\n",
            "INFO:tensorflow:Assets written to: training_1/cp.ckpt/assets\n"
          ]
        },
        {
          "name": "stderr",
          "output_type": "stream",
          "text": [
            "INFO:tensorflow:Assets written to: training_1/cp.ckpt/assets\n"
          ]
        },
        {
          "name": "stdout",
          "output_type": "stream",
          "text": [
            "\b\b\b\b\b\b\b\b\b\b\b\b\b\b\b\b\b\b\b\b\b\b\b\b\b\b\b\b\b\b\b\b\b\b\b\b\b\b\b\b\b\b\b\b\b\b\b\b\b\b\b\b\b\b\b\b\b\b\b\b\b\b\b\b\b\b\b\b\b\b\b\b\b\b\b\b\b\b\b\b\b\b\b\b\r625/625 [==============================] - 5s 8ms/step - loss: 0.0011 - accuracy: 0.9997 - val_loss: 1.4154 - val_accuracy: 0.8866\n",
            "Epoch 176/300\n",
            "620/625 [============================>.] - ETA: 0s - loss: 0.0034 - accuracy: 0.9990\n",
            "Epoch 176: saving model to training_1/cp.ckpt\n",
            "INFO:tensorflow:Assets written to: training_1/cp.ckpt/assets\n"
          ]
        },
        {
          "name": "stderr",
          "output_type": "stream",
          "text": [
            "INFO:tensorflow:Assets written to: training_1/cp.ckpt/assets\n"
          ]
        },
        {
          "name": "stdout",
          "output_type": "stream",
          "text": [
            "\b\b\b\b\b\b\b\b\b\b\b\b\b\b\b\b\b\b\b\b\b\b\b\b\b\b\b\b\b\b\b\b\b\b\b\b\b\b\b\b\b\b\b\b\b\b\b\b\b\b\b\b\b\b\b\b\b\b\b\b\b\b\b\b\b\b\b\b\b\b\b\b\b\b\b\b\b\b\b\b\b\b\b\b\r625/625 [==============================] - 5s 9ms/step - loss: 0.0033 - accuracy: 0.9991 - val_loss: 1.2042 - val_accuracy: 0.8862\n",
            "Epoch 177/300\n",
            "623/625 [============================>.] - ETA: 0s - loss: 0.0011 - accuracy: 0.9995\n",
            "Epoch 177: saving model to training_1/cp.ckpt\n",
            "INFO:tensorflow:Assets written to: training_1/cp.ckpt/assets\n"
          ]
        },
        {
          "name": "stderr",
          "output_type": "stream",
          "text": [
            "INFO:tensorflow:Assets written to: training_1/cp.ckpt/assets\n"
          ]
        },
        {
          "name": "stdout",
          "output_type": "stream",
          "text": [
            "\b\b\b\b\b\b\b\b\b\b\b\b\b\b\b\b\b\b\b\b\b\b\b\b\b\b\b\b\b\b\b\b\b\b\b\b\b\b\b\b\b\b\b\b\b\b\b\b\b\b\b\b\b\b\b\b\b\b\b\b\b\b\b\b\b\b\b\b\b\b\b\b\b\b\b\b\b\b\b\b\b\b\b\b\r625/625 [==============================] - 5s 9ms/step - loss: 0.0011 - accuracy: 0.9995 - val_loss: 1.3448 - val_accuracy: 0.8882\n",
            "Epoch 178/300\n",
            "622/625 [============================>.] - ETA: 0s - loss: 0.0062 - accuracy: 0.9978\n",
            "Epoch 178: saving model to training_1/cp.ckpt\n",
            "INFO:tensorflow:Assets written to: training_1/cp.ckpt/assets\n"
          ]
        },
        {
          "name": "stderr",
          "output_type": "stream",
          "text": [
            "INFO:tensorflow:Assets written to: training_1/cp.ckpt/assets\n"
          ]
        },
        {
          "name": "stdout",
          "output_type": "stream",
          "text": [
            "\b\b\b\b\b\b\b\b\b\b\b\b\b\b\b\b\b\b\b\b\b\b\b\b\b\b\b\b\b\b\b\b\b\b\b\b\b\b\b\b\b\b\b\b\b\b\b\b\b\b\b\b\b\b\b\b\b\b\b\b\b\b\b\b\b\b\b\b\b\b\b\b\b\b\b\b\b\b\b\b\b\b\b\b\r625/625 [==============================] - 5s 8ms/step - loss: 0.0062 - accuracy: 0.9978 - val_loss: 1.1923 - val_accuracy: 0.8858\n",
            "Epoch 179/300\n",
            "623/625 [============================>.] - ETA: 0s - loss: 0.0023 - accuracy: 0.9993\n",
            "Epoch 179: saving model to training_1/cp.ckpt\n",
            "INFO:tensorflow:Assets written to: training_1/cp.ckpt/assets\n"
          ]
        },
        {
          "name": "stderr",
          "output_type": "stream",
          "text": [
            "INFO:tensorflow:Assets written to: training_1/cp.ckpt/assets\n"
          ]
        },
        {
          "name": "stdout",
          "output_type": "stream",
          "text": [
            "\b\b\b\b\b\b\b\b\b\b\b\b\b\b\b\b\b\b\b\b\b\b\b\b\b\b\b\b\b\b\b\b\b\b\b\b\b\b\b\b\b\b\b\b\b\b\b\b\b\b\b\b\b\b\b\b\b\b\b\b\b\b\b\b\b\b\b\b\b\b\b\b\b\b\b\b\b\b\b\b\b\b\b\b\r625/625 [==============================] - 5s 8ms/step - loss: 0.0023 - accuracy: 0.9994 - val_loss: 1.4885 - val_accuracy: 0.8832\n",
            "Epoch 180/300\n",
            "619/625 [============================>.] - ETA: 0s - loss: 0.0027 - accuracy: 0.9992\n",
            "Epoch 180: saving model to training_1/cp.ckpt\n",
            "INFO:tensorflow:Assets written to: training_1/cp.ckpt/assets\n"
          ]
        },
        {
          "name": "stderr",
          "output_type": "stream",
          "text": [
            "INFO:tensorflow:Assets written to: training_1/cp.ckpt/assets\n"
          ]
        },
        {
          "name": "stdout",
          "output_type": "stream",
          "text": [
            "\b\b\b\b\b\b\b\b\b\b\b\b\b\b\b\b\b\b\b\b\b\b\b\b\b\b\b\b\b\b\b\b\b\b\b\b\b\b\b\b\b\b\b\b\b\b\b\b\b\b\b\b\b\b\b\b\b\b\b\b\b\b\b\b\b\b\b\b\b\b\b\b\b\b\b\b\b\b\b\b\b\b\b\b\r625/625 [==============================] - 5s 9ms/step - loss: 0.0027 - accuracy: 0.9992 - val_loss: 1.1417 - val_accuracy: 0.8838\n",
            "Epoch 181/300\n",
            "619/625 [============================>.] - ETA: 0s - loss: 0.0018 - accuracy: 0.9993\n",
            "Epoch 181: saving model to training_1/cp.ckpt\n",
            "INFO:tensorflow:Assets written to: training_1/cp.ckpt/assets\n"
          ]
        },
        {
          "name": "stderr",
          "output_type": "stream",
          "text": [
            "INFO:tensorflow:Assets written to: training_1/cp.ckpt/assets\n"
          ]
        },
        {
          "name": "stdout",
          "output_type": "stream",
          "text": [
            "\b\b\b\b\b\b\b\b\b\b\b\b\b\b\b\b\b\b\b\b\b\b\b\b\b\b\b\b\b\b\b\b\b\b\b\b\b\b\b\b\b\b\b\b\b\b\b\b\b\b\b\b\b\b\b\b\b\b\b\b\b\b\b\b\b\b\b\b\b\b\b\b\b\b\b\b\b\b\b\b\b\b\b\b\r625/625 [==============================] - 5s 8ms/step - loss: 0.0018 - accuracy: 0.9993 - val_loss: 1.1852 - val_accuracy: 0.8828\n",
            "Epoch 182/300\n",
            "625/625 [==============================] - ETA: 0s - loss: 0.0032 - accuracy: 0.9988\n",
            "Epoch 182: saving model to training_1/cp.ckpt\n",
            "INFO:tensorflow:Assets written to: training_1/cp.ckpt/assets\n"
          ]
        },
        {
          "name": "stderr",
          "output_type": "stream",
          "text": [
            "INFO:tensorflow:Assets written to: training_1/cp.ckpt/assets\n"
          ]
        },
        {
          "name": "stdout",
          "output_type": "stream",
          "text": [
            "\b\b\b\b\b\b\b\b\b\b\b\b\b\b\b\b\b\b\b\b\b\b\b\b\b\b\b\b\b\b\b\b\b\b\b\b\b\b\b\b\b\b\b\b\b\b\b\b\b\b\b\b\b\b\b\b\b\b\b\b\b\b\b\b\b\b\b\b\b\b\b\b\b\b\b\b\b\b\b\b\b\b\b\b\r625/625 [==============================] - 5s 8ms/step - loss: 0.0032 - accuracy: 0.9988 - val_loss: 1.2483 - val_accuracy: 0.8790\n",
            "Epoch 183/300\n",
            "622/625 [============================>.] - ETA: 0s - loss: 0.0026 - accuracy: 0.9990\n",
            "Epoch 183: saving model to training_1/cp.ckpt\n",
            "INFO:tensorflow:Assets written to: training_1/cp.ckpt/assets\n"
          ]
        },
        {
          "name": "stderr",
          "output_type": "stream",
          "text": [
            "INFO:tensorflow:Assets written to: training_1/cp.ckpt/assets\n"
          ]
        },
        {
          "name": "stdout",
          "output_type": "stream",
          "text": [
            "\b\b\b\b\b\b\b\b\b\b\b\b\b\b\b\b\b\b\b\b\b\b\b\b\b\b\b\b\b\b\b\b\b\b\b\b\b\b\b\b\b\b\b\b\b\b\b\b\b\b\b\b\b\b\b\b\b\b\b\b\b\b\b\b\b\b\b\b\b\b\b\b\b\b\b\b\b\b\b\b\b\b\b\b\r625/625 [==============================] - 5s 8ms/step - loss: 0.0026 - accuracy: 0.9990 - val_loss: 1.3345 - val_accuracy: 0.8802\n",
            "Epoch 184/300\n",
            "624/625 [============================>.] - ETA: 0s - loss: 0.0012 - accuracy: 0.9996\n",
            "Epoch 184: saving model to training_1/cp.ckpt\n",
            "INFO:tensorflow:Assets written to: training_1/cp.ckpt/assets\n"
          ]
        },
        {
          "name": "stderr",
          "output_type": "stream",
          "text": [
            "INFO:tensorflow:Assets written to: training_1/cp.ckpt/assets\n"
          ]
        },
        {
          "name": "stdout",
          "output_type": "stream",
          "text": [
            "\b\b\b\b\b\b\b\b\b\b\b\b\b\b\b\b\b\b\b\b\b\b\b\b\b\b\b\b\b\b\b\b\b\b\b\b\b\b\b\b\b\b\b\b\b\b\b\b\b\b\b\b\b\b\b\b\b\b\b\b\b\b\b\b\b\b\b\b\b\b\b\b\b\b\b\b\b\b\b\b\b\b\b\b\r625/625 [==============================] - 5s 8ms/step - loss: 0.0012 - accuracy: 0.9997 - val_loss: 1.3344 - val_accuracy: 0.8858\n",
            "Epoch 185/300\n",
            "617/625 [============================>.] - ETA: 0s - loss: 0.0018 - accuracy: 0.9995\n",
            "Epoch 185: saving model to training_1/cp.ckpt\n",
            "INFO:tensorflow:Assets written to: training_1/cp.ckpt/assets\n"
          ]
        },
        {
          "name": "stderr",
          "output_type": "stream",
          "text": [
            "INFO:tensorflow:Assets written to: training_1/cp.ckpt/assets\n"
          ]
        },
        {
          "name": "stdout",
          "output_type": "stream",
          "text": [
            "\b\b\b\b\b\b\b\b\b\b\b\b\b\b\b\b\b\b\b\b\b\b\b\b\b\b\b\b\b\b\b\b\b\b\b\b\b\b\b\b\b\b\b\b\b\b\b\b\b\b\b\b\b\b\b\b\b\b\b\b\b\b\b\b\b\b\b\b\b\b\b\b\b\b\b\b\b\b\b\b\b\b\b\b\r625/625 [==============================] - 6s 9ms/step - loss: 0.0018 - accuracy: 0.9995 - val_loss: 1.2644 - val_accuracy: 0.8838\n",
            "Epoch 186/300\n",
            "625/625 [==============================] - ETA: 0s - loss: 0.0015 - accuracy: 0.9996\n",
            "Epoch 186: saving model to training_1/cp.ckpt\n",
            "INFO:tensorflow:Assets written to: training_1/cp.ckpt/assets\n"
          ]
        },
        {
          "name": "stderr",
          "output_type": "stream",
          "text": [
            "INFO:tensorflow:Assets written to: training_1/cp.ckpt/assets\n"
          ]
        },
        {
          "name": "stdout",
          "output_type": "stream",
          "text": [
            "\b\b\b\b\b\b\b\b\b\b\b\b\b\b\b\b\b\b\b\b\b\b\b\b\b\b\b\b\b\b\b\b\b\b\b\b\b\b\b\b\b\b\b\b\b\b\b\b\b\b\b\b\b\b\b\b\b\b\b\b\b\b\b\b\b\b\b\b\b\b\b\b\b\b\b\b\b\b\b\b\b\b\b\b\r625/625 [==============================] - 6s 9ms/step - loss: 0.0015 - accuracy: 0.9996 - val_loss: 1.3958 - val_accuracy: 0.8842\n",
            "Epoch 187/300\n",
            "624/625 [============================>.] - ETA: 0s - loss: 0.0032 - accuracy: 0.9990\n",
            "Epoch 187: saving model to training_1/cp.ckpt\n",
            "INFO:tensorflow:Assets written to: training_1/cp.ckpt/assets\n"
          ]
        },
        {
          "name": "stderr",
          "output_type": "stream",
          "text": [
            "INFO:tensorflow:Assets written to: training_1/cp.ckpt/assets\n"
          ]
        },
        {
          "name": "stdout",
          "output_type": "stream",
          "text": [
            "\b\b\b\b\b\b\b\b\b\b\b\b\b\b\b\b\b\b\b\b\b\b\b\b\b\b\b\b\b\b\b\b\b\b\b\b\b\b\b\b\b\b\b\b\b\b\b\b\b\b\b\b\b\b\b\b\b\b\b\b\b\b\b\b\b\b\b\b\b\b\b\b\b\b\b\b\b\b\b\b\b\b\b\b\r625/625 [==============================] - 5s 8ms/step - loss: 0.0032 - accuracy: 0.9991 - val_loss: 1.1805 - val_accuracy: 0.8850\n",
            "Epoch 188/300\n",
            "618/625 [============================>.] - ETA: 0s - loss: 0.0027 - accuracy: 0.9992\n",
            "Epoch 188: saving model to training_1/cp.ckpt\n",
            "INFO:tensorflow:Assets written to: training_1/cp.ckpt/assets\n"
          ]
        },
        {
          "name": "stderr",
          "output_type": "stream",
          "text": [
            "INFO:tensorflow:Assets written to: training_1/cp.ckpt/assets\n"
          ]
        },
        {
          "name": "stdout",
          "output_type": "stream",
          "text": [
            "\b\b\b\b\b\b\b\b\b\b\b\b\b\b\b\b\b\b\b\b\b\b\b\b\b\b\b\b\b\b\b\b\b\b\b\b\b\b\b\b\b\b\b\b\b\b\b\b\b\b\b\b\b\b\b\b\b\b\b\b\b\b\b\b\b\b\b\b\b\b\b\b\b\b\b\b\b\b\b\b\b\b\b\b\r625/625 [==============================] - 5s 9ms/step - loss: 0.0027 - accuracy: 0.9992 - val_loss: 1.1120 - val_accuracy: 0.8870\n",
            "Epoch 189/300\n",
            "620/625 [============================>.] - ETA: 0s - loss: 0.0013 - accuracy: 0.9995    \n",
            "Epoch 189: saving model to training_1/cp.ckpt\n",
            "INFO:tensorflow:Assets written to: training_1/cp.ckpt/assets\n"
          ]
        },
        {
          "name": "stderr",
          "output_type": "stream",
          "text": [
            "INFO:tensorflow:Assets written to: training_1/cp.ckpt/assets\n"
          ]
        },
        {
          "name": "stdout",
          "output_type": "stream",
          "text": [
            "\b\b\b\b\b\b\b\b\b\b\b\b\b\b\b\b\b\b\b\b\b\b\b\b\b\b\b\b\b\b\b\b\b\b\b\b\b\b\b\b\b\b\b\b\b\b\b\b\b\b\b\b\b\b\b\b\b\b\b\b\b\b\b\b\b\b\b\b\b\b\b\b\b\b\b\b\b\b\b\b\b\b\b\b\r625/625 [==============================] - 5s 9ms/step - loss: 0.0013 - accuracy: 0.9995 - val_loss: 1.2974 - val_accuracy: 0.8874\n",
            "Epoch 190/300\n",
            "617/625 [============================>.] - ETA: 0s - loss: 0.0024 - accuracy: 0.9992\n",
            "Epoch 190: saving model to training_1/cp.ckpt\n",
            "INFO:tensorflow:Assets written to: training_1/cp.ckpt/assets\n"
          ]
        },
        {
          "name": "stderr",
          "output_type": "stream",
          "text": [
            "INFO:tensorflow:Assets written to: training_1/cp.ckpt/assets\n"
          ]
        },
        {
          "name": "stdout",
          "output_type": "stream",
          "text": [
            "\b\b\b\b\b\b\b\b\b\b\b\b\b\b\b\b\b\b\b\b\b\b\b\b\b\b\b\b\b\b\b\b\b\b\b\b\b\b\b\b\b\b\b\b\b\b\b\b\b\b\b\b\b\b\b\b\b\b\b\b\b\b\b\b\b\b\b\b\b\b\b\b\b\b\b\b\b\b\b\b\b\b\b\b\r625/625 [==============================] - 5s 9ms/step - loss: 0.0025 - accuracy: 0.9991 - val_loss: 1.0597 - val_accuracy: 0.8816\n",
            "Epoch 191/300\n",
            "620/625 [============================>.] - ETA: 0s - loss: 9.9146e-04 - accuracy: 0.9997\n",
            "Epoch 191: saving model to training_1/cp.ckpt\n",
            "INFO:tensorflow:Assets written to: training_1/cp.ckpt/assets\n"
          ]
        },
        {
          "name": "stderr",
          "output_type": "stream",
          "text": [
            "INFO:tensorflow:Assets written to: training_1/cp.ckpt/assets\n"
          ]
        },
        {
          "name": "stdout",
          "output_type": "stream",
          "text": [
            "\b\b\b\b\b\b\b\b\b\b\b\b\b\b\b\b\b\b\b\b\b\b\b\b\b\b\b\b\b\b\b\b\b\b\b\b\b\b\b\b\b\b\b\b\b\b\b\b\b\b\b\b\b\b\b\b\b\b\b\b\b\b\b\b\b\b\b\b\b\b\b\b\b\b\b\b\b\b\b\b\b\b\b\b\b\b\b\b\r625/625 [==============================] - 5s 8ms/step - loss: 9.8908e-04 - accuracy: 0.9997 - val_loss: 1.4654 - val_accuracy: 0.8858\n",
            "Epoch 192/300\n",
            "618/625 [============================>.] - ETA: 0s - loss: 0.0016 - accuracy: 0.9994\n",
            "Epoch 192: saving model to training_1/cp.ckpt\n",
            "INFO:tensorflow:Assets written to: training_1/cp.ckpt/assets\n"
          ]
        },
        {
          "name": "stderr",
          "output_type": "stream",
          "text": [
            "INFO:tensorflow:Assets written to: training_1/cp.ckpt/assets\n"
          ]
        },
        {
          "name": "stdout",
          "output_type": "stream",
          "text": [
            "\b\b\b\b\b\b\b\b\b\b\b\b\b\b\b\b\b\b\b\b\b\b\b\b\b\b\b\b\b\b\b\b\b\b\b\b\b\b\b\b\b\b\b\b\b\b\b\b\b\b\b\b\b\b\b\b\b\b\b\b\b\b\b\b\b\b\b\b\b\b\b\b\b\b\b\b\b\b\b\b\b\b\b\b\r625/625 [==============================] - 5s 8ms/step - loss: 0.0016 - accuracy: 0.9995 - val_loss: 1.1299 - val_accuracy: 0.8862\n",
            "Epoch 193/300\n",
            "620/625 [============================>.] - ETA: 0s - loss: 0.0032 - accuracy: 0.9990\n",
            "Epoch 193: saving model to training_1/cp.ckpt\n",
            "INFO:tensorflow:Assets written to: training_1/cp.ckpt/assets\n"
          ]
        },
        {
          "name": "stderr",
          "output_type": "stream",
          "text": [
            "INFO:tensorflow:Assets written to: training_1/cp.ckpt/assets\n"
          ]
        },
        {
          "name": "stdout",
          "output_type": "stream",
          "text": [
            "\b\b\b\b\b\b\b\b\b\b\b\b\b\b\b\b\b\b\b\b\b\b\b\b\b\b\b\b\b\b\b\b\b\b\b\b\b\b\b\b\b\b\b\b\b\b\b\b\b\b\b\b\b\b\b\b\b\b\b\b\b\b\b\b\b\b\b\b\b\b\b\b\b\b\b\b\b\b\b\b\b\b\b\b\r625/625 [==============================] - 6s 9ms/step - loss: 0.0031 - accuracy: 0.9990 - val_loss: 1.5110 - val_accuracy: 0.8762\n",
            "Epoch 194/300\n",
            "620/625 [============================>.] - ETA: 0s - loss: 0.0016 - accuracy: 0.9994\n",
            "Epoch 194: saving model to training_1/cp.ckpt\n",
            "INFO:tensorflow:Assets written to: training_1/cp.ckpt/assets\n"
          ]
        },
        {
          "name": "stderr",
          "output_type": "stream",
          "text": [
            "INFO:tensorflow:Assets written to: training_1/cp.ckpt/assets\n"
          ]
        },
        {
          "name": "stdout",
          "output_type": "stream",
          "text": [
            "\b\b\b\b\b\b\b\b\b\b\b\b\b\b\b\b\b\b\b\b\b\b\b\b\b\b\b\b\b\b\b\b\b\b\b\b\b\b\b\b\b\b\b\b\b\b\b\b\b\b\b\b\b\b\b\b\b\b\b\b\b\b\b\b\b\b\b\b\b\b\b\b\b\b\b\b\b\b\b\b\b\b\b\b\r625/625 [==============================] - 6s 9ms/step - loss: 0.0018 - accuracy: 0.9994 - val_loss: 1.2234 - val_accuracy: 0.8874\n",
            "Epoch 195/300\n",
            "622/625 [============================>.] - ETA: 0s - loss: 0.0017 - accuracy: 0.9994\n",
            "Epoch 195: saving model to training_1/cp.ckpt\n",
            "INFO:tensorflow:Assets written to: training_1/cp.ckpt/assets\n"
          ]
        },
        {
          "name": "stderr",
          "output_type": "stream",
          "text": [
            "INFO:tensorflow:Assets written to: training_1/cp.ckpt/assets\n"
          ]
        },
        {
          "name": "stdout",
          "output_type": "stream",
          "text": [
            "\b\b\b\b\b\b\b\b\b\b\b\b\b\b\b\b\b\b\b\b\b\b\b\b\b\b\b\b\b\b\b\b\b\b\b\b\b\b\b\b\b\b\b\b\b\b\b\b\b\b\b\b\b\b\b\b\b\b\b\b\b\b\b\b\b\b\b\b\b\b\b\b\b\b\b\b\b\b\b\b\b\b\b\b\r625/625 [==============================] - 5s 8ms/step - loss: 0.0017 - accuracy: 0.9994 - val_loss: 1.3040 - val_accuracy: 0.8814\n",
            "Epoch 196/300\n",
            "620/625 [============================>.] - ETA: 0s - loss: 0.0023 - accuracy: 0.9995\n",
            "Epoch 196: saving model to training_1/cp.ckpt\n",
            "INFO:tensorflow:Assets written to: training_1/cp.ckpt/assets\n"
          ]
        },
        {
          "name": "stderr",
          "output_type": "stream",
          "text": [
            "INFO:tensorflow:Assets written to: training_1/cp.ckpt/assets\n"
          ]
        },
        {
          "name": "stdout",
          "output_type": "stream",
          "text": [
            "\b\b\b\b\b\b\b\b\b\b\b\b\b\b\b\b\b\b\b\b\b\b\b\b\b\b\b\b\b\b\b\b\b\b\b\b\b\b\b\b\b\b\b\b\b\b\b\b\b\b\b\b\b\b\b\b\b\b\b\b\b\b\b\b\b\b\b\b\b\b\b\b\b\b\b\b\b\b\b\b\b\b\b\b\r625/625 [==============================] - 5s 8ms/step - loss: 0.0023 - accuracy: 0.9995 - val_loss: 1.2343 - val_accuracy: 0.8868\n",
            "Epoch 197/300\n",
            "617/625 [============================>.] - ETA: 0s - loss: 0.0023 - accuracy: 0.9992\n",
            "Epoch 197: saving model to training_1/cp.ckpt\n",
            "INFO:tensorflow:Assets written to: training_1/cp.ckpt/assets\n"
          ]
        },
        {
          "name": "stderr",
          "output_type": "stream",
          "text": [
            "INFO:tensorflow:Assets written to: training_1/cp.ckpt/assets\n"
          ]
        },
        {
          "name": "stdout",
          "output_type": "stream",
          "text": [
            "\b\b\b\b\b\b\b\b\b\b\b\b\b\b\b\b\b\b\b\b\b\b\b\b\b\b\b\b\b\b\b\b\b\b\b\b\b\b\b\b\b\b\b\b\b\b\b\b\b\b\b\b\b\b\b\b\b\b\b\b\b\b\b\b\b\b\b\b\b\b\b\b\b\b\b\b\b\b\b\b\b\b\b\b\r625/625 [==============================] - 5s 9ms/step - loss: 0.0023 - accuracy: 0.9992 - val_loss: 1.2826 - val_accuracy: 0.8862\n",
            "Epoch 198/300\n",
            "620/625 [============================>.] - ETA: 0s - loss: 0.0019 - accuracy: 0.9994\n",
            "Epoch 198: saving model to training_1/cp.ckpt\n",
            "INFO:tensorflow:Assets written to: training_1/cp.ckpt/assets\n"
          ]
        },
        {
          "name": "stderr",
          "output_type": "stream",
          "text": [
            "INFO:tensorflow:Assets written to: training_1/cp.ckpt/assets\n"
          ]
        },
        {
          "name": "stdout",
          "output_type": "stream",
          "text": [
            "\b\b\b\b\b\b\b\b\b\b\b\b\b\b\b\b\b\b\b\b\b\b\b\b\b\b\b\b\b\b\b\b\b\b\b\b\b\b\b\b\b\b\b\b\b\b\b\b\b\b\b\b\b\b\b\b\b\b\b\b\b\b\b\b\b\b\b\b\b\b\b\b\b\b\b\b\b\b\b\b\b\b\b\b\r625/625 [==============================] - 6s 9ms/step - loss: 0.0019 - accuracy: 0.9995 - val_loss: 1.1637 - val_accuracy: 0.8860\n",
            "Epoch 199/300\n",
            "625/625 [==============================] - ETA: 0s - loss: 0.0020 - accuracy: 0.9992\n",
            "Epoch 199: saving model to training_1/cp.ckpt\n",
            "INFO:tensorflow:Assets written to: training_1/cp.ckpt/assets\n"
          ]
        },
        {
          "name": "stderr",
          "output_type": "stream",
          "text": [
            "INFO:tensorflow:Assets written to: training_1/cp.ckpt/assets\n"
          ]
        },
        {
          "name": "stdout",
          "output_type": "stream",
          "text": [
            "\b\b\b\b\b\b\b\b\b\b\b\b\b\b\b\b\b\b\b\b\b\b\b\b\b\b\b\b\b\b\b\b\b\b\b\b\b\b\b\b\b\b\b\b\b\b\b\b\b\b\b\b\b\b\b\b\b\b\b\b\b\b\b\b\b\b\b\b\b\b\b\b\b\b\b\b\b\b\b\b\b\b\b\b\r625/625 [==============================] - 5s 8ms/step - loss: 0.0020 - accuracy: 0.9992 - val_loss: 1.3470 - val_accuracy: 0.8824\n",
            "Epoch 200/300\n",
            "622/625 [============================>.] - ETA: 0s - loss: 9.7308e-04 - accuracy: 0.9997\n",
            "Epoch 200: saving model to training_1/cp.ckpt\n",
            "INFO:tensorflow:Assets written to: training_1/cp.ckpt/assets\n"
          ]
        },
        {
          "name": "stderr",
          "output_type": "stream",
          "text": [
            "INFO:tensorflow:Assets written to: training_1/cp.ckpt/assets\n"
          ]
        },
        {
          "name": "stdout",
          "output_type": "stream",
          "text": [
            "\b\b\b\b\b\b\b\b\b\b\b\b\b\b\b\b\b\b\b\b\b\b\b\b\b\b\b\b\b\b\b\b\b\b\b\b\b\b\b\b\b\b\b\b\b\b\b\b\b\b\b\b\b\b\b\b\b\b\b\b\b\b\b\b\b\b\b\b\b\b\b\b\b\b\b\b\b\b\b\b\b\b\b\b\b\b\b\b\r625/625 [==============================] - 5s 9ms/step - loss: 0.0010 - accuracy: 0.9997 - val_loss: 1.4365 - val_accuracy: 0.8866\n",
            "Epoch 201/300\n",
            "625/625 [==============================] - ETA: 0s - loss: 0.0023 - accuracy: 0.9992\n",
            "Epoch 201: saving model to training_1/cp.ckpt\n",
            "INFO:tensorflow:Assets written to: training_1/cp.ckpt/assets\n"
          ]
        },
        {
          "name": "stderr",
          "output_type": "stream",
          "text": [
            "INFO:tensorflow:Assets written to: training_1/cp.ckpt/assets\n"
          ]
        },
        {
          "name": "stdout",
          "output_type": "stream",
          "text": [
            "\b\b\b\b\b\b\b\b\b\b\b\b\b\b\b\b\b\b\b\b\b\b\b\b\b\b\b\b\b\b\b\b\b\b\b\b\b\b\b\b\b\b\b\b\b\b\b\b\b\b\b\b\b\b\b\b\b\b\b\b\b\b\b\b\b\b\b\b\b\b\b\b\b\b\b\b\b\b\b\b\b\b\b\b\r625/625 [==============================] - 5s 8ms/step - loss: 0.0023 - accuracy: 0.9992 - val_loss: 1.3058 - val_accuracy: 0.8856\n",
            "Epoch 202/300\n",
            "620/625 [============================>.] - ETA: 0s - loss: 0.0014 - accuracy: 0.9996\n",
            "Epoch 202: saving model to training_1/cp.ckpt\n",
            "INFO:tensorflow:Assets written to: training_1/cp.ckpt/assets\n"
          ]
        },
        {
          "name": "stderr",
          "output_type": "stream",
          "text": [
            "INFO:tensorflow:Assets written to: training_1/cp.ckpt/assets\n"
          ]
        },
        {
          "name": "stdout",
          "output_type": "stream",
          "text": [
            "\b\b\b\b\b\b\b\b\b\b\b\b\b\b\b\b\b\b\b\b\b\b\b\b\b\b\b\b\b\b\b\b\b\b\b\b\b\b\b\b\b\b\b\b\b\b\b\b\b\b\b\b\b\b\b\b\b\b\b\b\b\b\b\b\b\b\b\b\b\b\b\b\b\b\b\b\b\b\b\b\b\b\b\b\r625/625 [==============================] - 5s 8ms/step - loss: 0.0014 - accuracy: 0.9996 - val_loss: 1.3111 - val_accuracy: 0.8828\n",
            "Epoch 203/300\n",
            "623/625 [============================>.] - ETA: 0s - loss: 0.0019 - accuracy: 0.9993\n",
            "Epoch 203: saving model to training_1/cp.ckpt\n",
            "INFO:tensorflow:Assets written to: training_1/cp.ckpt/assets\n"
          ]
        },
        {
          "name": "stderr",
          "output_type": "stream",
          "text": [
            "INFO:tensorflow:Assets written to: training_1/cp.ckpt/assets\n"
          ]
        },
        {
          "name": "stdout",
          "output_type": "stream",
          "text": [
            "\b\b\b\b\b\b\b\b\b\b\b\b\b\b\b\b\b\b\b\b\b\b\b\b\b\b\b\b\b\b\b\b\b\b\b\b\b\b\b\b\b\b\b\b\b\b\b\b\b\b\b\b\b\b\b\b\b\b\b\b\b\b\b\b\b\b\b\b\b\b\b\b\b\b\b\b\b\b\b\b\b\b\b\b\r625/625 [==============================] - 5s 8ms/step - loss: 0.0018 - accuracy: 0.9994 - val_loss: 1.4244 - val_accuracy: 0.8788\n",
            "Epoch 204/300\n",
            "619/625 [============================>.] - ETA: 0s - loss: 8.5279e-04 - accuracy: 0.9997\n",
            "Epoch 204: saving model to training_1/cp.ckpt\n",
            "INFO:tensorflow:Assets written to: training_1/cp.ckpt/assets\n"
          ]
        },
        {
          "name": "stderr",
          "output_type": "stream",
          "text": [
            "INFO:tensorflow:Assets written to: training_1/cp.ckpt/assets\n"
          ]
        },
        {
          "name": "stdout",
          "output_type": "stream",
          "text": [
            "\b\b\b\b\b\b\b\b\b\b\b\b\b\b\b\b\b\b\b\b\b\b\b\b\b\b\b\b\b\b\b\b\b\b\b\b\b\b\b\b\b\b\b\b\b\b\b\b\b\b\b\b\b\b\b\b\b\b\b\b\b\b\b\b\b\b\b\b\b\b\b\b\b\b\b\b\b\b\b\b\b\b\b\b\b\b\b\b\r625/625 [==============================] - 5s 8ms/step - loss: 8.4461e-04 - accuracy: 0.9998 - val_loss: 1.5304 - val_accuracy: 0.8902\n",
            "Epoch 205/300\n",
            "623/625 [============================>.] - ETA: 0s - loss: 0.0023 - accuracy: 0.9991\n",
            "Epoch 205: saving model to training_1/cp.ckpt\n",
            "INFO:tensorflow:Assets written to: training_1/cp.ckpt/assets\n"
          ]
        },
        {
          "name": "stderr",
          "output_type": "stream",
          "text": [
            "INFO:tensorflow:Assets written to: training_1/cp.ckpt/assets\n"
          ]
        },
        {
          "name": "stdout",
          "output_type": "stream",
          "text": [
            "\b\b\b\b\b\b\b\b\b\b\b\b\b\b\b\b\b\b\b\b\b\b\b\b\b\b\b\b\b\b\b\b\b\b\b\b\b\b\b\b\b\b\b\b\b\b\b\b\b\b\b\b\b\b\b\b\b\b\b\b\b\b\b\b\b\b\b\b\b\b\b\b\b\b\b\b\b\b\b\b\b\b\b\b\r625/625 [==============================] - 5s 8ms/step - loss: 0.0023 - accuracy: 0.9991 - val_loss: 1.6216 - val_accuracy: 0.8874\n",
            "Epoch 206/300\n",
            "617/625 [============================>.] - ETA: 0s - loss: 0.0019 - accuracy: 0.9994\n",
            "Epoch 206: saving model to training_1/cp.ckpt\n",
            "INFO:tensorflow:Assets written to: training_1/cp.ckpt/assets\n"
          ]
        },
        {
          "name": "stderr",
          "output_type": "stream",
          "text": [
            "INFO:tensorflow:Assets written to: training_1/cp.ckpt/assets\n"
          ]
        },
        {
          "name": "stdout",
          "output_type": "stream",
          "text": [
            "\b\b\b\b\b\b\b\b\b\b\b\b\b\b\b\b\b\b\b\b\b\b\b\b\b\b\b\b\b\b\b\b\b\b\b\b\b\b\b\b\b\b\b\b\b\b\b\b\b\b\b\b\b\b\b\b\b\b\b\b\b\b\b\b\b\b\b\b\b\b\b\b\b\b\b\b\b\b\b\b\b\b\b\b\r625/625 [==============================] - 5s 9ms/step - loss: 0.0019 - accuracy: 0.9994 - val_loss: 1.4526 - val_accuracy: 0.8808\n",
            "Epoch 207/300\n",
            "625/625 [==============================] - ETA: 0s - loss: 0.0045 - accuracy: 0.9987\n",
            "Epoch 207: saving model to training_1/cp.ckpt\n",
            "INFO:tensorflow:Assets written to: training_1/cp.ckpt/assets\n"
          ]
        },
        {
          "name": "stderr",
          "output_type": "stream",
          "text": [
            "INFO:tensorflow:Assets written to: training_1/cp.ckpt/assets\n"
          ]
        },
        {
          "name": "stdout",
          "output_type": "stream",
          "text": [
            "\b\b\b\b\b\b\b\b\b\b\b\b\b\b\b\b\b\b\b\b\b\b\b\b\b\b\b\b\b\b\b\b\b\b\b\b\b\b\b\b\b\b\b\b\b\b\b\b\b\b\b\b\b\b\b\b\b\b\b\b\b\b\b\b\b\b\b\b\b\b\b\b\b\b\b\b\b\b\b\b\b\b\b\b\r625/625 [==============================] - 5s 9ms/step - loss: 0.0045 - accuracy: 0.9987 - val_loss: 1.3273 - val_accuracy: 0.8858\n",
            "Epoch 208/300\n",
            "623/625 [============================>.] - ETA: 0s - loss: 0.0011 - accuracy: 0.9995\n",
            "Epoch 208: saving model to training_1/cp.ckpt\n",
            "INFO:tensorflow:Assets written to: training_1/cp.ckpt/assets\n"
          ]
        },
        {
          "name": "stderr",
          "output_type": "stream",
          "text": [
            "INFO:tensorflow:Assets written to: training_1/cp.ckpt/assets\n"
          ]
        },
        {
          "name": "stdout",
          "output_type": "stream",
          "text": [
            "\b\b\b\b\b\b\b\b\b\b\b\b\b\b\b\b\b\b\b\b\b\b\b\b\b\b\b\b\b\b\b\b\b\b\b\b\b\b\b\b\b\b\b\b\b\b\b\b\b\b\b\b\b\b\b\b\b\b\b\b\b\b\b\b\b\b\b\b\b\b\b\b\b\b\b\b\b\b\b\b\b\b\b\b\r625/625 [==============================] - 5s 9ms/step - loss: 0.0011 - accuracy: 0.9995 - val_loss: 1.6201 - val_accuracy: 0.8868\n",
            "Epoch 209/300\n",
            "617/625 [============================>.] - ETA: 0s - loss: 0.0033 - accuracy: 0.9993\n",
            "Epoch 209: saving model to training_1/cp.ckpt\n",
            "INFO:tensorflow:Assets written to: training_1/cp.ckpt/assets\n"
          ]
        },
        {
          "name": "stderr",
          "output_type": "stream",
          "text": [
            "INFO:tensorflow:Assets written to: training_1/cp.ckpt/assets\n"
          ]
        },
        {
          "name": "stdout",
          "output_type": "stream",
          "text": [
            "\b\b\b\b\b\b\b\b\b\b\b\b\b\b\b\b\b\b\b\b\b\b\b\b\b\b\b\b\b\b\b\b\b\b\b\b\b\b\b\b\b\b\b\b\b\b\b\b\b\b\b\b\b\b\b\b\b\b\b\b\b\b\b\b\b\b\b\b\b\b\b\b\b\b\b\b\b\b\b\b\b\b\b\b\r625/625 [==============================] - 5s 9ms/step - loss: 0.0033 - accuracy: 0.9993 - val_loss: 1.1998 - val_accuracy: 0.8892\n",
            "Epoch 210/300\n",
            "624/625 [============================>.] - ETA: 0s - loss: 0.0018 - accuracy: 0.9993\n",
            "Epoch 210: saving model to training_1/cp.ckpt\n",
            "INFO:tensorflow:Assets written to: training_1/cp.ckpt/assets\n"
          ]
        },
        {
          "name": "stderr",
          "output_type": "stream",
          "text": [
            "INFO:tensorflow:Assets written to: training_1/cp.ckpt/assets\n"
          ]
        },
        {
          "name": "stdout",
          "output_type": "stream",
          "text": [
            "\b\b\b\b\b\b\b\b\b\b\b\b\b\b\b\b\b\b\b\b\b\b\b\b\b\b\b\b\b\b\b\b\b\b\b\b\b\b\b\b\b\b\b\b\b\b\b\b\b\b\b\b\b\b\b\b\b\b\b\b\b\b\b\b\b\b\b\b\b\b\b\b\b\b\b\b\b\b\b\b\b\b\b\b\r625/625 [==============================] - 5s 8ms/step - loss: 0.0019 - accuracy: 0.9993 - val_loss: 1.1658 - val_accuracy: 0.8870\n",
            "Epoch 211/300\n",
            "618/625 [============================>.] - ETA: 0s - loss: 0.0019 - accuracy: 0.9994\n",
            "Epoch 211: saving model to training_1/cp.ckpt\n",
            "INFO:tensorflow:Assets written to: training_1/cp.ckpt/assets\n"
          ]
        },
        {
          "name": "stderr",
          "output_type": "stream",
          "text": [
            "INFO:tensorflow:Assets written to: training_1/cp.ckpt/assets\n"
          ]
        },
        {
          "name": "stdout",
          "output_type": "stream",
          "text": [
            "\b\b\b\b\b\b\b\b\b\b\b\b\b\b\b\b\b\b\b\b\b\b\b\b\b\b\b\b\b\b\b\b\b\b\b\b\b\b\b\b\b\b\b\b\b\b\b\b\b\b\b\b\b\b\b\b\b\b\b\b\b\b\b\b\b\b\b\b\b\b\b\b\b\b\b\b\b\b\b\b\b\b\b\b\r625/625 [==============================] - 6s 10ms/step - loss: 0.0019 - accuracy: 0.9995 - val_loss: 1.1750 - val_accuracy: 0.8906\n",
            "Epoch 212/300\n",
            "620/625 [============================>.] - ETA: 0s - loss: 0.0014 - accuracy: 0.9994\n",
            "Epoch 212: saving model to training_1/cp.ckpt\n",
            "INFO:tensorflow:Assets written to: training_1/cp.ckpt/assets\n"
          ]
        },
        {
          "name": "stderr",
          "output_type": "stream",
          "text": [
            "INFO:tensorflow:Assets written to: training_1/cp.ckpt/assets\n"
          ]
        },
        {
          "name": "stdout",
          "output_type": "stream",
          "text": [
            "\b\b\b\b\b\b\b\b\b\b\b\b\b\b\b\b\b\b\b\b\b\b\b\b\b\b\b\b\b\b\b\b\b\b\b\b\b\b\b\b\b\b\b\b\b\b\b\b\b\b\b\b\b\b\b\b\b\b\b\b\b\b\b\b\b\b\b\b\b\b\b\b\b\b\b\b\b\b\b\b\b\b\b\b\r625/625 [==============================] - 5s 8ms/step - loss: 0.0014 - accuracy: 0.9995 - val_loss: 1.3246 - val_accuracy: 0.8896\n",
            "Epoch 213/300\n",
            "621/625 [============================>.] - ETA: 0s - loss: 0.0022 - accuracy: 0.9994\n",
            "Epoch 213: saving model to training_1/cp.ckpt\n",
            "INFO:tensorflow:Assets written to: training_1/cp.ckpt/assets\n"
          ]
        },
        {
          "name": "stderr",
          "output_type": "stream",
          "text": [
            "INFO:tensorflow:Assets written to: training_1/cp.ckpt/assets\n"
          ]
        },
        {
          "name": "stdout",
          "output_type": "stream",
          "text": [
            "\b\b\b\b\b\b\b\b\b\b\b\b\b\b\b\b\b\b\b\b\b\b\b\b\b\b\b\b\b\b\b\b\b\b\b\b\b\b\b\b\b\b\b\b\b\b\b\b\b\b\b\b\b\b\b\b\b\b\b\b\b\b\b\b\b\b\b\b\b\b\b\b\b\b\b\b\b\b\b\b\b\b\b\b\r625/625 [==============================] - 5s 8ms/step - loss: 0.0021 - accuracy: 0.9994 - val_loss: 1.2944 - val_accuracy: 0.8882\n",
            "Epoch 214/300\n",
            "618/625 [============================>.] - ETA: 0s - loss: 0.0015 - accuracy: 0.9995\n",
            "Epoch 214: saving model to training_1/cp.ckpt\n",
            "INFO:tensorflow:Assets written to: training_1/cp.ckpt/assets\n"
          ]
        },
        {
          "name": "stderr",
          "output_type": "stream",
          "text": [
            "INFO:tensorflow:Assets written to: training_1/cp.ckpt/assets\n"
          ]
        },
        {
          "name": "stdout",
          "output_type": "stream",
          "text": [
            "\b\b\b\b\b\b\b\b\b\b\b\b\b\b\b\b\b\b\b\b\b\b\b\b\b\b\b\b\b\b\b\b\b\b\b\b\b\b\b\b\b\b\b\b\b\b\b\b\b\b\b\b\b\b\b\b\b\b\b\b\b\b\b\b\b\b\b\b\b\b\b\b\b\b\b\b\b\b\b\b\b\b\b\b\r625/625 [==============================] - 5s 9ms/step - loss: 0.0015 - accuracy: 0.9995 - val_loss: 1.3369 - val_accuracy: 0.8914\n",
            "Epoch 215/300\n",
            "620/625 [============================>.] - ETA: 0s - loss: 0.0029 - accuracy: 0.9990\n",
            "Epoch 215: saving model to training_1/cp.ckpt\n",
            "INFO:tensorflow:Assets written to: training_1/cp.ckpt/assets\n"
          ]
        },
        {
          "name": "stderr",
          "output_type": "stream",
          "text": [
            "INFO:tensorflow:Assets written to: training_1/cp.ckpt/assets\n"
          ]
        },
        {
          "name": "stdout",
          "output_type": "stream",
          "text": [
            "\b\b\b\b\b\b\b\b\b\b\b\b\b\b\b\b\b\b\b\b\b\b\b\b\b\b\b\b\b\b\b\b\b\b\b\b\b\b\b\b\b\b\b\b\b\b\b\b\b\b\b\b\b\b\b\b\b\b\b\b\b\b\b\b\b\b\b\b\b\b\b\b\b\b\b\b\b\b\b\b\b\b\b\b\r625/625 [==============================] - 5s 9ms/step - loss: 0.0029 - accuracy: 0.9991 - val_loss: 1.1882 - val_accuracy: 0.8880\n",
            "Epoch 216/300\n",
            "621/625 [============================>.] - ETA: 0s - loss: 0.0019 - accuracy: 0.9994\n",
            "Epoch 216: saving model to training_1/cp.ckpt\n",
            "INFO:tensorflow:Assets written to: training_1/cp.ckpt/assets\n"
          ]
        },
        {
          "name": "stderr",
          "output_type": "stream",
          "text": [
            "INFO:tensorflow:Assets written to: training_1/cp.ckpt/assets\n"
          ]
        },
        {
          "name": "stdout",
          "output_type": "stream",
          "text": [
            "\b\b\b\b\b\b\b\b\b\b\b\b\b\b\b\b\b\b\b\b\b\b\b\b\b\b\b\b\b\b\b\b\b\b\b\b\b\b\b\b\b\b\b\b\b\b\b\b\b\b\b\b\b\b\b\b\b\b\b\b\b\b\b\b\b\b\b\b\b\b\b\b\b\b\b\b\b\b\b\b\b\b\b\b\r625/625 [==============================] - 5s 8ms/step - loss: 0.0018 - accuracy: 0.9994 - val_loss: 1.4417 - val_accuracy: 0.8956\n",
            "Epoch 217/300\n",
            "622/625 [============================>.] - ETA: 0s - loss: 0.0027 - accuracy: 0.9991\n",
            "Epoch 217: saving model to training_1/cp.ckpt\n",
            "INFO:tensorflow:Assets written to: training_1/cp.ckpt/assets\n"
          ]
        },
        {
          "name": "stderr",
          "output_type": "stream",
          "text": [
            "INFO:tensorflow:Assets written to: training_1/cp.ckpt/assets\n"
          ]
        },
        {
          "name": "stdout",
          "output_type": "stream",
          "text": [
            "\b\b\b\b\b\b\b\b\b\b\b\b\b\b\b\b\b\b\b\b\b\b\b\b\b\b\b\b\b\b\b\b\b\b\b\b\b\b\b\b\b\b\b\b\b\b\b\b\b\b\b\b\b\b\b\b\b\b\b\b\b\b\b\b\b\b\b\b\b\b\b\b\b\b\b\b\b\b\b\b\b\b\b\b\r625/625 [==============================] - 5s 8ms/step - loss: 0.0027 - accuracy: 0.9991 - val_loss: 1.2608 - val_accuracy: 0.8908\n",
            "Epoch 218/300\n",
            "617/625 [============================>.] - ETA: 0s - loss: 9.5620e-04 - accuracy: 0.9996\n",
            "Epoch 218: saving model to training_1/cp.ckpt\n",
            "INFO:tensorflow:Assets written to: training_1/cp.ckpt/assets\n"
          ]
        },
        {
          "name": "stderr",
          "output_type": "stream",
          "text": [
            "INFO:tensorflow:Assets written to: training_1/cp.ckpt/assets\n"
          ]
        },
        {
          "name": "stdout",
          "output_type": "stream",
          "text": [
            "\b\b\b\b\b\b\b\b\b\b\b\b\b\b\b\b\b\b\b\b\b\b\b\b\b\b\b\b\b\b\b\b\b\b\b\b\b\b\b\b\b\b\b\b\b\b\b\b\b\b\b\b\b\b\b\b\b\b\b\b\b\b\b\b\b\b\b\b\b\b\b\b\b\b\b\b\b\b\b\b\b\b\b\b\b\b\b\b\r625/625 [==============================] - 5s 8ms/step - loss: 9.4430e-04 - accuracy: 0.9996 - val_loss: 1.3519 - val_accuracy: 0.8830\n",
            "Epoch 219/300\n",
            "625/625 [==============================] - ETA: 0s - loss: 0.0016 - accuracy: 0.9994\n",
            "Epoch 219: saving model to training_1/cp.ckpt\n",
            "INFO:tensorflow:Assets written to: training_1/cp.ckpt/assets\n"
          ]
        },
        {
          "name": "stderr",
          "output_type": "stream",
          "text": [
            "INFO:tensorflow:Assets written to: training_1/cp.ckpt/assets\n"
          ]
        },
        {
          "name": "stdout",
          "output_type": "stream",
          "text": [
            "\b\b\b\b\b\b\b\b\b\b\b\b\b\b\b\b\b\b\b\b\b\b\b\b\b\b\b\b\b\b\b\b\b\b\b\b\b\b\b\b\b\b\b\b\b\b\b\b\b\b\b\b\b\b\b\b\b\b\b\b\b\b\b\b\b\b\b\b\b\b\b\b\b\b\b\b\b\b\b\b\b\b\b\b\r625/625 [==============================] - 5s 9ms/step - loss: 0.0016 - accuracy: 0.9994 - val_loss: 1.3315 - val_accuracy: 0.8886\n",
            "Epoch 220/300\n",
            "624/625 [============================>.] - ETA: 0s - loss: 0.0027 - accuracy: 0.9991\n",
            "Epoch 220: saving model to training_1/cp.ckpt\n",
            "INFO:tensorflow:Assets written to: training_1/cp.ckpt/assets\n"
          ]
        },
        {
          "name": "stderr",
          "output_type": "stream",
          "text": [
            "INFO:tensorflow:Assets written to: training_1/cp.ckpt/assets\n"
          ]
        },
        {
          "name": "stdout",
          "output_type": "stream",
          "text": [
            "\b\b\b\b\b\b\b\b\b\b\b\b\b\b\b\b\b\b\b\b\b\b\b\b\b\b\b\b\b\b\b\b\b\b\b\b\b\b\b\b\b\b\b\b\b\b\b\b\b\b\b\b\b\b\b\b\b\b\b\b\b\b\b\b\b\b\b\b\b\b\b\b\b\b\b\b\b\b\b\b\b\b\b\b\r625/625 [==============================] - 5s 8ms/step - loss: 0.0027 - accuracy: 0.9991 - val_loss: 1.2790 - val_accuracy: 0.8790\n",
            "Epoch 221/300\n",
            "621/625 [============================>.] - ETA: 0s - loss: 0.0025 - accuracy: 0.9992\n",
            "Epoch 221: saving model to training_1/cp.ckpt\n",
            "INFO:tensorflow:Assets written to: training_1/cp.ckpt/assets\n"
          ]
        },
        {
          "name": "stderr",
          "output_type": "stream",
          "text": [
            "INFO:tensorflow:Assets written to: training_1/cp.ckpt/assets\n"
          ]
        },
        {
          "name": "stdout",
          "output_type": "stream",
          "text": [
            "\b\b\b\b\b\b\b\b\b\b\b\b\b\b\b\b\b\b\b\b\b\b\b\b\b\b\b\b\b\b\b\b\b\b\b\b\b\b\b\b\b\b\b\b\b\b\b\b\b\b\b\b\b\b\b\b\b\b\b\b\b\b\b\b\b\b\b\b\b\b\b\b\b\b\b\b\b\b\b\b\b\b\b\b\r625/625 [==============================] - 5s 8ms/step - loss: 0.0025 - accuracy: 0.9992 - val_loss: 1.2524 - val_accuracy: 0.8912\n",
            "Epoch 222/300\n",
            "620/625 [============================>.] - ETA: 0s - loss: 0.0028 - accuracy: 0.9992\n",
            "Epoch 222: saving model to training_1/cp.ckpt\n",
            "INFO:tensorflow:Assets written to: training_1/cp.ckpt/assets\n"
          ]
        },
        {
          "name": "stderr",
          "output_type": "stream",
          "text": [
            "INFO:tensorflow:Assets written to: training_1/cp.ckpt/assets\n"
          ]
        },
        {
          "name": "stdout",
          "output_type": "stream",
          "text": [
            "\b\b\b\b\b\b\b\b\b\b\b\b\b\b\b\b\b\b\b\b\b\b\b\b\b\b\b\b\b\b\b\b\b\b\b\b\b\b\b\b\b\b\b\b\b\b\b\b\b\b\b\b\b\b\b\b\b\b\b\b\b\b\b\b\b\b\b\b\b\b\b\b\b\b\b\b\b\b\b\b\b\b\b\b\r625/625 [==============================] - 5s 8ms/step - loss: 0.0028 - accuracy: 0.9991 - val_loss: 1.2798 - val_accuracy: 0.8860\n",
            "Epoch 223/300\n",
            "619/625 [============================>.] - ETA: 0s - loss: 7.0868e-04 - accuracy: 0.9997\n",
            "Epoch 223: saving model to training_1/cp.ckpt\n",
            "INFO:tensorflow:Assets written to: training_1/cp.ckpt/assets\n"
          ]
        },
        {
          "name": "stderr",
          "output_type": "stream",
          "text": [
            "INFO:tensorflow:Assets written to: training_1/cp.ckpt/assets\n"
          ]
        },
        {
          "name": "stdout",
          "output_type": "stream",
          "text": [
            "\b\b\b\b\b\b\b\b\b\b\b\b\b\b\b\b\b\b\b\b\b\b\b\b\b\b\b\b\b\b\b\b\b\b\b\b\b\b\b\b\b\b\b\b\b\b\b\b\b\b\b\b\b\b\b\b\b\b\b\b\b\b\b\b\b\b\b\b\b\b\b\b\b\b\b\b\b\b\b\b\b\b\b\b\b\b\b\b\r625/625 [==============================] - 5s 8ms/step - loss: 8.3401e-04 - accuracy: 0.9997 - val_loss: 1.6042 - val_accuracy: 0.8790\n",
            "Epoch 224/300\n",
            "625/625 [==============================] - ETA: 0s - loss: 0.0043 - accuracy: 0.9989\n",
            "Epoch 224: saving model to training_1/cp.ckpt\n",
            "INFO:tensorflow:Assets written to: training_1/cp.ckpt/assets\n"
          ]
        },
        {
          "name": "stderr",
          "output_type": "stream",
          "text": [
            "INFO:tensorflow:Assets written to: training_1/cp.ckpt/assets\n"
          ]
        },
        {
          "name": "stdout",
          "output_type": "stream",
          "text": [
            "\b\b\b\b\b\b\b\b\b\b\b\b\b\b\b\b\b\b\b\b\b\b\b\b\b\b\b\b\b\b\b\b\b\b\b\b\b\b\b\b\b\b\b\b\b\b\b\b\b\b\b\b\b\b\b\b\b\b\b\b\b\b\b\b\b\b\b\b\b\b\b\b\b\b\b\b\b\b\b\b\b\b\b\b\r625/625 [==============================] - 6s 10ms/step - loss: 0.0043 - accuracy: 0.9989 - val_loss: 1.2917 - val_accuracy: 0.8818\n",
            "Epoch 225/300\n",
            "622/625 [============================>.] - ETA: 0s - loss: 0.0013 - accuracy: 0.9995\n",
            "Epoch 225: saving model to training_1/cp.ckpt\n",
            "INFO:tensorflow:Assets written to: training_1/cp.ckpt/assets\n"
          ]
        },
        {
          "name": "stderr",
          "output_type": "stream",
          "text": [
            "INFO:tensorflow:Assets written to: training_1/cp.ckpt/assets\n"
          ]
        },
        {
          "name": "stdout",
          "output_type": "stream",
          "text": [
            "\b\b\b\b\b\b\b\b\b\b\b\b\b\b\b\b\b\b\b\b\b\b\b\b\b\b\b\b\b\b\b\b\b\b\b\b\b\b\b\b\b\b\b\b\b\b\b\b\b\b\b\b\b\b\b\b\b\b\b\b\b\b\b\b\b\b\b\b\b\b\b\b\b\b\b\b\b\b\b\b\b\b\b\b\r625/625 [==============================] - 5s 9ms/step - loss: 0.0013 - accuracy: 0.9995 - val_loss: 1.2055 - val_accuracy: 0.8872\n",
            "Epoch 226/300\n",
            "623/625 [============================>.] - ETA: 0s - loss: 0.0021 - accuracy: 0.9995\n",
            "Epoch 226: saving model to training_1/cp.ckpt\n",
            "INFO:tensorflow:Assets written to: training_1/cp.ckpt/assets\n"
          ]
        },
        {
          "name": "stderr",
          "output_type": "stream",
          "text": [
            "INFO:tensorflow:Assets written to: training_1/cp.ckpt/assets\n"
          ]
        },
        {
          "name": "stdout",
          "output_type": "stream",
          "text": [
            "\b\b\b\b\b\b\b\b\b\b\b\b\b\b\b\b\b\b\b\b\b\b\b\b\b\b\b\b\b\b\b\b\b\b\b\b\b\b\b\b\b\b\b\b\b\b\b\b\b\b\b\b\b\b\b\b\b\b\b\b\b\b\b\b\b\b\b\b\b\b\b\b\b\b\b\b\b\b\b\b\b\b\b\b\r625/625 [==============================] - 5s 9ms/step - loss: 0.0021 - accuracy: 0.9995 - val_loss: 0.9907 - val_accuracy: 0.8884\n",
            "Epoch 227/300\n",
            "619/625 [============================>.] - ETA: 0s - loss: 5.3945e-04 - accuracy: 0.9999\n",
            "Epoch 227: saving model to training_1/cp.ckpt\n",
            "INFO:tensorflow:Assets written to: training_1/cp.ckpt/assets\n"
          ]
        },
        {
          "name": "stderr",
          "output_type": "stream",
          "text": [
            "INFO:tensorflow:Assets written to: training_1/cp.ckpt/assets\n"
          ]
        },
        {
          "name": "stdout",
          "output_type": "stream",
          "text": [
            "\b\b\b\b\b\b\b\b\b\b\b\b\b\b\b\b\b\b\b\b\b\b\b\b\b\b\b\b\b\b\b\b\b\b\b\b\b\b\b\b\b\b\b\b\b\b\b\b\b\b\b\b\b\b\b\b\b\b\b\b\b\b\b\b\b\b\b\b\b\b\b\b\b\b\b\b\b\b\b\b\b\b\b\b\b\b\b\b\r625/625 [==============================] - 5s 9ms/step - loss: 5.3443e-04 - accuracy: 0.9999 - val_loss: 1.2873 - val_accuracy: 0.8890\n",
            "Epoch 228/300\n",
            "620/625 [============================>.] - ETA: 0s - loss: 0.0029 - accuracy: 0.9992\n",
            "Epoch 228: saving model to training_1/cp.ckpt\n",
            "INFO:tensorflow:Assets written to: training_1/cp.ckpt/assets\n"
          ]
        },
        {
          "name": "stderr",
          "output_type": "stream",
          "text": [
            "INFO:tensorflow:Assets written to: training_1/cp.ckpt/assets\n"
          ]
        },
        {
          "name": "stdout",
          "output_type": "stream",
          "text": [
            "\b\b\b\b\b\b\b\b\b\b\b\b\b\b\b\b\b\b\b\b\b\b\b\b\b\b\b\b\b\b\b\b\b\b\b\b\b\b\b\b\b\b\b\b\b\b\b\b\b\b\b\b\b\b\b\b\b\b\b\b\b\b\b\b\b\b\b\b\b\b\b\b\b\b\b\b\b\b\b\b\b\b\b\b\r625/625 [==============================] - 5s 9ms/step - loss: 0.0028 - accuracy: 0.9992 - val_loss: 1.2163 - val_accuracy: 0.8872\n",
            "Epoch 229/300\n",
            "621/625 [============================>.] - ETA: 0s - loss: 0.0017 - accuracy: 0.9995\n",
            "Epoch 229: saving model to training_1/cp.ckpt\n",
            "INFO:tensorflow:Assets written to: training_1/cp.ckpt/assets\n"
          ]
        },
        {
          "name": "stderr",
          "output_type": "stream",
          "text": [
            "INFO:tensorflow:Assets written to: training_1/cp.ckpt/assets\n"
          ]
        },
        {
          "name": "stdout",
          "output_type": "stream",
          "text": [
            "\b\b\b\b\b\b\b\b\b\b\b\b\b\b\b\b\b\b\b\b\b\b\b\b\b\b\b\b\b\b\b\b\b\b\b\b\b\b\b\b\b\b\b\b\b\b\b\b\b\b\b\b\b\b\b\b\b\b\b\b\b\b\b\b\b\b\b\b\b\b\b\b\b\b\b\b\b\b\b\b\b\b\b\b\r625/625 [==============================] - 5s 8ms/step - loss: 0.0017 - accuracy: 0.9995 - val_loss: 1.2287 - val_accuracy: 0.8876\n",
            "Epoch 230/300\n",
            "625/625 [==============================] - ETA: 0s - loss: 0.0023 - accuracy: 0.9994\n",
            "Epoch 230: saving model to training_1/cp.ckpt\n",
            "INFO:tensorflow:Assets written to: training_1/cp.ckpt/assets\n"
          ]
        },
        {
          "name": "stderr",
          "output_type": "stream",
          "text": [
            "INFO:tensorflow:Assets written to: training_1/cp.ckpt/assets\n"
          ]
        },
        {
          "name": "stdout",
          "output_type": "stream",
          "text": [
            "\b\b\b\b\b\b\b\b\b\b\b\b\b\b\b\b\b\b\b\b\b\b\b\b\b\b\b\b\b\b\b\b\b\b\b\b\b\b\b\b\b\b\b\b\b\b\b\b\b\b\b\b\b\b\b\b\b\b\b\b\b\b\b\b\b\b\b\b\b\b\b\b\b\b\b\b\b\b\b\b\b\b\b\b\r625/625 [==============================] - 5s 9ms/step - loss: 0.0023 - accuracy: 0.9994 - val_loss: 0.9999 - val_accuracy: 0.8872\n",
            "Epoch 231/300\n",
            "618/625 [============================>.] - ETA: 0s - loss: 0.0017 - accuracy: 0.9996\n",
            "Epoch 231: saving model to training_1/cp.ckpt\n",
            "INFO:tensorflow:Assets written to: training_1/cp.ckpt/assets\n"
          ]
        },
        {
          "name": "stderr",
          "output_type": "stream",
          "text": [
            "INFO:tensorflow:Assets written to: training_1/cp.ckpt/assets\n"
          ]
        },
        {
          "name": "stdout",
          "output_type": "stream",
          "text": [
            "\b\b\b\b\b\b\b\b\b\b\b\b\b\b\b\b\b\b\b\b\b\b\b\b\b\b\b\b\b\b\b\b\b\b\b\b\b\b\b\b\b\b\b\b\b\b\b\b\b\b\b\b\b\b\b\b\b\b\b\b\b\b\b\b\b\b\b\b\b\b\b\b\b\b\b\b\b\b\b\b\b\b\b\b\r625/625 [==============================] - 5s 9ms/step - loss: 0.0017 - accuracy: 0.9996 - val_loss: 1.0359 - val_accuracy: 0.8862\n",
            "Epoch 232/300\n",
            "625/625 [==============================] - ETA: 0s - loss: 3.1922e-04 - accuracy: 0.9999\n",
            "Epoch 232: saving model to training_1/cp.ckpt\n",
            "INFO:tensorflow:Assets written to: training_1/cp.ckpt/assets\n"
          ]
        },
        {
          "name": "stderr",
          "output_type": "stream",
          "text": [
            "INFO:tensorflow:Assets written to: training_1/cp.ckpt/assets\n"
          ]
        },
        {
          "name": "stdout",
          "output_type": "stream",
          "text": [
            "\b\b\b\b\b\b\b\b\b\b\b\b\b\b\b\b\b\b\b\b\b\b\b\b\b\b\b\b\b\b\b\b\b\b\b\b\b\b\b\b\b\b\b\b\b\b\b\b\b\b\b\b\b\b\b\b\b\b\b\b\b\b\b\b\b\b\b\b\b\b\b\b\b\b\b\b\b\b\b\b\b\b\b\b\b\b\b\b\r625/625 [==============================] - 5s 9ms/step - loss: 3.1922e-04 - accuracy: 0.9999 - val_loss: 1.3715 - val_accuracy: 0.8842\n",
            "Epoch 233/300\n",
            "620/625 [============================>.] - ETA: 0s - loss: 0.0034 - accuracy: 0.9990\n",
            "Epoch 233: saving model to training_1/cp.ckpt\n",
            "INFO:tensorflow:Assets written to: training_1/cp.ckpt/assets\n"
          ]
        },
        {
          "name": "stderr",
          "output_type": "stream",
          "text": [
            "INFO:tensorflow:Assets written to: training_1/cp.ckpt/assets\n"
          ]
        },
        {
          "name": "stdout",
          "output_type": "stream",
          "text": [
            "\b\b\b\b\b\b\b\b\b\b\b\b\b\b\b\b\b\b\b\b\b\b\b\b\b\b\b\b\b\b\b\b\b\b\b\b\b\b\b\b\b\b\b\b\b\b\b\b\b\b\b\b\b\b\b\b\b\b\b\b\b\b\b\b\b\b\b\b\b\b\b\b\b\b\b\b\b\b\b\b\b\b\b\b\r625/625 [==============================] - 5s 8ms/step - loss: 0.0033 - accuracy: 0.9990 - val_loss: 1.0870 - val_accuracy: 0.8792\n",
            "Epoch 234/300\n",
            "618/625 [============================>.] - ETA: 0s - loss: 1.2242e-04 - accuracy: 1.0000\n",
            "Epoch 234: saving model to training_1/cp.ckpt\n",
            "INFO:tensorflow:Assets written to: training_1/cp.ckpt/assets\n"
          ]
        },
        {
          "name": "stderr",
          "output_type": "stream",
          "text": [
            "INFO:tensorflow:Assets written to: training_1/cp.ckpt/assets\n"
          ]
        },
        {
          "name": "stdout",
          "output_type": "stream",
          "text": [
            "\b\b\b\b\b\b\b\b\b\b\b\b\b\b\b\b\b\b\b\b\b\b\b\b\b\b\b\b\b\b\b\b\b\b\b\b\b\b\b\b\b\b\b\b\b\b\b\b\b\b\b\b\b\b\b\b\b\b\b\b\b\b\b\b\b\b\b\b\b\b\b\b\b\b\b\b\b\b\b\b\b\b\b\b\b\b\b\b\r625/625 [==============================] - 5s 8ms/step - loss: 1.2110e-04 - accuracy: 1.0000 - val_loss: 1.4479 - val_accuracy: 0.8850\n",
            "Epoch 235/300\n",
            "619/625 [============================>.] - ETA: 0s - loss: 0.0046 - accuracy: 0.9988\n",
            "Epoch 235: saving model to training_1/cp.ckpt\n",
            "INFO:tensorflow:Assets written to: training_1/cp.ckpt/assets\n"
          ]
        },
        {
          "name": "stderr",
          "output_type": "stream",
          "text": [
            "INFO:tensorflow:Assets written to: training_1/cp.ckpt/assets\n"
          ]
        },
        {
          "name": "stdout",
          "output_type": "stream",
          "text": [
            "\b\b\b\b\b\b\b\b\b\b\b\b\b\b\b\b\b\b\b\b\b\b\b\b\b\b\b\b\b\b\b\b\b\b\b\b\b\b\b\b\b\b\b\b\b\b\b\b\b\b\b\b\b\b\b\b\b\b\b\b\b\b\b\b\b\b\b\b\b\b\b\b\b\b\b\b\b\b\b\b\b\b\b\b\r625/625 [==============================] - 5s 8ms/step - loss: 0.0045 - accuracy: 0.9988 - val_loss: 1.1679 - val_accuracy: 0.8866\n",
            "Epoch 236/300\n",
            "622/625 [============================>.] - ETA: 0s - loss: 0.0014 - accuracy: 0.9996\n",
            "Epoch 236: saving model to training_1/cp.ckpt\n",
            "INFO:tensorflow:Assets written to: training_1/cp.ckpt/assets\n"
          ]
        },
        {
          "name": "stderr",
          "output_type": "stream",
          "text": [
            "INFO:tensorflow:Assets written to: training_1/cp.ckpt/assets\n"
          ]
        },
        {
          "name": "stdout",
          "output_type": "stream",
          "text": [
            "\b\b\b\b\b\b\b\b\b\b\b\b\b\b\b\b\b\b\b\b\b\b\b\b\b\b\b\b\b\b\b\b\b\b\b\b\b\b\b\b\b\b\b\b\b\b\b\b\b\b\b\b\b\b\b\b\b\b\b\b\b\b\b\b\b\b\b\b\b\b\b\b\b\b\b\b\b\b\b\b\b\b\b\b\r625/625 [==============================] - 5s 8ms/step - loss: 0.0014 - accuracy: 0.9996 - val_loss: 1.2897 - val_accuracy: 0.8704\n",
            "Epoch 237/300\n",
            "620/625 [============================>.] - ETA: 0s - loss: 0.0016 - accuracy: 0.9994\n",
            "Epoch 237: saving model to training_1/cp.ckpt\n",
            "INFO:tensorflow:Assets written to: training_1/cp.ckpt/assets\n"
          ]
        },
        {
          "name": "stderr",
          "output_type": "stream",
          "text": [
            "INFO:tensorflow:Assets written to: training_1/cp.ckpt/assets\n"
          ]
        },
        {
          "name": "stdout",
          "output_type": "stream",
          "text": [
            "\b\b\b\b\b\b\b\b\b\b\b\b\b\b\b\b\b\b\b\b\b\b\b\b\b\b\b\b\b\b\b\b\b\b\b\b\b\b\b\b\b\b\b\b\b\b\b\b\b\b\b\b\b\b\b\b\b\b\b\b\b\b\b\b\b\b\b\b\b\b\b\b\b\b\b\b\b\b\b\b\b\b\b\b\r625/625 [==============================] - 6s 10ms/step - loss: 0.0016 - accuracy: 0.9995 - val_loss: 1.1974 - val_accuracy: 0.8856\n",
            "Epoch 238/300\n",
            "618/625 [============================>.] - ETA: 0s - loss: 0.0015 - accuracy: 0.9994\n",
            "Epoch 238: saving model to training_1/cp.ckpt\n",
            "INFO:tensorflow:Assets written to: training_1/cp.ckpt/assets\n"
          ]
        },
        {
          "name": "stderr",
          "output_type": "stream",
          "text": [
            "INFO:tensorflow:Assets written to: training_1/cp.ckpt/assets\n"
          ]
        },
        {
          "name": "stdout",
          "output_type": "stream",
          "text": [
            "\b\b\b\b\b\b\b\b\b\b\b\b\b\b\b\b\b\b\b\b\b\b\b\b\b\b\b\b\b\b\b\b\b\b\b\b\b\b\b\b\b\b\b\b\b\b\b\b\b\b\b\b\b\b\b\b\b\b\b\b\b\b\b\b\b\b\b\b\b\b\b\b\b\b\b\b\b\b\b\b\b\b\b\b\r625/625 [==============================] - 6s 9ms/step - loss: 0.0015 - accuracy: 0.9994 - val_loss: 1.3068 - val_accuracy: 0.8842\n",
            "Epoch 239/300\n",
            "619/625 [============================>.] - ETA: 0s - loss: 0.0012 - accuracy: 0.9996\n",
            "Epoch 239: saving model to training_1/cp.ckpt\n",
            "INFO:tensorflow:Assets written to: training_1/cp.ckpt/assets\n"
          ]
        },
        {
          "name": "stderr",
          "output_type": "stream",
          "text": [
            "INFO:tensorflow:Assets written to: training_1/cp.ckpt/assets\n"
          ]
        },
        {
          "name": "stdout",
          "output_type": "stream",
          "text": [
            "\b\b\b\b\b\b\b\b\b\b\b\b\b\b\b\b\b\b\b\b\b\b\b\b\b\b\b\b\b\b\b\b\b\b\b\b\b\b\b\b\b\b\b\b\b\b\b\b\b\b\b\b\b\b\b\b\b\b\b\b\b\b\b\b\b\b\b\b\b\b\b\b\b\b\b\b\b\b\b\b\b\b\b\b\r625/625 [==============================] - 5s 8ms/step - loss: 0.0011 - accuracy: 0.9996 - val_loss: 1.4221 - val_accuracy: 0.8836\n",
            "Epoch 240/300\n",
            "618/625 [============================>.] - ETA: 0s - loss: 0.0021 - accuracy: 0.9992\n",
            "Epoch 240: saving model to training_1/cp.ckpt\n",
            "INFO:tensorflow:Assets written to: training_1/cp.ckpt/assets\n"
          ]
        },
        {
          "name": "stderr",
          "output_type": "stream",
          "text": [
            "INFO:tensorflow:Assets written to: training_1/cp.ckpt/assets\n"
          ]
        },
        {
          "name": "stdout",
          "output_type": "stream",
          "text": [
            "\b\b\b\b\b\b\b\b\b\b\b\b\b\b\b\b\b\b\b\b\b\b\b\b\b\b\b\b\b\b\b\b\b\b\b\b\b\b\b\b\b\b\b\b\b\b\b\b\b\b\b\b\b\b\b\b\b\b\b\b\b\b\b\b\b\b\b\b\b\b\b\b\b\b\b\b\b\b\b\b\b\b\b\b\r625/625 [==============================] - 5s 8ms/step - loss: 0.0021 - accuracy: 0.9992 - val_loss: 1.4426 - val_accuracy: 0.8868\n",
            "Epoch 241/300\n",
            "619/625 [============================>.] - ETA: 0s - loss: 0.0026 - accuracy: 0.9994\n",
            "Epoch 241: saving model to training_1/cp.ckpt\n",
            "INFO:tensorflow:Assets written to: training_1/cp.ckpt/assets\n"
          ]
        },
        {
          "name": "stderr",
          "output_type": "stream",
          "text": [
            "INFO:tensorflow:Assets written to: training_1/cp.ckpt/assets\n"
          ]
        },
        {
          "name": "stdout",
          "output_type": "stream",
          "text": [
            "\b\b\b\b\b\b\b\b\b\b\b\b\b\b\b\b\b\b\b\b\b\b\b\b\b\b\b\b\b\b\b\b\b\b\b\b\b\b\b\b\b\b\b\b\b\b\b\b\b\b\b\b\b\b\b\b\b\b\b\b\b\b\b\b\b\b\b\b\b\b\b\b\b\b\b\b\b\b\b\b\b\b\b\b\r625/625 [==============================] - 5s 9ms/step - loss: 0.0026 - accuracy: 0.9994 - val_loss: 1.3840 - val_accuracy: 0.8852\n",
            "Epoch 242/300\n",
            "622/625 [============================>.] - ETA: 0s - loss: 0.0017 - accuracy: 0.9994\n",
            "Epoch 242: saving model to training_1/cp.ckpt\n",
            "INFO:tensorflow:Assets written to: training_1/cp.ckpt/assets\n"
          ]
        },
        {
          "name": "stderr",
          "output_type": "stream",
          "text": [
            "INFO:tensorflow:Assets written to: training_1/cp.ckpt/assets\n"
          ]
        },
        {
          "name": "stdout",
          "output_type": "stream",
          "text": [
            "\b\b\b\b\b\b\b\b\b\b\b\b\b\b\b\b\b\b\b\b\b\b\b\b\b\b\b\b\b\b\b\b\b\b\b\b\b\b\b\b\b\b\b\b\b\b\b\b\b\b\b\b\b\b\b\b\b\b\b\b\b\b\b\b\b\b\b\b\b\b\b\b\b\b\b\b\b\b\b\b\b\b\b\b\r625/625 [==============================] - 5s 8ms/step - loss: 0.0017 - accuracy: 0.9995 - val_loss: 1.6516 - val_accuracy: 0.8740\n",
            "Epoch 243/300\n",
            "618/625 [============================>.] - ETA: 0s - loss: 7.7458e-04 - accuracy: 0.9997\n",
            "Epoch 243: saving model to training_1/cp.ckpt\n",
            "INFO:tensorflow:Assets written to: training_1/cp.ckpt/assets\n"
          ]
        },
        {
          "name": "stderr",
          "output_type": "stream",
          "text": [
            "INFO:tensorflow:Assets written to: training_1/cp.ckpt/assets\n"
          ]
        },
        {
          "name": "stdout",
          "output_type": "stream",
          "text": [
            "\b\b\b\b\b\b\b\b\b\b\b\b\b\b\b\b\b\b\b\b\b\b\b\b\b\b\b\b\b\b\b\b\b\b\b\b\b\b\b\b\b\b\b\b\b\b\b\b\b\b\b\b\b\b\b\b\b\b\b\b\b\b\b\b\b\b\b\b\b\b\b\b\b\b\b\b\b\b\b\b\b\b\b\b\b\b\b\b\r625/625 [==============================] - 6s 9ms/step - loss: 7.7289e-04 - accuracy: 0.9997 - val_loss: 1.5562 - val_accuracy: 0.8848\n",
            "Epoch 244/300\n",
            "621/625 [============================>.] - ETA: 0s - loss: 0.0023 - accuracy: 0.9992\n",
            "Epoch 244: saving model to training_1/cp.ckpt\n",
            "INFO:tensorflow:Assets written to: training_1/cp.ckpt/assets\n"
          ]
        },
        {
          "name": "stderr",
          "output_type": "stream",
          "text": [
            "INFO:tensorflow:Assets written to: training_1/cp.ckpt/assets\n"
          ]
        },
        {
          "name": "stdout",
          "output_type": "stream",
          "text": [
            "\b\b\b\b\b\b\b\b\b\b\b\b\b\b\b\b\b\b\b\b\b\b\b\b\b\b\b\b\b\b\b\b\b\b\b\b\b\b\b\b\b\b\b\b\b\b\b\b\b\b\b\b\b\b\b\b\b\b\b\b\b\b\b\b\b\b\b\b\b\b\b\b\b\b\b\b\b\b\b\b\b\b\b\b\r625/625 [==============================] - 5s 9ms/step - loss: 0.0023 - accuracy: 0.9992 - val_loss: 1.8839 - val_accuracy: 0.8796\n",
            "Epoch 245/300\n",
            "621/625 [============================>.] - ETA: 0s - loss: 0.0027 - accuracy: 0.9994\n",
            "Epoch 245: saving model to training_1/cp.ckpt\n",
            "INFO:tensorflow:Assets written to: training_1/cp.ckpt/assets\n"
          ]
        },
        {
          "name": "stderr",
          "output_type": "stream",
          "text": [
            "INFO:tensorflow:Assets written to: training_1/cp.ckpt/assets\n"
          ]
        },
        {
          "name": "stdout",
          "output_type": "stream",
          "text": [
            "\b\b\b\b\b\b\b\b\b\b\b\b\b\b\b\b\b\b\b\b\b\b\b\b\b\b\b\b\b\b\b\b\b\b\b\b\b\b\b\b\b\b\b\b\b\b\b\b\b\b\b\b\b\b\b\b\b\b\b\b\b\b\b\b\b\b\b\b\b\b\b\b\b\b\b\b\b\b\b\b\b\b\b\b\r625/625 [==============================] - 5s 9ms/step - loss: 0.0027 - accuracy: 0.9994 - val_loss: 1.4690 - val_accuracy: 0.8864\n",
            "Epoch 246/300\n",
            "619/625 [============================>.] - ETA: 0s - loss: 0.0013 - accuracy: 0.9997\n",
            "Epoch 246: saving model to training_1/cp.ckpt\n",
            "INFO:tensorflow:Assets written to: training_1/cp.ckpt/assets\n"
          ]
        },
        {
          "name": "stderr",
          "output_type": "stream",
          "text": [
            "INFO:tensorflow:Assets written to: training_1/cp.ckpt/assets\n"
          ]
        },
        {
          "name": "stdout",
          "output_type": "stream",
          "text": [
            "\b\b\b\b\b\b\b\b\b\b\b\b\b\b\b\b\b\b\b\b\b\b\b\b\b\b\b\b\b\b\b\b\b\b\b\b\b\b\b\b\b\b\b\b\b\b\b\b\b\b\b\b\b\b\b\b\b\b\b\b\b\b\b\b\b\b\b\b\b\b\b\b\b\b\b\b\b\b\b\b\b\b\b\b\r625/625 [==============================] - 5s 8ms/step - loss: 0.0013 - accuracy: 0.9998 - val_loss: 1.4395 - val_accuracy: 0.8884\n",
            "Epoch 247/300\n",
            "620/625 [============================>.] - ETA: 0s - loss: 0.0016 - accuracy: 0.9995\n",
            "Epoch 247: saving model to training_1/cp.ckpt\n",
            "INFO:tensorflow:Assets written to: training_1/cp.ckpt/assets\n"
          ]
        },
        {
          "name": "stderr",
          "output_type": "stream",
          "text": [
            "INFO:tensorflow:Assets written to: training_1/cp.ckpt/assets\n"
          ]
        },
        {
          "name": "stdout",
          "output_type": "stream",
          "text": [
            "\b\b\b\b\b\b\b\b\b\b\b\b\b\b\b\b\b\b\b\b\b\b\b\b\b\b\b\b\b\b\b\b\b\b\b\b\b\b\b\b\b\b\b\b\b\b\b\b\b\b\b\b\b\b\b\b\b\b\b\b\b\b\b\b\b\b\b\b\b\b\b\b\b\b\b\b\b\b\b\b\b\b\b\b\r625/625 [==============================] - 5s 9ms/step - loss: 0.0016 - accuracy: 0.9995 - val_loss: 1.1745 - val_accuracy: 0.8868\n",
            "Epoch 248/300\n",
            "619/625 [============================>.] - ETA: 0s - loss: 9.6379e-04 - accuracy: 0.9996\n",
            "Epoch 248: saving model to training_1/cp.ckpt\n",
            "INFO:tensorflow:Assets written to: training_1/cp.ckpt/assets\n"
          ]
        },
        {
          "name": "stderr",
          "output_type": "stream",
          "text": [
            "INFO:tensorflow:Assets written to: training_1/cp.ckpt/assets\n"
          ]
        },
        {
          "name": "stdout",
          "output_type": "stream",
          "text": [
            "\b\b\b\b\b\b\b\b\b\b\b\b\b\b\b\b\b\b\b\b\b\b\b\b\b\b\b\b\b\b\b\b\b\b\b\b\b\b\b\b\b\b\b\b\b\b\b\b\b\b\b\b\b\b\b\b\b\b\b\b\b\b\b\b\b\b\b\b\b\b\b\b\b\b\b\b\b\b\b\b\b\b\b\b\b\b\b\b\r625/625 [==============================] - 5s 9ms/step - loss: 9.5474e-04 - accuracy: 0.9997 - val_loss: 1.3166 - val_accuracy: 0.8884\n",
            "Epoch 249/300\n",
            "624/625 [============================>.] - ETA: 0s - loss: 0.0020 - accuracy: 0.9992\n",
            "Epoch 249: saving model to training_1/cp.ckpt\n",
            "INFO:tensorflow:Assets written to: training_1/cp.ckpt/assets\n"
          ]
        },
        {
          "name": "stderr",
          "output_type": "stream",
          "text": [
            "INFO:tensorflow:Assets written to: training_1/cp.ckpt/assets\n"
          ]
        },
        {
          "name": "stdout",
          "output_type": "stream",
          "text": [
            "\b\b\b\b\b\b\b\b\b\b\b\b\b\b\b\b\b\b\b\b\b\b\b\b\b\b\b\b\b\b\b\b\b\b\b\b\b\b\b\b\b\b\b\b\b\b\b\b\b\b\b\b\b\b\b\b\b\b\b\b\b\b\b\b\b\b\b\b\b\b\b\b\b\b\b\b\b\b\b\b\b\b\b\b\r625/625 [==============================] - 6s 9ms/step - loss: 0.0020 - accuracy: 0.9992 - val_loss: 1.1960 - val_accuracy: 0.8892\n",
            "Epoch 250/300\n",
            "621/625 [============================>.] - ETA: 0s - loss: 0.0011 - accuracy: 0.9996\n",
            "Epoch 250: saving model to training_1/cp.ckpt\n",
            "INFO:tensorflow:Assets written to: training_1/cp.ckpt/assets\n"
          ]
        },
        {
          "name": "stderr",
          "output_type": "stream",
          "text": [
            "INFO:tensorflow:Assets written to: training_1/cp.ckpt/assets\n"
          ]
        },
        {
          "name": "stdout",
          "output_type": "stream",
          "text": [
            "\b\b\b\b\b\b\b\b\b\b\b\b\b\b\b\b\b\b\b\b\b\b\b\b\b\b\b\b\b\b\b\b\b\b\b\b\b\b\b\b\b\b\b\b\b\b\b\b\b\b\b\b\b\b\b\b\b\b\b\b\b\b\b\b\b\b\b\b\b\b\b\b\b\b\b\b\b\b\b\b\b\b\b\b\r625/625 [==============================] - 6s 9ms/step - loss: 0.0011 - accuracy: 0.9996 - val_loss: 1.4006 - val_accuracy: 0.8896\n",
            "Epoch 251/300\n",
            "625/625 [==============================] - ETA: 0s - loss: 3.9984e-04 - accuracy: 0.9999\n",
            "Epoch 251: saving model to training_1/cp.ckpt\n",
            "INFO:tensorflow:Assets written to: training_1/cp.ckpt/assets\n"
          ]
        },
        {
          "name": "stderr",
          "output_type": "stream",
          "text": [
            "INFO:tensorflow:Assets written to: training_1/cp.ckpt/assets\n"
          ]
        },
        {
          "name": "stdout",
          "output_type": "stream",
          "text": [
            "\b\b\b\b\b\b\b\b\b\b\b\b\b\b\b\b\b\b\b\b\b\b\b\b\b\b\b\b\b\b\b\b\b\b\b\b\b\b\b\b\b\b\b\b\b\b\b\b\b\b\b\b\b\b\b\b\b\b\b\b\b\b\b\b\b\b\b\b\b\b\b\b\b\b\b\b\b\b\b\b\b\b\b\b\b\b\b\b\r625/625 [==============================] - 6s 10ms/step - loss: 3.9984e-04 - accuracy: 0.9999 - val_loss: 1.6691 - val_accuracy: 0.8866\n",
            "Epoch 252/300\n",
            "621/625 [============================>.] - ETA: 0s - loss: 9.7484e-04 - accuracy: 0.9997\n",
            "Epoch 252: saving model to training_1/cp.ckpt\n",
            "INFO:tensorflow:Assets written to: training_1/cp.ckpt/assets\n"
          ]
        },
        {
          "name": "stderr",
          "output_type": "stream",
          "text": [
            "INFO:tensorflow:Assets written to: training_1/cp.ckpt/assets\n"
          ]
        },
        {
          "name": "stdout",
          "output_type": "stream",
          "text": [
            "\b\b\b\b\b\b\b\b\b\b\b\b\b\b\b\b\b\b\b\b\b\b\b\b\b\b\b\b\b\b\b\b\b\b\b\b\b\b\b\b\b\b\b\b\b\b\b\b\b\b\b\b\b\b\b\b\b\b\b\b\b\b\b\b\b\b\b\b\b\b\b\b\b\b\b\b\b\b\b\b\b\b\b\b\b\b\b\b\r625/625 [==============================] - 5s 9ms/step - loss: 9.6889e-04 - accuracy: 0.9997 - val_loss: 1.5254 - val_accuracy: 0.8832\n",
            "Epoch 253/300\n",
            "620/625 [============================>.] - ETA: 0s - loss: 0.0020 - accuracy: 0.9995\n",
            "Epoch 253: saving model to training_1/cp.ckpt\n",
            "INFO:tensorflow:Assets written to: training_1/cp.ckpt/assets\n"
          ]
        },
        {
          "name": "stderr",
          "output_type": "stream",
          "text": [
            "INFO:tensorflow:Assets written to: training_1/cp.ckpt/assets\n"
          ]
        },
        {
          "name": "stdout",
          "output_type": "stream",
          "text": [
            "\b\b\b\b\b\b\b\b\b\b\b\b\b\b\b\b\b\b\b\b\b\b\b\b\b\b\b\b\b\b\b\b\b\b\b\b\b\b\b\b\b\b\b\b\b\b\b\b\b\b\b\b\b\b\b\b\b\b\b\b\b\b\b\b\b\b\b\b\b\b\b\b\b\b\b\b\b\b\b\b\b\b\b\b\r625/625 [==============================] - 5s 8ms/step - loss: 0.0020 - accuracy: 0.9995 - val_loss: 2.2887 - val_accuracy: 0.8744\n",
            "Epoch 254/300\n",
            "624/625 [============================>.] - ETA: 0s - loss: 0.0030 - accuracy: 0.9993\n",
            "Epoch 254: saving model to training_1/cp.ckpt\n",
            "INFO:tensorflow:Assets written to: training_1/cp.ckpt/assets\n"
          ]
        },
        {
          "name": "stderr",
          "output_type": "stream",
          "text": [
            "INFO:tensorflow:Assets written to: training_1/cp.ckpt/assets\n"
          ]
        },
        {
          "name": "stdout",
          "output_type": "stream",
          "text": [
            "\b\b\b\b\b\b\b\b\b\b\b\b\b\b\b\b\b\b\b\b\b\b\b\b\b\b\b\b\b\b\b\b\b\b\b\b\b\b\b\b\b\b\b\b\b\b\b\b\b\b\b\b\b\b\b\b\b\b\b\b\b\b\b\b\b\b\b\b\b\b\b\b\b\b\b\b\b\b\b\b\b\b\b\b\r625/625 [==============================] - 6s 9ms/step - loss: 0.0030 - accuracy: 0.9993 - val_loss: 1.6211 - val_accuracy: 0.8902\n",
            "Epoch 255/300\n",
            "625/625 [==============================] - ETA: 0s - loss: 0.0020 - accuracy: 0.9995\n",
            "Epoch 255: saving model to training_1/cp.ckpt\n",
            "INFO:tensorflow:Assets written to: training_1/cp.ckpt/assets\n"
          ]
        },
        {
          "name": "stderr",
          "output_type": "stream",
          "text": [
            "INFO:tensorflow:Assets written to: training_1/cp.ckpt/assets\n"
          ]
        },
        {
          "name": "stdout",
          "output_type": "stream",
          "text": [
            "\b\b\b\b\b\b\b\b\b\b\b\b\b\b\b\b\b\b\b\b\b\b\b\b\b\b\b\b\b\b\b\b\b\b\b\b\b\b\b\b\b\b\b\b\b\b\b\b\b\b\b\b\b\b\b\b\b\b\b\b\b\b\b\b\b\b\b\b\b\b\b\b\b\b\b\b\b\b\b\b\b\b\b\b\r625/625 [==============================] - 5s 9ms/step - loss: 0.0020 - accuracy: 0.9995 - val_loss: 1.7202 - val_accuracy: 0.8800\n",
            "Epoch 256/300\n",
            "625/625 [==============================] - ETA: 0s - loss: 0.0030 - accuracy: 0.9991\n",
            "Epoch 256: saving model to training_1/cp.ckpt\n",
            "INFO:tensorflow:Assets written to: training_1/cp.ckpt/assets\n"
          ]
        },
        {
          "name": "stderr",
          "output_type": "stream",
          "text": [
            "INFO:tensorflow:Assets written to: training_1/cp.ckpt/assets\n"
          ]
        },
        {
          "name": "stdout",
          "output_type": "stream",
          "text": [
            "\b\b\b\b\b\b\b\b\b\b\b\b\b\b\b\b\b\b\b\b\b\b\b\b\b\b\b\b\b\b\b\b\b\b\b\b\b\b\b\b\b\b\b\b\b\b\b\b\b\b\b\b\b\b\b\b\b\b\b\b\b\b\b\b\b\b\b\b\b\b\b\b\b\b\b\b\b\b\b\b\b\b\b\b\r625/625 [==============================] - 6s 9ms/step - loss: 0.0030 - accuracy: 0.9991 - val_loss: 1.3809 - val_accuracy: 0.8868\n",
            "Epoch 257/300\n",
            "618/625 [============================>.] - ETA: 0s - loss: 0.0018 - accuracy: 0.9993\n",
            "Epoch 257: saving model to training_1/cp.ckpt\n",
            "INFO:tensorflow:Assets written to: training_1/cp.ckpt/assets\n"
          ]
        },
        {
          "name": "stderr",
          "output_type": "stream",
          "text": [
            "INFO:tensorflow:Assets written to: training_1/cp.ckpt/assets\n"
          ]
        },
        {
          "name": "stdout",
          "output_type": "stream",
          "text": [
            "\b\b\b\b\b\b\b\b\b\b\b\b\b\b\b\b\b\b\b\b\b\b\b\b\b\b\b\b\b\b\b\b\b\b\b\b\b\b\b\b\b\b\b\b\b\b\b\b\b\b\b\b\b\b\b\b\b\b\b\b\b\b\b\b\b\b\b\b\b\b\b\b\b\b\b\b\b\b\b\b\b\b\b\b\r625/625 [==============================] - 5s 9ms/step - loss: 0.0018 - accuracy: 0.9994 - val_loss: 1.5060 - val_accuracy: 0.8826\n",
            "Epoch 258/300\n",
            "622/625 [============================>.] - ETA: 0s - loss: 0.0018 - accuracy: 0.9994\n",
            "Epoch 258: saving model to training_1/cp.ckpt\n",
            "INFO:tensorflow:Assets written to: training_1/cp.ckpt/assets\n"
          ]
        },
        {
          "name": "stderr",
          "output_type": "stream",
          "text": [
            "INFO:tensorflow:Assets written to: training_1/cp.ckpt/assets\n"
          ]
        },
        {
          "name": "stdout",
          "output_type": "stream",
          "text": [
            "\b\b\b\b\b\b\b\b\b\b\b\b\b\b\b\b\b\b\b\b\b\b\b\b\b\b\b\b\b\b\b\b\b\b\b\b\b\b\b\b\b\b\b\b\b\b\b\b\b\b\b\b\b\b\b\b\b\b\b\b\b\b\b\b\b\b\b\b\b\b\b\b\b\b\b\b\b\b\b\b\b\b\b\b\r625/625 [==============================] - 5s 8ms/step - loss: 0.0017 - accuracy: 0.9994 - val_loss: 1.5657 - val_accuracy: 0.8840\n",
            "Epoch 259/300\n",
            "624/625 [============================>.] - ETA: 0s - loss: 0.0021 - accuracy: 0.9994\n",
            "Epoch 259: saving model to training_1/cp.ckpt\n",
            "INFO:tensorflow:Assets written to: training_1/cp.ckpt/assets\n"
          ]
        },
        {
          "name": "stderr",
          "output_type": "stream",
          "text": [
            "INFO:tensorflow:Assets written to: training_1/cp.ckpt/assets\n"
          ]
        },
        {
          "name": "stdout",
          "output_type": "stream",
          "text": [
            "\b\b\b\b\b\b\b\b\b\b\b\b\b\b\b\b\b\b\b\b\b\b\b\b\b\b\b\b\b\b\b\b\b\b\b\b\b\b\b\b\b\b\b\b\b\b\b\b\b\b\b\b\b\b\b\b\b\b\b\b\b\b\b\b\b\b\b\b\b\b\b\b\b\b\b\b\b\b\b\b\b\b\b\b\r625/625 [==============================] - 5s 9ms/step - loss: 0.0023 - accuracy: 0.9994 - val_loss: 1.4537 - val_accuracy: 0.8864\n",
            "Epoch 260/300\n",
            "624/625 [============================>.] - ETA: 0s - loss: 0.0023 - accuracy: 0.9992\n",
            "Epoch 260: saving model to training_1/cp.ckpt\n",
            "INFO:tensorflow:Assets written to: training_1/cp.ckpt/assets\n"
          ]
        },
        {
          "name": "stderr",
          "output_type": "stream",
          "text": [
            "INFO:tensorflow:Assets written to: training_1/cp.ckpt/assets\n"
          ]
        },
        {
          "name": "stdout",
          "output_type": "stream",
          "text": [
            "\b\b\b\b\b\b\b\b\b\b\b\b\b\b\b\b\b\b\b\b\b\b\b\b\b\b\b\b\b\b\b\b\b\b\b\b\b\b\b\b\b\b\b\b\b\b\b\b\b\b\b\b\b\b\b\b\b\b\b\b\b\b\b\b\b\b\b\b\b\b\b\b\b\b\b\b\b\b\b\b\b\b\b\b\r625/625 [==============================] - 5s 9ms/step - loss: 0.0023 - accuracy: 0.9992 - val_loss: 1.4376 - val_accuracy: 0.8840\n",
            "Epoch 261/300\n",
            "624/625 [============================>.] - ETA: 0s - loss: 2.6184e-04 - accuracy: 0.9999\n",
            "Epoch 261: saving model to training_1/cp.ckpt\n",
            "INFO:tensorflow:Assets written to: training_1/cp.ckpt/assets\n"
          ]
        },
        {
          "name": "stderr",
          "output_type": "stream",
          "text": [
            "INFO:tensorflow:Assets written to: training_1/cp.ckpt/assets\n"
          ]
        },
        {
          "name": "stdout",
          "output_type": "stream",
          "text": [
            "\b\b\b\b\b\b\b\b\b\b\b\b\b\b\b\b\b\b\b\b\b\b\b\b\b\b\b\b\b\b\b\b\b\b\b\b\b\b\b\b\b\b\b\b\b\b\b\b\b\b\b\b\b\b\b\b\b\b\b\b\b\b\b\b\b\b\b\b\b\b\b\b\b\b\b\b\b\b\b\b\b\b\b\b\b\b\b\b\r625/625 [==============================] - 6s 9ms/step - loss: 2.6144e-04 - accuracy: 0.9999 - val_loss: 1.6091 - val_accuracy: 0.8844\n",
            "Epoch 262/300\n",
            "620/625 [============================>.] - ETA: 0s - loss: 0.0016 - accuracy: 0.9996\n",
            "Epoch 262: saving model to training_1/cp.ckpt\n",
            "INFO:tensorflow:Assets written to: training_1/cp.ckpt/assets\n"
          ]
        },
        {
          "name": "stderr",
          "output_type": "stream",
          "text": [
            "INFO:tensorflow:Assets written to: training_1/cp.ckpt/assets\n"
          ]
        },
        {
          "name": "stdout",
          "output_type": "stream",
          "text": [
            "\b\b\b\b\b\b\b\b\b\b\b\b\b\b\b\b\b\b\b\b\b\b\b\b\b\b\b\b\b\b\b\b\b\b\b\b\b\b\b\b\b\b\b\b\b\b\b\b\b\b\b\b\b\b\b\b\b\b\b\b\b\b\b\b\b\b\b\b\b\b\b\b\b\b\b\b\b\b\b\b\b\b\b\b\r625/625 [==============================] - 5s 8ms/step - loss: 0.0015 - accuracy: 0.9996 - val_loss: 1.5749 - val_accuracy: 0.8860\n",
            "Epoch 263/300\n",
            "620/625 [============================>.] - ETA: 0s - loss: 0.0016 - accuracy: 0.9993\n",
            "Epoch 263: saving model to training_1/cp.ckpt\n",
            "INFO:tensorflow:Assets written to: training_1/cp.ckpt/assets\n"
          ]
        },
        {
          "name": "stderr",
          "output_type": "stream",
          "text": [
            "INFO:tensorflow:Assets written to: training_1/cp.ckpt/assets\n"
          ]
        },
        {
          "name": "stdout",
          "output_type": "stream",
          "text": [
            "\b\b\b\b\b\b\b\b\b\b\b\b\b\b\b\b\b\b\b\b\b\b\b\b\b\b\b\b\b\b\b\b\b\b\b\b\b\b\b\b\b\b\b\b\b\b\b\b\b\b\b\b\b\b\b\b\b\b\b\b\b\b\b\b\b\b\b\b\b\b\b\b\b\b\b\b\b\b\b\b\b\b\b\b\r625/625 [==============================] - 6s 10ms/step - loss: 0.0016 - accuracy: 0.9994 - val_loss: 1.5596 - val_accuracy: 0.8818\n",
            "Epoch 264/300\n",
            "619/625 [============================>.] - ETA: 0s - loss: 0.0015 - accuracy: 0.9995\n",
            "Epoch 264: saving model to training_1/cp.ckpt\n",
            "INFO:tensorflow:Assets written to: training_1/cp.ckpt/assets\n"
          ]
        },
        {
          "name": "stderr",
          "output_type": "stream",
          "text": [
            "INFO:tensorflow:Assets written to: training_1/cp.ckpt/assets\n"
          ]
        },
        {
          "name": "stdout",
          "output_type": "stream",
          "text": [
            "\b\b\b\b\b\b\b\b\b\b\b\b\b\b\b\b\b\b\b\b\b\b\b\b\b\b\b\b\b\b\b\b\b\b\b\b\b\b\b\b\b\b\b\b\b\b\b\b\b\b\b\b\b\b\b\b\b\b\b\b\b\b\b\b\b\b\b\b\b\b\b\b\b\b\b\b\b\b\b\b\b\b\b\b\r625/625 [==============================] - 5s 9ms/step - loss: 0.0015 - accuracy: 0.9995 - val_loss: 1.6535 - val_accuracy: 0.8844\n",
            "Epoch 265/300\n",
            "619/625 [============================>.] - ETA: 0s - loss: 0.0012 - accuracy: 0.9997\n",
            "Epoch 265: saving model to training_1/cp.ckpt\n",
            "INFO:tensorflow:Assets written to: training_1/cp.ckpt/assets\n"
          ]
        },
        {
          "name": "stderr",
          "output_type": "stream",
          "text": [
            "INFO:tensorflow:Assets written to: training_1/cp.ckpt/assets\n"
          ]
        },
        {
          "name": "stdout",
          "output_type": "stream",
          "text": [
            "\b\b\b\b\b\b\b\b\b\b\b\b\b\b\b\b\b\b\b\b\b\b\b\b\b\b\b\b\b\b\b\b\b\b\b\b\b\b\b\b\b\b\b\b\b\b\b\b\b\b\b\b\b\b\b\b\b\b\b\b\b\b\b\b\b\b\b\b\b\b\b\b\b\b\b\b\b\b\b\b\b\b\b\b\r625/625 [==============================] - 5s 9ms/step - loss: 0.0012 - accuracy: 0.9998 - val_loss: 1.5392 - val_accuracy: 0.8876\n",
            "Epoch 266/300\n",
            "621/625 [============================>.] - ETA: 0s - loss: 0.0020 - accuracy: 0.9993\n",
            "Epoch 266: saving model to training_1/cp.ckpt\n",
            "INFO:tensorflow:Assets written to: training_1/cp.ckpt/assets\n"
          ]
        },
        {
          "name": "stderr",
          "output_type": "stream",
          "text": [
            "INFO:tensorflow:Assets written to: training_1/cp.ckpt/assets\n"
          ]
        },
        {
          "name": "stdout",
          "output_type": "stream",
          "text": [
            "\b\b\b\b\b\b\b\b\b\b\b\b\b\b\b\b\b\b\b\b\b\b\b\b\b\b\b\b\b\b\b\b\b\b\b\b\b\b\b\b\b\b\b\b\b\b\b\b\b\b\b\b\b\b\b\b\b\b\b\b\b\b\b\b\b\b\b\b\b\b\b\b\b\b\b\b\b\b\b\b\b\b\b\b\r625/625 [==============================] - 6s 9ms/step - loss: 0.0020 - accuracy: 0.9993 - val_loss: 1.3072 - val_accuracy: 0.8858\n",
            "Epoch 267/300\n",
            "618/625 [============================>.] - ETA: 0s - loss: 0.0020 - accuracy: 0.9993\n",
            "Epoch 267: saving model to training_1/cp.ckpt\n",
            "INFO:tensorflow:Assets written to: training_1/cp.ckpt/assets\n"
          ]
        },
        {
          "name": "stderr",
          "output_type": "stream",
          "text": [
            "INFO:tensorflow:Assets written to: training_1/cp.ckpt/assets\n"
          ]
        },
        {
          "name": "stdout",
          "output_type": "stream",
          "text": [
            "\b\b\b\b\b\b\b\b\b\b\b\b\b\b\b\b\b\b\b\b\b\b\b\b\b\b\b\b\b\b\b\b\b\b\b\b\b\b\b\b\b\b\b\b\b\b\b\b\b\b\b\b\b\b\b\b\b\b\b\b\b\b\b\b\b\b\b\b\b\b\b\b\b\b\b\b\b\b\b\b\b\b\b\b\r625/625 [==============================] - 6s 9ms/step - loss: 0.0019 - accuracy: 0.9994 - val_loss: 1.1585 - val_accuracy: 0.8866\n",
            "Epoch 268/300\n",
            "618/625 [============================>.] - ETA: 0s - loss: 0.0014 - accuracy: 0.9993\n",
            "Epoch 268: saving model to training_1/cp.ckpt\n",
            "INFO:tensorflow:Assets written to: training_1/cp.ckpt/assets\n"
          ]
        },
        {
          "name": "stderr",
          "output_type": "stream",
          "text": [
            "INFO:tensorflow:Assets written to: training_1/cp.ckpt/assets\n"
          ]
        },
        {
          "name": "stdout",
          "output_type": "stream",
          "text": [
            "\b\b\b\b\b\b\b\b\b\b\b\b\b\b\b\b\b\b\b\b\b\b\b\b\b\b\b\b\b\b\b\b\b\b\b\b\b\b\b\b\b\b\b\b\b\b\b\b\b\b\b\b\b\b\b\b\b\b\b\b\b\b\b\b\b\b\b\b\b\b\b\b\b\b\b\b\b\b\b\b\b\b\b\b\r625/625 [==============================] - 5s 9ms/step - loss: 0.0014 - accuracy: 0.9994 - val_loss: 1.5013 - val_accuracy: 0.8866\n",
            "Epoch 269/300\n",
            "623/625 [============================>.] - ETA: 0s - loss: 0.0023 - accuracy: 0.9994\n",
            "Epoch 269: saving model to training_1/cp.ckpt\n",
            "INFO:tensorflow:Assets written to: training_1/cp.ckpt/assets\n"
          ]
        },
        {
          "name": "stderr",
          "output_type": "stream",
          "text": [
            "INFO:tensorflow:Assets written to: training_1/cp.ckpt/assets\n"
          ]
        },
        {
          "name": "stdout",
          "output_type": "stream",
          "text": [
            "\b\b\b\b\b\b\b\b\b\b\b\b\b\b\b\b\b\b\b\b\b\b\b\b\b\b\b\b\b\b\b\b\b\b\b\b\b\b\b\b\b\b\b\b\b\b\b\b\b\b\b\b\b\b\b\b\b\b\b\b\b\b\b\b\b\b\b\b\b\b\b\b\b\b\b\b\b\b\b\b\b\b\b\b\r625/625 [==============================] - 6s 9ms/step - loss: 0.0023 - accuracy: 0.9994 - val_loss: 1.2233 - val_accuracy: 0.8858\n",
            "Epoch 270/300\n",
            "622/625 [============================>.] - ETA: 0s - loss: 5.4178e-04 - accuracy: 0.9997\n",
            "Epoch 270: saving model to training_1/cp.ckpt\n",
            "INFO:tensorflow:Assets written to: training_1/cp.ckpt/assets\n"
          ]
        },
        {
          "name": "stderr",
          "output_type": "stream",
          "text": [
            "INFO:tensorflow:Assets written to: training_1/cp.ckpt/assets\n"
          ]
        },
        {
          "name": "stdout",
          "output_type": "stream",
          "text": [
            "\b\b\b\b\b\b\b\b\b\b\b\b\b\b\b\b\b\b\b\b\b\b\b\b\b\b\b\b\b\b\b\b\b\b\b\b\b\b\b\b\b\b\b\b\b\b\b\b\b\b\b\b\b\b\b\b\b\b\b\b\b\b\b\b\b\b\b\b\b\b\b\b\b\b\b\b\b\b\b\b\b\b\b\b\b\b\b\b\r625/625 [==============================] - 6s 9ms/step - loss: 5.4181e-04 - accuracy: 0.9998 - val_loss: 1.5543 - val_accuracy: 0.8882\n",
            "Epoch 271/300\n",
            "624/625 [============================>.] - ETA: 0s - loss: 0.0014 - accuracy: 0.9997\n",
            "Epoch 271: saving model to training_1/cp.ckpt\n",
            "INFO:tensorflow:Assets written to: training_1/cp.ckpt/assets\n"
          ]
        },
        {
          "name": "stderr",
          "output_type": "stream",
          "text": [
            "INFO:tensorflow:Assets written to: training_1/cp.ckpt/assets\n"
          ]
        },
        {
          "name": "stdout",
          "output_type": "stream",
          "text": [
            "\b\b\b\b\b\b\b\b\b\b\b\b\b\b\b\b\b\b\b\b\b\b\b\b\b\b\b\b\b\b\b\b\b\b\b\b\b\b\b\b\b\b\b\b\b\b\b\b\b\b\b\b\b\b\b\b\b\b\b\b\b\b\b\b\b\b\b\b\b\b\b\b\b\b\b\b\b\b\b\b\b\b\b\b\r625/625 [==============================] - 5s 8ms/step - loss: 0.0014 - accuracy: 0.9997 - val_loss: 1.6410 - val_accuracy: 0.8878\n",
            "Epoch 272/300\n",
            "625/625 [==============================] - ETA: 0s - loss: 0.0018 - accuracy: 0.9995\n",
            "Epoch 272: saving model to training_1/cp.ckpt\n",
            "INFO:tensorflow:Assets written to: training_1/cp.ckpt/assets\n"
          ]
        },
        {
          "name": "stderr",
          "output_type": "stream",
          "text": [
            "INFO:tensorflow:Assets written to: training_1/cp.ckpt/assets\n"
          ]
        },
        {
          "name": "stdout",
          "output_type": "stream",
          "text": [
            "\b\b\b\b\b\b\b\b\b\b\b\b\b\b\b\b\b\b\b\b\b\b\b\b\b\b\b\b\b\b\b\b\b\b\b\b\b\b\b\b\b\b\b\b\b\b\b\b\b\b\b\b\b\b\b\b\b\b\b\b\b\b\b\b\b\b\b\b\b\b\b\b\b\b\b\b\b\b\b\b\b\b\b\b\r625/625 [==============================] - 5s 8ms/step - loss: 0.0018 - accuracy: 0.9995 - val_loss: 2.0251 - val_accuracy: 0.8874\n",
            "Epoch 273/300\n",
            "617/625 [============================>.] - ETA: 0s - loss: 0.0031 - accuracy: 0.9993\n",
            "Epoch 273: saving model to training_1/cp.ckpt\n",
            "INFO:tensorflow:Assets written to: training_1/cp.ckpt/assets\n"
          ]
        },
        {
          "name": "stderr",
          "output_type": "stream",
          "text": [
            "INFO:tensorflow:Assets written to: training_1/cp.ckpt/assets\n"
          ]
        },
        {
          "name": "stdout",
          "output_type": "stream",
          "text": [
            "\b\b\b\b\b\b\b\b\b\b\b\b\b\b\b\b\b\b\b\b\b\b\b\b\b\b\b\b\b\b\b\b\b\b\b\b\b\b\b\b\b\b\b\b\b\b\b\b\b\b\b\b\b\b\b\b\b\b\b\b\b\b\b\b\b\b\b\b\b\b\b\b\b\b\b\b\b\b\b\b\b\b\b\b\r625/625 [==============================] - 5s 9ms/step - loss: 0.0030 - accuracy: 0.9993 - val_loss: 1.5676 - val_accuracy: 0.8874\n",
            "Epoch 274/300\n",
            "625/625 [==============================] - ETA: 0s - loss: 0.0013 - accuracy: 0.9995\n",
            "Epoch 274: saving model to training_1/cp.ckpt\n",
            "INFO:tensorflow:Assets written to: training_1/cp.ckpt/assets\n"
          ]
        },
        {
          "name": "stderr",
          "output_type": "stream",
          "text": [
            "INFO:tensorflow:Assets written to: training_1/cp.ckpt/assets\n"
          ]
        },
        {
          "name": "stdout",
          "output_type": "stream",
          "text": [
            "\b\b\b\b\b\b\b\b\b\b\b\b\b\b\b\b\b\b\b\b\b\b\b\b\b\b\b\b\b\b\b\b\b\b\b\b\b\b\b\b\b\b\b\b\b\b\b\b\b\b\b\b\b\b\b\b\b\b\b\b\b\b\b\b\b\b\b\b\b\b\b\b\b\b\b\b\b\b\b\b\b\b\b\b\r625/625 [==============================] - 5s 8ms/step - loss: 0.0013 - accuracy: 0.9995 - val_loss: 1.8257 - val_accuracy: 0.8872\n",
            "Epoch 275/300\n",
            "620/625 [============================>.] - ETA: 0s - loss: 0.0033 - accuracy: 0.9995\n",
            "Epoch 275: saving model to training_1/cp.ckpt\n",
            "INFO:tensorflow:Assets written to: training_1/cp.ckpt/assets\n"
          ]
        },
        {
          "name": "stderr",
          "output_type": "stream",
          "text": [
            "INFO:tensorflow:Assets written to: training_1/cp.ckpt/assets\n"
          ]
        },
        {
          "name": "stdout",
          "output_type": "stream",
          "text": [
            "\b\b\b\b\b\b\b\b\b\b\b\b\b\b\b\b\b\b\b\b\b\b\b\b\b\b\b\b\b\b\b\b\b\b\b\b\b\b\b\b\b\b\b\b\b\b\b\b\b\b\b\b\b\b\b\b\b\b\b\b\b\b\b\b\b\b\b\b\b\b\b\b\b\b\b\b\b\b\b\b\b\b\b\b\r625/625 [==============================] - 5s 9ms/step - loss: 0.0033 - accuracy: 0.9995 - val_loss: 1.4370 - val_accuracy: 0.8862\n",
            "Epoch 276/300\n",
            "623/625 [============================>.] - ETA: 0s - loss: 0.0016 - accuracy: 0.9994\n",
            "Epoch 276: saving model to training_1/cp.ckpt\n",
            "INFO:tensorflow:Assets written to: training_1/cp.ckpt/assets\n"
          ]
        },
        {
          "name": "stderr",
          "output_type": "stream",
          "text": [
            "INFO:tensorflow:Assets written to: training_1/cp.ckpt/assets\n"
          ]
        },
        {
          "name": "stdout",
          "output_type": "stream",
          "text": [
            "\b\b\b\b\b\b\b\b\b\b\b\b\b\b\b\b\b\b\b\b\b\b\b\b\b\b\b\b\b\b\b\b\b\b\b\b\b\b\b\b\b\b\b\b\b\b\b\b\b\b\b\b\b\b\b\b\b\b\b\b\b\b\b\b\b\b\b\b\b\b\b\b\b\b\b\b\b\b\b\b\b\b\b\b\r625/625 [==============================] - 6s 10ms/step - loss: 0.0016 - accuracy: 0.9994 - val_loss: 1.5554 - val_accuracy: 0.8880\n",
            "Epoch 277/300\n",
            "620/625 [============================>.] - ETA: 0s - loss: 0.0019 - accuracy: 0.9993\n",
            "Epoch 277: saving model to training_1/cp.ckpt\n",
            "INFO:tensorflow:Assets written to: training_1/cp.ckpt/assets\n"
          ]
        },
        {
          "name": "stderr",
          "output_type": "stream",
          "text": [
            "INFO:tensorflow:Assets written to: training_1/cp.ckpt/assets\n"
          ]
        },
        {
          "name": "stdout",
          "output_type": "stream",
          "text": [
            "\b\b\b\b\b\b\b\b\b\b\b\b\b\b\b\b\b\b\b\b\b\b\b\b\b\b\b\b\b\b\b\b\b\b\b\b\b\b\b\b\b\b\b\b\b\b\b\b\b\b\b\b\b\b\b\b\b\b\b\b\b\b\b\b\b\b\b\b\b\b\b\b\b\b\b\b\b\b\b\b\b\b\b\b\r625/625 [==============================] - 5s 9ms/step - loss: 0.0018 - accuracy: 0.9994 - val_loss: 1.8172 - val_accuracy: 0.8878\n",
            "Epoch 278/300\n",
            "624/625 [============================>.] - ETA: 0s - loss: 0.0018 - accuracy: 0.9995\n",
            "Epoch 278: saving model to training_1/cp.ckpt\n",
            "INFO:tensorflow:Assets written to: training_1/cp.ckpt/assets\n"
          ]
        },
        {
          "name": "stderr",
          "output_type": "stream",
          "text": [
            "INFO:tensorflow:Assets written to: training_1/cp.ckpt/assets\n"
          ]
        },
        {
          "name": "stdout",
          "output_type": "stream",
          "text": [
            "\b\b\b\b\b\b\b\b\b\b\b\b\b\b\b\b\b\b\b\b\b\b\b\b\b\b\b\b\b\b\b\b\b\b\b\b\b\b\b\b\b\b\b\b\b\b\b\b\b\b\b\b\b\b\b\b\b\b\b\b\b\b\b\b\b\b\b\b\b\b\b\b\b\b\b\b\b\b\b\b\b\b\b\b\r625/625 [==============================] - 6s 9ms/step - loss: 0.0018 - accuracy: 0.9995 - val_loss: 1.7909 - val_accuracy: 0.8870\n",
            "Epoch 279/300\n",
            "619/625 [============================>.] - ETA: 0s - loss: 0.0035 - accuracy: 0.9991\n",
            "Epoch 279: saving model to training_1/cp.ckpt\n",
            "INFO:tensorflow:Assets written to: training_1/cp.ckpt/assets\n"
          ]
        },
        {
          "name": "stderr",
          "output_type": "stream",
          "text": [
            "INFO:tensorflow:Assets written to: training_1/cp.ckpt/assets\n"
          ]
        },
        {
          "name": "stdout",
          "output_type": "stream",
          "text": [
            "\b\b\b\b\b\b\b\b\b\b\b\b\b\b\b\b\b\b\b\b\b\b\b\b\b\b\b\b\b\b\b\b\b\b\b\b\b\b\b\b\b\b\b\b\b\b\b\b\b\b\b\b\b\b\b\b\b\b\b\b\b\b\b\b\b\b\b\b\b\b\b\b\b\b\b\b\b\b\b\b\b\b\b\b\r625/625 [==============================] - 6s 9ms/step - loss: 0.0035 - accuracy: 0.9991 - val_loss: 1.5266 - val_accuracy: 0.8876\n",
            "Epoch 280/300\n",
            "622/625 [============================>.] - ETA: 0s - loss: 0.0011 - accuracy: 0.9995\n",
            "Epoch 280: saving model to training_1/cp.ckpt\n",
            "INFO:tensorflow:Assets written to: training_1/cp.ckpt/assets\n"
          ]
        },
        {
          "name": "stderr",
          "output_type": "stream",
          "text": [
            "INFO:tensorflow:Assets written to: training_1/cp.ckpt/assets\n"
          ]
        },
        {
          "name": "stdout",
          "output_type": "stream",
          "text": [
            "\b\b\b\b\b\b\b\b\b\b\b\b\b\b\b\b\b\b\b\b\b\b\b\b\b\b\b\b\b\b\b\b\b\b\b\b\b\b\b\b\b\b\b\b\b\b\b\b\b\b\b\b\b\b\b\b\b\b\b\b\b\b\b\b\b\b\b\b\b\b\b\b\b\b\b\b\b\b\b\b\b\b\b\b\r625/625 [==============================] - 6s 9ms/step - loss: 0.0011 - accuracy: 0.9995 - val_loss: 1.5049 - val_accuracy: 0.8858\n",
            "Epoch 281/300\n",
            "621/625 [============================>.] - ETA: 0s - loss: 0.0015 - accuracy: 0.9995\n",
            "Epoch 281: saving model to training_1/cp.ckpt\n",
            "INFO:tensorflow:Assets written to: training_1/cp.ckpt/assets\n"
          ]
        },
        {
          "name": "stderr",
          "output_type": "stream",
          "text": [
            "INFO:tensorflow:Assets written to: training_1/cp.ckpt/assets\n"
          ]
        },
        {
          "name": "stdout",
          "output_type": "stream",
          "text": [
            "\b\b\b\b\b\b\b\b\b\b\b\b\b\b\b\b\b\b\b\b\b\b\b\b\b\b\b\b\b\b\b\b\b\b\b\b\b\b\b\b\b\b\b\b\b\b\b\b\b\b\b\b\b\b\b\b\b\b\b\b\b\b\b\b\b\b\b\b\b\b\b\b\b\b\b\b\b\b\b\b\b\b\b\b\r625/625 [==============================] - 5s 8ms/step - loss: 0.0015 - accuracy: 0.9995 - val_loss: 1.5076 - val_accuracy: 0.8862\n",
            "Epoch 282/300\n",
            "618/625 [============================>.] - ETA: 0s - loss: 0.0015 - accuracy: 0.9994\n",
            "Epoch 282: saving model to training_1/cp.ckpt\n",
            "INFO:tensorflow:Assets written to: training_1/cp.ckpt/assets\n"
          ]
        },
        {
          "name": "stderr",
          "output_type": "stream",
          "text": [
            "INFO:tensorflow:Assets written to: training_1/cp.ckpt/assets\n"
          ]
        },
        {
          "name": "stdout",
          "output_type": "stream",
          "text": [
            "\b\b\b\b\b\b\b\b\b\b\b\b\b\b\b\b\b\b\b\b\b\b\b\b\b\b\b\b\b\b\b\b\b\b\b\b\b\b\b\b\b\b\b\b\b\b\b\b\b\b\b\b\b\b\b\b\b\b\b\b\b\b\b\b\b\b\b\b\b\b\b\b\b\b\b\b\b\b\b\b\b\b\b\b\r625/625 [==============================] - 5s 8ms/step - loss: 0.0015 - accuracy: 0.9995 - val_loss: 1.3168 - val_accuracy: 0.8874\n",
            "Epoch 283/300\n",
            "623/625 [============================>.] - ETA: 0s - loss: 4.3026e-04 - accuracy: 0.9998\n",
            "Epoch 283: saving model to training_1/cp.ckpt\n",
            "INFO:tensorflow:Assets written to: training_1/cp.ckpt/assets\n"
          ]
        },
        {
          "name": "stderr",
          "output_type": "stream",
          "text": [
            "INFO:tensorflow:Assets written to: training_1/cp.ckpt/assets\n"
          ]
        },
        {
          "name": "stdout",
          "output_type": "stream",
          "text": [
            "\b\b\b\b\b\b\b\b\b\b\b\b\b\b\b\b\b\b\b\b\b\b\b\b\b\b\b\b\b\b\b\b\b\b\b\b\b\b\b\b\b\b\b\b\b\b\b\b\b\b\b\b\b\b\b\b\b\b\b\b\b\b\b\b\b\b\b\b\b\b\b\b\b\b\b\b\b\b\b\b\b\b\b\b\b\b\b\b\r625/625 [==============================] - 6s 9ms/step - loss: 4.2888e-04 - accuracy: 0.9998 - val_loss: 1.5195 - val_accuracy: 0.8858\n",
            "Epoch 284/300\n",
            "623/625 [============================>.] - ETA: 0s - loss: 0.0033 - accuracy: 0.9991\n",
            "Epoch 284: saving model to training_1/cp.ckpt\n",
            "INFO:tensorflow:Assets written to: training_1/cp.ckpt/assets\n"
          ]
        },
        {
          "name": "stderr",
          "output_type": "stream",
          "text": [
            "INFO:tensorflow:Assets written to: training_1/cp.ckpt/assets\n"
          ]
        },
        {
          "name": "stdout",
          "output_type": "stream",
          "text": [
            "\b\b\b\b\b\b\b\b\b\b\b\b\b\b\b\b\b\b\b\b\b\b\b\b\b\b\b\b\b\b\b\b\b\b\b\b\b\b\b\b\b\b\b\b\b\b\b\b\b\b\b\b\b\b\b\b\b\b\b\b\b\b\b\b\b\b\b\b\b\b\b\b\b\b\b\b\b\b\b\b\b\b\b\b\r625/625 [==============================] - 5s 8ms/step - loss: 0.0033 - accuracy: 0.9991 - val_loss: 2.0630 - val_accuracy: 0.8826\n",
            "Epoch 285/300\n",
            "618/625 [============================>.] - ETA: 0s - loss: 0.0034 - accuracy: 0.9991\n",
            "Epoch 285: saving model to training_1/cp.ckpt\n",
            "INFO:tensorflow:Assets written to: training_1/cp.ckpt/assets\n"
          ]
        },
        {
          "name": "stderr",
          "output_type": "stream",
          "text": [
            "INFO:tensorflow:Assets written to: training_1/cp.ckpt/assets\n"
          ]
        },
        {
          "name": "stdout",
          "output_type": "stream",
          "text": [
            "\b\b\b\b\b\b\b\b\b\b\b\b\b\b\b\b\b\b\b\b\b\b\b\b\b\b\b\b\b\b\b\b\b\b\b\b\b\b\b\b\b\b\b\b\b\b\b\b\b\b\b\b\b\b\b\b\b\b\b\b\b\b\b\b\b\b\b\b\b\b\b\b\b\b\b\b\b\b\b\b\b\b\b\b\r625/625 [==============================] - 5s 8ms/step - loss: 0.0034 - accuracy: 0.9991 - val_loss: 1.4433 - val_accuracy: 0.8866\n",
            "Epoch 286/300\n",
            "624/625 [============================>.] - ETA: 0s - loss: 8.7213e-04 - accuracy: 0.9998\n",
            "Epoch 286: saving model to training_1/cp.ckpt\n",
            "INFO:tensorflow:Assets written to: training_1/cp.ckpt/assets\n"
          ]
        },
        {
          "name": "stderr",
          "output_type": "stream",
          "text": [
            "INFO:tensorflow:Assets written to: training_1/cp.ckpt/assets\n"
          ]
        },
        {
          "name": "stdout",
          "output_type": "stream",
          "text": [
            "\b\b\b\b\b\b\b\b\b\b\b\b\b\b\b\b\b\b\b\b\b\b\b\b\b\b\b\b\b\b\b\b\b\b\b\b\b\b\b\b\b\b\b\b\b\b\b\b\b\b\b\b\b\b\b\b\b\b\b\b\b\b\b\b\b\b\b\b\b\b\b\b\b\b\b\b\b\b\b\b\b\b\b\b\b\b\b\b\r625/625 [==============================] - 5s 9ms/step - loss: 8.7074e-04 - accuracy: 0.9998 - val_loss: 1.4920 - val_accuracy: 0.8862\n",
            "Epoch 287/300\n",
            "624/625 [============================>.] - ETA: 0s - loss: 0.0029 - accuracy: 0.9993\n",
            "Epoch 287: saving model to training_1/cp.ckpt\n",
            "INFO:tensorflow:Assets written to: training_1/cp.ckpt/assets\n"
          ]
        },
        {
          "name": "stderr",
          "output_type": "stream",
          "text": [
            "INFO:tensorflow:Assets written to: training_1/cp.ckpt/assets\n"
          ]
        },
        {
          "name": "stdout",
          "output_type": "stream",
          "text": [
            "\b\b\b\b\b\b\b\b\b\b\b\b\b\b\b\b\b\b\b\b\b\b\b\b\b\b\b\b\b\b\b\b\b\b\b\b\b\b\b\b\b\b\b\b\b\b\b\b\b\b\b\b\b\b\b\b\b\b\b\b\b\b\b\b\b\b\b\b\b\b\b\b\b\b\b\b\b\b\b\b\b\b\b\b\r625/625 [==============================] - 5s 9ms/step - loss: 0.0029 - accuracy: 0.9994 - val_loss: 1.6909 - val_accuracy: 0.8878\n",
            "Epoch 288/300\n",
            "618/625 [============================>.] - ETA: 0s - loss: 5.1509e-04 - accuracy: 0.9998\n",
            "Epoch 288: saving model to training_1/cp.ckpt\n",
            "INFO:tensorflow:Assets written to: training_1/cp.ckpt/assets\n"
          ]
        },
        {
          "name": "stderr",
          "output_type": "stream",
          "text": [
            "INFO:tensorflow:Assets written to: training_1/cp.ckpt/assets\n"
          ]
        },
        {
          "name": "stdout",
          "output_type": "stream",
          "text": [
            "\b\b\b\b\b\b\b\b\b\b\b\b\b\b\b\b\b\b\b\b\b\b\b\b\b\b\b\b\b\b\b\b\b\b\b\b\b\b\b\b\b\b\b\b\b\b\b\b\b\b\b\b\b\b\b\b\b\b\b\b\b\b\b\b\b\b\b\b\b\b\b\b\b\b\b\b\b\b\b\b\b\b\b\b\b\b\b\b\r625/625 [==============================] - 5s 9ms/step - loss: 5.0933e-04 - accuracy: 0.9998 - val_loss: 1.9493 - val_accuracy: 0.8872\n",
            "Epoch 289/300\n",
            "624/625 [============================>.] - ETA: 0s - loss: 0.0044 - accuracy: 0.9989\n",
            "Epoch 289: saving model to training_1/cp.ckpt\n",
            "INFO:tensorflow:Assets written to: training_1/cp.ckpt/assets\n"
          ]
        },
        {
          "name": "stderr",
          "output_type": "stream",
          "text": [
            "INFO:tensorflow:Assets written to: training_1/cp.ckpt/assets\n"
          ]
        },
        {
          "name": "stdout",
          "output_type": "stream",
          "text": [
            "\b\b\b\b\b\b\b\b\b\b\b\b\b\b\b\b\b\b\b\b\b\b\b\b\b\b\b\b\b\b\b\b\b\b\b\b\b\b\b\b\b\b\b\b\b\b\b\b\b\b\b\b\b\b\b\b\b\b\b\b\b\b\b\b\b\b\b\b\b\b\b\b\b\b\b\b\b\b\b\b\b\b\b\b\r625/625 [==============================] - 6s 9ms/step - loss: 0.0044 - accuracy: 0.9990 - val_loss: 1.4180 - val_accuracy: 0.8872\n",
            "Epoch 290/300\n",
            "620/625 [============================>.] - ETA: 0s - loss: 0.0011 - accuracy: 0.9997\n",
            "Epoch 290: saving model to training_1/cp.ckpt\n",
            "INFO:tensorflow:Assets written to: training_1/cp.ckpt/assets\n"
          ]
        },
        {
          "name": "stderr",
          "output_type": "stream",
          "text": [
            "INFO:tensorflow:Assets written to: training_1/cp.ckpt/assets\n"
          ]
        },
        {
          "name": "stdout",
          "output_type": "stream",
          "text": [
            "\b\b\b\b\b\b\b\b\b\b\b\b\b\b\b\b\b\b\b\b\b\b\b\b\b\b\b\b\b\b\b\b\b\b\b\b\b\b\b\b\b\b\b\b\b\b\b\b\b\b\b\b\b\b\b\b\b\b\b\b\b\b\b\b\b\b\b\b\b\b\b\b\b\b\b\b\b\b\b\b\b\b\b\b\r625/625 [==============================] - 6s 10ms/step - loss: 0.0011 - accuracy: 0.9998 - val_loss: 1.4607 - val_accuracy: 0.8864\n",
            "Epoch 291/300\n",
            "625/625 [==============================] - ETA: 0s - loss: 0.0010 - accuracy: 0.9995\n",
            "Epoch 291: saving model to training_1/cp.ckpt\n",
            "INFO:tensorflow:Assets written to: training_1/cp.ckpt/assets\n"
          ]
        },
        {
          "name": "stderr",
          "output_type": "stream",
          "text": [
            "INFO:tensorflow:Assets written to: training_1/cp.ckpt/assets\n"
          ]
        },
        {
          "name": "stdout",
          "output_type": "stream",
          "text": [
            "\b\b\b\b\b\b\b\b\b\b\b\b\b\b\b\b\b\b\b\b\b\b\b\b\b\b\b\b\b\b\b\b\b\b\b\b\b\b\b\b\b\b\b\b\b\b\b\b\b\b\b\b\b\b\b\b\b\b\b\b\b\b\b\b\b\b\b\b\b\b\b\b\b\b\b\b\b\b\b\b\b\b\b\b\r625/625 [==============================] - 5s 9ms/step - loss: 0.0010 - accuracy: 0.9995 - val_loss: 1.5415 - val_accuracy: 0.8862\n",
            "Epoch 292/300\n",
            "618/625 [============================>.] - ETA: 0s - loss: 0.0026 - accuracy: 0.9994\n",
            "Epoch 292: saving model to training_1/cp.ckpt\n",
            "INFO:tensorflow:Assets written to: training_1/cp.ckpt/assets\n"
          ]
        },
        {
          "name": "stderr",
          "output_type": "stream",
          "text": [
            "INFO:tensorflow:Assets written to: training_1/cp.ckpt/assets\n"
          ]
        },
        {
          "name": "stdout",
          "output_type": "stream",
          "text": [
            "\b\b\b\b\b\b\b\b\b\b\b\b\b\b\b\b\b\b\b\b\b\b\b\b\b\b\b\b\b\b\b\b\b\b\b\b\b\b\b\b\b\b\b\b\b\b\b\b\b\b\b\b\b\b\b\b\b\b\b\b\b\b\b\b\b\b\b\b\b\b\b\b\b\b\b\b\b\b\b\b\b\b\b\b\r625/625 [==============================] - 5s 8ms/step - loss: 0.0026 - accuracy: 0.9994 - val_loss: 1.3651 - val_accuracy: 0.8884\n",
            "Epoch 293/300\n",
            "624/625 [============================>.] - ETA: 0s - loss: 0.0038 - accuracy: 0.9990\n",
            "Epoch 293: saving model to training_1/cp.ckpt\n",
            "INFO:tensorflow:Assets written to: training_1/cp.ckpt/assets\n"
          ]
        },
        {
          "name": "stderr",
          "output_type": "stream",
          "text": [
            "INFO:tensorflow:Assets written to: training_1/cp.ckpt/assets\n"
          ]
        },
        {
          "name": "stdout",
          "output_type": "stream",
          "text": [
            "\b\b\b\b\b\b\b\b\b\b\b\b\b\b\b\b\b\b\b\b\b\b\b\b\b\b\b\b\b\b\b\b\b\b\b\b\b\b\b\b\b\b\b\b\b\b\b\b\b\b\b\b\b\b\b\b\b\b\b\b\b\b\b\b\b\b\b\b\b\b\b\b\b\b\b\b\b\b\b\b\b\b\b\b\r625/625 [==============================] - 5s 9ms/step - loss: 0.0037 - accuracy: 0.9991 - val_loss: 1.9821 - val_accuracy: 0.8784\n",
            "Epoch 294/300\n",
            "620/625 [============================>.] - ETA: 0s - loss: 0.0021 - accuracy: 0.9993\n",
            "Epoch 294: saving model to training_1/cp.ckpt\n",
            "INFO:tensorflow:Assets written to: training_1/cp.ckpt/assets\n"
          ]
        },
        {
          "name": "stderr",
          "output_type": "stream",
          "text": [
            "INFO:tensorflow:Assets written to: training_1/cp.ckpt/assets\n"
          ]
        },
        {
          "name": "stdout",
          "output_type": "stream",
          "text": [
            "\b\b\b\b\b\b\b\b\b\b\b\b\b\b\b\b\b\b\b\b\b\b\b\b\b\b\b\b\b\b\b\b\b\b\b\b\b\b\b\b\b\b\b\b\b\b\b\b\b\b\b\b\b\b\b\b\b\b\b\b\b\b\b\b\b\b\b\b\b\b\b\b\b\b\b\b\b\b\b\b\b\b\b\b\r625/625 [==============================] - 5s 9ms/step - loss: 0.0021 - accuracy: 0.9994 - val_loss: 1.5061 - val_accuracy: 0.8874\n",
            "Epoch 295/300\n",
            "618/625 [============================>.] - ETA: 0s - loss: 0.0019 - accuracy: 0.9995\n",
            "Epoch 295: saving model to training_1/cp.ckpt\n",
            "INFO:tensorflow:Assets written to: training_1/cp.ckpt/assets\n"
          ]
        },
        {
          "name": "stderr",
          "output_type": "stream",
          "text": [
            "INFO:tensorflow:Assets written to: training_1/cp.ckpt/assets\n"
          ]
        },
        {
          "name": "stdout",
          "output_type": "stream",
          "text": [
            "\b\b\b\b\b\b\b\b\b\b\b\b\b\b\b\b\b\b\b\b\b\b\b\b\b\b\b\b\b\b\b\b\b\b\b\b\b\b\b\b\b\b\b\b\b\b\b\b\b\b\b\b\b\b\b\b\b\b\b\b\b\b\b\b\b\b\b\b\b\b\b\b\b\b\b\b\b\b\b\b\b\b\b\b\r625/625 [==============================] - 5s 8ms/step - loss: 0.0019 - accuracy: 0.9995 - val_loss: 1.7888 - val_accuracy: 0.8780\n",
            "Epoch 296/300\n",
            "620/625 [============================>.] - ETA: 0s - loss: 7.3326e-04 - accuracy: 0.9998\n",
            "Epoch 296: saving model to training_1/cp.ckpt\n",
            "INFO:tensorflow:Assets written to: training_1/cp.ckpt/assets\n"
          ]
        },
        {
          "name": "stderr",
          "output_type": "stream",
          "text": [
            "INFO:tensorflow:Assets written to: training_1/cp.ckpt/assets\n"
          ]
        },
        {
          "name": "stdout",
          "output_type": "stream",
          "text": [
            "\b\b\b\b\b\b\b\b\b\b\b\b\b\b\b\b\b\b\b\b\b\b\b\b\b\b\b\b\b\b\b\b\b\b\b\b\b\b\b\b\b\b\b\b\b\b\b\b\b\b\b\b\b\b\b\b\b\b\b\b\b\b\b\b\b\b\b\b\b\b\b\b\b\b\b\b\b\b\b\b\b\b\b\b\b\b\b\b\r625/625 [==============================] - 5s 8ms/step - loss: 7.2740e-04 - accuracy: 0.9998 - val_loss: 1.6800 - val_accuracy: 0.8854\n",
            "Epoch 297/300\n",
            "625/625 [==============================] - ETA: 0s - loss: 0.0012 - accuracy: 0.9996\n",
            "Epoch 297: saving model to training_1/cp.ckpt\n",
            "INFO:tensorflow:Assets written to: training_1/cp.ckpt/assets\n"
          ]
        },
        {
          "name": "stderr",
          "output_type": "stream",
          "text": [
            "INFO:tensorflow:Assets written to: training_1/cp.ckpt/assets\n"
          ]
        },
        {
          "name": "stdout",
          "output_type": "stream",
          "text": [
            "\b\b\b\b\b\b\b\b\b\b\b\b\b\b\b\b\b\b\b\b\b\b\b\b\b\b\b\b\b\b\b\b\b\b\b\b\b\b\b\b\b\b\b\b\b\b\b\b\b\b\b\b\b\b\b\b\b\b\b\b\b\b\b\b\b\b\b\b\b\b\b\b\b\b\b\b\b\b\b\b\b\b\b\b\r625/625 [==============================] - 5s 8ms/step - loss: 0.0012 - accuracy: 0.9996 - val_loss: 1.7922 - val_accuracy: 0.8852\n",
            "Epoch 298/300\n",
            "619/625 [============================>.] - ETA: 0s - loss: 9.0443e-04 - accuracy: 0.9999\n",
            "Epoch 298: saving model to training_1/cp.ckpt\n",
            "INFO:tensorflow:Assets written to: training_1/cp.ckpt/assets\n"
          ]
        },
        {
          "name": "stderr",
          "output_type": "stream",
          "text": [
            "INFO:tensorflow:Assets written to: training_1/cp.ckpt/assets\n"
          ]
        },
        {
          "name": "stdout",
          "output_type": "stream",
          "text": [
            "\b\b\b\b\b\b\b\b\b\b\b\b\b\b\b\b\b\b\b\b\b\b\b\b\b\b\b\b\b\b\b\b\b\b\b\b\b\b\b\b\b\b\b\b\b\b\b\b\b\b\b\b\b\b\b\b\b\b\b\b\b\b\b\b\b\b\b\b\b\b\b\b\b\b\b\b\b\b\b\b\b\b\b\b\b\b\b\b\r625/625 [==============================] - 5s 9ms/step - loss: 8.9576e-04 - accuracy: 0.9999 - val_loss: 1.5970 - val_accuracy: 0.8866\n",
            "Epoch 299/300\n",
            "623/625 [============================>.] - ETA: 0s - loss: 0.0017 - accuracy: 0.9994\n",
            "Epoch 299: saving model to training_1/cp.ckpt\n",
            "INFO:tensorflow:Assets written to: training_1/cp.ckpt/assets\n"
          ]
        },
        {
          "name": "stderr",
          "output_type": "stream",
          "text": [
            "INFO:tensorflow:Assets written to: training_1/cp.ckpt/assets\n"
          ]
        },
        {
          "name": "stdout",
          "output_type": "stream",
          "text": [
            "\b\b\b\b\b\b\b\b\b\b\b\b\b\b\b\b\b\b\b\b\b\b\b\b\b\b\b\b\b\b\b\b\b\b\b\b\b\b\b\b\b\b\b\b\b\b\b\b\b\b\b\b\b\b\b\b\b\b\b\b\b\b\b\b\b\b\b\b\b\b\b\b\b\b\b\b\b\b\b\b\b\b\b\b\r625/625 [==============================] - 6s 9ms/step - loss: 0.0017 - accuracy: 0.9995 - val_loss: 1.7191 - val_accuracy: 0.8842\n",
            "Epoch 300/300\n",
            "624/625 [============================>.] - ETA: 0s - loss: 0.0021 - accuracy: 0.9994\n",
            "Epoch 300: saving model to training_1/cp.ckpt\n",
            "INFO:tensorflow:Assets written to: training_1/cp.ckpt/assets\n"
          ]
        },
        {
          "name": "stderr",
          "output_type": "stream",
          "text": [
            "INFO:tensorflow:Assets written to: training_1/cp.ckpt/assets\n"
          ]
        },
        {
          "name": "stdout",
          "output_type": "stream",
          "text": [
            "\b\b\b\b\b\b\b\b\b\b\b\b\b\b\b\b\b\b\b\b\b\b\b\b\b\b\b\b\b\b\b\b\b\b\b\b\b\b\b\b\b\b\b\b\b\b\b\b\b\b\b\b\b\b\b\b\b\b\b\b\b\b\b\b\b\b\b\b\b\b\b\b\b\b\b\b\b\b\b\b\b\b\b\b\r625/625 [==============================] - 6s 9ms/step - loss: 0.0021 - accuracy: 0.9994 - val_loss: 1.7553 - val_accuracy: 0.8856\n"
          ]
        },
        {
          "data": {
            "text/plain": [
              "<keras.callbacks.History at 0x7f614b0b52d0>"
            ]
          },
          "execution_count": 37,
          "metadata": {},
          "output_type": "execute_result"
        }
      ],
      "source": [
        "# 조기 종료가 추가되지 않은 모델 훈련\n",
        "\n",
        "model.compile(loss='binary_crossentropy',\n",
        "              optimizer='adam',\n",
        "              metrics=['accuracy'])\n",
        "\n",
        "model.fit(x_train, y_train,\n",
        "          batch_size=batch_size,\n",
        "          epochs=epochs,\n",
        "          validation_split=0.2,\n",
        "          callbacks=[cp_callback])"
      ]
    },
    {
      "cell_type": "code",
      "execution_count": 39,
      "id": "c3887345",
      "metadata": {
        "colab": {
          "base_uri": "https://localhost:8080/"
        },
        "id": "c3887345",
        "outputId": "111aa0d5-6dcc-4363-8008-54517d55df1d"
      },
      "outputs": [
        {
          "name": "stdout",
          "output_type": "stream",
          "text": [
            "782/782 [==============================] - 5s 6ms/step - loss: 1.9030 - accuracy: 0.8766\n",
            "Score: loss of 1.9029628038406372; accuracy of 87.65599727630615%\n"
          ]
        }
      ],
      "source": [
        "# 모델 평가\n",
        "\n",
        "from tensorflow.keras.models import load_model\n",
        "model = load_model(checkpoint_path)\n",
        "scores = model.evaluate(x_test, y_test, verbose=1)\n",
        "print(f'Score: {model.metrics_names[0]} of {scores[0]}; {model.metrics_names[1]} of {scores[1]*100}%')"
      ]
    },
    {
      "cell_type": "code",
      "execution_count": 40,
      "id": "685e7a0c",
      "metadata": {
        "colab": {
          "base_uri": "https://localhost:8080/"
        },
        "id": "685e7a0c",
        "outputId": "44bec349-aa03-433d-fb84-26f49bafd59d"
      },
      "outputs": [
        {
          "name": "stdout",
          "output_type": "stream",
          "text": [
            "Epoch 1/300\n",
            "618/625 [============================>.] - ETA: 0s - loss: 0.0029 - accuracy: 0.9993INFO:tensorflow:Assets written to: training_1/cp.ckpt/assets\n"
          ]
        },
        {
          "name": "stderr",
          "output_type": "stream",
          "text": [
            "INFO:tensorflow:Assets written to: training_1/cp.ckpt/assets\n"
          ]
        },
        {
          "name": "stdout",
          "output_type": "stream",
          "text": [
            "\b\b\b\b\b\b\b\b\b\b\b\b\b\b\b\b\b\b\b\b\b\b\b\b\b\b\b\b\b\b\b\b\b\b\b\b\b\b\b\b\b\b\b\b\b\b\b\b\b\b\b\b\b\b\b\b\b\b\b\b\b\b\b\b\b\b\b\b\b\b\b\b\b\b\b\b\b\b\b\b\b\b\b\b\r625/625 [==============================] - 7s 10ms/step - loss: 0.0028 - accuracy: 0.9994 - val_loss: 2.6011 - val_accuracy: 0.8888\n",
            "Epoch 2/300\n",
            "625/625 [==============================] - 5s 8ms/step - loss: 0.0021 - accuracy: 0.9995 - val_loss: 2.7145 - val_accuracy: 0.8862\n",
            "Epoch 3/300\n",
            "623/625 [============================>.] - ETA: 0s - loss: 0.0035 - accuracy: 0.9993INFO:tensorflow:Assets written to: training_1/cp.ckpt/assets\n"
          ]
        },
        {
          "name": "stderr",
          "output_type": "stream",
          "text": [
            "INFO:tensorflow:Assets written to: training_1/cp.ckpt/assets\n"
          ]
        },
        {
          "name": "stdout",
          "output_type": "stream",
          "text": [
            "\b\b\b\b\b\b\b\b\b\b\b\b\b\b\b\b\b\b\b\b\b\b\b\b\b\b\b\b\b\b\b\b\b\b\b\b\b\b\b\b\b\b\b\b\b\b\b\b\b\b\b\b\b\b\b\b\b\b\b\b\b\b\b\b\b\b\b\b\b\b\b\b\b\b\b\b\b\b\b\b\b\b\b\b\r625/625 [==============================] - 6s 9ms/step - loss: 0.0035 - accuracy: 0.9994 - val_loss: 1.9605 - val_accuracy: 0.8840\n",
            "Epoch 4/300\n",
            "625/625 [==============================] - 4s 7ms/step - loss: 0.0013 - accuracy: 0.9998 - val_loss: 2.0871 - val_accuracy: 0.8844\n",
            "Epoch 5/300\n",
            "621/625 [============================>.] - ETA: 0s - loss: 0.0036 - accuracy: 0.9992INFO:tensorflow:Assets written to: training_1/cp.ckpt/assets\n"
          ]
        },
        {
          "name": "stderr",
          "output_type": "stream",
          "text": [
            "INFO:tensorflow:Assets written to: training_1/cp.ckpt/assets\n"
          ]
        },
        {
          "name": "stdout",
          "output_type": "stream",
          "text": [
            "\b\b\b\b\b\b\b\b\b\b\b\b\b\b\b\b\b\b\b\b\b\b\b\b\b\b\b\b\b\b\b\b\b\b\b\b\b\b\b\b\b\b\b\b\b\b\b\b\b\b\b\b\b\b\b\b\b\b\b\b\b\b\b\b\b\b\b\b\b\b\b\b\b\b\b\b\b\b\b\b\b\b\b\b\r625/625 [==============================] - 5s 8ms/step - loss: 0.0036 - accuracy: 0.9992 - val_loss: 1.6773 - val_accuracy: 0.8860\n",
            "Epoch 6/300\n",
            "625/625 [==============================] - 4s 7ms/step - loss: 6.4289e-04 - accuracy: 0.9999 - val_loss: 2.0650 - val_accuracy: 0.8698\n",
            "Epoch 7/300\n",
            "625/625 [==============================] - 4s 7ms/step - loss: 0.0036 - accuracy: 0.9991 - val_loss: 2.0682 - val_accuracy: 0.8832\n",
            "Epoch 8/300\n",
            "625/625 [==============================] - 4s 7ms/step - loss: 0.0014 - accuracy: 0.9997 - val_loss: 1.8836 - val_accuracy: 0.8862\n",
            "Epoch 9/300\n",
            "625/625 [==============================] - 4s 7ms/step - loss: 0.0036 - accuracy: 0.9990 - val_loss: 1.9068 - val_accuracy: 0.8810\n",
            "Epoch 10/300\n",
            "625/625 [==============================] - 4s 7ms/step - loss: 0.0024 - accuracy: 0.9993 - val_loss: 1.8839 - val_accuracy: 0.8826\n",
            "Epoch 11/300\n",
            "625/625 [==============================] - 4s 7ms/step - loss: 9.3928e-04 - accuracy: 0.9998 - val_loss: 1.8523 - val_accuracy: 0.8776\n",
            "Epoch 12/300\n",
            "625/625 [==============================] - 4s 7ms/step - loss: 4.9428e-04 - accuracy: 0.9998 - val_loss: 2.0107 - val_accuracy: 0.8808\n",
            "Epoch 13/300\n",
            "622/625 [============================>.] - ETA: 0s - loss: 0.0031 - accuracy: 0.9992INFO:tensorflow:Assets written to: training_1/cp.ckpt/assets\n"
          ]
        },
        {
          "name": "stderr",
          "output_type": "stream",
          "text": [
            "INFO:tensorflow:Assets written to: training_1/cp.ckpt/assets\n"
          ]
        },
        {
          "name": "stdout",
          "output_type": "stream",
          "text": [
            "\b\b\b\b\b\b\b\b\b\b\b\b\b\b\b\b\b\b\b\b\b\b\b\b\b\b\b\b\b\b\b\b\b\b\b\b\b\b\b\b\b\b\b\b\b\b\b\b\b\b\b\b\b\b\b\b\b\b\b\b\b\b\b\b\b\b\b\b\b\b\b\b\b\b\b\b\b\b\b\b\b\b\b\b\r625/625 [==============================] - 5s 8ms/step - loss: 0.0031 - accuracy: 0.9992 - val_loss: 1.4775 - val_accuracy: 0.8854\n",
            "Epoch 14/300\n",
            "625/625 [==============================] - 4s 7ms/step - loss: 0.0011 - accuracy: 0.9998 - val_loss: 1.5811 - val_accuracy: 0.8820\n",
            "Epoch 15/300\n",
            "625/625 [==============================] - 4s 7ms/step - loss: 0.0017 - accuracy: 0.9998 - val_loss: 1.8301 - val_accuracy: 0.8862\n",
            "Epoch 16/300\n",
            "625/625 [==============================] - 4s 7ms/step - loss: 0.0020 - accuracy: 0.9995 - val_loss: 1.5869 - val_accuracy: 0.8852\n",
            "Epoch 17/300\n",
            "625/625 [==============================] - 4s 7ms/step - loss: 0.0013 - accuracy: 0.9997 - val_loss: 1.9970 - val_accuracy: 0.8802\n",
            "Epoch 18/300\n",
            "625/625 [==============================] - 4s 7ms/step - loss: 0.0027 - accuracy: 0.9995 - val_loss: 1.9681 - val_accuracy: 0.8808\n",
            "Epoch 19/300\n",
            "625/625 [==============================] - 4s 7ms/step - loss: 0.0016 - accuracy: 0.9995 - val_loss: 1.8316 - val_accuracy: 0.8880\n",
            "Epoch 20/300\n",
            "625/625 [==============================] - 5s 8ms/step - loss: 0.0022 - accuracy: 0.9996 - val_loss: 1.5027 - val_accuracy: 0.8884\n",
            "Epoch 21/300\n",
            "625/625 [==============================] - 4s 7ms/step - loss: 0.0021 - accuracy: 0.9995 - val_loss: 1.5574 - val_accuracy: 0.8888\n",
            "Epoch 22/300\n",
            "625/625 [==============================] - 4s 7ms/step - loss: 0.0018 - accuracy: 0.9994 - val_loss: 1.6678 - val_accuracy: 0.8860\n",
            "Epoch 23/300\n",
            "619/625 [============================>.] - ETA: 0s - loss: 0.0019 - accuracy: 0.9996INFO:tensorflow:Assets written to: training_1/cp.ckpt/assets\n"
          ]
        },
        {
          "name": "stderr",
          "output_type": "stream",
          "text": [
            "INFO:tensorflow:Assets written to: training_1/cp.ckpt/assets\n"
          ]
        },
        {
          "name": "stdout",
          "output_type": "stream",
          "text": [
            "\b\b\b\b\b\b\b\b\b\b\b\b\b\b\b\b\b\b\b\b\b\b\b\b\b\b\b\b\b\b\b\b\b\b\b\b\b\b\b\b\b\b\b\b\b\b\b\b\b\b\b\b\b\b\b\b\b\b\b\b\b\b\b\b\b\b\b\b\b\b\b\b\b\b\b\b\b\b\b\b\b\b\b\b\r625/625 [==============================] - 5s 8ms/step - loss: 0.0019 - accuracy: 0.9996 - val_loss: 1.3833 - val_accuracy: 0.8884\n",
            "Epoch 24/300\n",
            "625/625 [==============================] - 4s 7ms/step - loss: 3.2135e-04 - accuracy: 0.9998 - val_loss: 1.5875 - val_accuracy: 0.8868\n",
            "Epoch 25/300\n",
            "625/625 [==============================] - 4s 7ms/step - loss: 0.0017 - accuracy: 0.9995 - val_loss: 1.5817 - val_accuracy: 0.8838\n",
            "Epoch 26/300\n",
            "625/625 [==============================] - 4s 7ms/step - loss: 5.7266e-04 - accuracy: 0.9998 - val_loss: 1.8128 - val_accuracy: 0.8870\n",
            "Epoch 27/300\n",
            "625/625 [==============================] - 4s 7ms/step - loss: 4.3505e-05 - accuracy: 1.0000 - val_loss: 1.9014 - val_accuracy: 0.8846\n",
            "Epoch 28/300\n",
            "625/625 [==============================] - 4s 7ms/step - loss: 0.0016 - accuracy: 0.9995 - val_loss: 2.1005 - val_accuracy: 0.8908\n",
            "Epoch 29/300\n",
            "625/625 [==============================] - 4s 7ms/step - loss: 0.0029 - accuracy: 0.9994 - val_loss: 2.1695 - val_accuracy: 0.8886\n",
            "Epoch 30/300\n",
            "625/625 [==============================] - 4s 7ms/step - loss: 0.0011 - accuracy: 0.9995 - val_loss: 1.8097 - val_accuracy: 0.8864\n",
            "Epoch 31/300\n",
            "625/625 [==============================] - 4s 7ms/step - loss: 9.9350e-04 - accuracy: 0.9998 - val_loss: 2.1813 - val_accuracy: 0.8894\n",
            "Epoch 32/300\n",
            "625/625 [==============================] - 4s 7ms/step - loss: 0.0029 - accuracy: 0.9993 - val_loss: 1.9713 - val_accuracy: 0.8882\n",
            "Epoch 33/300\n",
            "625/625 [==============================] - 4s 7ms/step - loss: 0.0022 - accuracy: 0.9994 - val_loss: 1.6139 - val_accuracy: 0.8870\n",
            "Epoch 34/300\n",
            "625/625 [==============================] - 4s 7ms/step - loss: 8.9703e-04 - accuracy: 0.9997 - val_loss: 1.6339 - val_accuracy: 0.8882\n",
            "Epoch 35/300\n",
            "625/625 [==============================] - 4s 7ms/step - loss: 0.0018 - accuracy: 0.9995 - val_loss: 1.5096 - val_accuracy: 0.8884\n",
            "Epoch 36/300\n",
            "625/625 [==============================] - 4s 7ms/step - loss: 4.4400e-04 - accuracy: 0.9998 - val_loss: 1.7291 - val_accuracy: 0.8872\n",
            "Epoch 37/300\n",
            "625/625 [==============================] - 4s 7ms/step - loss: 0.0017 - accuracy: 0.9995 - val_loss: 1.7380 - val_accuracy: 0.8862\n",
            "Epoch 38/300\n",
            "625/625 [==============================] - 4s 7ms/step - loss: 0.0012 - accuracy: 0.9995 - val_loss: 2.1214 - val_accuracy: 0.8856\n",
            "Epoch 39/300\n",
            "625/625 [==============================] - 4s 7ms/step - loss: 0.0011 - accuracy: 0.9997 - val_loss: 2.1396 - val_accuracy: 0.8860\n",
            "Epoch 40/300\n",
            "625/625 [==============================] - 4s 7ms/step - loss: 0.0016 - accuracy: 0.9997 - val_loss: 1.9017 - val_accuracy: 0.8874\n",
            "Epoch 41/300\n",
            "625/625 [==============================] - 4s 7ms/step - loss: 6.9568e-04 - accuracy: 0.9998 - val_loss: 1.8455 - val_accuracy: 0.8858\n",
            "Epoch 42/300\n",
            "625/625 [==============================] - 4s 7ms/step - loss: 4.9164e-04 - accuracy: 0.9999 - val_loss: 1.8321 - val_accuracy: 0.8872\n",
            "Epoch 43/300\n",
            "625/625 [==============================] - 4s 7ms/step - loss: 0.0011 - accuracy: 0.9998 - val_loss: 2.0416 - val_accuracy: 0.8792\n",
            "Epoch 44/300\n",
            "625/625 [==============================] - 4s 7ms/step - loss: 0.0030 - accuracy: 0.9991 - val_loss: 1.7925 - val_accuracy: 0.8868\n",
            "Epoch 45/300\n",
            "625/625 [==============================] - 4s 7ms/step - loss: 0.0021 - accuracy: 0.9995 - val_loss: 1.9011 - val_accuracy: 0.8874\n",
            "Epoch 46/300\n",
            "625/625 [==============================] - 4s 7ms/step - loss: 0.0012 - accuracy: 0.9994 - val_loss: 2.4533 - val_accuracy: 0.8888\n",
            "Epoch 47/300\n",
            "625/625 [==============================] - 4s 7ms/step - loss: 0.0016 - accuracy: 0.9994 - val_loss: 2.4270 - val_accuracy: 0.8882\n",
            "Epoch 48/300\n",
            "625/625 [==============================] - 4s 7ms/step - loss: 1.9605e-04 - accuracy: 0.9999 - val_loss: 2.4945 - val_accuracy: 0.8840\n",
            "Epoch 49/300\n",
            "625/625 [==============================] - 4s 7ms/step - loss: 0.0044 - accuracy: 0.9991 - val_loss: 2.3696 - val_accuracy: 0.8888\n",
            "Epoch 50/300\n",
            "625/625 [==============================] - 4s 7ms/step - loss: 0.0015 - accuracy: 0.9995 - val_loss: 2.3309 - val_accuracy: 0.8866\n",
            "Epoch 51/300\n",
            "625/625 [==============================] - 4s 7ms/step - loss: 0.0021 - accuracy: 0.9994 - val_loss: 1.9898 - val_accuracy: 0.8892\n",
            "Epoch 52/300\n",
            "625/625 [==============================] - 4s 7ms/step - loss: 0.0016 - accuracy: 0.9998 - val_loss: 1.8610 - val_accuracy: 0.8884\n",
            "Epoch 53/300\n",
            "625/625 [==============================] - 4s 7ms/step - loss: 0.0014 - accuracy: 0.9997 - val_loss: 1.9182 - val_accuracy: 0.8870\n"
          ]
        },
        {
          "data": {
            "text/plain": [
              "<keras.callbacks.History at 0x7f614a924f50>"
            ]
          },
          "execution_count": 40,
          "metadata": {},
          "output_type": "execute_result"
        }
      ],
      "source": [
        "# 조기 종료를 적용한 모델 훈련\n",
        "\n",
        "from tensorflow.keras.callbacks import EarlyStopping, ModelCheckpoint\n",
        "keras_callbacks = [\n",
        "    EarlyStopping(monitor='val_loss', patience=30, mode='min', min_delta=0.0001),\n",
        "    ModelCheckpoint(checkpoint_path, monitor='val_loss', save_best_only=True, mode='min')\n",
        "]\n",
        "\n",
        "model.fit(x_train, y_train,\n",
        "          batch_size=batch_size,\n",
        "          epochs=epochs,\n",
        "          validation_split=0.2,\n",
        "          callbacks=keras_callbacks)"
      ]
    },
    {
      "cell_type": "code",
      "execution_count": 42,
      "id": "17f423bc",
      "metadata": {
        "colab": {
          "base_uri": "https://localhost:8080/"
        },
        "id": "17f423bc",
        "outputId": "94e832db-ad6d-4f8d-8ec0-f030c7945412"
      },
      "outputs": [
        {
          "name": "stdout",
          "output_type": "stream",
          "text": [
            "782/782 [==============================] - 3s 4ms/step - loss: 1.6044 - accuracy: 0.8748\n",
            "Score: loss of 1.604351282119751; accuracy of 87.48400211334229%\n"
          ]
        }
      ],
      "source": [
        "# 모델 평가\n",
        "\n",
        "from tensorflow.keras.models import load_model\n",
        "model = load_model(checkpoint_path)\n",
        "scores = model.evaluate(x_test, y_test, verbose=1)\n",
        "print(f'Score: {model.metrics_names[0]} of {scores[0]}; {model.metrics_names[1]} of {scores[1]*100}%')"
      ]
    }
  ],
  "metadata": {
    "accelerator": "GPU",
    "colab": {
      "collapsed_sections": [],
      "name": "Chapter08.ipynb",
      "provenance": []
    },
    "interpreter": {
      "hash": "16ff67ac5b59543b0cabf8c01bdd6301311b1b38ea29649e2dcd267ea06ee271"
    },
    "kernelspec": {
      "display_name": "Python 3.8.13 ('tf3.8')",
      "language": "python",
      "name": "python3"
    },
    "language_info": {
      "codemirror_mode": {
        "name": "ipython",
        "version": 3
      },
      "file_extension": ".py",
      "mimetype": "text/x-python",
      "name": "python",
      "nbconvert_exporter": "python",
      "pygments_lexer": "ipython3",
      "version": "3.8.13"
    },
    "widgets": {
      "application/vnd.jupyter.widget-state+json": {
        "005a78d7676642beb9c1573cae568dc6": {
          "model_module": "@jupyter-widgets/controls",
          "model_module_version": "1.5.0",
          "model_name": "HTMLModel",
          "state": {
            "_dom_classes": [],
            "_model_module": "@jupyter-widgets/controls",
            "_model_module_version": "1.5.0",
            "_model_name": "HTMLModel",
            "_view_count": null,
            "_view_module": "@jupyter-widgets/controls",
            "_view_module_version": "1.5.0",
            "_view_name": "HTMLView",
            "description": "",
            "description_tooltip": null,
            "layout": "IPY_MODEL_7d053abcf5bb4e88b49eec2c025e3877",
            "placeholder": "​",
            "style": "IPY_MODEL_40068dbfe1df4ae79675db5467e19c19",
            "value": " 80/80 [00:04&lt;00:00, 35.34 MiB/s]"
          }
        },
        "01efe180eb404d1b829c59de9c094f20": {
          "model_module": "@jupyter-widgets/controls",
          "model_module_version": "1.5.0",
          "model_name": "FloatProgressModel",
          "state": {
            "_dom_classes": [],
            "_model_module": "@jupyter-widgets/controls",
            "_model_module_version": "1.5.0",
            "_model_name": "FloatProgressModel",
            "_view_count": null,
            "_view_module": "@jupyter-widgets/controls",
            "_view_module_version": "1.5.0",
            "_view_name": "ProgressView",
            "bar_style": "danger",
            "description": "",
            "description_tooltip": null,
            "layout": "IPY_MODEL_85cf79b16e3a41b5b4798f61baacfbdd",
            "max": 25000,
            "min": 0,
            "orientation": "horizontal",
            "style": "IPY_MODEL_322d4df10fd64754a8b5c60166a31ab3",
            "value": 24999
          }
        },
        "02757c8e403c4043b7a79db2c8799c32": {
          "model_module": "@jupyter-widgets/base",
          "model_module_version": "1.2.0",
          "model_name": "LayoutModel",
          "state": {
            "_model_module": "@jupyter-widgets/base",
            "_model_module_version": "1.2.0",
            "_model_name": "LayoutModel",
            "_view_count": null,
            "_view_module": "@jupyter-widgets/base",
            "_view_module_version": "1.2.0",
            "_view_name": "LayoutView",
            "align_content": null,
            "align_items": null,
            "align_self": null,
            "border": null,
            "bottom": null,
            "display": null,
            "flex": null,
            "flex_flow": null,
            "grid_area": null,
            "grid_auto_columns": null,
            "grid_auto_flow": null,
            "grid_auto_rows": null,
            "grid_column": null,
            "grid_gap": null,
            "grid_row": null,
            "grid_template_areas": null,
            "grid_template_columns": null,
            "grid_template_rows": null,
            "height": null,
            "justify_content": null,
            "justify_items": null,
            "left": null,
            "margin": null,
            "max_height": null,
            "max_width": null,
            "min_height": null,
            "min_width": null,
            "object_fit": null,
            "object_position": null,
            "order": null,
            "overflow": null,
            "overflow_x": null,
            "overflow_y": null,
            "padding": null,
            "right": null,
            "top": null,
            "visibility": null,
            "width": null
          }
        },
        "0483bb1219664c53a4b08951bdbad4f3": {
          "model_module": "@jupyter-widgets/controls",
          "model_module_version": "1.5.0",
          "model_name": "HBoxModel",
          "state": {
            "_dom_classes": [],
            "_model_module": "@jupyter-widgets/controls",
            "_model_module_version": "1.5.0",
            "_model_name": "HBoxModel",
            "_view_count": null,
            "_view_module": "@jupyter-widgets/controls",
            "_view_module_version": "1.5.0",
            "_view_name": "HBoxView",
            "box_style": "",
            "children": [
              "IPY_MODEL_2389178df14e4c38922b0bc15156803b",
              "IPY_MODEL_bc7cc93135f74862a0faf1978957fbab",
              "IPY_MODEL_3bbdc84048f74b7c9cceb90fdeaa7d53"
            ],
            "layout": "IPY_MODEL_fa02ee287bdf482a9945fce823acf5e4"
          }
        },
        "05c0b97dd4774fc09ec7b0d7be7eadef": {
          "model_module": "@jupyter-widgets/controls",
          "model_module_version": "1.5.0",
          "model_name": "DescriptionStyleModel",
          "state": {
            "_model_module": "@jupyter-widgets/controls",
            "_model_module_version": "1.5.0",
            "_model_name": "DescriptionStyleModel",
            "_view_count": null,
            "_view_module": "@jupyter-widgets/base",
            "_view_module_version": "1.2.0",
            "_view_name": "StyleView",
            "description_width": ""
          }
        },
        "05ccc416dad9450da5a644eaf0e1fb78": {
          "model_module": "@jupyter-widgets/controls",
          "model_module_version": "1.5.0",
          "model_name": "HTMLModel",
          "state": {
            "_dom_classes": [],
            "_model_module": "@jupyter-widgets/controls",
            "_model_module_version": "1.5.0",
            "_model_name": "HTMLModel",
            "_view_count": null,
            "_view_module": "@jupyter-widgets/controls",
            "_view_module_version": "1.5.0",
            "_view_name": "HTMLView",
            "description": "",
            "description_tooltip": null,
            "layout": "IPY_MODEL_fc808c0aa01f4141a6a1275d449c7434",
            "placeholder": "​",
            "style": "IPY_MODEL_cc30aea7404142388a76c31fcb17a947",
            "value": "Dl Size...: 100%"
          }
        },
        "080876001c444bec8ba7f15f229b6255": {
          "model_module": "@jupyter-widgets/controls",
          "model_module_version": "1.5.0",
          "model_name": "FloatProgressModel",
          "state": {
            "_dom_classes": [],
            "_model_module": "@jupyter-widgets/controls",
            "_model_module_version": "1.5.0",
            "_model_name": "FloatProgressModel",
            "_view_count": null,
            "_view_module": "@jupyter-widgets/controls",
            "_view_module_version": "1.5.0",
            "_view_name": "ProgressView",
            "bar_style": "success",
            "description": "",
            "description_tooltip": null,
            "layout": "IPY_MODEL_b2a8449484f5419785fae98e260ee10b",
            "max": 1,
            "min": 0,
            "orientation": "horizontal",
            "style": "IPY_MODEL_9828c972b0374a51a56e587937dda6e5",
            "value": 1
          }
        },
        "0d5ef585fcd0463ebb18830a9cac3054": {
          "model_module": "@jupyter-widgets/base",
          "model_module_version": "1.2.0",
          "model_name": "LayoutModel",
          "state": {
            "_model_module": "@jupyter-widgets/base",
            "_model_module_version": "1.2.0",
            "_model_name": "LayoutModel",
            "_view_count": null,
            "_view_module": "@jupyter-widgets/base",
            "_view_module_version": "1.2.0",
            "_view_name": "LayoutView",
            "align_content": null,
            "align_items": null,
            "align_self": null,
            "border": null,
            "bottom": null,
            "display": null,
            "flex": null,
            "flex_flow": null,
            "grid_area": null,
            "grid_auto_columns": null,
            "grid_auto_flow": null,
            "grid_auto_rows": null,
            "grid_column": null,
            "grid_gap": null,
            "grid_row": null,
            "grid_template_areas": null,
            "grid_template_columns": null,
            "grid_template_rows": null,
            "height": null,
            "justify_content": null,
            "justify_items": null,
            "left": null,
            "margin": null,
            "max_height": null,
            "max_width": null,
            "min_height": null,
            "min_width": null,
            "object_fit": null,
            "object_position": null,
            "order": null,
            "overflow": null,
            "overflow_x": null,
            "overflow_y": null,
            "padding": null,
            "right": null,
            "top": null,
            "visibility": null,
            "width": null
          }
        },
        "0f0b52323e074a6d81bce13a4884569c": {
          "model_module": "@jupyter-widgets/controls",
          "model_module_version": "1.5.0",
          "model_name": "ProgressStyleModel",
          "state": {
            "_model_module": "@jupyter-widgets/controls",
            "_model_module_version": "1.5.0",
            "_model_name": "ProgressStyleModel",
            "_view_count": null,
            "_view_module": "@jupyter-widgets/base",
            "_view_module_version": "1.2.0",
            "_view_name": "StyleView",
            "bar_color": null,
            "description_width": ""
          }
        },
        "100c02f1e85c41e784142ced56fb094b": {
          "model_module": "@jupyter-widgets/controls",
          "model_module_version": "1.5.0",
          "model_name": "HTMLModel",
          "state": {
            "_dom_classes": [],
            "_model_module": "@jupyter-widgets/controls",
            "_model_module_version": "1.5.0",
            "_model_name": "HTMLModel",
            "_view_count": null,
            "_view_module": "@jupyter-widgets/controls",
            "_view_module_version": "1.5.0",
            "_view_name": "HTMLView",
            "description": "",
            "description_tooltip": null,
            "layout": "IPY_MODEL_2505e02e7a954877a6fc160ed6c265dd",
            "placeholder": "​",
            "style": "IPY_MODEL_2a09bdd479944f8d918ef923eb423ae2",
            "value": ""
          }
        },
        "143cec69e4ed43e58c37b29a4cfbdc0b": {
          "model_module": "@jupyter-widgets/controls",
          "model_module_version": "1.5.0",
          "model_name": "DescriptionStyleModel",
          "state": {
            "_model_module": "@jupyter-widgets/controls",
            "_model_module_version": "1.5.0",
            "_model_name": "DescriptionStyleModel",
            "_view_count": null,
            "_view_module": "@jupyter-widgets/base",
            "_view_module_version": "1.2.0",
            "_view_name": "StyleView",
            "description_width": ""
          }
        },
        "16436c57a71846c6904bd409cecf2e1d": {
          "model_module": "@jupyter-widgets/controls",
          "model_module_version": "1.5.0",
          "model_name": "HBoxModel",
          "state": {
            "_dom_classes": [],
            "_model_module": "@jupyter-widgets/controls",
            "_model_module_version": "1.5.0",
            "_model_name": "HBoxModel",
            "_view_count": null,
            "_view_module": "@jupyter-widgets/controls",
            "_view_module_version": "1.5.0",
            "_view_name": "HBoxView",
            "box_style": "",
            "children": [
              "IPY_MODEL_82f02becdb674e8e9ac254eee9649ea5",
              "IPY_MODEL_fd1bb4b1ede54ef88d4fda318a95cd2d",
              "IPY_MODEL_3c995e0d86c64ede9093c8e8371da268"
            ],
            "layout": "IPY_MODEL_3af900ba407e4ae9bb1941274c72cfd2"
          }
        },
        "1c00d8e6777246d3bae9c32e166872ff": {
          "model_module": "@jupyter-widgets/base",
          "model_module_version": "1.2.0",
          "model_name": "LayoutModel",
          "state": {
            "_model_module": "@jupyter-widgets/base",
            "_model_module_version": "1.2.0",
            "_model_name": "LayoutModel",
            "_view_count": null,
            "_view_module": "@jupyter-widgets/base",
            "_view_module_version": "1.2.0",
            "_view_name": "LayoutView",
            "align_content": null,
            "align_items": null,
            "align_self": null,
            "border": null,
            "bottom": null,
            "display": null,
            "flex": null,
            "flex_flow": null,
            "grid_area": null,
            "grid_auto_columns": null,
            "grid_auto_flow": null,
            "grid_auto_rows": null,
            "grid_column": null,
            "grid_gap": null,
            "grid_row": null,
            "grid_template_areas": null,
            "grid_template_columns": null,
            "grid_template_rows": null,
            "height": null,
            "justify_content": null,
            "justify_items": null,
            "left": null,
            "margin": null,
            "max_height": null,
            "max_width": null,
            "min_height": null,
            "min_width": null,
            "object_fit": null,
            "object_position": null,
            "order": null,
            "overflow": null,
            "overflow_x": null,
            "overflow_y": null,
            "padding": null,
            "right": null,
            "top": null,
            "visibility": null,
            "width": null
          }
        },
        "1e87f4e8c6304cc9ad44e3686b329cde": {
          "model_module": "@jupyter-widgets/base",
          "model_module_version": "1.2.0",
          "model_name": "LayoutModel",
          "state": {
            "_model_module": "@jupyter-widgets/base",
            "_model_module_version": "1.2.0",
            "_model_name": "LayoutModel",
            "_view_count": null,
            "_view_module": "@jupyter-widgets/base",
            "_view_module_version": "1.2.0",
            "_view_name": "LayoutView",
            "align_content": null,
            "align_items": null,
            "align_self": null,
            "border": null,
            "bottom": null,
            "display": null,
            "flex": null,
            "flex_flow": null,
            "grid_area": null,
            "grid_auto_columns": null,
            "grid_auto_flow": null,
            "grid_auto_rows": null,
            "grid_column": null,
            "grid_gap": null,
            "grid_row": null,
            "grid_template_areas": null,
            "grid_template_columns": null,
            "grid_template_rows": null,
            "height": null,
            "justify_content": null,
            "justify_items": null,
            "left": null,
            "margin": null,
            "max_height": null,
            "max_width": null,
            "min_height": null,
            "min_width": null,
            "object_fit": null,
            "object_position": null,
            "order": null,
            "overflow": null,
            "overflow_x": null,
            "overflow_y": null,
            "padding": null,
            "right": null,
            "top": null,
            "visibility": null,
            "width": null
          }
        },
        "2389178df14e4c38922b0bc15156803b": {
          "model_module": "@jupyter-widgets/controls",
          "model_module_version": "1.5.0",
          "model_name": "HTMLModel",
          "state": {
            "_dom_classes": [],
            "_model_module": "@jupyter-widgets/controls",
            "_model_module_version": "1.5.0",
            "_model_name": "HTMLModel",
            "_view_count": null,
            "_view_module": "@jupyter-widgets/controls",
            "_view_module_version": "1.5.0",
            "_view_name": "HTMLView",
            "description": "",
            "description_tooltip": null,
            "layout": "IPY_MODEL_0d5ef585fcd0463ebb18830a9cac3054",
            "placeholder": "​",
            "style": "IPY_MODEL_73f3e233e5b7400aa85678b96021d0a4",
            "value": "Dl Completed...: 100%"
          }
        },
        "2505e02e7a954877a6fc160ed6c265dd": {
          "model_module": "@jupyter-widgets/base",
          "model_module_version": "1.2.0",
          "model_name": "LayoutModel",
          "state": {
            "_model_module": "@jupyter-widgets/base",
            "_model_module_version": "1.2.0",
            "_model_name": "LayoutModel",
            "_view_count": null,
            "_view_module": "@jupyter-widgets/base",
            "_view_module_version": "1.2.0",
            "_view_name": "LayoutView",
            "align_content": null,
            "align_items": null,
            "align_self": null,
            "border": null,
            "bottom": null,
            "display": null,
            "flex": null,
            "flex_flow": null,
            "grid_area": null,
            "grid_auto_columns": null,
            "grid_auto_flow": null,
            "grid_auto_rows": null,
            "grid_column": null,
            "grid_gap": null,
            "grid_row": null,
            "grid_template_areas": null,
            "grid_template_columns": null,
            "grid_template_rows": null,
            "height": null,
            "justify_content": null,
            "justify_items": null,
            "left": null,
            "margin": null,
            "max_height": null,
            "max_width": null,
            "min_height": null,
            "min_width": null,
            "object_fit": null,
            "object_position": null,
            "order": null,
            "overflow": null,
            "overflow_x": null,
            "overflow_y": null,
            "padding": null,
            "right": null,
            "top": null,
            "visibility": null,
            "width": null
          }
        },
        "25eec44accb842bab4a022af0feafa1b": {
          "model_module": "@jupyter-widgets/base",
          "model_module_version": "1.2.0",
          "model_name": "LayoutModel",
          "state": {
            "_model_module": "@jupyter-widgets/base",
            "_model_module_version": "1.2.0",
            "_model_name": "LayoutModel",
            "_view_count": null,
            "_view_module": "@jupyter-widgets/base",
            "_view_module_version": "1.2.0",
            "_view_name": "LayoutView",
            "align_content": null,
            "align_items": null,
            "align_self": null,
            "border": null,
            "bottom": null,
            "display": null,
            "flex": null,
            "flex_flow": null,
            "grid_area": null,
            "grid_auto_columns": null,
            "grid_auto_flow": null,
            "grid_auto_rows": null,
            "grid_column": null,
            "grid_gap": null,
            "grid_row": null,
            "grid_template_areas": null,
            "grid_template_columns": null,
            "grid_template_rows": null,
            "height": null,
            "justify_content": null,
            "justify_items": null,
            "left": null,
            "margin": null,
            "max_height": null,
            "max_width": null,
            "min_height": null,
            "min_width": null,
            "object_fit": null,
            "object_position": null,
            "order": null,
            "overflow": null,
            "overflow_x": null,
            "overflow_y": null,
            "padding": null,
            "right": null,
            "top": null,
            "visibility": null,
            "width": "20px"
          }
        },
        "2a09bdd479944f8d918ef923eb423ae2": {
          "model_module": "@jupyter-widgets/controls",
          "model_module_version": "1.5.0",
          "model_name": "DescriptionStyleModel",
          "state": {
            "_model_module": "@jupyter-widgets/controls",
            "_model_module_version": "1.5.0",
            "_model_name": "DescriptionStyleModel",
            "_view_count": null,
            "_view_module": "@jupyter-widgets/base",
            "_view_module_version": "1.2.0",
            "_view_name": "StyleView",
            "description_width": ""
          }
        },
        "2be11c1125ec4a8fa1db33589e5a4548": {
          "model_module": "@jupyter-widgets/controls",
          "model_module_version": "1.5.0",
          "model_name": "FloatProgressModel",
          "state": {
            "_dom_classes": [],
            "_model_module": "@jupyter-widgets/controls",
            "_model_module_version": "1.5.0",
            "_model_name": "FloatProgressModel",
            "_view_count": null,
            "_view_module": "@jupyter-widgets/controls",
            "_view_module_version": "1.5.0",
            "_view_name": "ProgressView",
            "bar_style": "info",
            "description": "",
            "description_tooltip": null,
            "layout": "IPY_MODEL_a06f9042d9db45beb9581c8ae74d1e9a",
            "max": 1,
            "min": 0,
            "orientation": "horizontal",
            "style": "IPY_MODEL_d57effc5a4bf4fb2becfaf9ec26b86fa",
            "value": 1
          }
        },
        "2cf2f432bb504de88cf2cf10dc1e5bf1": {
          "model_module": "@jupyter-widgets/controls",
          "model_module_version": "1.5.0",
          "model_name": "HTMLModel",
          "state": {
            "_dom_classes": [],
            "_model_module": "@jupyter-widgets/controls",
            "_model_module_version": "1.5.0",
            "_model_name": "HTMLModel",
            "_view_count": null,
            "_view_module": "@jupyter-widgets/controls",
            "_view_module_version": "1.5.0",
            "_view_name": "HTMLView",
            "description": "",
            "description_tooltip": null,
            "layout": "IPY_MODEL_6d4f85bbbfdf447890ffd8560dc0fc03",
            "placeholder": "​",
            "style": "IPY_MODEL_3529928a20964a00b6833f7cd67365e5",
            "value": " 24999/25000 [00:00&lt;00:00, 66332.47 examples/s]"
          }
        },
        "322d4df10fd64754a8b5c60166a31ab3": {
          "model_module": "@jupyter-widgets/controls",
          "model_module_version": "1.5.0",
          "model_name": "ProgressStyleModel",
          "state": {
            "_model_module": "@jupyter-widgets/controls",
            "_model_module_version": "1.5.0",
            "_model_name": "ProgressStyleModel",
            "_view_count": null,
            "_view_module": "@jupyter-widgets/base",
            "_view_module_version": "1.2.0",
            "_view_name": "StyleView",
            "bar_color": null,
            "description_width": ""
          }
        },
        "3529928a20964a00b6833f7cd67365e5": {
          "model_module": "@jupyter-widgets/controls",
          "model_module_version": "1.5.0",
          "model_name": "DescriptionStyleModel",
          "state": {
            "_model_module": "@jupyter-widgets/controls",
            "_model_module_version": "1.5.0",
            "_model_name": "DescriptionStyleModel",
            "_view_count": null,
            "_view_module": "@jupyter-widgets/base",
            "_view_module_version": "1.2.0",
            "_view_name": "StyleView",
            "description_width": ""
          }
        },
        "36b6aaab2b6d483a83dbc7937eb33ff5": {
          "model_module": "@jupyter-widgets/controls",
          "model_module_version": "1.5.0",
          "model_name": "DescriptionStyleModel",
          "state": {
            "_model_module": "@jupyter-widgets/controls",
            "_model_module_version": "1.5.0",
            "_model_name": "DescriptionStyleModel",
            "_view_count": null,
            "_view_module": "@jupyter-widgets/base",
            "_view_module_version": "1.2.0",
            "_view_name": "StyleView",
            "description_width": ""
          }
        },
        "3af900ba407e4ae9bb1941274c72cfd2": {
          "model_module": "@jupyter-widgets/base",
          "model_module_version": "1.2.0",
          "model_name": "LayoutModel",
          "state": {
            "_model_module": "@jupyter-widgets/base",
            "_model_module_version": "1.2.0",
            "_model_name": "LayoutModel",
            "_view_count": null,
            "_view_module": "@jupyter-widgets/base",
            "_view_module_version": "1.2.0",
            "_view_name": "LayoutView",
            "align_content": null,
            "align_items": null,
            "align_self": null,
            "border": null,
            "bottom": null,
            "display": null,
            "flex": null,
            "flex_flow": null,
            "grid_area": null,
            "grid_auto_columns": null,
            "grid_auto_flow": null,
            "grid_auto_rows": null,
            "grid_column": null,
            "grid_gap": null,
            "grid_row": null,
            "grid_template_areas": null,
            "grid_template_columns": null,
            "grid_template_rows": null,
            "height": null,
            "justify_content": null,
            "justify_items": null,
            "left": null,
            "margin": null,
            "max_height": null,
            "max_width": null,
            "min_height": null,
            "min_width": null,
            "object_fit": null,
            "object_position": null,
            "order": null,
            "overflow": null,
            "overflow_x": null,
            "overflow_y": null,
            "padding": null,
            "right": null,
            "top": null,
            "visibility": null,
            "width": null
          }
        },
        "3bbdc84048f74b7c9cceb90fdeaa7d53": {
          "model_module": "@jupyter-widgets/controls",
          "model_module_version": "1.5.0",
          "model_name": "HTMLModel",
          "state": {
            "_dom_classes": [],
            "_model_module": "@jupyter-widgets/controls",
            "_model_module_version": "1.5.0",
            "_model_name": "HTMLModel",
            "_view_count": null,
            "_view_module": "@jupyter-widgets/controls",
            "_view_module_version": "1.5.0",
            "_view_name": "HTMLView",
            "description": "",
            "description_tooltip": null,
            "layout": "IPY_MODEL_40614e85a8e74f1388caac0b828d9989",
            "placeholder": "​",
            "style": "IPY_MODEL_36b6aaab2b6d483a83dbc7937eb33ff5",
            "value": " 1/1 [00:04&lt;00:00,  4.40s/ url]"
          }
        },
        "3c995e0d86c64ede9093c8e8371da268": {
          "model_module": "@jupyter-widgets/controls",
          "model_module_version": "1.5.0",
          "model_name": "HTMLModel",
          "state": {
            "_dom_classes": [],
            "_model_module": "@jupyter-widgets/controls",
            "_model_module_version": "1.5.0",
            "_model_name": "HTMLModel",
            "_view_count": null,
            "_view_module": "@jupyter-widgets/controls",
            "_view_module_version": "1.5.0",
            "_view_name": "HTMLView",
            "description": "",
            "description_tooltip": null,
            "layout": "IPY_MODEL_9ad4588fa7dc41f4aa8f7c51ea2474b9",
            "placeholder": "​",
            "style": "IPY_MODEL_94433b7ae57c4e0ebf9e4dde553d9660",
            "value": " 49999/50000 [00:00&lt;00:00, 196869.92 examples/s]"
          }
        },
        "3dbb647fdcb246b49e3cae8506cca3a4": {
          "model_module": "@jupyter-widgets/base",
          "model_module_version": "1.2.0",
          "model_name": "LayoutModel",
          "state": {
            "_model_module": "@jupyter-widgets/base",
            "_model_module_version": "1.2.0",
            "_model_name": "LayoutModel",
            "_view_count": null,
            "_view_module": "@jupyter-widgets/base",
            "_view_module_version": "1.2.0",
            "_view_name": "LayoutView",
            "align_content": null,
            "align_items": null,
            "align_self": null,
            "border": null,
            "bottom": null,
            "display": null,
            "flex": null,
            "flex_flow": null,
            "grid_area": null,
            "grid_auto_columns": null,
            "grid_auto_flow": null,
            "grid_auto_rows": null,
            "grid_column": null,
            "grid_gap": null,
            "grid_row": null,
            "grid_template_areas": null,
            "grid_template_columns": null,
            "grid_template_rows": null,
            "height": null,
            "justify_content": null,
            "justify_items": null,
            "left": null,
            "margin": null,
            "max_height": null,
            "max_width": null,
            "min_height": null,
            "min_width": null,
            "object_fit": null,
            "object_position": null,
            "order": null,
            "overflow": null,
            "overflow_x": null,
            "overflow_y": null,
            "padding": null,
            "right": null,
            "top": null,
            "visibility": null,
            "width": null
          }
        },
        "3dc3227268c1423780a9f840dc9201d2": {
          "model_module": "@jupyter-widgets/base",
          "model_module_version": "1.2.0",
          "model_name": "LayoutModel",
          "state": {
            "_model_module": "@jupyter-widgets/base",
            "_model_module_version": "1.2.0",
            "_model_name": "LayoutModel",
            "_view_count": null,
            "_view_module": "@jupyter-widgets/base",
            "_view_module_version": "1.2.0",
            "_view_name": "LayoutView",
            "align_content": null,
            "align_items": null,
            "align_self": null,
            "border": null,
            "bottom": null,
            "display": null,
            "flex": null,
            "flex_flow": null,
            "grid_area": null,
            "grid_auto_columns": null,
            "grid_auto_flow": null,
            "grid_auto_rows": null,
            "grid_column": null,
            "grid_gap": null,
            "grid_row": null,
            "grid_template_areas": null,
            "grid_template_columns": null,
            "grid_template_rows": null,
            "height": null,
            "justify_content": null,
            "justify_items": null,
            "left": null,
            "margin": null,
            "max_height": null,
            "max_width": null,
            "min_height": null,
            "min_width": null,
            "object_fit": null,
            "object_position": null,
            "order": null,
            "overflow": null,
            "overflow_x": null,
            "overflow_y": null,
            "padding": null,
            "right": null,
            "top": null,
            "visibility": null,
            "width": null
          }
        },
        "40068dbfe1df4ae79675db5467e19c19": {
          "model_module": "@jupyter-widgets/controls",
          "model_module_version": "1.5.0",
          "model_name": "DescriptionStyleModel",
          "state": {
            "_model_module": "@jupyter-widgets/controls",
            "_model_module_version": "1.5.0",
            "_model_name": "DescriptionStyleModel",
            "_view_count": null,
            "_view_module": "@jupyter-widgets/base",
            "_view_module_version": "1.2.0",
            "_view_name": "StyleView",
            "description_width": ""
          }
        },
        "40614e85a8e74f1388caac0b828d9989": {
          "model_module": "@jupyter-widgets/base",
          "model_module_version": "1.2.0",
          "model_name": "LayoutModel",
          "state": {
            "_model_module": "@jupyter-widgets/base",
            "_model_module_version": "1.2.0",
            "_model_name": "LayoutModel",
            "_view_count": null,
            "_view_module": "@jupyter-widgets/base",
            "_view_module_version": "1.2.0",
            "_view_name": "LayoutView",
            "align_content": null,
            "align_items": null,
            "align_self": null,
            "border": null,
            "bottom": null,
            "display": null,
            "flex": null,
            "flex_flow": null,
            "grid_area": null,
            "grid_auto_columns": null,
            "grid_auto_flow": null,
            "grid_auto_rows": null,
            "grid_column": null,
            "grid_gap": null,
            "grid_row": null,
            "grid_template_areas": null,
            "grid_template_columns": null,
            "grid_template_rows": null,
            "height": null,
            "justify_content": null,
            "justify_items": null,
            "left": null,
            "margin": null,
            "max_height": null,
            "max_width": null,
            "min_height": null,
            "min_width": null,
            "object_fit": null,
            "object_position": null,
            "order": null,
            "overflow": null,
            "overflow_x": null,
            "overflow_y": null,
            "padding": null,
            "right": null,
            "top": null,
            "visibility": null,
            "width": null
          }
        },
        "4084a09e03be4718beac5b1fdb64fc2f": {
          "model_module": "@jupyter-widgets/base",
          "model_module_version": "1.2.0",
          "model_name": "LayoutModel",
          "state": {
            "_model_module": "@jupyter-widgets/base",
            "_model_module_version": "1.2.0",
            "_model_name": "LayoutModel",
            "_view_count": null,
            "_view_module": "@jupyter-widgets/base",
            "_view_module_version": "1.2.0",
            "_view_name": "LayoutView",
            "align_content": null,
            "align_items": null,
            "align_self": null,
            "border": null,
            "bottom": null,
            "display": null,
            "flex": null,
            "flex_flow": null,
            "grid_area": null,
            "grid_auto_columns": null,
            "grid_auto_flow": null,
            "grid_auto_rows": null,
            "grid_column": null,
            "grid_gap": null,
            "grid_row": null,
            "grid_template_areas": null,
            "grid_template_columns": null,
            "grid_template_rows": null,
            "height": null,
            "justify_content": null,
            "justify_items": null,
            "left": null,
            "margin": null,
            "max_height": null,
            "max_width": null,
            "min_height": null,
            "min_width": null,
            "object_fit": null,
            "object_position": null,
            "order": null,
            "overflow": null,
            "overflow_x": null,
            "overflow_y": null,
            "padding": null,
            "right": null,
            "top": null,
            "visibility": null,
            "width": null
          }
        },
        "4993a4d7487a47e4ba5d78f01b821764": {
          "model_module": "@jupyter-widgets/controls",
          "model_module_version": "1.5.0",
          "model_name": "DescriptionStyleModel",
          "state": {
            "_model_module": "@jupyter-widgets/controls",
            "_model_module_version": "1.5.0",
            "_model_name": "DescriptionStyleModel",
            "_view_count": null,
            "_view_module": "@jupyter-widgets/base",
            "_view_module_version": "1.2.0",
            "_view_name": "StyleView",
            "description_width": ""
          }
        },
        "5813f8a7aed94c4b9313b02072b9a646": {
          "model_module": "@jupyter-widgets/controls",
          "model_module_version": "1.5.0",
          "model_name": "HBoxModel",
          "state": {
            "_dom_classes": [],
            "_model_module": "@jupyter-widgets/controls",
            "_model_module_version": "1.5.0",
            "_model_name": "HBoxModel",
            "_view_count": null,
            "_view_module": "@jupyter-widgets/controls",
            "_view_module_version": "1.5.0",
            "_view_name": "HBoxView",
            "box_style": "",
            "children": [
              "IPY_MODEL_100c02f1e85c41e784142ced56fb094b",
              "IPY_MODEL_2be11c1125ec4a8fa1db33589e5a4548",
              "IPY_MODEL_daa0465c94574f25835262ee89ba158c"
            ],
            "layout": "IPY_MODEL_f1ac87e80735401db9afce26de371e21"
          }
        },
        "58d139f113bd4258baa544b89abe7825": {
          "model_module": "@jupyter-widgets/controls",
          "model_module_version": "1.5.0",
          "model_name": "HBoxModel",
          "state": {
            "_dom_classes": [],
            "_model_module": "@jupyter-widgets/controls",
            "_model_module_version": "1.5.0",
            "_model_name": "HBoxModel",
            "_view_count": null,
            "_view_module": "@jupyter-widgets/controls",
            "_view_module_version": "1.5.0",
            "_view_name": "HBoxView",
            "box_style": "",
            "children": [
              "IPY_MODEL_9693f7f641284d0f8003f28421a877d3",
              "IPY_MODEL_93a13003b5984bef9912572ad1636b14",
              "IPY_MODEL_64c4d7c3510e4fceb3ff54adcd977374"
            ],
            "layout": "IPY_MODEL_1e87f4e8c6304cc9ad44e3686b329cde"
          }
        },
        "60e6387f564a42729eaa2e1f5795a153": {
          "model_module": "@jupyter-widgets/base",
          "model_module_version": "1.2.0",
          "model_name": "LayoutModel",
          "state": {
            "_model_module": "@jupyter-widgets/base",
            "_model_module_version": "1.2.0",
            "_model_name": "LayoutModel",
            "_view_count": null,
            "_view_module": "@jupyter-widgets/base",
            "_view_module_version": "1.2.0",
            "_view_name": "LayoutView",
            "align_content": null,
            "align_items": null,
            "align_self": null,
            "border": null,
            "bottom": null,
            "display": null,
            "flex": null,
            "flex_flow": null,
            "grid_area": null,
            "grid_auto_columns": null,
            "grid_auto_flow": null,
            "grid_auto_rows": null,
            "grid_column": null,
            "grid_gap": null,
            "grid_row": null,
            "grid_template_areas": null,
            "grid_template_columns": null,
            "grid_template_rows": null,
            "height": null,
            "justify_content": null,
            "justify_items": null,
            "left": null,
            "margin": null,
            "max_height": null,
            "max_width": null,
            "min_height": null,
            "min_width": null,
            "object_fit": null,
            "object_position": null,
            "order": null,
            "overflow": null,
            "overflow_x": null,
            "overflow_y": null,
            "padding": null,
            "right": null,
            "top": null,
            "visibility": null,
            "width": null
          }
        },
        "64c4d7c3510e4fceb3ff54adcd977374": {
          "model_module": "@jupyter-widgets/controls",
          "model_module_version": "1.5.0",
          "model_name": "HTMLModel",
          "state": {
            "_dom_classes": [],
            "_model_module": "@jupyter-widgets/controls",
            "_model_module_version": "1.5.0",
            "_model_name": "HTMLModel",
            "_view_count": null,
            "_view_module": "@jupyter-widgets/controls",
            "_view_module_version": "1.5.0",
            "_view_name": "HTMLView",
            "description": "",
            "description_tooltip": null,
            "layout": "IPY_MODEL_c4e6e106538b40809dbba6616f3ed6e6",
            "placeholder": "​",
            "style": "IPY_MODEL_05c0b97dd4774fc09ec7b0d7be7eadef",
            "value": " 24999/25000 [00:00&lt;00:00, 87798.78 examples/s]"
          }
        },
        "6879de7e32aa4e3b8c15448889b06d0f": {
          "model_module": "@jupyter-widgets/controls",
          "model_module_version": "1.5.0",
          "model_name": "FloatProgressModel",
          "state": {
            "_dom_classes": [],
            "_model_module": "@jupyter-widgets/controls",
            "_model_module_version": "1.5.0",
            "_model_name": "FloatProgressModel",
            "_view_count": null,
            "_view_module": "@jupyter-widgets/controls",
            "_view_module_version": "1.5.0",
            "_view_name": "ProgressView",
            "bar_style": "info",
            "description": "",
            "description_tooltip": null,
            "layout": "IPY_MODEL_25eec44accb842bab4a022af0feafa1b",
            "max": 1,
            "min": 0,
            "orientation": "horizontal",
            "style": "IPY_MODEL_a45e11e5496d443d8648f9ea2185b69e",
            "value": 1
          }
        },
        "68b4a770738745aa91a2f95d5a5d1ed9": {
          "model_module": "@jupyter-widgets/controls",
          "model_module_version": "1.5.0",
          "model_name": "DescriptionStyleModel",
          "state": {
            "_model_module": "@jupyter-widgets/controls",
            "_model_module_version": "1.5.0",
            "_model_name": "DescriptionStyleModel",
            "_view_count": null,
            "_view_module": "@jupyter-widgets/base",
            "_view_module_version": "1.2.0",
            "_view_name": "StyleView",
            "description_width": ""
          }
        },
        "6a648135a8ab455cbb0cd2cb76fc11ae": {
          "model_module": "@jupyter-widgets/controls",
          "model_module_version": "1.5.0",
          "model_name": "DescriptionStyleModel",
          "state": {
            "_model_module": "@jupyter-widgets/controls",
            "_model_module_version": "1.5.0",
            "_model_name": "DescriptionStyleModel",
            "_view_count": null,
            "_view_module": "@jupyter-widgets/base",
            "_view_module_version": "1.2.0",
            "_view_name": "StyleView",
            "description_width": ""
          }
        },
        "6c85fd6a34f74e0ca59056661e38c21b": {
          "model_module": "@jupyter-widgets/base",
          "model_module_version": "1.2.0",
          "model_name": "LayoutModel",
          "state": {
            "_model_module": "@jupyter-widgets/base",
            "_model_module_version": "1.2.0",
            "_model_name": "LayoutModel",
            "_view_count": null,
            "_view_module": "@jupyter-widgets/base",
            "_view_module_version": "1.2.0",
            "_view_name": "LayoutView",
            "align_content": null,
            "align_items": null,
            "align_self": null,
            "border": null,
            "bottom": null,
            "display": null,
            "flex": null,
            "flex_flow": null,
            "grid_area": null,
            "grid_auto_columns": null,
            "grid_auto_flow": null,
            "grid_auto_rows": null,
            "grid_column": null,
            "grid_gap": null,
            "grid_row": null,
            "grid_template_areas": null,
            "grid_template_columns": null,
            "grid_template_rows": null,
            "height": null,
            "justify_content": null,
            "justify_items": null,
            "left": null,
            "margin": null,
            "max_height": null,
            "max_width": null,
            "min_height": null,
            "min_width": null,
            "object_fit": null,
            "object_position": null,
            "order": null,
            "overflow": null,
            "overflow_x": null,
            "overflow_y": null,
            "padding": null,
            "right": null,
            "top": null,
            "visibility": null,
            "width": "20px"
          }
        },
        "6d4f85bbbfdf447890ffd8560dc0fc03": {
          "model_module": "@jupyter-widgets/base",
          "model_module_version": "1.2.0",
          "model_name": "LayoutModel",
          "state": {
            "_model_module": "@jupyter-widgets/base",
            "_model_module_version": "1.2.0",
            "_model_name": "LayoutModel",
            "_view_count": null,
            "_view_module": "@jupyter-widgets/base",
            "_view_module_version": "1.2.0",
            "_view_name": "LayoutView",
            "align_content": null,
            "align_items": null,
            "align_self": null,
            "border": null,
            "bottom": null,
            "display": null,
            "flex": null,
            "flex_flow": null,
            "grid_area": null,
            "grid_auto_columns": null,
            "grid_auto_flow": null,
            "grid_auto_rows": null,
            "grid_column": null,
            "grid_gap": null,
            "grid_row": null,
            "grid_template_areas": null,
            "grid_template_columns": null,
            "grid_template_rows": null,
            "height": null,
            "justify_content": null,
            "justify_items": null,
            "left": null,
            "margin": null,
            "max_height": null,
            "max_width": null,
            "min_height": null,
            "min_width": null,
            "object_fit": null,
            "object_position": null,
            "order": null,
            "overflow": null,
            "overflow_x": null,
            "overflow_y": null,
            "padding": null,
            "right": null,
            "top": null,
            "visibility": null,
            "width": null
          }
        },
        "73f3e233e5b7400aa85678b96021d0a4": {
          "model_module": "@jupyter-widgets/controls",
          "model_module_version": "1.5.0",
          "model_name": "DescriptionStyleModel",
          "state": {
            "_model_module": "@jupyter-widgets/controls",
            "_model_module_version": "1.5.0",
            "_model_name": "DescriptionStyleModel",
            "_view_count": null,
            "_view_module": "@jupyter-widgets/base",
            "_view_module_version": "1.2.0",
            "_view_name": "StyleView",
            "description_width": ""
          }
        },
        "77317340d05d4ca6bc6a3319b441530e": {
          "model_module": "@jupyter-widgets/controls",
          "model_module_version": "1.5.0",
          "model_name": "HBoxModel",
          "state": {
            "_dom_classes": [],
            "_model_module": "@jupyter-widgets/controls",
            "_model_module_version": "1.5.0",
            "_model_name": "HBoxModel",
            "_view_count": null,
            "_view_module": "@jupyter-widgets/controls",
            "_view_module_version": "1.5.0",
            "_view_name": "HBoxView",
            "box_style": "",
            "children": [
              "IPY_MODEL_ebb8a36ff67a4b4ca0e3658751ae40dd",
              "IPY_MODEL_b2c54e2c66cb45fba2d692049d2f024e",
              "IPY_MODEL_8f629475c2554569957a85c9e2082cd7"
            ],
            "layout": "IPY_MODEL_e649180052294196ac67911cba325ef1"
          }
        },
        "7a83c9130cb7486ab6f1f37f7e9028d7": {
          "model_module": "@jupyter-widgets/base",
          "model_module_version": "1.2.0",
          "model_name": "LayoutModel",
          "state": {
            "_model_module": "@jupyter-widgets/base",
            "_model_module_version": "1.2.0",
            "_model_name": "LayoutModel",
            "_view_count": null,
            "_view_module": "@jupyter-widgets/base",
            "_view_module_version": "1.2.0",
            "_view_name": "LayoutView",
            "align_content": null,
            "align_items": null,
            "align_self": null,
            "border": null,
            "bottom": null,
            "display": null,
            "flex": null,
            "flex_flow": null,
            "grid_area": null,
            "grid_auto_columns": null,
            "grid_auto_flow": null,
            "grid_auto_rows": null,
            "grid_column": null,
            "grid_gap": null,
            "grid_row": null,
            "grid_template_areas": null,
            "grid_template_columns": null,
            "grid_template_rows": null,
            "height": null,
            "justify_content": null,
            "justify_items": null,
            "left": null,
            "margin": null,
            "max_height": null,
            "max_width": null,
            "min_height": null,
            "min_width": null,
            "object_fit": null,
            "object_position": null,
            "order": null,
            "overflow": null,
            "overflow_x": null,
            "overflow_y": null,
            "padding": null,
            "right": null,
            "top": null,
            "visibility": null,
            "width": "20px"
          }
        },
        "7d053abcf5bb4e88b49eec2c025e3877": {
          "model_module": "@jupyter-widgets/base",
          "model_module_version": "1.2.0",
          "model_name": "LayoutModel",
          "state": {
            "_model_module": "@jupyter-widgets/base",
            "_model_module_version": "1.2.0",
            "_model_name": "LayoutModel",
            "_view_count": null,
            "_view_module": "@jupyter-widgets/base",
            "_view_module_version": "1.2.0",
            "_view_name": "LayoutView",
            "align_content": null,
            "align_items": null,
            "align_self": null,
            "border": null,
            "bottom": null,
            "display": null,
            "flex": null,
            "flex_flow": null,
            "grid_area": null,
            "grid_auto_columns": null,
            "grid_auto_flow": null,
            "grid_auto_rows": null,
            "grid_column": null,
            "grid_gap": null,
            "grid_row": null,
            "grid_template_areas": null,
            "grid_template_columns": null,
            "grid_template_rows": null,
            "height": null,
            "justify_content": null,
            "justify_items": null,
            "left": null,
            "margin": null,
            "max_height": null,
            "max_width": null,
            "min_height": null,
            "min_width": null,
            "object_fit": null,
            "object_position": null,
            "order": null,
            "overflow": null,
            "overflow_x": null,
            "overflow_y": null,
            "padding": null,
            "right": null,
            "top": null,
            "visibility": null,
            "width": null
          }
        },
        "82c1fc47572346ba9ef8ec28863cb269": {
          "model_module": "@jupyter-widgets/controls",
          "model_module_version": "1.5.0",
          "model_name": "HBoxModel",
          "state": {
            "_dom_classes": [],
            "_model_module": "@jupyter-widgets/controls",
            "_model_module_version": "1.5.0",
            "_model_name": "HBoxModel",
            "_view_count": null,
            "_view_module": "@jupyter-widgets/controls",
            "_view_module_version": "1.5.0",
            "_view_name": "HBoxView",
            "box_style": "",
            "children": [
              "IPY_MODEL_05ccc416dad9450da5a644eaf0e1fb78",
              "IPY_MODEL_080876001c444bec8ba7f15f229b6255",
              "IPY_MODEL_005a78d7676642beb9c1573cae568dc6"
            ],
            "layout": "IPY_MODEL_d9e07082a2bc4becb4b58b19f9d2f58c"
          }
        },
        "82f02becdb674e8e9ac254eee9649ea5": {
          "model_module": "@jupyter-widgets/controls",
          "model_module_version": "1.5.0",
          "model_name": "HTMLModel",
          "state": {
            "_dom_classes": [],
            "_model_module": "@jupyter-widgets/controls",
            "_model_module_version": "1.5.0",
            "_model_name": "HTMLModel",
            "_view_count": null,
            "_view_module": "@jupyter-widgets/controls",
            "_view_module_version": "1.5.0",
            "_view_name": "HTMLView",
            "description": "",
            "description_tooltip": null,
            "layout": "IPY_MODEL_bb707b2925044e1badc778f2cab675fc",
            "placeholder": "​",
            "style": "IPY_MODEL_68b4a770738745aa91a2f95d5a5d1ed9",
            "value": "100%"
          }
        },
        "85cf79b16e3a41b5b4798f61baacfbdd": {
          "model_module": "@jupyter-widgets/base",
          "model_module_version": "1.2.0",
          "model_name": "LayoutModel",
          "state": {
            "_model_module": "@jupyter-widgets/base",
            "_model_module_version": "1.2.0",
            "_model_name": "LayoutModel",
            "_view_count": null,
            "_view_module": "@jupyter-widgets/base",
            "_view_module_version": "1.2.0",
            "_view_name": "LayoutView",
            "align_content": null,
            "align_items": null,
            "align_self": null,
            "border": null,
            "bottom": null,
            "display": null,
            "flex": null,
            "flex_flow": null,
            "grid_area": null,
            "grid_auto_columns": null,
            "grid_auto_flow": null,
            "grid_auto_rows": null,
            "grid_column": null,
            "grid_gap": null,
            "grid_row": null,
            "grid_template_areas": null,
            "grid_template_columns": null,
            "grid_template_rows": null,
            "height": null,
            "justify_content": null,
            "justify_items": null,
            "left": null,
            "margin": null,
            "max_height": null,
            "max_width": null,
            "min_height": null,
            "min_width": null,
            "object_fit": null,
            "object_position": null,
            "order": null,
            "overflow": null,
            "overflow_x": null,
            "overflow_y": null,
            "padding": null,
            "right": null,
            "top": null,
            "visibility": null,
            "width": null
          }
        },
        "8cf6aa8f4600418fb66f52ba577432ba": {
          "model_module": "@jupyter-widgets/controls",
          "model_module_version": "1.5.0",
          "model_name": "DescriptionStyleModel",
          "state": {
            "_model_module": "@jupyter-widgets/controls",
            "_model_module_version": "1.5.0",
            "_model_name": "DescriptionStyleModel",
            "_view_count": null,
            "_view_module": "@jupyter-widgets/base",
            "_view_module_version": "1.2.0",
            "_view_name": "StyleView",
            "description_width": ""
          }
        },
        "8f629475c2554569957a85c9e2082cd7": {
          "model_module": "@jupyter-widgets/controls",
          "model_module_version": "1.5.0",
          "model_name": "HTMLModel",
          "state": {
            "_dom_classes": [],
            "_model_module": "@jupyter-widgets/controls",
            "_model_module_version": "1.5.0",
            "_model_name": "HTMLModel",
            "_view_count": null,
            "_view_module": "@jupyter-widgets/controls",
            "_view_module_version": "1.5.0",
            "_view_name": "HTMLView",
            "description": "",
            "description_tooltip": null,
            "layout": "IPY_MODEL_b6227a287f924086a53dfa0c699117c5",
            "placeholder": "​",
            "style": "IPY_MODEL_4993a4d7487a47e4ba5d78f01b821764",
            "value": " 24977/0 [00:29&lt;00:00, 904.31 examples/s]"
          }
        },
        "93a13003b5984bef9912572ad1636b14": {
          "model_module": "@jupyter-widgets/controls",
          "model_module_version": "1.5.0",
          "model_name": "FloatProgressModel",
          "state": {
            "_dom_classes": [],
            "_model_module": "@jupyter-widgets/controls",
            "_model_module_version": "1.5.0",
            "_model_name": "FloatProgressModel",
            "_view_count": null,
            "_view_module": "@jupyter-widgets/controls",
            "_view_module_version": "1.5.0",
            "_view_name": "ProgressView",
            "bar_style": "danger",
            "description": "",
            "description_tooltip": null,
            "layout": "IPY_MODEL_4084a09e03be4718beac5b1fdb64fc2f",
            "max": 25000,
            "min": 0,
            "orientation": "horizontal",
            "style": "IPY_MODEL_ed311d78e85f4ad29eb77779d36d3d84",
            "value": 24999
          }
        },
        "94433b7ae57c4e0ebf9e4dde553d9660": {
          "model_module": "@jupyter-widgets/controls",
          "model_module_version": "1.5.0",
          "model_name": "DescriptionStyleModel",
          "state": {
            "_model_module": "@jupyter-widgets/controls",
            "_model_module_version": "1.5.0",
            "_model_name": "DescriptionStyleModel",
            "_view_count": null,
            "_view_module": "@jupyter-widgets/base",
            "_view_module_version": "1.2.0",
            "_view_name": "StyleView",
            "description_width": ""
          }
        },
        "9693f7f641284d0f8003f28421a877d3": {
          "model_module": "@jupyter-widgets/controls",
          "model_module_version": "1.5.0",
          "model_name": "HTMLModel",
          "state": {
            "_dom_classes": [],
            "_model_module": "@jupyter-widgets/controls",
            "_model_module_version": "1.5.0",
            "_model_name": "HTMLModel",
            "_view_count": null,
            "_view_module": "@jupyter-widgets/controls",
            "_view_module_version": "1.5.0",
            "_view_name": "HTMLView",
            "description": "",
            "description_tooltip": null,
            "layout": "IPY_MODEL_e0e5fef743de4cb98f83f0ad71223436",
            "placeholder": "​",
            "style": "IPY_MODEL_b48b7373b52a489ea0c6436dbb5c936d",
            "value": "100%"
          }
        },
        "96d2c3bffa8343318602dee39a5c6dcb": {
          "model_module": "@jupyter-widgets/controls",
          "model_module_version": "1.5.0",
          "model_name": "HBoxModel",
          "state": {
            "_dom_classes": [],
            "_model_module": "@jupyter-widgets/controls",
            "_model_module_version": "1.5.0",
            "_model_name": "HBoxModel",
            "_view_count": null,
            "_view_module": "@jupyter-widgets/controls",
            "_view_module_version": "1.5.0",
            "_view_name": "HBoxView",
            "box_style": "",
            "children": [
              "IPY_MODEL_d39c2ae69a2349198def2fa9cb0fd5ad",
              "IPY_MODEL_01efe180eb404d1b829c59de9c094f20",
              "IPY_MODEL_2cf2f432bb504de88cf2cf10dc1e5bf1"
            ],
            "layout": "IPY_MODEL_3dc3227268c1423780a9f840dc9201d2"
          }
        },
        "9828c972b0374a51a56e587937dda6e5": {
          "model_module": "@jupyter-widgets/controls",
          "model_module_version": "1.5.0",
          "model_name": "ProgressStyleModel",
          "state": {
            "_model_module": "@jupyter-widgets/controls",
            "_model_module_version": "1.5.0",
            "_model_name": "ProgressStyleModel",
            "_view_count": null,
            "_view_module": "@jupyter-widgets/base",
            "_view_module_version": "1.2.0",
            "_view_name": "StyleView",
            "bar_color": null,
            "description_width": ""
          }
        },
        "98c6dda4dd2947feb05461d875313eef": {
          "model_module": "@jupyter-widgets/controls",
          "model_module_version": "1.5.0",
          "model_name": "HBoxModel",
          "state": {
            "_dom_classes": [],
            "_model_module": "@jupyter-widgets/controls",
            "_model_module_version": "1.5.0",
            "_model_name": "HBoxModel",
            "_view_count": null,
            "_view_module": "@jupyter-widgets/controls",
            "_view_module_version": "1.5.0",
            "_view_name": "HBoxView",
            "box_style": "",
            "children": [
              "IPY_MODEL_fc18b3a21516441d8b9adcba1465a55f",
              "IPY_MODEL_6879de7e32aa4e3b8c15448889b06d0f",
              "IPY_MODEL_f9b82c4546c94ac7a00599d8ac0c98cf"
            ],
            "layout": "IPY_MODEL_1c00d8e6777246d3bae9c32e166872ff"
          }
        },
        "9ad4588fa7dc41f4aa8f7c51ea2474b9": {
          "model_module": "@jupyter-widgets/base",
          "model_module_version": "1.2.0",
          "model_name": "LayoutModel",
          "state": {
            "_model_module": "@jupyter-widgets/base",
            "_model_module_version": "1.2.0",
            "_model_name": "LayoutModel",
            "_view_count": null,
            "_view_module": "@jupyter-widgets/base",
            "_view_module_version": "1.2.0",
            "_view_name": "LayoutView",
            "align_content": null,
            "align_items": null,
            "align_self": null,
            "border": null,
            "bottom": null,
            "display": null,
            "flex": null,
            "flex_flow": null,
            "grid_area": null,
            "grid_auto_columns": null,
            "grid_auto_flow": null,
            "grid_auto_rows": null,
            "grid_column": null,
            "grid_gap": null,
            "grid_row": null,
            "grid_template_areas": null,
            "grid_template_columns": null,
            "grid_template_rows": null,
            "height": null,
            "justify_content": null,
            "justify_items": null,
            "left": null,
            "margin": null,
            "max_height": null,
            "max_width": null,
            "min_height": null,
            "min_width": null,
            "object_fit": null,
            "object_position": null,
            "order": null,
            "overflow": null,
            "overflow_x": null,
            "overflow_y": null,
            "padding": null,
            "right": null,
            "top": null,
            "visibility": null,
            "width": null
          }
        },
        "a06f9042d9db45beb9581c8ae74d1e9a": {
          "model_module": "@jupyter-widgets/base",
          "model_module_version": "1.2.0",
          "model_name": "LayoutModel",
          "state": {
            "_model_module": "@jupyter-widgets/base",
            "_model_module_version": "1.2.0",
            "_model_name": "LayoutModel",
            "_view_count": null,
            "_view_module": "@jupyter-widgets/base",
            "_view_module_version": "1.2.0",
            "_view_name": "LayoutView",
            "align_content": null,
            "align_items": null,
            "align_self": null,
            "border": null,
            "bottom": null,
            "display": null,
            "flex": null,
            "flex_flow": null,
            "grid_area": null,
            "grid_auto_columns": null,
            "grid_auto_flow": null,
            "grid_auto_rows": null,
            "grid_column": null,
            "grid_gap": null,
            "grid_row": null,
            "grid_template_areas": null,
            "grid_template_columns": null,
            "grid_template_rows": null,
            "height": null,
            "justify_content": null,
            "justify_items": null,
            "left": null,
            "margin": null,
            "max_height": null,
            "max_width": null,
            "min_height": null,
            "min_width": null,
            "object_fit": null,
            "object_position": null,
            "order": null,
            "overflow": null,
            "overflow_x": null,
            "overflow_y": null,
            "padding": null,
            "right": null,
            "top": null,
            "visibility": null,
            "width": "20px"
          }
        },
        "a2226574a16a48428a68a20d11d5b0b2": {
          "model_module": "@jupyter-widgets/controls",
          "model_module_version": "1.5.0",
          "model_name": "ProgressStyleModel",
          "state": {
            "_model_module": "@jupyter-widgets/controls",
            "_model_module_version": "1.5.0",
            "_model_name": "ProgressStyleModel",
            "_view_count": null,
            "_view_module": "@jupyter-widgets/base",
            "_view_module_version": "1.2.0",
            "_view_name": "StyleView",
            "bar_color": null,
            "description_width": ""
          }
        },
        "a45e11e5496d443d8648f9ea2185b69e": {
          "model_module": "@jupyter-widgets/controls",
          "model_module_version": "1.5.0",
          "model_name": "ProgressStyleModel",
          "state": {
            "_model_module": "@jupyter-widgets/controls",
            "_model_module_version": "1.5.0",
            "_model_name": "ProgressStyleModel",
            "_view_count": null,
            "_view_module": "@jupyter-widgets/base",
            "_view_module_version": "1.2.0",
            "_view_name": "StyleView",
            "bar_color": null,
            "description_width": ""
          }
        },
        "a5f839bb9aca407b9065036a15c66511": {
          "model_module": "@jupyter-widgets/controls",
          "model_module_version": "1.5.0",
          "model_name": "DescriptionStyleModel",
          "state": {
            "_model_module": "@jupyter-widgets/controls",
            "_model_module_version": "1.5.0",
            "_model_name": "DescriptionStyleModel",
            "_view_count": null,
            "_view_module": "@jupyter-widgets/base",
            "_view_module_version": "1.2.0",
            "_view_name": "StyleView",
            "description_width": ""
          }
        },
        "ac662a8cd799492ca126a546a8862473": {
          "model_module": "@jupyter-widgets/base",
          "model_module_version": "1.2.0",
          "model_name": "LayoutModel",
          "state": {
            "_model_module": "@jupyter-widgets/base",
            "_model_module_version": "1.2.0",
            "_model_name": "LayoutModel",
            "_view_count": null,
            "_view_module": "@jupyter-widgets/base",
            "_view_module_version": "1.2.0",
            "_view_name": "LayoutView",
            "align_content": null,
            "align_items": null,
            "align_self": null,
            "border": null,
            "bottom": null,
            "display": null,
            "flex": null,
            "flex_flow": null,
            "grid_area": null,
            "grid_auto_columns": null,
            "grid_auto_flow": null,
            "grid_auto_rows": null,
            "grid_column": null,
            "grid_gap": null,
            "grid_row": null,
            "grid_template_areas": null,
            "grid_template_columns": null,
            "grid_template_rows": null,
            "height": null,
            "justify_content": null,
            "justify_items": null,
            "left": null,
            "margin": null,
            "max_height": null,
            "max_width": null,
            "min_height": null,
            "min_width": null,
            "object_fit": null,
            "object_position": null,
            "order": null,
            "overflow": null,
            "overflow_x": null,
            "overflow_y": null,
            "padding": null,
            "right": null,
            "top": null,
            "visibility": null,
            "width": null
          }
        },
        "b2a8449484f5419785fae98e260ee10b": {
          "model_module": "@jupyter-widgets/base",
          "model_module_version": "1.2.0",
          "model_name": "LayoutModel",
          "state": {
            "_model_module": "@jupyter-widgets/base",
            "_model_module_version": "1.2.0",
            "_model_name": "LayoutModel",
            "_view_count": null,
            "_view_module": "@jupyter-widgets/base",
            "_view_module_version": "1.2.0",
            "_view_name": "LayoutView",
            "align_content": null,
            "align_items": null,
            "align_self": null,
            "border": null,
            "bottom": null,
            "display": null,
            "flex": null,
            "flex_flow": null,
            "grid_area": null,
            "grid_auto_columns": null,
            "grid_auto_flow": null,
            "grid_auto_rows": null,
            "grid_column": null,
            "grid_gap": null,
            "grid_row": null,
            "grid_template_areas": null,
            "grid_template_columns": null,
            "grid_template_rows": null,
            "height": null,
            "justify_content": null,
            "justify_items": null,
            "left": null,
            "margin": null,
            "max_height": null,
            "max_width": null,
            "min_height": null,
            "min_width": null,
            "object_fit": null,
            "object_position": null,
            "order": null,
            "overflow": null,
            "overflow_x": null,
            "overflow_y": null,
            "padding": null,
            "right": null,
            "top": null,
            "visibility": null,
            "width": "20px"
          }
        },
        "b2c54e2c66cb45fba2d692049d2f024e": {
          "model_module": "@jupyter-widgets/controls",
          "model_module_version": "1.5.0",
          "model_name": "FloatProgressModel",
          "state": {
            "_dom_classes": [],
            "_model_module": "@jupyter-widgets/controls",
            "_model_module_version": "1.5.0",
            "_model_name": "FloatProgressModel",
            "_view_count": null,
            "_view_module": "@jupyter-widgets/controls",
            "_view_module_version": "1.5.0",
            "_view_name": "ProgressView",
            "bar_style": "info",
            "description": "",
            "description_tooltip": null,
            "layout": "IPY_MODEL_6c85fd6a34f74e0ca59056661e38c21b",
            "max": 1,
            "min": 0,
            "orientation": "horizontal",
            "style": "IPY_MODEL_0f0b52323e074a6d81bce13a4884569c",
            "value": 1
          }
        },
        "b48b7373b52a489ea0c6436dbb5c936d": {
          "model_module": "@jupyter-widgets/controls",
          "model_module_version": "1.5.0",
          "model_name": "DescriptionStyleModel",
          "state": {
            "_model_module": "@jupyter-widgets/controls",
            "_model_module_version": "1.5.0",
            "_model_name": "DescriptionStyleModel",
            "_view_count": null,
            "_view_module": "@jupyter-widgets/base",
            "_view_module_version": "1.2.0",
            "_view_name": "StyleView",
            "description_width": ""
          }
        },
        "b6227a287f924086a53dfa0c699117c5": {
          "model_module": "@jupyter-widgets/base",
          "model_module_version": "1.2.0",
          "model_name": "LayoutModel",
          "state": {
            "_model_module": "@jupyter-widgets/base",
            "_model_module_version": "1.2.0",
            "_model_name": "LayoutModel",
            "_view_count": null,
            "_view_module": "@jupyter-widgets/base",
            "_view_module_version": "1.2.0",
            "_view_name": "LayoutView",
            "align_content": null,
            "align_items": null,
            "align_self": null,
            "border": null,
            "bottom": null,
            "display": null,
            "flex": null,
            "flex_flow": null,
            "grid_area": null,
            "grid_auto_columns": null,
            "grid_auto_flow": null,
            "grid_auto_rows": null,
            "grid_column": null,
            "grid_gap": null,
            "grid_row": null,
            "grid_template_areas": null,
            "grid_template_columns": null,
            "grid_template_rows": null,
            "height": null,
            "justify_content": null,
            "justify_items": null,
            "left": null,
            "margin": null,
            "max_height": null,
            "max_width": null,
            "min_height": null,
            "min_width": null,
            "object_fit": null,
            "object_position": null,
            "order": null,
            "overflow": null,
            "overflow_x": null,
            "overflow_y": null,
            "padding": null,
            "right": null,
            "top": null,
            "visibility": null,
            "width": null
          }
        },
        "bb707b2925044e1badc778f2cab675fc": {
          "model_module": "@jupyter-widgets/base",
          "model_module_version": "1.2.0",
          "model_name": "LayoutModel",
          "state": {
            "_model_module": "@jupyter-widgets/base",
            "_model_module_version": "1.2.0",
            "_model_name": "LayoutModel",
            "_view_count": null,
            "_view_module": "@jupyter-widgets/base",
            "_view_module_version": "1.2.0",
            "_view_name": "LayoutView",
            "align_content": null,
            "align_items": null,
            "align_self": null,
            "border": null,
            "bottom": null,
            "display": null,
            "flex": null,
            "flex_flow": null,
            "grid_area": null,
            "grid_auto_columns": null,
            "grid_auto_flow": null,
            "grid_auto_rows": null,
            "grid_column": null,
            "grid_gap": null,
            "grid_row": null,
            "grid_template_areas": null,
            "grid_template_columns": null,
            "grid_template_rows": null,
            "height": null,
            "justify_content": null,
            "justify_items": null,
            "left": null,
            "margin": null,
            "max_height": null,
            "max_width": null,
            "min_height": null,
            "min_width": null,
            "object_fit": null,
            "object_position": null,
            "order": null,
            "overflow": null,
            "overflow_x": null,
            "overflow_y": null,
            "padding": null,
            "right": null,
            "top": null,
            "visibility": null,
            "width": null
          }
        },
        "bc7cc93135f74862a0faf1978957fbab": {
          "model_module": "@jupyter-widgets/controls",
          "model_module_version": "1.5.0",
          "model_name": "FloatProgressModel",
          "state": {
            "_dom_classes": [],
            "_model_module": "@jupyter-widgets/controls",
            "_model_module_version": "1.5.0",
            "_model_name": "FloatProgressModel",
            "_view_count": null,
            "_view_module": "@jupyter-widgets/controls",
            "_view_module_version": "1.5.0",
            "_view_name": "ProgressView",
            "bar_style": "success",
            "description": "",
            "description_tooltip": null,
            "layout": "IPY_MODEL_7a83c9130cb7486ab6f1f37f7e9028d7",
            "max": 1,
            "min": 0,
            "orientation": "horizontal",
            "style": "IPY_MODEL_a2226574a16a48428a68a20d11d5b0b2",
            "value": 1
          }
        },
        "c4e6e106538b40809dbba6616f3ed6e6": {
          "model_module": "@jupyter-widgets/base",
          "model_module_version": "1.2.0",
          "model_name": "LayoutModel",
          "state": {
            "_model_module": "@jupyter-widgets/base",
            "_model_module_version": "1.2.0",
            "_model_name": "LayoutModel",
            "_view_count": null,
            "_view_module": "@jupyter-widgets/base",
            "_view_module_version": "1.2.0",
            "_view_name": "LayoutView",
            "align_content": null,
            "align_items": null,
            "align_self": null,
            "border": null,
            "bottom": null,
            "display": null,
            "flex": null,
            "flex_flow": null,
            "grid_area": null,
            "grid_auto_columns": null,
            "grid_auto_flow": null,
            "grid_auto_rows": null,
            "grid_column": null,
            "grid_gap": null,
            "grid_row": null,
            "grid_template_areas": null,
            "grid_template_columns": null,
            "grid_template_rows": null,
            "height": null,
            "justify_content": null,
            "justify_items": null,
            "left": null,
            "margin": null,
            "max_height": null,
            "max_width": null,
            "min_height": null,
            "min_width": null,
            "object_fit": null,
            "object_position": null,
            "order": null,
            "overflow": null,
            "overflow_x": null,
            "overflow_y": null,
            "padding": null,
            "right": null,
            "top": null,
            "visibility": null,
            "width": null
          }
        },
        "cc30aea7404142388a76c31fcb17a947": {
          "model_module": "@jupyter-widgets/controls",
          "model_module_version": "1.5.0",
          "model_name": "DescriptionStyleModel",
          "state": {
            "_model_module": "@jupyter-widgets/controls",
            "_model_module_version": "1.5.0",
            "_model_name": "DescriptionStyleModel",
            "_view_count": null,
            "_view_module": "@jupyter-widgets/base",
            "_view_module_version": "1.2.0",
            "_view_name": "StyleView",
            "description_width": ""
          }
        },
        "d2936ba814ac4c77b99de425e0f185f9": {
          "model_module": "@jupyter-widgets/controls",
          "model_module_version": "1.5.0",
          "model_name": "DescriptionStyleModel",
          "state": {
            "_model_module": "@jupyter-widgets/controls",
            "_model_module_version": "1.5.0",
            "_model_name": "DescriptionStyleModel",
            "_view_count": null,
            "_view_module": "@jupyter-widgets/base",
            "_view_module_version": "1.2.0",
            "_view_name": "StyleView",
            "description_width": ""
          }
        },
        "d39c2ae69a2349198def2fa9cb0fd5ad": {
          "model_module": "@jupyter-widgets/controls",
          "model_module_version": "1.5.0",
          "model_name": "HTMLModel",
          "state": {
            "_dom_classes": [],
            "_model_module": "@jupyter-widgets/controls",
            "_model_module_version": "1.5.0",
            "_model_name": "HTMLModel",
            "_view_count": null,
            "_view_module": "@jupyter-widgets/controls",
            "_view_module_version": "1.5.0",
            "_view_name": "HTMLView",
            "description": "",
            "description_tooltip": null,
            "layout": "IPY_MODEL_3dbb647fdcb246b49e3cae8506cca3a4",
            "placeholder": "​",
            "style": "IPY_MODEL_a5f839bb9aca407b9065036a15c66511",
            "value": "100%"
          }
        },
        "d57effc5a4bf4fb2becfaf9ec26b86fa": {
          "model_module": "@jupyter-widgets/controls",
          "model_module_version": "1.5.0",
          "model_name": "ProgressStyleModel",
          "state": {
            "_model_module": "@jupyter-widgets/controls",
            "_model_module_version": "1.5.0",
            "_model_name": "ProgressStyleModel",
            "_view_count": null,
            "_view_module": "@jupyter-widgets/base",
            "_view_module_version": "1.2.0",
            "_view_name": "StyleView",
            "bar_color": null,
            "description_width": ""
          }
        },
        "d9e07082a2bc4becb4b58b19f9d2f58c": {
          "model_module": "@jupyter-widgets/base",
          "model_module_version": "1.2.0",
          "model_name": "LayoutModel",
          "state": {
            "_model_module": "@jupyter-widgets/base",
            "_model_module_version": "1.2.0",
            "_model_name": "LayoutModel",
            "_view_count": null,
            "_view_module": "@jupyter-widgets/base",
            "_view_module_version": "1.2.0",
            "_view_name": "LayoutView",
            "align_content": null,
            "align_items": null,
            "align_self": null,
            "border": null,
            "bottom": null,
            "display": null,
            "flex": null,
            "flex_flow": null,
            "grid_area": null,
            "grid_auto_columns": null,
            "grid_auto_flow": null,
            "grid_auto_rows": null,
            "grid_column": null,
            "grid_gap": null,
            "grid_row": null,
            "grid_template_areas": null,
            "grid_template_columns": null,
            "grid_template_rows": null,
            "height": null,
            "justify_content": null,
            "justify_items": null,
            "left": null,
            "margin": null,
            "max_height": null,
            "max_width": null,
            "min_height": null,
            "min_width": null,
            "object_fit": null,
            "object_position": null,
            "order": null,
            "overflow": null,
            "overflow_x": null,
            "overflow_y": null,
            "padding": null,
            "right": null,
            "top": null,
            "visibility": null,
            "width": null
          }
        },
        "daa0465c94574f25835262ee89ba158c": {
          "model_module": "@jupyter-widgets/controls",
          "model_module_version": "1.5.0",
          "model_name": "HTMLModel",
          "state": {
            "_dom_classes": [],
            "_model_module": "@jupyter-widgets/controls",
            "_model_module_version": "1.5.0",
            "_model_name": "HTMLModel",
            "_view_count": null,
            "_view_module": "@jupyter-widgets/controls",
            "_view_module_version": "1.5.0",
            "_view_name": "HTMLView",
            "description": "",
            "description_tooltip": null,
            "layout": "IPY_MODEL_dcd5c62e87644224ba3835042c70cfbe",
            "placeholder": "​",
            "style": "IPY_MODEL_8cf6aa8f4600418fb66f52ba577432ba",
            "value": " 49918/0 [01:03&lt;00:00, 875.65 examples/s]"
          }
        },
        "db35d6e01e4740babc6a5b701b85eb6c": {
          "model_module": "@jupyter-widgets/base",
          "model_module_version": "1.2.0",
          "model_name": "LayoutModel",
          "state": {
            "_model_module": "@jupyter-widgets/base",
            "_model_module_version": "1.2.0",
            "_model_name": "LayoutModel",
            "_view_count": null,
            "_view_module": "@jupyter-widgets/base",
            "_view_module_version": "1.2.0",
            "_view_name": "LayoutView",
            "align_content": null,
            "align_items": null,
            "align_self": null,
            "border": null,
            "bottom": null,
            "display": null,
            "flex": null,
            "flex_flow": null,
            "grid_area": null,
            "grid_auto_columns": null,
            "grid_auto_flow": null,
            "grid_auto_rows": null,
            "grid_column": null,
            "grid_gap": null,
            "grid_row": null,
            "grid_template_areas": null,
            "grid_template_columns": null,
            "grid_template_rows": null,
            "height": null,
            "justify_content": null,
            "justify_items": null,
            "left": null,
            "margin": null,
            "max_height": null,
            "max_width": null,
            "min_height": null,
            "min_width": null,
            "object_fit": null,
            "object_position": null,
            "order": null,
            "overflow": null,
            "overflow_x": null,
            "overflow_y": null,
            "padding": null,
            "right": null,
            "top": null,
            "visibility": null,
            "width": null
          }
        },
        "dcd5c62e87644224ba3835042c70cfbe": {
          "model_module": "@jupyter-widgets/base",
          "model_module_version": "1.2.0",
          "model_name": "LayoutModel",
          "state": {
            "_model_module": "@jupyter-widgets/base",
            "_model_module_version": "1.2.0",
            "_model_name": "LayoutModel",
            "_view_count": null,
            "_view_module": "@jupyter-widgets/base",
            "_view_module_version": "1.2.0",
            "_view_name": "LayoutView",
            "align_content": null,
            "align_items": null,
            "align_self": null,
            "border": null,
            "bottom": null,
            "display": null,
            "flex": null,
            "flex_flow": null,
            "grid_area": null,
            "grid_auto_columns": null,
            "grid_auto_flow": null,
            "grid_auto_rows": null,
            "grid_column": null,
            "grid_gap": null,
            "grid_row": null,
            "grid_template_areas": null,
            "grid_template_columns": null,
            "grid_template_rows": null,
            "height": null,
            "justify_content": null,
            "justify_items": null,
            "left": null,
            "margin": null,
            "max_height": null,
            "max_width": null,
            "min_height": null,
            "min_width": null,
            "object_fit": null,
            "object_position": null,
            "order": null,
            "overflow": null,
            "overflow_x": null,
            "overflow_y": null,
            "padding": null,
            "right": null,
            "top": null,
            "visibility": null,
            "width": null
          }
        },
        "e0e5fef743de4cb98f83f0ad71223436": {
          "model_module": "@jupyter-widgets/base",
          "model_module_version": "1.2.0",
          "model_name": "LayoutModel",
          "state": {
            "_model_module": "@jupyter-widgets/base",
            "_model_module_version": "1.2.0",
            "_model_name": "LayoutModel",
            "_view_count": null,
            "_view_module": "@jupyter-widgets/base",
            "_view_module_version": "1.2.0",
            "_view_name": "LayoutView",
            "align_content": null,
            "align_items": null,
            "align_self": null,
            "border": null,
            "bottom": null,
            "display": null,
            "flex": null,
            "flex_flow": null,
            "grid_area": null,
            "grid_auto_columns": null,
            "grid_auto_flow": null,
            "grid_auto_rows": null,
            "grid_column": null,
            "grid_gap": null,
            "grid_row": null,
            "grid_template_areas": null,
            "grid_template_columns": null,
            "grid_template_rows": null,
            "height": null,
            "justify_content": null,
            "justify_items": null,
            "left": null,
            "margin": null,
            "max_height": null,
            "max_width": null,
            "min_height": null,
            "min_width": null,
            "object_fit": null,
            "object_position": null,
            "order": null,
            "overflow": null,
            "overflow_x": null,
            "overflow_y": null,
            "padding": null,
            "right": null,
            "top": null,
            "visibility": null,
            "width": null
          }
        },
        "e649180052294196ac67911cba325ef1": {
          "model_module": "@jupyter-widgets/base",
          "model_module_version": "1.2.0",
          "model_name": "LayoutModel",
          "state": {
            "_model_module": "@jupyter-widgets/base",
            "_model_module_version": "1.2.0",
            "_model_name": "LayoutModel",
            "_view_count": null,
            "_view_module": "@jupyter-widgets/base",
            "_view_module_version": "1.2.0",
            "_view_name": "LayoutView",
            "align_content": null,
            "align_items": null,
            "align_self": null,
            "border": null,
            "bottom": null,
            "display": null,
            "flex": null,
            "flex_flow": null,
            "grid_area": null,
            "grid_auto_columns": null,
            "grid_auto_flow": null,
            "grid_auto_rows": null,
            "grid_column": null,
            "grid_gap": null,
            "grid_row": null,
            "grid_template_areas": null,
            "grid_template_columns": null,
            "grid_template_rows": null,
            "height": null,
            "justify_content": null,
            "justify_items": null,
            "left": null,
            "margin": null,
            "max_height": null,
            "max_width": null,
            "min_height": null,
            "min_width": null,
            "object_fit": null,
            "object_position": null,
            "order": null,
            "overflow": null,
            "overflow_x": null,
            "overflow_y": null,
            "padding": null,
            "right": null,
            "top": null,
            "visibility": null,
            "width": null
          }
        },
        "ebb8a36ff67a4b4ca0e3658751ae40dd": {
          "model_module": "@jupyter-widgets/controls",
          "model_module_version": "1.5.0",
          "model_name": "HTMLModel",
          "state": {
            "_dom_classes": [],
            "_model_module": "@jupyter-widgets/controls",
            "_model_module_version": "1.5.0",
            "_model_name": "HTMLModel",
            "_view_count": null,
            "_view_module": "@jupyter-widgets/controls",
            "_view_module_version": "1.5.0",
            "_view_name": "HTMLView",
            "description": "",
            "description_tooltip": null,
            "layout": "IPY_MODEL_02757c8e403c4043b7a79db2c8799c32",
            "placeholder": "​",
            "style": "IPY_MODEL_6a648135a8ab455cbb0cd2cb76fc11ae",
            "value": ""
          }
        },
        "ed311d78e85f4ad29eb77779d36d3d84": {
          "model_module": "@jupyter-widgets/controls",
          "model_module_version": "1.5.0",
          "model_name": "ProgressStyleModel",
          "state": {
            "_model_module": "@jupyter-widgets/controls",
            "_model_module_version": "1.5.0",
            "_model_name": "ProgressStyleModel",
            "_view_count": null,
            "_view_module": "@jupyter-widgets/base",
            "_view_module_version": "1.2.0",
            "_view_name": "StyleView",
            "bar_color": null,
            "description_width": ""
          }
        },
        "f1ac87e80735401db9afce26de371e21": {
          "model_module": "@jupyter-widgets/base",
          "model_module_version": "1.2.0",
          "model_name": "LayoutModel",
          "state": {
            "_model_module": "@jupyter-widgets/base",
            "_model_module_version": "1.2.0",
            "_model_name": "LayoutModel",
            "_view_count": null,
            "_view_module": "@jupyter-widgets/base",
            "_view_module_version": "1.2.0",
            "_view_name": "LayoutView",
            "align_content": null,
            "align_items": null,
            "align_self": null,
            "border": null,
            "bottom": null,
            "display": null,
            "flex": null,
            "flex_flow": null,
            "grid_area": null,
            "grid_auto_columns": null,
            "grid_auto_flow": null,
            "grid_auto_rows": null,
            "grid_column": null,
            "grid_gap": null,
            "grid_row": null,
            "grid_template_areas": null,
            "grid_template_columns": null,
            "grid_template_rows": null,
            "height": null,
            "justify_content": null,
            "justify_items": null,
            "left": null,
            "margin": null,
            "max_height": null,
            "max_width": null,
            "min_height": null,
            "min_width": null,
            "object_fit": null,
            "object_position": null,
            "order": null,
            "overflow": null,
            "overflow_x": null,
            "overflow_y": null,
            "padding": null,
            "right": null,
            "top": null,
            "visibility": null,
            "width": null
          }
        },
        "f9b82c4546c94ac7a00599d8ac0c98cf": {
          "model_module": "@jupyter-widgets/controls",
          "model_module_version": "1.5.0",
          "model_name": "HTMLModel",
          "state": {
            "_dom_classes": [],
            "_model_module": "@jupyter-widgets/controls",
            "_model_module_version": "1.5.0",
            "_model_name": "HTMLModel",
            "_view_count": null,
            "_view_module": "@jupyter-widgets/controls",
            "_view_module_version": "1.5.0",
            "_view_name": "HTMLView",
            "description": "",
            "description_tooltip": null,
            "layout": "IPY_MODEL_db35d6e01e4740babc6a5b701b85eb6c",
            "placeholder": "​",
            "style": "IPY_MODEL_143cec69e4ed43e58c37b29a4cfbdc0b",
            "value": " 24985/0 [00:43&lt;00:00, 838.85 examples/s]"
          }
        },
        "fa02ee287bdf482a9945fce823acf5e4": {
          "model_module": "@jupyter-widgets/base",
          "model_module_version": "1.2.0",
          "model_name": "LayoutModel",
          "state": {
            "_model_module": "@jupyter-widgets/base",
            "_model_module_version": "1.2.0",
            "_model_name": "LayoutModel",
            "_view_count": null,
            "_view_module": "@jupyter-widgets/base",
            "_view_module_version": "1.2.0",
            "_view_name": "LayoutView",
            "align_content": null,
            "align_items": null,
            "align_self": null,
            "border": null,
            "bottom": null,
            "display": null,
            "flex": null,
            "flex_flow": null,
            "grid_area": null,
            "grid_auto_columns": null,
            "grid_auto_flow": null,
            "grid_auto_rows": null,
            "grid_column": null,
            "grid_gap": null,
            "grid_row": null,
            "grid_template_areas": null,
            "grid_template_columns": null,
            "grid_template_rows": null,
            "height": null,
            "justify_content": null,
            "justify_items": null,
            "left": null,
            "margin": null,
            "max_height": null,
            "max_width": null,
            "min_height": null,
            "min_width": null,
            "object_fit": null,
            "object_position": null,
            "order": null,
            "overflow": null,
            "overflow_x": null,
            "overflow_y": null,
            "padding": null,
            "right": null,
            "top": null,
            "visibility": null,
            "width": null
          }
        },
        "fc08314a9dd841e6b64d83ed496ea25b": {
          "model_module": "@jupyter-widgets/controls",
          "model_module_version": "1.5.0",
          "model_name": "ProgressStyleModel",
          "state": {
            "_model_module": "@jupyter-widgets/controls",
            "_model_module_version": "1.5.0",
            "_model_name": "ProgressStyleModel",
            "_view_count": null,
            "_view_module": "@jupyter-widgets/base",
            "_view_module_version": "1.2.0",
            "_view_name": "StyleView",
            "bar_color": null,
            "description_width": ""
          }
        },
        "fc18b3a21516441d8b9adcba1465a55f": {
          "model_module": "@jupyter-widgets/controls",
          "model_module_version": "1.5.0",
          "model_name": "HTMLModel",
          "state": {
            "_dom_classes": [],
            "_model_module": "@jupyter-widgets/controls",
            "_model_module_version": "1.5.0",
            "_model_name": "HTMLModel",
            "_view_count": null,
            "_view_module": "@jupyter-widgets/controls",
            "_view_module_version": "1.5.0",
            "_view_name": "HTMLView",
            "description": "",
            "description_tooltip": null,
            "layout": "IPY_MODEL_ac662a8cd799492ca126a546a8862473",
            "placeholder": "​",
            "style": "IPY_MODEL_d2936ba814ac4c77b99de425e0f185f9",
            "value": ""
          }
        },
        "fc808c0aa01f4141a6a1275d449c7434": {
          "model_module": "@jupyter-widgets/base",
          "model_module_version": "1.2.0",
          "model_name": "LayoutModel",
          "state": {
            "_model_module": "@jupyter-widgets/base",
            "_model_module_version": "1.2.0",
            "_model_name": "LayoutModel",
            "_view_count": null,
            "_view_module": "@jupyter-widgets/base",
            "_view_module_version": "1.2.0",
            "_view_name": "LayoutView",
            "align_content": null,
            "align_items": null,
            "align_self": null,
            "border": null,
            "bottom": null,
            "display": null,
            "flex": null,
            "flex_flow": null,
            "grid_area": null,
            "grid_auto_columns": null,
            "grid_auto_flow": null,
            "grid_auto_rows": null,
            "grid_column": null,
            "grid_gap": null,
            "grid_row": null,
            "grid_template_areas": null,
            "grid_template_columns": null,
            "grid_template_rows": null,
            "height": null,
            "justify_content": null,
            "justify_items": null,
            "left": null,
            "margin": null,
            "max_height": null,
            "max_width": null,
            "min_height": null,
            "min_width": null,
            "object_fit": null,
            "object_position": null,
            "order": null,
            "overflow": null,
            "overflow_x": null,
            "overflow_y": null,
            "padding": null,
            "right": null,
            "top": null,
            "visibility": null,
            "width": null
          }
        },
        "fd1bb4b1ede54ef88d4fda318a95cd2d": {
          "model_module": "@jupyter-widgets/controls",
          "model_module_version": "1.5.0",
          "model_name": "FloatProgressModel",
          "state": {
            "_dom_classes": [],
            "_model_module": "@jupyter-widgets/controls",
            "_model_module_version": "1.5.0",
            "_model_name": "FloatProgressModel",
            "_view_count": null,
            "_view_module": "@jupyter-widgets/controls",
            "_view_module_version": "1.5.0",
            "_view_name": "ProgressView",
            "bar_style": "danger",
            "description": "",
            "description_tooltip": null,
            "layout": "IPY_MODEL_60e6387f564a42729eaa2e1f5795a153",
            "max": 50000,
            "min": 0,
            "orientation": "horizontal",
            "style": "IPY_MODEL_fc08314a9dd841e6b64d83ed496ea25b",
            "value": 49999
          }
        }
      }
    }
  },
  "nbformat": 4,
  "nbformat_minor": 5
}
