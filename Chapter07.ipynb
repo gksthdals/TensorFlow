{
 "cells": [
  {
   "cell_type": "markdown",
   "metadata": {},
   "source": [
    "# 7.1 시계열 문제"
   ]
  },
  {
   "cell_type": "code",
   "execution_count": null,
   "metadata": {},
   "outputs": [],
   "source": [
    "# 불규칙 변동 (irregular variation)\n",
    "# 추세 변동 (trend variation)\n",
    "# 순환 변동 (cyclical variation)\n",
    "# 계절 변동 (seasonal variation)"
   ]
  },
  {
   "cell_type": "markdown",
   "metadata": {},
   "source": [
    "# 7.2 AR, MA, ARMA, ARIMA"
   ]
  },
  {
   "cell_type": "markdown",
   "metadata": {},
   "source": [
    "## 7.2.1 AR Model"
   ]
  },
  {
   "cell_type": "code",
   "execution_count": null,
   "metadata": {},
   "outputs": [],
   "source": [
    "# AutoRegression"
   ]
  },
  {
   "cell_type": "markdown",
   "metadata": {},
   "source": [
    "## 7.2.2 MA Model"
   ]
  },
  {
   "cell_type": "code",
   "execution_count": null,
   "metadata": {},
   "outputs": [],
   "source": [
    "# Moving Average"
   ]
  },
  {
   "cell_type": "markdown",
   "metadata": {},
   "source": [
    "## 7.2.3 ARMA Model"
   ]
  },
  {
   "cell_type": "code",
   "execution_count": null,
   "metadata": {},
   "outputs": [],
   "source": [
    "# AutoRegressive Moving Average"
   ]
  },
  {
   "cell_type": "markdown",
   "metadata": {},
   "source": [
    "## 7.2.4 ARIMA Model"
   ]
  },
  {
   "cell_type": "code",
   "execution_count": null,
   "metadata": {},
   "outputs": [],
   "source": [
    "# AutoRegressive Integrated Moving Average"
   ]
  },
  {
   "cell_type": "code",
   "execution_count": 1,
   "metadata": {},
   "outputs": [
    {
     "name": "stdout",
     "output_type": "stream",
     "text": [
      "Collecting statsmodels\n",
      "  Downloading statsmodels-0.13.2-cp39-cp39-macosx_11_0_arm64.whl (9.1 MB)\n",
      "     |████████████████████████████████| 9.1 MB 8.5 MB/s            \n",
      "\u001b[?25hRequirement already satisfied: numpy>=1.17 in /opt/homebrew/Caskroom/miniforge/base/envs/tensorflow/lib/python3.9/site-packages (from statsmodels) (1.21.4)\n",
      "Requirement already satisfied: packaging>=21.3 in /opt/homebrew/Caskroom/miniforge/base/envs/tensorflow/lib/python3.9/site-packages (from statsmodels) (21.3)\n",
      "Requirement already satisfied: pandas>=0.25 in /opt/homebrew/Caskroom/miniforge/base/envs/tensorflow/lib/python3.9/site-packages (from statsmodels) (1.3.4)\n",
      "Collecting patsy>=0.5.2\n",
      "  Downloading patsy-0.5.2-py2.py3-none-any.whl (233 kB)\n",
      "     |████████████████████████████████| 233 kB 6.1 MB/s            \n",
      "\u001b[?25hRequirement already satisfied: scipy>=1.3 in /opt/homebrew/Caskroom/miniforge/base/envs/tensorflow/lib/python3.9/site-packages (from statsmodels) (1.7.3)\n",
      "Requirement already satisfied: pyparsing!=3.0.5,>=2.0.2 in /opt/homebrew/Caskroom/miniforge/base/envs/tensorflow/lib/python3.9/site-packages (from packaging>=21.3->statsmodels) (3.0.6)\n",
      "Requirement already satisfied: python-dateutil>=2.7.3 in /opt/homebrew/Caskroom/miniforge/base/envs/tensorflow/lib/python3.9/site-packages (from pandas>=0.25->statsmodels) (2.8.2)\n",
      "Requirement already satisfied: pytz>=2017.3 in /opt/homebrew/Caskroom/miniforge/base/envs/tensorflow/lib/python3.9/site-packages (from pandas>=0.25->statsmodels) (2021.3)\n",
      "Requirement already satisfied: six in /opt/homebrew/Caskroom/miniforge/base/envs/tensorflow/lib/python3.9/site-packages (from patsy>=0.5.2->statsmodels) (1.15.0)\n",
      "Installing collected packages: patsy, statsmodels\n",
      "Successfully installed patsy-0.5.2 statsmodels-0.13.2\n"
     ]
    }
   ],
   "source": [
    "!pip install statsmodels"
   ]
  },
  {
   "cell_type": "code",
   "execution_count": 6,
   "metadata": {},
   "outputs": [
    {
     "name": "stdout",
     "output_type": "stream",
     "text": [
      "                               SARIMAX Results                                \n",
      "==============================================================================\n",
      "Dep. Variable:                  Sales   No. Observations:                   36\n",
      "Model:                 ARIMA(5, 1, 0)   Log Likelihood                -199.651\n",
      "Date:                Fri, 13 May 2022   AIC                            411.302\n",
      "Time:                        18:21:48   BIC                            420.634\n",
      "Sample:                    01-01-1991   HQIC                           414.523\n",
      "                         - 12-01-1993                                         \n",
      "Covariance Type:                  opg                                         \n",
      "==============================================================================\n",
      "                 coef    std err          z      P>|z|      [0.025      0.975]\n",
      "------------------------------------------------------------------------------\n",
      "ar.L1         -0.8788      0.227     -3.876      0.000      -1.323      -0.434\n",
      "ar.L2         -0.2787      0.232     -1.203      0.229      -0.733       0.176\n",
      "ar.L3         -0.0076      0.270     -0.028      0.978      -0.536       0.521\n",
      "ar.L4          0.3483      0.294      1.185      0.236      -0.228       0.924\n",
      "ar.L5          0.3772      0.207      1.826      0.068      -0.028       0.782\n",
      "sigma2      5049.2114   1540.731      3.277      0.001    2029.435    8068.988\n",
      "===================================================================================\n",
      "Ljung-Box (L1) (Q):                   0.39   Jarque-Bera (JB):                 1.60\n",
      "Prob(Q):                              0.53   Prob(JB):                         0.45\n",
      "Heteroskedasticity (H):               1.43   Skew:                             0.38\n",
      "Prob(H) (two-sided):                  0.54   Kurtosis:                         2.28\n",
      "===================================================================================\n",
      "\n",
      "Warnings:\n",
      "[1] Covariance matrix calculated using the outer product of gradients (complex-step).\n"
     ]
    },
    {
     "name": "stderr",
     "output_type": "stream",
     "text": [
      "/var/folders/lt/7j3txvvn1bgc84pp3c9kldcw0000gn/T/ipykernel_44881/1059719870.py:4: FutureWarning: The pandas.datetime class is deprecated and will be removed from pandas in a future version. Import from datetime module instead.\n",
      "  from pandas import datetime\n"
     ]
    },
    {
     "data": {
      "image/png": "[encoded data removed]",
      "text/plain": [
       "<Figure size 432x288 with 1 Axes>"
      ]
     },
     "metadata": {
      "needs_background": "light"
     },
     "output_type": "display_data"
    },
    {
     "name": "stdout",
     "output_type": "stream",
     "text": [
      "                0\n",
      "count   36.000000\n",
      "mean    22.459086\n",
      "std     82.505331\n",
      "min   -118.213281\n",
      "25%    -33.308343\n",
      "50%      1.361178\n",
      "75%     76.704967\n",
      "max    266.000000\n"
     ]
    }
   ],
   "source": [
    "# ARIMA() 함수를 호출하여 sales 데이터셋에 대한 예측\n",
    "\n",
    "from pandas import read_csv\n",
    "from pandas import datetime\n",
    "from pandas import DataFrame\n",
    "from statsmodels.tsa.arima.model import ARIMA\n",
    "from matplotlib import pyplot\n",
    "\n",
    "def parser(x):\n",
    "    return datetime.strptime('199'+x, '%Y-%m')\n",
    "\n",
    "series = read_csv('data/chap07/sales.csv', header=0, parse_dates=[0], index_col=0, squeeze=True, date_parser=parser)\n",
    "\n",
    "model = ARIMA(series, order=(5,1,0))\n",
    "model_fit = model.fit()\n",
    "print(model_fit.summary())\n",
    "residuals = DataFrame(model_fit.resid)\n",
    "residuals.plot()\n",
    "pyplot.show()\n",
    "print(residuals.describe())"
   ]
  },
  {
   "cell_type": "code",
   "execution_count": 7,
   "metadata": {},
   "outputs": [
    {
     "name": "stderr",
     "output_type": "stream",
     "text": [
      "/var/folders/lt/7j3txvvn1bgc84pp3c9kldcw0000gn/T/ipykernel_44881/3947531420.py:5: FutureWarning: The pandas.datetime class is deprecated and will be removed from pandas in a future version. Import from datetime module instead.\n",
      "  from pandas import datetime\n"
     ]
    },
    {
     "name": "stdout",
     "output_type": "stream",
     "text": [
      "predicted=352.855342, expected=346.300000\n",
      "predicted=277.398036, expected=329.700000\n",
      "predicted=368.753734, expected=445.400000\n",
      "predicted=331.773635, expected=325.900000\n",
      "predicted=372.070418, expected=449.300000\n",
      "predicted=360.020872, expected=411.300000\n",
      "predicted=454.526230, expected=417.400000\n",
      "predicted=388.690690, expected=545.500000\n",
      "predicted=437.632447, expected=477.600000\n",
      "predicted=516.437624, expected=687.000000\n",
      "predicted=520.916191, expected=435.300000\n",
      "predicted=675.594647, expected=587.300000\n",
      "predicted=505.201016, expected=676.900000\n",
      "Test MSE: 9118.818\n"
     ]
    },
    {
     "data": {
      "image/png": "[encoded data removed]",
      "text/plain": [
       "<Figure size 432x288 with 1 Axes>"
      ]
     },
     "metadata": {
      "needs_background": "light"
     },
     "output_type": "display_data"
    }
   ],
   "source": [
    "# statsmodels 라이브러리를 이용한 sales 데이터셋 예측\n",
    "\n",
    "import numpy as np\n",
    "from pandas import read_csv\n",
    "from pandas import datetime\n",
    "from matplotlib import pyplot\n",
    "from statsmodels.tsa.arima.model import ARIMA\n",
    "from sklearn.metrics import mean_squared_error\n",
    "\n",
    "def parser(x):\n",
    "    return datetime.strptime('199'+x, '%Y-%m')\n",
    "\n",
    "series = read_csv('data/chap07/sales.csv', header=0, parse_dates=[0], index_col=0, squeeze=True, date_parser=parser)\n",
    "\n",
    "X = series.values\n",
    "X = np.nan_to_num(X)\n",
    "size = int(len(X) * 0.66)\n",
    "train, test = X[:size], X[size:len(X)]\n",
    "history = [x for x in train]\n",
    "predictions = list()\n",
    "\n",
    "for t in range(len(test)):\n",
    "    model = ARIMA(history, order=(5,1,0))\n",
    "    model_fit = model.fit()\n",
    "    output = model_fit.forecast()\n",
    "    yhat = output[0]\n",
    "    predictions.append(yhat)\n",
    "    obs = test[t]\n",
    "    history.append(obs)\n",
    "    print('predicted=%f, expected=%f' % (yhat, obs))\n",
    "\n",
    "error = mean_squared_error(test, predictions)\n",
    "print('Test MSE: %.3f' % error)\n",
    "pyplot.plot(test)\n",
    "pyplot.plot(predictions, color='red')\n",
    "pyplot.show()"
   ]
  },
  {
   "cell_type": "markdown",
   "metadata": {},
   "source": [
    "# 7.3 순환 신경망 (RNN)"
   ]
  },
  {
   "cell_type": "markdown",
   "metadata": {},
   "source": [
    "## 7.3.1 RNN 계층과 셀"
   ]
  },
  {
   "cell_type": "markdown",
   "metadata": {},
   "source": [
    "# 7.4 RNN 구조"
   ]
  },
  {
   "cell_type": "markdown",
   "metadata": {},
   "source": [
    "## 7.4.1 RNN 셀 구현"
   ]
  },
  {
   "cell_type": "code",
   "execution_count": 8,
   "metadata": {},
   "outputs": [],
   "source": [
    "# 라이브러리 호출\n",
    "\n",
    "import os\n",
    "os.environ['TF_CPP_MIN_LOG_LEVEL'] = '2'\n",
    "\n",
    "import tensorflow as tf\n",
    "import numpy as np\n",
    "from tensorflow import keras\n",
    "from tensorflow.keras import layers\n",
    "from tensorflow.keras.models import Sequential\n",
    "from tensorflow.keras.layers import Dense\n",
    "from tensorflow.keras.optimizers import Adam"
   ]
  },
  {
   "cell_type": "code",
   "execution_count": 18,
   "metadata": {},
   "outputs": [],
   "source": [
    "# 값 초기화\n",
    "\n",
    "tf.random.set_seed(22)\n",
    "np.random.seed(22)\n",
    "assert tf.__version__.startswith('2.')\n",
    "\n",
    "batch_size = 128\n",
    "total_words = 10000\n",
    "max_review_len = 80\n",
    "embedding_len = 100"
   ]
  },
  {
   "cell_type": "code",
   "execution_count": 19,
   "metadata": {},
   "outputs": [
    {
     "name": "stderr",
     "output_type": "stream",
     "text": [
      "<__array_function__ internals>:5: VisibleDeprecationWarning: Creating an ndarray from ragged nested sequences (which is a list-or-tuple of lists-or-tuples-or ndarrays with different lengths or shapes) is deprecated. If you meant to do this, you must specify 'dtype=object' when creating the ndarray.\n",
      "/opt/homebrew/Caskroom/miniforge/base/envs/tensorflow/lib/python3.9/site-packages/tensorflow/python/keras/datasets/imdb.py:155: VisibleDeprecationWarning: Creating an ndarray from ragged nested sequences (which is a list-or-tuple of lists-or-tuples-or ndarrays with different lengths or shapes) is deprecated. If you meant to do this, you must specify 'dtype=object' when creating the ndarray.\n",
      "  x_train, y_train = np.array(xs[:idx]), np.array(labels[:idx])\n",
      "/opt/homebrew/Caskroom/miniforge/base/envs/tensorflow/lib/python3.9/site-packages/tensorflow/python/keras/datasets/imdb.py:156: VisibleDeprecationWarning: Creating an ndarray from ragged nested sequences (which is a list-or-tuple of lists-or-tuples-or ndarrays with different lengths or shapes) is deprecated. If you meant to do this, you must specify 'dtype=object' when creating the ndarray.\n",
      "  x_test, y_test = np.array(xs[idx:]), np.array(labels[idx:])\n"
     ]
    },
    {
     "name": "stdout",
     "output_type": "stream",
     "text": [
      "x_train_shape: (25000, 80) tf.Tensor(1, shape=(), dtype=int64) tf.Tensor(0, shape=(), dtype=int64)\n",
      "x_test_shape: (25000, 80)\n",
      "(128, 80)\n"
     ]
    }
   ],
   "source": [
    "# 데이터셋 준비\n",
    "\n",
    "(x_train, y_train), (x_test, y_test) = tf.keras.datasets.imdb.load_data(num_words=total_words)\n",
    "\n",
    "x_train = tf.keras.preprocessing.sequence.pad_sequences(x_train, maxlen=max_review_len)\n",
    "x_test = tf.keras.preprocessing.sequence.pad_sequences(x_test, maxlen=max_review_len)\n",
    "\n",
    "train_data = tf.data.Dataset.from_tensor_slices((x_train, y_train))\n",
    "train_data = train_data.shuffle(10000).batch(batch_size, drop_remainder=True)\n",
    "\n",
    "test_data = tf.data.Dataset.from_tensor_slices((x_test, y_test))\n",
    "test_data = test_data.batch(batch_size, drop_remainder=True)\n",
    "\n",
    "print('x_train_shape:', x_train.shape, tf.reduce_max(y_train), tf.reduce_min(y_train))\n",
    "print('x_test_shape:', x_test.shape)\n",
    "\n",
    "sample = next(iter(test_data))\n",
    "print(sample[0].shape)"
   ]
  },
  {
   "cell_type": "code",
   "execution_count": 22,
   "metadata": {},
   "outputs": [],
   "source": [
    "class RNN_Build(tf.keras.Model):\n",
    "    def __init__(self, units):\n",
    "        super(RNN_Build, self).__init__()\n",
    "\n",
    "        self.state0 = [tf.zeros([batch_size, units])]\n",
    "        self.state1 = [tf.zeros([batch_size, units])]\n",
    "        self.embedding = tf.keras.layers.Embedding(total_words, embedding_len, input_length=max_review_len)\n",
    "\n",
    "        self.RNNCell0 = tf.keras.layers.SimpleRNNCell(units, dropout=0.2)\n",
    "        self.RNNCell1 = tf.keras.layers.SimpleRNNCell(units, dropout=0.2)\n",
    "        self.outlayer = tf.keras.layers.Dense(1)\n",
    "\n",
    "    def call(self, inputs, training=None):\n",
    "        x = inputs\n",
    "        x = self.embedding(x)\n",
    "        state0 = self.state0\n",
    "        state1 = self.state1\n",
    "        for word in tf.unstack(x, axis=1):\n",
    "            out0, state0 = self.RNNCell0(word, state0, training)\n",
    "            out1, state1 = self.RNNCell1(out0, state1, training)\n",
    "        x = self.outlayer(out1)\n",
    "        prob = tf.sigmoid(x)\n",
    "        return prob"
   ]
  },
  {
   "cell_type": "code",
   "execution_count": 23,
   "metadata": {},
   "outputs": [
    {
     "name": "stdout",
     "output_type": "stream",
     "text": [
      "Epoch 1/4\n",
      "195/195 [==============================] - 32s 127ms/step - loss: 0.5654 - accuracy: 0.6764\n",
      "Epoch 2/4\n",
      "195/195 [==============================] - 36s 184ms/step - loss: 0.3227 - accuracy: 0.8672 - val_loss: 0.3982 - val_accuracy: 0.8262\n",
      "Epoch 3/4\n",
      "195/195 [==============================] - 26s 132ms/step - loss: 0.1901 - accuracy: 0.9294\n",
      "Epoch 4/4\n",
      "195/195 [==============================] - 33s 169ms/step - loss: 0.0814 - accuracy: 0.9718 - val_loss: 0.6771 - val_accuracy: 0.8177\n"
     ]
    },
    {
     "data": {
      "text/plain": [
       "<tensorflow.python.keras.callbacks.History at 0x2ed602f40>"
      ]
     },
     "execution_count": 23,
     "metadata": {},
     "output_type": "execute_result"
    }
   ],
   "source": [
    "# 모델 훈련\n",
    "\n",
    "import time\n",
    "units = 64\n",
    "epochs = 4\n",
    "t0 = time.time()\n",
    "\n",
    "model = RNN_Build(units)\n",
    "model.compile(optimizer=tf.keras.optimizers.Adam(0.001), loss=tf.losses.BinaryCrossentropy(), metrics=['accuracy'], experimental_run_tf_function=False)\n",
    "\n",
    "model.fit(train_data, epochs=epochs, validation_data=test_data, validation_freq=2)"
   ]
  },
  {
   "cell_type": "markdown",
   "metadata": {},
   "source": [
    "## 7.4.2 RNN 계층 구현"
   ]
  },
  {
   "cell_type": "code",
   "execution_count": 24,
   "metadata": {},
   "outputs": [],
   "source": [
    "# 네트워크(신경망) 구축\n",
    "\n",
    "class RNN_Build(tf.keras.Model):\n",
    "    def __init__(self, units):\n",
    "        super(RNN_Build, self).__init__()\n",
    "        self.embedding = tf.keras.layers.Embedding(total_words, embedding_len, input_length=max_review_len)\n",
    "\n",
    "        self.rnn = tf.keras.Sequential([\n",
    "            tf.keras.layers.SimpleRNN(units, dropout=0.5, return_sequences=True),\n",
    "            tf.keras.layers.SimpleRNN(units, dropout=0.5)\n",
    "        ])\n",
    "        self.outlayer = tf.keras.layers.Dense(1)\n",
    "    \n",
    "    def call(self, inputs, training=None):\n",
    "        x = inputs\n",
    "        x = self.embedding(x)\n",
    "        x = self.rnn(x)\n",
    "        x = self.outlayer(x)\n",
    "        prob = tf.sigmoid(x)\n",
    "        \n",
    "        return prob"
   ]
  },
  {
   "cell_type": "code",
   "execution_count": null,
   "metadata": {},
   "outputs": [],
   "source": [
    "# 모델 훈련\n",
    "\n",
    "import time\n",
    "units = 64\n",
    "epochs = 4\n",
    "t0 = time.time()\n",
    "\n",
    "model = RNN_Build(units)\n",
    "model.compile(optimizer=tf.keras.optimizers.Adam(0.001), loss=tf.losses.BinaryCrossentropy(), metrics=['accuracy'], experimental_run_tf_function=False)\n",
    "\n",
    "model.fit(train_data, epochs=epochs, validation_data=test_data, validation_freq=2)"
   ]
  },
  {
   "cell_type": "markdown",
   "metadata": {},
   "source": [
    "# 7.5 LSTM"
   ]
  },
  {
   "cell_type": "markdown",
   "metadata": {},
   "source": [
    "## 7.5.1 LSTM 구조"
   ]
  },
  {
   "cell_type": "code",
   "execution_count": null,
   "metadata": {},
   "outputs": [],
   "source": [
    "# Forget Gate : 과거 정보를 어느 정도 기억할지 결정\n",
    "# Input  Gate : 현재 정보를 기억\n",
    "# Output Gate : 과거 정보와 현재 데이터를 사용하여 뉴련의 출력을 결정"
   ]
  },
  {
   "cell_type": "markdown",
   "metadata": {},
   "source": [
    "## 7.5.2 LSTM 셀 구현"
   ]
  },
  {
   "cell_type": "code",
   "execution_count": 26,
   "metadata": {},
   "outputs": [],
   "source": [
    "# 네트워크 생성\n",
    "\n",
    "class LSTM_Build(tf.keras.Model):\n",
    "    def __init__(self, units):\n",
    "        super(LSTM_Build, self).__init__()\n",
    "\n",
    "        self.state0 = [tf.zeros([batch_size, units]), tf.zeros([batch_size, units])]\n",
    "        self.state1 = [tf.zeros([batch_size, units]), tf.zeros([batch_size, units])]\n",
    "\n",
    "        self.embedding = tf.keras.layers.Embedding(total_words, embedding_len, input_length=max_review_len)\n",
    "        self.RNNCell0 = tf.keras.layers.LSTMCell(units, dropout=0.5)\n",
    "        self.RNNCell1 = tf.keras.layers.LSTMCell(units, dropout=0.5)\n",
    "        self.outlayer = tf.keras.layers.Dense(1)\n",
    "\n",
    "    def call(self, inputs, training=None):\n",
    "        x = inputs\n",
    "        x = self.embedding(x)\n",
    "        state0 = self.state0\n",
    "        state1 = self.state1\n",
    "        for word in tf.unstack(x, axis=1):\n",
    "            out0, state0 = self.RNNCell0(word, state0, training)\n",
    "            out1, state1 = self.RNNCell1(out0, state1, training)\n",
    "        \n",
    "        x = self.outlayer(out1)\n",
    "        prob = tf.sigmoid(x)\n",
    "\n",
    "        return prob"
   ]
  },
  {
   "cell_type": "code",
   "execution_count": 27,
   "metadata": {},
   "outputs": [
    {
     "name": "stdout",
     "output_type": "stream",
     "text": [
      "Epoch 1/4\n",
      "195/195 [==============================] - 83s 326ms/step - loss: 0.4845 - accuracy: 0.7529\n",
      "Epoch 2/4\n",
      "195/195 [==============================] - 87s 449ms/step - loss: 0.3105 - accuracy: 0.8694 - val_loss: 0.3763 - val_accuracy: 0.8368\n",
      "Epoch 3/4\n",
      "195/195 [==============================] - 54s 275ms/step - loss: 0.2567 - accuracy: 0.8980\n",
      "Epoch 4/4\n",
      "195/195 [==============================] - 79s 406ms/step - loss: 0.2174 - accuracy: 0.9146 - val_loss: 0.4126 - val_accuracy: 0.8324\n"
     ]
    },
    {
     "data": {
      "text/plain": [
       "<tensorflow.python.keras.callbacks.History at 0x29839e2b0>"
      ]
     },
     "execution_count": 27,
     "metadata": {},
     "output_type": "execute_result"
    }
   ],
   "source": [
    "# 모델 훈련\n",
    "\n",
    "import time\n",
    "units = 64\n",
    "epochs = 4\n",
    "t0 = time.time()\n",
    "\n",
    "model = LSTM_Build(units)\n",
    "model.compile(optimizer=tf.keras.optimizers.Adam(0.001), loss=tf.losses.BinaryCrossentropy(), metrics=['accuracy'], experimental_run_tf_function=False)\n",
    "\n",
    "model.fit(train_data, epochs=epochs, validation_data=test_data, validation_freq=2)"
   ]
  },
  {
   "cell_type": "code",
   "execution_count": 28,
   "metadata": {},
   "outputs": [
    {
     "name": "stdout",
     "output_type": "stream",
     "text": [
      "훈련 데이터셋 평가...\n",
      "loss=0.1375, accuracy: 95.6450%\n",
      "테스트 데이터셋 평가...\n",
      "loss=0.4126, accuracy: 83.2412%\n",
      "시간: 347.9272859096527\n"
     ]
    }
   ],
   "source": [
    "print(\"훈련 데이터셋 평가...\")\n",
    "(loss, accuracy) = model.evaluate(train_data, verbose=0)\n",
    "print(\"loss={:.4f}, accuracy: {:.4f}%\".format(loss, accuracy * 100))\n",
    "print(\"테스트 데이터셋 평가...\")\n",
    "(loss, accuracy) = model.evaluate(test_data, verbose=0)\n",
    "print(\"loss={:.4f}, accuracy: {:.4f}%\".format(loss, accuracy * 100))\n",
    "\n",
    "t1 = time.time()\n",
    "print(\"시간:\", t1-t0)"
   ]
  },
  {
   "cell_type": "markdown",
   "metadata": {},
   "source": [
    "## 7.5.3 LSTM 계층 구현"
   ]
  },
  {
   "cell_type": "code",
   "execution_count": 29,
   "metadata": {},
   "outputs": [],
   "source": [
    "# 네트워크 생성\n",
    "\n",
    "class LSTM_Build(tf.keras.Model):\n",
    "\n",
    "    def __init__(self, units):\n",
    "        super(LSTM_Build, self).__init__()\n",
    "\n",
    "        self.embedding = tf.keras.layers.Embedding(total_words, embedding_len, input_length=max_review_len)\n",
    "        self.rnn = tf.keras.Sequential([\n",
    "            tf.keras.layers.LSTM(units, dropout=0.5, return_sequences=True, unroll=True),\n",
    "            tf.keras.layers.LSTM(units, dropout=0.5, unroll=True)\n",
    "        ])\n",
    "        self.outlayer = tf.keras.layers.Dense(1)\n",
    "    \n",
    "    def call(self, inputs, training=None):\n",
    "        x = inputs\n",
    "        x = self.embedding(x)\n",
    "        x = self.rnn(x)\n",
    "        x = self.outlayer(x)\n",
    "        prob = tf.sigmoid(x)\n",
    "\n",
    "        return prob"
   ]
  },
  {
   "cell_type": "code",
   "execution_count": null,
   "metadata": {},
   "outputs": [],
   "source": [
    "# 모델 훈련\n",
    "\n",
    "import time\n",
    "units = 64\n",
    "epochs = 4\n",
    "t0 = time.time()\n",
    "\n",
    "model = LSTM_Build(units)\n",
    "model.compile(optimizer=tf.keras.optimizers.Adam(0.001), loss=tf.losses.BinaryCrossentropy(), metrics=['accuracy'], experimental_run_tf_function=False)\n",
    "\n",
    "model.fit(train_data, epochs=epochs, validation_data=test_data, validation_freq=2)"
   ]
  },
  {
   "cell_type": "markdown",
   "metadata": {},
   "source": [
    "# 7.6 게이트 순환 신경망 (GRU)"
   ]
  },
  {
   "cell_type": "markdown",
   "metadata": {},
   "source": [
    "## 7.6.1 GRU 구조"
   ]
  },
  {
   "cell_type": "code",
   "execution_count": null,
   "metadata": {},
   "outputs": [],
   "source": [
    "# Reset  Gate : 과거 정보를 적당히 초기화시키려는 목적\n",
    "# Update Gate : 과거와 현재 정보의 최신화 비율을 결정하는 역할"
   ]
  },
  {
   "cell_type": "markdown",
   "metadata": {},
   "source": [
    "## 7.6.2 GRU 셀 구현"
   ]
  },
  {
   "cell_type": "code",
   "execution_count": 34,
   "metadata": {},
   "outputs": [],
   "source": [
    "# 네트워크 생성\n",
    "\n",
    "class GRU_Build(tf.keras.Model):\n",
    "    \n",
    "    def __init__(self, units):\n",
    "        super(GRU_Build, self).__init__()\n",
    "\n",
    "        self.state0 = [tf.zeros([batch_size, units])]\n",
    "        self.state1 = [tf.zeros([batch_size, units])]\n",
    "\n",
    "        self.embedding = tf.keras.layers.Embedding(total_words, embedding_len, input_length=max_review_len)\n",
    "        self.RNNCell0 = tf.keras.layers.GRUCell(units, dropout=0.5)\n",
    "        self.RNNCell1 = tf.keras.layers.GRUCell(units, dropout=0.5)\n",
    "        self.outlayer = tf.keras.layers.Dense(1)\n",
    "\n",
    "    def call(self, inputs, training=None):\n",
    "        x = inputs\n",
    "        x = self.embedding(x)\n",
    "        state0 = self.state0\n",
    "        state1 = self.state1\n",
    "        for word in tf.unstack(x, axis=1):\n",
    "            out0, state0 = self.RNNCell0(word, state0, training)\n",
    "            out1, state1 = self.RNNCell1(out0, state1, training)\n",
    "        \n",
    "        x = self.outlayer(out1)\n",
    "        prob = tf.sigmoid(x)\n",
    "\n",
    "        return prob"
   ]
  },
  {
   "cell_type": "code",
   "execution_count": 35,
   "metadata": {},
   "outputs": [
    {
     "name": "stdout",
     "output_type": "stream",
     "text": [
      "Epoch 1/4\n",
      "195/195 [==============================] - 120s 468ms/step - loss: 0.5133 - accuracy: 0.7302\n",
      "Epoch 2/4\n",
      "195/195 [==============================] - 127s 655ms/step - loss: 0.3285 - accuracy: 0.8615 - val_loss: 0.3769 - val_accuracy: 0.8331\n",
      "Epoch 3/4\n",
      "195/195 [==============================] - 73s 373ms/step - loss: 0.2720 - accuracy: 0.8903\n",
      "Epoch 4/4\n",
      "195/195 [==============================] - 97s 498ms/step - loss: 0.2373 - accuracy: 0.9081 - val_loss: 0.3877 - val_accuracy: 0.8365\n"
     ]
    },
    {
     "data": {
      "text/plain": [
       "<tensorflow.python.keras.callbacks.History at 0x3b3124790>"
      ]
     },
     "execution_count": 35,
     "metadata": {},
     "output_type": "execute_result"
    }
   ],
   "source": [
    "# 모델 훈련\n",
    "\n",
    "import time\n",
    "units = 64\n",
    "epochs = 4\n",
    "t0 = time.time()\n",
    "\n",
    "model = GRU_Build(units)\n",
    "model.compile(optimizer=tf.keras.optimizers.Adam(0.001), loss=tf.losses.BinaryCrossentropy(), metrics=['accuracy'], experimental_run_tf_function=False)\n",
    "\n",
    "model.fit(train_data, epochs=epochs, validation_data=test_data, validation_freq=2)"
   ]
  },
  {
   "cell_type": "code",
   "execution_count": 36,
   "metadata": {},
   "outputs": [
    {
     "name": "stdout",
     "output_type": "stream",
     "text": [
      "훈련 데이터셋 평가...\n",
      "loss=0.1685, accuracy: 94.5312%\n",
      "테스트 데이터셋 평가...\n",
      "loss=0.3877, accuracy: 83.6458%\n",
      "시간: 476.8054096698761\n"
     ]
    }
   ],
   "source": [
    "print(\"훈련 데이터셋 평가...\")\n",
    "(loss, accuracy) = model.evaluate(train_data, verbose=0)\n",
    "print(\"loss={:.4f}, accuracy: {:.4f}%\".format(loss, accuracy * 100))\n",
    "print(\"테스트 데이터셋 평가...\")\n",
    "(loss, accuracy) = model.evaluate(test_data, verbose=0)\n",
    "print(\"loss={:.4f}, accuracy: {:.4f}%\".format(loss, accuracy * 100))\n",
    "\n",
    "t1 = time.time()\n",
    "print(\"시간:\", t1-t0)"
   ]
  },
  {
   "cell_type": "markdown",
   "metadata": {},
   "source": [
    "## 7.6.3 GRU 계층 구현"
   ]
  },
  {
   "cell_type": "code",
   "execution_count": 37,
   "metadata": {},
   "outputs": [],
   "source": [
    "# 네트워크 생성\n",
    "\n",
    "class GRU_Build(tf.keras.Model):\n",
    "\n",
    "    def __init__(self, units):\n",
    "        super(GRU_Build, self).__init__()\n",
    "\n",
    "        self.embedding = tf.keras.layers.Embedding(total_words, embedding_len, input_length=max_review_len)\n",
    "        self.rnn = tf.keras.Sequential([\n",
    "            tf.keras.layers.GRU(units, dropout=0.5, return_sequences=True, unroll=True),\n",
    "            tf.keras.layers.GRU(units, dropout=0.5, unroll=True)\n",
    "        ])\n",
    "        self.outlayer = tf.keras.layers.Dense(1)\n",
    "\n",
    "    def call(self, inputs, training=None):\n",
    "        x = inputs\n",
    "        x = self.embedding(x)\n",
    "        x = self.rnn(x)\n",
    "        x = self.outlayer(x)\n",
    "        prob = tf.sigmoid(x)\n",
    "\n",
    "        return prob"
   ]
  },
  {
   "cell_type": "code",
   "execution_count": null,
   "metadata": {},
   "outputs": [],
   "source": [
    "# 모델 훈련\n",
    "\n",
    "import time\n",
    "units = 64\n",
    "epochs = 4\n",
    "t0 = time.time()\n",
    "\n",
    "model = GRU_Build(units)\n",
    "model.compile(optimizer=tf.keras.optimizers.Adam(0.001), loss=tf.losses.BinaryCrossentropy(), metrics=['accuracy'], experimental_run_tf_function=False)\n",
    "\n",
    "model.fit(train_data, epochs=epochs, validation_data=test_data, validation_freq=2)"
   ]
  },
  {
   "cell_type": "markdown",
   "metadata": {},
   "source": [
    "# 7.7 RNN, LSTM, GRU 성능 비교"
   ]
  },
  {
   "cell_type": "markdown",
   "metadata": {},
   "source": [
    "# 7.8 양방향 RNN"
   ]
  },
  {
   "cell_type": "markdown",
   "metadata": {},
   "source": [
    "## 7.8.1 양방향 RNN 구조"
   ]
  },
  {
   "cell_type": "markdown",
   "metadata": {},
   "source": [
    "## 7.8.2 양방향 RNN 구현"
   ]
  },
  {
   "cell_type": "code",
   "execution_count": null,
   "metadata": {},
   "outputs": [],
   "source": [
    "# 모델을 생성하고 훈련\n",
    "\n",
    "import numpy as np\n",
    "from tensorflow.keras.preprocessing import sequence\n",
    "from tensorflow.keras.models import Sequential\n",
    "from tensorflow.keras.layers import Dense, Dropout, Embedding, LSTM, Bidirectional\n",
    "from tensorflow.keras.optimizers import Adam\n",
    "from tensorflow.keras.datasets import imdb\n",
    "\n",
    "n_unique_words = 10000\n",
    "maxlen = 200\n",
    "batch_size = 128\n",
    "\n",
    "(x_train, y_train), (x_test, y_test) = imdb.load_data(num_words=n_unique_words)\n",
    "x_train = sequence.pad_sequences(x_train, maxlen=maxlen)\n",
    "x_test = sequence.pad_sequences(x_test, maxlen=maxlen)\n",
    "y_train = np.array(y_train)\n",
    "y_test = np.array(y_test)\n",
    "\n",
    "model = Sequential()\n",
    "model.add(Embedding(n_unique_words, 128, input_length=maxlen))\n",
    "model.add(Bidirectional(LSTM(64)))\n",
    "model.add(Dropout(0.5))\n",
    "model.add(Dense(1, activation='sigmoid'))\n",
    "\n",
    "model.compile(loss='binary_crossentropy', optimizer='adam', metrics=['accuracy'])\n",
    "\n",
    "model.fit(x_train, y_train, batch_size=batch_size, epochs=4, validation_data=[x_test, y_test])"
   ]
  },
  {
   "cell_type": "code",
   "execution_count": null,
   "metadata": {},
   "outputs": [],
   "source": [
    "model.summary()"
   ]
  }
 ],
 "metadata": {
  "interpreter": {
   "hash": "4bd624a0593993fe43ac4046b27b898fb2ef75c21c08f81e89e64ea0f51df676"
  },
  "kernelspec": {
   "display_name": "Python 3.9.7 ('tensorflow')",
   "language": "python",
   "name": "python3"
  },
  "language_info": {
   "codemirror_mode": {
    "name": "ipython",
    "version": 3
   },
   "file_extension": ".py",
   "mimetype": "text/x-python",
   "name": "python",
   "nbconvert_exporter": "python",
   "pygments_lexer": "ipython3",
   "version": "3.9.7"
  },
  "orig_nbformat": 4
 },
 "nbformat": 4,
 "nbformat_minor": 2
}
