{
  "nbformat": 4,
  "nbformat_minor": 0,
  "metadata": {
    "colab": {
      "name": "Chapter09.ipynb",
      "provenance": [],
      "collapsed_sections": []
    },
    "kernelspec": {
      "name": "python3",
      "display_name": "Python 3"
    },
    "language_info": {
      "name": "python"
    },
    "accelerator": "GPU"
  },
  "cells": [
    {
      "cell_type": "markdown",
      "source": [
        "# 9.1 자연어 처리란"
      ],
      "metadata": {
        "id": "_6EdSsQJzOuI"
      }
    },
    {
      "cell_type": "markdown",
      "source": [
        "## 9.1.1 자연어 처리 용어 및 과정"
      ],
      "metadata": {
        "id": "vjYjIYDazfXR"
      }
    },
    {
      "cell_type": "code",
      "source": [
        "# corpus\n",
        "# token, tokenization\n",
        "# stop words: 문장의 의미와 관계가 없으며 'a', 'the', 'she', 'he' 등등\n",
        "# stemming: 단어를 기본 형태로 만드는 작업 ex) consigned, consigning, consignment -> consign\n",
        "# part-of-speech tagging: 주어진 문장에서 품사를 식별하기 위해 붙여주는 태그 ex) Det, Noun, Verb, Prep, ..."
      ],
      "metadata": {
        "id": "4bvQqnI4zj4H"
      },
      "execution_count": 1,
      "outputs": []
    },
    {
      "cell_type": "code",
      "source": [
        "!pip install nltk"
      ],
      "metadata": {
        "colab": {
          "base_uri": "https://localhost:8080/"
        },
        "id": "85Dk0anz0YVk",
        "outputId": "944c3d14-67d3-4364-aa80-983ebc4ea9e9"
      },
      "execution_count": 2,
      "outputs": [
        {
          "output_type": "stream",
          "name": "stdout",
          "text": [
            "Requirement already satisfied: nltk in /usr/local/lib/python3.7/dist-packages (3.2.5)\n",
            "Requirement already satisfied: six in /usr/local/lib/python3.7/dist-packages (from nltk) (1.15.0)\n"
          ]
        }
      ]
    },
    {
      "cell_type": "code",
      "source": [
        "# 문장 토큰화\n",
        "\n",
        "import nltk\n",
        "\n",
        "nltk.download('punkt')\n",
        "text = nltk.word_tokenize('Is it possible distinguishing cats and dogs')\n",
        "text"
      ],
      "metadata": {
        "colab": {
          "base_uri": "https://localhost:8080/"
        },
        "id": "C7D1_Gb90Zp0",
        "outputId": "c2c59ecf-abb3-4589-bed8-0f535c07733d"
      },
      "execution_count": 3,
      "outputs": [
        {
          "output_type": "stream",
          "name": "stdout",
          "text": [
            "[nltk_data] Downloading package punkt to /root/nltk_data...\n",
            "[nltk_data]   Unzipping tokenizers/punkt.zip.\n"
          ]
        },
        {
          "output_type": "execute_result",
          "data": {
            "text/plain": [
              "['Is', 'it', 'possible', 'distinguishing', 'cats', 'and', 'dogs']"
            ]
          },
          "metadata": {},
          "execution_count": 3
        }
      ]
    },
    {
      "cell_type": "code",
      "source": [
        "# 태깅에 필요한 자원 내려받기\n",
        "\n",
        "nltk.download('averaged_perception_tagger')"
      ],
      "metadata": {
        "colab": {
          "base_uri": "https://localhost:8080/"
        },
        "id": "st-sOklM0mtr",
        "outputId": "9ba244f7-a61d-4321-b5d6-9da66c564480"
      },
      "execution_count": 4,
      "outputs": [
        {
          "output_type": "stream",
          "name": "stdout",
          "text": [
            "[nltk_data] Error loading averaged_perception_tagger: Package\n",
            "[nltk_data]     'averaged_perception_tagger' not found in index\n"
          ]
        },
        {
          "output_type": "execute_result",
          "data": {
            "text/plain": [
              "False"
            ]
          },
          "metadata": {},
          "execution_count": 4
        }
      ]
    },
    {
      "cell_type": "code",
      "source": [
        "nltk.download('averaged_perceptron_tagger')"
      ],
      "metadata": {
        "colab": {
          "base_uri": "https://localhost:8080/"
        },
        "id": "6__FjyFj1E-J",
        "outputId": "7fe32ccf-2b15-4e58-e3a1-f9079d89362e"
      },
      "execution_count": 5,
      "outputs": [
        {
          "output_type": "stream",
          "name": "stdout",
          "text": [
            "[nltk_data] Downloading package averaged_perceptron_tagger to\n",
            "[nltk_data]     /root/nltk_data...\n",
            "[nltk_data]   Unzipping taggers/averaged_perceptron_tagger.zip.\n"
          ]
        },
        {
          "output_type": "execute_result",
          "data": {
            "text/plain": [
              "True"
            ]
          },
          "metadata": {},
          "execution_count": 5
        }
      ]
    },
    {
      "cell_type": "code",
      "source": [
        "# 품사 태깅\n",
        "\n",
        "nltk.pos_tag(text)"
      ],
      "metadata": {
        "colab": {
          "base_uri": "https://localhost:8080/"
        },
        "id": "pVcyhEoQ1K6B",
        "outputId": "ca28f3a4-eb6f-455a-8c43-3f5aef8254bd"
      },
      "execution_count": 6,
      "outputs": [
        {
          "output_type": "execute_result",
          "data": {
            "text/plain": [
              "[('Is', 'VBZ'),\n",
              " ('it', 'PRP'),\n",
              " ('possible', 'JJ'),\n",
              " ('distinguishing', 'VBG'),\n",
              " ('cats', 'NNS'),\n",
              " ('and', 'CC'),\n",
              " ('dogs', 'NNS')]"
            ]
          },
          "metadata": {},
          "execution_count": 6
        }
      ]
    },
    {
      "cell_type": "markdown",
      "source": [
        "## 9.1.2 자연어 처리를 위한 라이브러리"
      ],
      "metadata": {
        "id": "B9IONW0E1xLz"
      }
    },
    {
      "cell_type": "code",
      "source": [
        "# nltk 라이브러리 호출 및 문장 정의\n",
        "\n",
        "import nltk\n",
        "\n",
        "# nltk.download('punkt')\n",
        "string1 = \"my favorite subject is math\"\n",
        "string2 = \"my favorite subject is math, english, economic and computer science\"\n",
        "nltk.word_tokenize(string1)"
      ],
      "metadata": {
        "colab": {
          "base_uri": "https://localhost:8080/"
        },
        "id": "bBHCnxz61gAc",
        "outputId": "6527c5ef-da5e-4123-84c5-9215e5fa9fab"
      },
      "execution_count": 7,
      "outputs": [
        {
          "output_type": "execute_result",
          "data": {
            "text/plain": [
              "['my', 'favorite', 'subject', 'is', 'math']"
            ]
          },
          "metadata": {},
          "execution_count": 7
        }
      ]
    },
    {
      "cell_type": "code",
      "source": [
        "nltk.word_tokenize(string2)"
      ],
      "metadata": {
        "colab": {
          "base_uri": "https://localhost:8080/"
        },
        "id": "yMszINJT2HCn",
        "outputId": "6650ec2f-e33e-4106-b48f-954f5211eeb3"
      },
      "execution_count": 8,
      "outputs": [
        {
          "output_type": "execute_result",
          "data": {
            "text/plain": [
              "['my',\n",
              " 'favorite',\n",
              " 'subject',\n",
              " 'is',\n",
              " 'math',\n",
              " ',',\n",
              " 'english',\n",
              " ',',\n",
              " 'economic',\n",
              " 'and',\n",
              " 'computer',\n",
              " 'science']"
            ]
          },
          "metadata": {},
          "execution_count": 8
        }
      ]
    },
    {
      "cell_type": "code",
      "source": [
        "!python3 -m pip install --upgrade pip"
      ],
      "metadata": {
        "colab": {
          "base_uri": "https://localhost:8080/"
        },
        "id": "GcMLTcM22KYA",
        "outputId": "587b9230-c5bd-4ea2-d434-d70e897f02ac"
      },
      "execution_count": 9,
      "outputs": [
        {
          "output_type": "stream",
          "name": "stdout",
          "text": [
            "Requirement already satisfied: pip in /usr/local/lib/python3.7/dist-packages (21.1.3)\n",
            "Collecting pip\n",
            "  Downloading pip-22.1-py3-none-any.whl (2.1 MB)\n",
            "\u001b[K     |████████████████████████████████| 2.1 MB 4.9 MB/s \n",
            "\u001b[?25hInstalling collected packages: pip\n",
            "  Attempting uninstall: pip\n",
            "    Found existing installation: pip 21.1.3\n",
            "    Uninstalling pip-21.1.3:\n",
            "      Successfully uninstalled pip-21.1.3\n",
            "Successfully installed pip-22.1\n"
          ]
        }
      ]
    },
    {
      "cell_type": "code",
      "source": [
        "!python3 -m pip install konlpy"
      ],
      "metadata": {
        "colab": {
          "base_uri": "https://localhost:8080/"
        },
        "id": "fcpOpK1E2g0M",
        "outputId": "e9c97ac6-0c70-4033-b3dd-9e68bc42bed2"
      },
      "execution_count": 10,
      "outputs": [
        {
          "output_type": "stream",
          "name": "stdout",
          "text": [
            "Collecting konlpy\n",
            "  Downloading konlpy-0.6.0-py2.py3-none-any.whl (19.4 MB)\n",
            "\u001b[2K     \u001b[90m━━━━━━━━━━━━━━━━━━━━━━━━━━━━━━━━━━━━━━━━\u001b[0m \u001b[32m19.4/19.4 MB\u001b[0m \u001b[31m66.1 MB/s\u001b[0m eta \u001b[36m0:00:00\u001b[0m\n",
            "\u001b[?25hCollecting JPype1>=0.7.0\n",
            "  Downloading JPype1-1.3.0-cp37-cp37m-manylinux_2_5_x86_64.manylinux1_x86_64.whl (448 kB)\n",
            "\u001b[2K     \u001b[90m━━━━━━━━━━━━━━━━━━━━━━━━━━━━━━━━━━━━━━\u001b[0m \u001b[32m449.0/449.0 kB\u001b[0m \u001b[31m44.0 MB/s\u001b[0m eta \u001b[36m0:00:00\u001b[0m\n",
            "\u001b[?25hRequirement already satisfied: lxml>=4.1.0 in /usr/local/lib/python3.7/dist-packages (from konlpy) (4.2.6)\n",
            "Requirement already satisfied: numpy>=1.6 in /usr/local/lib/python3.7/dist-packages (from konlpy) (1.21.6)\n",
            "Requirement already satisfied: typing-extensions in /usr/local/lib/python3.7/dist-packages (from JPype1>=0.7.0->konlpy) (4.2.0)\n",
            "Installing collected packages: JPype1, konlpy\n",
            "Successfully installed JPype1-1.3.0 konlpy-0.6.0\n",
            "\u001b[33mWARNING: Running pip as the 'root' user can result in broken permissions and conflicting behaviour with the system package manager. It is recommended to use a virtual environment instead: https://pip.pypa.io/warnings/venv\u001b[0m\u001b[33m\n",
            "\u001b[0m"
          ]
        }
      ]
    },
    {
      "cell_type": "code",
      "source": [
        "# 라이브러리 호출 및 문장을 형태로 변환\n",
        "\n",
        "from konlpy.tag import Komoran\n",
        "\n",
        "komoran = Komoran()\n",
        "print(komoran.morphs('딥러닝이 쉽나요? 어렵나요?'))"
      ],
      "metadata": {
        "colab": {
          "base_uri": "https://localhost:8080/"
        },
        "id": "lwHpCkoZ2jvL",
        "outputId": "a4ab44f3-155b-41b8-93cf-8a43b2dd5c8c"
      },
      "execution_count": 11,
      "outputs": [
        {
          "output_type": "stream",
          "name": "stdout",
          "text": [
            "['딥러닝이', '쉽', '나요', '?', '어렵', '나요', '?']\n"
          ]
        }
      ]
    },
    {
      "cell_type": "code",
      "source": [
        "# 품사 태깅\n",
        "\n",
        "print(komoran.pos('소파 위에 있는 것이 고양이인가요? 강아지인가요?'))"
      ],
      "metadata": {
        "colab": {
          "base_uri": "https://localhost:8080/"
        },
        "id": "agoj0DdX2v2p",
        "outputId": "fee3f581-618b-496a-c5cd-5dea40da15d5"
      },
      "execution_count": 12,
      "outputs": [
        {
          "output_type": "stream",
          "name": "stdout",
          "text": [
            "[('소파', 'NNP'), ('위', 'NNG'), ('에', 'JKB'), ('있', 'VV'), ('는', 'ETM'), ('것', 'NNB'), ('이', 'JKS'), ('고양이', 'NNG'), ('이', 'VCP'), ('ㄴ가요', 'EF'), ('?', 'SF'), ('강아지', 'NNG'), ('이', 'VCP'), ('ㄴ가요', 'EF'), ('?', 'SF')]\n"
          ]
        }
      ]
    },
    {
      "cell_type": "code",
      "source": [
        "!pip install -U gensim"
      ],
      "metadata": {
        "colab": {
          "base_uri": "https://localhost:8080/"
        },
        "id": "viNKAzxg3RUc",
        "outputId": "5d2d02ed-1b68-4d6a-af9a-f7ee552d477a"
      },
      "execution_count": 13,
      "outputs": [
        {
          "output_type": "stream",
          "name": "stdout",
          "text": [
            "Requirement already satisfied: gensim in /usr/local/lib/python3.7/dist-packages (3.6.0)\n",
            "Collecting gensim\n",
            "  Downloading gensim-4.2.0-cp37-cp37m-manylinux_2_12_x86_64.manylinux2010_x86_64.whl (24.1 MB)\n",
            "\u001b[2K     \u001b[90m━━━━━━━━━━━━━━━━━━━━━━━━━━━━━━━━━━━━━━━━\u001b[0m \u001b[32m24.1/24.1 MB\u001b[0m \u001b[31m59.7 MB/s\u001b[0m eta \u001b[36m0:00:00\u001b[0m\n",
            "\u001b[?25hRequirement already satisfied: smart-open>=1.8.1 in /usr/local/lib/python3.7/dist-packages (from gensim) (6.0.0)\n",
            "Requirement already satisfied: numpy>=1.17.0 in /usr/local/lib/python3.7/dist-packages (from gensim) (1.21.6)\n",
            "Requirement already satisfied: scipy>=0.18.1 in /usr/local/lib/python3.7/dist-packages (from gensim) (1.4.1)\n",
            "Installing collected packages: gensim\n",
            "  Attempting uninstall: gensim\n",
            "    Found existing installation: gensim 3.6.0\n",
            "    Uninstalling gensim-3.6.0:\n",
            "      Successfully uninstalled gensim-3.6.0\n",
            "Successfully installed gensim-4.2.0\n",
            "\u001b[33mWARNING: Running pip as the 'root' user can result in broken permissions and conflicting behaviour with the system package manager. It is recommended to use a virtual environment instead: https://pip.pypa.io/warnings/venv\u001b[0m\u001b[33m\n",
            "\u001b[0m"
          ]
        }
      ]
    },
    {
      "cell_type": "markdown",
      "source": [
        "# 9.2 전처리"
      ],
      "metadata": {
        "id": "AsosKZil3bp3"
      }
    },
    {
      "cell_type": "code",
      "source": [
        "# 문장 -> 결측치 확인 토큰화 -> 단어 색인 -> 불용어 제거 -> 축소된 단어 색인 -> 어간 추출"
      ],
      "metadata": {
        "id": "NURKZk9D3cxe"
      },
      "execution_count": 14,
      "outputs": []
    },
    {
      "cell_type": "markdown",
      "source": [
        "## 9.2.1 결측치 확인"
      ],
      "metadata": {
        "id": "liMChWJZ3lJQ"
      }
    },
    {
      "cell_type": "code",
      "source": [
        "# 결측치를 확인할 데이터 호출\n",
        "\n",
        "import pandas as pd\n",
        "df = pd.read_csv('/content/class2.csv')\n",
        "df"
      ],
      "metadata": {
        "id": "Lp6qylpZ3oMM",
        "colab": {
          "base_uri": "https://localhost:8080/",
          "height": 235
        },
        "outputId": "577f1cf6-3610-4aee-84f0-de99fe06ebea"
      },
      "execution_count": 16,
      "outputs": [
        {
          "output_type": "execute_result",
          "data": {
            "text/plain": [
              "   Unnamed: 0      id tissue class class2      x      y      r\n",
              "0           0  mdb000      C  CIRC      N  535.0  475.0  192.0\n",
              "1           1  mdb001      A  CIRA      N  433.0  268.0   58.0\n",
              "2           2  mdb002      A  CIRA      I    NaN    NaN    NaN\n",
              "3           3  mdb003      C  CIRC      B    NaN    NaN    NaN\n",
              "4           4  mdb004      F  CIRF      I  488.0  145.0   29.0\n",
              "5           5  mdb005      F  CIRF      B  544.0  178.0   26.0"
            ],
            "text/html": [
              "\n",
              "  <div id=\"df-8133a253-b572-4f21-83d4-0375f36ef3f3\">\n",
              "    <div class=\"colab-df-container\">\n",
              "      <div>\n",
              "<style scoped>\n",
              "    .dataframe tbody tr th:only-of-type {\n",
              "        vertical-align: middle;\n",
              "    }\n",
              "\n",
              "    .dataframe tbody tr th {\n",
              "        vertical-align: top;\n",
              "    }\n",
              "\n",
              "    .dataframe thead th {\n",
              "        text-align: right;\n",
              "    }\n",
              "</style>\n",
              "<table border=\"1\" class=\"dataframe\">\n",
              "  <thead>\n",
              "    <tr style=\"text-align: right;\">\n",
              "      <th></th>\n",
              "      <th>Unnamed: 0</th>\n",
              "      <th>id</th>\n",
              "      <th>tissue</th>\n",
              "      <th>class</th>\n",
              "      <th>class2</th>\n",
              "      <th>x</th>\n",
              "      <th>y</th>\n",
              "      <th>r</th>\n",
              "    </tr>\n",
              "  </thead>\n",
              "  <tbody>\n",
              "    <tr>\n",
              "      <th>0</th>\n",
              "      <td>0</td>\n",
              "      <td>mdb000</td>\n",
              "      <td>C</td>\n",
              "      <td>CIRC</td>\n",
              "      <td>N</td>\n",
              "      <td>535.0</td>\n",
              "      <td>475.0</td>\n",
              "      <td>192.0</td>\n",
              "    </tr>\n",
              "    <tr>\n",
              "      <th>1</th>\n",
              "      <td>1</td>\n",
              "      <td>mdb001</td>\n",
              "      <td>A</td>\n",
              "      <td>CIRA</td>\n",
              "      <td>N</td>\n",
              "      <td>433.0</td>\n",
              "      <td>268.0</td>\n",
              "      <td>58.0</td>\n",
              "    </tr>\n",
              "    <tr>\n",
              "      <th>2</th>\n",
              "      <td>2</td>\n",
              "      <td>mdb002</td>\n",
              "      <td>A</td>\n",
              "      <td>CIRA</td>\n",
              "      <td>I</td>\n",
              "      <td>NaN</td>\n",
              "      <td>NaN</td>\n",
              "      <td>NaN</td>\n",
              "    </tr>\n",
              "    <tr>\n",
              "      <th>3</th>\n",
              "      <td>3</td>\n",
              "      <td>mdb003</td>\n",
              "      <td>C</td>\n",
              "      <td>CIRC</td>\n",
              "      <td>B</td>\n",
              "      <td>NaN</td>\n",
              "      <td>NaN</td>\n",
              "      <td>NaN</td>\n",
              "    </tr>\n",
              "    <tr>\n",
              "      <th>4</th>\n",
              "      <td>4</td>\n",
              "      <td>mdb004</td>\n",
              "      <td>F</td>\n",
              "      <td>CIRF</td>\n",
              "      <td>I</td>\n",
              "      <td>488.0</td>\n",
              "      <td>145.0</td>\n",
              "      <td>29.0</td>\n",
              "    </tr>\n",
              "    <tr>\n",
              "      <th>5</th>\n",
              "      <td>5</td>\n",
              "      <td>mdb005</td>\n",
              "      <td>F</td>\n",
              "      <td>CIRF</td>\n",
              "      <td>B</td>\n",
              "      <td>544.0</td>\n",
              "      <td>178.0</td>\n",
              "      <td>26.0</td>\n",
              "    </tr>\n",
              "  </tbody>\n",
              "</table>\n",
              "</div>\n",
              "      <button class=\"colab-df-convert\" onclick=\"convertToInteractive('df-8133a253-b572-4f21-83d4-0375f36ef3f3')\"\n",
              "              title=\"Convert this dataframe to an interactive table.\"\n",
              "              style=\"display:none;\">\n",
              "        \n",
              "  <svg xmlns=\"http://www.w3.org/2000/svg\" height=\"24px\"viewBox=\"0 0 24 24\"\n",
              "       width=\"24px\">\n",
              "    <path d=\"M0 0h24v24H0V0z\" fill=\"none\"/>\n",
              "    <path d=\"M18.56 5.44l.94 2.06.94-2.06 2.06-.94-2.06-.94-.94-2.06-.94 2.06-2.06.94zm-11 1L8.5 8.5l.94-2.06 2.06-.94-2.06-.94L8.5 2.5l-.94 2.06-2.06.94zm10 10l.94 2.06.94-2.06 2.06-.94-2.06-.94-.94-2.06-.94 2.06-2.06.94z\"/><path d=\"M17.41 7.96l-1.37-1.37c-.4-.4-.92-.59-1.43-.59-.52 0-1.04.2-1.43.59L10.3 9.45l-7.72 7.72c-.78.78-.78 2.05 0 2.83L4 21.41c.39.39.9.59 1.41.59.51 0 1.02-.2 1.41-.59l7.78-7.78 2.81-2.81c.8-.78.8-2.07 0-2.86zM5.41 20L4 18.59l7.72-7.72 1.47 1.35L5.41 20z\"/>\n",
              "  </svg>\n",
              "      </button>\n",
              "      \n",
              "  <style>\n",
              "    .colab-df-container {\n",
              "      display:flex;\n",
              "      flex-wrap:wrap;\n",
              "      gap: 12px;\n",
              "    }\n",
              "\n",
              "    .colab-df-convert {\n",
              "      background-color: #E8F0FE;\n",
              "      border: none;\n",
              "      border-radius: 50%;\n",
              "      cursor: pointer;\n",
              "      display: none;\n",
              "      fill: #1967D2;\n",
              "      height: 32px;\n",
              "      padding: 0 0 0 0;\n",
              "      width: 32px;\n",
              "    }\n",
              "\n",
              "    .colab-df-convert:hover {\n",
              "      background-color: #E2EBFA;\n",
              "      box-shadow: 0px 1px 2px rgba(60, 64, 67, 0.3), 0px 1px 3px 1px rgba(60, 64, 67, 0.15);\n",
              "      fill: #174EA6;\n",
              "    }\n",
              "\n",
              "    [theme=dark] .colab-df-convert {\n",
              "      background-color: #3B4455;\n",
              "      fill: #D2E3FC;\n",
              "    }\n",
              "\n",
              "    [theme=dark] .colab-df-convert:hover {\n",
              "      background-color: #434B5C;\n",
              "      box-shadow: 0px 1px 3px 1px rgba(0, 0, 0, 0.15);\n",
              "      filter: drop-shadow(0px 1px 2px rgba(0, 0, 0, 0.3));\n",
              "      fill: #FFFFFF;\n",
              "    }\n",
              "  </style>\n",
              "\n",
              "      <script>\n",
              "        const buttonEl =\n",
              "          document.querySelector('#df-8133a253-b572-4f21-83d4-0375f36ef3f3 button.colab-df-convert');\n",
              "        buttonEl.style.display =\n",
              "          google.colab.kernel.accessAllowed ? 'block' : 'none';\n",
              "\n",
              "        async function convertToInteractive(key) {\n",
              "          const element = document.querySelector('#df-8133a253-b572-4f21-83d4-0375f36ef3f3');\n",
              "          const dataTable =\n",
              "            await google.colab.kernel.invokeFunction('convertToInteractive',\n",
              "                                                     [key], {});\n",
              "          if (!dataTable) return;\n",
              "\n",
              "          const docLinkHtml = 'Like what you see? Visit the ' +\n",
              "            '<a target=\"_blank\" href=https://colab.research.google.com/notebooks/data_table.ipynb>data table notebook</a>'\n",
              "            + ' to learn more about interactive tables.';\n",
              "          element.innerHTML = '';\n",
              "          dataTable['output_type'] = 'display_data';\n",
              "          await google.colab.output.renderOutput(dataTable, element);\n",
              "          const docLink = document.createElement('div');\n",
              "          docLink.innerHTML = docLinkHtml;\n",
              "          element.appendChild(docLink);\n",
              "        }\n",
              "      </script>\n",
              "    </div>\n",
              "  </div>\n",
              "  "
            ]
          },
          "metadata": {},
          "execution_count": 16
        }
      ]
    },
    {
      "cell_type": "code",
      "source": [
        "# 결측치 개수 확인\n",
        "\n",
        "df.isnull().sum()"
      ],
      "metadata": {
        "colab": {
          "base_uri": "https://localhost:8080/"
        },
        "id": "z5FcESOw5i6N",
        "outputId": "01b3a546-6d44-4eec-c604-bcbe40506c59"
      },
      "execution_count": 17,
      "outputs": [
        {
          "output_type": "execute_result",
          "data": {
            "text/plain": [
              "Unnamed: 0    0\n",
              "id            0\n",
              "tissue        0\n",
              "class         0\n",
              "class2        0\n",
              "x             2\n",
              "y             2\n",
              "r             2\n",
              "dtype: int64"
            ]
          },
          "metadata": {},
          "execution_count": 17
        }
      ]
    },
    {
      "cell_type": "code",
      "source": [
        "# 결측치 비율\n",
        "\n",
        "df.isnull().sum() / len(df)"
      ],
      "metadata": {
        "colab": {
          "base_uri": "https://localhost:8080/"
        },
        "id": "VaRCKnI15nD8",
        "outputId": "0d085811-9fe9-46a1-d94f-27f91d176972"
      },
      "execution_count": 18,
      "outputs": [
        {
          "output_type": "execute_result",
          "data": {
            "text/plain": [
              "Unnamed: 0    0.000000\n",
              "id            0.000000\n",
              "tissue        0.000000\n",
              "class         0.000000\n",
              "class2        0.000000\n",
              "x             0.333333\n",
              "y             0.333333\n",
              "r             0.333333\n",
              "dtype: float64"
            ]
          },
          "metadata": {},
          "execution_count": 18
        }
      ]
    },
    {
      "cell_type": "code",
      "source": [
        "# 결측치 삭제 처리\n",
        "\n",
        "df = df.dropna(how='all')\n",
        "print(df)"
      ],
      "metadata": {
        "colab": {
          "base_uri": "https://localhost:8080/"
        },
        "id": "9fmJakfk5sb4",
        "outputId": "2c2b520c-34fb-4bbc-b9f2-45db3be8d1b4"
      },
      "execution_count": 19,
      "outputs": [
        {
          "output_type": "stream",
          "name": "stdout",
          "text": [
            "   Unnamed: 0      id tissue class class2      x      y      r\n",
            "0           0  mdb000      C  CIRC      N  535.0  475.0  192.0\n",
            "1           1  mdb001      A  CIRA      N  433.0  268.0   58.0\n",
            "2           2  mdb002      A  CIRA      I    NaN    NaN    NaN\n",
            "3           3  mdb003      C  CIRC      B    NaN    NaN    NaN\n",
            "4           4  mdb004      F  CIRF      I  488.0  145.0   29.0\n",
            "5           5  mdb005      F  CIRF      B  544.0  178.0   26.0\n"
          ]
        }
      ]
    },
    {
      "cell_type": "code",
      "source": [
        "# 결측치 삭제 처리\n",
        "\n",
        "df1 = df.dropna()\n",
        "print(df1)"
      ],
      "metadata": {
        "colab": {
          "base_uri": "https://localhost:8080/"
        },
        "id": "KI0aR7Sn50Y3",
        "outputId": "aef9deac-4ce6-4748-a7e1-165065d25d4f"
      },
      "execution_count": 20,
      "outputs": [
        {
          "output_type": "stream",
          "name": "stdout",
          "text": [
            "   Unnamed: 0      id tissue class class2      x      y      r\n",
            "0           0  mdb000      C  CIRC      N  535.0  475.0  192.0\n",
            "1           1  mdb001      A  CIRA      N  433.0  268.0   58.0\n",
            "4           4  mdb004      F  CIRF      I  488.0  145.0   29.0\n",
            "5           5  mdb005      F  CIRF      B  544.0  178.0   26.0\n"
          ]
        }
      ]
    },
    {
      "cell_type": "code",
      "source": [
        "# 결측치를 0으로 채우기\n",
        "\n",
        "df2 = df.fillna(0)\n",
        "print(df2)"
      ],
      "metadata": {
        "colab": {
          "base_uri": "https://localhost:8080/"
        },
        "id": "eMAVRNJT56i5",
        "outputId": "7f569bf2-44be-457e-c061-b2bbefc599af"
      },
      "execution_count": 21,
      "outputs": [
        {
          "output_type": "stream",
          "name": "stdout",
          "text": [
            "   Unnamed: 0      id tissue class class2      x      y      r\n",
            "0           0  mdb000      C  CIRC      N  535.0  475.0  192.0\n",
            "1           1  mdb001      A  CIRA      N  433.0  268.0   58.0\n",
            "2           2  mdb002      A  CIRA      I    0.0    0.0    0.0\n",
            "3           3  mdb003      C  CIRC      B    0.0    0.0    0.0\n",
            "4           4  mdb004      F  CIRF      I  488.0  145.0   29.0\n",
            "5           5  mdb005      F  CIRF      B  544.0  178.0   26.0\n"
          ]
        }
      ]
    },
    {
      "cell_type": "code",
      "source": [
        "# 결측치를 평균으로 채우기\n",
        "\n",
        "df['x'].fillna(df['x'].mean(), inplace=True)\n",
        "print(df)"
      ],
      "metadata": {
        "colab": {
          "base_uri": "https://localhost:8080/"
        },
        "id": "aCORsi0k5_Mv",
        "outputId": "b3b431d7-7d22-461e-b860-57d118c7d37c"
      },
      "execution_count": 22,
      "outputs": [
        {
          "output_type": "stream",
          "name": "stdout",
          "text": [
            "   Unnamed: 0      id tissue class class2      x      y      r\n",
            "0           0  mdb000      C  CIRC      N  535.0  475.0  192.0\n",
            "1           1  mdb001      A  CIRA      N  433.0  268.0   58.0\n",
            "2           2  mdb002      A  CIRA      I  500.0    NaN    NaN\n",
            "3           3  mdb003      C  CIRC      B  500.0    NaN    NaN\n",
            "4           4  mdb004      F  CIRF      I  488.0  145.0   29.0\n",
            "5           5  mdb005      F  CIRF      B  544.0  178.0   26.0\n"
          ]
        }
      ]
    },
    {
      "cell_type": "markdown",
      "source": [
        "## 9.2.2 토큰화"
      ],
      "metadata": {
        "id": "C7hgciPM6PNo"
      }
    },
    {
      "cell_type": "code",
      "source": [
        "# 문장 토큰화\n",
        "\n",
        "from nltk import sent_tokenize\n",
        "text_sample = \"\"\"\n",
        "Natural Language Processing, or NLP, is the process of extracting the meaning, or intent, behind human language.\n",
        "In the field of Conversational artificial intelligence (AI), NLP allows machines and applications to understand the intent of human language inputs, and then generate appropriate responses, resulting in a natural conversation flow.\n",
        "\"\"\"\n",
        "\n",
        "tokenized_sentences = sent_tokenize(text_sample)\n",
        "print(len(tokenized_sentences))"
      ],
      "metadata": {
        "colab": {
          "base_uri": "https://localhost:8080/"
        },
        "id": "aGn4T06h6QUi",
        "outputId": "967316f7-2b46-47ce-8564-bce8ace16260"
      },
      "execution_count": 23,
      "outputs": [
        {
          "output_type": "stream",
          "name": "stdout",
          "text": [
            "2\n"
          ]
        }
      ]
    },
    {
      "cell_type": "code",
      "source": [
        "# 단어 토큰화\n",
        "\n",
        "from nltk import word_tokenize\n",
        "sentence = \"This book is for deep learning learners\"\n",
        "words = word_tokenize(sentence)\n",
        "print(words)"
      ],
      "metadata": {
        "colab": {
          "base_uri": "https://localhost:8080/"
        },
        "id": "qh21tHmV66gi",
        "outputId": "735b6602-1006-4514-95c9-8dd96f3ac53f"
      },
      "execution_count": 24,
      "outputs": [
        {
          "output_type": "stream",
          "name": "stdout",
          "text": [
            "['This', 'book', 'is', 'for', 'deep', 'learning', 'learners']\n"
          ]
        }
      ]
    },
    {
      "cell_type": "code",
      "source": [
        "# 아포스트로피가 포함된 문장에서 단어 토큰화\n",
        "\n",
        "from nltk.tokenize import WordPunctTokenizer\n",
        "sentence = \"it's nothing that you don't already know except most people aren't aware of how their inner world works.\"\n",
        "words = WordPunctTokenizer().tokenize(sentence)\n",
        "print(words)"
      ],
      "metadata": {
        "colab": {
          "base_uri": "https://localhost:8080/"
        },
        "id": "Z1yvq_TK7PC7",
        "outputId": "b81a536c-732b-48f8-ee6e-3f5474167d06"
      },
      "execution_count": 25,
      "outputs": [
        {
          "output_type": "stream",
          "name": "stdout",
          "text": [
            "['it', \"'\", 's', 'nothing', 'that', 'you', 'don', \"'\", 't', 'already', 'know', 'except', 'most', 'people', 'aren', \"'\", 't', 'aware', 'of', 'how', 'their', 'inner', 'world', 'works', '.']\n"
          ]
        }
      ]
    },
    {
      "cell_type": "code",
      "source": [
        "# 케라스를 이용한 단어 토큰화\n",
        "\n",
        "from tensorflow.keras.preprocessing.text import text_to_word_sequence\n",
        "sentence = \"it's nothing that you don't already know except most people aren't aware of how their inner world works.\"\n",
        "words = text_to_word_sequence(sentence)\n",
        "print(words)"
      ],
      "metadata": {
        "colab": {
          "base_uri": "https://localhost:8080/"
        },
        "id": "vWjbwG4W7jLe",
        "outputId": "b3e8788a-c646-4e0c-9c5a-01abbd3aa50a"
      },
      "execution_count": 26,
      "outputs": [
        {
          "output_type": "stream",
          "name": "stdout",
          "text": [
            "[\"it's\", 'nothing', 'that', 'you', \"don't\", 'already', 'know', 'except', 'most', 'people', \"aren't\", 'aware', 'of', 'how', 'their', 'inner', 'world', 'works']\n"
          ]
        }
      ]
    },
    {
      "cell_type": "code",
      "source": [
        "# 라이브러리 호출 및 데이터셋 준비\n",
        "\n",
        "import csv\n",
        "from konlpy.tag import Okt\n",
        "from gensim.models import word2vec\n",
        "\n",
        "f = open('/content/ratings_train.txt', 'r', encoding='utf-8')\n",
        "rdr = csv.reader(f, delimiter='\\t')\n",
        "rdw = list(rdr)\n",
        "f.close()"
      ],
      "metadata": {
        "id": "hYZqwjDU70eQ"
      },
      "execution_count": 27,
      "outputs": []
    },
    {
      "cell_type": "code",
      "source": [
        "# 오픈 소스 한글 형태소 분석기 호출\n",
        "\n",
        "twitter = Okt()\n",
        "\n",
        "result = []\n",
        "for line in rdw:\n",
        "  malist = twitter.pos(line[1], norm=True, stem=True)\n",
        "  r = []\n",
        "  for word in malist:\n",
        "    if not word[1] in [\"Josa\", \"Eomi\", \"Punctuation\"]:\n",
        "      r.append(word[0])\n",
        "    \n",
        "  rl = (\" \".join(r)).strip()\n",
        "  result.append(rl)"
      ],
      "metadata": {
        "id": "dQwglYDj8Ldc"
      },
      "execution_count": null,
      "outputs": []
    },
    {
      "cell_type": "code",
      "source": [
        "# 형태소 저장\n",
        "\n",
        "with open(\"NaverMovie.nlp\", 'w', encoding='utf-8') as fp:\n",
        "  fp.write(\"\\n\".join(result))"
      ],
      "metadata": {
        "id": "gpFGX3ts8quE"
      },
      "execution_count": null,
      "outputs": []
    },
    {
      "cell_type": "code",
      "source": [
        "# Word2Vec 모델 생성\n",
        "\n",
        "mData = word2vec.LineSentence(\"NaverMovie.nlp\")\n",
        "mModel = word2vec.Word2Vec(mData, size=200, window=10, hs=1, min_count=2, sg=1)\n",
        "mModel.save(\"NaverMovie.model\")"
      ],
      "metadata": {
        "id": "YnNlbOy99Yto"
      },
      "execution_count": null,
      "outputs": []
    },
    {
      "cell_type": "markdown",
      "source": [
        "## 9.2.3 Stop words 제거"
      ],
      "metadata": {
        "id": "PLuXpMwl9xk2"
      }
    },
    {
      "cell_type": "code",
      "source": [
        "# 불용어 제거\n",
        "\n",
        "import nltk\n",
        "from nltk.corpus import stopwords\n",
        "nltk.download('stopwords')\n",
        "nltk.download('punkt')\n",
        "from nltk.tokenize import word_tokenize\n",
        "\n",
        "sample_text = \"One of the first things that we ask ourselves is what are the pros and cons of any task we perform.\"\n",
        "text_tokens = word_tokenize(sample_text)\n",
        "\n",
        "tokens_without_sw = [word for word in text_tokens if not word in stopwords.words('english')]\n",
        "print(\"불용어 제거 미적용:\", text_tokens, '\\n')\n",
        "print(\"불용어 제거 적용:\", tokens_without_sw)"
      ],
      "metadata": {
        "colab": {
          "base_uri": "https://localhost:8080/"
        },
        "id": "PZCoApYD9nk3",
        "outputId": "9310bc1a-196c-4d9e-92e7-f29297a804f8"
      },
      "execution_count": 28,
      "outputs": [
        {
          "output_type": "stream",
          "name": "stdout",
          "text": [
            "[nltk_data] Downloading package stopwords to /root/nltk_data...\n",
            "[nltk_data]   Unzipping corpora/stopwords.zip.\n",
            "[nltk_data] Downloading package punkt to /root/nltk_data...\n",
            "[nltk_data]   Package punkt is already up-to-date!\n",
            "불용어 제거 미적용: ['One', 'of', 'the', 'first', 'things', 'that', 'we', 'ask', 'ourselves', 'is', 'what', 'are', 'the', 'pros', 'and', 'cons', 'of', 'any', 'task', 'we', 'perform', '.'] \n",
            "\n",
            "불용어 제거 적용: ['One', 'first', 'things', 'ask', 'pros', 'cons', 'task', 'perform', '.']\n"
          ]
        }
      ]
    },
    {
      "cell_type": "markdown",
      "source": [
        "## 9.2.4 어간 추출"
      ],
      "metadata": {
        "id": "dblcecvY-rgz"
      }
    },
    {
      "cell_type": "code",
      "source": [
        "# 포터 알고리즘\n",
        "\n",
        "from nltk.stem import PorterStemmer\n",
        "stemmer = PorterStemmer()\n",
        "\n",
        "print(stemmer.stem('obsess'), stemmer.stem('obsessed'))\n",
        "print(stemmer.stem('standardizeds'), stemmer.stem('standardization'))\n",
        "print(stemmer.stem('national'), stemmer.stem('nation'))\n",
        "print(stemmer.stem('absentness'), stemmer.stem('absently'))\n",
        "print(stemmer.stem('tribalical'), stemmer.stem('tribalicalized'))"
      ],
      "metadata": {
        "colab": {
          "base_uri": "https://localhost:8080/"
        },
        "id": "8pdbiBCZ-b47",
        "outputId": "3bba9880-4515-4603-b636-8bc1c150cac6"
      },
      "execution_count": 29,
      "outputs": [
        {
          "output_type": "stream",
          "name": "stdout",
          "text": [
            "obsess obsess\n",
            "standard standard\n",
            "nation nation\n",
            "absent absent\n",
            "tribal tribalic\n"
          ]
        }
      ]
    },
    {
      "cell_type": "code",
      "source": [
        "# 랭커스터 알고리즘\n",
        "\n",
        "from nltk.stem import LancasterStemmer\n",
        "stemmer = LancasterStemmer()\n",
        "\n",
        "print(stemmer.stem('obsess'), stemmer.stem('obsessed'))\n",
        "print(stemmer.stem('standardizeds'), stemmer.stem('standardization'))\n",
        "print(stemmer.stem('national'), stemmer.stem('nation'))\n",
        "print(stemmer.stem('absentness'), stemmer.stem('absently'))\n",
        "print(stemmer.stem('tribalical'), stemmer.stem('tribalicalized'))"
      ],
      "metadata": {
        "colab": {
          "base_uri": "https://localhost:8080/"
        },
        "id": "-TM3zm10_QgX",
        "outputId": "8c955ba7-1ed2-409d-b733-ccb748207384"
      },
      "execution_count": 30,
      "outputs": [
        {
          "output_type": "stream",
          "name": "stdout",
          "text": [
            "obsess obsess\n",
            "standard standard\n",
            "nat nat\n",
            "abs abs\n",
            "trib trib\n"
          ]
        }
      ]
    },
    {
      "cell_type": "code",
      "source": [
        "# 표제어 추출\n",
        "\n",
        "import nltk\n",
        "nltk.download('wordnet')\n",
        "\n",
        "from nltk.stem import WordNetLemmatizer\n",
        "lemma = WordNetLemmatizer()\n",
        "\n",
        "print(lemma.lemmatize('obsess'), lemma.lemmatize('obsessed'))\n",
        "print(lemma.lemmatize('standardizeds'), lemma.lemmatize('standardization'))\n",
        "print(lemma.lemmatize('national'), lemma.lemmatize('nation'))\n",
        "print(lemma.lemmatize('absentness'), lemma.lemmatize('absently'))\n",
        "print(lemma.lemmatize('tribalical'), lemma.lemmatize('tribalicalized'))"
      ],
      "metadata": {
        "colab": {
          "base_uri": "https://localhost:8080/"
        },
        "id": "ScPhkVGa_k8Z",
        "outputId": "9215ca61-c91f-4eb8-d511-b49c751f54a6"
      },
      "execution_count": 31,
      "outputs": [
        {
          "output_type": "stream",
          "name": "stdout",
          "text": [
            "[nltk_data] Downloading package wordnet to /root/nltk_data...\n",
            "[nltk_data]   Unzipping corpora/wordnet.zip.\n",
            "ob obsessed\n",
            "standardizeds standardization\n",
            "national nation\n",
            "absentness absently\n",
            "tribalical tribalicalized\n"
          ]
        }
      ]
    },
    {
      "cell_type": "code",
      "source": [
        "print(lemma.lemmatize('obsess', 'v'), lemma.lemmatize('obsessed', 'a'))\n",
        "print(lemma.lemmatize('standardizeds', 'v'), lemma.lemmatize('standardization', 'n'))\n",
        "print(lemma.lemmatize('national', 'a'), lemma.lemmatize('nation', 'n'))\n",
        "print(lemma.lemmatize('absentness', 'n'), lemma.lemmatize('absently', 'r'))\n",
        "print(lemma.lemmatize('tribalical', 'a'), lemma.lemmatize('tribalicalized', 'v'))"
      ],
      "metadata": {
        "colab": {
          "base_uri": "https://localhost:8080/"
        },
        "id": "eL_ZE0Ku_z_4",
        "outputId": "2f6c2f54-1a38-490f-927a-1109696b6cc2"
      },
      "execution_count": 32,
      "outputs": [
        {
          "output_type": "stream",
          "name": "stdout",
          "text": [
            "obsess obsessed\n",
            "standardize standardization\n",
            "national nation\n",
            "absentness absently\n",
            "tribalical tribalicalized\n"
          ]
        }
      ]
    },
    {
      "cell_type": "markdown",
      "source": [
        "## 9.2.5 정규화"
      ],
      "metadata": {
        "id": "Pc5DjCXhAU4C"
      }
    },
    {
      "cell_type": "code",
      "source": [
        "# 라이브러리 호출\n",
        "\n",
        "import pandas as pd\n",
        "from sklearn.model_selection import train_test_split\n",
        "import tensorflow as tf\n",
        "from tensorflow.python.data import Dataset\n",
        "from tensorflow.keras.utils import to_categorical\n",
        "from tensorflow.keras import models\n",
        "from tensorflow.keras import layers"
      ],
      "metadata": {
        "id": "r-G3nx_EAV0k"
      },
      "execution_count": 33,
      "outputs": []
    },
    {
      "cell_type": "code",
      "source": [
        "# 데이터셋 로딩 및 모델 훈련\n",
        "\n",
        "df = pd.read_csv('/content/covtype.csv')\n",
        "\n",
        "x = df[df.columns[:54]]\n",
        "y = df.Cover_Type\n",
        "\n",
        "x_train, x_test, y_train, y_test = train_test_split(x, y, train_size=0.7, random_state=90)\n",
        "\n",
        "model = tf.keras.Sequential([\n",
        "    tf.keras.layers.Dense(64, activation='relu', input_shape=(x_train.shape[1],)),\n",
        "    tf.keras.layers.Dense(64, activation='relu'),\n",
        "    tf.keras.layers.Dense(8, activation='softmax')                        \n",
        "])\n",
        "\n",
        "model.compile(optimizer=tf.keras.optimizers.Adam(0.001),\n",
        "              loss='sparse_categorical_crossentropy',\n",
        "              metrics=['accuracy'])\n",
        "\n",
        "history1 = model.fit(\n",
        "    x_train, y_train,\n",
        "    epochs=26, batch_size=60,\n",
        "    validation_data=(x_test, y_test)\n",
        ")"
      ],
      "metadata": {
        "colab": {
          "base_uri": "https://localhost:8080/"
        },
        "id": "YIuv-aJ3AvFJ",
        "outputId": "6192fcc3-8c73-4132-e0f0-42ccf9daf173"
      },
      "execution_count": 38,
      "outputs": [
        {
          "output_type": "stream",
          "name": "stdout",
          "text": [
            "Epoch 1/26\n",
            "6779/6779 [==============================] - 22s 3ms/step - loss: 2.9916 - accuracy: 0.5790 - val_loss: 1.2092 - val_accuracy: 0.6296\n",
            "Epoch 2/26\n",
            "6779/6779 [==============================] - 20s 3ms/step - loss: 1.1910 - accuracy: 0.6422 - val_loss: 1.8363 - val_accuracy: 0.5638\n",
            "Epoch 3/26\n",
            "6779/6779 [==============================] - 20s 3ms/step - loss: 0.8090 - accuracy: 0.6794 - val_loss: 0.6815 - val_accuracy: 0.7000\n",
            "Epoch 4/26\n",
            "6779/6779 [==============================] - 22s 3ms/step - loss: 0.6749 - accuracy: 0.7101 - val_loss: 0.6146 - val_accuracy: 0.7397\n",
            "Epoch 5/26\n",
            "6779/6779 [==============================] - 24s 4ms/step - loss: 0.6315 - accuracy: 0.7297 - val_loss: 0.6117 - val_accuracy: 0.7432\n",
            "Epoch 6/26\n",
            "6779/6779 [==============================] - 19s 3ms/step - loss: 0.6085 - accuracy: 0.7389 - val_loss: 0.6071 - val_accuracy: 0.7441\n",
            "Epoch 7/26\n",
            "6779/6779 [==============================] - 20s 3ms/step - loss: 0.5885 - accuracy: 0.7478 - val_loss: 0.5611 - val_accuracy: 0.7590\n",
            "Epoch 8/26\n",
            "6779/6779 [==============================] - 20s 3ms/step - loss: 0.5742 - accuracy: 0.7528 - val_loss: 0.5694 - val_accuracy: 0.7546\n",
            "Epoch 9/26\n",
            "6779/6779 [==============================] - 20s 3ms/step - loss: 0.5641 - accuracy: 0.7577 - val_loss: 0.5790 - val_accuracy: 0.7507\n",
            "Epoch 10/26\n",
            "6779/6779 [==============================] - 20s 3ms/step - loss: 0.5576 - accuracy: 0.7604 - val_loss: 0.5322 - val_accuracy: 0.7682\n",
            "Epoch 11/26\n",
            "6779/6779 [==============================] - 20s 3ms/step - loss: 0.5472 - accuracy: 0.7650 - val_loss: 0.5256 - val_accuracy: 0.7766\n",
            "Epoch 12/26\n",
            "6779/6779 [==============================] - 19s 3ms/step - loss: 0.5427 - accuracy: 0.7676 - val_loss: 0.5312 - val_accuracy: 0.7764\n",
            "Epoch 13/26\n",
            "6779/6779 [==============================] - 20s 3ms/step - loss: 0.5376 - accuracy: 0.7696 - val_loss: 0.5423 - val_accuracy: 0.7695\n",
            "Epoch 14/26\n",
            "6779/6779 [==============================] - 20s 3ms/step - loss: 0.5341 - accuracy: 0.7704 - val_loss: 0.5114 - val_accuracy: 0.7788\n",
            "Epoch 15/26\n",
            "6779/6779 [==============================] - 20s 3ms/step - loss: 0.5296 - accuracy: 0.7735 - val_loss: 0.5253 - val_accuracy: 0.7752\n",
            "Epoch 16/26\n",
            "6779/6779 [==============================] - 20s 3ms/step - loss: 0.5231 - accuracy: 0.7764 - val_loss: 0.5062 - val_accuracy: 0.7840\n",
            "Epoch 17/26\n",
            "6779/6779 [==============================] - 20s 3ms/step - loss: 0.5203 - accuracy: 0.7780 - val_loss: 0.5222 - val_accuracy: 0.7762\n",
            "Epoch 18/26\n",
            "6779/6779 [==============================] - 19s 3ms/step - loss: 0.5167 - accuracy: 0.7798 - val_loss: 0.4965 - val_accuracy: 0.7909\n",
            "Epoch 19/26\n",
            "6779/6779 [==============================] - 20s 3ms/step - loss: 0.5169 - accuracy: 0.7797 - val_loss: 0.5158 - val_accuracy: 0.7818\n",
            "Epoch 20/26\n",
            "6779/6779 [==============================] - 20s 3ms/step - loss: 0.5129 - accuracy: 0.7815 - val_loss: 0.5066 - val_accuracy: 0.7893\n",
            "Epoch 21/26\n",
            "6779/6779 [==============================] - 19s 3ms/step - loss: 0.5086 - accuracy: 0.7841 - val_loss: 0.5210 - val_accuracy: 0.7819\n",
            "Epoch 22/26\n",
            "6779/6779 [==============================] - 20s 3ms/step - loss: 0.5090 - accuracy: 0.7834 - val_loss: 0.4833 - val_accuracy: 0.7957\n",
            "Epoch 23/26\n",
            "6779/6779 [==============================] - 20s 3ms/step - loss: 0.5052 - accuracy: 0.7856 - val_loss: 0.4994 - val_accuracy: 0.7850\n",
            "Epoch 24/26\n",
            "6779/6779 [==============================] - 20s 3ms/step - loss: 0.5027 - accuracy: 0.7869 - val_loss: 0.4874 - val_accuracy: 0.7931\n",
            "Epoch 25/26\n",
            "6779/6779 [==============================] - 19s 3ms/step - loss: 0.4982 - accuracy: 0.7883 - val_loss: 0.4781 - val_accuracy: 0.7951\n",
            "Epoch 26/26\n",
            "6779/6779 [==============================] - 20s 3ms/step - loss: 0.4989 - accuracy: 0.7886 - val_loss: 0.5058 - val_accuracy: 0.7861\n"
          ]
        }
      ]
    },
    {
      "cell_type": "code",
      "source": [
        "# 데이터 정규화\n",
        "\n",
        "from sklearn import preprocessing\n",
        "df = pd.read_csv('/content/covtype.csv')\n",
        "x = df[df.columns[:55]]\n",
        "y = df.Cover_Type\n",
        "x_train, x_test, y_train, y_test = train_test_split(x, y, train_size=0.7, random_state=90)\n",
        "\n",
        "train_norm = x_train[x_train.columns[0:10]]\n",
        "test_norm = x_test[x_test.columns[0:10]]\n",
        "\n",
        "std_scale = preprocessing.StandardScaler().fit(train_norm)\n",
        "x_train_norm = std_scale.transform(train_norm)\n",
        "\n",
        "training_norm_col = pd.DataFrame(x_train_norm, index=train_norm.index, columns=train_norm.columns)\n",
        "x_train.update(training_norm_col)\n",
        "print(x_train.head())\n",
        "\n",
        "x_test_norm = std_scale.transform(test_norm)\n",
        "testing_norm_col = pd.DataFrame(x_test_norm, index=test_norm.index, columns=test_norm.columns)\n",
        "x_test.update(testing_norm_col)\n",
        "print(x_test.head())"
      ],
      "metadata": {
        "colab": {
          "base_uri": "https://localhost:8080/"
        },
        "id": "N4YtpNZ9Eq3B",
        "outputId": "3e79d9a5-5314-49c2-dc4b-43ddfd885428"
      },
      "execution_count": 39,
      "outputs": [
        {
          "output_type": "stream",
          "name": "stdout",
          "text": [
            "        Elevation    Aspect     Slope  Horizontal_Distance_To_Hydrology  \\\n",
            "152044   0.222366 -0.228639 -0.412503                          0.148486   \n",
            "363373   1.980490 -0.469989  0.255453                          3.018822   \n",
            "372733  -1.081933  0.271939  0.389044                         -0.867895   \n",
            "572846  -1.164122 -0.157128 -0.278912                         -1.267860   \n",
            "114145  -0.052787  0.861906  0.255453                         -0.279711   \n",
            "\n",
            "        Vertical_Distance_To_Hydrology  Horizontal_Distance_To_Roadways  \\\n",
            "152044                        0.149095                         1.336119   \n",
            "363373                        4.443372                         0.168073   \n",
            "372733                       -0.160093                        -0.241801   \n",
            "572846                       -0.795646                        -0.461170   \n",
            "114145                       -0.125739                         1.811419   \n",
            "\n",
            "        Hillshade_9am  Hillshade_Noon  Hillshade_3pm  \\\n",
            "152044       1.002687        0.539776      -0.510339   \n",
            "363373       1.227001       -0.270132      -1.190275   \n",
            "372733       0.292357        1.349684       0.378807   \n",
            "572846       0.965301        0.641014      -0.431885   \n",
            "114145      -1.090917        1.299065       1.581770   \n",
            "\n",
            "        Horizontal_Distance_To_Fire_Points  ...  Soil_Type32  Soil_Type33  \\\n",
            "152044                           -0.111226  ...            0            0   \n",
            "363373                           -0.703030  ...            0            0   \n",
            "372733                            0.038235  ...            0            0   \n",
            "572846                           -1.450334  ...            0            0   \n",
            "114145                           -0.328623  ...            0            0   \n",
            "\n",
            "        Soil_Type34  Soil_Type35  Soil_Type36  Soil_Type37  Soil_Type38  \\\n",
            "152044            0            0            0            0            0   \n",
            "363373            0            0            0            0            0   \n",
            "372733            0            0            0            0            0   \n",
            "572846            0            0            0            0            0   \n",
            "114145            0            0            0            0            0   \n",
            "\n",
            "        Soil_Type39  Soil_Type40  Cover_Type  \n",
            "152044            0            0           2  \n",
            "363373            0            1           1  \n",
            "372733            0            0           3  \n",
            "572846            0            0           2  \n",
            "114145            0            0           2  \n",
            "\n",
            "[5 rows x 55 columns]\n",
            "        Elevation    Aspect     Slope  Horizontal_Distance_To_Hydrology  \\\n",
            "204886   0.783394 -1.310245 -0.946867                          0.233185   \n",
            "116027  -0.903262 -1.006323 -0.679685                         -1.267860   \n",
            "328145  -0.270766 -1.095711 -0.278912                          0.379054   \n",
            "579670  -1.139108 -0.961628 -0.412503                          0.454342   \n",
            "41341    0.265247  0.736762 -1.347641                          2.708261   \n",
            "\n",
            "        Vertical_Distance_To_Hydrology  Horizontal_Distance_To_Roadways  \\\n",
            "204886                       -1.465554                         0.093026   \n",
            "116027                       -0.795646                        -0.611906   \n",
            "328145                        0.200626                        -0.948657   \n",
            "579670                        0.389574                        -0.772905   \n",
            "41341                         2.072931                         2.321998   \n",
            "\n",
            "        Hillshade_9am  Hillshade_Noon  Hillshade_3pm  \\\n",
            "204886      -0.006729        0.084203       0.221899   \n",
            "116027       0.367128       -0.168893      -0.274977   \n",
            "328145       0.217585       -0.472609      -0.301128   \n",
            "579670       0.441900       -0.421989      -0.510339   \n",
            "41341       -0.006729        1.045968       0.718775   \n",
            "\n",
            "        Horizontal_Distance_To_Fire_Points  ...  Soil_Type32  Soil_Type33  \\\n",
            "204886                            0.253368  ...            0            0   \n",
            "116027                            0.226194  ...            0            0   \n",
            "328145                           -0.330133  ...            0            0   \n",
            "579670                           -0.882685  ...            0            0   \n",
            "41341                             1.243735  ...            0            0   \n",
            "\n",
            "        Soil_Type34  Soil_Type35  Soil_Type36  Soil_Type37  Soil_Type38  \\\n",
            "204886            0            0            0            0            0   \n",
            "116027            0            0            0            0            0   \n",
            "328145            0            0            0            0            0   \n",
            "579670            0            0            0            0            0   \n",
            "41341             0            0            0            0            0   \n",
            "\n",
            "        Soil_Type39  Soil_Type40  Cover_Type  \n",
            "204886            0            0           1  \n",
            "116027            0            0           2  \n",
            "328145            0            0           2  \n",
            "579670            0            0           3  \n",
            "41341             0            0           2  \n",
            "\n",
            "[5 rows x 55 columns]\n"
          ]
        }
      ]
    },
    {
      "cell_type": "code",
      "source": [
        "model = tf.keras.Sequential([\n",
        "    tf.keras.layers.Dense(64, activation='relu', input_shape=(x_train.shape[1],)),\n",
        "    tf.keras.layers.Dense(64, activation='relu'),\n",
        "    tf.keras.layers.Dense(8, activation='softmax')                        \n",
        "])\n",
        "\n",
        "model.compile(optimizer=tf.keras.optimizers.Adam(0.001),\n",
        "              loss='sparse_categorical_crossentropy',\n",
        "              metrics=['accuracy'])\n",
        "\n",
        "history2 = model.fit(\n",
        "    x_train, y_train,\n",
        "    epochs=26, batch_size=60,\n",
        "    validation_data=(x_test, y_test)\n",
        ")"
      ],
      "metadata": {
        "colab": {
          "base_uri": "https://localhost:8080/"
        },
        "id": "fFlAzx8fL7zo",
        "outputId": "6f32802f-b6c0-4d12-f67c-0f2dd78487d2"
      },
      "execution_count": 40,
      "outputs": [
        {
          "output_type": "stream",
          "name": "stdout",
          "text": [
            "Epoch 1/26\n",
            "6779/6779 [==============================] - 23s 3ms/step - loss: 0.0288 - accuracy: 0.9921 - val_loss: 5.2528e-05 - val_accuracy: 1.0000\n",
            "Epoch 2/26\n",
            "6779/6779 [==============================] - 20s 3ms/step - loss: 4.2635e-04 - accuracy: 0.9999 - val_loss: 2.1300e-05 - val_accuracy: 1.0000\n",
            "Epoch 3/26\n",
            "6779/6779 [==============================] - 20s 3ms/step - loss: 3.5490e-04 - accuracy: 0.9999 - val_loss: 7.4242e-05 - val_accuracy: 1.0000\n",
            "Epoch 4/26\n",
            "6779/6779 [==============================] - 20s 3ms/step - loss: 2.2116e-04 - accuracy: 0.9999 - val_loss: 2.0263e-06 - val_accuracy: 1.0000\n",
            "Epoch 5/26\n",
            "6779/6779 [==============================] - 20s 3ms/step - loss: 7.4500e-05 - accuracy: 1.0000 - val_loss: 3.5120e-05 - val_accuracy: 1.0000\n",
            "Epoch 6/26\n",
            "6779/6779 [==============================] - 19s 3ms/step - loss: 2.3396e-04 - accuracy: 0.9999 - val_loss: 1.1179e-05 - val_accuracy: 1.0000\n",
            "Epoch 7/26\n",
            "6779/6779 [==============================] - 19s 3ms/step - loss: 2.6367e-04 - accuracy: 0.9999 - val_loss: 1.4336e-06 - val_accuracy: 1.0000\n",
            "Epoch 8/26\n",
            "6779/6779 [==============================] - 19s 3ms/step - loss: 2.6248e-06 - accuracy: 1.0000 - val_loss: 1.1817e-06 - val_accuracy: 1.0000\n",
            "Epoch 9/26\n",
            "6779/6779 [==============================] - 20s 3ms/step - loss: 1.6727e-04 - accuracy: 1.0000 - val_loss: 1.0881e-06 - val_accuracy: 1.0000\n",
            "Epoch 10/26\n",
            "6779/6779 [==============================] - 19s 3ms/step - loss: 1.6643e-04 - accuracy: 1.0000 - val_loss: 5.0987e-06 - val_accuracy: 1.0000\n",
            "Epoch 11/26\n",
            "6779/6779 [==============================] - 20s 3ms/step - loss: 1.0246e-04 - accuracy: 1.0000 - val_loss: 1.8928e-07 - val_accuracy: 1.0000\n",
            "Epoch 12/26\n",
            "6779/6779 [==============================] - 20s 3ms/step - loss: 9.0029e-05 - accuracy: 1.0000 - val_loss: 7.6746e-05 - val_accuracy: 1.0000\n",
            "Epoch 13/26\n",
            "6779/6779 [==============================] - 20s 3ms/step - loss: 1.8196e-04 - accuracy: 1.0000 - val_loss: 3.2001e-06 - val_accuracy: 1.0000\n",
            "Epoch 14/26\n",
            "6779/6779 [==============================] - 20s 3ms/step - loss: 4.9674e-05 - accuracy: 1.0000 - val_loss: 3.8058e-05 - val_accuracy: 1.0000\n",
            "Epoch 15/26\n",
            "6779/6779 [==============================] - 20s 3ms/step - loss: 2.4568e-04 - accuracy: 1.0000 - val_loss: 2.7183e-05 - val_accuracy: 1.0000\n",
            "Epoch 16/26\n",
            "6779/6779 [==============================] - 20s 3ms/step - loss: 2.1450e-05 - accuracy: 1.0000 - val_loss: 6.5009e-08 - val_accuracy: 1.0000\n",
            "Epoch 17/26\n",
            "6779/6779 [==============================] - 20s 3ms/step - loss: 1.5248e-04 - accuracy: 1.0000 - val_loss: 1.8156e-07 - val_accuracy: 1.0000\n",
            "Epoch 18/26\n",
            "6779/6779 [==============================] - 20s 3ms/step - loss: 2.9343e-04 - accuracy: 1.0000 - val_loss: 3.6278e-06 - val_accuracy: 1.0000\n",
            "Epoch 19/26\n",
            "6779/6779 [==============================] - 20s 3ms/step - loss: 2.8812e-07 - accuracy: 1.0000 - val_loss: 6.4451e-08 - val_accuracy: 1.0000\n",
            "Epoch 20/26\n",
            "6779/6779 [==============================] - 20s 3ms/step - loss: 2.4883e-08 - accuracy: 1.0000 - val_loss: 5.2223e-09 - val_accuracy: 1.0000\n",
            "Epoch 21/26\n",
            "6779/6779 [==============================] - 20s 3ms/step - loss: 1.6410e-04 - accuracy: 1.0000 - val_loss: 0.0250 - val_accuracy: 0.9947\n",
            "Epoch 22/26\n",
            "6779/6779 [==============================] - 20s 3ms/step - loss: 9.8495e-05 - accuracy: 1.0000 - val_loss: 7.1402e-07 - val_accuracy: 1.0000\n",
            "Epoch 23/26\n",
            "6779/6779 [==============================] - 20s 3ms/step - loss: 1.2110e-08 - accuracy: 1.0000 - val_loss: 7.5225e-08 - val_accuracy: 1.0000\n",
            "Epoch 24/26\n",
            "6779/6779 [==============================] - 20s 3ms/step - loss: 1.4204e-09 - accuracy: 1.0000 - val_loss: 7.2333e-09 - val_accuracy: 1.0000\n",
            "Epoch 25/26\n",
            "6779/6779 [==============================] - 20s 3ms/step - loss: 6.7571e-05 - accuracy: 1.0000 - val_loss: 4.6035e-08 - val_accuracy: 1.0000\n",
            "Epoch 26/26\n",
            "6779/6779 [==============================] - 20s 3ms/step - loss: 2.7704e-09 - accuracy: 1.0000 - val_loss: 9.9783e-10 - val_accuracy: 1.0000\n"
          ]
        }
      ]
    }
  ]
}